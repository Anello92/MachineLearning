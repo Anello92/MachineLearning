{
  "nbformat": 4,
  "nbformat_minor": 0,
  "metadata": {
    "colab": {
      "name": "Cap08-Arvore_Decisao-Prune.ipynb",
      "provenance": []
    },
    "kernelspec": {
      "name": "python3",
      "display_name": "Python 3"
    }
  },
  "cells": [
    {
      "cell_type": "code",
      "metadata": {
        "id": "b9k8mWm6acV_",
        "colab_type": "code",
        "colab": {}
      },
      "source": [
        "%load_ext rpy2.ipython"
      ],
      "execution_count": null,
      "outputs": []
    },
    {
      "cell_type": "markdown",
      "metadata": {
        "id": "XMzhLBDbtmBr",
        "colab_type": "text"
      },
      "source": [
        "#**<font color='brown'>Criando Árvore de Decisão a partir do dataset Titanic**"
      ]
    },
    {
      "cell_type": "markdown",
      "metadata": {
        "id": "8TJKvE9St_cT",
        "colab_type": "text"
      },
      "source": [
        "## Gerando Dataset\n",
        "\n"
      ]
    },
    {
      "cell_type": "code",
      "metadata": {
        "id": "dU0XNw0atl11",
        "colab_type": "code",
        "colab": {
          "base_uri": "https://localhost:8080/",
          "height": 141
        },
        "outputId": "6f9845f1-6cc0-4a9d-9cc1-dc8aa6ad7e17"
      },
      "source": [
        "%%R\n",
        "data(Titanic, package = \"datasets\") \n",
        "dataset <- as.data.frame(Titanic) \n",
        "#View(dataset)\n",
        "head(dataset)"
      ],
      "execution_count": 29,
      "outputs": [
        {
          "output_type": "stream",
          "text": [
            "  Class    Sex   Age Survived Freq\n",
            "1   1st   Male Child       No    0\n",
            "2   2nd   Male Child       No    0\n",
            "3   3rd   Male Child       No   35\n",
            "4  Crew   Male Child       No    0\n",
            "5   1st Female Child       No    0\n",
            "6   2nd Female Child       No    0\n"
          ],
          "name": "stdout"
        }
      ]
    },
    {
      "cell_type": "markdown",
      "metadata": {
        "id": "0D8ekRihuXUB",
        "colab_type": "text"
      },
      "source": [
        "##Carregando o pacote"
      ]
    },
    {
      "cell_type": "code",
      "metadata": {
        "id": "ywtCFwBGtlv5",
        "colab_type": "code",
        "colab": {}
      },
      "source": [
        "%%R\n",
        "install.packages(\"rpart\")\n",
        "library(rpart) "
      ],
      "execution_count": null,
      "outputs": []
    },
    {
      "cell_type": "markdown",
      "metadata": {
        "id": "ZLUtqKGjujwB",
        "colab_type": "text"
      },
      "source": [
        "##Criando o modelo"
      ]
    },
    {
      "cell_type": "code",
      "metadata": {
        "id": "TNdwBqBctltI",
        "colab_type": "code",
        "colab": {
          "base_uri": "https://localhost:8080/",
          "height": 266
        },
        "outputId": "8cfa0121-d17c-4561-d9c0-7366f503d272"
      },
      "source": [
        "%%R\n",
        "titanic_tree <- rpart(Survived ~ Class + Sex + Age, \n",
        "                      data = dataset, \n",
        "                      weights = Freq, # Coluna frequência como peso p/ definição dos nós de uma árvore\n",
        "                      method = \"class\", \n",
        "                      parms = list(split = \"information\"), \n",
        "                      control = rpart.control(minsplit = 5)) \n",
        "titanic_tree"
      ],
      "execution_count": 23,
      "outputs": [
        {
          "output_type": "stream",
          "text": [
            "n= 32 \n",
            "\n",
            "node), split, n, loss, yval, (yprob)\n",
            "      * denotes terminal node\n",
            "\n",
            " 1) root 32 711 No (0.6769650 0.3230350)  \n",
            "   2) Sex=Male 16 367 No (0.7879838 0.2120162)  \n",
            "     4) Age=Adult 8 338 No (0.7972406 0.2027594) *\n",
            "     5) Age=Child 8  29 No (0.5468750 0.4531250)  \n",
            "      10) Class=3rd 2  13 No (0.7291667 0.2708333) *\n",
            "      11) Class=1st,2nd 4   0 Yes (0.0000000 1.0000000) *\n",
            "   3) Sex=Female 16 126 Yes (0.2680851 0.7319149)  \n",
            "     6) Class=3rd 4  90 No (0.5408163 0.4591837) *\n",
            "     7) Class=1st,2nd,Crew 12  20 Yes (0.0729927 0.9270073) *\n"
          ],
          "name": "stdout"
        }
      ]
    },
    {
      "cell_type": "markdown",
      "metadata": {
        "id": "KIwJu-HMvEKk",
        "colab_type": "text"
      },
      "source": [
        "##Aplicando Prune"
      ]
    },
    {
      "cell_type": "code",
      "metadata": {
        "id": "6I3JgqJDtlqP",
        "colab_type": "code",
        "colab": {
          "base_uri": "https://localhost:8080/",
          "height": 195
        },
        "outputId": "1706532c-aac8-4294-8349-87a78803c3f4"
      },
      "source": [
        "%%R\n",
        "?prune\n",
        "pruned_titanic_tree <- prune(titanic_tree, cp = 0.02)\n",
        "pruned_titanic_tree"
      ],
      "execution_count": 24,
      "outputs": [
        {
          "output_type": "stream",
          "text": [
            "n= 32 \n",
            "\n",
            "node), split, n, loss, yval, (yprob)\n",
            "      * denotes terminal node\n",
            "\n",
            "1) root 32 711 No (0.6769650 0.3230350)  \n",
            "  2) Sex=Male 16 367 No (0.7879838 0.2120162) *\n",
            "  3) Sex=Female 16 126 Yes (0.2680851 0.7319149)  \n",
            "    6) Class=3rd 4  90 No (0.5408163 0.4591837) *\n",
            "    7) Class=1st,2nd,Crew 12  20 Yes (0.0729927 0.9270073) *\n"
          ],
          "name": "stdout"
        }
      ]
    },
    {
      "cell_type": "markdown",
      "metadata": {
        "id": "Uf9LvRtDvTmB",
        "colab_type": "text"
      },
      "source": [
        "## Carregando o pacote rpart.plot\n"
      ]
    },
    {
      "cell_type": "code",
      "metadata": {
        "id": "doAVEFbhvN1i",
        "colab_type": "code",
        "colab": {}
      },
      "source": [
        "%%R\n",
        "install.packages(\"rpart.plot\")\n",
        "library(rpart.plot) "
      ],
      "execution_count": null,
      "outputs": []
    },
    {
      "cell_type": "markdown",
      "metadata": {
        "id": "Z_jn2PeJvVaS",
        "colab_type": "text"
      },
      "source": [
        "#**<font color='red'>Imprimindo Árvore antes e depois do Prune**"
      ]
    },
    {
      "cell_type": "code",
      "metadata": {
        "id": "tv0SjRNbtlnh",
        "colab_type": "code",
        "colab": {
          "base_uri": "https://localhost:8080/",
          "height": 497
        },
        "outputId": "b59baa6a-62b1-4136-be09-9c5236fe50a7"
      },
      "source": [
        "%%R\n",
        "# Antes do Pruning\n",
        "prp(titanic_tree, type = 0, extra = 1, under = TRUE, compress = TRUE)"
      ],
      "execution_count": 26,
      "outputs": [
        {
          "output_type": "display_data",
          "data": {
            "image/png": "[encoded data removed]"
          },
          "metadata": {
            "tags": []
          }
        }
      ]
    },
    {
      "cell_type": "code",
      "metadata": {
        "id": "WE-b7Qxkvk2o",
        "colab_type": "code",
        "colab": {
          "base_uri": "https://localhost:8080/",
          "height": 497
        },
        "outputId": "ff261b59-14ff-48fb-fa29-6bbb0db34f9f"
      },
      "source": [
        "%%R\n",
        "# Depois do Pruning\n",
        "prp(pruned_titanic_tree, type = 0, extra = 1, under = TRUE, compress = TRUE)"
      ],
      "execution_count": 27,
      "outputs": [
        {
          "output_type": "display_data",
          "data": {
            "image/png": "[encoded data removed]"
          },
          "metadata": {
            "tags": []
          }
        }
      ]
    }
  ]
}