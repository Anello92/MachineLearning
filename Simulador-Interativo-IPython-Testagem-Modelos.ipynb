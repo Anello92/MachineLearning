{
 "cells": [
  {
   "cell_type": "markdown",
   "metadata": {},
   "source": [
    "<h1 style='color: green; font-size: 36px; font-weight: bold;'>Data Science - Regressão Linear</h1>"
   ]
  },
  {
   "cell_type": "markdown",
   "metadata": {},
   "source": [
    "# <font color='red' style='font-size: 30px;'>Bônus</font>\n",
    "<hr style='border: 2px solid red;'>"
   ]
  },
  {
   "cell_type": "markdown",
   "metadata": {},
   "source": [
    "## Importando nosso modelo"
   ]
  },
  {
   "cell_type": "code",
   "execution_count": 2,
   "metadata": {},
   "outputs": [
    {
     "name": "stdout",
     "output_type": "stream",
     "text": [
      "$ 46389.80\n"
     ]
    }
   ],
   "source": [
    "import pickle\n",
    "\n",
    "modelo = open('modelo_preço','rb')\n",
    "lm_new = pickle.load(modelo)\n",
    "modelo.close()\n",
    "\n",
    "area = 38\n",
    "garagem = 2\n",
    "banheiros = 4\n",
    "lareira = 4\n",
    "marmore = 0\n",
    "andares = 1\n",
    "\n",
    "entrada = [[area, garagem, banheiros, lareira, marmore, andares]]\n",
    "\n",
    "print('$ {0:.2f}'.format(lm_new.predict(entrada)[0]))"
   ]
  },
  {
   "cell_type": "markdown",
   "metadata": {},
   "source": [
    "## Exemplo de um simulador interativo para Jupyter\n",
    "\n",
    "https://ipywidgets.readthedocs.io/en/stable/index.html\n",
    "\n",
    "https://github.com/jupyter-widgets/ipywidgets"
   ]
  },
  {
   "cell_type": "code",
   "execution_count": 5,
   "metadata": {},
   "outputs": [],
   "source": [
    "# Importando bibliotecas\n",
    "from ipywidgets import widgets, HBox, VBox # Bibliotecas para criar componentes\n",
    "from IPython.display import display # Mostrar formulário com IPython\n",
    "\n",
    "# Criando os controles do formulário\n",
    "area =      widgets.Text(description=\"Área\")\n",
    "garagem =   widgets.Text(description=\"Garagem\")\n",
    "banheiros = widgets.Text(description=\"Banheiros\")\n",
    "lareira =   widgets.Text(description=\"Lareira\")\n",
    "marmore =   widgets.Text(description=\"Mármore?\")\n",
    "andares =   widgets.Text(description=\"Andares?\")\n",
    "\n",
    "botao = widgets.Button(description=\"Simular\")\n",
    "\n",
    "#------------------------------------------------------------------------\n",
    "\n",
    "# Posicionando os controles\n",
    "left = VBox([area, banheiros, marmore])   # caixa esquerda\n",
    "right = VBox([garagem, lareira, andares]) # caixa direita\n",
    "inputs = HBox([left, right]) # controlando a disposição das caixas\n",
    "\n",
    "#------------------------------------------------------------------------\n",
    "\n",
    "# Função de simulação\n",
    "def simulador(sender): # função para criar a simulação\n",
    "    entrada=[[         # variável entrada com valores de input\n",
    "                float(     area.value if area.value else 0), \n",
    "                float(  garagem.value if garagem.value else 0), \n",
    "                float(banheiros.value if banheiros.value else 0), \n",
    "                float(  lareira.value if lareira.value else 0), \n",
    "                float(  marmore.value if marmore.value else 0), \n",
    "                float(  andares.value if andares.value else 0)\n",
    "             ]]\n",
    "    \n",
    "    \n",
    "    print('$ {0:.2f}'.format(lm_new.predict(entrada)[0]))\n",
    "    \n",
    "# Atribuindo a função \"simulador\" ao evento click do botão\n",
    "botao.on_click(simulador)    "
   ]
  },
  {
   "cell_type": "code",
   "execution_count": 4,
   "metadata": {},
   "outputs": [
    {
     "data": {
      "application/vnd.jupyter.widget-view+json": {
       "model_id": "6dddba47e52f4efc866f53335ad6cafa",
       "version_major": 2,
       "version_minor": 0
      },
      "text/plain": [
       "HBox(children=(VBox(children=(Text(value='', description='Área'), Text(value='', description='Banheiros'), Tex…"
      ]
     },
     "metadata": {},
     "output_type": "display_data"
    },
    {
     "data": {
      "application/vnd.jupyter.widget-view+json": {
       "model_id": "592a5e3a93e4451e9736e57d078a9a76",
       "version_major": 2,
       "version_minor": 0
      },
      "text/plain": [
       "Button(description='Simular', style=ButtonStyle())"
      ]
     },
     "metadata": {},
     "output_type": "display_data"
    },
    {
     "name": "stdout",
     "output_type": "stream",
     "text": [
      "$ 309468.69\n",
      "$ 19186.26\n"
     ]
    }
   ],
   "source": [
    "display(inputs, botao)"
   ]
  },
  {
   "cell_type": "code",
   "execution_count": null,
   "metadata": {},
   "outputs": [],
   "source": [
    "# Importando bibliotecas\n",
    "from ipywidgets import widgets, HBox, VBox\n",
    "from IPython.display import display\n",
    "\n",
    "# Criando os controles do formulário\n",
    "nome = widgets.Text(description=\"Nome\")\n",
    "idade = widgets.Text(description=\"Idade\")\n",
    "sexo = widgets.RadioButtons(options=['Masculino', 'Feminino'], description=\"Sexo\") # radioButtons\n",
    "peso = widgets.Text(description=\"Peso\")\n",
    "botao = widgets.Button(description=\"OK\")\n",
    "\n",
    "# Posicionando os controles\n",
    "left = VBox([nome, idade])\n",
    "right = VBox([peso, sexo])\n",
    "inputs = HBox([left, right])\n",
    "\n",
    "# Mostrando o formulário\n",
    "display(inputs, botao)\n",
    "\n",
    "Alternativa correta! Atenção para o método RadioButtons(), que nos permite oferecer várias opções, com a possibili"
   ]
  }
 ],
 "metadata": {
  "kernelspec": {
   "display_name": "Python 3",
   "language": "python",
   "name": "python3"
  },
  "language_info": {
   "codemirror_mode": {
    "name": "ipython",
    "version": 3
   },
   "file_extension": ".py",
   "mimetype": "text/x-python",
   "name": "python",
   "nbconvert_exporter": "python",
   "pygments_lexer": "ipython3",
   "version": "3.7.6"
  }
 },
 "nbformat": 4,
 "nbformat_minor": 2
}
