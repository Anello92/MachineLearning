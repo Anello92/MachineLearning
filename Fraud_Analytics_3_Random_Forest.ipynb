{
  "nbformat": 4,
  "nbformat_minor": 0,
  "metadata": {
    "colab": {
      "name": "Fraud_Analytics_3_Random_Forest.ipynb",
      "provenance": []
    },
    "kernelspec": {
      "name": "python3",
      "display_name": "Python 3"
    }
  },
  "cells": [
    {
      "cell_type": "markdown",
      "metadata": {
        "id": "attvyU0WNK2i",
        "colab_type": "text"
      },
      "source": [
        "#**Fraud Analytics - RandomForest**\n",
        "\n",
        "RandomForest, SVM, Redes Neurais, CART, Boosted Tree e KNN, são **modelos não-lineares** mais sofisticados. \n",
        "\n",
        "Normalmente esses modelos **apresentam um desempenho ligeiramente melhor do que a regressão logística**(modelo linear)."
      ]
    },
    {
      "cell_type": "code",
      "metadata": {
        "id": "WbHuwjh4M7KH",
        "colab_type": "code",
        "colab": {}
      },
      "source": [
        "# activate R magic\n",
        "%load_ext rpy2.ipython"
      ],
      "execution_count": null,
      "outputs": []
    },
    {
      "cell_type": "markdown",
      "metadata": {
        "id": "elnNWBOCNPcu",
        "colab_type": "text"
      },
      "source": [
        "A experiência mostra que a formação de **Redes Neurais e Modelos de randomForest** são, geralmente, mais eficientes quando as variáveis numéricas independentes são **escaladas ou normalizadas**, de modo que suas magnitudes são relativamente semelhantes. \n",
        "\n",
        "**A normalização ajuda o SVM a funcionar melhor**, já que todos os recursos têm aproximadamente a mesma magnitude (já que não assumimos que alguns recursos são muito mais importantes do que outros). \n",
        "\n",
        "Por esta razão, **dimensionamos os dados que alimentamos nos modelos e colocamos todos na mesma escala**. \n"
      ]
    },
    {
      "cell_type": "code",
      "metadata": {
        "id": "O45fXIpuM64W",
        "colab_type": "code",
        "colab": {}
      },
      "source": [
        "%%R\n",
        "# Pacotes\n",
        "install.packages(\"randomForest\") # usar modelo Rendom Forest\n",
        "install.packages(\"dplyr\") # combinações\n",
        "install.packages(\"rpart\") # funções\n",
        "install.packages(\"ROCR\") # especificamente função prediction p/ confusion matrix\n",
        "\n",
        "library(randomForest) \n",
        "library(dplyr)\n",
        "library(rpart) \n",
        "library(ROCR) "
      ],
      "execution_count": null,
      "outputs": []
    },
    {
      "cell_type": "markdown",
      "metadata": {
        "id": "kETUVowBO333",
        "colab_type": "text"
      },
      "source": [
        "##**Carregando datasets**"
      ]
    },
    {
      "cell_type": "code",
      "metadata": {
        "id": "KsyL74MIM61o",
        "colab_type": "code",
        "colab": {}
      },
      "source": [
        "%%R\n",
        "treino = read.csv(\"dados_treino.csv\", header = T)\n",
        "teste = read.csv(\"dados_teste.csv\")\n",
        "validate = read.csv(\"dados_validate.csv\")"
      ],
      "execution_count": 9,
      "outputs": []
    },
    {
      "cell_type": "markdown",
      "metadata": {
        "id": "bmm1hhTUPC9w",
        "colab_type": "text"
      },
      "source": [
        "##**Carregando amostras**"
      ]
    },
    {
      "cell_type": "code",
      "metadata": {
        "id": "p6GRhkoTM6y3",
        "colab_type": "code",
        "colab": {}
      },
      "source": [
        "%%R\n",
        "amostra1 = read.csv(\"amostra_1.csv\")\n",
        "amostra3 = read.csv(\"amostra_3.csv\")\n",
        "amostra5 = read.csv(\"amostra_5.csv\")\n",
        "amostra7 = read.csv(\"amostra_7.csv\")\n",
        "amostra10 = read.csv(\"amostra_10.csv\")"
      ],
      "execution_count": 10,
      "outputs": []
    },
    {
      "cell_type": "markdown",
      "metadata": {
        "id": "uAa7ueVNPKAA",
        "colab_type": "text"
      },
      "source": [
        "##**Calcular o FDR @3%** - Precisão altíssima p/ detecção de fraude"
      ]
    },
    {
      "cell_type": "code",
      "metadata": {
        "id": "3G_dxOVHR6Zi",
        "colab_type": "code",
        "colab": {}
      },
      "source": [
        "# Para detecção de fraude, bom desempenho significa:\n",
        "\n",
        "# Alta taxa de detecção (verdadeiros positivos), ou seja, quantos casos de fraude podem ser detectados corretamente.\n",
        "# Baixa taxa de falsos positivos, isto é, com que frequência um caso de não fraude é falsamente detectado como fraude.\n",
        "\n",
        "# Nós calculamos taxa de detecção de fraude (Fraud Detection Rate - FDR) para cada modelo, a fim de saber qual deles executa melhor. \n",
        "# Depois de executar cada modelo, obtemos uma probabilidade, que usamos como pontuação, para cada registro.\n",
        "\n",
        "# Nós classificamos os registros por probabilidade do maior para o menor e escolhemos top 3% (FDR @3%).\n",
        "\n",
        "# Fórmula do FDR @3% = (label = 1 @3%) / (label = 1 @treino/Teste)\n",
        "        # label = 1 fraude\n",
        "\n",
        "# Aplicamos o mesmo método a todos os modelos e comparamos nossos modelos com base nos FDR @ 3%,e fizemos comparações separadas para nossos modelos com RandomForest e Redes Neurais \n",
        "# (outros modelos poderiam ser usados).\n",
        "\n",
        "# Os modelos não-lineares seguem o padrão esperado, com treinamento e teste praticamente o mesmo e validação ligeiramente menor. \n",
        "\n",
        "# O próximo passo é selecionar o modelo não-linear com melhor desempenho.\n",
        "\n",
        "# FDR @3% é apenas um aspecto de testar a eficácia dos modelos. \n",
        "\n",
        "# Para melhorias, podemos estudar mais sobre os registros que são rotulados como fraude, tentando encontrar o padrão oculto por trás deles e\n",
        "# detectar a melhores variáveis para teste de modelo.\n"
      ],
      "execution_count": null,
      "outputs": []
    },
    {
      "cell_type": "markdown",
      "metadata": {
        "id": "DFufJ8lGSNIO",
        "colab_type": "text"
      },
      "source": [
        "##**Random Forest - Modelo 1**"
      ]
    },
    {
      "cell_type": "markdown",
      "metadata": {
        "id": "Eg_tCBCPScxR",
        "colab_type": "text"
      },
      "source": [
        "## Teste = 0.321\n",
        "## Validação = 0.219"
      ]
    },
    {
      "cell_type": "code",
      "metadata": {
        "id": "UN3dUKLeM6wN",
        "colab_type": "code",
        "colab": {}
      },
      "source": [
        "%%R\n",
        "# Modelo 1 - amostra1\n",
        "rf.fit = randomForest(label~., \n",
        "                      data = amostra1[,-1], \n",
        "                      mtry = 5, \n",
        "                      ntree = 10, )"
      ],
      "execution_count": 11,
      "outputs": []
    },
    {
      "cell_type": "code",
      "metadata": {
        "id": "-8oef0wlSlFz",
        "colab_type": "code",
        "colab": {}
      },
      "source": [
        "%%R\n",
        "table(rf.fit$predicted)"
      ],
      "execution_count": null,
      "outputs": []
    },
    {
      "cell_type": "code",
      "metadata": {
        "id": "9c6WyE0xM6te",
        "colab_type": "code",
        "colab": {}
      },
      "source": [
        "%%R\n",
        "table(amostra1$label)"
      ],
      "execution_count": null,
      "outputs": []
    },
    {
      "cell_type": "code",
      "metadata": {
        "id": "M0wFZQgxTCa6",
        "colab_type": "code",
        "colab": {}
      },
      "source": [
        "%%R\n",
        "?predict"
      ],
      "execution_count": null,
      "outputs": []
    },
    {
      "cell_type": "code",
      "metadata": {
        "id": "66_OSlecTE5j",
        "colab_type": "code",
        "colab": {}
      },
      "source": [
        "%%R\n",
        "rf.preds = predict(rf.fit, newdata = teste)"
      ],
      "execution_count": 12,
      "outputs": []
    },
    {
      "cell_type": "code",
      "metadata": {
        "id": "bSIHvxaeTE2M",
        "colab_type": "code",
        "colab": {}
      },
      "source": [
        "%%R\n",
        "?prediction"
      ],
      "execution_count": null,
      "outputs": []
    },
    {
      "cell_type": "code",
      "metadata": {
        "id": "xwkO32SpTEzf",
        "colab_type": "code",
        "colab": {}
      },
      "source": [
        "%%R\n",
        "rf.pred = prediction(rf.preds, teste$label) "
      ],
      "execution_count": 13,
      "outputs": []
    },
    {
      "cell_type": "code",
      "metadata": {
        "id": "cbNAO-ghTEdr",
        "colab_type": "code",
        "colab": {}
      },
      "source": [
        "%%R\n",
        "a = data.frame(rf.preds, rf.pred@labels)"
      ],
      "execution_count": 14,
      "outputs": []
    },
    {
      "cell_type": "code",
      "metadata": {
        "id": "_1lE9ZJATRl8",
        "colab_type": "code",
        "colab": {
          "base_uri": "https://localhost:8080/",
          "height": 134
        },
        "outputId": "ea1cb039-b983-42d2-dac0-a0a6d7bca7d8"
      },
      "source": [
        "%%R\n",
        "head(a)"
      ],
      "execution_count": 15,
      "outputs": [
        {
          "output_type": "stream",
          "text": [
            "  rf.preds structure.c.1L..1L..1L..1L..1L..1L..1L..1L..1L..1L..1L..1L..1L..\n",
            "1    0.100                                                                0\n",
            "2    0.100                                                                0\n",
            "3    0.025                                                                0\n",
            "4    0.100                                                                0\n",
            "5    0.100                                                                0\n",
            "6    0.175                                                                0\n"
          ],
          "name": "stdout"
        }
      ]
    },
    {
      "cell_type": "code",
      "metadata": {
        "id": "dstumiYbTRiL",
        "colab_type": "code",
        "colab": {}
      },
      "source": [
        "%%R\n",
        "colnames(a) = c(\"prob\",\"label\")"
      ],
      "execution_count": 16,
      "outputs": []
    },
    {
      "cell_type": "code",
      "metadata": {
        "id": "D_NBSNF4TRgD",
        "colab_type": "code",
        "colab": {
          "base_uri": "https://localhost:8080/",
          "height": 134
        },
        "outputId": "f0425a78-1ad9-4511-f656-ae3ae574220e"
      },
      "source": [
        "%%R\n",
        "b1 = a %>% arrange(desc(prob)) %>% head(round(nrow(a)*0.03)) # Calcula do FDR @3%\n",
        "head(b1)"
      ],
      "execution_count": 17,
      "outputs": [
        {
          "output_type": "stream",
          "text": [
            "     prob label\n",
            "3801    1     0\n",
            "4013    1     0\n",
            "4509    1     0\n",
            "4576    1     0\n",
            "4603    1     0\n",
            "4615    1     0\n"
          ],
          "name": "stdout"
        }
      ]
    },
    {
      "cell_type": "code",
      "metadata": {
        "id": "Ytf3bTO3TRc5",
        "colab_type": "code",
        "colab": {
          "base_uri": "https://localhost:8080/",
          "height": 33
        },
        "outputId": "0e40ee1b-1590-4966-f6d6-86bf639bc652"
      },
      "source": [
        "%%R\n",
        "nrow(b1[b1$label==1,])/nrow(teste[teste$label==1,])          # Calcula do FDR @3%"
      ],
      "execution_count": 18,
      "outputs": [
        {
          "output_type": "stream",
          "text": [
            "[1] 0.2574468\n"
          ],
          "name": "stdout"
        }
      ]
    },
    {
      "cell_type": "code",
      "metadata": {
        "id": "ew1x5ZmuTq7s",
        "colab_type": "code",
        "colab": {}
      },
      "source": [
        "%%R\n",
        "write.csv(a,\"amostra1_predict.csv\")"
      ],
      "execution_count": 20,
      "outputs": []
    },
    {
      "cell_type": "markdown",
      "metadata": {
        "id": "H7eThqkxTuXO",
        "colab_type": "text"
      },
      "source": [
        "##**Validação**"
      ]
    },
    {
      "cell_type": "code",
      "metadata": {
        "id": "T7svmCvBT1yY",
        "colab_type": "code",
        "colab": {}
      },
      "source": [
        "%%R\n",
        "rf.valids = predict(rf.fit, newdata = validate)"
      ],
      "execution_count": 21,
      "outputs": []
    },
    {
      "cell_type": "code",
      "metadata": {
        "id": "YnVXcyILT1vO",
        "colab_type": "code",
        "colab": {}
      },
      "source": [
        "%%R\n",
        "rf.valid = prediction(rf.valids, validate$label)"
      ],
      "execution_count": 22,
      "outputs": []
    },
    {
      "cell_type": "code",
      "metadata": {
        "id": "W6uWtEI-T1s1",
        "colab_type": "code",
        "colab": {}
      },
      "source": [
        "%%R\n",
        "c = data.frame(rf.valids, rf.valid@labels)"
      ],
      "execution_count": 23,
      "outputs": []
    },
    {
      "cell_type": "code",
      "metadata": {
        "id": "fgSIMdIdT1qf",
        "colab_type": "code",
        "colab": {}
      },
      "source": [
        "%%R\n",
        "colnames(c) = c(\"prob\",\"label\")"
      ],
      "execution_count": 25,
      "outputs": []
    },
    {
      "cell_type": "code",
      "metadata": {
        "id": "aWVDnKysT1nV",
        "colab_type": "code",
        "colab": {}
      },
      "source": [
        "%%R\n",
        "d1 = c %>% arrange(desc(prob)) %>% head(round(nrow(c)*0.03))  # Calcula do FDR @3%"
      ],
      "execution_count": 26,
      "outputs": []
    },
    {
      "cell_type": "code",
      "metadata": {
        "id": "Kbg7T-vJUQF2",
        "colab_type": "code",
        "colab": {
          "base_uri": "https://localhost:8080/",
          "height": 33
        },
        "outputId": "db7b6adf-598c-418d-db9e-bec61ca3cb43"
      },
      "source": [
        "%%R\n",
        "nrow(d1[d1$label==1,])/nrow(validate[validate$label==1,])     # Calcula do FDR @3%"
      ],
      "execution_count": 27,
      "outputs": [
        {
          "output_type": "stream",
          "text": [
            "[1] 0.1327434\n"
          ],
          "name": "stdout"
        }
      ]
    },
    {
      "cell_type": "code",
      "metadata": {
        "id": "z4j0HwsYUQCm",
        "colab_type": "code",
        "colab": {}
      },
      "source": [
        "%%R\n",
        "write.csv(c,\"amostra1_validate.csv\")"
      ],
      "execution_count": 28,
      "outputs": []
    },
    {
      "cell_type": "markdown",
      "metadata": {
        "id": "4WNJo8NNUWUU",
        "colab_type": "text"
      },
      "source": [
        "#**Random Forest - Modelo**\n",
        " \n",
        "##Teste = 0.374\n",
        "\n",
        "##Validação = 0.204"
      ]
    },
    {
      "cell_type": "markdown",
      "metadata": {
        "id": "aHNPaw9eUWTH",
        "colab_type": "text"
      },
      "source": [
        "##**Repetição**"
      ]
    },
    {
      "cell_type": "code",
      "metadata": {
        "id": "Uspqz9A7M6q2",
        "colab_type": "code",
        "colab": {}
      },
      "source": [
        " #------------------------ Random Forest - Modelo 2 -------------------------------------------------\n",
        "# Teste = 0.374\n",
        "# Validação = 0.204\n",
        "\n",
        "# Modelo 2 - amostra3\n",
        "rf.fit = randomForest(label~., data = amostra3[,-1], mtry = 5, ntree = 1000, importance = TRUE) \n",
        "table(rf.fit$predicted)\n",
        "table(amostra3$label)\n",
        "\n",
        "# Teste\n",
        "rf.preds = predict(rf.fit, newdata = teste)\n",
        "rf.pred = prediction(rf.preds, teste$label)\n",
        "a = data.frame(rf.preds, rf.pred@labels)\n",
        "colnames(a) = c(\"prob\",\"label\")\n",
        "b3 = a %>% arrange(desc(prob)) %>% head(round(nrow(a)*0.03))\n",
        "nrow(b3[b3$label==1,])/nrow(teste[teste$label==1,])\n",
        "write.csv(a,\"amostra3_predict.csv\")\n",
        "\n",
        "# Validação\n",
        "rf.valids = predict(rf.fit, newdata = validate)\n",
        "rf.valid = prediction(rf.valids, validate$label) \n",
        "c = data.frame(rf.valids, rf.valid@labels)\n",
        "colnames(c) = c(\"prob\",\"label\")\n",
        "d3 = c %>% arrange(desc(prob)) %>% head(round(nrow(c)*0.03))\n",
        "nrow(d3[d3$label==1,])/nrow(validate[validate$label==1,])\n",
        "write.csv(c,\"amostra3_validate.csv\")\n",
        "\n",
        "#------------------------ Random Forest - Modelo 3 -----------------------------------------------\n",
        "# Teste = 0.419\n",
        "# Validação = 0.231\n",
        "\n",
        "# Modelo 3 - amostra5\n",
        "rf.fit = randomForest(label~., data = amostra5[,-1], mtry = 5, ntree = 1000, importance = TRUE) \n",
        "table(rf.fit$predicted)\n",
        "table(amostra5$label)\n",
        "\n",
        "# Teste\n",
        "rf.preds = predict(rf.fit, newdata = teste)\n",
        "rf.pred = prediction(rf.preds, teste$label)\n",
        "a = data.frame(rf.preds, rf.pred@labels)\n",
        "colnames(a) = c(\"prob\",\"label\")\n",
        "b5 = a %>% arrange(desc(prob)) %>% head(round(nrow(a)*0.03))\n",
        "nrow(b5[b5$label==1,])/nrow(teste[teste$label==1,])\n",
        "write.csv(a,\"amostra5_predict.csv\")\n",
        "\n",
        "# Validação\n",
        "rf.valids = predict(rf.fit, newdata = validate) \n",
        "rf.valid = prediction(rf.valids, validate$label) \n",
        "c = data.frame(rf.valids,rf.valid@labels)\n",
        "colnames(c) = c(\"prob\",\"label\")\n",
        "d5 = c %>% arrange(desc(prob)) %>% head(round(nrow(c)*0.03))\n",
        "nrow(d5[d5$label==1,])/nrow(validate[validate$label==1,])\n",
        "write.csv(c,\"amostra5_validate.csv\")\n",
        "\n",
        "#------------------------ Random Forest - Modelo 4 ------------------------------------------------\n",
        "# Teste = 0.423\n",
        "# Validação = 0.238\n",
        "\n",
        "# Modelo 4 - amostra7\n",
        "rf.fit = randomForest(label~.,data = amostra7[,-1], mtry = 5, ntree = 1000, importance = TRUE) \n",
        "table(rf.fit$predicted)\n",
        "table(amostra7$label)\n",
        "\n",
        "# Teste\n",
        "rf.preds = predict(rf.fit, newdata = teste)\n",
        "rf.pred = prediction(rf.preds, teste$label)\n",
        "a = data.frame(rf.preds, rf.pred@labels)\n",
        "colnames(a) = c(\"prob\",\"label\")\n",
        "b7 = a %>% arrange(desc(prob)) %>% head(round(nrow(a)*0.03))\n",
        "nrow(b7[b7$label==1,])/nrow(teste[teste$label==1,])\n",
        "write.csv(a,\"amostra7_predict.csv\")\n",
        "\n",
        "# b7_10 = a %>% arrange(desc(prob)) %>% head(round(nrow(a)*0.1))\n",
        "# nrow(b7_10[b7_10$label==1,])/nrow(teste[teste$label==1,])\n",
        "# b7_20 = a %>% arrange(desc(prob)) %>% head(round(nrow(a)*0.2))\n",
        "# nrow(b7_20[b7_20$label==1,])/nrow(teste[teste$label==1,])\n",
        "\n",
        "# Validação\n",
        "rf.valids = predict(rf.fit, newdata = validate)\n",
        "rf.valid = prediction(rf.valids, validate$label) \n",
        "c = data.frame(rf.valids, rf.valid@labels)\n",
        "colnames(c) = c(\"prob\",\"label\")\n",
        "d7 = c %>% arrange(desc(prob)) %>% head(round(nrow(c)*0.03))\n",
        "nrow(d7[d7$label==1,])/nrow(validate[validate$label==1,])\n",
        "write.csv(c,\"amostra7_validate.csv\")\n",
        "\n",
        "# d7_10 = c %>% arrange(desc(prob)) %>% head(round(nrow(c)*0.1))\n",
        "# nrow(d7_10[d7_10$label==1,])/nrow(validate[validate$label==1,])\n",
        "# vd7_20 = c %>% arrange(desc(prob)) %>% head(round(nrow(c)*0.2))\n",
        "# nrow(d7_20[d7_20$label==1,])/nrow(validate[validate$label==1,])\n",
        "\n",
        "#------------------------ Random Forest - Modelo 5 -----------------------------------------------\n",
        "# Teste = 0.434\n",
        "# Validação = 0.245\n",
        "\n",
        "# Modelo 5 - amostra10\n",
        "rf.fit = randomForest(label~.,data = amostra10[,-1], mtry = 5, ntree = 1000, importance = TRUE) \n",
        "table(rf.fit$predicted)\n",
        "table(amostra10$label)\n",
        "\n",
        "# Teste\n",
        "rf.preds = predict(rf.fit, newdata = teste)\n",
        "rf.pred = prediction(rf.preds, teste$label)\n",
        "a = data.frame(rf.preds, rf.pred@labels)\n",
        "colnames(a) = c(\"prob\",\"label\")\n",
        "b10 = a %>% arrange(desc(prob)) %>% head(round(nrow(a)*0.03))\n",
        "nrow(b10[b10$label==1,])/nrow(teste[teste$label==1,])\n",
        "write.csv(a,\"amostra10_predict.csv\")\n",
        "\n",
        "# Validação\n",
        "rf.valids = predict(rf.fit, newdata = validate)\n",
        "rf.valid = prediction(rf.valids, validate$label) \n",
        "c = data.frame(rf.valids, rf.valid@labels)\n",
        "colnames(c) = c(\"prob\",\"label\")\n",
        "d10 = c %>% arrange(desc(prob)) %>% head(round(nrow(c)*0.03))\n",
        "nrow(d10[d10$label==1,])/nrow(validate[validate$label==1,])\n",
        "write.csv(c,\"amostra10_validate.csv\")\n",
        "\n",
        "#------------------------ Random Forest - Treino ----------------------------------------------------\n",
        "# Teste = 0.427\n",
        "# Validação = 0.271\n",
        "\n",
        "# Modelo 6 - dados de treino\n",
        "rf.fit = randomForest(label~., data = treino[,-1], mtry = 5, ntree = 1000, importance = TRUE) \n",
        "table(rf.fit$predicted)\n",
        "table(treino$label)\n",
        "\n",
        "# Teste\n",
        "rf.preds = predict(rf.fit, newdata = teste)\n",
        "rf.pred = prediction(rf.preds, teste$label)\n",
        "a = data.frame(rf.preds, rf.pred@labels)\n",
        "colnames(a) = c(\"prob\",\"label\")\n",
        "b = a %>% arrange(desc(prob)) %>% head(round(nrow(a)*0.03))\n",
        "nrow(b[b$label==1,])/nrow(teste[teste$label==1,])\n",
        "write.csv(a,\"treino_predict.csv\")\n",
        "\n",
        "# Validação\n",
        "rf.valids = predict(rf.fit, newdata = validate)\n",
        "rf.valid = prediction(rf.valids, validate$label) \n",
        "c = data.frame(rf.valids,rf.valid@labels)\n",
        "colnames(c) = c(\"prob\",\"label\")\n",
        "d = c %>% arrange(desc(prob)) %>% head(round(nrow(c)*0.03))\n",
        "nrow(d[d$label==1,])/nrow(validate[validate$label==1,])\n",
        "write.csv(c,\"treino_validate.csv\")"
      ],
      "execution_count": null,
      "outputs": []
    }
  ]
}