{
  "nbformat": 4,
  "nbformat_minor": 0,
  "metadata": {
    "colab": {
      "name": "Cap11-Machine-Learning-Regressão-Depesas-Medicas.ipynb",
      "provenance": []
    },
    "kernelspec": {
      "name": "python3",
      "display_name": "Python 3"
    }
  },
  "cells": [
    {
      "cell_type": "code",
      "metadata": {
        "id": "659EGVz5DGGX",
        "colab_type": "code",
        "colab": {}
      },
      "source": [
        "# activate R magic\n",
        "%load_ext rpy2.ipython"
      ],
      "execution_count": 0,
      "outputs": []
    },
    {
      "cell_type": "markdown",
      "metadata": {
        "id": "rzzNXgPcDLaO",
        "colab_type": "text"
      },
      "source": [
        "#**Machine Learning - Regressão**\n",
        "## Problema de Negócio: Previsão de Despesas Hospitalares\n",
        "\n",
        "\n",
        "\n",
        "*   Clínicas Médicas\n",
        "*   Planos de Saúde\n",
        "*   Empresas Fornecedoras de Planos\n",
        "\n",
        "\n",
        "\n",
        "\n"
      ]
    },
    {
      "cell_type": "markdown",
      "metadata": {
        "id": "NrJgm5ThDfyO",
        "colab_type": "text"
      },
      "source": [
        "Para esta análise, vamos usar um conjunto de dados simulando despesas médicas hipotéticas \n",
        "para um conjunto de pacientes espalhados por 4 regiões do Brasil.\n",
        "\n",
        "Esse dataset possui 1.338 observações e 7 variáveis.\n"
      ]
    },
    {
      "cell_type": "markdown",
      "metadata": {
        "id": "zLE5QPYlOr_8",
        "colab_type": "text"
      },
      "source": [
        "---"
      ]
    },
    {
      "cell_type": "markdown",
      "metadata": {
        "id": "_wQS_ujxOyRn",
        "colab_type": "text"
      },
      "source": [
        "Para que possamos criar um **Modelo Preditivo** precisamos de dados históricos para alimentar e ensinar o modelo com o que já aconteceu no passado para que ele possa encontrar a formulação matemática que representa a **relação entre as variáveis de entrada** e depois ser capaz de fazer **previsões de saída**.\n",
        "\n"
      ]
    },
    {
      "cell_type": "markdown",
      "metadata": {
        "id": "2EuAtfo9Dw0d",
        "colab_type": "text"
      },
      "source": [
        "##**Etapa 1 - Coletando dados**"
      ]
    },
    {
      "cell_type": "code",
      "metadata": {
        "id": "wxMMmkJ4DOZs",
        "colab_type": "code",
        "colab": {
          "base_uri": "https://localhost:8080/",
          "height": 141
        },
        "outputId": "af9e8b93-62fe-43ae-e9e7-ab4a38a72454"
      },
      "source": [
        "%%R\n",
        "  despesas <- read.csv(\"despesas.csv\")\n",
        "  head(despesas)"
      ],
      "execution_count": 13,
      "outputs": [
        {
          "output_type": "stream",
          "text": [
            "  idade   sexo  bmi filhos fumante   regiao   gastos\n",
            "1    19 mulher 27.9      0     sim  sudeste 16884.92\n",
            "2    18  homem 33.8      1     nao      sul  1725.55\n",
            "3    28  homem 33.0      3     nao      sul  4449.46\n",
            "4    33  homem 22.7      0     nao nordeste 21984.47\n",
            "5    32  homem 28.9      0     nao nordeste  3866.86\n",
            "6    31 mulher 25.7      0     nao      sul  3756.62\n"
          ],
          "name": "stdout"
        }
      ]
    },
    {
      "cell_type": "markdown",
      "metadata": {
        "id": "3QgPo7b8ShLQ",
        "colab_type": "text"
      },
      "source": [
        "---"
      ]
    },
    {
      "cell_type": "markdown",
      "metadata": {
        "id": "I5wHhC0hD7Pw",
        "colab_type": "text"
      },
      "source": [
        "##**Etapa 2 - Explorando e Prepaparando os Dados**"
      ]
    },
    {
      "cell_type": "markdown",
      "metadata": {
        "id": "TZNVcqDZEZWe",
        "colab_type": "text"
      },
      "source": [
        "### Visualizando as variáveis do dataset"
      ]
    },
    {
      "cell_type": "code",
      "metadata": {
        "id": "SjnJko4dEBLG",
        "colab_type": "code",
        "colab": {
          "base_uri": "https://localhost:8080/",
          "height": 159
        },
        "outputId": "23a798b9-584c-455c-86b7-11f0231cce32"
      },
      "source": [
        "%%R\n",
        "  str(despesas)\n",
        "  # variáveis categóricas datases\n",
        "  # fator sexo 2\n",
        "  # fator fumante 2\n",
        "  # fator região 4"
      ],
      "execution_count": 14,
      "outputs": [
        {
          "output_type": "stream",
          "text": [
            "'data.frame':\t1338 obs. of  7 variables:\n",
            " $ idade  : int  19 18 28 33 32 31 46 37 37 60 ...\n",
            " $ sexo   : Factor w/ 2 levels \"homem\",\"mulher\": 2 1 1 1 1 2 2 2 1 2 ...\n",
            " $ bmi    : num  27.9 33.8 33 22.7 28.9 25.7 33.4 27.7 29.8 25.8 ...\n",
            " $ filhos : int  0 1 3 0 0 0 1 3 2 0 ...\n",
            " $ fumante: Factor w/ 2 levels \"nao\",\"sim\": 2 1 1 1 1 1 1 1 1 1 ...\n",
            " $ regiao : Factor w/ 4 levels \"nordeste\",\"norte\",..: 3 4 4 1 1 4 4 1 2 1 ...\n",
            " $ gastos : num  16885 1726 4449 21984 3867 ...\n"
          ],
          "name": "stdout"
        }
      ]
    },
    {
      "cell_type": "markdown",
      "metadata": {
        "id": "PFuY7TLeEI9s",
        "colab_type": "text"
      },
      "source": [
        "### Médias de Tendência Central da variável **Gastos**, **Variável Alvo** que desejamos prever.\n",
        "\n",
        "###**Variáveis Preditoras Independentes** são: idade, sexo, bmi, filhos, fumante, e regiao."
      ]
    },
    {
      "cell_type": "code",
      "metadata": {
        "id": "9oQh5CThEOby",
        "colab_type": "code",
        "colab": {
          "base_uri": "https://localhost:8080/",
          "height": 52
        },
        "outputId": "179e9af9-c43a-46b6-9f55-7d5a5d6a66df"
      },
      "source": [
        "%%R # O valor dos gastos médicos dependem das demais variáveis\n",
        "  summary(despesas$gastos)\n",
        "  # valor mínimo de gasto 1.122\n",
        "  # valor máximo de gasto 63.770\n",
        "  # valor médio de gasto 13.270\n",
        "  # valor mediano de gasto 9.382\n"
      ],
      "execution_count": 15,
      "outputs": [
        {
          "output_type": "stream",
          "text": [
            "   Min. 1st Qu.  Median    Mean 3rd Qu.    Max. \n",
            "   1122    4740    9382   13270   16640   63770 \n"
          ],
          "name": "stdout"
        }
      ]
    },
    {
      "cell_type": "markdown",
      "metadata": {
        "id": "9HPxvQ9IR7TV",
        "colab_type": "text"
      },
      "source": [
        "### Pela diferença da **Mediana** e da **Media** aparentemente não temos uma distribuição normal nesse conjunto de dados. \n",
        "\n"
      ]
    },
    {
      "cell_type": "markdown",
      "metadata": {
        "id": "LcEBeRtySe4x",
        "colab_type": "text"
      },
      "source": [
        "---"
      ]
    },
    {
      "cell_type": "markdown",
      "metadata": {
        "id": "_COKYAtlETbb",
        "colab_type": "text"
      },
      "source": [
        "### Construindo um Histograma de Gastos"
      ]
    },
    {
      "cell_type": "markdown",
      "metadata": {
        "id": "FN-Wur2MSOhr",
        "colab_type": "text"
      },
      "source": [
        "#### Grande ocorrência de Gastos médicos até 10.000\n",
        "\n",
        "#### Menor ocorrência de Gastos médicos acima de 40.000"
      ]
    },
    {
      "cell_type": "code",
      "metadata": {
        "id": "DpahvyHkEWYa",
        "colab_type": "code",
        "colab": {
          "base_uri": "https://localhost:8080/",
          "height": 497
        },
        "outputId": "0db212b7-c9b8-44d1-8265-118e7e0e49f4"
      },
      "source": [
        "%%R\n",
        "  hist(despesas$gastos, main = \"Histograma\", xlab = \"Gastos\")"
      ],
      "execution_count": 16,
      "outputs": [
        {
          "output_type": "display_data",
          "data": {
            "image/png": "[encoded data removed]"
          },
          "metadata": {
            "tags": []
          }
        }
      ]
    },
    {
      "cell_type": "markdown",
      "metadata": {
        "id": "BoihXRzGEqiS",
        "colab_type": "text"
      },
      "source": [
        "###Tabela de contingência das regiões\n",
        "\n",
        "####Valor da frequência das observações por região "
      ]
    },
    {
      "cell_type": "code",
      "metadata": {
        "id": "ofe6UMbvEt3k",
        "colab_type": "code",
        "colab": {
          "base_uri": "https://localhost:8080/",
          "height": 70
        },
        "outputId": "06adacbb-19f5-4788-f217-b7306e71c385"
      },
      "source": [
        "%%R\n",
        "  table(despesas$regiao)\n",
        "  # 325 registros no nordeste\n",
        "  # 323 registros no norte\n",
        "  # 325 registros no sudeste\n",
        "  # 364 registros no sul"
      ],
      "execution_count": 17,
      "outputs": [
        {
          "output_type": "stream",
          "text": [
            "\n",
            "nordeste    norte  sudeste      sul \n",
            "     325      324      325      364 \n"
          ],
          "name": "stdout"
        }
      ]
    },
    {
      "cell_type": "markdown",
      "metadata": {
        "id": "u_qDdJY8FA1G",
        "colab_type": "text"
      },
      "source": [
        "### Matriz de Correlação - Explorando relacionamento entre variáveis\n",
        "\n",
        "#### Calculando o **coeficiente de correlação** entre as **variáveis numéricas**.\n"
      ]
    },
    {
      "cell_type": "code",
      "metadata": {
        "id": "JDIU0CJDFScj",
        "colab_type": "code",
        "colab": {
          "base_uri": "https://localhost:8080/",
          "height": 106
        },
        "outputId": "207e6e7e-ded5-46de-b0e7-23d88a303e30"
      },
      "source": [
        "%%R\n",
        "  cor(despesas[c(\"idade\", \"bmi\", \"filhos\", \"gastos\")])\n",
        "  # colocamos as quatro variáveis numéricas em um vetor "
      ],
      "execution_count": 18,
      "outputs": [
        {
          "output_type": "stream",
          "text": [
            "           idade        bmi     filhos     gastos\n",
            "idade  1.0000000 0.10934101 0.04246900 0.29900819\n",
            "bmi    0.1093410 1.00000000 0.01264471 0.19857626\n",
            "filhos 0.0424690 0.01264471 1.00000000 0.06799823\n",
            "gastos 0.2990082 0.19857626 0.06799823 1.00000000\n"
          ],
          "name": "stdout"
        }
      ]
    },
    {
      "cell_type": "markdown",
      "metadata": {
        "id": "SQGka93GT0Fp",
        "colab_type": "text"
      },
      "source": [
        "#### Nenhuma das correlações deste matriz é considerada forte, algumas associações:\n",
        "\n",
        "###### A idade e BMI parecem ter uma corr.pos fraca. Com a idade massa corporal tende a aumentar. \n",
        "\n",
        "###### Corelação positiva moderada entre idade e gastos, além de filhos e os gastos.\n",
        "\n",
        "###### Estas associações implicam que a medida que idade, massa corporal e número de filhos aumenta o custo esperado de seguro saúde sobe."
      ]
    },
    {
      "cell_type": "markdown",
      "metadata": {
        "id": "6kXnYU-iFf0R",
        "colab_type": "text"
      },
      "source": [
        "### Visualizando relacionamento entre as variáveis: Scatterplot"
      ]
    },
    {
      "cell_type": "markdown",
      "metadata": {
        "id": "YYwi-kAhUwqG",
        "colab_type": "text"
      },
      "source": [
        "#### pairs() conjunto de gráficos de dispersão na mesma área de plotagem. "
      ]
    },
    {
      "cell_type": "code",
      "metadata": {
        "id": "Lc9tzCjoFlop",
        "colab_type": "code",
        "colab": {
          "base_uri": "https://localhost:8080/",
          "height": 497
        },
        "outputId": "8d749547-db8f-4985-f65d-351ff79b0eaa"
      },
      "source": [
        "%%R\n",
        "  pairs(despesas[c(\"idade\", \"bmi\", \"filhos\", \"gastos\")])\n",
        "# Perceba que não existe um claro relacionamento entre as variáveis\n"
      ],
      "execution_count": 20,
      "outputs": [
        {
          "output_type": "display_data",
          "data": {
            "image/png": "[encoded data removed]"
          },
          "metadata": {
            "tags": []
          }
        }
      ]
    },
    {
      "cell_type": "markdown",
      "metadata": {
        "id": "CyDK0L11GKLv",
        "colab_type": "text"
      },
      "source": [
        "### Scatterplot Matrix mais completo de pairs()\n",
        "\n",
        "\n"
      ]
    },
    {
      "cell_type": "code",
      "metadata": {
        "id": "dFuFcWgZGN6j",
        "colab_type": "code",
        "colab": {}
      },
      "source": [
        "%%R\n",
        "  install.packages(\"psych\")\n",
        "  library(psych)"
      ],
      "execution_count": 0,
      "outputs": []
    },
    {
      "cell_type": "markdown",
      "metadata": {
        "id": "1pvk3PfEGYU-",
        "colab_type": "text"
      },
      "source": [
        "### Este gráfico fornece mais informações sobre o relacionamento entre as variáveis"
      ]
    },
    {
      "cell_type": "code",
      "metadata": {
        "id": "rTi6FPOKGe0t",
        "colab_type": "code",
        "colab": {
          "base_uri": "https://localhost:8080/",
          "height": 497
        },
        "outputId": "578dfa68-f116-4878-942b-bbaa401d5b9f"
      },
      "source": [
        "%%R\n",
        "  pairs.panels(despesas[c(\"idade\", \"bmi\", \"filhos\", \"gastos\")])"
      ],
      "execution_count": 22,
      "outputs": [
        {
          "output_type": "display_data",
          "data": {
            "image/png": "[encoded data removed]"
          },
          "metadata": {
            "tags": []
          }
        }
      ]
    },
    {
      "cell_type": "markdown",
      "metadata": {
        "id": "3K40hUdLWC7Z",
        "colab_type": "text"
      },
      "source": [
        "---"
      ]
    },
    {
      "cell_type": "markdown",
      "metadata": {
        "id": "m5nqVHjfGjIS",
        "colab_type": "text"
      },
      "source": [
        "##**Etapa3 - Treinando modelo linear** \n",
        "\n",
        "Usando dados de Treino"
      ]
    },
    {
      "cell_type": "code",
      "metadata": {
        "id": "VVMhduMlGwai",
        "colab_type": "code",
        "colab": {}
      },
      "source": [
        "?lm"
      ],
      "execution_count": 0,
      "outputs": []
    },
    {
      "cell_type": "code",
      "metadata": {
        "id": "7ZNOhKRPG9FJ",
        "colab_type": "code",
        "colab": {}
      },
      "source": [
        "%%R # Função para a construção de um modelo linear\n",
        "  modelo <- lm(gastos ~ idade + filhos + bmi + sexo + fumante + regiao, data = despesas)\n",
        "  # relacionar a variável alvo gastos - demais variáveis preditoras\n",
        "  # função compreende quem é variável de saída, quem é variável de entrada e dataset"
      ],
      "execution_count": 0,
      "outputs": []
    },
    {
      "cell_type": "markdown",
      "metadata": {
        "id": "Wckxf34pHCvV",
        "colab_type": "text"
      },
      "source": [
        "### Modelo linear simplificado - igual\n"
      ]
    },
    {
      "cell_type": "code",
      "metadata": {
        "id": "DHWUxmYNHE_J",
        "colab_type": "code",
        "colab": {}
      },
      "source": [
        "%%R\n",
        "  modelo <- lm(gastos ~ ., data = despesas)\n",
        "  # todo procedimento para construir o modelo de regressão na função lm()"
      ],
      "execution_count": 0,
      "outputs": []
    },
    {
      "cell_type": "markdown",
      "metadata": {
        "id": "fDY80WRYHIvG",
        "colab_type": "text"
      },
      "source": [
        "### Visualizando coeficientes"
      ]
    },
    {
      "cell_type": "code",
      "metadata": {
        "id": "Xdq-giu5HLg0",
        "colab_type": "code",
        "colab": {
          "base_uri": "https://localhost:8080/",
          "height": 195
        },
        "outputId": "c625e2b8-b43b-4c5f-ed2a-89cad92f56c2"
      },
      "source": [
        "%%R\n",
        "  modelo #este é o modelo de Machine Learning construído e treinado"
      ],
      "execution_count": 26,
      "outputs": [
        {
          "output_type": "stream",
          "text": [
            "\n",
            "Call:\n",
            "lm(formula = gastos ~ ., data = despesas)\n",
            "\n",
            "Coefficients:\n",
            "  (Intercept)          idade     sexomulher            bmi         filhos  \n",
            "     -12425.7          256.8          131.4          339.3          475.7  \n",
            "   fumantesim    regiaonorte  regiaosudeste      regiaosul  \n",
            "      23847.5          352.8         -606.5         -682.8  \n",
            "\n"
          ],
          "name": "stdout"
        }
      ]
    },
    {
      "cell_type": "markdown",
      "metadata": {
        "id": "uG1PfMXaHgVY",
        "colab_type": "text"
      },
      "source": [
        "### Prevendo Despesas Médicas\n",
        "\n",
        "?predict"
      ]
    },
    {
      "cell_type": "code",
      "metadata": {
        "id": "JWcXxgFTHmyi",
        "colab_type": "code",
        "colab": {
          "base_uri": "https://localhost:8080/",
          "height": 52
        },
        "outputId": "06f06337-20b8-43ab-e58a-4ed8597be08e"
      },
      "source": [
        "%%R # função para fazer as previsões com o modelo já treinado\n",
        "  previsao1 <- predict(modelo) #objeto modelo é passado como parâmeto para previsões\n",
        "  head(previsao1\n",
        "  # Retornam as previsões do dado de Treino \n",
        "  # A diferença entre previsões do modelo e dados reais é o que chamamos de Erro do Modelo"
      ],
      "execution_count": 40,
      "outputs": [
        {
          "output_type": "stream",
          "text": [
            "        1         2         3         4         5         6 \n",
            "25292.740  3458.281  6706.619  3751.868  5598.626  3704.606 \n"
          ],
          "name": "stdout"
        }
      ]
    },
    {
      "cell_type": "markdown",
      "metadata": {
        "id": "uXfjVsO6Hw2o",
        "colab_type": "text"
      },
      "source": [
        "Acima verificamos os gastos previstos pelo modelo que devem ser iguais aos de treino"
      ]
    },
    {
      "cell_type": "markdown",
      "metadata": {
        "id": "bgspQU7DZH65",
        "colab_type": "text"
      },
      "source": [
        "###**Atenção** - Não podemos usar os Dados de Treino para Testar o modelo, visto que estariamos apresentando aos modelo dados que o modelo já viu. Precisamos apresentar **novos conjuntos de dados**."
      ]
    },
    {
      "cell_type": "markdown",
      "metadata": {
        "id": "jr4OCfetH6sM",
        "colab_type": "text"
      },
      "source": [
        "### Prevendo os gastos com novo dados -  **Dados de Teste** \n",
        "\n",
        "### Agora com o modelo já treinado não precisamos apresentar este novo dataset com **variáveis de saída**. Isso é o que desejamos que o modelo seja capaz de retornar. "
      ]
    },
    {
      "cell_type": "code",
      "metadata": {
        "id": "dGfjIqefIEY0",
        "colab_type": "code",
        "colab": {
          "base_uri": "https://localhost:8080/",
          "height": 141
        },
        "outputId": "35ff5e85-984c-4767-93b3-a3a6e2f560e8"
      },
      "source": [
        "%%R\n",
        "  despesasteste <- read.csv(\"despesas-teste.csv\")\n",
        "  head(despesasteste)"
      ],
      "execution_count": 28,
      "outputs": [
        {
          "output_type": "stream",
          "text": [
            "  idade   sexo  bmi filhos fumante   regiao\n",
            "1    52 mulher 26.6      0     nao nordeste\n",
            "2    27  homem 27.1      0     nao      sul\n",
            "3    26 mulher 29.9      1     nao      sul\n",
            "4    24 mulher 22.2      0     nao      sul\n",
            "5    34 mulher 33.7      1     nao  sudeste\n",
            "6    53 mulher 33.3      0     nao    norte\n"
          ],
          "name": "stdout"
        }
      ]
    },
    {
      "cell_type": "code",
      "metadata": {
        "id": "TAHkRi40IMBA",
        "colab_type": "code",
        "colab": {
          "base_uri": "https://localhost:8080/",
          "height": 52
        },
        "outputId": "4f4deb17-6890-43b8-ebdf-9633b04dc9b4"
      },
      "source": [
        "%%R\n",
        "  previsao2 <- predict(modelo, despesasteste)\n",
        "  head(previsao2)\n",
        "  # a previsão para índice 1 tem como gasto previsto 10.086\n",
        "  # a previsão para índice 2 tem como gasto previsto 3.020\n",
        "  # a previsão para índice 3 tem como gasto previsto 4.321\n",
        "  # a previsao para índice 4 tem como gasto previsto 719\n",
        "  # a previsao para índice 5 tem como gasto previsto 7.741\n",
        "  # a previsao para índice 6 tem como gasto previsto 12.969"
      ],
      "execution_count": 29,
      "outputs": [
        {
          "output_type": "stream",
          "text": [
            "         1          2          3          4          5          6 \n",
            "10086.3947  3020.9027  4321.1161   719.2169  7741.4208 12969.2660 \n"
          ],
          "name": "stdout"
        }
      ]
    },
    {
      "cell_type": "markdown",
      "metadata": {
        "id": "A66b_1Libym9",
        "colab_type": "text"
      },
      "source": [
        "---"
      ]
    },
    {
      "cell_type": "markdown",
      "metadata": {
        "id": "-xkFmwZBISZp",
        "colab_type": "text"
      },
      "source": [
        "##Etapa 4 - Avaliando a Performance do Modelo"
      ]
    },
    {
      "cell_type": "markdown",
      "metadata": {
        "id": "0BYFoq32IcbT",
        "colab_type": "text"
      },
      "source": [
        "### Mais detalhes sobre o Modelo"
      ]
    },
    {
      "cell_type": "code",
      "metadata": {
        "id": "nthZOVqTIbgh",
        "colab_type": "code",
        "colab": {
          "base_uri": "https://localhost:8080/",
          "height": 479
        },
        "outputId": "46769cae-b231-4ff8-bef6-9980ef0239ea"
      },
      "source": [
        "%%R\n",
        "  summary(modelo)\n",
        "  # no call do sumário temos o modelo criado\n",
        "  # resíduos\n",
        "  # coeficientes\n",
        "  # códigos de significância\n",
        "  # coeficiente de determinação - R²"
      ],
      "execution_count": 30,
      "outputs": [
        {
          "output_type": "stream",
          "text": [
            "\n",
            "Call:\n",
            "lm(formula = gastos ~ ., data = despesas)\n",
            "\n",
            "Residuals:\n",
            "     Min       1Q   Median       3Q      Max \n",
            "-11302.7  -2850.9   -979.6   1383.9  29981.7 \n",
            "\n",
            "Coefficients:\n",
            "              Estimate Std. Error t value Pr(>|t|)    \n",
            "(Intercept)   -12425.7     1000.7 -12.418  < 2e-16 ***\n",
            "idade            256.8       11.9  21.586  < 2e-16 ***\n",
            "sexomulher       131.3      332.9   0.395 0.693255    \n",
            "bmi              339.3       28.6  11.864  < 2e-16 ***\n",
            "filhos           475.7      137.8   3.452 0.000574 ***\n",
            "fumantesim     23847.5      413.1  57.723  < 2e-16 ***\n",
            "regiaonorte      352.8      476.3   0.741 0.458976    \n",
            "regiaosudeste   -606.5      477.2  -1.271 0.203940    \n",
            "regiaosul       -682.8      478.9  -1.426 0.154211    \n",
            "---\n",
            "Signif. codes:  0 ‘***’ 0.001 ‘**’ 0.01 ‘*’ 0.05 ‘.’ 0.1 ‘ ’ 1\n",
            "\n",
            "Residual standard error: 6062 on 1329 degrees of freedom\n",
            "Multiple R-squared:  0.7509,\tAdjusted R-squared:  0.7494 \n",
            "F-statistic: 500.9 on 8 and 1329 DF,  p-value: < 2.2e-16\n",
            "\n"
          ],
          "name": "stdout"
        }
      ]
    },
    {
      "cell_type": "code",
      "metadata": {
        "id": "qPzoVEvVInrw",
        "colab_type": "code",
        "colab": {}
      },
      "source": [
        "# Equação de Regressão\n",
        "\n",
        "# y = a + bx (simples)\n",
        " # y é nossa previsão, a coluna gastos\n",
        " # a é um dos coeficientes, o intercepto\n",
        " # b é outro coeficiente, slope, a inclinação da reta de regressão\n",
        " # x representa as variáveis preditoras de entrada\n",
        "\n",
        "# y = a + b0x0 + b1x1 + b2...(múltipla)\n",
        "          # Cada coeficiente para cada variável\n",
        "\n",
        "----------------------------------------------------------------------------------\n",
        "\n",
        "# Resíduos\n",
        "# Diferença entre os valores observados de uma variável e seus valores previstos\n",
        "# Valores observados são os dados históricos coletados usados para testes \n",
        "# Seus resíduos devem se parecer com uma distribuição normal, o que indica\n",
        "# que a média entre os valores previstos e os valores observados é próximo de 0 (o que é bom)\n",
        "\n",
        "----------------------------------------------------------------------------------\n",
        "\n",
        "# Coeficiente - Intercept - a (alfa) - primeira linha dos coeficientes\n",
        "# Valor de a na equação de regressão\n",
        "# Ponto aonde a reta de regressão corta o eixo y\n",
        "\n",
        "----------------------------------------------------------------------------------\n",
        "\n",
        "# Coeficientes - Nomes das variáveis - b (beta)\n",
        "# Valor de b na equação de regressão\n",
        "# Variáveis preditoras representam o coeficiente b\n",
        "\n",
        "# Obs: A questão é que lm() ou summary() têm diferentes convenções de \n",
        "# rotulagem para cada variável explicativa. \n",
        "# Em vez de escrever slope_1, slope_2, .... \n",
        "# Eles simplesmente usam o nome da variável em qualquer saída para \n",
        "# indicar quais coeficientes pertencem a qual variável.\n",
        "\n",
        "----------------------------------------------------------------------------------\n",
        "\n",
        "# Erro Padrão - Std. Error | Segunda Coluna\n",
        "# Medida de variabilidade na estimativa do coeficiente a (alfa). \n",
        "# O ideal é que este valor seja menor que o valor do coeficientes \n",
        "# Porém, nem sempre este valor será menor que o valor dos coeficientes..\n",
        "\n",
        "----------------------------------------------------------------------------------\n",
        "\n",
        "# Asteriscos \n",
        "# Os asteriscos representam os níveis de significância de acordo com o p-value.\n",
        "# Quanto mais estrelas, maior a significância.\n",
        "# Atenção --> Muitos astericos indicam que é improvável que não exista \n",
        "# relacionamento entre as variáveis.\n",
        "\n",
        "----------------------------------------------------------------------------------\n",
        "\n",
        "# Valor t - Error t | Terceira Coluna\n",
        "# Define se coeficiente da variável é significativo ou não para o modelo. \n",
        "# Ele é usado para calcular o p-value e os níveis de significância.\n",
        "\n",
        "----------------------------------------------------------------------------------\n",
        "\n",
        "# p-value - Pr(>|t|) | Quarta Coluna (Deve ser o menor valor possível()\n",
        "# O p-value representa a probabilidade que a variável não seja relevante. \n",
        "# Se este valor for realmente pequeno, o R irá mostrar o valor como notação científica\n",
        "# p-value final no final do Call\n",
        "\n",
        "----------------------------------------------------------------------------------\n",
        "\n",
        "# Significância\n",
        "# Legendas abaixo variáveis para compreender a última coluna de coeficientes\n",
        "# Espaço em branco - ruim\n",
        "# Pontos - razoável\n",
        "# Asteriscos - bom\n",
        "# Muitos asteriscos - muito bom (idade, bmi, filhos, fumante)\n",
        "\n",
        "# ATENÇÃO variáveis sem demarcação não são representativas na construção do modelo\n",
        "# Podemos retirar essas variáveis para aumentar o nível de precisão do modelo\n",
        "# Colocar no modelo variáveis que são relevantes para o modelo\n",
        "# Fazer trabalho de análise exploratória\n",
        "\n",
        "----------------------------------------------------------------------------------\n",
        "\n",
        "# Residual Standar Error\n",
        "# Este valor representa o desvio padrão dos resíduos\n",
        "\n",
        "----------------------------------------------------------------------------------\n",
        " \n",
        "# Degrees of Freedom\n",
        "# É a diferença entre o número de observações na amostra de treinamento \n",
        "# e o número de variáveis no seu modelo\n",
        "\n",
        "----------------------------------------------------------------------------------\n",
        "\n",
        "# ATENÇÂO: Definir esta métrica de corte deve ser definida no início do projeto\n",
        "# R-squared (coeficiente de determinação - R^2)\n",
        "# Ajuda a avaliar o nível de precisão do nosso modelo. \n",
        "# Quanto maior, melhor, sendo 1 o valor ideal.\n",
        "# Neste primeira versão do modelo estamos com R razoável de 0.7509\n",
        "\n",
        "----------------------------------------------------------------------------------\n",
        "\n",
        "# F-statistics - É o teste F do modelo. \n",
        "# Esse teste obtém os parâmetros do nosso modelo \n",
        "# e compara com um modelo que tenha menos parâmetros.\n",
        "# Em teoria, um modelo com mais parâmetros tem um desempenho melhor. \n",
        "\n",
        "# O que representa a F-statistics:\n",
        "# Se o seu modelo com mais parâmetros NÃO tiver perfomance\n",
        "# melhor que um modelo com menos parâmetros, o valor do p-value será bem alto. \n",
        "\n",
        "# Se o modelo com mais parâmetros tiver performance\n",
        "# melhor que um modelo com menos parâmetros, o valor do p-value será mais baixo.\n",
        "\n",
        "# Lembre-se que correlação não implica causalidade\n",
        "# Não estamos dizendo que variáveis com correlação melhor implicam necessariamente\n",
        "# na causa de um gasto mairo ou menor em termos de despesas hospitalares.\n"
      ],
      "execution_count": 0,
      "outputs": []
    },
    {
      "cell_type": "markdown",
      "metadata": {
        "id": "itGOVXXhiCUO",
        "colab_type": "text"
      },
      "source": [
        "---"
      ]
    },
    {
      "cell_type": "markdown",
      "metadata": {
        "id": "aNVZdmH5IprH",
        "colab_type": "text"
      },
      "source": [
        "## Etapa 5 - Otimizando a Performance do Modelo\n",
        "\n",
        "R-squared: 0.7509"
      ]
    },
    {
      "cell_type": "markdown",
      "metadata": {
        "id": "iqJpzmQOIvrN",
        "colab_type": "text"
      },
      "source": [
        "### Adicionando uma variável com o **dobro do valor das idades**"
      ]
    },
    {
      "cell_type": "code",
      "metadata": {
        "id": "5uQ17sXdIu42",
        "colab_type": "code",
        "colab": {
          "base_uri": "https://localhost:8080/",
          "height": 141
        },
        "outputId": "87cef386-c2bc-4823-fe28-7ae4c3569539"
      },
      "source": [
        "%%R\n",
        "  despesas$idade2 <- despesas$idade ^ 2 # idade elevada ao quadrado e criar idade2\n",
        "  # a idade tem uma significância forte para o modelo\n",
        "  # forma de ver o relacionamento da idade com a criação do modelo\n",
        "  head(despesas)"
      ],
      "execution_count": 42,
      "outputs": [
        {
          "output_type": "stream",
          "text": [
            "  idade   sexo  bmi filhos fumante   regiao   gastos idade2 bmi30\n",
            "1    19 mulher 27.9      0     sim  sudeste 16884.92    361     0\n",
            "2    18  homem 33.8      1     nao      sul  1725.55    324     1\n",
            "3    28  homem 33.0      3     nao      sul  4449.46    784     1\n",
            "4    33  homem 22.7      0     nao nordeste 21984.47   1089     0\n",
            "5    32  homem 28.9      0     nao nordeste  3866.86   1024     0\n",
            "6    31 mulher 25.7      0     nao      sul  3756.62    961     0\n"
          ],
          "name": "stdout"
        }
      ]
    },
    {
      "cell_type": "markdown",
      "metadata": {
        "id": "PTkgG7NMI-Ml",
        "colab_type": "text"
      },
      "source": [
        "### Adicionando um **indicador para BMI >= 30**"
      ]
    },
    {
      "cell_type": "code",
      "metadata": {
        "id": "I4f3dvo6JChb",
        "colab_type": "code",
        "colab": {}
      },
      "source": [
        "%%R\n",
        "  despesas$bmi30 <- ifelse(despesas$bmi >= 30, 1, 0)\n",
        "  # aproveitar para adicionar o indicador para índice de massa corpórea "
      ],
      "execution_count": 0,
      "outputs": []
    },
    {
      "cell_type": "code",
      "metadata": {
        "id": "joHewI31JMk1",
        "colab_type": "code",
        "colab": {
          "base_uri": "https://localhost:8080/",
          "height": 141
        },
        "outputId": "fb1daa85-e6fd-4453-ba27-0ba7f02dafe0"
      },
      "source": [
        "%%R\n",
        "  head(despesas)\n",
        "  # temos duas novas variáveis além das outras já existentes\n",
        "  # a ordem das variáveis após a variável alvo não tem relevância"
      ],
      "execution_count": 44,
      "outputs": [
        {
          "output_type": "stream",
          "text": [
            "  idade   sexo  bmi filhos fumante   regiao   gastos idade2 bmi30\n",
            "1    19 mulher 27.9      0     sim  sudeste 16884.92    361     0\n",
            "2    18  homem 33.8      1     nao      sul  1725.55    324     1\n",
            "3    28  homem 33.0      3     nao      sul  4449.46    784     1\n",
            "4    33  homem 22.7      0     nao nordeste 21984.47   1089     0\n",
            "5    32  homem 28.9      0     nao nordeste  3866.86   1024     0\n",
            "6    31 mulher 25.7      0     nao      sul  3756.62    961     0\n"
          ],
          "name": "stdout"
        }
      ]
    },
    {
      "cell_type": "markdown",
      "metadata": {
        "id": "BMAoozjXJRcF",
        "colab_type": "text"
      },
      "source": [
        "## Etapa 6 - Criando Modelo Final\n",
        "\n",
        "### Criando a versão dois do modelo"
      ]
    },
    {
      "cell_type": "code",
      "metadata": {
        "id": "hj_jWLU2JU4w",
        "colab_type": "code",
        "colab": {}
      },
      "source": [
        "%%R\n",
        "  modelo_v2 <- lm(gastos ~ idade + idade2 + filhos + bmi + sexo +\n",
        "                   bmi30 * fumante + regiao, data = despesas)\n",
        "  # bmi30 * fumante, gerando uma modificação nas variáveis"
      ],
      "execution_count": 0,
      "outputs": []
    },
    {
      "cell_type": "code",
      "metadata": {
        "id": "rr5E2bUHJbun",
        "colab_type": "code",
        "colab": {
          "base_uri": "https://localhost:8080/",
          "height": 550
        },
        "outputId": "9e83e8d8-b017-451a-cc0f-b4daa7407244"
      },
      "source": [
        "%%R\n",
        "  summary(modelo_v2)\n",
        "  # Call retorna mais variáveis que anteriormente\n",
        "  # Atenção ao R² 0.8664, conseguimos uma melhora significativa\n",
        "  # Adicionar variáveis assim como remover variáveis impactará na criação do modelo\n",
        "  # Modelo errou menos"
      ],
      "execution_count": 36,
      "outputs": [
        {
          "output_type": "stream",
          "text": [
            "\n",
            "Call:\n",
            "lm(formula = gastos ~ idade + idade2 + filhos + bmi + sexo + \n",
            "    bmi30 * fumante + regiao, data = despesas)\n",
            "\n",
            "Residuals:\n",
            "     Min       1Q   Median       3Q      Max \n",
            "-17297.1  -1656.0  -1262.7   -727.8  24161.6 \n",
            "\n",
            "Coefficients:\n",
            "                   Estimate Std. Error t value Pr(>|t|)    \n",
            "(Intercept)       -636.9298  1361.0589  -0.468 0.639886    \n",
            "idade              -32.6181    59.8250  -0.545 0.585690    \n",
            "idade2               3.7307     0.7463   4.999 6.54e-07 ***\n",
            "filhos             678.6017   105.8855   6.409 2.03e-10 ***\n",
            "bmi                119.7715    34.2796   3.494 0.000492 ***\n",
            "sexomulher         496.7690   244.3713   2.033 0.042267 *  \n",
            "bmi30             -997.9355   422.9607  -2.359 0.018449 *  \n",
            "fumantesim       13404.5952   439.9591  30.468  < 2e-16 ***\n",
            "regiaonorte        279.1661   349.2826   0.799 0.424285    \n",
            "regiaosudeste     -942.9958   350.1754  -2.693 0.007172 ** \n",
            "regiaosul         -548.8684   352.1950  -1.558 0.119372    \n",
            "bmi30:fumantesim 19810.1534   604.6769  32.762  < 2e-16 ***\n",
            "---\n",
            "Signif. codes:  0 ‘***’ 0.001 ‘**’ 0.01 ‘*’ 0.05 ‘.’ 0.1 ‘ ’ 1\n",
            "\n",
            "Residual standard error: 4445 on 1326 degrees of freedom\n",
            "Multiple R-squared:  0.8664,\tAdjusted R-squared:  0.8653 \n",
            "F-statistic: 781.7 on 11 and 1326 DF,  p-value: < 2.2e-16\n",
            "\n"
          ],
          "name": "stdout"
        }
      ]
    },
    {
      "cell_type": "markdown",
      "metadata": {
        "id": "iv3utislJjlY",
        "colab_type": "text"
      },
      "source": [
        "### Dados de Teste\n",
        "\n",
        "### Carregar novamente os dados de teste para comprovar que não temos a variável gastos"
      ]
    },
    {
      "cell_type": "code",
      "metadata": {
        "id": "PgoJo2y3JmSu",
        "colab_type": "code",
        "colab": {
          "base_uri": "https://localhost:8080/",
          "height": 141
        },
        "outputId": "29dd3470-1f93-4498-b2a4-d9aa0050870f"
      },
      "source": [
        "%%R\n",
        "  despesasteste <- read.csv(\"despesas-teste.csv\")\n",
        "  head(despesasteste)"
      ],
      "execution_count": 37,
      "outputs": [
        {
          "output_type": "stream",
          "text": [
            "  idade   sexo  bmi filhos fumante   regiao\n",
            "1    52 mulher 26.6      0     nao nordeste\n",
            "2    27  homem 27.1      0     nao      sul\n",
            "3    26 mulher 29.9      1     nao      sul\n",
            "4    24 mulher 22.2      0     nao      sul\n",
            "5    34 mulher 33.7      1     nao  sudeste\n",
            "6    53 mulher 33.3      0     nao    norte\n"
          ],
          "name": "stdout"
        }
      ]
    },
    {
      "cell_type": "code",
      "metadata": {
        "id": "oig-vXVkJtvQ",
        "colab_type": "code",
        "colab": {
          "base_uri": "https://localhost:8080/",
          "height": 35
        },
        "outputId": "524e0124-e310-417a-e359-fcea11858899"
      },
      "source": [
        "%%R\n",
        "  previsao <- predict(modelo, despesasteste)\n",
        "  class(previsao)"
      ],
      "execution_count": 38,
      "outputs": [
        {
          "output_type": "stream",
          "text": [
            "[1] \"numeric\"\n"
          ],
          "name": "stdout"
        }
      ]
    },
    {
      "cell_type": "markdown",
      "metadata": {
        "id": "kyErcDx9lJVZ",
        "colab_type": "text"
      },
      "source": [
        "## Estas já são as previsões"
      ]
    },
    {
      "cell_type": "code",
      "metadata": {
        "id": "fQE1gurtJyCq",
        "colab_type": "code",
        "colab": {
          "base_uri": "https://localhost:8080/",
          "height": 52
        },
        "outputId": "c6628492-63cf-42a9-a024-18460d2a21a0"
      },
      "source": [
        "%%R \n",
        "  head(previsao) # extamente as previsões feitas anteriormente\n",
        "  # a previsão para índice 1 tem como gasto previsto 10.086\n",
        "  # a previsão para índice 2 tem como gasto previsto 3.020\n",
        "  # a previsão para índice 3 tem como gasto previsto 4.321\n",
        "  # a previsao para índice 4 tem como gasto previsto 719\n",
        "  # a previsao para índice 5 tem como gasto previsto 7.741\n",
        "  # a previsao para índice 6 tem como gasto previsto 12.969"
      ],
      "execution_count": 39,
      "outputs": [
        {
          "output_type": "stream",
          "text": [
            "         1          2          3          4          5          6 \n",
            "10086.3947  3020.9027  4321.1161   719.2169  7741.4208 12969.2660 \n"
          ],
          "name": "stdout"
        }
      ]
    },
    {
      "cell_type": "markdown",
      "metadata": {
        "id": "3lc96eiSlgeO",
        "colab_type": "text"
      },
      "source": [
        "# Gravar o processo em R Markdown, Knit Pdf"
      ]
    },
    {
      "cell_type": "code",
      "metadata": {
        "id": "2yy3om98lSmT",
        "colab_type": "code",
        "colab": {}
      },
      "source": [
        ""
      ],
      "execution_count": 0,
      "outputs": []
    }
  ]
}