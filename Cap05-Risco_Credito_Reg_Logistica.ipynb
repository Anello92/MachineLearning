ç{
  "nbformat": 4,
  "nbformat_minor": 0,
  "metadata": {
    "colab": {
      "name": "Risco_Credito_Reg_Logistica.ipynb",
      "provenance": []
    },
    "kernelspec": {
      "name": "python3",
      "display_name": "Python 3"
    }
  },
  "cells": [
    {
      "cell_type": "code",
      "metadata": {
        "id": "2OzPyDRcYONt",
        "colab_type": "code",
        "colab": {}
      },
      "source": [
        "%load_ext rpy2.ipython"
      ],
      "execution_count": null,
      "outputs": []
    },
    {
      "cell_type": "markdown",
      "metadata": {
        "id": "3WhjNitrPA1m",
        "colab_type": "text"
      },
      "source": [
        "###**Regressão Logística**\n",
        "\n",
        "#**Previsão e Detecção de Risco de Crédito**"
      ]
    },
    {
      "cell_type": "code",
      "metadata": {
        "id": "QAa0mFgPZMaI",
        "colab_type": "code",
        "colab": {}
      },
      "source": [
        "Problemas com a acentuação:\n",
        "# https://support.rstudio.com/hc/en-us/articles/200532197-Character-Encoding"
      ],
      "execution_count": null,
      "outputs": []
    },
    {
      "cell_type": "markdown",
      "metadata": {
        "id": "Qde0bt5qPX3V",
        "colab_type": "text"
      },
      "source": [
        "## Instalando os pacotes"
      ]
    },
    {
      "cell_type": "code",
      "metadata": {
        "id": "OKqB-2pqO8r4",
        "colab_type": "code",
        "colab": {}
      },
      "source": [
        "%%R\n",
        "install.packages(\"caret\") # Criar modelos de Machine Learning em R\n",
        "install.packages(\"ROCR\")  # Criar Curva de avaliação da performance do Modelo\n",
        "install.packages(\"e1071\") # Funções e algoritmos \n",
        "library(caret)\n",
        "library(ROCR)\n",
        "library(e1071)"
      ],
      "execution_count": null,
      "outputs": []
    },
    {
      "cell_type": "markdown",
      "metadata": {
        "id": "Eiq3VH1UPfTr",
        "colab_type": "text"
      },
      "source": [
        "## Carregando o dataset em um DataFrame\n"
      ]
    },
    {
      "cell_type": "code",
      "metadata": {
        "id": "WwdXF9HYO8om",
        "colab_type": "code",
        "colab": {
          "base_uri": "https://localhost:8080/",
          "height": 639
        },
        "outputId": "9d6e307b-1e88-4dfc-aa96-56438d7bc226"
      },
      "source": [
        "%%R\n",
        "credito_dataset <- read.csv(\"credit_dataset_final.csv\", # nome do arquivo \n",
        "                            header = TRUE, # habilitar cabeçalho\n",
        "                            sep = \",\") # separador do arquivo entre \",\"\n",
        "head(credito_dataset)"
      ],
      "execution_count": 5,
      "outputs": [
        {
          "output_type": "stream",
          "text": [
            "  credit.rating account.balance credit.duration.months\n",
            "1             1               1                     18\n",
            "2             1               1                      9\n",
            "3             1               2                     12\n",
            "4             1               1                     12\n",
            "5             1               1                     12\n",
            "6             1               1                     10\n",
            "  previous.credit.payment.status credit.purpose credit.amount savings\n",
            "1                              3              2          1049       1\n",
            "2                              3              4          2799       1\n",
            "3                              2              4           841       2\n",
            "4                              3              4          2122       1\n",
            "5                              3              4          2171       1\n",
            "6                              3              4          2241       1\n",
            "  employment.duration installment.rate marital.status guarantor\n",
            "1                   1                4              1         1\n",
            "2                   2                2              3         1\n",
            "3                   3                2              1         1\n",
            "4                   2                3              3         1\n",
            "5                   2                4              3         1\n",
            "6                   1                1              3         1\n",
            "  residence.duration current.assets age other.credits apartment.type\n",
            "1                  4              2  21             2              1\n",
            "2                  2              1  36             2              1\n",
            "3                  4              1  23             2              1\n",
            "4                  2              1  39             2              1\n",
            "5                  4              2  38             1              2\n",
            "6                  3              1  48             2              1\n",
            "  bank.credits occupation dependents telephone foreign.worker\n",
            "1            1          3          1         1              1\n",
            "2            2          3          2         1              1\n",
            "3            1          2          1         1              1\n",
            "4            2          2          2         1              2\n",
            "5            2          2          1         1              2\n",
            "6            2          2          2         1              2\n"
          ],
          "name": "stdout"
        }
      ]
    },
    {
      "cell_type": "code",
      "metadata": {
        "id": "V9xqqNTtO8FC",
        "colab_type": "code",
        "colab": {
          "base_uri": "https://localhost:8080/",
          "height": 764
        },
        "outputId": "4d7e15d2-d1ca-4836-8ea3-3158c9263e54"
      },
      "source": [
        "%%R\n",
        "summary(credito_dataset) # Resumo estatístico de cada uma das variávies"
      ],
      "execution_count": 6,
      "outputs": [
        {
          "output_type": "stream",
          "text": [
            " credit.rating account.balance credit.duration.months\n",
            " Min.   :0.0   Min.   :1.000   Min.   : 4.0          \n",
            " 1st Qu.:0.0   1st Qu.:1.000   1st Qu.:12.0          \n",
            " Median :1.0   Median :2.000   Median :18.0          \n",
            " Mean   :0.7   Mean   :2.183   Mean   :20.9          \n",
            " 3rd Qu.:1.0   3rd Qu.:3.000   3rd Qu.:24.0          \n",
            " Max.   :1.0   Max.   :3.000   Max.   :72.0          \n",
            " previous.credit.payment.status credit.purpose  credit.amount      savings     \n",
            " Min.   :1.000                  Min.   :1.000   Min.   :  250   Min.   :1.000  \n",
            " 1st Qu.:2.000                  1st Qu.:2.000   1st Qu.: 1366   1st Qu.:1.000  \n",
            " Median :2.000                  Median :3.000   Median : 2320   Median :1.000  \n",
            " Mean   :2.292                  Mean   :2.965   Mean   : 3271   Mean   :1.874  \n",
            " 3rd Qu.:3.000                  3rd Qu.:4.000   3rd Qu.: 3972   3rd Qu.:3.000  \n",
            " Max.   :3.000                  Max.   :4.000   Max.   :18424   Max.   :4.000  \n",
            " employment.duration installment.rate marital.status    guarantor    \n",
            " Min.   :1.000       Min.   :1.000    Min.   :1.000   Min.   :1.000  \n",
            " 1st Qu.:2.000       1st Qu.:2.000    1st Qu.:1.000   1st Qu.:1.000  \n",
            " Median :2.000       Median :3.000    Median :3.000   Median :1.000  \n",
            " Mean   :2.446       Mean   :2.973    Mean   :2.372   Mean   :1.093  \n",
            " 3rd Qu.:4.000       3rd Qu.:4.000    3rd Qu.:3.000   3rd Qu.:1.000  \n",
            " Max.   :4.000       Max.   :4.000    Max.   :4.000   Max.   :2.000  \n",
            " residence.duration current.assets       age        other.credits  \n",
            " Min.   :1.000      Min.   :1.000   Min.   :19.00   Min.   :1.000  \n",
            " 1st Qu.:2.000      1st Qu.:1.000   1st Qu.:27.00   1st Qu.:2.000  \n",
            " Median :3.000      Median :2.000   Median :33.00   Median :2.000  \n",
            " Mean   :2.845      Mean   :2.358   Mean   :35.54   Mean   :1.814  \n",
            " 3rd Qu.:4.000      3rd Qu.:3.000   3rd Qu.:42.00   3rd Qu.:2.000  \n",
            " Max.   :4.000      Max.   :4.000   Max.   :75.00   Max.   :2.000  \n",
            " apartment.type   bank.credits     occupation      dependents   \n",
            " Min.   :1.000   Min.   :1.000   Min.   :1.000   Min.   :1.000  \n",
            " 1st Qu.:2.000   1st Qu.:1.000   1st Qu.:3.000   1st Qu.:1.000  \n",
            " Median :2.000   Median :1.000   Median :3.000   Median :1.000  \n",
            " Mean   :1.928   Mean   :1.367   Mean   :2.904   Mean   :1.155  \n",
            " 3rd Qu.:2.000   3rd Qu.:2.000   3rd Qu.:3.000   3rd Qu.:1.000  \n",
            " Max.   :3.000   Max.   :2.000   Max.   :4.000   Max.   :2.000  \n",
            "   telephone     foreign.worker \n",
            " Min.   :1.000   Min.   :1.000  \n",
            " 1st Qu.:1.000   1st Qu.:1.000  \n",
            " Median :1.000   Median :1.000  \n",
            " Mean   :1.404   Mean   :1.037  \n",
            " 3rd Qu.:2.000   3rd Qu.:1.000  \n",
            " Max.   :2.000   Max.   :2.000  \n"
          ],
          "name": "stdout"
        }
      ]
    },
    {
      "cell_type": "code",
      "metadata": {
        "id": "lQJxKOotO8B7",
        "colab_type": "code",
        "colab": {
          "base_uri": "https://localhost:8080/",
          "height": 408
        },
        "outputId": "8b259469-7153-43cb-9040-0798cd2d40fb"
      },
      "source": [
        "%%R\n",
        "str(credito_dataset) # Tipo das variáveis"
      ],
      "execution_count": 7,
      "outputs": [
        {
          "output_type": "stream",
          "text": [
            "'data.frame':\t1000 obs. of  21 variables:\n",
            " $ credit.rating                 : int  1 1 1 1 1 1 1 1 1 1 ...\n",
            " $ account.balance               : int  1 1 2 1 1 1 1 1 3 2 ...\n",
            " $ credit.duration.months        : int  18 9 12 12 12 10 8 6 18 24 ...\n",
            " $ previous.credit.payment.status: int  3 3 2 3 3 3 3 3 3 2 ...\n",
            " $ credit.purpose                : int  2 4 4 4 4 4 4 4 3 3 ...\n",
            " $ credit.amount                 : int  1049 2799 841 2122 2171 2241 3398 1361 1098 3758 ...\n",
            " $ savings                       : int  1 1 2 1 1 1 1 1 1 3 ...\n",
            " $ employment.duration           : int  1 2 3 2 2 1 3 1 1 1 ...\n",
            " $ installment.rate              : int  4 2 2 3 4 1 1 2 4 1 ...\n",
            " $ marital.status                : int  1 3 1 3 3 3 3 3 1 1 ...\n",
            " $ guarantor                     : int  1 1 1 1 1 1 1 1 1 1 ...\n",
            " $ residence.duration            : int  4 2 4 2 4 3 4 4 4 4 ...\n",
            " $ current.assets                : int  2 1 1 1 2 1 1 1 3 4 ...\n",
            " $ age                           : int  21 36 23 39 38 48 39 40 65 23 ...\n",
            " $ other.credits                 : int  2 2 2 2 1 2 2 2 2 2 ...\n",
            " $ apartment.type                : int  1 1 1 1 2 1 2 2 2 1 ...\n",
            " $ bank.credits                  : int  1 2 1 2 2 2 2 1 2 1 ...\n",
            " $ occupation                    : int  3 3 2 2 2 2 2 2 1 1 ...\n",
            " $ dependents                    : int  1 2 1 2 1 2 1 2 1 1 ...\n",
            " $ telephone                     : int  1 1 1 1 1 1 1 1 1 1 ...\n",
            " $ foreign.worker                : int  1 1 1 2 2 2 2 2 1 1 ...\n"
          ],
          "name": "stdout"
        }
      ]
    },
    {
      "cell_type": "markdown",
      "metadata": {
        "id": "4QCp5UNCbNus",
        "colab_type": "text"
      },
      "source": [
        "Primeiro coluna **credit.rating** (1/0) é o que desejamos prever para esta análise"
      ]
    },
    {
      "cell_type": "code",
      "metadata": {
        "id": "v6uDFMnCO7_0",
        "colab_type": "code",
        "colab": {}
      },
      "source": [
        "%%R\n",
        "#View(credito_dataset)"
      ],
      "execution_count": null,
      "outputs": []
    },
    {
      "cell_type": "markdown",
      "metadata": {
        "id": "azN1KG-gblkI",
        "colab_type": "text"
      },
      "source": [
        "---"
      ]
    },
    {
      "cell_type": "markdown",
      "metadata": {
        "id": "tWy1eiDMcR7O",
        "colab_type": "text"
      },
      "source": [
        "Tanto Regressão Logística como Regressão Linear requerem que as variáveis numéricas estejam na mesma **escala**\n",
        "\n",
        "\n",
        "- O que for categoria **transforma em fator**\n",
        "- O que for número **transforma em escala**"
      ]
    },
    {
      "cell_type": "markdown",
      "metadata": {
        "id": "n-ozbJZ5P81i",
        "colab_type": "text"
      },
      "source": [
        "##Pré-processamento"
      ]
    },
    {
      "cell_type": "code",
      "metadata": {
        "id": "dY0U7wD2O78W",
        "colab_type": "code",
        "colab": {}
      },
      "source": [
        "%%R\n",
        "# Transformando variáveis categóricas em fatores\n",
        "to.factors <- function(df, variables){\n",
        "  for (variable in variables){\n",
        "    df[[variable]] <- as.factor(df[[variable]])\n",
        "  }\n",
        "  return(df)\n",
        "}"
      ],
      "execution_count": 12,
      "outputs": []
    },
    {
      "cell_type": "markdown",
      "metadata": {
        "id": "ClRv4871QN0_",
        "colab_type": "text"
      },
      "source": [
        "##Normalização\n"
      ]
    },
    {
      "cell_type": "code",
      "metadata": {
        "id": "ccQIdw-jO75_",
        "colab_type": "code",
        "colab": {}
      },
      "source": [
        "%%R\n",
        "# O que for variável numérica aplicamo a escala\n",
        "scale.features <- function(df,         #recebe dataframe como entrada\n",
        "                           variables){ #recebe lista de variáveis\n",
        "  for (variable in variables){         #repetição\n",
        "    df[[variable]] <- scale(df[[variable]], center = T, scale = T) #função scale p/mudar a escala da variável, centralizar(padronizar variáveis que forem numéricas)\n",
        "  }\n",
        "  return(df)\n",
        "}"
      ],
      "execution_count": 13,
      "outputs": []
    },
    {
      "cell_type": "markdown",
      "metadata": {
        "id": "GPoHHUjcQUAJ",
        "colab_type": "text"
      },
      "source": [
        "##Normalização"
      ]
    },
    {
      "cell_type": "markdown",
      "metadata": {
        "id": "F0qIULJTdzlw",
        "colab_type": "text"
      },
      "source": [
        "Normalizando variáveis numéricas"
      ]
    },
    {
      "cell_type": "code",
      "metadata": {
        "id": "kuApHTtuO72L",
        "colab_type": "code",
        "colab": {}
      },
      "source": [
        "%%R\n",
        "# Criando vetor com as variáveis que são numéricas - lista com o nome das variáveis numéricas\n",
        "numeric.vars <- c(\"credit.duration.months\", \"age\", \"credit.amount\")\n",
        "\n",
        "# Aplicar a função scale.features ao dataset original\n",
        "credito_dataset_scaled <- scale.features(credito_dataset, \n",
        "                                         numeric.vars) # aplicando às variáveis numéricas especificadas acima"
      ],
      "execution_count": 14,
      "outputs": []
    },
    {
      "cell_type": "markdown",
      "metadata": {
        "id": "l1W4O_QYd46Q",
        "colab_type": "text"
      },
      "source": [
        "Fatorando variáveis categóricas"
      ]
    },
    {
      "cell_type": "code",
      "metadata": {
        "id": "JpiZ1UfhO7zl",
        "colab_type": "code",
        "colab": {}
      },
      "source": [
        "%%R\n",
        "# Variáveis do tipo fator - Criando lista de variáveis categóricas\n",
        "categorical.vars <- c('credit.rating', 'account.balance', 'previous.credit.payment.status',\n",
        "                      'credit.purpose', 'savings', 'employment.duration', 'installment.rate',\n",
        "                      'marital.status', 'guarantor', 'residence.duration', 'current.assets',\n",
        "                      'other.credits', 'apartment.type', 'bank.credits', 'occupation', \n",
        "                      'dependents', 'telephone', 'foreign.worker')"
      ],
      "execution_count": 15,
      "outputs": []
    },
    {
      "cell_type": "markdown",
      "metadata": {
        "id": "UBIz9Az1Qwnx",
        "colab_type": "text"
      },
      "source": [
        "##Aplicando as conversões ao dataset - to.factors()"
      ]
    },
    {
      "cell_type": "code",
      "metadata": {
        "id": "e1ffRk8iO7wx",
        "colab_type": "code",
        "colab": {
          "base_uri": "https://localhost:8080/",
          "height": 639
        },
        "outputId": "f9803add-91a6-4d24-ded5-c4f5f100fe1a"
      },
      "source": [
        "%%R\n",
        "# Aplicando as conversões ao dataset com to.factors, passando: credito_dataset_scalled e categorical.vars como parâmetros\n",
        "credito_dataset_final <- to.factors(df = credito_dataset_scaled, variables = categorical.vars)\n",
        "head(credito_dataset_final)"
      ],
      "execution_count": 16,
      "outputs": [
        {
          "output_type": "stream",
          "text": [
            "  credit.rating account.balance credit.duration.months\n",
            "1             1               1             -0.2407368\n",
            "2             1               1             -0.9870788\n",
            "3             1               2             -0.7382981\n",
            "4             1               1             -0.7382981\n",
            "5             1               1             -0.7382981\n",
            "6             1               1             -0.9041519\n",
            "  previous.credit.payment.status credit.purpose credit.amount savings\n",
            "1                              3              2    -0.7872630       1\n",
            "2                              3              4    -0.1673006       1\n",
            "3                              2              4    -0.8609500       2\n",
            "4                              3              4    -0.4071375       1\n",
            "5                              3              4    -0.3897785       1\n",
            "6                              3              4    -0.3649800       1\n",
            "  employment.duration installment.rate marital.status guarantor\n",
            "1                   1                4              1         1\n",
            "2                   2                2              3         1\n",
            "3                   3                2              1         1\n",
            "4                   2                3              3         1\n",
            "5                   2                4              3         1\n",
            "6                   1                1              3         1\n",
            "  residence.duration current.assets         age other.credits apartment.type\n",
            "1                  4              2 -1.28093214             2              1\n",
            "2                  2              1  0.04034293             2              1\n",
            "3                  4              1 -1.10476213             2              1\n",
            "4                  2              1  0.30459795             2              1\n",
            "5                  4              2  0.21651294             1              2\n",
            "6                  3              1  1.09736299             2              1\n",
            "  bank.credits occupation dependents telephone foreign.worker\n",
            "1            1          3          1         1              1\n",
            "2            2          3          2         1              1\n",
            "3            1          2          1         1              1\n",
            "4            2          2          2         1              2\n",
            "5            2          2          1         1              2\n",
            "6            2          2          2         1              2\n"
          ],
          "name": "stdout"
        }
      ]
    },
    {
      "cell_type": "code",
      "metadata": {
        "id": "_zO3grkDO7tO",
        "colab_type": "code",
        "colab": {
          "base_uri": "https://localhost:8080/",
          "height": 515
        },
        "outputId": "d98e7cdb-48b7-4344-d21f-e1b8423e71aa"
      },
      "source": [
        "%%R\n",
        "str(credito_dataset_final)"
      ],
      "execution_count": 18,
      "outputs": [
        {
          "output_type": "stream",
          "text": [
            "'data.frame':\t1000 obs. of  21 variables:\n",
            " $ credit.rating                 : Factor w/ 2 levels \"0\",\"1\": 2 2 2 2 2 2 2 2 2 2 ...\n",
            " $ account.balance               : Factor w/ 3 levels \"1\",\"2\",\"3\": 1 1 2 1 1 1 1 1 3 2 ...\n",
            " $ credit.duration.months        : num [1:1000, 1] -0.241 -0.987 -0.738 -0.738 -0.738 ...\n",
            "  ..- attr(*, \"scaled:center\")= num 20.9\n",
            "  ..- attr(*, \"scaled:scale\")= num 12.1\n",
            " $ previous.credit.payment.status: Factor w/ 3 levels \"1\",\"2\",\"3\": 3 3 2 3 3 3 3 3 3 2 ...\n",
            " $ credit.purpose                : Factor w/ 4 levels \"1\",\"2\",\"3\",\"4\": 2 4 4 4 4 4 4 4 3 3 ...\n",
            " $ credit.amount                 : num [1:1000, 1] -0.787 -0.167 -0.861 -0.407 -0.39 ...\n",
            "  ..- attr(*, \"scaled:center\")= num 3271\n",
            "  ..- attr(*, \"scaled:scale\")= num 2823\n",
            " $ savings                       : Factor w/ 4 levels \"1\",\"2\",\"3\",\"4\": 1 1 2 1 1 1 1 1 1 3 ...\n",
            " $ employment.duration           : Factor w/ 4 levels \"1\",\"2\",\"3\",\"4\": 1 2 3 2 2 1 3 1 1 1 ...\n",
            " $ installment.rate              : Factor w/ 4 levels \"1\",\"2\",\"3\",\"4\": 4 2 2 3 4 1 1 2 4 1 ...\n",
            " $ marital.status                : Factor w/ 3 levels \"1\",\"3\",\"4\": 1 2 1 2 2 2 2 2 1 1 ...\n",
            " $ guarantor                     : Factor w/ 2 levels \"1\",\"2\": 1 1 1 1 1 1 1 1 1 1 ...\n",
            " $ residence.duration            : Factor w/ 4 levels \"1\",\"2\",\"3\",\"4\": 4 2 4 2 4 3 4 4 4 4 ...\n",
            " $ current.assets                : Factor w/ 4 levels \"1\",\"2\",\"3\",\"4\": 2 1 1 1 2 1 1 1 3 4 ...\n",
            " $ age                           : num [1:1000, 1] -1.2809 0.0403 -1.1048 0.3046 0.2165 ...\n",
            "  ..- attr(*, \"scaled:center\")= num 35.5\n",
            "  ..- attr(*, \"scaled:scale\")= num 11.4\n",
            " $ other.credits                 : Factor w/ 2 levels \"1\",\"2\": 2 2 2 2 1 2 2 2 2 2 ...\n",
            " $ apartment.type                : Factor w/ 3 levels \"1\",\"2\",\"3\": 1 1 1 1 2 1 2 2 2 1 ...\n",
            " $ bank.credits                  : Factor w/ 2 levels \"1\",\"2\": 1 2 1 2 2 2 2 1 2 1 ...\n",
            " $ occupation                    : Factor w/ 4 levels \"1\",\"2\",\"3\",\"4\": 3 3 2 2 2 2 2 2 1 1 ...\n",
            " $ dependents                    : Factor w/ 2 levels \"1\",\"2\": 1 2 1 2 1 2 1 2 1 1 ...\n",
            " $ telephone                     : Factor w/ 2 levels \"1\",\"2\": 1 1 1 1 1 1 1 1 1 1 ...\n",
            " $ foreign.worker                : Factor w/ 2 levels \"1\",\"2\": 1 1 1 2 2 2 2 2 1 1 ...\n"
          ],
          "name": "stdout"
        }
      ]
    },
    {
      "cell_type": "code",
      "metadata": {
        "id": "zJoZZ53QQ3CT",
        "colab_type": "code",
        "colab": {}
      },
      "source": [
        "%%R\n",
        "#View(credito_dataset_final)"
      ],
      "execution_count": null,
      "outputs": []
    },
    {
      "cell_type": "markdown",
      "metadata": {
        "id": "cVk5rGhNRM5Y",
        "colab_type": "text"
      },
      "source": [
        "##Dividindo dados de Treino e dados Teste"
      ]
    },
    {
      "cell_type": "code",
      "metadata": {
        "id": "F9vCqu3eQ_45",
        "colab_type": "code",
        "colab": {}
      },
      "source": [
        "%%R\n",
        "# Preparando os dados de treino e de teste\n",
        "indexes <- sample(1:nrow(credito_dataset_final), # contar um número de linhas e extrair uma amostra com 0.6 p/ Dados Treino de tamanho do credito_dataset_final\n",
        "                  size = 0.6 * nrow(credito_dataset_final))\n",
        "\n",
        "train.data <- credito_dataset_final[indexes,] # Dados Treino - retornar todas as linhas que tenham valor de índice = objeto \"indexes\", todas as colunas\n",
        "test.data <- credito_dataset_final[-indexes,] # Dados Teste  - retornar tudo que não tenha/seja \"indexes\" "
      ],
      "execution_count": 19,
      "outputs": []
    },
    {
      "cell_type": "code",
      "metadata": {
        "id": "OseuhRPvQ_1X",
        "colab_type": "code",
        "colab": {
          "base_uri": "https://localhost:8080/",
          "height": 408
        },
        "outputId": "695929e3-2927-4047-b61b-bb047a9b6a92"
      },
      "source": [
        "%%R \n",
        "str(train.data)"
      ],
      "execution_count": 28,
      "outputs": [
        {
          "output_type": "stream",
          "text": [
            "'data.frame':\t600 obs. of  21 variables:\n",
            " $ credit.rating                 : Factor w/ 2 levels \"0\",\"1\": 1 2 1 2 2 2 1 2 2 2 ...\n",
            " $ account.balance               : Factor w/ 3 levels \"1\",\"2\",\"3\": 1 3 1 3 2 2 1 2 3 3 ...\n",
            " $ credit.duration.months        : num [1:600, 1] 1.252 -0.904 -1.236 -1.153 0.754 ...\n",
            " $ previous.credit.payment.status: Factor w/ 3 levels \"1\",\"2\",\"3\": 2 3 1 3 2 2 2 2 2 1 ...\n",
            " $ credit.purpose                : Factor w/ 4 levels \"1\",\"2\",\"3\",\"4\": 4 4 3 3 2 3 3 3 3 2 ...\n",
            " $ credit.amount                 : num [1:600, 1] 2.125 -0.723 -0.734 -0.859 0.199 ...\n",
            " $ savings                       : Factor w/ 4 levels \"1\",\"2\",\"3\",\"4\": 1 1 1 4 1 1 1 3 1 1 ...\n",
            " $ employment.duration           : Factor w/ 4 levels \"1\",\"2\",\"3\",\"4\": 3 4 4 4 1 2 2 2 1 4 ...\n",
            " $ installment.rate              : Factor w/ 4 levels \"1\",\"2\",\"3\",\"4\": 2 3 4 3 2 2 2 4 1 2 ...\n",
            " $ marital.status                : Factor w/ 3 levels \"1\",\"3\",\"4\": 2 2 1 2 3 2 1 1 1 2 ...\n",
            " $ guarantor                     : Factor w/ 2 levels \"1\",\"2\": 1 1 1 1 1 1 1 1 1 1 ...\n",
            " $ residence.duration            : Factor w/ 4 levels \"1\",\"2\",\"3\",\"4\": 1 4 4 4 1 2 2 3 2 4 ...\n",
            " $ current.assets                : Factor w/ 4 levels \"1\",\"2\",\"3\",\"4\": 3 1 4 4 2 1 1 1 4 2 ...\n",
            " $ age                           : num [1:600, 1] -1.0167 -0.312 -0.0477 0.0403 -1.1928 ...\n",
            " $ other.credits                 : Factor w/ 2 levels \"1\",\"2\": 2 2 2 2 2 2 2 2 2 2 ...\n",
            " $ apartment.type                : Factor w/ 3 levels \"1\",\"2\",\"3\": 2 2 3 3 2 2 2 2 2 2 ...\n",
            " $ bank.credits                  : Factor w/ 2 levels \"1\",\"2\": 1 2 1 1 1 1 1 1 1 2 ...\n",
            " $ occupation                    : Factor w/ 4 levels \"1\",\"2\",\"3\",\"4\": 3 2 3 3 3 2 3 2 3 3 ...\n",
            " $ dependents                    : Factor w/ 2 levels \"1\",\"2\": 1 2 1 1 1 2 1 1 1 1 ...\n",
            " $ telephone                     : Factor w/ 2 levels \"1\",\"2\": 2 1 1 1 1 1 1 1 1 1 ...\n",
            " $ foreign.worker                : Factor w/ 2 levels \"1\",\"2\": 1 2 1 1 1 1 1 1 1 1 ...\n"
          ],
          "name": "stdout"
        }
      ]
    },
    {
      "cell_type": "code",
      "metadata": {
        "id": "FVsVYfXOQ_xn",
        "colab_type": "code",
        "colab": {
          "base_uri": "https://localhost:8080/",
          "height": 408
        },
        "outputId": "a111bed6-9057-4116-a4e8-2584cae1c2a1"
      },
      "source": [
        "%%R\n",
        "str(test.data)"
      ],
      "execution_count": 29,
      "outputs": [
        {
          "output_type": "stream",
          "text": [
            "'data.frame':\t400 obs. of  21 variables:\n",
            " $ credit.rating                 : Factor w/ 2 levels \"0\",\"1\": 2 2 2 2 2 2 2 2 2 2 ...\n",
            " $ account.balance               : Factor w/ 3 levels \"1\",\"2\",\"3\": 1 2 1 1 1 2 2 1 3 1 ...\n",
            " $ credit.duration.months        : num [1:400, 1] -1.07 0.257 0.754 -0.241 -1.236 ...\n",
            " $ previous.credit.payment.status: Factor w/ 3 levels \"1\",\"2\",\"3\": 3 2 3 2 2 2 3 3 3 2 ...\n",
            " $ credit.purpose                : Factor w/ 4 levels \"1\",\"2\",\"3\",\"4\": 4 3 1 3 3 3 4 4 3 4 ...\n",
            " $ credit.amount                 : num [1:400, 1] 0.0449 0.1724 1.0329 -0.473 -0.2211 ...\n",
            " $ savings                       : Factor w/ 4 levels \"1\",\"2\",\"3\",\"4\": 1 3 2 4 3 3 1 4 1 1 ...\n",
            " $ employment.duration           : Factor w/ 4 levels \"1\",\"2\",\"3\",\"4\": 3 1 3 3 2 1 1 1 4 1 ...\n",
            " $ installment.rate              : Factor w/ 4 levels \"1\",\"2\",\"3\",\"4\": 1 1 1 2 2 1 1 1 4 2 ...\n",
            " $ marital.status                : Factor w/ 3 levels \"1\",\"3\",\"4\": 2 1 3 3 2 3 2 2 2 2 ...\n",
            " $ guarantor                     : Factor w/ 2 levels \"1\",\"2\": 1 1 1 1 1 1 1 1 1 1 ...\n",
            " $ residence.duration            : Factor w/ 4 levels \"1\",\"2\",\"3\",\"4\": 4 4 4 4 3 3 3 3 4 3 ...\n",
            " $ current.assets                : Factor w/ 4 levels \"1\",\"2\",\"3\",\"4\": 1 4 3 3 1 1 1 1 2 1 ...\n",
            " $ age                           : num [1:400, 1] 0.305 -1.105 -1.017 -1.105 0.745 ...\n",
            " $ other.credits                 : Factor w/ 2 levels \"1\",\"2\": 2 2 2 2 2 2 1 2 2 2 ...\n",
            " $ apartment.type                : Factor w/ 3 levels \"1\",\"2\",\"3\": 2 1 1 1 1 1 2 2 2 2 ...\n",
            " $ bank.credits                  : Factor w/ 2 levels \"1\",\"2\": 2 1 2 2 1 1 2 2 1 1 ...\n",
            " $ occupation                    : Factor w/ 4 levels \"1\",\"2\",\"3\",\"4\": 2 1 3 2 3 3 2 2 3 3 ...\n",
            " $ dependents                    : Factor w/ 2 levels \"1\",\"2\": 1 1 1 1 2 1 2 2 1 1 ...\n",
            " $ telephone                     : Factor w/ 2 levels \"1\",\"2\": 1 1 1 1 1 1 1 1 1 1 ...\n",
            " $ foreign.worker                : Factor w/ 2 levels \"1\",\"2\": 2 1 1 1 1 1 1 1 1 1 ...\n"
          ],
          "name": "stdout"
        }
      ]
    },
    {
      "cell_type": "markdown",
      "metadata": {
        "id": "o1fGOD31RTjn",
        "colab_type": "text"
      },
      "source": [
        "##Separando os atributos e as classes - Separar variáveis explanatórias de variável alvo\n"
      ]
    },
    {
      "cell_type": "code",
      "metadata": {
        "id": "rUdq_gGTRmtQ",
        "colab_type": "code",
        "colab": {}
      },
      "source": [
        "%%R\n",
        "test.feature.vars <- test.data[,-1] # Variável Explanatória: Retornar todas as linhas e todas as colunas exceto a primeira\n",
        "test.class.var <- test.data[,1]     # Variável Resposta:     Retornar todas as linhas e apenas a primeira coluna\n"
      ],
      "execution_count": 32,
      "outputs": []
    },
    {
      "cell_type": "code",
      "metadata": {
        "id": "0AYiCY_wiIM9",
        "colab_type": "code",
        "colab": {
          "base_uri": "https://localhost:8080/",
          "height": 390
        },
        "outputId": "bbde3348-45f8-469e-ff89-1ba65ee0cafa"
      },
      "source": [
        "%%R\n",
        "str(test.feature.vars)"
      ],
      "execution_count": 34,
      "outputs": [
        {
          "output_type": "stream",
          "text": [
            "'data.frame':\t400 obs. of  20 variables:\n",
            " $ account.balance               : Factor w/ 3 levels \"1\",\"2\",\"3\": 1 2 1 1 1 2 2 1 3 1 ...\n",
            " $ credit.duration.months        : num [1:400, 1] -1.07 0.257 0.754 -0.241 -1.236 ...\n",
            " $ previous.credit.payment.status: Factor w/ 3 levels \"1\",\"2\",\"3\": 3 2 3 2 2 2 3 3 3 2 ...\n",
            " $ credit.purpose                : Factor w/ 4 levels \"1\",\"2\",\"3\",\"4\": 4 3 1 3 3 3 4 4 3 4 ...\n",
            " $ credit.amount                 : num [1:400, 1] 0.0449 0.1724 1.0329 -0.473 -0.2211 ...\n",
            " $ savings                       : Factor w/ 4 levels \"1\",\"2\",\"3\",\"4\": 1 3 2 4 3 3 1 4 1 1 ...\n",
            " $ employment.duration           : Factor w/ 4 levels \"1\",\"2\",\"3\",\"4\": 3 1 3 3 2 1 1 1 4 1 ...\n",
            " $ installment.rate              : Factor w/ 4 levels \"1\",\"2\",\"3\",\"4\": 1 1 1 2 2 1 1 1 4 2 ...\n",
            " $ marital.status                : Factor w/ 3 levels \"1\",\"3\",\"4\": 2 1 3 3 2 3 2 2 2 2 ...\n",
            " $ guarantor                     : Factor w/ 2 levels \"1\",\"2\": 1 1 1 1 1 1 1 1 1 1 ...\n",
            " $ residence.duration            : Factor w/ 4 levels \"1\",\"2\",\"3\",\"4\": 4 4 4 4 3 3 3 3 4 3 ...\n",
            " $ current.assets                : Factor w/ 4 levels \"1\",\"2\",\"3\",\"4\": 1 4 3 3 1 1 1 1 2 1 ...\n",
            " $ age                           : num [1:400, 1] 0.305 -1.105 -1.017 -1.105 0.745 ...\n",
            " $ other.credits                 : Factor w/ 2 levels \"1\",\"2\": 2 2 2 2 2 2 1 2 2 2 ...\n",
            " $ apartment.type                : Factor w/ 3 levels \"1\",\"2\",\"3\": 2 1 1 1 1 1 2 2 2 2 ...\n",
            " $ bank.credits                  : Factor w/ 2 levels \"1\",\"2\": 2 1 2 2 1 1 2 2 1 1 ...\n",
            " $ occupation                    : Factor w/ 4 levels \"1\",\"2\",\"3\",\"4\": 2 1 3 2 3 3 2 2 3 3 ...\n",
            " $ dependents                    : Factor w/ 2 levels \"1\",\"2\": 1 1 1 1 2 1 2 2 1 1 ...\n",
            " $ telephone                     : Factor w/ 2 levels \"1\",\"2\": 1 1 1 1 1 1 1 1 1 1 ...\n",
            " $ foreign.worker                : Factor w/ 2 levels \"1\",\"2\": 2 1 1 1 1 1 1 1 1 1 ...\n"
          ],
          "name": "stdout"
        }
      ]
    },
    {
      "cell_type": "code",
      "metadata": {
        "id": "2XEJLisYiIA3",
        "colab_type": "code",
        "colab": {
          "base_uri": "https://localhost:8080/",
          "height": 35
        },
        "outputId": "8f7bc3e1-581f-46a5-ce78-5012deed17ca"
      },
      "source": [
        "%%R \n",
        "str(test.class.var) # Resposta"
      ],
      "execution_count": 35,
      "outputs": [
        {
          "output_type": "stream",
          "text": [
            " Factor w/ 2 levels \"0\",\"1\": 2 2 2 2 2 2 2 2 2 2 ...\n"
          ],
          "name": "stdout"
        }
      ]
    },
    {
      "cell_type": "markdown",
      "metadata": {
        "id": "_C392MqJpYId",
        "colab_type": "text"
      },
      "source": [
        "---"
      ]
    },
    {
      "cell_type": "markdown",
      "metadata": {
        "id": "drRBSLaQR4PL",
        "colab_type": "text"
      },
      "source": [
        "##Construindo Modelo de Regressão Logística\n"
      ]
    },
    {
      "cell_type": "code",
      "metadata": {
        "id": "0nkPBeSfR_Tk",
        "colab_type": "code",
        "colab": {}
      },
      "source": [
        "%%R\n",
        "formula.init <- \"credit.rating ~ .\"       # criar uma string de fórmula : resposta ~ demais variáveis explanatórias\n",
        "formula.init <- as.formula(formula.init)  # definir como fórmula o parâmetro string formula.init"
      ],
      "execution_count": 36,
      "outputs": []
    },
    {
      "cell_type": "markdown",
      "metadata": {
        "id": "JpbvCdtrqFd3",
        "colab_type": "text"
      },
      "source": [
        "## Criar o modelo de Regressão Logística"
      ]
    },
    {
      "cell_type": "code",
      "metadata": {
        "id": "xfSKhdz7qIrC",
        "colab_type": "code",
        "colab": {}
      },
      "source": [
        "%%R\n",
        "# help(glm)\n",
        "modelo_v1 <- glm(formula = formula.init, # passar a formula definida como parâmetro\n",
        "                 data = train.data,      # indicar os dados de treino \n",
        "                 family = \"binomial\")    # indicar a família, na prática é uma classificação binária 1/0"
      ],
      "execution_count": 37,
      "outputs": []
    },
    {
      "cell_type": "markdown",
      "metadata": {
        "id": "9RXUYe2cSWaf",
        "colab_type": "text"
      },
      "source": [
        "##Visualizando os detalhes do modelo"
      ]
    },
    {
      "cell_type": "code",
      "metadata": {
        "id": "QNX14GDFSZQx",
        "colab_type": "code",
        "colab": {
          "base_uri": "https://localhost:8080/",
          "height": 1000
        },
        "outputId": "c9536095-ee19-40d6-cc72-333b63a09321"
      },
      "source": [
        "%%R\n",
        "summary(modelo_v1) # summary retorna o resumo total do modelo\n",
        "\n",
        "# primeiro temos o intercepto\n",
        "# posteriormente o nome de cada variável que são so demais coeficientes\n",
        "# temos o valor estimado, o Erro Padrão, valor-z e valor-p\n",
        "# de acordo com valor-p conseguimos identificar se a variável ajuda ou não a explicar a variabilidade de variável resposta\n",
        "# os asteriscos indicam o quão relevante ou significante cada variável é p/ o modelo"
      ],
      "execution_count": 38,
      "outputs": [
        {
          "output_type": "stream",
          "text": [
            "\n",
            "Call:\n",
            "glm(formula = formula.init, family = \"binomial\", data = train.data)\n",
            "\n",
            "Deviance Residuals: \n",
            "    Min       1Q   Median       3Q      Max  \n",
            "-2.4918  -0.6999   0.3708   0.7196   2.4332  \n",
            "\n",
            "Coefficients:\n",
            "                                Estimate Std. Error z value Pr(>|z|)    \n",
            "(Intercept)                      -0.9040     1.0037  -0.901 0.367778    \n",
            "account.balance2                  0.5468     0.2837   1.927 0.0539
