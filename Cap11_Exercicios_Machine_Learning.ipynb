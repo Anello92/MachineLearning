{
  "nbformat": 4,
  "nbformat_minor": 0,
  "metadata": {
    "colab": {
      "name": "Cap11-Exercicios-Machine-Learning.ipynb",
      "provenance": [],
      "collapsed_sections": []
    },
    "kernelspec": {
      "name": "python3",
      "display_name": "Python 3"
    },
    "accelerator": "GPU"
  },
  "cells": [
    {
      "cell_type": "code",
      "metadata": {
        "id": "TngeynJmZ4fT",
        "colab_type": "code",
        "colab": {}
      },
      "source": [
        "# activate R magic\n",
        "%load_ext rpy2.ipython\n"
      ],
      "execution_count": 0,
      "outputs": []
    },
    {
      "cell_type": "markdown",
      "metadata": {
        "id": "i7qz_98yZ7tN",
        "colab_type": "text"
      },
      "source": [
        "##Massa de dados aleatória\n",
        "\n",
        "###Criando a massa de dados (apesar de aleatória, *Y* possui uma relação com dados de *X*)"
      ]
    },
    {
      "cell_type": "code",
      "metadata": {
        "id": "9e2gB5R9aH6I",
        "colab_type": "code",
        "colab": {}
      },
      "source": [
        "%%R\n",
        "  # Criar dados de maneira aleatória é uma boa estratégia para testar o modelo de Machine Learning\n",
        "  x <- seq(0, 100)\n",
        "  y <- 2 * x + 35"
      ],
      "execution_count": 0,
      "outputs": []
    },
    {
      "cell_type": "code",
      "metadata": {
        "id": "dLp7fwdHaSti",
        "colab_type": "code",
        "colab": {
          "base_uri": "https://localhost:8080/",
          "height": 123
        },
        "outputId": "faa39747-2c30-44e9-cd09-8d6a0c868521"
      },
      "source": [
        "%%R\n",
        "# Imprimir a variável x\n",
        "x"
      ],
      "execution_count": 39,
      "outputs": [
        {
          "output_type": "stream",
          "text": [
            "  [1]   0   1   2   3   4   5   6   7   8   9  10  11  12  13  14  15  16  17\n",
            " [19]  18  19  20  21  22  23  24  25  26  27  28  29  30  31  32  33  34  35\n",
            " [37]  36  37  38  39  40  41  42  43  44  45  46  47  48  49  50  51  52  53\n",
            " [55]  54  55  56  57  58  59  60  61  62  63  64  65  66  67  68  69  70  71\n",
            " [73]  72  73  74  75  76  77  78  79  80  81  82  83  84  85  86  87  88  89\n",
            " [91]  90  91  92  93  94  95  96  97  98  99 100\n"
          ],
          "name": "stdout"
        }
      ]
    },
    {
      "cell_type": "code",
      "metadata": {
        "id": "tV_ioccWaUzR",
        "colab_type": "code",
        "colab": {
          "base_uri": "https://localhost:8080/",
          "height": 123
        },
        "outputId": "e95592e1-fe56-44a0-a79a-d4eebac23054"
      },
      "source": [
        "%%R\n",
        "# Imprimir a variável y\n",
        "y"
      ],
      "execution_count": 40,
      "outputs": [
        {
          "output_type": "stream",
          "text": [
            "  [1]  35  37  39  41  43  45  47  49  51  53  55  57  59  61  63  65  67  69\n",
            " [19]  71  73  75  77  79  81  83  85  87  89  91  93  95  97  99 101 103 105\n",
            " [37] 107 109 111 113 115 117 119 121 123 125 127 129 131 133 135 137 139 141\n",
            " [55] 143 145 147 149 151 153 155 157 159 161 163 165 167 169 171 173 175 177\n",
            " [73] 179 181 183 185 187 189 191 193 195 197 199 201 203 205 207 209 211 213\n",
            " [91] 215 217 219 221 223 225 227 229 231 233 235\n"
          ],
          "name": "stdout"
        }
      ]
    },
    {
      "cell_type": "code",
      "metadata": {
        "id": "rjeftQJ4aXmS",
        "colab_type": "code",
        "colab": {}
      },
      "source": [
        "%%R\n",
        "# Gerar uma distribuição normal para gravar em y1, são valores aleatórios, uma massa de dados de Teste. \n",
        "# A massa de dados não pode ser totalmente arbitrária, porque senão os testes podem não ser promissores. \n",
        "y1 <- y + rnorm(101, 0, 50)"
      ],
      "execution_count": 0,
      "outputs": []
    },
    {
      "cell_type": "code",
      "metadata": {
        "id": "kgP3fW6Co91o",
        "colab_type": "code",
        "colab": {
          "base_uri": "https://localhost:8080/",
          "height": 318
        },
        "outputId": "c5cc25c3-0e7e-45ef-d3a1-10432da842eb"
      },
      "source": [
        "%%R\n",
        "# Imprimir a variável y1\n",
        "y1"
      ],
      "execution_count": 42,
      "outputs": [
        {
          "output_type": "stream",
          "text": [
            "  [1]  87.955097  -6.160964 -21.474531 -21.285141 114.090077 -32.733172\n",
            "  [7] 131.184319 220.467202  64.511025  24.367628  67.224781  77.827406\n",
            " [13]  83.428499   9.235310  95.869956  57.825499  90.507860  94.883379\n",
            " [19]  29.417119  84.832270  47.274236  34.903111   4.052896  65.794189\n",
            " [25] 124.990068  32.986050 130.732577  94.024239  54.398234 134.921235\n",
            " [31]  79.741230 138.461220 105.778124  15.547922  53.467680  72.626552\n",
            " [37] 124.854863  96.612706  58.229605 145.869018 122.938340 141.269654\n",
            " [43]  65.087980  81.062921 206.651329 132.144297 131.448953  85.483273\n",
            " [49] 168.440567 135.058998  80.251975 133.544036 100.350391  55.241596\n",
            " [55]  91.439384 195.406488 182.612992 129.869448 223.754664  88.467684\n",
            " [61] 319.002626 237.141579 154.471404 192.650988 200.458197 170.378775\n",
            " [67] 121.773144 178.263818 170.826193 153.996896 137.182584 131.300894\n",
            " [73] 243.445942 140.992073 147.198476 171.451715  21.991174 136.009323\n",
            " [79] 132.228474 138.453238 245.465467 127.841401 314.409758 254.704362\n",
            " [85] 186.254135 128.715166 149.573255 185.607642 297.173505 244.504328\n",
            " [91] 276.517181 239.237036 254.554296 214.280462 184.930266 207.104656\n",
            " [97] 242.069710 270.314186 278.739524 265.838089 248.098111\n"
          ],
          "name": "stdout"
        }
      ]
    },
    {
      "cell_type": "code",
      "metadata": {
        "id": "CK7EyRGVaYp6",
        "colab_type": "code",
        "colab": {
          "base_uri": "https://localhost:8080/",
          "height": 496
        },
        "outputId": "16df5a1e-bbc2-4ac1-ab72-7d38f4db3ea4"
      },
      "source": [
        "%%R\n",
        "hist(y1) # Temos algo perto de uma distribuição normal"
      ],
      "execution_count": 43,
      "outputs": [
        {
          "output_type": "display_data",
          "data": {
            "image/png": "[encoded data removed]"
          },
          "metadata": {
            "tags": []
          }
        }
      ]
    },
    {
      "cell_type": "code",
      "metadata": {
        "id": "5gkmTgivaZ04",
        "colab_type": "code",
        "colab": {
          "base_uri": "https://localhost:8080/",
          "height": 496
        },
        "outputId": "417f031b-9426-4f11-c179-d46b95f67789"
      },
      "source": [
        "%%R\n",
        "# Criar um plot de dispersão do relacionamento de x e y1\n",
        "plot(x, y1, pch = 19, xlab = 'X', ylab = 'Y')\n",
        "# Olhando para o gráfico é possível detectar que existe uma correlação positiva\n",
        "# A medida que x aumenta, aumenta também o valor de y"
      ],
      "execution_count": 44,
      "outputs": [
        {
          "output_type": "display_data",
          "data": {
            "image/png": "[encoded data removed]"
          },
          "metadata": {
            "tags": []
          }
        }
      ]
    },
    {
      "cell_type": "markdown",
      "metadata": {
        "id": "ZotZFWAostBu",
        "colab_type": "text"
      },
      "source": [
        "### Criar modelo de regressão (y1 target ~ x preditora)\n"
      ]
    },
    {
      "cell_type": "code",
      "metadata": {
        "id": "C8ayxAXxaa0Z",
        "colab_type": "code",
        "colab": {
          "base_uri": "https://localhost:8080/",
          "height": 158
        },
        "outputId": "76c9b7b9-1507-4026-d5d0-0bc2a68dad45"
      },
      "source": [
        "%%R\n",
        "modelo <- lm(y1 ~ x) # Modelo mais simples de ser feito\n",
        "modelo"
      ],
      "execution_count": 45,
      "outputs": [
        {
          "output_type": "stream",
          "text": [
            "\n",
            "Call:\n",
            "lm(formula = y1 ~ x)\n",
            "\n",
            "Coefficients:\n",
            "(Intercept)            x  \n",
            "     32.650        2.027  \n",
            "\n"
          ],
          "name": "stdout"
        }
      ]
    },
    {
      "cell_type": "markdown",
      "metadata": {
        "id": "GEDP84xXtgqo",
        "colab_type": "text"
      },
      "source": [
        "### Regressão Linear Simples - Uma variável preditora"
      ]
    },
    {
      "cell_type": "code",
      "metadata": {
        "id": "U9vu2RQqacJR",
        "colab_type": "code",
        "colab": {
          "base_uri": "https://localhost:8080/",
          "height": 34
        },
        "outputId": "374ebc68-83ee-4c9b-808f-adf6c67a31e5"
      },
      "source": [
        "%%R\n",
        "class(modelo)"
      ],
      "execution_count": 46,
      "outputs": [
        {
          "output_type": "stream",
          "text": [
            "[1] \"lm\"\n"
          ],
          "name": "stdout"
        }
      ]
    },
    {
      "cell_type": "code",
      "metadata": {
        "id": "LjuuDELzae0T",
        "colab_type": "code",
        "colab": {}
      },
      "source": [
        "%%R\n",
        "A <- modelo$coefficients[1] # Capturar o coeficente apontando o índice"
      ],
      "execution_count": 0,
      "outputs": []
    },
    {
      "cell_type": "code",
      "metadata": {
        "id": "mekHdAvkafsM",
        "colab_type": "code",
        "colab": {}
      },
      "source": [
        "%%R\n",
        "B <- modelo$coefficients[2] # Capturar o coeficente apontando o índice"
      ],
      "execution_count": 0,
      "outputs": []
    },
    {
      "cell_type": "markdown",
      "metadata": {
        "id": "Rl5S0yUpvvht",
        "colab_type": "text"
      },
      "source": [
        "#### Utilizar coeficientes A e B aprendidos pelo modelo e alimentar os valores de X para retornar as previsões de Y. \n",
        "\n",
        "#### O que fazemos é montar a equação para realizar as previsões. Pegamos os coeficientes A e B que o modelo já aprendeu, selecionamos os dados de entrada X e atribuímos isso a Y, a variável de saída. Isso é Machine Learning\n",
        "\n",
        "#### O que muda, é algoritmo que aprendes os coeficientes. "
      ]
    },
    {
      "cell_type": "code",
      "metadata": {
        "id": "Qc0Ib6hCahTx",
        "colab_type": "code",
        "colab": {
          "base_uri": "https://localhost:8080/",
          "height": 283
        },
        "outputId": "09e1f82a-4ffe-4cf9-8c5c-51f9ac041498"
      },
      "source": [
        "%%R\n",
        "y2 <- a + b*x  # Fazer as previsões e gravar em Y2\n",
        "y2"
      ],
      "execution_count": 49,
      "outputs": [
        {
          "output_type": "stream",
          "text": [
            "  [1]  36.28829  38.16539  40.04249  41.91959  43.79669  45.67380  47.55090\n",
            "  [8]  49.42800  51.30510  53.18220  55.05930  56.93641  58.81351  60.69061\n",
            " [15]  62.56771  64.44481  66.32191  68.19902  70.07612  71.95322  73.83032\n",
            " [22]  75.70742  77.58453  79.46163  81.33873  83.21583  85.09293  86.97003\n",
            " [29]  88.84714  90.72424  92.60134  94.47844  96.35554  98.23264 100.10975\n",
            " [36] 101.98685 103.86395 105.74105 107.61815 109.49526 111.37236 113.24946\n",
            " [43] 115.12656 117.00366 118.88076 120.75787 122.63497 124.51207 126.38917\n",
            " [50] 128.26627 130.14338 132.02048 133.89758 135.77468 137.65178 139.52888\n",
            " [57] 141.40599 143.28309 145.16019 147.03729 148.91439 150.79149 152.66860\n",
            " [64] 154.54570 156.42280 158.29990 160.17700 162.05411 163.93121 165.80831\n",
            " [71] 167.68541 169.56251 171.43961 173.31672 175.19382 177.07092 178.94802\n",
            " [78] 180.82512 182.70222 184.57933 186.45643 188.33353 190.21063 192.08773\n",
            " [85] 193.96484 195.84194 197.71904 199.59614 201.47324 203.35034 205.22745\n",
            " [92] 207.10455 208.98165 210.85875 212.73585 214.61295 216.49006 218.36716\n",
            " [99] 220.24426 222.12136 223.99846\n"
          ],
          "name": "stdout"
        }
      ]
    },
    {
      "cell_type": "markdown",
      "metadata": {
        "id": "MqmQPO4KytS9",
        "colab_type": "text"
      },
      "source": [
        "#### Chamar a função lines() e plotar X e Y2, retornando a Linha de Regressão que contém a previsão dos dados.\n",
        "#### A partir de agora podemos pegar qualquer valor de X, traçar uma linha imaginária até a reta e obter o valor correspondente de Y"
      ]
    },
    {
      "cell_type": "code",
      "metadata": {
        "id": "ddD82bhEaiPh",
        "colab_type": "code",
        "colab": {}
      },
      "source": [
        "%%R\n",
        "lines(x, y2, lwd = 2)\n",
        "# REEEEEEEEEEEEEEEEEEEEEEEEEEEEEEEEEEEEEEEEEEEEEEEEEEEEEEEEEEEEVER"
      ],
      "execution_count": 0,
      "outputs": []
    },
    {
      "cell_type": "code",
      "metadata": {
        "id": "GvPz1Fh1alGq",
        "colab_type": "code",
        "colab": {}
      },
      "source": [
        "%%R\n",
        "# Simulando outras possíveis linhas de regressão\n",
        "y3 <- (y2[51]-50*(b-1))+(b-1)*x\n",
        "y4 <- (y2[51]-50*(b+1))+(b+1)*x\n",
        "y5 <- (y2[51]-50*(b+2))+(b+2)*x"
      ],
      "execution_count": 0,
      "outputs": []
    },
    {
      "cell_type": "code",
      "metadata": {
        "id": "c4dwmNMramAy",
        "colab_type": "code",
        "colab": {}
      },
      "source": [
        "%%R \n",
        "# Plotar linha no mesmo gráfico\n",
        "lines(x,y3,lty=3)"
      ],
      "execution_count": 0,
      "outputs": []
    },
    {
      "cell_type": "code",
      "metadata": {
        "id": "Ey_6Jm4uanXS",
        "colab_type": "code",
        "colab": {}
      },
      "source": [
        "%%R\n",
        "# Plotar linha no mesmo gráfico\n",
        "lines(x,y4,lty=3)"
      ],
      "execution_count": 0,
      "outputs": []
    },
    {
      "cell_type": "code",
      "metadata": {
        "id": "NwEImeVLa6cU",
        "colab_type": "code",
        "colab": {}
      },
      "source": [
        "%%R\n",
        "# Plotar linha no mesmo gráfico\n",
        "lines(x,y5,lty=3)"
      ],
      "execution_count": 0,
      "outputs": []
    },
    {
      "cell_type": "markdown",
      "metadata": {
        "id": "Jh2qNYwJa7qT",
        "colab_type": "text"
      },
      "source": [
        "## Pesquisa sobre idade e tempo de reação "
      ]
    },
    {
      "cell_type": "code",
      "metadata": {
        "id": "v0CVfkPDbAWv",
        "colab_type": "code",
        "colab": {}
      },
      "source": [
        "%%R\n",
        "# Criar uma lista com idade\n",
        "Idade <- c(9,13,14,21,15,18,20,8,14,23,16,21,10,12,20,\n",
        "           9,13,5,15,21)"
      ],
      "execution_count": 0,
      "outputs": []
    },
    {
      "cell_type": "code",
      "metadata": {
        "id": "xGcelpM-bAUE",
        "colab_type": "code",
        "colab": {}
      },
      "source": [
        "%%R\n",
        "# Criar uma lista com valores de tempo de reação \n",
        "Tempo <- c(17.87,13.75,12.72,6.98,11.01,10.48,10.19,19.11,\n",
        "           12.72,0.45,10.67,1.59,14.91,14.14,9.40,16.23,\n",
        "           12.74,20.64,12.34,6.44)"
      ],
      "execution_count": 0,
      "outputs": []
    },
    {
      "cell_type": "code",
      "metadata": {
        "id": "-fWeOz6abARM",
        "colab_type": "code",
        "colab": {
          "base_uri": "https://localhost:8080/",
          "height": 496
        },
        "outputId": "c3afb884-5eec-4ea5-8cbc-0f8f3ee1a171"
      },
      "source": [
        "%%R\n",
        "# Criar um ScatterPlot \n",
        "plot(Idade, Tempo, \n",
        "     xlab = 'Idade', \n",
        "     ylab = 'Tempo de Reação') # A medida que a idade aumenta, diminui o tempo de reação"
      ],
      "execution_count": 105,
      "outputs": [
        {
          "output_type": "display_data",
          "data": {
            "image/png": "[encoded data removed]"
          },
          "metadata": {
            "tags": []
          }
        }
      ]
    },
    {
      "cell_type": "code",
      "metadata": {
        "id": "jYjdn0qPbAOQ",
        "colab_type": "code",
        "colab": {
          "base_uri": "https://localhost:8080/",
          "height": 158
        },
        "outputId": "2cf756b0-5570-4fe9-91ac-05dbead62ab2"
      },
      "source": [
        "%%R\n",
        "# Criar um modelo de regressão relacionando a variável alvo tempo de reação e idade como variável preditora\n",
        "modelo <- lm(Tempo ~ Idade)\n",
        "modelo"
      ],
      "execution_count": 106,
      "outputs": [
        {
          "output_type": "stream",
          "text": [
            "\n",
            "Call:\n",
            "lm(formula = Tempo ~ Idade)\n",
            "\n",
            "Coefficients:\n",
            "(Intercept)        Idade  \n",
            "    25.8134      -0.9491  \n",
            "\n"
          ],
          "name": "stdout"
        }
      ]
    },
    {
      "cell_type": "code",
      "metadata": {
        "id": "5dKHJzbebUOT",
        "colab_type": "code",
        "colab": {}
      },
      "source": [
        "%%R\n",
        "# Calcular a reta de regressão\n",
        "y <- a + b*x\n",
        "reta <- 25.8134 - 0.9491 * Idade\n",
        "# Coeficiente A é o primeiro intercepto do Call\n",
        "# Coeficiente B é o segundo valor multiplicado da varíavel preditora"
      ],
      "execution_count": 0,
      "outputs": []
    },
    {
      "cell_type": "code",
      "metadata": {
        "id": "_Cekalt3beQS",
        "colab_type": "code",
        "colab": {
          "base_uri": "https://localhost:8080/",
          "height": 158
        },
        "outputId": "44c231d4-bbb6-49da-a753-a6be28d80296"
      },
      "source": [
        "%%R\n",
        "# Criar a reta de regressão. A reta contém as previsões que basicamente é a forma que fazemos o fit do modelo. \n",
        "# A partir de agora, com qualquer idade que tenhamos, conseguimos fazer a previsão baseado no cruzamento da reta. \n",
        "lines(Idade,reta)"
      ],
      "execution_count": 109,
      "outputs": [
        {
          "output_type": "stream",
          "text": [
            "R[write to console]: Error in plot.xy(xy.coords(x, y), type = type, ...) : \n",
            "  plot.new has not been called yet\n",
            "Calls: <Anonymous> ... <Anonymous> -> withVisible -> lines -> lines.default -> plot.xy\n",
            "\n"
          ],
          "name": "stderr"
        },
        {
          "output_type": "stream",
          "text": [
            "\n",
            "Error in plot.xy(xy.coords(x, y), type = type, ...) : \n",
            "  plot.new has not been called yet\n",
            "Calls: <Anonymous> ... <Anonymous> -> withVisible -> lines -> lines.default -> plot.xy\n"
          ],
          "name": "stdout"
        }
      ]
    },
    {
      "cell_type": "markdown",
      "metadata": {
        "id": "AviNynSSbhsz",
        "colab_type": "text"
      },
      "source": [
        "## Estudar a relação entre altura e peso"
      ]
    },
    {
      "cell_type": "code",
      "metadata": {
        "id": "ljt7dXCVbl38",
        "colab_type": "code",
        "colab": {}
      },
      "source": [
        "%%R\n",
        "# Criar listas de altura e peso\n",
        "alturas = c(176, 154, 138, 196, 132, 176, 181, 169, 150, 175)\n",
        "pesos = c(82, 49, 53, 112, 47, 69, 77, 71, 62, 78)"
      ],
      "execution_count": 0,
      "outputs": []
    },
    {
      "cell_type": "code",
      "metadata": {
        "id": "kfVwu5swbm6c",
        "colab_type": "code",
        "colab": {
          "base_uri": "https://localhost:8080/",
          "height": 496
        },
        "outputId": "e6c17199-0a7d-4348-bbb4-bfb5f9f2d112"
      },
      "source": [
        "%%R\n",
        "plot(alturas, pesos, pch = 16, cex = 1.3, col = \"blue\", \n",
        "     main = \"Altura x Peso\", \n",
        "     ylab = \"Peso Corporal (kg)\", \n",
        "     xlab = \"Altura (cm)\")\n",
        "# Possível visualizar uma correlação positiva entre altura e peso\n"
      ],
      "execution_count": 267,
      "outputs": [
        {
          "output_type": "display_data",
          "data": {
            "image/png": "[encoded data removed]"
          },
          "metadata": {
            "tags": []
          }
        }
      ]
    },
    {
      "cell_type": "code",
      "metadata": {
        "id": "VlTF-4Gvbp4k",
        "colab_type": "code",
        "colab": {}
      },
      "source": [
        "%%R\n",
        "# Criar o modelo de regressão onde peso é a variável alvo e altura a variável preditora\n",
        "modelo <- lm(pesos ~ alturas)"
      ],
      "execution_count": 0,
      "outputs": []
    },
    {
      "cell_type": "code",
      "metadata": {
        "id": "n0aPJXqDbthc",
        "colab_type": "code",
        "colab": {
          "base_uri": "https://localhost:8080/",
          "height": 158
        },
        "outputId": "4a82598c-044c-4cef-879c-32406754baeb"
      },
      "source": [
        "%%R\n",
        "# Visualizando o modelo\n",
        "modelo"
      ],
      "execution_count": 115,
      "outputs": [
        {
          "output_type": "stream",
          "text": [
            "\n",
            "Call:\n",
            "lm(formula = pesos ~ alturas)\n",
            "\n",
            "Coefficients:\n",
            "(Intercept)      alturas  \n",
            "   -70.4627       0.8528  \n",
            "\n"
          ],
          "name": "stdout"
        }
      ]
    },
    {
      "cell_type": "code",
      "metadata": {
        "id": "n1I_OxbVBNxu",
        "colab_type": "code",
        "colab": {
          "base_uri": "https://localhost:8080/",
          "height": 354
        },
        "outputId": "b22f66b0-a4f1-4542-bbeb-ca29d395f084"
      },
      "source": [
        "%%R\n",
        "summary(modelo) # Ao impimir o sumário temos todos os detalhes do modelo"
      ],
      "execution_count": 116,
      "outputs": [
        {
          "output_type": "stream",
          "text": [
            "\n",
            "Call:\n",
            "lm(formula = pesos ~ alturas)\n",
            "\n",
            "Residuals:\n",
            "     Min       1Q   Median       3Q      Max \n",
            "-11.8746  -5.8428   0.7893   4.8001  15.3061 \n",
            "\n",
            "Coefficients:\n",
            "            Estimate Std. Error t value Pr(>|t|)    \n",
            "(Intercept) -70.4627    24.0148  -2.934 0.018878 *  \n",
            "alturas       0.8528     0.1448   5.889 0.000366 ***\n",
            "---\n",
            "Signif. codes:  0 ‘***’ 0.001 ‘**’ 0.01 ‘*’ 0.05 ‘.’ 0.1 ‘ ’ 1\n",
            "\n",
            "Residual standard error: 8.854 on 8 degrees of freedom\n",
            "Multiple R-squared:  0.8126,\tAdjusted R-squared:  0.7891 \n",
            "F-statistic: 34.68 on 1 and 8 DF,  p-value: 0.0003662\n",
            "\n"
          ],
          "name": "stdout"
        }
      ]
    },
    {
      "cell_type": "markdown",
      "metadata": {
        "id": "0omCbca_Bf66",
        "colab_type": "text"
      },
      "source": [
        "##Linha de Regressão com abline()"
      ]
    },
    {
      "cell_type": "code",
      "metadata": {
        "id": "IINHAVW_bvYP",
        "colab_type": "code",
        "colab": {
          "base_uri": "https://localhost:8080/",
          "height": 496
        },
        "outputId": "9f4b51f9-f55d-4589-ef7a-d668c078c7de"
      },
      "source": [
        "%%R\n",
        "# Gerar linha de regressão repassando o valor dos coeficientes (intercepto e preditoras) a partir do retorno do  modelo de regressão \n",
        "plot(alturas, pesos, pch = 16, cex = 1.3, col = \"blue\", \n",
        "     main = \"Altura x Peso\", \n",
        "     ylab = \"Peso Corporal (kg)\", \n",
        "     xlab = \"Altura (cm)\")\n",
        "# Possível visualizar uma correlação positiva entre altura e peso\n",
        "abline(-70.4627, 0.8528)"
      ],
      "execution_count": 268,
      "outputs": [
        {
          "output_type": "display_data",
          "data": {
            "image/png": "[encoded data removed]"
          },
          "metadata": {
            "tags": []
          }
        }
      ]
    },
    {
      "cell_type": "markdown",
      "metadata": {
        "id": "s2kbeY2WCm9O",
        "colab_type": "text"
      },
      "source": [
        "## Analizar um novo conjunto de alturas. Testar o modelo com novo conjunto de dados. "
      ]
    },
    {
      "cell_type": "code",
      "metadata": {
        "id": "u2eJr0IKbwq6",
        "colab_type": "code",
        "colab": {}
      },
      "source": [
        "%%R\n",
        "# Fazer as previsões de pesos com base na nova lista de alturas\n",
        "alturas2 = data.frame(c(179, 152, 134, 197, 131, 178, 185, 162, 155, 172))"
      ],
      "execution_count": 0,
      "outputs": []
    },
    {
      "cell_type": "code",
      "metadata": {
        "id": "cCojHhSyDFh2",
        "colab_type": "code",
        "colab": {
          "base_uri": "https://localhost:8080/",
          "height": 87
        },
        "outputId": "39f964ed-2fec-4e2f-d729-f98078da5bb4"
      },
      "source": [
        "%%R\n",
        "# Para aplicar a função predict, o conjunto de dados deve estar no formato de data.frame()\n",
        "previsao <- predict(modelo, alturas2) # Os parâmetros são o nome do modelo e nova lista de entrada\n",
        "previsao\n"
      ],
      "execution_count": 120,
      "outputs": [
        {
          "output_type": "stream",
          "text": [
            "       1        2        3        4        5        6        7        8 \n",
            "79.63709 60.87462 47.22918 96.69388 42.11214 79.63709 83.90129 73.66721 \n",
            "       9       10 \n",
            "57.46326 78.78425 \n"
          ],
          "name": "stdout"
        }
      ]
    },
    {
      "cell_type": "markdown",
      "metadata": {
        "id": "uz4oT0f_DdKi",
        "colab_type": "text"
      },
      "source": [
        "\n",
        "\n",
        "*   Quando uma pessoa tiver uma altura de 1.79, provavelmente seu peso será de 79kg\n",
        "*   Quando uma pessoa tiver uma altura de 1.52, provavelmente seu peso será de 60kg\n",
        "*   Quando uma pessoa tiver uma altura de 1.34, provavelmente seu peso será de 47kg\n",
        "*   Quando uma pessoa tiver uma altura de 1.97, provavelmente seu peso será de 96kg\n"
      ]
    },
    {
      "cell_type": "code",
      "metadata": {
        "id": "kHmASSGtbzMP",
        "colab_type": "code",
        "colab": {
          "base_uri": "https://localhost:8080/",
          "height": 496
        },
        "outputId": "e0b486ff-7559-421f-a11c-9610ee3e5fbc"
      },
      "source": [
        "%%R\n",
        "# Construir a linha de regressão usando como parâmetro exatamente o modelo de regressão linear\n",
        "plot(alturas, pesos, pch = 16, cex = 1.3, \n",
        "     col = \"blue\", \n",
        "     main = \"Altura x Peso\", \n",
        "     ylab = \"Peso (kg)\", \n",
        "     xlab = \"Altura (cm)\")\n",
        "abline(lm(pesos ~ alturas)) # Resultado é o mesmo e com menos programação "
      ],
      "execution_count": 270,
      "outputs": [
        {
          "output_type": "display_data",
          "data": {
            "image/png": "[encoded data removed]"
          },
          "metadata": {
            "tags": []
          }
        }
      ]
    },
    {
      "cell_type": "code",
      "metadata": {
        "id": "pVzWXTIeb0Rw",
        "colab_type": "code",
        "colab": {
          "base_uri": "https://localhost:8080/",
          "height": 34
        },
        "outputId": "c9f75fc2-13d3-41ca-c32d-382a6aa7c148"
      },
      "source": [
        "%%R\n",
        "# Obter o tamanho de uma das amostras de dados, o tamanho da lista de alturas \n",
        "num <- length(alturas)\n",
        "num"
      ],
      "execution_count": 123,
      "outputs": [
        {
          "output_type": "stream",
          "text": [
            "[1] 10\n"
          ],
          "name": "stdout"
        }
      ]
    },
    {
      "cell_type": "markdown",
      "metadata": {
        "id": "PnCen0I5FcvX",
        "colab_type": "text"
      },
      "source": [
        "\n",
        "1.  ### Criar um loop for para percorrer cada uma das alturas da lista \n",
        "2.  ### Chamar a função linas() para cada combinação de altura e peso\n",
        "3.  ### Plotar o modelo em quatro áreas diferentes numa matriz c(2,2)\n",
        "4.  ### O retorno será um conjunto de resíduos (erros do modelo). \n",
        "\n"
      ]
    },
    {
      "cell_type": "code",
      "metadata": {
        "id": "m7aMWdFQb1F3",
        "colab_type": "code",
        "colab": {}
      },
      "source": [
        "%%R\n",
        "# Gerar uma linha de regressão com os valores residuais\n",
        "for (k in 1: num)  \n",
        "  lines(c(alturas[k], alturas[k]), \n",
        "        c(pesos[k], pesos[k]))"
      ],
      "execution_count": 0,
      "outputs": []
    },
    {
      "cell_type": "code",
      "metadata": {
        "id": "WEzFsm2Wb2i4",
        "colab_type": "code",
        "colab": {
          "base_uri": "https://localhost:8080/",
          "height": 496
        },
        "outputId": "56082a25-e6ff-451f-c6f9-dbe2d94aee43"
      },
      "source": [
        "%%R\n",
        "# Gerar gráficos com a distribuição dos resíduos\n",
        "par(mfrow = c(2,2))\n",
        "plot(modelo)"
      ],
      "execution_count": 125,
      "outputs": [
        {
          "output_type": "display_data",
          "data": {
            "image/png": "[encoded data removed]"
          },
          "metadata": {
            "tags": []
          }
        }
      ]
    },
    {
      "cell_type": "markdown",
      "metadata": {
        "id": "KkGJ9ZKNGKl_",
        "colab_type": "text"
      },
      "source": [
        "---"
      ]
    },
    {
      "cell_type": "markdown",
      "metadata": {
        "id": "Vq7SmrZGcCWI",
        "colab_type": "text"
      },
      "source": [
        "## Regressão Linear - Modelo de Machine Learning do Início ao Fim \n",
        "###  Definição do Problema: Prever as notas dos alunos com base em diversas métricas"
      ]
    },
    {
      "cell_type": "code",
      "metadata": {
        "id": "aM-JGqS6cHgS",
        "colab_type": "code",
        "colab": {}
      },
      "source": [
        "# https://archive.ics.uci.edu/ml/datasets/Student+Performance\n",
        "# Vamos prever a nota final (grade) dos alunos"
      ],
      "execution_count": 0,
      "outputs": []
    },
    {
      "cell_type": "code",
      "metadata": {
        "id": "nl9Yw6idcM_M",
        "colab_type": "code",
        "colab": {
          "base_uri": "https://localhost:8080/",
          "height": 159
        },
        "outputId": "0e2e9fb5-1038-46e2-f1e2-7be8c39d6b1b"
      },
      "source": [
        "%%R\n",
        "# Carregando o dataset\n",
        "df <- read.csv2('estudantes.csv')\n",
        "head(df, n=1)"
      ],
      "execution_count": 136,
      "outputs": [
        {
          "output_type": "stream",
          "text": [
            "  school sex age address famsize Pstatus Medu Fedu    Mjob    Fjob reason\n",
            "1     GP   F  18       U     GT3       A    4    4 at_home teacher course\n",
            "  guardian traveltime studytime failures schoolsup famsup paid activities\n",
            "1   mother          2         2        0       yes     no   no         no\n",
            "  nursery higher internet romantic famrel freetime goout Dalc Walc health\n",
            "1     yes    yes       no       no      4        3     4    1    1      3\n",
            "  absences G1 G2 G3\n",
            "1        6  5  6  6\n"
          ],
          "name": "stdout"
        }
      ]
    },
    {
      "cell_type": "code",
      "metadata": {
        "id": "2cDQUetHcM33",
        "colab_type": "code",
        "colab": {
          "base_uri": "https://localhost:8080/",
          "height": 621
        },
        "outputId": "3acbecc6-beb8-4a59-a6e6-058158f6729b"
      },
      "source": [
        "%%R\n",
        "str(df)"
      ],
      "execution_count": 139,
      "outputs": [
        {
          "output_type": "stream",
          "text": [
            "'data.frame':\t395 obs. of  33 variables:\n",
            " $ school    : Factor w/ 2 levels \"GP\",\"MS\": 1 1 1 1 1 1 1 1 1 1 ...\n",
            " $ sex       : Factor w/ 2 levels \"F\",\"M\": 1 1 1 1 1 2 2 1 2 2 ...\n",
            " $ age       : int  18 17 15 15 16 16 16 17 15 15 ...\n",
            " $ address   : Factor w/ 2 levels \"R\",\"U\": 2 2 2 2 2 2 2 2 2 2 ...\n",
            " $ famsize   : Factor w/ 2 levels \"GT3\",\"LE3\": 1 1 2 1 1 2 2 1 2 1 ...\n",
            " $ Pstatus   : Factor w/ 2 levels \"A\",\"T\": 1 2 2 2 2 2 2 1 1 2 ...\n",
            " $ Medu      : int  4 1 1 4 3 4 2 4 3 3 ...\n",
            " $ Fedu      : int  4 1 1 2 3 3 2 4 2 4 ...\n",
            " $ Mjob      : Factor w/ 5 levels \"at_home\",\"health\",..: 1 1 1 2 3 4 3 3 4 3 ...\n",
            " $ Fjob      : Factor w/ 5 levels \"at_home\",\"health\",..: 5 3 3 4 3 3 3 5 3 3 ...\n",
            " $ reason    : Factor w/ 4 levels \"course\",\"home\",..: 1 1 3 2 2 4 2 2 2 2 ...\n",
            " $ guardian  : Factor w/ 3 levels \"father\",\"mother\",..: 2 1 2 2 1 2 2 2 2 2 ...\n",
            " $ traveltime: int  2 1 1 1 1 1 1 2 1 1 ...\n",
            " $ studytime : int  2 2 2 3 2 2 2 2 2 2 ...\n",
            " $ failures  : int  0 0 3 0 0 0 0 0 0 0 ...\n",
            " $ schoolsup : Factor w/ 2 levels \"no\",\"yes\": 2 1 2 1 1 1 1 2 1 1 ...\n",
            " $ famsup    : Factor w/ 2 levels \"no\",\"yes\": 1 2 1 2 2 2 1 2 2 2 ...\n",
            " $ paid      : Factor w/ 2 levels \"no\",\"yes\": 1 1 2 2 2 2 1 1 2 2 ...\n",
            " $ activities: Factor w/ 2 levels \"no\",\"yes\": 1 1 1 2 1 2 1 1 1 2 ...\n",
            " $ nursery   : Factor w/ 2 levels \"no\",\"yes\": 2 1 2 2 2 2 2 2 2 2 ...\n",
            " $ higher    : Factor w/ 2 levels \"no\",\"yes\": 2 2 2 2 2 2 2 2 2 2 ...\n",
            " $ internet  : Factor w/ 2 levels \"no\",\"yes\": 1 2 2 2 1 2 2 1 2 2 ...\n",
            " $ romantic  : Factor w/ 2 levels \"no\",\"yes\": 1 1 1 2 1 1 1 1 1 1 ...\n",
            " $ famrel    : int  4 5 4 3 4 5 4 4 4 5 ...\n",
            " $ freetime  : int  3 3 3 2 3 4 4 1 2 5 ...\n",
            " $ goout     : int  4 3 2 2 2 2 4 4 2 1 ...\n",
            " $ Dalc      : int  1 1 2 1 1 1 1 1 1 1 ...\n",
            " $ Walc      : int  1 1 3 1 2 2 1 1 1 1 ...\n",
            " $ health    : int  3 3 3 5 5 5 3 1 1 5 ...\n",
            " $ absences  : int  6 4 10 2 4 10 0 6 0 0 ...\n",
            " $ G1        : int  5 5 7 15 6 15 12 6 16 14 ...\n",
            " $ G2        : int  6 5 8 14 10 15 12 5 18 15 ...\n",
            " $ G3        : int  6 6 10 15 10 15 11 6 19 15 ...\n"
          ],
          "name": "stdout"
        }
      ]
    },
    {
      "cell_type": "code",
      "metadata": {
        "id": "TWzZukV7cM7y",
        "colab_type": "code",
        "colab": {}
      },
      "source": [
        "%%R\n",
        "# Explorando os dados\n",
        "summary(df)"
      ],
      "execution_count": 0,
      "outputs": []
    },
    {
      "cell_type": "code",
      "metadata": {
        "id": "j33f44TdcRp9",
        "colab_type": "code",
        "colab": {
          "base_uri": "https://localhost:8080/",
          "height": 35
        },
        "outputId": "79e6a82e-b707-4183-d1ba-33968869ab80"
      },
      "source": [
        "%%R\n",
        "any(is.na(df)) # Perguntar se há algum valor na|not available|missing no dataframe"
      ],
      "execution_count": 140,
      "outputs": [
        {
          "output_type": "stream",
          "text": [
            "[1] FALSE\n"
          ],
          "name": "stdout"
        }
      ]
    },
    {
      "cell_type": "code",
      "metadata": {
        "id": "GTOTMWRrcRjs",
        "colab_type": "code",
        "colab": {}
      },
      "source": [
        "%%R\n",
        "install.packages(\"ggplot2\")\n",
        "install.packages(\"ggthemes\")\n",
        "install.packages(\"dplyr\")\n",
        "library(ggplot2)\n",
        "library(ggthemes)\n",
        "library(dplyr)"
      ],
      "execution_count": 0,
      "outputs": []
    },
    {
      "cell_type": "markdown",
      "metadata": {
        "id": "mEHufK_mJd2R",
        "colab_type": "text"
      },
      "source": [
        "### Perguntar apenas as colunas que são numéricas\n",
        "\n",
        "\n",
        "\n",
        "1.   #### Chamar o atributo is.numeric para o dataframe\n",
        "2.   #### Aplicar com a função sapply()\n",
        "3.  \n",
        "\n"
      ]
    },
    {
      "cell_type": "code",
      "metadata": {
        "id": "HiU8b0UccRgZ",
        "colab_type": "code",
        "colab": {
          "base_uri": "https://localhost:8080/",
          "height": 195
        },
        "outputId": "fbe8c1cd-e0b6-43d1-b2ca-180b9be8fefd"
      },
      "source": [
        "%%R\n",
        "# Retornar colunas numéricas\n",
        "colunas_numericas <- sapply(df, is.numeric)\n",
        "colunas_numericas"
      ],
      "execution_count": 144,
      "outputs": [
        {
          "output_type": "stream",
          "text": [
            "    school        sex        age    address    famsize    Pstatus       Medu \n",
            "     FALSE      FALSE       TRUE      FALSE      FALSE      FALSE       TRUE \n",
            "      Fedu       Mjob       Fjob     reason   guardian traveltime  studytime \n",
            "      TRUE      FALSE      FALSE      FALSE      FALSE       TRUE       TRUE \n",
            "  failures  schoolsup     famsup       paid activities    nursery     higher \n",
            "      TRUE      FALSE      FALSE      FALSE      FALSE      FALSE      FALSE \n",
            "  internet   romantic     famrel   freetime      goout       Dalc       Walc \n",
            "     FALSE      FALSE       TRUE       TRUE       TRUE       TRUE       TRUE \n",
            "    health   absences         G1         G2         G3 \n",
            "      TRUE       TRUE       TRUE       TRUE       TRUE \n"
          ],
          "name": "stdout"
        }
      ]
    },
    {
      "cell_type": "code",
      "metadata": {
        "id": "auamsPuNcRdF",
        "colab_type": "code",
        "colab": {}
      },
      "source": [
        "%%R\n",
        "# Filtrar as colunas numéricas para correlação, calcular a correlação entre toas as osbservações de variáveis|colunas que são numéricas\n",
        "data_cor <- cor(df[,colunas_numericas])\n",
        "data_cor\n",
        "# A saída retorna todas as correlações numéricas do dataframe"
      ],
      "execution_count": 0,
      "outputs": []
    },
    {
      "cell_type": "code",
      "metadata": {
        "id": "RBwPiSTncWoz",
        "colab_type": "code",
        "colab": {
          "base_uri": "https://localhost:8080/",
          "height": 515
        },
        "outputId": "8030d8ca-ca83-4c81-bb52-96f9124c8b82"
      },
      "source": [
        "%%R\n",
        "head(data_cor)"
      ],
      "execution_count": 148,
      "outputs": [
        {
          "output_type": "stream",
          "text": [
            "                    age        Medu         Fedu  traveltime    studytime\n",
            "age         1.000000000 -0.16365842 -0.163438069  0.07064072 -0.004140037\n",
            "Medu       -0.163658419  1.00000000  0.623455112 -0.17163930  0.064944137\n",
            "Fedu       -0.163438069  0.62345511  1.000000000 -0.15819405 -0.009174639\n",
            "traveltime  0.070640721 -0.17163930 -0.158194054  1.00000000 -0.100909119\n",
            "studytime  -0.004140037  0.06494414 -0.009174639 -0.10090912  1.000000000\n",
            "failures    0.243665377 -0.23667996 -0.250408444  0.09223875 -0.173563031\n",
            "              failures       famrel    freetime       goout         Dalc\n",
            "age         0.24366538  0.053940096  0.01643439  0.12696388  0.131124605\n",
            "Medu       -0.23667996 -0.003914458  0.03089087  0.06409444  0.019834099\n",
            "Fedu       -0.25040844 -0.001369727 -0.01284553  0.04310467  0.002386429\n",
            "traveltime  0.09223875 -0.016807986 -0.01702494  0.02853967  0.138325309\n",
            "studytime  -0.17356303  0.039730704 -0.14319841 -0.06390368 -0.196019263\n",
            "failures    1.00000000 -0.044336626  0.09198747  0.12456092  0.136046931\n",
            "                  Walc       health    absences          G1         G2\n",
            "age         0.11727605 -0.062187369  0.17523008 -0.06408150 -0.1434740\n",
            "Medu       -0.04712346 -0.046877829  0.10028482  0.20534100  0.2155272\n",
            "Fedu       -0.01263102  0.014741537  0.02447289  0.19026994  0.1648934\n",
            "traveltime  0.13411575  0.007500606 -0.01294378 -0.09303999 -0.1531980\n",
            "studytime  -0.25378473 -0.075615863 -0.06270018  0.16061192  0.1358800\n",
            "failures    0.14196203  0.065827282  0.06372583 -0.35471761 -0.3558956\n",
            "                    G3\n",
            "age        -0.16157944\n",
            "Medu        0.21714750\n",
            "Fedu        0.15245694\n",
            "traveltime -0.11714205\n",
            "studytime   0.09781969\n",
            "failures   -0.36041494\n"
          ],
          "name": "stdout"
        }
      ]
    },
    {
      "cell_type": "code",
      "metadata": {
        "id": "b8hDMnSacZPg",
        "colab_type": "code",
        "colab": {}
      },
      "source": [
        "%%R\n",
        "# Pacotes para visualizar a análise de correlação\n",
        "install.packages('corrgram')\n",
        "install.packages('corrplot')\n",
        "library(corrplot)\n",
        "library(corrgram)"
      ],
      "execution_count": 0,
      "outputs": []
    },
    {
      "cell_type": "code",
      "metadata": {
        "id": "W-t-vyACcaWF",
        "colab_type": "code",
        "colab": {
          "base_uri": "https://localhost:8080/",
          "height": 497
        },
        "outputId": "3a93fe37-ac74-4d33-f387-443d78d90c16"
      },
      "source": [
        "%%R\n",
        "# Criar um corrplot passando \"data_cor\" como parâmetro, que contém todas as correlações já calculadas utilizar o método color para facilitar a visualização \n",
        "corrplot(data_cor, method = 'color')\n",
        "# +1: alta correlação positiva\n",
        "#  0: não há correlação \n",
        "# -1: alta correçação negativa"
      ],
      "execution_count": 151,
      "outputs": [
        {
          "output_type": "display_data",
          "data": {
            "image/png": "[encoded data removed]"
          },
          "metadata": {
            "tags": []
          }
        }
      ]
    },
    {
      "cell_type": "markdown",
      "metadata": {
        "id": "4WffubNgNyem",
        "colab_type": "text"
      },
      "source": [
        "## Criando um Corgrama "
      ]
    },
    {
      "cell_type": "code",
      "metadata": {
        "id": "7OXWn0Q4cs-k",
        "colab_type": "code",
        "colab": {
          "base_uri": "https://localhost:8080/",
          "height": 497
        },
        "outputId": "f0a90be0-daef-4b82-e256-cd6cbfb299e0"
      },
      "source": [
        "%%R\n",
        "# Criando um corrgram simples - corgrama\n",
        "corrgram(df)"
      ],
      "execution_count": 153,
      "outputs": [
        {
          "output_type": "display_data",
          "data": {
            "image/png": "[encoded data removed]"
          },
          "metadata": {
            "tags": []
          }
        }
      ]
    },
    {
      "cell_type": "code",
      "metadata": {
        "id": "2IL1NMxtOErv",
        "colab_type": "code",
        "colab": {
          "base_uri": "https://localhost:8080/",
          "height": 497
        },
        "outputId": "3254c195-8c90-4266-809d-70b0477357b2"
      },
      "source": [
        "%%R\n",
        "# Corgrama com atributos. Pequenos gráficos de pizza que demonstram a distribuição das variáveis\n",
        "corrgram(df,\n",
        "         order = TRUE, \n",
        "         lower.panel = panel.shade,\n",
        "         upper.panel = panel.pie, \n",
        "         text.panel = panel.txt)"
      ],
      "execution_count": 154,
      "outputs": [
        {
          "output_type": "display_data",
          "data": {
            "image/png": "[encoded data removed]"
          },
          "metadata": {
            "tags": []
          }
        }
      ]
    },
    {
      "cell_type": "code",
      "metadata": {
        "id": "t5RsK1a9cuk9",
        "colab_type": "code",
        "colab": {
          "base_uri": "https://localhost:8080/",
          "height": 497
        },
        "outputId": "f010b515-1bf2-40ec-ef66-2d2a4384d036"
      },
      "source": [
        "%%R\n",
        "# Criando um histograma\n",
        "ggplot(df, aes(x = G3)) + \n",
        "  geom_histogram(bins = 20, \n",
        "                 alpha = 0.5, fill = 'blue') + \n",
        "  theme_minimal()"
      ],
      "execution_count": 155,
      "outputs": [
        {
          "output_type": "display_data",
          "data": {
            "image/png": "[encoded data removed]"
          },
          "metadata": {
            "tags": []
          }
        }
      ]
    },
    {
      "cell_type": "code",
      "metadata": {
        "id": "LyjBNvUDcw70",
        "colab_type": "code",
        "colab": {}
      },
      "source": [
        "%%R\n",
        "# Treinando e Interpretando o Modelo\n",
        "install.packages(\"caTools\") \n",
        "library(caTools)"
      ],
      "execution_count": 0,
      "outputs": []
    },
    {
      "cell_type": "markdown",
      "metadata": {
        "id": "bezenxbZO-UU",
        "colab_type": "text"
      },
      "source": [
        "\n",
        "\n",
        "---\n",
        "\n"
      ]
    },
    {
      "cell_type": "markdown",
      "metadata": {
        "id": "FsELjnAYO_1v",
        "colab_type": "text"
      },
      "source": [
        "## Começar a Construção do Modelo"
      ]
    },
    {
      "cell_type": "markdown",
      "metadata": {
        "id": "U9YaeYJoTjrq",
        "colab_type": "text"
      },
      "source": [
        "###sample.split()"
      ]
    },
    {
      "cell_type": "code",
      "metadata": {
        "id": "nj-utNNJc3rt",
        "colab_type": "code",
        "colab": {}
      },
      "source": [
        "%%R\n",
        "# Criando as amostras de forma randômica\n",
        "set.seed(101) \n",
        "?sample.split # Esta função faz a divisão entre dados de Treino e de Teste de maneira totalmente aleatória. \n",
        "amostra <- sample.split(df$age, SplitRatio = 0.70) # passar a variável $age como uma espécie de Index e SplitRatio de 70% para dados de Treino"
      ],
      "execution_count": 0,
      "outputs": []
    },
    {
      "cell_type": "markdown",
      "metadata": {
        "id": "MjwfYYDQdUKZ",
        "colab_type": "text"
      },
      "source": [
        "## **Treinamos nosso modelo nos dados de treino**\n",
        "##**Fazemos as predições nos dados de teste**\n",
        "\n"
      ]
    },
    {
      "cell_type": "code",
      "metadata": {
        "id": "5kdKezDDdcDm",
        "colab_type": "code",
        "colab": {}
      },
      "source": [
        "%%R\n",
        "# Criar dados de treino - 70% dos dados, chamar o dataframe como parâmetro e indicar que Treino será onde amostra for igual a TRUE, índice igual a verdadeiro\n",
        "treino = subset(df, amostra == TRUE)"
      ],
      "execution_count": 0,
      "outputs": []
    },
    {
      "cell_type": "code",
      "metadata": {
        "id": "4JAC_m0idcA_",
        "colab_type": "code",
        "colab": {}
      },
      "source": [
        "%%R\n",
        "# Criar dados de teste - 30% dos dados, chamar o dataframe como parâmetro e indicar que Teste será onde amostra for igual a FALSE, índice igual a falso\n",
        "teste = subset(df, amostra == FALSE)"
      ],
      "execution_count": 0,
      "outputs": []
    },
    {
      "cell_type": "code",
      "metadata": {
        "id": "lklnqcUfdb9v",
        "colab_type": "code",
        "colab": {}
      },
      "source": [
        "%%R\n",
        "# Gerar o Modelo (Usando todos os atributos)\n",
        "modelo_v1 <- lm(G3 ~ ., treino) # Modelo relacionado com todas as variáveis preditoras\n",
        "modelo_v2 <- lm(G3 ~ G2 + G1, treino) # Modelo relacionado apenas com G2 + G1\n",
        "modelo_v3 <- lm(G3 ~ absences, treino) # Modelo relacionado apenas com as faltas\n",
        "modelo_v4 <- lm(G3 ~ Medu, treino) # Modelo relacionado apenas com educação da mãe"
      ],
      "execution_count": 0,
      "outputs": []
    },
    {
      "cell_type": "markdown",
      "metadata": {
        "id": "9WquYa-mWHgg",
        "colab_type": "text"
      },
      "source": [
        "## Interpretando modelos diversos"
      ]
    },
    {
      "cell_type": "code",
      "metadata": {
        "id": "_vPrbe5rdb55",
        "colab_type": "code",
        "colab": {}
      },
      "source": [
        "%%R\n",
        "summary(modelo_v1) # Multiple R-squared: 0.86\n",
        "# Maior correlação com as variáveis\n",
        "# G2\n",
        "# Absences\n",
        "# Famrel"
      ],
      "execution_count": 0,
      "outputs": []
    },
    {
      "cell_type": "code",
      "metadata": {
        "id": "J5puu9JqV8jR",
        "colab_type": "code",
        "colab": {
          "base_uri": "https://localhost:8080/",
          "height": 372
        },
        "outputId": "3d46d754-2a34-4ad3-f099-b159c15d290e"
      },
      "source": [
        "%%R\n",
        "summary(modelo_v2) # Multiple R-squared: 0.82 > Melhor versão "
      ],
      "execution_count": 166,
      "outputs": [
        {
          "output_type": "stream",
          "text": [
            "\n",
            "Call:\n",
            "lm(formula = G3 ~ G2 + G1, data = treino)\n",
            "\n",
            "Residuals:\n",
            "    Min      1Q  Median      3Q     Max \n",
            "-9.5559 -0.4030  0.3143  1.0137  3.4715 \n",
            "\n",
            "Coefficients:\n",
            "            Estimate Std. Error t value Pr(>|t|)    \n",
            "(Intercept) -1.87861    0.40782  -4.606 6.28e-06 ***\n",
            "G2           1.01370    0.06228  16.275  < 2e-16 ***\n",
            "G1           0.12976    0.07050   1.841   0.0668 .  \n",
            "---\n",
            "Signif. codes:  0 ‘***’ 0.001 ‘**’ 0.01 ‘*’ 0.05 ‘.’ 0.1 ‘ ’ 1\n",
            "\n",
            "Residual standard error: 1.967 on 274 degrees of freedom\n",
            "Multiple R-squared:  0.8211,\tAdjusted R-squared:  0.8198 \n",
            "F-statistic: 628.8 on 2 and 274 DF,  p-value: < 2.2e-16\n",
            "\n"
          ],
          "name": "stdout"
        }
      ]
    },
    {
      "cell_type": "code",
      "metadata": {
        "id": "NyzwebKnV8gG",
        "colab_type": "code",
        "colab": {
          "base_uri": "https://localhost:8080/",
          "height": 355
        },
        "outputId": "2580725e-e981-4dcf-b8de-4b4c10a4aade"
      },
      "source": [
        "%%R\n",
        "summary(modelo_v3) # Multiple R-squared: 0.0002675"
      ],
      "execution_count": 167,
      "outputs": [
        {
          "output_type": "stream",
          "text": [
            "\n",
            "Call:\n",
            "lm(formula = G3 ~ absences, data = treino)\n",
            "\n",
            "Residuals:\n",
            "     Min       1Q   Median       3Q      Max \n",
            "-10.4165  -2.4376   0.5201   3.5095   9.5412 \n",
            "\n",
            "Coefficients:\n",
            "            Estimate Std. Error t value Pr(>|t|)    \n",
            "(Intercept) 10.41648    0.35607  29.254   <2e-16 ***\n",
            "absences     0.01057    0.03897   0.271    0.786    \n",
            "---\n",
            "Signif. codes:  0 ‘***’ 0.001 ‘**’ 0.01 ‘*’ 0.05 ‘.’ 0.1 ‘ ’ 1\n",
            "\n",
            "Residual standard error: 4.641 on 275 degrees of freedom\n",
            "Multiple R-squared:  0.0002675,\tAdjusted R-squared:  -0.003368 \n",
            "F-statistic: 0.07357 on 1 and 275 DF,  p-value: 0.7864\n",
            "\n"
          ],
          "name": "stdout"
        }
      ]
    },
    {
      "cell_type": "code",
      "metadata": {
        "id": "Xin3PBVzV8cg",
        "colab_type": "code",
        "colab": {
          "base_uri": "https://localhost:8080/",
          "height": 355
        },
        "outputId": "567c0f77-9936-4984-e4b5-4bf2460bf8f6"
      },
      "source": [
        "%%R\n",
        "summary(modelo_v4) # Multiple R-squared: 0.06442"
      ],
      "execution_count": 168,
      "outputs": [
        {
          "output_type": "stream",
          "text": [
            "\n",
            "Call:\n",
            "lm(formula = G3 ~ Medu, data = treino)\n",
            "\n",
            "Residuals:\n",
            "    Min      1Q  Median      3Q     Max \n",
            "-11.813  -1.813   0.371   3.187   9.371 \n",
            "\n",
            "Coefficients:\n",
            "            Estimate Std. Error t value Pr(>|t|)    \n",
            "(Intercept)   7.4452     0.7471   9.966  < 2e-16 ***\n",
            "Medu          1.0919     0.2509   4.351 1.91e-05 ***\n",
            "---\n",
            "Signif. codes:  0 ‘***’ 0.001 ‘**’ 0.01 ‘*’ 0.05 ‘.’ 0.1 ‘ ’ 1\n",
            "\n",
            "Residual standard error: 4.49 on 275 degrees of freedom\n",
            "Multiple R-squared:  0.06442,\tAdjusted R-squared:  0.06101 \n",
            "F-statistic: 18.93 on 1 and 275 DF,  p-value: 1.909e-05\n",
            "\n"
          ],
          "name": "stdout"
        }
      ]
    },
    {
      "cell_type": "markdown",
      "metadata": {
        "id": "0-5zCPHAdkAf",
        "colab_type": "text"
      },
      "source": [
        "##Visualizando o Modelo e Fazendo Previsões"
      ]
    },
    {
      "cell_type": "code",
      "metadata": {
        "id": "EY3bwGMUdpqp",
        "colab_type": "code",
        "colab": {}
      },
      "source": [
        "%%R\n",
        "# Obter os resíduos da versão 1 do modelo\n",
        "res <- residuals(modelo_v1)"
      ],
      "execution_count": 0,
      "outputs": []
    },
    {
      "cell_type": "code",
      "metadata": {
        "id": "yYWh0sbgdpnU",
        "colab_type": "code",
        "colab": {
          "base_uri": "https://localhost:8080/",
          "height": 141
        },
        "outputId": "0c37cfb9-f39f-4ce2-f829-2c859896f829"
      },
      "source": [
        "%%R\n",
        "# Converter o objeto de resíduos (taxas de erro) do modelo 1 para um dataframe\n",
        "res <- as.data.frame(res)\n",
        "head(res)"
      ],
      "execution_count": 172,
      "outputs": [
        {
          "output_type": "stream",
          "text": [
            "          res\n",
            "1   0.9678451\n",
            "5   1.1829980\n",
            "6  -1.4096050\n",
            "7   0.1125706\n",
            "9   0.3814670\n",
            "10  0.3221204\n"
          ],
          "name": "stdout"
        }
      ]
    },
    {
      "cell_type": "code",
      "metadata": {
        "id": "scK-heQHdpj8",
        "colab_type": "code",
        "colab": {
          "base_uri": "https://localhost:8080/",
          "height": 497
        },
        "outputId": "f9604533-bdbd-47b4-83df-86d07499b5c9"
      },
      "source": [
        "%%R\n",
        "# Histograma dos resíduos\n",
        "ggplot(res, aes(res)) +  \n",
        "  geom_histogram(fill = 'blue', \n",
        "                 alpha = 0.5, \n",
        "                 binwidth = 1)"
      ],
      "execution_count": 174,
      "outputs": [
        {
          "output_type": "display_data",
          "data": {
            "image/png": "[encoded data removed]"
          },
          "metadata": {
            "tags": []
          }
        }
      ]
    },
    {
      "cell_type": "code",
      "metadata": {
        "id": "n0orPWsudpg7",
        "colab_type": "code",
        "colab": {
          "base_uri": "https://localhost:8080/",
          "height": 1000
        },
        "outputId": "bc73a43a-eecc-43ad-beb5-135c14d3d86b"
      },
      "source": [
        "%%R\n",
        "# Plot do Modelo\n",
        "plot(modelo_v1)\n"
      ],
      "execution_count": 175,
      "outputs": [
        {
          "output_type": "display_data",
          "data": {
            "image/png": "[encoded data removed]"
          },
          "metadata": {
            "tags": []
          }
        },
        {
          "output_type": "display_data",
          "data": {
            "image/png": "[encoded data removed]"
          },
          "metadata": {
            "tags": []
          }
        },
        {
          "output_type": "display_data",
          "data": {
            "image/png": "[encoded data removed]"
          },
          "metadata": {
            "tags": []
          }
        },
        {
          "output_type": "display_data",
          "data": {
            "image/png": "[encoded data removed]"
          },
          "metadata": {
            "tags": []
          }
        }
      ]
    },
    {
      "cell_type": "markdown",
      "metadata": {
        "id": "wLH5YkpeZHF6",
        "colab_type": "text"
      },
      "source": [
        "## Realizar predições"
      ]
    },
    {
      "cell_type": "code",
      "metadata": {
        "id": "gRleAshld2Ir",
        "colab_type": "code",
        "colab": {
          "base_uri": "https://localhost:8080/",
          "height": 621
        },
        "outputId": "09cd7aeb-e24a-4e70-950d-ae030ceec0fa"
      },
      "source": [
        "%%R\n",
        "# Fazer as predições\n",
        "modelo_v1 <- lm(G3 ~ ., treino) # Modelo linear com todas as variáveis preditoras\n",
        "prevendo_G3 <- predict(modelo_v1, teste) # Aplicar ao predict() modelo_v1 como modelo e teste como conjunto de teste para testar o modelo \n",
        "prevendo_G3"
      ],
      "execution_count": 176,
      "outputs": [
        {
          "output_type": "stream",
          "text": [
            "         2          3          4          8         15         16         20 \n",
            " 3.8355327  7.1484561 13.2577944  5.0881001 14.9342910 13.8356794  8.3122171 \n",
            "        23         29         31         33         34         35         39 \n",
            "15.0841201 11.1862687 10.7402488 16.3790245  9.5412797 14.7359519 12.8006290 \n",
            "        41         44         49         52         55         65         66 \n",
            " 9.7124599  7.9732648 15.7596179 13.2100098 13.6036980  9.5747801 16.3548064 \n",
            "        68         70         75         78         79         80         84 \n",
            " 7.3657946 17.7999930 15.3677710 10.8592839  6.1210977  2.8719731 15.8441783 \n",
            "        86         88         91        105        108        109        115 \n",
            " 7.8946003 15.3998409  5.8109944 18.8049626 18.0500399 11.5405056  8.1000806 \n",
            "       118        123        125        128        130        131        141 \n",
            "13.4478990 13.1561603  5.7046408  4.0419078 18.6879834 -0.8438804  7.7359829 \n",
            "       142        146        147        148        157        162        163 \n",
            " 7.1090265 10.1712916  4.0182838 10.5152197 11.2150775  9.3540942 -1.2003631 \n",
            "       167        169        170        171        173        181        188 \n",
            " 9.2490585  6.8897913 14.0263875  3.8607421 10.7549588  7.0181425 15.0211593 \n",
            "       190        195        198        199        200        203        207 \n",
            " 7.3632446 13.6325093  8.2677169 20.2583697  7.9814105  9.2339613  5.4777762 \n",
            "       212        215        216        217        232        234        243 \n",
            "12.5853742 10.7601745 15.4515381  5.2504569 10.0317057 12.9468210 -0.6261812 \n",
            "       245        253        258        262        267        269        273 \n",
            "-1.2426965  8.0481000 11.1666270  7.4440882  8.7373427  9.0024067 10.4776410 \n",
            "       276        277        282        286        293        298        300 \n",
            "12.6719487 12.3295025  8.9977663  9.7666930 12.0571372  7.3733683 12.8693121 \n",
            "       310        312        313        317        321        325        328 \n",
            " 9.9509633 11.1509774  9.3603921  7.6615581 15.2589070 13.0998428 10.7781268 \n",
            "       329        332        333        334        340        345        347 \n",
            " 9.1420819 12.2691080 -1.8320884  5.2977092  9.5378872  8.8360269 15.5563908 \n",
            "       349        351        358        359        360        362        363 \n",
            "14.2569948  5.8932189 11.4982381  9.1901734 16.4359452 11.5301123 11.6398745 \n",
            "       368        370        372        373        376        379        380 \n",
            " 6.4374104 12.9754850 11.5974772 10.3924873  7.6507428 15.2277988 11.1799835 \n",
            "       381        383        389        391        394        395 \n",
            "14.3530986  9.9919877  8.6704611  8.8519867 12.8443039  7.9990087 \n"
          ],
          "name": "stdout"
        }
      ]
    },
    {
      "cell_type": "markdown",
      "metadata": {
        "id": "mwIiTUExZ4lV",
        "colab_type": "text"
      },
      "source": [
        "## Para facilitar, alocar os valores em dataframes distintos"
      ]
    },
    {
      "cell_type": "code",
      "metadata": {
        "id": "a8c5uYLPd2GC",
        "colab_type": "code",
        "colab": {
          "base_uri": "https://localhost:8080/",
          "height": 1000
        },
        "outputId": "4367e1ac-891c-4e4e-f86b-7d3b2e309798"
      },
      "source": [
        "%%R\n",
        "# Visualizar os valores previstos e observados\n",
        "resultados <- cbind(prevendo_G3, teste$G3) \n",
        "colnames(resultados) <- c('Previsto','Real') # O valor real são os dados históricos\n",
        "resultados <- as.data.frame(resultados)\n",
        "resultados\n",
        "# Este dataframe compara o valor previsto com os dados históricos"
      ],
      "execution_count": 177,
      "outputs": [
        {
          "output_type": "stream",
          "text": [
            "      Previsto Real\n",
            "2    3.8355327    6\n",
            "3    7.1484561   10\n",
            "4   13.2577944   15\n",
            "8    5.0881001    6\n",
            "15  14.9342910   16\n",
            "16  13.8356794   14\n",
            "20   8.3122171   10\n",
            "23  15.0841201   16\n",
            "29  11.1862687   11\n",
            "31  10.7402488   12\n",
            "33  16.3790245   16\n",
            "34   9.5412797   12\n",
            "35  14.7359519   15\n",
            "39  12.8006290   11\n",
            "41   9.7124599   11\n",
            "44   7.9732648   11\n",
            "49  15.7596179   14\n",
            "52  13.2100098   13\n",
            "55  13.6036980   13\n",
            "65   9.5747801   10\n",
            "66  16.3548064   15\n",
            "68   7.3657946    6\n",
            "70  17.7999930   16\n",
            "75  15.3677710   11\n",
            "78  10.8592839   11\n",
            "79   6.1210977   10\n",
            "80   2.8719731    5\n",
            "84  15.8441783   15\n",
            "86   7.8946003    8\n",
            "88  15.3998409   14\n",
            "91   5.8109944    8\n",
            "105 18.8049626   18\n",
            "108 18.0500399   18\n",
            "109 11.5405056   13\n",
            "115  8.1000806    9\n",
            "118 13.4478990   13\n",
            "123 13.1561603   13\n",
            "125  5.7046408    8\n",
            "128  4.0419078    9\n",
            "130 18.6879834   18\n",
            "131 -0.8438804    0\n",
            "141  7.7359829    0\n",
            "142  7.1090265    9\n",
            "146 10.1712916   11\n",
            "147  4.0182838    0\n",
            "148 10.5152197   11\n",
            "157 11.2150775   13\n",
            "162  9.3540942    7\n",
            "163 -1.2003631    0\n",
            "167  9.2490585   10\n",
            "169  6.8897913    0\n",
            "170 14.0263875   14\n",
            "171  3.8607421    0\n",
            "173 10.7549588   10\n",
            "181  7.0181425    8\n",
            "188 15.0211593   15\n",
            "190  7.3632446   10\n",
            "195 13.6325093   14\n",
            "198  8.2677169   10\n",
            "199 20.2583697   18\n",
            "200  7.9814105   10\n",
            "203  9.2339613   10\n",
            "207  5.4777762    7\n",
            "212 12.5853742   13\n",
            "215 10.7601745   10\n",
            "216 15.4515381   15\n",
            "217  5.2504569    4\n",
            "232 10.0317057   11\n",
            "234 12.9468210   13\n",
            "243 -0.6261812    0\n",
            "245 -1.2426965    0\n",
            "253  8.0481000    8\n",
            "258 11.1666270   11\n",
            "262  7.4440882    8\n",
            "267  8.7373427   10\n",
            "269  9.0024067   10\n",
            "273 10.4776410   11\n",
            "276 12.6719487   12\n",
            "277 12.3295025    9\n",
            "282  8.9977663   10\n",
            "286  9.7666930   11\n",
            "293 12.0571372   13\n",
            "298  7.3733683    8\n",
            "300 12.8693121   16\n",
            "310  9.9509633   10\n",
            "312 11.1509774   13\n",
            "313  9.3603921   11\n",
            "317  7.6615581    0\n",
            "321 15.2589070   13\n",
            "325 13.0998428   15\n",
            "328 10.7781268   10\n",
            "329  9.1420819    9\n",
            "332 12.2691080   14\n",
            "333 -1.8320884    0\n",
            "334  5.2977092    0\n",
            "340  9.5378872   10\n",
            "345  8.8360269   10\n",
            "347 15.5563908   16\n",
            "349 14.2569948   15\n",
            "351  5.8932189    8\n",
            "358 11.4982381   11\n",
            "359  9.1901734   10\n",
            "360 16.4359452   16\n",
            "362 11.5301123   12\n",
            "363 11.6398745   10\n",
            "368  6.4374104    0\n",
            "370 12.9754850   11\n",
            "372 11.5974772   12\n",
            "373 10.3924873   11\n",
            "376  7.6507428   10\n",
            "379 15.2277988   15\n",
            "380 11.1799835   10\n",
            "381 14.3530986   14\n",
            "383  9.9919877   10\n",
            "389  8.6704611    8\n",
            "391  8.8519867    9\n",
            "394 12.8443039   10\n",
            "395  7.9990087    9\n"
          ],
          "name": "stdout"
        }
      ]
    },
    {
      "cell_type": "code",
      "metadata": {
        "id": "0OxsA5-Yd2Ca",
        "colab_type": "code",
        "colab": {
          "base_uri": "https://localhost:8080/",
          "height": 35
        },
        "outputId": "d8e6b688-b44e-4303-cbf8-78c00cd2e63f"
      },
      "source": [
        "%%R\n",
        "  min(resultados)"
      ],
      "execution_count": 178,
      "outputs": [
        {
          "output_type": "stream",
          "text": [
            "[1] -1.832088\n"
          ],
          "name": "stdout"
        }
      ]
    },
    {
      "cell_type": "markdown",
      "metadata": {
        "id": "WaykIpEccDNV",
        "colab_type": "text"
      },
      "source": [
        "## Converter valores a zero caso sejam negativos (de acordo com cada problema de negócio)"
      ]
    },
    {
      "cell_type": "code",
      "metadata": {
        "id": "ihxGd_TNd1-q",
        "colab_type": "code",
        "colab": {}
      },
      "source": [
        "%%R\n",
        "\n",
        "# Criar a função de conversão de valores negativos\n",
        "trata_zero <- function(x){\n",
        "  if  (x < 0){\n",
        "    return(0)\n",
        "  }else{\n",
        "    return(x)\n",
        "  }\n",
        "}"
      ],
      "execution_count": 0,
      "outputs": []
    },
    {
      "cell_type": "code",
      "metadata": {
        "id": "JXIPMXsXeFTi",
        "colab_type": "code",
        "colab": {
          "base_uri": "https://localhost:8080/",
          "height": 319
        },
        "outputId": "a4923804-8c5c-43a9-aaf2-cc7b236b2339"
      },
      "source": [
        "%%R\n",
        "# Aplicando a função para tratar valores negativos em nossa previsão\n",
        "resultados$Previsto <- sapply(resultados$Previsto, trata_zero)\n",
        "resultados$Previsto"
      ],
      "execution_count": 182,
      "outputs": [
        {
          "output_type": "stream",
          "text": [
            "  [1]  3.835533  7.148456 13.257794  5.088100 14.934291 13.835679  8.312217\n",
            "  [8] 15.084120 11.186269 10.740249 16.379024  9.541280 14.735952 12.800629\n",
            " [15]  9.712460  7.973265 15.759618 13.210010 13.603698  9.574780 16.354806\n",
            " [22]  7.365795 17.799993 15.367771 10.859284  6.121098  2.871973 15.844178\n",
            " [29]  7.894600 15.399841  5.810994 18.804963 18.050040 11.540506  8.100081\n",
            " [36] 13.447899 13.156160  5.704641  4.041908 18.687983  0.000000  7.735983\n",
            " [43]  7.109027 10.171292  4.018284 10.515220 11.215077  9.354094  0.000000\n",
            " [50]  9.249059  6.889791 14.026388  3.860742 10.754959  7.018143 15.021159\n",
            " [57]  7.363245 13.632509  8.267717 20.258370  7.981411  9.233961  5.477776\n",
            " [64] 12.585374 10.760175 15.451538  5.250457 10.031706 12.946821  0.000000\n",
            " [71]  0.000000  8.048100 11.166627  7.444088  8.737343  9.002407 10.477641\n",
            " [78] 12.671949 12.329503  8.997766  9.766693 12.057137  7.373368 12.869312\n",
            " [85]  9.950963 11.150977  9.360392  7.661558 15.258907 13.099843 10.778127\n",
            " [92]  9.142082 12.269108  0.000000  5.297709  9.537887  8.836027 15.556391\n",
            " [99] 14.256995  5.893219 11.498238  9.190173 16.435945 11.530112 11.639874\n",
            "[106]  6.437410 12.975485 11.597477 10.392487  7.650743 15.227799 11.179984\n",
            "[113] 14.353099  9.991988  8.670461  8.851987 12.844304  7.999009\n"
          ],
          "name": "stdout"
        }
      ]
    },
    {
      "cell_type": "markdown",
      "metadata": {
        "id": "L3F10YeKdLFZ",
        "colab_type": "text"
      },
      "source": [
        "## Calcular o Erro Médio - MSE"
      ]
    },
    {
      "cell_type": "code",
      "metadata": {
        "id": "_NpEKQOZeIXX",
        "colab_type": "code",
        "colab": {
          "base_uri": "https://localhost:8080/",
          "height": 35
        },
        "outputId": "7d402811-aadb-41c4-ac65-c950dbd6b818"
      },
      "source": [
        "%%R\n",
        "# Quão distantes o valores previstos estão dos valores observados\n",
        "mse <- mean((resultados$Real - resultados$Previsto)^2)\n",
        "print(mse)"
      ],
      "execution_count": 183,
      "outputs": [
        {
          "output_type": "stream",
          "text": [
            "[1] 4.411405\n"
          ],
          "name": "stdout"
        }
      ]
    },
    {
      "cell_type": "markdown",
      "metadata": {
        "id": "f_KBwu2vdWfV",
        "colab_type": "text"
      },
      "source": [
        "## Raiz Quadrada do Erro Quadrado Médio"
      ]
    },
    {
      "cell_type": "code",
      "metadata": {
        "id": "RcIB2EcreITq",
        "colab_type": "code",
        "colab": {
          "base_uri": "https://localhost:8080/",
          "height": 35
        },
        "outputId": "43df1009-7ae2-4e15-ef06-1e4a65561a6e"
      },
      "source": [
        "%%R\n",
        "# RMSE\n",
        "rmse <- mse^0.5 # Elevar a 0.5\n",
        "rmse"
      ],
      "execution_count": 186,
      "outputs": [
        {
          "output_type": "stream",
          "text": [
            "[1] 2.100335\n"
          ],
          "name": "stdout"
        }
      ]
    },
    {
      "cell_type": "markdown",
      "metadata": {
        "id": "dbtnbGe8da-O",
        "colab_type": "text"
      },
      "source": [
        "## Coeficiente de Determinação"
      ]
    },
    {
      "cell_type": "code",
      "metadata": {
        "id": "maxIdAeMeIQg",
        "colab_type": "code",
        "colab": {}
      },
      "source": [
        "%%R\n",
        "# sum of squared estimate of errors (SSE)\n",
        "SSE = sum((resultados$Previsto - resultados$Real)^2)"
      ],
      "execution_count": 0,
      "outputs": []
    },
    {
      "cell_type": "code",
      "metadata": {
        "id": "eo7fsnGcdkc7",
        "colab_type": "code",
        "colab": {}
      },
      "source": [
        "%%R\n",
        "# total sum of squares, the sum over all observations\n",
        "SST = sum((mean(df$G3) - resultados$Real)^2)"
      ],
      "execution_count": 0,
      "outputs": []
    },
    {
      "cell_type": "code",
      "metadata": {
        "id": "v1ii43L7e5mZ",
        "colab_type": "code",
        "colab": {
          "base_uri": "https://localhost:8080/",
          "height": 35
        },
        "outputId": "15c27815-d43e-439f-ec70-236e592ec065"
      },
      "source": [
        "%%R\n",
        "# Calcular R-Squared com SSE e SST depois de todos os ajustes do modelo\n",
        "# Ajuda a avaliar o nível de precisão do nosso modelo. Quanto maior, melhor, sendo 1 o valor ideal.\n",
        "R2 = 1 - (SSE/SST)\n",
        "R2"
      ],
      "execution_count": 189,
      "outputs": [
        {
          "output_type": "stream",
          "text": [
            "[1] 0.7779023\n"
          ],
          "name": "stdout"
        }
      ]
    },
    {
      "cell_type": "markdown",
      "metadata": {
        "id": "a7vYQW_XexHP",
        "colab_type": "text"
      },
      "source": [
        "\n",
        "\n",
        "---\n",
        "\n"
      ]
    },
    {
      "cell_type": "markdown",
      "metadata": {
        "id": "r6aADNhTe_VF",
        "colab_type": "text"
      },
      "source": [
        "##Definindo o Problema: Analisando dados das casas de Boston, nos EUA e fazendo previsoes."
      ]
    },
    {
      "cell_type": "code",
      "metadata": {
        "id": "YSNNDc-TfGg_",
        "colab_type": "code",
        "colab": {}
      },
      "source": [
        "# The Boston Housing Dataset - http://www.cs.toronto.edu/~delve/data/boston/bostonDetail.html\n",
        "# O modelo deve prever a MEDV (Valor da Mediana de ocupação das casas). "
      ],
      "execution_count": 0,
      "outputs": []
    },
    {
      "cell_type": "markdown",
      "metadata": {
        "id": "ZEqO_0tnfNSO",
        "colab_type": "text"
      },
      "source": [
        "## Utilizar modelo de rede neural"
      ]
    },
    {
      "cell_type": "code",
      "metadata": {
        "id": "gapMnLAKfGdr",
        "colab_type": "code",
        "colab": {
          "base_uri": "https://localhost:8080/",
          "height": 177
        },
        "outputId": "713ec953-6325-4c81-bd34-58e4ca3de6d9"
      },
      "source": [
        "%%R\n",
        "# Carregar o pacote MASS que já traz o dataset Boston\n",
        "library(MASS)"
      ],
      "execution_count": 190,
      "outputs": [
        {
          "output_type": "stream",
          "text": [
            "R[write to console]: \n",
            "Attaching package: ‘MASS’\n",
            "\n",
            "\n",
            "R[write to console]: The following object is masked from ‘package:dplyr’:\n",
            "\n",
            "    select\n",
            "\n",
            "\n"
          ],
          "name": "stderr"
        }
      ]
    },
    {
      "cell_type": "code",
      "metadata": {
        "id": "FscJVU0efGag",
        "colab_type": "code",
        "colab": {
          "base_uri": "https://localhost:8080/",
          "height": 266
        },
        "outputId": "928ca83e-1c3e-4907-b2f7-6c71a7679272"
      },
      "source": [
        "%%R\n",
        "# Importar os dados do dataset Boston\n",
        "set.seed(101)\n",
        "dados <- Boston\n",
        "head(dados)"
      ],
      "execution_count": 191,
      "outputs": [
        {
          "output_type": "stream",
          "text": [
            "     crim zn indus chas   nox    rm  age    dis rad tax ptratio  black lstat\n",
            "1 0.00632 18  2.31    0 0.538 6.575 65.2 4.0900   1 296    15.3 396.90  4.98\n",
            "2 0.02731  0  7.07    0 0.469 6.421 78.9 4.9671   2 242    17.8 396.90  9.14\n",
            "3 0.02729  0  7.07    0 0.469 7.185 61.1 4.9671   2 242    17.8 392.83  4.03\n",
            "4 0.03237  0  2.18    0 0.458 6.998 45.8 6.0622   3 222    18.7 394.63  2.94\n",
            "5 0.06905  0  2.18    0 0.458 7.147 54.2 6.0622   3 222    18.7 396.90  5.33\n",
            "6 0.02985  0  2.18    0 0.458 6.430 58.7 6.0622   3 222    18.7 394.12  5.21\n",
            "  medv\n",
            "1 24.0\n",
            "2 21.6\n",
            "3 34.7\n",
            "4 33.4\n",
            "5 36.2\n",
            "6 28.7\n"
          ],
          "name": "stdout"
        }
      ]
    },
    {
      "cell_type": "code",
      "metadata": {
        "id": "yNcWsD1VfGXh",
        "colab_type": "code",
        "colab": {
          "base_uri": "https://localhost:8080/",
          "height": 284
        },
        "outputId": "0bd185e5-e222-4397-e7bb-e64865291a28"
      },
      "source": [
        "%%R\n",
        "# Resumir dataset dados\n",
        "  str(dados)"
      ],
      "execution_count": 192,
      "outputs": [
        {
          "output_type": "stream",
          "text": [
            "'data.frame':\t506 obs. of  14 variables:\n",
            " $ crim   : num  0.00632 0.02731 0.02729 0.03237 0.06905 ...\n",
            " $ zn     : num  18 0 0 0 0 0 12.5 12.5 12.5 12.5 ...\n",
            " $ indus  : num  2.31 7.07 7.07 2.18 2.18 2.18 7.87 7.87 7.87 7.87 ...\n",
            " $ chas   : int  0 0 0 0 0 0 0 0 0 0 ...\n",
            " $ nox    : num  0.538 0.469 0.469 0.458 0.458 0.458 0.524 0.524 0.524 0.524 ...\n",
            " $ rm     : num  6.58 6.42 7.18 7 7.15 ...\n",
            " $ age    : num  65.2 78.9 61.1 45.8 54.2 58.7 66.6 96.1 100 85.9 ...\n",
            " $ dis    : num  4.09 4.97 4.97 6.06 6.06 ...\n",
            " $ rad    : int  1 2 2 3 3 3 5 5 5 5 ...\n",
            " $ tax    : num  296 242 242 222 222 222 311 311 311 311 ...\n",
            " $ ptratio: num  15.3 17.8 17.8 18.7 18.7 18.7 15.2 15.2 15.2 15.2 ...\n",
            " $ black  : num  397 397 393 395 397 ...\n",
            " $ lstat  : num  4.98 9.14 4.03 2.94 5.33 ...\n",
            " $ medv   : num  24 21.6 34.7 33.4 36.2 28.7 22.9 27.1 16.5 18.9 ...\n"
          ],
          "name": "stdout"
        }
      ]
    },
    {
      "cell_type": "code",
      "metadata": {
        "id": "ib9KkQ0FfkQ5",
        "colab_type": "code",
        "colab": {
          "base_uri": "https://localhost:8080/",
          "height": 515
        },
        "outputId": "f99de046-a6e0-4f09-be71-728e68af0e80"
      },
      "source": [
        "%%R\n",
        "  summary(dados)"
      ],
      "execution_count": 193,
      "outputs": [
        {
          "output_type": "stream",
          "text": [
            "      crim                zn             indus            chas        \n",
            " Min.   : 0.00632   Min.   :  0.00   Min.   : 0.46   Min.   :0.00000  \n",
            " 1st Qu.: 0.08204   1st Qu.:  0.00   1st Qu.: 5.19   1st Qu.:0.00000  \n",
            " Median : 0.25651   Median :  0.00   Median : 9.69   Median :0.00000  \n",
            " Mean   : 3.61352   Mean   : 11.36   Mean   :11.14   Mean   :0.06917  \n",
            " 3rd Qu.: 3.67708   3rd Qu.: 12.50   3rd Qu.:18.10   3rd Qu.:0.00000  \n",
            " Max.   :88.97620   Max.   :100.00   Max.   :27.74   Max.   :1.00000  \n",
            "      nox               rm             age              dis        \n",
            " Min.   :0.3850   Min.   :3.561   Min.   :  2.90   Min.   : 1.130  \n",
            " 1st Qu.:0.4490   1st Qu.:5.886   1st Qu.: 45.02   1st Qu.: 2.100  \n",
            " Median :0.5380   Median :6.208   Median : 77.50   Median : 3.207  \n",
            " Mean   :0.5547   Mean   :6.285   Mean   : 68.57   Mean   : 3.795  \n",
            " 3rd Qu.:0.6240   3rd Qu.:6.623   3rd Qu.: 94.08   3rd Qu.: 5.188  \n",
            " Max.   :0.8710   Max.   :8.780   Max.   :100.00   Max.   :12.127  \n",
            "      rad              tax           ptratio          black       \n",
            " Min.   : 1.000   Min.   :187.0   Min.   :12.60   Min.   :  0.32  \n",
            " 1st Qu.: 4.000   1st Qu.:279.0   1st Qu.:17.40   1st Qu.:375.38  \n",
            " Median : 5.000   Median :330.0   Median :19.05   Median :391.44  \n",
            " Mean   : 9.549   Mean   :408.2   Mean   :18.46   Mean   :356.67  \n",
            " 3rd Qu.:24.000   3rd Qu.:666.0   3rd Qu.:20.20   3rd Qu.:396.23  \n",
            " Max.   :24.000   Max.   :711.0   Max.   :22.00   Max.   :396.90  \n",
            "     lstat            medv      \n",
            " Min.   : 1.73   Min.   : 5.00  \n",
            " 1st Qu.: 6.95   1st Qu.:17.02  \n",
            " Median :11.36   Median :21.20  \n",
            " Mean   :12.65   Mean   :22.53  \n",
            " 3rd Qu.:16.95   3rd Qu.:25.00  \n",
            " Max.   :37.97   Max.   :50.00  \n"
          ],
          "name": "stdout"
        }
      ]
    },
    {
      "cell_type": "code",
      "metadata": {
        "id": "0d_UXQ_6fkNI",
        "colab_type": "code",
        "colab": {
          "base_uri": "https://localhost:8080/",
          "height": 35
        },
        "outputId": "122ba806-55cd-48c7-d693-19eb2c3a3b5e"
      },
      "source": [
        "%%R\n",
        "  any(is.na(dados)) # Verificar valores missing"
      ],
      "execution_count": 194,
      "outputs": [
        {
          "output_type": "stream",
          "text": [
            "[1] FALSE\n"
          ],
          "name": "stdout"
        }
      ]
    },
    {
      "cell_type": "markdown",
      "metadata": {
        "id": "cHRCXECggbqk",
        "colab_type": "text"
      },
      "source": [
        "## Carregar pacote de Redes Neurais"
      ]
    },
    {
      "cell_type": "code",
      "metadata": {
        "id": "N7894NbIfu8i",
        "colab_type": "code",
        "colab": {}
      },
      "source": [
        "%%R\n",
        "# Carregar o pacote para Redes Neurais\n",
        "install.packages(\"neuralnet\")\n",
        "library(neuralnet)"
      ],
      "execution_count": 0,
      "outputs": []
    },
    {
      "cell_type": "markdown",
      "metadata": {
        "id": "KsIB4lNQf3He",
        "colab_type": "text"
      },
      "source": [
        "## Abordar o pré-processamento de dados\n",
        "\n",
        "*   É uma boa pratica normalizar os dados antes de treinar uma rede neural. \n",
        "\n",
        "*   Dependendo do conjunto de dados, evitar a normalização pode levar a resultados inúteis ou a um processo de treinamento muito complexo;\n",
        "\n",
        "*   Na maioria das vezes o algoritmo não ira convergir antes do numero de iteracoes máximo permitido; \n",
        "\n",
        "*   Podemos escolher diferentes metodos para dimensionar os dados (normalizacao-z, escala min-max, etc ...);\n",
        "\n",
        "*   Normalmente escala nos intervalos [0,1] ou [1,1] tende a dar melhores resultados. \n",
        "\n",
        "\n",
        "\n"
      ]
    },
    {
      "cell_type": "code",
      "metadata": {
        "id": "nv6QRTvQiWRv",
        "colab_type": "code",
        "colab": {}
      },
      "source": [
        "%%R\n",
        "#  Caclular normalização \n",
        "maxs <- apply(dados, 2, max) # aplicar a função apply ao conjunto de dados, chamando a função max \n",
        "mins <- apply(dados, 2, min) # aplicar a função apply ao conjunto de dados, chamando a função min"
      ],
      "execution_count": 0,
      "outputs": []
    },
    {
      "cell_type": "code",
      "metadata": {
        "id": "9urUPHABiWPk",
        "colab_type": "code",
        "colab": {
          "base_uri": "https://localhost:8080/",
          "height": 88
        },
        "outputId": "9e52ba43-2a4d-4aba-ca27-1b539f191d71"
      },
      "source": [
        "%%R\n",
        "# Imprimir os valores máximos para cada varíavel do dataset\n",
        "  maxs"
      ],
      "execution_count": 198,
      "outputs": [
        {
          "output_type": "stream",
          "text": [
            "    crim       zn    indus     chas      nox       rm      age      dis \n",
            " 88.9762 100.0000  27.7400   1.0000   0.8710   8.7800 100.0000  12.1265 \n",
            "     rad      tax  ptratio    black    lstat     medv \n",
            " 24.0000 711.0000  22.0000 396.9000  37.9700  50.0000 \n"
          ],
          "name": "stdout"
        }
      ]
    },
    {
      "cell_type": "code",
      "metadata": {
        "id": "_glKKxIQiWMD",
        "colab_type": "code",
        "colab": {
          "base_uri": "https://localhost:8080/",
          "height": 88
        },
        "outputId": "d1e2f5f1-64f1-4aae-a513-a82d94f81b63"
      },
      "source": [
        "%%R\n",
        "# Imprimir os valores mínimos para cada variável do dataset\n",
        "  mins"
      ],
      "execution_count": 199,
      "outputs": [
        {
          "output_type": "stream",
          "text": [
            "     crim        zn     indus      chas       nox        rm       age       dis \n",
            "  0.00632   0.00000   0.46000   0.00000   0.38500   3.56100   2.90000   1.12960 \n",
            "      rad       tax   ptratio     black     lstat      medv \n",
            "  1.00000 187.00000  12.60000   0.32000   1.73000   5.00000 \n"
          ],
          "name": "stdout"
        }
      ]
    },
    {
      "cell_type": "code",
      "metadata": {
        "id": "td0FD0KwiWIJ",
        "colab_type": "code",
        "colab": {}
      },
      "source": [
        "%%R\n",
        "# Normalizar com a função scale, passando dataset dados e aplicando valores máximos e mínimos\n",
        "dados_normalizados <- as.data.frame(scale(dados, center = mins, scale = maxs - mins))"
      ],
      "execution_count": 0,
      "outputs": []
    },
    {
      "cell_type": "code",
      "metadata": {
        "id": "Tj6Z1YWVjf4c",
        "colab_type": "code",
        "colab": {
          "base_uri": "https://localhost:8080/",
          "height": 266
        },
        "outputId": "70beeeb2-c9b8-4fd5-8a17-a09c7be79dd2"
      },
      "source": [
        "%%R\n",
        "# Imprimir dados normalizados, todos os dados já na mesma escala\n",
        "head(dados_normalizados)"
      ],
      "execution_count": 202,
      "outputs": [
        {
          "output_type": "stream",
          "text": [
            "          crim   zn      indus chas       nox        rm       age       dis\n",
            "1 0.0000000000 0.18 0.06781525    0 0.3148148 0.5775053 0.6416066 0.2692031\n",
            "2 0.0002359225 0.00 0.24230205    0 0.1728395 0.5479977 0.7826982 0.3489620\n",
            "3 0.0002356977 0.00 0.24230205    0 0.1728395 0.6943859 0.5993821 0.3489620\n",
            "4 0.0002927957 0.00 0.06304985    0 0.1502058 0.6585553 0.4418126 0.4485446\n",
            "5 0.0007050701 0.00 0.06304985    0 0.1502058 0.6871048 0.5283213 0.4485446\n",
            "6 0.0002644715 0.00 0.06304985    0 0.1502058 0.5497222 0.5746653 0.4485446\n",
            "         rad        tax   ptratio     black      lstat      medv\n",
            "1 0.00000000 0.20801527 0.2872340 1.0000000 0.08967991 0.4222222\n",
            "2 0.04347826 0.10496183 0.5531915 1.0000000 0.20447020 0.3688889\n",
            "3 0.04347826 0.10496183 0.5531915 0.9897373 0.06346578 0.6600000\n",
            "4 0.08695652 0.06679389 0.6489362 0.9942761 0.03338852 0.6311111\n",
            "5 0.08695652 0.06679389 0.6489362 1.0000000 0.09933775 0.6933333\n",
            "6 0.08695652 0.06679389 0.6489362 0.9929901 0.09602649 0.5266667\n"
          ],
          "name": "stdout"
        }
      ]
    },
    {
      "cell_type": "code",
      "metadata": {
        "id": "6B9eEWMmigBV",
        "colab_type": "code",
        "colab": {}
      },
      "source": [
        "%%R\n",
        "install.packages(\"caTools\")\n",
        "library(caTools)"
      ],
      "execution_count": 0,
      "outputs": []
    },
    {
      "cell_type": "code",
      "metadata": {
        "id": "tx617AXWj5C1",
        "colab_type": "code",
        "colab": {}
      },
      "source": [
        "%%R\n",
        "# Criar um índice para fazer a divisão em dados de Treino e dados de Teste\n",
        "split = sample.split(dados_normalizados$medv, SplitRatio = 0.70)"
      ],
      "execution_count": 0,
      "outputs": []
    },
    {
      "cell_type": "code",
      "metadata": {
        "id": "XTR8fD7uif8F",
        "colab_type": "code",
        "colab": {}
      },
      "source": [
        "%%R\n",
        "# Aplicar o índice com os dados normalizados para fazer a divisão em dados de treino\n",
        "  treino = subset(dados_normalizados, split == TRUE)"
      ],
      "execution_count": 0,
      "outputs": []
    },
    {
      "cell_type": "code",
      "metadata": {
        "id": "YGWkF9u8if4s",
        "colab_type": "code",
        "colab": {}
      },
      "source": [
        "%%R\n",
        "# Aplicar o índice com os dados normalizados para fazer a divisão em dados de teste\n",
        "  teste = subset(dados_normalizados, split == FALSE)"
      ],
      "execution_count": 0,
      "outputs": []
    },
    {
      "cell_type": "code",
      "metadata": {
        "id": "DIcy1FmSifyH",
        "colab_type": "code",
        "colab": {
          "base_uri": "https://localhost:8080/",
          "height": 52
        },
        "outputId": "1e747f79-f65b-4a6e-f91d-7ace0e249857"
      },
      "source": [
        "%%R\n",
        "# Obter o nome das colunas com names ()\n",
        "coluna_nomes <- names(treino)\n",
        "coluna_nomes"
      ],
      "execution_count": 211,
      "outputs": [
        {
          "output_type": "stream",
          "text": [
            " [1] \"crim\"    \"zn\"      \"indus\"   \"chas\"    \"nox\"     \"rm\"      \"age\"    \n",
            " [8] \"dis\"     \"rad\"     \"tax\"     \"ptratio\" \"black\"   \"lstat\"   \"medv\"   \n"
          ],
          "name": "stdout"
        }
      ]
    },
    {
      "cell_type": "markdown",
      "metadata": {
        "id": "6beIf7ljlOy9",
        "colab_type": "text"
      },
      "source": [
        "# Agregar com programação\n",
        "\n"
      ]
    },
    {
      "cell_type": "code",
      "metadata": {
        "id": "LVYBE8Ozi6R5",
        "colab_type": "code",
        "colab": {
          "base_uri": "https://localhost:8080/",
          "height": 52
        },
        "outputId": "d37195e0-79a0-40f6-91e0-0ffde942e5f4"
      },
      "source": [
        "%%R\n",
        "# Agregar\n",
        "formula <- as.formula(paste(\"medv ~\", paste(coluna_nomes[!coluna_nomes %in% \"medv\"], collapse = \" + \")))\n",
        "formula"
      ],
      "execution_count": 213,
      "outputs": [
        {
          "output_type": "stream",
          "text": [
            "medv ~ crim + zn + indus + chas + nox + rm + age + dis + rad + \n",
            "    tax + ptratio + black + lstat\n"
          ],
          "name": "stdout"
        }
      ]
    },
    {
      "cell_type": "code",
      "metadata": {
        "id": "goJ4z2MWi6MS",
        "colab_type": "code",
        "colab": {}
      },
      "source": [
        "%%R\n",
        "# Treinar o Modelo chamando o objeto formula\n",
        "rede_neural <- neuralnet(formula, data = treino, hidden = c(5,3), linear.output = TRUE)"
      ],
      "execution_count": 0,
      "outputs": []
    },
    {
      "cell_type": "code",
      "metadata": {
        "id": "Hn7Z3qq6i6IN",
        "colab_type": "code",
        "colab": {
          "base_uri": "https://localhost:8080/",
          "height": 52
        },
        "outputId": "f6c607d7-51a3-4ffe-a7fb-1328bd79ca07"
      },
      "source": [
        "%%R\n",
        "# Plot\n",
        "plot(rede_neural)\n",
        "\n"
      ],
      "execution_count": 223,
      "outputs": [
        {
          "output_type": "stream",
          "text": [
            "R[write to console]: dev.new(): using pdf(file=\"Rplots7.pdf\")\n",
            "\n"
          ],
          "name": "stderr"
        }
      ]
    },
    {
      "cell_type": "code",
      "metadata": {
        "id": "VBIzEDaGjDC1",
        "colab_type": "code",
        "colab": {
          "base_uri": "https://localhost:8080/",
          "height": 1000
        },
        "outputId": "8607246f-9597-404e-9868-6dec0fac18f9"
      },
      "source": [
        "%%R\n",
        "# Fazer previsões com os dados de teste, chamar a \"rede_neural\" (modelo) e os dados de teste\n",
        "rede_neural_prev <- compute(rede_neural, teste[1:13])\n",
        "rede_neural_prev"
      ],
      "execution_count": 229,
      "outputs": [
        {
          "output_type": "stream",
          "text": [
            "$neurons\n",
            "$neurons[[1]]\n",
            "              crim    zn      indus chas        nox        rm        age\n",
            "1   1 0.000000e+00 0.180 0.06781525    0 0.31481481 0.5775053 0.64160659\n",
            "4   1 2.927957e-04 0.000 0.06304985    0 0.15020576 0.6585553 0.44181256\n",
            "6   1 2.644715e-04 0.000 0.06304985    0 0.15020576 0.5497222 0.57466529\n",
            "9   1 2.303251e-03 0.125 0.27162757    0 0.28600823 0.3966277 1.00000000\n",
            "18  1 8.743184e-03 0.000 0.28152493    0 0.31481481 0.4654148 0.81153450\n",
            "20  1 8.086782e-03 0.000 0.28152493    0 0.31481481 0.4150220 0.68589083\n",
            "21  1 1.399878e-02 0.000 0.28152493    0 0.31481481 0.3849396 0.98043254\n",
            "22  1 9.505689e-03 0.000 0.28152493    0 0.31481481 0.4606246 0.88877446\n",
            "29  1 8.617186e-03 0.000 0.28152493    0 0.31481481 0.5621767 0.94232750\n",
            "32  1 1.515569e-02 0.000 0.28152493    0 0.31481481 0.4811267 1.00000000\n",
            "36  1 6.502201e-04 0.000 0.20161290    0 0.23456790 0.4544932 0.67250257\n",
            "38  1 8.297190e-04 0.000 0.20161290    0 0.23456790 0.4385898 0.39752832\n",
            "39  1 1.896485e-03 0.000 0.20161290    0 0.23456790 0.4608162 0.28115345\n",
            "41  1 3.065082e-04 0.750 0.09127566    0 0.08847737 0.6635371 0.13285273\n",
            "45  1 1.307971e-03 0.000 0.23643695    0 0.12962963 0.4805518 0.38208033\n",
            "46  1 1.855684e-03 0.000 0.23643695    0 0.12962963 0.4063997 0.31822863\n",
            "48  1 2.505904e-03 0.000 0.23643695    0 0.12962963 0.4730791 0.85066941\n",
            "50  1 2.399127e-03 0.000 0.23643695    0 0.12962963 0.3910711 0.60865088\n",
            "51  1 9.262685e-04 0.210 0.18988270    0 0.11111111 0.4602414 0.44078270\n",
            "63  1 1.168373e-03 0.250 0.17118768    0 0.13991770 0.5547040 0.66838311\n",
            "64  1 1.350794e-03 0.250 0.17118768    0 0.13991770 0.6133359 0.41709578\n",
            "68  1 5.796344e-04 0.125 0.20564516    0 0.04938272 0.4439548 0.19052523\n",
            "69  1 1.452402e-03 0.125 0.20564516    0 0.04938272 0.3895382 0.34912461\n",
            "70  1 1.369452e-03 0.125 0.20564516    0 0.04938272 0.4452960 0.30998970\n",
            "74  1 2.125101e-03 0.000 0.37939883    0 0.05761317 0.5142748 0.03398558\n",
            "76  1 9.980906e-04 0.000 0.45344575    0 0.10699588 0.5221307 0.43357364\n",
            "78  1 9.076105e-04 0.000 0.45344575    0 0.10699588 0.4941560 0.44181256\n",
            "83  1 3.402275e-04 0.250 0.16129032    0 0.08436214 0.5251964 0.30175077\n",
            "84  1 3.280886e-04 0.250 0.16129032    0 0.08436214 0.4993294 0.45108136\n",
            "94  1 2.521078e-04 0.280 0.53445748    0 0.16255144 0.5077601 0.26776519\n",
            "103 1 2.500172e-03 0.000 0.29692082    0 0.27777778 0.5449320 0.84963955\n",
            "111 1 1.142072e-03 0.000 0.29692082    0 0.27777778 0.5046944 0.53038105\n",
            "112 1 1.062382e-03 0.000 0.35007331    0 0.33333333 0.6043303 0.81050463\n",
            "113 1 1.314715e-03 0.000 0.35007331    0 0.33333333 0.4506610 0.92687951\n",
            "115 1 1.528495e-03 0.000 0.35007331    0 0.33333333 0.5159992 0.83728115\n",
            "116 1 1.854785e-03 0.000 0.35007331    0 0.33333333 0.4535352 0.87847580\n",
            "123 1 9.741499e-04 0.000 0.92338710    0 0.40329218 0.4598582 0.92687951\n",
            "128 1 2.841748e-03 0.000 0.78555718    0 0.49176955 0.4085074 0.95880536\n",
            "131 1 3.751157e-03 0.000 0.78555718    0 0.49176955 0.5550872 0.98867147\n",
            "142 1 1.823449e-02 0.000 0.78555718    0 0.49176955 0.2793639 1.00000000\n",
            "143 1 3.725677e-02 0.000 0.70087977    1 1.00000000 0.3529412 1.00000000\n",
            "145 1 3.117257e-02 0.000 0.70087977    0 1.00000000 0.2571374 0.97734295\n",
            "147 1 2.415121e-02 0.000 0.70087977    0 1.00000000 0.3960529 1.00000000\n",
            "149 1 2.612873e-02 0.000 0.70087977    0 1.00000000 0.3113623 0.93614830\n",
            "151 1 1.854875e-02 0.000 0.70087977    0 1.00000000 0.4907070 0.97219361\n",
            "154 1 2.408523e-02 0.000 0.70087977    0 1.00000000 0.4115731 0.98455201\n",
            "164 1 1.700238e-02 0.000 0.70087977    1 0.45267490 0.9223989 0.93717817\n",
            "165 1 2.513255e-02 0.000 0.70087977    0 0.45267490 0.4393562 0.91555098\n",
            "170 1 2.746109e-02 0.000 0.70087977    0 0.45267490 0.5443572 0.95056643\n",
            "174 1 9.605498e-04 0.000 0.13159824    0 0.25720165 0.5470397 0.83625129\n",
            "175 1 8.783872e-04 0.000 0.13159824    0 0.25720165 0.4403142 0.67765191\n",
            "177 1 7.182206e-04 0.000 0.13159824    0 0.25720165 0.4711631 0.45623069\n",
            "178 1 5.387216e-04 0.000 0.13159824    0 0.25720165 0.5276873 0.72605561\n",
            "182 1 7.031593e-04 0.000 0.07331378    0 0.21193416 0.4949224 0.61071061\n",
            "185 1 8.627639e-04 0.000 0.07331378    0 0.21193416 0.3914543 0.89495366\n",
            "186 1 6.086329e-04 0.000 0.07331378    0 0.21193416 0.4966469 0.67868177\n",
            "188 1 8.140957e-04 0.450 0.10923754    0 0.10699588 0.6171680 0.39340886\n",
            "189 1 1.342814e-03 0.450 0.10923754    0 0.10699588 0.5738647 0.26982492\n",
            "195 1 9.070485e-05 0.600 0.09054252    0 0.03292181 0.5830619 0.16374871\n",
            "196 1 8.418579e-05 0.800 0.00000000    0 0.07613169 0.8265951 0.29969104\n",
            "208 1 2.761272e-03 0.000 0.37133431    0 0.21399177 0.4257521 0.71884655\n",
            "209 1 1.456111e-03 0.000 0.37133431    1 0.21399177 0.4795938 0.57878476\n",
            "217 1 4.414977e-04 0.000 0.49230205    1 0.33950617 0.4458709 0.54685891\n",
            "223 1 6.937629e-03 0.000 0.21041056    1 0.25102881 0.6357540 0.77033986\n",
            "228 1 4.564016e-03 0.000 0.21041056    0 0.24485597 0.6901705 0.79299691\n",
            "230 1 4.894465e-03 0.000 0.21041056    0 0.24485597 0.5730983 0.19052523\n",
            "235 1 4.963365e-03 0.000 0.21041056    1 0.25102881 0.6064380 0.65499485\n",
            "247 1 3.748572e-03 0.220 0.19794721    0 0.09465021 0.4880245 0.32955716\n",
            "249 1 1.776669e-03 0.220 0.19794721    0 0.09465021 0.5502970 0.47579815\n",
            "277 1 1.105655e-03 0.400 0.21810850    1 0.12757202 0.7100977 0.47476828\n",
            "282 1 3.453978e-04 0.200 0.10520528    0 0.11913580 0.6528071 0.35324408\n",
            "287 1 1.498260e-04 0.800 0.04765396    0 0.00000000 0.5114007 0.29454171\n",
            "297 1 5.327646e-04 0.000 0.49340176    0 0.10699588 0.5725235 0.49536560\n",
            "304 1 1.052941e-03 0.340 0.20637830    0 0.09876543 0.6554896 0.15242019\n",
            "306 1 5.447911e-04 0.330 0.06304985    0 0.17901235 0.5853612 0.56848610\n",
            "310 1 3.856136e-03 0.000 0.34604106    0 0.32716049 0.4619659 0.76004119\n",
            "314 1 2.956731e-03 0.000 0.34604106    0 0.32716049 0.5182985 0.82286303\n",
            "315 1 4.078684e-03 0.000 0.34604106    0 0.32716049 0.5759724 0.86920700\n",
            "322 1 1.969993e-03 0.000 0.25366569    0 0.22222222 0.5393754 0.52935118\n",
            "323 1 3.875694e-03 0.000 0.25366569    0 0.22222222 0.4751868 0.48403708\n",
            "331 1 4.396994e-04 0.000 0.10190616    0 0.15432099 0.4949224 0.30175077\n",
            "332 1 4.935378e-04 0.350 0.20527859    0 0.10884774 0.4109983 0.26261586\n",
            "335 1 3.491069e-04 0.000 0.17338710    0 0.26748971 0.5267293 0.36663234\n",
            "336 1 3.741716e-04 0.000 0.17338710    0 0.26748971 0.4744204 0.32543769\n",
            "339 1 3.005512e-04 0.000 0.17338710    0 0.26748971 0.4786358 0.35427394\n",
            "340 1 5.468143e-04 0.000 0.17338710    0 0.26748971 0.4644568 0.43769310\n",
            "341 1 6.203223e-04 0.000 0.17338710    0 0.26748971 0.4611995 0.57260556\n",
            "344 1 2.147918e-04 0.550 0.12170088    0 0.20370370 0.6006898 0.55097837\n",
            "347 1 6.215587e-04 0.000 0.14406158    0 0.11728395 0.4477869 0.50875386\n",
            "350 1 2.548053e-04 0.400 0.02895894    0 0.09053498 0.6472504 0.32543769\n",
            "352 1 8.225256e-04 0.600 0.04508798    0 0.05349794 0.5782717 0.33985582\n",
            "354 1 1.210522e-04 0.900 0.05718475    0 0.05144033 0.6068212 0.34191555\n",
            "356 1 1.127011e-03 0.800 0.05315249    0 0.05761317 0.4550680 0.17095778\n",
            "358 1 4.319866e-02 0.000 0.64662757    1 0.79218107 0.5430159 0.90731205\n",
            "365 1 3.897903e-02 0.000 0.64662757    1 0.68518519 1.0000000 0.82389289\n",
            "369 1 5.498378e-02 0.000 0.64662757    0 0.50617284 0.2699751 1.00000000\n",
            "370 1 6.365817e-02 0.000 0.64662757    1 0.50617284 0.5981989 0.96704428\n",
            "372 1 1.036978e-01 0.000 0.64662757    0 0.50617284 0.5087181 1.00000000\n",
            "376 1 2.203305e-01 0.000 0.64662757    0 0.58847737 0.7189117 0.97837281\n",
            "377 1 1.717624e-01 0.000 0.64662757    0 0.58847737 0.5916842 0.93099897\n",
            "378 1 1.103426e-01 0.000 0.64662757    0 0.58847737 0.6194673 0.98764161\n",
            "379 1 2.657290e-01 0.000 0.64662757    0 0.58847737 0.5401418 0.96086509\n",
            "380 1 2.007464e-01 0.000 0.64662757    0 0.58847737 0.5100594 1.00000000\n",
            "381 1 1.000000e+00 0.000 0.64662757    0 0.58847737 0.6528071 0.91658084\n",
            "382 1 1.783534e-01 0.000 0.64662757    0 0.58847737 0.5717570 0.99073120\n",
            "385 1 2.256784e-01 0.000 0.64662757    0 0.64814815 0.1546273 0.90937178\n",
            "387 1 2.741094e-01 0.000 0.64662757    0 0.64814815 0.2090439 1.00000000\n",
            "395 1 1.500899e-01 0.000 0.64662757    0 0.63374486 0.4456792 0.94541710\n",
            "402 1 1.599404e-01 0.000 0.64662757    0 0.63374486 0.5330523 1.00000000\n",
            "405 1 4.667072e-01 0.000 0.64662757    0 0.63374486 0.3774669 0.84963955\n",
            "406 1 7.633424e-01 0.000 0.64662757    0 0.63374486 0.4065913 1.00000000\n",
            "407 1 2.327741e-01 0.000 0.64662757    0 0.56378601 0.1105576 1.00000000\n",
            "408 1 1.342564e-01 0.000 0.64662757    0 0.56378601 0.3922207 1.00000000\n",
            "415 1 5.141041e-01 0.000 0.64662757    0 0.63374486 0.1835601 1.00000000\n",
            "426 1 1.781949e-01 0.000 0.64662757    0 0.60493827 0.4474037 0.95262616\n",
            "434 1 6.265885e-02 0.000 0.64662757    0 0.67489712 0.5508718 0.87538620\n",
            "435 1 1.563122e-01 0.000 0.64662757    0 0.67489712 0.5071853 0.94850669\n",
            "439 1 1.536675e-01 0.000 0.64662757    0 0.73045267 0.4548764 0.87538620\n",
            "444 1 1.119505e-01 0.000 0.64662757    0 0.73045267 0.5602606 1.00000000\n",
            "449 1 1.047857e-01 0.000 0.64662757    0 0.67489712 0.5027783 0.98661174\n",
            "453 1 5.714125e-02 0.000 0.64662757    0 0.67489712 0.5242384 0.91555098\n",
            "458 1 9.210151e-02 0.000 0.64662757    0 0.67489712 0.4550680 0.79711637\n",
            "459 1 8.706216e-02 0.000 0.64662757    0 0.67489712 0.5250048 0.83213182\n",
            "460 1 7.637248e-02 0.000 0.64662757    0 0.67489712 0.4828511 0.83934089\n",
            "463 1 7.472866e-02 0.000 0.64662757    0 0.67489712 0.5280705 0.82492276\n",
            "464 1 6.535729e-02 0.000 0.64662757    0 0.67489712 0.5656256 0.89598352\n",
            "471 1 4.880832e-02 0.000 0.64662757    0 0.40123457 0.4993294 0.83522142\n",
            "475 1 9.047410e-02 0.000 0.64662757    0 0.40946502 0.3575398 0.95262616\n",
            "477 1 5.468244e-02 0.000 0.64662757    0 0.47119342 0.5600690 0.93408857\n",
            "479 1 1.149454e-01 0.000 0.64662757    0 0.47119342 0.5027783 0.96601442\n",
            "481 1 6.538943e-02 0.000 0.64662757    0 0.30246914 0.5136999 0.63645726\n",
            "482 1 6.408753e-02 0.000 0.64662757    0 0.30246914 0.6110366 0.74150360\n",
            "484 1 3.160688e-02 0.000 0.64662757    0 0.30246914 0.4217283 0.38516993\n",
            "487 1 6.390286e-02 0.000 0.64662757    0 0.40740741 0.4891742 0.79196704\n",
            "489 1 1.624595e-03 0.000 1.00000000    0 0.46090535 0.3627132 0.92481977\n",
            "496 1 1.940769e-03 0.000 0.33834311    0 0.41152263 0.4041004 0.26673532\n",
            "501 1 2.450942e-03 0.000 0.33834311    0 0.41152263 0.4725043 0.79093718\n",
            "502 1 6.329108e-04 0.000 0.42045455    0 0.38683128 0.5809542 0.68177137\n",
            "505 1 1.160730e-03 0.000 0.42045455    0 0.38683128 0.6194673 0.88980433\n",
            "            dis        rad         tax   ptratio       black       lstat\n",
            "1   0.269203139 0.00000000 0.208015267 0.2872340 1.000000000 0.089679912\n",
            "4   0.448544590 0.08695652 0.066793893 0.6489362 0.994276060 0.033388521\n",
            "6   0.448544590 0.08695652 0.066793893 0.6489362 0.992990065 0.096026490\n",
            "9   0.450354191 0.17391304 0.236641221 0.2765957 0.974103586 0.778145695\n",
            "18  0.284471078 0.13043478 0.229007634 0.8936170 0.974406173 0.357064018\n",
            "20  0.242513799 0.13043478 0.229007634 0.8936170 0.984996722 0.263520971\n",
            "21  0.242641108 0.13043478 0.229007634 0.8936170 0.948736699 0.532284768\n",
            "22  0.262137511 0.13043478 0.229007634 0.8936170 0.988980786 0.333885210\n",
            "29  0.302367031 0.13043478 0.229007634 0.8936170 0.977406828 0.305463576\n",
            "32  0.276932590 0.13043478 0.229007634 0.8936170 0.949140148 0.312086093\n",
            "36  0.202848075 0.17391304 0.175572519 0.7021277 1.000000000 0.219370861\n",
            "38  0.255035510 0.17391304 0.175572519 0.7021277 1.000000000 0.194260486\n",
            "39  0.247133283 0.17391304 0.175572519 0.7021277 0.991250189 0.231788079\n",
            "41  0.388427648 0.08695652 0.124045802 0.6063830 0.996772404 0.006898455\n",
            "45  0.417508571 0.08695652 0.087786260 0.5638298 0.981063089 0.215783664\n",
            "46  0.361083578 0.08695652 0.087786260 0.5638298 1.000000000 0.233995585\n",
            "48  0.414644127 0.08695652 0.087786260 0.5638298 0.989510313 0.471026490\n",
            "50  0.450863425 0.08695652 0.087786260 0.5638298 1.000000000 0.399282561\n",
            "51  0.516972965 0.13043478 0.106870229 0.4468085 0.996621110 0.323399558\n",
            "63  0.554328947 0.30434783 0.185114504 0.7553191 1.000000000 0.137969095\n",
            "64  0.623021033 0.30434783 0.185114504 0.7553191 0.996671542 0.214403974\n",
            "68  0.488173940 0.13043478 0.301526718 0.6702128 0.998260124 0.175772627\n",
            "69  0.488173940 0.13043478 0.301526718 0.6702128 1.000000000 0.313465784\n",
            "70  0.488173940 0.13043478 0.301526718 0.6702128 1.000000000 0.194812362\n",
            "74  0.378079277 0.13043478 0.225190840 0.7021277 0.950249634 0.160320088\n",
            "76  0.306722804 0.17391304 0.402671756 0.6489362 0.965530284 0.198951435\n",
            "78  0.269248606 0.17391304 0.402671756 0.6489362 0.974935700 0.235651214\n",
            "83  0.388391274 0.13043478 0.179389313 0.6808511 1.000000000 0.137693157\n",
            "84  0.388391274 0.13043478 0.179389313 0.6808511 0.984215039 0.159492274\n",
            "94  0.230637725 0.13043478 0.158396947 0.5957447 0.998562711 0.123620309\n",
            "103 0.144140621 0.17391304 0.375954198 0.8829787 0.177719502 0.245584989\n",
            "111 0.149878602 0.17391304 0.375954198 0.8829787 0.991401483 0.310982340\n",
            "112 0.140757850 0.21739130 0.467557252 0.5531915 0.996696757 0.232615894\n",
            "113 0.111285908 0.21739130 0.467557252 0.5531915 0.995082959 0.399558499\n",
            "115 0.102474334 0.21739130 0.467557252 0.5531915 0.979424076 0.240618102\n",
            "116 0.121261446 0.21739130 0.467557252 0.5531915 0.868904130 0.387141280\n",
            "123 0.087051806 0.04347826 0.001908397 0.6914894 0.952569469 0.447019868\n",
            "128 0.059898699 0.13043478 0.477099237 0.9148936 0.987921731 0.426600442\n",
            "131 0.089925343 0.13043478 0.477099237 0.9148936 0.995309900 0.299944812\n",
            "142 0.028171576 0.13043478 0.477099237 0.9148936 1.000000000 0.901766004\n",
            "143 0.017459466 0.17391304 0.412213740 0.2234043 1.000000000 0.692328918\n",
            "145 0.019669179 0.17391304 0.412213740 0.2234043 1.000000000 0.760485651\n",
            "147 0.035191736 0.17391304 0.412213740 0.2234043 0.426017449 0.411699779\n",
            "149 0.036373887 0.17391304 0.412213740 0.2234043 0.899364567 0.733719647\n",
            "151 0.044412516 0.17391304 0.412213740 0.2234043 0.939230420 0.341335541\n",
            "154 0.044885377 0.17391304 0.412213740 0.2234043 0.659715568 0.387969095\n",
            "164 0.093881003 0.17391304 0.412213740 0.2234043 0.978692824 0.043874172\n",
            "165 0.117524029 0.17391304 0.412213740 0.2234043 0.995486409 0.273454746\n",
            "170 0.103019942 0.17391304 0.412213740 0.2234043 0.831408543 0.264624724\n",
            "174 0.137920687 0.17391304 0.208015267 0.4255319 0.996469817 0.201710817\n",
            "175 0.142976657 0.17391304 0.208015267 0.4255319 0.990745877 0.218267108\n",
            "177 0.220543971 0.17391304 0.208015267 0.4255319 0.990745877 0.231236203\n",
            "178 0.198956069 0.17391304 0.208015267 0.4255319 0.996721973 0.125827815\n",
            "182 0.133519446 0.08695652 0.011450382 0.5531915 1.000000000 0.213024283\n",
            "185 0.168983986 0.08695652 0.011450382 0.5531915 0.985122800 0.338024283\n",
            "186 0.195518737 0.08695652 0.011450382 0.5531915 0.975313934 0.315121413\n",
            "188 0.241795415 0.17391304 0.402671756 0.2765957 0.992359675 0.136589404\n",
            "189 0.312551719 0.17391304 0.402671756 0.2765957 0.964546876 0.078090508\n",
            "195 0.462857714 0.00000000 0.148854962 0.3191489 0.949064501 0.073123620\n",
            "196 0.410915804 0.13043478 0.129770992 0.1914894 0.993267437 0.034216336\n",
            "208 0.293291746 0.13043478 0.171755725 0.6382979 0.981163952 0.450607064\n",
            "209 0.282770599 0.13043478 0.171755725 0.6382979 0.960714106 0.356788079\n",
            "217 0.180278078 0.17391304 0.169847328 0.4042553 0.989661607 0.325055188\n",
            "223 0.194827633 0.30434783 0.229007634 0.5106383 0.983584649 0.226269316\n",
            "228 0.189698915 0.30434783 0.229007634 0.5106383 0.937414897 0.127759382\n",
            "230 0.204193909 0.30434783 0.229007634 0.5106383 0.958242977 0.056015453\n",
            "235 0.229364639 0.30434783 0.229007634 0.5106383 0.907458773 0.174392936\n",
            "247 0.629804763 0.26086957 0.272900763 0.6914894 0.983055121 0.205022075\n",
            "249 0.608980713 0.26086957 0.272900763 0.6914894 0.944046598 0.214955850\n",
            "277 0.332602824 0.13043478 0.127862595 0.5319149 0.980710071 0.119205298\n",
            "282 0.374205458 0.17391304 0.055343511 0.2446809 0.988224318 0.078918322\n",
            "287 0.723803981 0.00000000 0.103053435 0.5957447 0.860557769 0.309050773\n",
            "297 0.439287436 0.13043478 0.194656489 0.3617021 0.989787685 0.156181015\n",
            "304 0.396666333 0.26086957 0.270992366 0.3723404 0.983685511 0.086368653\n",
            "306 0.203730142 0.26086957 0.066793893 0.6170213 0.991073680 0.198675497\n",
            "310 0.179405105 0.13043478 0.223282443 0.6170213 0.998335771 0.227373068\n",
            "314 0.193981940 0.13043478 0.223282443 0.6170213 0.991149327 0.170253863\n",
            "315 0.224854277 0.13043478 0.223282443 0.6170213 0.996948913 0.208333333\n",
            "322 0.310160136 0.17391304 0.190839695 0.7446809 1.000000000 0.141832230\n",
            "323 0.326592040 0.17391304 0.190839695 0.7446809 1.000000000 0.164735099\n",
            "331 0.431394302 0.13043478 0.463740458 0.4574468 0.928564224 0.203090508\n",
            "332 0.501150324 0.00000000 0.223282443 0.4574468 0.992737909 0.295253863\n",
            "335 0.484572925 0.17391304 0.070610687 0.8085106 0.981088305 0.138520971\n",
            "336 0.441551710 0.17391304 0.070610687 0.8085106 1.000000000 0.173289183\n",
            "339 0.334876192 0.17391304 0.070610687 0.8085106 0.998083615 0.187086093\n",
            "340 0.334876192 0.17391304 0.070610687 0.8085106 1.000000000 0.221026490\n",
            "341 0.334876192 0.17391304 0.070610687 0.8085106 1.000000000 0.208609272\n",
            "344 0.418527039 0.17391304 0.349236641 0.5319149 1.000000000 0.150386313\n",
            "347 0.625994598 0.08695652 0.314885496 0.6595745 0.918578849 0.301876380\n",
            "350 0.696787276 0.00000000 0.282442748 0.7553191 0.982223007 0.114790287\n",
            "352 0.871218252 0.13043478 0.427480916 0.6063830 0.934136870 0.103752759\n",
            "354 1.000000000 0.17391304 0.000000000 0.4680851 0.968631802 0.076434879\n",
            "356 0.859887787 0.13043478 0.280534351 1.0000000 0.947400272 0.105960265\n",
            "358 0.125089798 1.00000000 0.914122137 0.8085106 0.985980130 0.318432671\n",
            "365 0.070483500 1.00000000 0.914122137 0.8085106 0.893211962 0.098233996\n",
            "369 0.018450654 1.00000000 0.914122137 0.8085106 0.946089061 0.042218543\n",
            "370 0.020651274 1.00000000 0.914122137 0.8085106 0.945609965 0.055187638\n",
            "372 0.003591921 1.00000000 0.914122137 0.8085106 0.922462051 0.215231788\n",
            "376 0.016977512 1.00000000 0.914122137 0.8085106 1.000000000 0.323123620\n",
            "377 0.019578245 1.00000000 0.914122137 0.8085106 0.914569570 0.593543046\n",
            "378 0.020769490 1.00000000 0.914122137 0.8085106 1.000000000 0.538355408\n",
            "379 0.023324755 1.00000000 0.914122137 0.8085106 1.000000000 0.605960265\n",
            "380 0.023324755 1.00000000 0.914122137 0.8085106 0.992031873 0.553256071\n",
            "381 0.026089171 1.00000000 0.914122137 0.8085106 1.000000000 0.427152318\n",
            "382 0.035428166 1.00000000 0.914122137 0.8085106 1.000000000 0.533940397\n",
            "385 0.028180669 1.00000000 0.914122137 0.8085106 0.719930405 0.797461369\n",
            "387 0.030699561 1.00000000 0.914122137 0.8085106 1.000000000 0.732615894\n",
            "395 0.059334903 1.00000000 0.914122137 0.8085106 1.000000000 0.403421634\n",
            "402 0.040420482 1.00000000 0.914122137 0.8085106 1.000000000 0.512969095\n",
            "405 0.043448608 1.00000000 0.914122137 0.8085106 0.829946039 0.707781457\n",
            "406 0.026898490 1.00000000 0.914122137 0.8085106 0.969917797 0.586368653\n",
            "407 0.004410334 1.00000000 0.914122137 0.8085106 0.932724797 0.596302428\n",
            "408 0.014149442 1.00000000 0.914122137 0.8085106 0.836577740 0.286975717\n",
            "415 0.048068092 1.00000000 0.914122137 0.8085106 0.221771143 0.972682119\n",
            "426 0.070929080 1.00000000 0.914122137 0.8085106 0.018558677 0.625275938\n",
            "434 0.107866762 1.00000000 0.914122137 0.8085106 0.251828131 0.399834437\n",
            "435 0.099355273 1.00000000 0.914122137 0.8085106 0.252937617 0.370860927\n",
            "439 0.062835890 1.00000000 0.914122137 0.8085106 0.173054617 0.891004415\n",
            "444 0.077185389 1.00000000 0.914122137 0.8085106 0.974355742 0.472406181\n",
            "449 0.102938101 1.00000000 0.914122137 0.8085106 1.000000000 0.452538631\n",
            "453 0.112631742 1.00000000 0.914122137 0.8085106 0.970220384 0.428807947\n",
            "458 0.150005911 1.00000000 0.914122137 0.8085106 0.008018559 0.419701987\n",
            "459 0.150360556 1.00000000 0.914122137 0.8085106 0.685586767 0.400110375\n",
            "460 0.144395239 1.00000000 0.914122137 0.8085106 1.000000000 0.357891832\n",
            "463 0.145932035 1.00000000 0.914122137 0.8085106 1.000000000 0.338300221\n",
            "464 0.152042848 1.00000000 0.914122137 0.8085106 0.992233597 0.236203091\n",
            "471 0.173121516 1.00000000 0.914122137 0.8085106 1.000000000 0.401766004\n",
            "475 0.118233320 1.00000000 0.914122137 0.8085106 0.888244490 0.452814570\n",
            "477 0.106911948 1.00000000 0.914122137 0.8085106 0.998260124 0.467715232\n",
            "479 0.094653948 1.00000000 0.914122137 0.8085106 0.956629179 0.449779249\n",
            "481 0.208658804 1.00000000 0.914122137 0.8085106 1.000000000 0.248620309\n",
            "482 0.200247342 1.00000000 0.914122137 0.8085106 0.990342428 0.165838852\n",
            "484 0.269957897 1.00000000 0.914122137 0.8085106 0.989964194 0.239790287\n",
            "487 0.219725559 1.00000000 0.914122137 0.8085106 0.989359020 0.365618102\n",
            "489 0.062863171 0.13043478 1.000000000 0.7978723 0.995435978 0.450607064\n",
            "496 0.151770044 0.21739130 0.389312977 0.7021277 0.990897171 0.437913907\n",
            "501 0.124453255 0.21739130 0.389312977 0.7021277 1.000000000 0.347682119\n",
            "502 0.122670935 0.00000000 0.164122137 0.8936170 0.987619144 0.219094923\n",
            "505 0.114514090 0.00000000 0.164122137 0.8936170 0.991300620 0.131070640\n",
            "\n",
            "$neurons[[2]]\n",
            "    [,1]        [,2]         [,3]         [,4]        [,5]         [,6]\n",
            "1      1 0.310010860 0.3549254879 3.944424e-01 0.094025420 1.131852e-16\n",
            "4      1 0.577363516 0.4817931817 4.172364e-01 0.120345034 3.590197e-08\n",
            "6      1 0.464544647 0.2438486695 2.919239e-01 0.203840048 2.802850e-08\n",
            "9      1 0.360857457 0.0010161623 1.914138e-02 0.999861233 2.380515e-18\n",
            "18     1 0.145030102 0.0206357422 9.707724e-02 0.958149082 8.581307e-07\n",
            "20     1 0.152724315 0.0302643405 1.378093e-01 0.828737759 6.833033e-06\n",
            "21     1 0.075567261 0.0043758703 4.174380e-02 0.995962762 1.426667e-06\n",
            "22     1 0.125547815 0.0224498960 1.050779e-01 0.931052318 3.440675e-06\n",
            "29     1 0.152667923 0.0441934984 1.294901e-01 0.921569595 1.193802e-06\n",
            "32     1 0.108009822 0.0314933471 9.920080e-02 0.910279939 3.327497e-06\n",
            "36     1 0.232010013 0.0443949217 2.543509e-01 0.669900485 1.505783e-04\n",
            "38     1 0.354222111 0.0559611712 2.619924e-01 0.633838119 8.794809e-06\n",
            "39     1 0.391325792 0.0534882129 2.555200e-01 0.782456528 5.769406e-06\n",
            "41     1 0.783159191 0.5256233923 3.265016e-01 0.458034221 2.645938e-53\n",
            "45     1 0.642407382 0.1060711828 1.971010e-01 0.589844751 2.269610e-08\n",
            "46     1 0.597225138 0.0671415590 1.848671e-01 0.591704127 1.384670e-07\n",
            "48     1 0.413116972 0.0162009760 7.076663e-02 0.980034524 1.202814e-08\n",
            "50     1 0.518015800 0.0191923013 7.656298e-02 0.941400578 2.164202e-09\n",
            "51     1 0.732036906 0.0427667857 1.022822e-01 0.928637603 3.527361e-23\n",
            "63     1 0.630641151 0.0765517685 1.717770e-01 0.828220561 4.150538e-25\n",
            "64     1 0.769821167 0.0731142160 1.444973e-01 0.959929275 5.720417e-27\n",
            "68     1 0.594416959 0.0721350869 1.549519e-01 0.667410586 7.456510e-17\n",
            "69     1 0.484261552 0.0212829063 8.187603e-02 0.928667796 3.372078e-17\n",
            "70     1 0.544749659 0.0616660928 1.384910e-01 0.707718351 9.473010e-17\n",
            "74     1 0.740631189 0.1356411039 2.454788e-01 0.631231476 1.716897e-07\n",
            "76     1 0.502298795 0.0641072414 2.199551e-01 0.730601688 9.561441e-06\n",
            "78     1 0.454743195 0.0431821258 2.021318e-01 0.804622686 3.083550e-05\n",
            "83     1 0.583721074 0.1401634599 2.337126e-01 0.603300871 9.723457e-23\n",
            "84     1 0.502322158 0.1035333846 1.976779e-01 0.656959855 1.276369e-22\n",
            "94     1 0.796447800 0.1527455212 2.827336e-01 0.529215078 4.036826e-22\n",
            "103    1 0.024874494 0.0747804361 1.822921e-01 0.993557537 1.005228e-03\n",
            "111    1 0.135298258 0.0226408729 1.959839e-01 0.947026355 2.914850e-04\n",
            "112    1 0.175510762 0.0539526642 3.206266e-01 0.780815158 2.931613e-03\n",
            "113    1 0.097996715 0.0077633254 1.521580e-01 0.967310239 2.541435e-03\n",
            "115    1 0.129221577 0.0329026488 2.842614e-01 0.766713677 1.225002e-02\n",
            "116    1 0.089939971 0.0099578058 1.517012e-01 0.977253818 1.440216e-03\n",
            "123    1 0.616179221 0.0199943420 1.006307e-01 0.976315740 4.247681e-04\n",
            "128    1 0.107350794 0.0054672942 7.897782e-02 0.985972057 1.856001e-03\n",
            "131    1 0.152721284 0.0270747728 1.496407e-01 0.930305865 2.378688e-03\n",
            "142    1 0.053660143 0.0001504937 8.975820e-03 0.999982650 7.715028e-05\n",
            "143    1 0.041224861 0.4348381588 2.731630e-02 0.998027119 3.671205e-05\n",
            "145    1 0.101600834 0.0008388160 2.448862e-02 0.999454656 3.096411e-06\n",
            "147    1 0.066566314 0.0255453323 1.000833e-01 0.992587213 3.240178e-05\n",
            "149    1 0.109327738 0.0013573519 3.138701e-02 0.999577791 1.727685e-06\n",
            "151    1 0.189935715 0.0379377364 1.899290e-01 0.884265838 7.117446e-05\n",
            "154    1 0.105143665 0.0264893897 1.183603e-01 0.974092383 3.279142e-05\n",
            "164    1 0.356998969 0.9986798753 5.702698e-01 0.086803411 2.831450e-01\n",
            "165    1 0.404919194 0.0457987192 1.616785e-01 0.568028982 1.963190e-03\n",
            "170    1 0.358537829 0.0950916610 1.926684e-01 0.725520212 4.147688e-03\n",
            "174    1 0.205023213 0.0859870834 3.869693e-01 0.461006837 5.191472e-03\n",
            "175    1 0.214777898 0.0498137852 3.266763e-01 0.501657415 1.846240e-03\n",
            "177    1 0.344089085 0.0605583837 3.118389e-01 0.631952002 3.474516e-05\n",
            "178    1 0.275638324 0.1309481344 4.190762e-01 0.228421631 6.058701e-04\n",
            "182    1 0.260706111 0.1061197239 3.615488e-01 0.426559817 1.626558e-03\n",
            "185    1 0.156676099 0.0257863203 1.824352e-01 0.784209284 2.873580e-04\n",
            "186    1 0.257106462 0.0571284178 2.437956e-01 0.804814122 6.455431e-05\n",
            "188    1 0.484964123 0.1754212155 3.599411e-01 0.603084038 5.837893e-32\n",
            "189    1 0.568328341 0.2200930415 3.525102e-01 0.424033551 3.521025e-33\n",
            "195    1 0.805754279 0.4554630505 2.461810e-01 0.344949044 2.347261e-45\n",
            "196    1 0.876834947 0.7042870458 4.535603e-01 0.492800936 2.971430e-56\n",
            "208    1 0.363956593 0.0110966909 8.431546e-02 0.982366122 6.230677e-07\n",
            "209    1 0.205020214 0.9035025140 1.118477e-01 0.927972769 7.093277e-06\n",
            "217    1 0.312849087 0.9077409187 1.732269e-01 0.839133267 2.092345e-04\n",
            "223    1 0.151654581 0.9639917263 3.106594e-01 0.755026264 2.805944e-03\n",
            "228    1 0.364781105 0.1765767294 4.967053e-01 0.563239026 2.117757e-03\n",
            "230    1 0.582578364 0.2022504253 5.488022e-01 0.322023027 2.528553e-04\n",
            "235    1 0.172608644 0.9728730571 3.302280e-01 0.674056429 6.889102e-04\n",
            "247    1 0.726541423 0.0501771890 1.079662e-01 0.915741947 3.874503e-25\n",
            "249    1 0.672970715 0.0592746228 1.203136e-01 0.939351782 1.413948e-24\n",
            "277    1 0.448208103 0.9942325467 2.835918e-01 0.557424297 4.519655e-30\n",
            "282    1 0.821937689 0.4082038440 4.734394e-01 0.243818562 4.581995e-19\n",
            "287    1 0.779931770 0.0943773067 3.644691e-02 0.989549437 4.381131e-63\n",
            "297    1 0.856085962 0.1883318480 2.567401e-01 0.379765042 6.938570e-08\n",
            "304    1 0.838562689 0.2624222258 3.921479e-01 0.617312851 4.963221e-28\n",
            "306    1 0.440891339 0.0874845259 3.375997e-01 0.870330886 1.317442e-24\n",
            "310    1 0.246059487 0.0531076143 2.306298e-01 0.605872033 2.008116e-04\n",
            "314    1 0.260341590 0.0960278661 2.869460e-01 0.422284789 2.513651e-04\n",
            "315    1 0.281662849 0.1003681515 2.640532e-01 0.591231394 6.413607e-05\n",
            "322    1 0.412192348 0.1155945104 2.913288e-01 0.507131821 3.178962e-06\n",
            "323    1 0.409089401 0.0787069875 2.347264e-01 0.564445359 1.046905e-06\n",
            "331    1 0.318244203 0.0767001333 2.100102e-01 0.656316404 2.343280e-08\n",
            "332    1 0.648431315 0.0569154746 8.035559e-02 0.871718970 9.029966e-32\n",
            "335    1 0.585825046 0.1367592202 2.347348e-01 0.613272675 6.963269e-10\n",
            "336    1 0.547675322 0.0865150800 2.135304e-01 0.686326324 2.359887e-09\n",
            "339    1 0.450450596 0.0779753200 2.520288e-01 0.704502861 1.680513e-07\n",
            "340    1 0.406364947 0.0566898753 2.163934e-01 0.783756162 1.612975e-07\n",
            "341    1 0.355611776 0.0565838363 2.125686e-01 0.727865929 2.883429e-07\n",
            "344    1 0.476430337 0.1282068469 1.927897e-01 0.826483629 1.208385e-41\n",
            "347    1 0.392494416 0.0373193142 7.310290e-02 0.909606882 5.443328e-12\n",
            "350    1 0.578758079 0.3349110651 1.262420e-01 0.651865070 2.376528e-37\n",
            "352    1 0.733352771 0.1862256350 7.108874e-02 0.846007334 3.905134e-52\n",
            "354    1 0.973913867 0.3441765279 6.817898e-02 0.877697138 5.370383e-73\n",
            "356    1 0.722222452 0.0981332378 3.900196e-02 0.947611486 6.457507e-65\n",
            "358    1 0.052585492 0.3003269579 1.327499e-01 0.999071666 3.062184e-03\n",
            "365    1 0.123159709 0.9541657485 5.591607e-01 0.993239495 4.416987e-01\n",
            "369    1 0.090415703 0.0023490993 2.176663e-01 0.878499798 9.237625e-01\n",
            "370    1 0.056415915 0.8216619322 2.825761e-01 0.923553493 9.837311e-01\n",
            "372    1 0.094181339 0.0068305092 1.073269e-01 0.989038719 8.329322e-01\n",
            "376    1 0.091669161 0.0878775306 1.915831e-02 0.989437495 2.923104e-01\n",
            "377    1 0.070427900 0.0034268352 1.163107e-02 0.999933717 2.256003e-02\n",
            "378    1 0.099443584 0.0015418706 4.118975e-02 0.999919810 5.557413e-02\n",
            "379    1 0.050899049 0.0138150428 2.082626e-03 0.999591726 1.538286e-02\n",
            "380    1 0.058588503 0.0046524656 6.769996e-03 0.999655206 3.219949e-02\n",
            "381    1 0.005006956 0.9999938830 2.596900e-08 0.001393612 1.030555e-02\n",
            "382    1 0.075765915 0.0047136809 1.190842e-02 0.999715817 2.647305e-02\n",
            "385    1 0.017030926 0.0003130569 7.314238e-04 0.999992317 5.246876e-04\n",
            "387    1 0.022838754 0.0012348180 4.966650e-04 0.999862538 1.442481e-03\n",
            "395    1 0.079716270 0.0034778310 2.170183e-02 0.998344780 1.689748e-02\n",
            "402    1 0.072674618 0.0031043146 1.568402e-02 0.999690339 1.699015e-02\n",
            "405    1 0.015504919 0.1652486934 3.219917e-05 0.998630314 4.703377e-04\n",
            "406    1 0.005530242 0.9931652113 3.940184e-07 0.322578666 2.570483e-03\n",
            "407    1 0.022404500 0.0008431236 1.325963e-03 0.999393823 3.295752e-02\n",
            "408    1 0.055972363 0.0046007280 3.835160e-02 0.994823515 4.022629e-01\n",
            "415    1 0.002188294 0.0473311066 2.595772e-06 0.999993092 2.248963e-05\n",
            "426    1 0.013239531 0.0033487958 4.238879e-03 0.999998516 7.140262e-04\n",
            "434    1 0.047841051 0.0023162518 8.123351e-02 0.999986632 9.044667e-04\n",
            "435    1 0.028015814 0.0134199229 1.805403e-02 0.999886642 1.598651e-03\n",
            "439    1 0.015028620 0.0003368699 2.774446e-03 0.999999974 2.069458e-05\n",
            "444    1 0.087595394 0.0019289525 3.865743e-02 0.999797799 2.332401e-03\n",
            "449    1 0.100950913 0.0013858768 3.849851e-02 0.999689838 1.682452e-03\n",
            "453    1 0.134907429 0.0007607727 9.210363e-02 0.999836600 1.255117e-03\n",
            "458    1 0.030930113 0.0028753474 3.303190e-02 0.999993514 6.955861e-05\n",
            "459    1 0.101284501 0.0022755500 5.543673e-02 0.999884909 1.912958e-04\n",
            "460    1 0.156603011 0.0014664245 7.691786e-02 0.999242308 4.842132e-04\n",
            "463    1 0.174383636 0.0020675433 9.333125e-02 0.999110338 5.496778e-04\n",
            "464    1 0.183516173 0.0040265466 1.543546e-01 0.996538961 1.511665e-03\n",
            "471    1 0.245614923 0.0006606679 9.513580e-02 0.999724680 2.036617e-03\n",
            "475    1 0.105796203 0.0005209539 3.141916e-02 0.999751648 1.078855e-02\n",
            "477    1 0.176105264 0.0006227010 9.000387e-02 0.999895682 1.102807e-02\n",
            "479    1 0.116783834 0.0017321089 3.266470e-02 0.999634572 1.818851e-02\n",
            "481    1 0.378846354 0.0030094329 1.249076e-01 0.996696276 2.840042e-03\n",
            "482    1 0.384183156 0.0080768560 1.956849e-01 0.990240064 1.365208e-02\n",
            "484    1 0.513914974 0.0011845197 1.649615e-01 0.997999818 1.067749e-04\n",
            "487    1 0.272523474 0.0011237919 7.606168e-02 0.999449421 3.319779e-04\n",
            "489    1 0.054730710 0.0019287852 4.907831e-02 0.990019899 6.099083e-03\n",
            "496    1 0.211761612 0.0067831064 1.359064e-01 0.991618790 1.028477e-05\n",
            "501    1 0.114092878 0.0134068059 1.795748e-01 0.954968092 4.820651e-04\n",
            "502    1 0.196087627 0.1316083187 2.642891e-01 0.644663216 4.295228e-04\n",
            "505    1 0.162429379 0.2319512322 3.350204e-01 0.294603736 2.915145e-03\n",
            "\n",
            "$neurons[[3]]\n",
            "    [,1]       [,2]      [,3]         [,4]\n",
            "1      1 0.83605418 0.4796745 0.0178304094\n",
            "4      1 0.91613980 0.5356832 0.0113652922\n",
            "6      1 0.90824499 0.3444502 0.0403419373\n",
            "9      1 0.91338375 0.2650907 0.2857676261\n",
            "18     1 0.84386045 0.3366640 0.2035016356\n",
            "20     1 0.84714147 0.3288797 0.1635527664\n",
            "21     1 0.79047380 0.3300138 0.2629832788\n",
            "22     1 0.83357995 0.3392241 0.1951771379\n",
            "29     1 0.84843934 0.3555097 0.1678187962\n",
            "32     1 0.81538181 0.3438296 0.1951193972\n",
            "36     1 0.90085227 0.3266245 0.0909071631\n",
            "38     1 0.93304986 0.3048576 0.0842706830\n",
            "39     1 0.94687625 0.3221246 0.0907112029\n",
            "41     1 0.95453537 0.5673302 0.0173157102\n",
            "45     1 0.96643223 0.2573023 0.0982039964\n",
            "46     1 0.96296856 0.2382314 0.1141344472\n",
            "48     1 0.93435213 0.2757020 0.2274303339\n",
            "50     1 0.95406045 0.2529763 0.2185108706\n",
            "51     1 0.97919993 0.2342073 0.1858681720\n",
            "63     1 0.97089821 0.2750353 0.1254317013\n",
            "64     1 0.98316071 0.2624266 0.1464766111\n",
            "68     1 0.96092429 0.2467191 0.1311380838\n",
            "69     1 0.94811842 0.2596806 0.2126168661\n",
            "70     1 0.95362855 0.2515714 0.1459013639\n",
            "74     1 0.97883877 0.2785463 0.0737462143\n",
            "76     1 0.95784881 0.2870936 0.1021220364\n",
            "78     1 0.95274449 0.2906431 0.1186277321\n",
            "83     1 0.95956987 0.3041703 0.0767808021\n",
            "84     1 0.94731524 0.2944721 0.1006787796\n",
            "94     1 0.98258816 0.2713066 0.0576316966\n",
            "103    1 0.79801214 0.4433966 0.1270410188\n",
            "111    1 0.87431325 0.3693351 0.1336090772\n",
            "112    1 0.90568143 0.3940079 0.0667497599\n",
            "113    1 0.84865093 0.3595713 0.1663455155\n",
            "115    1 0.88463809 0.3865555 0.0802812786\n",
            "116    1 0.84448621 0.3633926 0.1668826171\n",
            "123    1 0.97088014 0.2483836 0.1991227584\n",
            "128    1 0.82565805 0.3359330 0.2259699334\n",
            "131    1 0.86320440 0.3538048 0.1593725561\n",
            "142    1 0.76112552 0.3225483 0.2987071536\n",
            "143    1 0.49548182 0.6792144 0.1074557001\n",
            "145    1 0.80000134 0.3174873 0.2820385528\n",
            "147    1 0.80409639 0.3654948 0.2009113930\n",
            "149    1 0.80775951 0.3183294 0.2747762555\n",
            "151    1 0.88462263 0.3539320 0.1301979767\n",
            "154    1 0.83167842 0.3596539 0.1852421509\n",
            "164    1 0.74789514 0.9821456 0.0004283975\n",
            "165    1 0.92404773 0.2514617 0.1319146783\n",
            "170    1 0.91773271 0.3352407 0.1058218067\n",
            "174    1 0.90381264 0.3698933 0.0407650774\n",
            "175    1 0.90181159 0.3252054 0.0609906417\n",
            "177    1 0.93904945 0.3246397 0.0661073392\n",
            "178    1 0.90820958 0.3448492 0.0295636179\n",
            "182    1 0.90768138 0.3529883 0.0438260141\n",
            "185    1 0.86312756 0.3297946 0.1349905850\n",
            "186    1 0.91230635 0.3545426 0.0957228164\n",
            "188    1 0.95614745 0.3911594 0.0387469571\n",
            "189    1 0.95740173 0.3675646 0.0339443482\n",
            "195    1 0.95190619 0.4509555 0.0298723016\n",
            "196    1 0.96547387 0.7281340 0.0057683654\n",
            "208    1 0.92593700 0.2859043 0.2184398709\n",
            "209    1 0.38496083 0.9018062 0.0212734177\n",
            "217    1 0.51197893 0.8941902 0.0151067468\n",
            "223    1 0.41114378 0.9312292 0.0063881993\n",
            "228    1 0.95316858 0.4602837 0.0195416116\n",
            "230    1 0.97671473 0.3923705 0.0131979348\n",
            "235    1 0.42267262 0.9280287 0.0055721971\n",
            "247    1 0.97849804 0.2389647 0.1781300107\n",
            "249    1 0.97456761 0.2614140 0.1670097029\n",
            "277    1 0.60855756 0.8995748 0.0063825852\n",
            "282    1 0.97794581 0.4624758 0.0107608284\n",
            "287    1 0.97679418 0.2510439 0.2191881751\n",
            "297    1 0.98137593 0.2506923 0.0570593100\n",
            "304    1 0.98661025 0.3936018 0.0262382243\n",
            "306    1 0.96435401 0.3806771 0.0581961363\n",
            "310    1 0.89215433 0.3106455 0.0974099323\n",
            "314    1 0.88867061 0.3200127 0.0643091632\n",
            "315    1 0.90115905 0.3450336 0.0740609882\n",
            "322    1 0.93594331 0.3201649 0.0611335589\n",
            "323    1 0.93354614 0.2890757 0.0885011493\n",
            "331    1 0.90885015 0.3161819 0.1021473702\n",
            "332    1 0.96716474 0.2426528 0.1947927982\n",
            "335    1 0.96065473 0.3035124 0.0772684445\n",
            "336    1 0.96007711 0.2836852 0.0983049361\n",
            "339    1 0.95101659 0.3115258 0.0848849718\n",
            "340    1 0.94321878 0.3100141 0.1073877974\n",
            "341    1 0.92832610 0.3085145 0.1078626908\n",
            "344    1 0.94497051 0.3494677 0.1013662083\n",
            "347    1 0.92207021 0.2818829 0.2122986431\n",
            "350    1 0.91105564 0.4320661 0.0787538099\n",
            "352    1 0.96458958 0.3054311 0.1504163993\n",
            "354    1 0.97823528 0.3780664 0.1051851404\n",
            "356    1 0.97024933 0.2574484 0.2135611258\n",
            "358    1 0.67282049 0.6111332 0.0915686028\n",
            "365    1 0.78336241 0.9971355 0.0003552886\n",
            "369    1 0.96974571 0.9938705 0.0036240161\n",
            "370    1 0.80948874 0.9997673 0.0002305858\n",
            "372    1 0.95515335 0.9888948 0.0091682089\n",
            "376    1 0.83249453 0.7887975 0.0904568827\n",
            "377    1 0.77928629 0.3531415 0.2757585053\n",
            "378    1 0.82140639 0.4023099 0.2242861592\n",
            "379    1 0.75338078 0.3522269 0.2856306171\n",
            "380    1 0.77119164 0.3687856 0.2723712769\n",
            "381    1 0.07224668 0.8598558 0.0212479403\n",
            "382    1 0.78345152 0.3585193 0.2716518077\n",
            "385    1 0.73000443 0.3284905 0.3072005091\n",
            "387    1 0.73400117 0.3290960 0.3060992520\n",
            "395    1 0.78856618 0.3460493 0.2700452231\n",
            "402    1 0.78131189 0.3458290 0.2762767842\n",
            "405    1 0.63092285 0.4593079 0.2219336726\n",
            "406    1 0.09190101 0.8839442 0.0244010434\n",
            "407    1 0.74502815 0.3731774 0.2794782591\n",
            "408    1 0.87564908 0.8557011 0.0682030011\n",
            "415    1 0.69146683 0.3664949 0.2821422882\n",
            "426    1 0.72771258 0.3328662 0.3016139473\n",
            "434    1 0.79475072 0.3485645 0.2271741168\n",
            "435    1 0.74185410 0.3426773 0.2809040561\n",
            "439    1 0.72955075 0.3288646 0.3054523381\n",
            "444    1 0.79865246 0.3286531 0.2656095679\n",
            "449    1 0.80665838 0.3244953 0.2664683907\n",
            "453    1 0.84851067 0.3324878 0.2177635328\n",
            "458    1 0.75744764 0.3366293 0.2727812785\n",
            "459    1 0.81407849 0.3281949 0.2508894024\n",
            "460    1 0.85260304 0.3227028 0.2310544982\n",
            "463    1 0.86662844 0.3243966 0.2163521348\n",
            "464    1 0.88969118 0.3432737 0.1675846338\n",
            "471    1 0.89611973 0.3112419 0.2141207915\n",
            "475    1 0.80902002 0.3330690 0.2667460633\n",
            "477    1 0.86885654 0.3363674 0.2128187651\n",
            "479    1 0.81741571 0.3421631 0.2591247709\n",
            "481    1 0.93965193 0.2950621 0.1878649496\n",
            "482    1 0.95179146 0.3314752 0.1327148234\n",
            "484    1 0.96716891 0.2754593 0.1607562113\n",
            "487    1 0.89972761 0.2983185 0.2314561391\n",
            "489    1 0.78308668 0.3420492 0.2523747564\n",
            "496    1 0.89325044 0.3306216 0.1803184562\n",
            "501    1 0.86300818 0.3635679 0.1467716783\n",
            "502    1 0.86335449 0.4003478 0.0694794064\n",
            "505    1 0.79983245 0.4411649 0.0345884767\n",
            "\n",
            "\n",
            "$net.result\n",
            "            [,1]\n",
            "1    0.482786642\n",
            "4    0.648681047\n",
            "6    0.414205463\n",
            "9    0.260703835\n",
            "18   0.277755659\n",
            "20   0.284508326\n",
            "21   0.186083641\n",
            "22   0.270104838\n",
            "29   0.315034579\n",
            "32   0.252445548\n",
            "36   0.370283545\n",
            "38   0.388055156\n",
            "39   0.423125424\n",
            "41   0.731048899\n",
            "45   0.372268282\n",
            "46   0.341788344\n",
            "48   0.315762193\n",
            "50   0.317397566\n",
            "51   0.337124605\n",
            "63   0.390147567\n",
            "64   0.385287594\n",
            "68   0.343951185\n",
            "69   0.319193521\n",
            "70   0.336040161\n",
            "74   0.418890975\n",
            "76   0.394043467\n",
            "78   0.386916349\n",
            "83   0.422769422\n",
            "84   0.389554547\n",
            "94   0.420029225\n",
            "103  0.362677612\n",
            "111  0.372993120\n",
            "112  0.459468907\n",
            "113  0.320315349\n",
            "115  0.420708048\n",
            "116  0.319245880\n",
            "123  0.338901589\n",
            "128  0.247611251\n",
            "131  0.334090028\n",
            "142  0.130515100\n",
            "143  0.254529373\n",
            "145  0.178446815\n",
            "147  0.261097429\n",
            "149  0.191232730\n",
            "151  0.369514350\n",
            "154  0.293659462\n",
            "164  0.945130363\n",
            "165  0.302720363\n",
            "170  0.396986929\n",
            "174  0.437283254\n",
            "175  0.378444573\n",
            "177  0.423166991\n",
            "178  0.417695926\n",
            "182  0.422155217\n",
            "185  0.313817248\n",
            "186  0.414880482\n",
            "188  0.527720076\n",
            "189  0.503988976\n",
            "195  0.592546790\n",
            "196  0.929954084\n",
            "208  0.319289941\n",
            "209  0.391928111\n",
            "217  0.544803643\n",
            "223  0.462384967\n",
            "228  0.607638857\n",
            "230  0.562262675\n",
            "235  0.473496492\n",
            "247  0.343835863\n",
            "249  0.367462008\n",
            "277  0.674835493\n",
            "282  0.643787174\n",
            "287  0.343605932\n",
            "297  0.395356753\n",
            "304  0.572367580\n",
            "306  0.520621103\n",
            "310  0.339415470\n",
            "314  0.355098162\n",
            "315  0.396307301\n",
            "322  0.415623758\n",
            "323  0.369621645\n",
            "331  0.365315652\n",
            "332  0.328987664\n",
            "335  0.423250124\n",
            "336  0.394083187\n",
            "339  0.418013161\n",
            "340  0.400059660\n",
            "341  0.379500490\n",
            "344  0.448601656\n",
            "347  0.311636839\n",
            "350  0.505830853\n",
            "352  0.409439387\n",
            "354  0.521680211\n",
            "356  0.344228392\n",
            "358  0.405086063\n",
            "365  1.006702495\n",
            "369  1.236449842\n",
            "370  1.042567900\n",
            "372  1.210887018\n",
            "376  0.807105535\n",
            "377  0.194514570\n",
            "378  0.317809414\n",
            "379  0.158079823\n",
            "380  0.202995968\n",
            "381 -0.048738977\n",
            "382  0.207008829\n",
            "385  0.095670459\n",
            "387  0.101696141\n",
            "395  0.199798217\n",
            "402  0.188644004\n",
            "405  0.143408346\n",
            "406  0.002314472\n",
            "407  0.173028847\n",
            "408  0.943397574\n",
            "415  0.097356950\n",
            "426  0.099335089\n",
            "434  0.222685506\n",
            "435  0.134138193\n",
            "439  0.096023192\n",
            "444  0.194078036\n",
            "449  0.199197787\n",
            "453  0.274800063\n",
            "458  0.149231578\n",
            "459  0.217169618\n",
            "460  0.265077967\n",
            "463  0.288836779\n",
            "464  0.353138122\n",
            "471  0.311684040\n",
            "475  0.211783788\n",
            "477  0.306186784\n",
            "479  0.234805962\n",
            "481  0.355640221\n",
            "482  0.427862731\n",
            "484  0.375830725\n",
            "487  0.296646469\n",
            "489  0.193440066\n",
            "496  0.339662837\n",
            "501  0.348489318\n",
            "502  0.412631843\n",
            "505  0.388894664\n",
            "\n"
          ],
          "name": "stdout"
        }
      ]
    },
    {
      "cell_type": "code",
      "metadata": {
        "id": "5K23SK6JjDAO",
        "colab_type": "code",
        "colab": {
          "base_uri": "https://localhost:8080/",
          "height": 337
        },
        "outputId": "115c2537-1f34-463f-8b8c-af518832850f"
      },
      "source": [
        "%%R\n",
        "# O retorno da previsao da Rede Neural é uma lista\n",
        "str(rede_neural_prev)"
      ],
      "execution_count": 230,
      "outputs": [
        {
          "output_type": "stream",
          "text": [
            "List of 2\n",
            " $ neurons   :List of 3\n",
            "  ..$ : num [1:139, 1:14] 1 1 1 1 1 1 1 1 1 1 ...\n",
            "  .. ..- attr(*, \"dimnames\")=List of 2\n",
            "  .. .. ..$ : chr [1:139] \"1\" \"4\" \"6\" \"9\" ...\n",
            "  .. .. ..$ : chr [1:14] \"\" \"crim\" \"zn\" \"indus\" ...\n",
            "  ..$ : num [1:139, 1:6] 1 1 1 1 1 1 1 1 1 1 ...\n",
            "  .. ..- attr(*, \"dimnames\")=List of 2\n",
            "  .. .. ..$ : chr [1:139] \"1\" \"4\" \"6\" \"9\" ...\n",
            "  .. .. ..$ : NULL\n",
            "  ..$ : num [1:139, 1:4] 1 1 1 1 1 1 1 1 1 1 ...\n",
            "  .. ..- attr(*, \"dimnames\")=List of 2\n",
            "  .. .. ..$ : chr [1:139] \"1\" \"4\" \"6\" \"9\" ...\n",
            "  .. .. ..$ : NULL\n",
            " $ net.result: num [1:139, 1] 0.483 0.649 0.414 0.261 0.278 ...\n",
            "  ..- attr(*, \"dimnames\")=List of 2\n",
            "  .. ..$ : chr [1:139] \"1\" \"4\" \"6\" \"9\" ...\n",
            "  .. ..$ : NULL\n"
          ],
          "name": "stdout"
        }
      ]
    },
    {
      "cell_type": "code",
      "metadata": {
        "id": "80WEAyJfjC9P",
        "colab_type": "code",
        "colab": {
          "base_uri": "https://localhost:8080/",
          "height": 195
        },
        "outputId": "1e25ad1c-2983-4861-baa2-f5e3dbc7fe85"
      },
      "source": [
        "%%R\n",
        "# Converter os dados de teste para o formato original, removendo a normalização que foi aplicada para o modelo\n",
        "previsoes <- rede_neural_prev$net.result * (max(dados$medv) - min(dados$medv)) + min(dados$medv)\n",
        "teste_convert <- (teste$medv) * (max(dados$medv) - min(dados$medv)) + min(dados$medv)\n",
        "teste_convert"
      ],
      "execution_count": 231,
      "outputs": [
        {
          "output_type": "stream",
          "text": [
            "  [1] 24.0 33.4 28.7 16.5 17.5 18.2 13.6 19.6 18.4 14.5 18.9 21.0 24.7 34.9 21.2\n",
            " [16] 19.3 16.6 19.4 19.7 22.2 25.0 22.0 17.4 20.9 23.4 21.4 20.8 24.8 22.9 25.0\n",
            " [31] 18.6 21.7 22.8 18.8 18.5 18.3 20.5 16.2 19.2 14.4 13.4 11.8 15.6 17.8 21.5\n",
            " [46] 19.4 50.0 22.7 22.3 23.6 22.6 23.2 24.6 36.2 26.4 29.6 32.0 29.8 29.1 50.0\n",
            " [61] 22.5 24.4 23.3 27.5 31.6 31.5 29.0 24.3 24.5 33.2 35.4 20.1 27.1 33.1 28.4\n",
            " [76] 20.3 21.6 23.8 23.1 20.4 19.8 17.1 20.7 21.1 20.6 19.0 18.7 23.9 17.2 26.6\n",
            " [91] 24.1 30.1 20.6 21.7 21.9 50.0 50.0 50.0 15.0 13.9 13.3 13.1 10.2 10.4 10.9\n",
            "[106]  8.8 10.5 12.7  7.2  8.5  5.0 11.9 27.9  7.0  8.3 14.3 11.7  8.4 15.4 14.1\n",
            "[121] 16.1 13.5 14.9 20.0 19.5 20.2 19.9 13.8 16.7 14.6 23.0 23.7 21.8 19.1 15.2\n",
            "[136] 23.1 16.8 22.4 22.0\n"
          ],
          "name": "stdout"
        }
      ]
    },
    {
      "cell_type": "code",
      "metadata": {
        "id": "PRyB2_SwjC5x",
        "colab_type": "code",
        "colab": {
          "base_uri": "https://localhost:8080/",
          "height": 35
        },
        "outputId": "13d11453-b250-46db-9f4f-ade90afe56e9"
      },
      "source": [
        "%%R\n",
        "# Calcular o Mean Squared Error - Medida de Erro do algoritmo \n",
        "MSE.nn <- sum((teste_convert - previsoes)^2)/nrow(teste)\n",
        "MSE.nn"
      ],
      "execution_count": 232,
      "outputs": [
        {
          "output_type": "stream",
          "text": [
            "[1] 21.59414\n"
          ],
          "name": "stdout"
        }
      ]
    },
    {
      "cell_type": "code",
      "metadata": {
        "id": "69-6xbpZjMAx",
        "colab_type": "code",
        "colab": {
          "base_uri": "https://localhost:8080/",
          "height": 141
        },
        "outputId": "a748cdd2-a20c-4673-cf6d-c4c2c9d5c6be"
      },
      "source": [
        "%%R\n",
        "#  Obter os erros de previsão\n",
        "error.df <- data.frame(teste_convert, previsoes)\n",
        "head(error.df)"
      ],
      "execution_count": 233,
      "outputs": [
        {
          "output_type": "stream",
          "text": [
            "   teste_convert previsoes\n",
            "1           24.0  26.72540\n",
            "4           33.4  34.19065\n",
            "6           28.7  23.63925\n",
            "9           16.5  16.73167\n",
            "18          17.5  17.49900\n",
            "20          18.2  17.80287\n"
          ],
          "name": "stdout"
        }
      ]
    },
    {
      "cell_type": "code",
      "metadata": {
        "id": "JK_DIi20jL9A",
        "colab_type": "code",
        "colab": {
          "base_uri": "https://localhost:8080/",
          "height": 532
        },
        "outputId": "8322e8df-2e16-4502-e607-5af0c6711822"
      },
      "source": [
        "%%R\n",
        "  # Plot dos erros\n",
        "library(ggplot2)\n",
        "ggplot(error.df, aes(x = teste_convert,y = previsoes)) + \n",
        "geom_point() + stat_smooth()\n",
        " # O modelo prevê a linha azul, o sombreado é o intervalo da margem de erro onde algumas previsões erraram"
      ],
      "execution_count": 234,
      "outputs": [
        {
          "output_type": "stream",
          "text": [
            "R[write to console]: `geom_smooth()` using method = 'loess' and formula 'y ~ x'\n",
            "\n"
          ],
          "name": "stderr"
        },
        {
          "output_type": "display_data",
          "data": {
            "image/png": "[encoded data removed]"
          },
          "metadata": {
            "tags": []
          }
        }
      ]
    },
    {
      "cell_type": "markdown",
      "metadata": {
        "id": "3wP4lTZXjz9Y",
        "colab_type": "text"
      },
      "source": [
        "## Definindo o Problema: OCR - Optical Character Recognition\n",
        "\n",
        "O modelo deve prever o caracter a partir do dataset fornecido. Usar um modelo SVM"
      ]
    },
    {
      "cell_type": "code",
      "metadata": {
        "id": "gpegc8c1jL5O",
        "colab_type": "code",
        "colab": {
          "base_uri": "https://localhost:8080/",
          "height": 337
        },
        "outputId": "7506bfc5-d0b7-4e50-fad1-9a239e5f3758"
      },
      "source": [
        "%%R\n",
        "## Explorando e preparando os dados\n",
        "letters <- read.csv(\"letterdata.csv\")\n",
        "str(letters)"
      ],
      "execution_count": 239,
      "outputs": [
        {
          "output_type": "stream",
          "text": [
            "'data.frame':\t20000 obs. of  17 variables:\n",
            " $ letter: Factor w/ 26 levels \"A\",\"B\",\"C\",\"D\",..: 20 9 4 14 7 19 2 1 10 13 ...\n",
            " $ xbox  : int  2 5 4 7 2 4 4 1 2 11 ...\n",
            " $ ybox  : int  8 12 11 11 1 11 2 1 2 15 ...\n",
            " $ width : int  3 3 6 6 3 5 5 3 4 13 ...\n",
            " $ height: int  5 7 8 6 1 8 4 2 4 9 ...\n",
            " $ onpix : int  1 2 6 3 1 3 4 1 2 7 ...\n",
            " $ xbar  : int  8 10 10 5 8 8 8 8 10 13 ...\n",
            " $ ybar  : int  13 5 6 9 6 8 7 2 6 2 ...\n",
            " $ x2bar : int  0 5 2 4 6 6 6 2 2 6 ...\n",
            " $ y2bar : int  6 4 6 6 6 9 6 2 6 2 ...\n",
            " $ xybar : int  6 13 10 4 6 5 7 8 12 12 ...\n",
            " $ x2ybar: int  10 3 3 4 5 6 6 2 4 1 ...\n",
            " $ xy2bar: int  8 9 7 10 9 6 6 8 8 9 ...\n",
            " $ xedge : int  0 2 3 6 1 0 2 1 1 8 ...\n",
            " $ xedgey: int  8 8 7 10 7 8 8 6 6 1 ...\n",
            " $ yedge : int  0 4 3 2 5 9 7 2 1 1 ...\n",
            " $ yedgex: int  8 10 9 8 10 7 10 7 7 8 ...\n"
          ],
          "name": "stdout"
        }
      ]
    },
    {
      "cell_type": "code",
      "metadata": {
        "id": "AN0jCCfpjL1g",
        "colab_type": "code",
        "colab": {}
      },
      "source": [
        "%%R\n",
        "# Dividir dados de treino e dados de teste de maneira estática - não é a ideal, mas funciona\n",
        "letters_treino <- letters[1:16000, ]\n",
        "letters_teste  <- letters[16001:20000, ]"
      ],
      "execution_count": 0,
      "outputs": []
    },
    {
      "cell_type": "markdown",
      "metadata": {
        "id": "XIK8Sefxu7_N",
        "colab_type": "text"
      },
      "source": [
        "##**Função KSVM** - {kernlab}"
      ]
    },
    {
      "cell_type": "code",
      "metadata": {
        "id": "CR9849bYe6bj",
        "colab_type": "code",
        "colab": {}
      },
      "source": [
        "%%R\n",
        "## Treinar o Modelo\n",
        "install.packages(\"kernlab\")\n",
        "library(kernlab)"
      ],
      "execution_count": 0,
      "outputs": []
    },
    {
      "cell_type": "code",
      "metadata": {
        "id": "4qlqrTg6e6YK",
        "colab_type": "code",
        "colab": {
          "base_uri": "https://localhost:8080/",
          "height": 35
        },
        "outputId": "76b340af-f3cd-4fcd-dc70-a0a1c3e5459a"
      },
      "source": [
        "%%R\n",
        "# Criando o modelo com o kernel vanilladot\n",
        "letter_classifier <- ksvm(letter ~ ., \n",
        "                          data = letters_treino, \n",
        "                          kernel = \"vanilladot\")"
      ],
      "execution_count": 241,
      "outputs": [
        {
          "output_type": "stream",
          "text": [
            " Setting default kernel parameters  \n"
          ],
          "name": "stdout"
        }
      ]
    },
    {
      "cell_type": "code",
      "metadata": {
        "id": "bvZuuWO-e6VE",
        "colab_type": "code",
        "colab": {
          "base_uri": "https://localhost:8080/",
          "height": 232
        },
        "outputId": "a2e96a74-7755-4c5a-e74f-02256eb33d91"
      },
      "source": [
        "%%R\n",
        "# Visualizar resultado do modelo, conjunto de coeficientes \n",
        "letter_classifier"
      ],
      "execution_count": 242,
      "outputs": [
        {
          "output_type": "stream",
          "text": [
            "Support Vector Machine object of class \"ksvm\" \n",
            "\n",
            "SV type: C-svc  (classification) \n",
            " parameter : cost C = 1 \n",
            "\n",
            "Linear (vanilla) kernel function. \n",
            "\n",
            "Number of Support Vectors : 7037 \n",
            "\n",
            "Objective Function Value : -14.1746 -20.0072 -23.5628 -6.2009 -7.5524 -32.7694 -49.9786 -18.1824 -62.1111 -32.7284 -16.2209 -32.2837 -28.9777 -51.2195 -13.276 -35.6217 -30.8612 -16.5256 -14.6811 -32.7475 -30.3219 -7.7956 -11.8138 -32.3463 -13.1262 -9.2692 -153.1654 -52.9678 -76.7744 -119.2067 -165.4437 -54.6237 -41.9809 -67.2688 -25.1959 -27.6371 -26.4102 -35.5583 -41.2597 -122.164 -187.9178 -222.0856 -21.4765 -10.3752 -56.3684 -12.2277 -49.4899 -9.3372 -19.2092 -11.1776 -100.2186 -29.1397 -238.0516 -77.1985 -8.3339 -4.5308 -139.8534 -80.8854 -20.3642 -13.0245 -82.5151 -14.5032 -26.7509 -18.5713 -23.9511 -27.3034 -53.2731 -11.4773 -5.12 -13.9504 -4.4982 -3.5755 -8.4914 -40.9716 -49.8182 -190.0269 -43.8594 -44.8667 -45.2596 -13.5561 -17.7664 -87.4105 -107.1056 -37.0245 -30.7133 -112.3218 -32.9619 -27.2971 -35.5836 -17.8586 -5.1391 -43.4094 -7.7843 -16.6785 -58.5103 -159.9936 -49.0782 -37.8426 -32.8002 -74.5249 -133.3423 -11.1638 -5.3575 -12.438 -30.9907 -141.6924 -54.2953 -179.0114 -99.8896 -10.288 -15.1553 -3.7815 -67.6123 -7.696 -88.9304 -47.6448 -94.3718 -70.2733 -71.5057 -21.7854 -12.7657 -7.4383 -23.502 -13.1055 -239.9708 -30.4193 -25.2113 -136.2795 -140.9565 -9.8122 -34.4584 -6.3039 -60.8421 -66.5793 -27.2816 -214.3225 -34.7796 -16.7631 -135.7821 -160.6279 -45.2949 -25.1023 -144.9059 -82.2352 -327.7154 -142.0613 -158.8821 -32.2181 -32.8887 -52.9641 -25.4937 -47.9936 -6.8991 -9.7293 -36.436 -70.3907 -187.7611 -46.9371 -89.8103 -143.4213 -624.3645 -119.2204 -145.4435 -327.7748 -33.3255 -64.0607 -145.4831 -116.5903 -36.2977 -66.3762 -44.8248 -7.5088 -217.9246 -12.9699 -30.504 -2.0369 -6.126 -14.4448 -21.6337 -57.3084 -20.6915 -184.3625 -20.1052 -4.1484 -4.5344 -0.828 -121.4411 -7.9486 -58.5604 -21.4878 -13.5476 -5.646 -15.629 -28.9576 -20.5959 -76.7111 -27.0119 -94.7101 -15.1713 -10.0222 -7.6394 -1.5784 -87.6952 -6.2239 -99.3711 -101.0906 -45.6639 -24.0725 -61.7702 -24.1583 -52.2368 -234.3264 -39.9749 -48.8556 -34.1464 -20.9664 -11.4525 -123.0277 -6.4903 -5.1865 -8.8016 -9.4618 -21.7742 -24.2361 -123.3984 -31.4404 -88.3901 -30.0924 -13.8198 -9.2701 -3.0823 -87.9624 -6.3845 -13.968 -65.0702 -105.523 -13.7403 -13.7625 -50.4223 -2.933 -8.4289 -80.3381 -36.4147 -112.7485 -4.1711 -7.8989 -1.2676 -90.8037 -21.4919 -7.2235 -47.9557 -3.383 -20.433 -64.6138 -45.5781 -56.1309 -6.1345 -18.6307 -2.374 -72.2553 -111.1885 -106.7664 -23.1323 -19.3765 -54.9819 -34.2953 -64.4756 -20.4115 -6.689 -4.378 -59.141 -34.2468 -58.1509 -33.8665 -10.6902 -53.1387 -13.7478 -20.1987 -55.0923 -3.8058 -60.0382 -235.4841 -12.6837 -11.7407 -17.3058 -9.7167 -65.8498 -17.1051 -42.8131 -53.1054 -25.0437 -15.302 -44.0749 -16.9582 -62.9773 -5.204 -5.2963 -86.1704 -3.7209 -6.3445 -1.1264 -122.5771 -23.9041 -355.0145 -31.1013 -32.619 -4.9664 -84.1048 -134.5957 -72.8371 -23.9002 -35.3077 -11.7119 -22.2889 -1.8598 -59.2174 -8.8994 -150.742 -1.8533 -1.9711 -9.9676 -0.5207 -26.9229 -30.429 -5.6289 \n",
            "Training error : 0.130062 \n"
          ],
          "name": "stdout"
        }
      ]
    },
    {
      "cell_type": "markdown",
      "metadata": {
        "id": "KgHCmrnYvkG7",
        "colab_type": "text"
      },
      "source": [
        "## Taxa de Erro de 13.00%"
      ]
    },
    {
      "cell_type": "code",
      "metadata": {
        "id": "tc2F72Tee6SA",
        "colab_type": "code",
        "colab": {
          "base_uri": "https://localhost:8080/",
          "height": 52
        },
        "outputId": "066ace8d-4e24-4a4a-b0fb-d5fbfaa060d8"
      },
      "source": [
        "%%R\n",
        "# Avaliar a performance do modelo através dos dados de teste\n",
        "letter_predictions <- predict(letter_classifier, letters_teste)\n",
        "head(letter_predictions)"
      ],
      "execution_count": 244,
      "outputs": [
        {
          "output_type": "stream",
          "text": [
            "[1] U N V X N H\n",
            "Levels: A B C D E F G H I J K L M N O P Q R S T U V W X Y Z\n"
          ],
          "name": "stdout"
        }
      ]
    },
    {
      "cell_type": "code",
      "metadata": {
        "id": "UmCTfutskXe9",
        "colab_type": "code",
        "colab": {
          "base_uri": "https://localhost:8080/",
          "height": 1000
        },
        "outputId": "7e2d6273-587c-4219-bd35-695c2e67c678"
      },
      "source": [
        "%%R\n",
        "table(letter_predictions, letters_teste$letter)"
      ],
      "execution_count": 245,
      "outputs": [
        {
          "output_type": "stream",
          "text": [
            "                  \n",
            "letter_predictions   A   B   C   D   E   F   G   H   I   J   K   L   M   N   O\n",
            "                 A 144   0   0   0   0   0   0   0   0   1   0   0   1   2   2\n",
            "                 B   0 121   0   5   2   0   1   2   0   0   1   0   1   0   0\n",
            "                 C   0   0 120   0   4   0  10   2   2   0   1   3   0   0   2\n",
            "                 D   2   2   0 156   0   1   3  10   4   3   4   3   0   5   5\n",
            "                 E   0   0   5   0 127   3   1   1   0   0   3   4   0   0   0\n",
            "                 F   0   0   0   0   0 138   2   2   6   0   0   0   0   0   0\n",
            "                 G   1   1   2   1   9   2 123   2   0   0   1   2   1   0   1\n",
            "                 H   0   0   0   1   0   1   0 102   0   2   3   2   3   4  20\n",
            "                 I   0   1   0   0   0   1   0   0 141   8   0   0   0   0   0\n",
            "                 J   0   1   0   0   0   1   0   2   5 128   0   0   0   0   1\n",
            "                 K   1   1   9   0   0   0   2   5   0   0 118   0   0   2   0\n",
            "                 L   0   0   0   0   2   0   1   1   0   0   0 133   0   0   0\n",
            "                 M   0   0   1   1   0   0   1   1   0   0   0   0 135   4   0\n",
            "                 N   0   0   0   0   0   1   0   1   0   0   0   0   0 145   0\n",
            "                 O   1   0   2   1   0   0   1   2   0   1   0   0   0   1  99\n",
            "                 P   0   0   0   1   0   2   1   0   0   0   0   0   0   0   2\n",
            "                 Q   0   0   0   0   0   0   8   2   0   0   0   3   0   0   3\n",
            "                 R   0   7   0   0   1   0   3   8   0   0  13   0   0   1   1\n",
            "                 S   1   1   0   0   1   0   3   0   1   1   0   1   0   0   0\n",
            "                 T   0   0   0   0   3   2   0   0   0   0   1   0   0   0   0\n",
            "                 U   1   0   3   1   0   0   0   2   0   0   0   0   0   0   1\n",
            "                 V   0   0   0   0   0   1   3   4   0   0   0   0   1   2   1\n",
            "                 W   0   0   0   0   0   0   1   0   0   0   0   0   2   0   0\n",
            "                 X   0   1   0   0   2   0   0   1   3   0   1   6   0   0   1\n",
            "                 Y   3   0   0   0   0   0   0   1   0   0   0   0   0   0   0\n",
            "                 Z   2   0   0   0   1   0   0   0   3   4   0   0   0   0   0\n",
            "                  \n",
            "letter_predictions   P   Q   R   S   T   U   V   W   X   Y   Z\n",
            "                 A   0   5   0   1   1   1   0   1   0   0   1\n",
            "                 B   2   2   3   5   0   0   2   0   1   0   0\n",
            "                 C   0   0   0   0   0   0   0   0   0   0   0\n",
            "                 D   3   1   4   0   0   0   0   0   3   3   1\n",
            "                 E   0   2   0  10   0   0   0   0   2   0   3\n",
            "                 F  16   0   0   3   0   0   1   0   1   2   0\n",
            "                 G   2   8   2   4   3   0   0   0   1   0   0\n",
            "                 H   0   2   3   0   3   0   2   0   0   1   0\n",
            "                 I   1   0   0   3   0   0   0   0   5   1   1\n",
            "                 J   1   3   0   2   0   0   0   0   1   0   6\n",
            "                 K   1   0   7   0   1   3   0   0   5   0   0\n",
            "                 L   0   1   0   5   0   0   0   0   0   0   1\n",
            "                 M   0   0   0   0   0   3   0   8   0   0   0\n",
            "                 N   0   0   3   0   0   1   0   2   0   0   0\n",
            "                 O   3   3   0   0   0   3   0   0   0   0   0\n",
            "                 P 130   0   0   0   0   0   0   0   0   1   0\n",
            "                 Q   1 124   0   5   0   0   0   0   0   2   0\n",
            "                 R   1   0 138   0   1   0   1   0   0   0   0\n",
            "                 S   0  14   0 101   3   0   0   0   2   0  10\n",
            "                 T   0   0   0   3 133   1   0   0   0   2   2\n",
            "                 U   0   0   0   0   0 152   0   0   1   1   0\n",
            "                 V   0   3   1   0   0   0 126   1   0   4   0\n",
            "                 W   0   0   0   0   0   4   4 127   0   0   0\n",
            "                 X   0   0   0   1   0   0   0   0 137   1   1\n",
            "                 Y   7   0   0   0   3   0   0   0   0 127   0\n",
            "                 Z   0   0   0  18   3   0   0   0   0   0 132\n"
          ],
          "name": "stdout"
        }
      ]
    },
    {
      "cell_type": "code",
      "metadata": {
        "id": "wUcplhVlkaAN",
        "colab_type": "code",
        "colab": {
          "base_uri": "https://localhost:8080/",
          "height": 70
        },
        "outputId": "ca0592d1-a1a1-41d3-d9bf-128246ebfd43"
      },
      "source": [
        "%%R\n",
        "# Criando um vetor de TRUE/FALSE indicando previsoes corretas/incorretas\n",
        "agreement <- letter_predictions == letters_teste$letter\n",
        "table(agreement)"
      ],
      "execution_count": 246,
      "outputs": [
        {
          "output_type": "stream",
          "text": [
            "agreement\n",
            "FALSE  TRUE \n",
            "  643  3357 \n"
          ],
          "name": "stdout"
        }
      ]
    },
    {
      "cell_type": "code",
      "metadata": {
        "id": "N2IZDzNikZ8H",
        "colab_type": "code",
        "colab": {
          "base_uri": "https://localhost:8080/",
          "height": 70
        },
        "outputId": "44846f75-f6c9-4aa3-90ea-933cc9eafa3a"
      },
      "source": [
        "%%R\n",
        "prop.table(table(agreement))"
      ],
      "execution_count": 247,
      "outputs": [
        {
          "output_type": "stream",
          "text": [
            "agreement\n",
            "  FALSE    TRUE \n",
            "0.16075 0.83925 \n"
          ],
          "name": "stdout"
        }
      ]
    },
    {
      "cell_type": "code",
      "metadata": {
        "id": "xlatUG7OkXY_",
        "colab_type": "code",
        "colab": {}
      },
      "source": [
        "%%R\n",
        "## Otimizando o Modelo\n",
        "set.seed(12345)"
      ],
      "execution_count": 0,
      "outputs": []
    },
    {
      "cell_type": "code",
      "metadata": {
        "id": "_8DMRR4Be6Nl",
        "colab_type": "code",
        "colab": {}
      },
      "source": [
        "%%R\n",
        "# Recriando o modelo com outro tipo de kernel\n",
        "letter_classifier_rbf <- ksvm(letter ~ ., data = letters_treino, kernel = \"rbfdot\") # Mudança de kernel para \"rbfdot\""
      ],
      "execution_count": 0,
      "outputs": []
    },
    {
      "cell_type": "code",
      "metadata": {
        "id": "tBBGP78dkpfM",
        "colab_type": "code",
        "colab": {}
      },
      "source": [
        "%%R\n",
        "# Novas previsoes\n",
        "letter_predictions_rbf <- predict(letter_classifier_rbf, letters_teste)"
      ],
      "execution_count": 0,
      "outputs": []
    },
    {
      "cell_type": "code",
      "metadata": {
        "id": "LUHmp4bdkpaQ",
        "colab_type": "code",
        "colab": {
          "base_uri": "https://localhost:8080/",
          "height": 70
        },
        "outputId": "9100aeef-16c4-4a02-bb59-0fd48e08cd2c"
      },
      "source": [
        "%%R\n",
        "# Compare os resultados com a primeira versao do modelo\n",
        "agreement_rbf <- letter_predictions_rbf == letters_teste$letter\n",
        "table(agreement_rbf)"
      ],
      "execution_count": 256,
      "outputs": [
        {
          "output_type": "stream",
          "text": [
            "agreement_rbf\n",
            "FALSE  TRUE \n",
            "  278  3722 \n"
          ],
          "name": "stdout"
        }
      ]
    },
    {
      "cell_type": "code",
      "metadata": {
        "id": "KNBNDstukuc6",
        "colab_type": "code",
        "colab": {
          "base_uri": "https://localhost:8080/",
          "height": 70
        },
        "outputId": "278c2fa0-bc99-466a-f2ac-88ead75984c3"
      },
      "source": [
        "%%R\n",
        "prop.table(table(agreement_rbf))"
      ],
      "execution_count": 257,
      "outputs": [
        {
          "output_type": "stream",
          "text": [
            "agreement_rbf\n",
            " FALSE   TRUE \n",
            "0.0695 0.9305 \n"
          ],
          "name": "stdout"
        }
      ]
    }
  ]
}