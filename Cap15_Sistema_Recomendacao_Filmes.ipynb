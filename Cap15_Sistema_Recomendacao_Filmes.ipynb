{
  "nbformat": 4,
  "nbformat_minor": 0,
  "metadata": {
    "colab": {
      "name": "Cap15_Sistema_Recomendacao_Filmes.ipynb",
      "provenance": []
    },
    "kernelspec": {
      "name": "python3",
      "display_name": "Python 3"
    },
    "accelerator": "GPU"
  },
  "cells": [
    {
      "cell_type": "code",
      "metadata": {
        "id": "tHSYQj0RqjPg",
        "colab_type": "code",
        "colab": {
          "base_uri": "https://localhost:8080/",
          "height": 52
        },
        "outputId": "f66999b6-147d-4404-e2bc-0bb1d0e1a75a"
      },
      "source": [
        "%load_ext rpy2.ipython"
      ],
      "execution_count": 4,
      "outputs": [
        {
          "output_type": "stream",
          "text": [
            "The rpy2.ipython extension is already loaded. To reload it, use:\n",
            "  %reload_ext rpy2.ipython\n"
          ],
          "name": "stdout"
        }
      ]
    },
    {
      "cell_type": "markdown",
      "metadata": {
        "id": "-7srIzDIoWyR",
        "colab_type": "text"
      },
      "source": [
        "##**Sistema de Recomendação em R**"
      ]
    },
    {
      "cell_type": "code",
      "metadata": {
        "id": "OQWyRmPaocFI",
        "colab_type": "code",
        "colab": {}
      },
      "source": [
        "# Obs: Caso tenha problemas com a acentuação, consulte este link:\n",
        "# https://support.rstudio.com/hc/en-us/articles/200532197-Character-Encoding"
      ],
      "execution_count": 5,
      "outputs": []
    },
    {
      "cell_type": "markdown",
      "metadata": {
        "id": "T9AFLg4noeUI",
        "colab_type": "text"
      },
      "source": [
        "Passos que devem ser executados na construção do sistema de recomendação\n",
        "\n",
        "1. Carregar e formatar dados.\n",
        "2. Calcular a similaridade entre usuários. \n",
        "3. Prever das classificações desconhecidas para os usuários. \n",
        "4. Recomendar itens aos usuários com base na pontuação de similaridade de usuário.\n",
        "---\n",
        "\n",
        "### O objetivo deste sistema de recomendação é oferecer filmes para usuários com base em usuários semelhantes"
      ]
    },
    {
      "cell_type": "code",
      "metadata": {
        "id": "1iTahhDmoWho",
        "colab_type": "code",
        "colab": {
          "base_uri": "https://localhost:8080/",
          "height": 1000
        },
        "outputId": "0db5991f-a613-4e85-88a8-72c44c8cba81"
      },
      "source": [
        "%%R\n",
        "# Pacotes\n",
        "install.packages('reshape2')\n",
        "install.packages('data.table')\n",
        "install.packages('dplyr')\n",
        "\n",
        "library(reshape2)\n",
        "library(data.table)\n",
        "library(dplyr)\n",
        "\n",
        "# Esse pacote é uma junção dos pacotes data.table e dplyr\n",
        "install.packages(\"dtplyr\")\n",
        "library(dtplyr)\n"
      ],
      "execution_count": 6,
      "outputs": [
        {
          "output_type": "stream",
          "text": [
            "R[write to console]: Installing package into ‘/usr/local/lib/R/site-library’\n",
            "(as ‘lib’ is unspecified)\n",
            "\n",
            "R[write to console]: trying URL 'https://cran.rstudio.com/src/contrib/reshape2_1.4.4.tar.gz'\n",
            "\n",
            "R[write to console]: Content type 'application/x-gzip'\n",
            "R[write to console]:  length 37307 bytes (36 KB)\n",
            "\n",
            "R[write to console]: =\n",
            "R[write to console]: =\n",
            "R[write to console]: =\n",
            "R[write to console]: =\n",
            "R[write to console]: =\n",
            "R[write to console]: =\n",
            "R[write to console]: =\n",
            "R[write to console]: =\n",
            "R[write to console]: =\n",
            "R[write to console]: =\n",
            "R[write to console]: =\n",
            "R[write to console]: =\n",
            "R[write to console]: =\n",
            "R[write to console]: =\n",
            "R[write to console]: =\n",
            "R[write to console]: =\n",
            "R[write to console]: =\n",
            "R[write to console]: =\n",
            "R[write to console]: =\n",
            "R[write to console]: =\n",
            "R[write to console]: =\n",
            "R[write to console]: =\n",
            "R[write to console]: =\n",
            "R[write to console]: =\n",
            "R[write to console]: =\n",
            "R[write to console]: =\n",
            "R[write to console]: =\n",
            "R[write to console]: =\n",
            "R[write to console]: =\n",
            "R[write to console]: =\n",
            "R[write to console]: =\n",
            "R[write to console]: =\n",
            "R[write to console]: =\n",
            "R[write to console]: =\n",
            "R[write to console]: =\n",
            "R[write to console]: =\n",
            "R[write to console]: =\n",
            "R[write to console]: =\n",
            "R[write to console]: =\n",
            "R[write to console]: =\n",
            "R[write to console]: =\n",
            "R[write to console]: =\n",
            "R[write to console]: =\n",
            "R[write to console]: =\n",
            "R[write to console]: =\n",
            "R[write to console]: =\n",
            "R[write to console]: =\n",
            "R[write to console]: =\n",
            "R[write to console]: =\n",
            "R[write to console]: =\n",
            "R[write to console]: \n",
            "\n",
            "R[write to console]: downloaded 36 KB\n",
            "\n",
            "\n",
            "R[write to console]: \n",
            "\n",
            "R[write to console]: \n",
            "R[write to console]: The downloaded source packages are in\n",
            "\t‘/tmp/RtmphIck99/downloaded_packages’\n",
            "R[write to console]: \n",
            "R[write to console]: \n",
            "\n",
            "R[write to console]: Installing package into ‘/usr/local/lib/R/site-library’\n",
            "(as ‘lib’ is unspecified)\n",
            "\n",
            "R[write to console]: trying URL 'https://cran.rstudio.com/src/contrib/data.table_1.12.8.tar.gz'\n",
            "\n",
            "R[write to console]: Content type 'application/x-gzip'\n",
            "R[write to console]:  length 4948391 bytes (4.7 MB)\n",
            "\n",
            "R[write to console]: =\n",
            "R[write to console]: =\n",
            "R[write to console]: =\n",
            "R[write to console]: =\n",
            "R[write to console]: =\n",
            "R[write to console]: =\n",
            "R[write to console]: =\n",
            "R[write to console]: =\n",
            "R[write to console]: =\n",
            "R[write to console]: =\n",
            "R[write to console]: =\n",
            "R[write to console]: =\n",
            "R[write to console]: =\n",
            "R[write to console]: =\n",
            "R[write to console]: =\n",
            "R[write to console]: =\n",
            "R[write to console]: =\n",
            "R[write to console]: =\n",
            "R[write to console]: =\n",
            "R[write to console]: =\n",
            "R[write to console]: =\n",
            "R[write to console]: =\n",
            "R[write to console]: =\n",
            "R[write to console]: =\n",
            "R[write to console]: =\n",
            "R[write to console]: =\n",
            "R[write to console]: =\n",
            "R[write to console]: =\n",
            "R[write to console]: =\n",
            "R[write to console]: =\n",
            "R[write to console]: =\n",
            "R[write to console]: =\n",
            "R[write to console]: =\n",
            "R[write to console]: =\n",
            "R[write to console]: =\n",
            "R[write to console]: =\n",
            "R[write to console]: =\n",
            "R[write to console]: =\n",
            "R[write to console]: =\n",
            "R[write to console]: =\n",
            "R[write to console]: =\n",
            "R[write to console]: =\n",
            "R[write to console]: =\n",
            "R[write to console]: =\n",
            "R[write to console]: =\n",
            "R[write to console]: =\n",
            "R[write to console]: =\n",
            "R[write to console]: =\n",
            "R[write to console]: =\n",
            "R[write to console]: =\n",
            "R[write to console]: \n",
            "\n",
            "R[write to console]: downloaded 4.7 MB\n",
            "\n",
            "\n",
            "R[write to console]: \n",
            "\n",
            "R[write to console]: \n",
            "R[write to console]: The downloaded source packages are in\n",
            "\t‘/tmp/RtmphIck99/downloaded_packages’\n",
            "R[write to console]: \n",
            "R[write to console]: \n",
            "\n",
            "R[write to console]: Installing package into ‘/usr/local/lib/R/site-library’\n",
            "(as ‘lib’ is unspecified)\n",
            "\n",
            "R[write to console]: trying URL 'https://cran.rstudio.com/src/contrib/dplyr_1.0.0.tar.gz'\n",
            "\n",
            "R[write to console]: Content type 'application/x-gzip'\n",
            "R[write to console]:  length 836651 bytes (817 KB)\n",
            "\n",
            "R[write to console]: =\n",
            "R[write to console]: =\n",
            "R[write to console]: =\n",
            "R[write to console]: =\n",
            "R[write to console]: =\n",
            "R[write to console]: =\n",
            "R[write to console]: =\n",
            "R[write to console]: =\n",
            "R[write to console]: =\n",
            "R[write to console]: =\n",
            "R[write to console]: =\n",
            "R[write to console]: =\n",
            "R[write to console]: =\n",
            "R[write to console]: =\n",
            "R[write to console]: =\n",
            "R[write to console]: =\n",
            "R[write to console]: =\n",
            "R[write to console]: =\n",
            "R[write to console]: =\n",
            "R[write to console]: =\n",
            "R[write to console]: =\n",
            "R[write to console]: =\n",
            "R[write to console]: =\n",
            "R[write to console]: =\n",
            "R[write to console]: =\n",
            "R[write to console]: =\n",
            "R[write to console]: =\n",
            "R[write to console]: =\n",
            "R[write to console]: =\n",
            "R[write to console]: =\n",
            "R[write to console]: =\n",
            "R[write to console]: =\n",
            "R[write to console]: =\n",
            "R[write to console]: =\n",
            "R[write to console]: =\n",
            "R[write to console]: =\n",
            "R[write to console]: =\n",
            "R[write to console]: =\n",
            "R[write to console]: =\n",
            "R[write to console]: =\n",
            "R[write to console]: =\n",
            "R[write to console]: =\n",
            "R[write to console]: =\n",
            "R[write to console]: =\n",
            "R[write to console]: =\n",
            "R[write to console]: =\n",
            "R[write to console]: =\n",
            "R[write to console]: =\n",
            "R[write to console]: =\n",
            "R[write to console]: =\n",
            "R[write to console]: \n",
            "\n",
            "R[write to console]: downloaded 817 KB\n",
            "\n",
            "\n",
            "R[write to console]: \n",
            "\n",
            "R[write to console]: \n",
            "R[write to console]: The downloaded source packages are in\n",
            "\t‘/tmp/RtmphIck99/downloaded_packages’\n",
            "R[write to console]: \n",
            "R[write to console]: \n",
            "\n",
            "R[write to console]: Installing package into ‘/usr/local/lib/R/site-library’\n",
            "(as ‘lib’ is unspecified)\n",
            "\n",
            "R[write to console]: trying URL 'https://cran.rstudio.com/src/contrib/dtplyr_1.0.1.tar.gz'\n",
            "\n",
            "R[write to console]: Content type 'application/x-gzip'\n",
            "R[write to console]:  length 37134 bytes (36 KB)\n",
            "\n",
            "R[write to console]: =\n",
            "R[write to console]: =\n",
            "R[write to console]: =\n",
            "R[write to console]: =\n",
            "R[write to console]: =\n",
            "R[write to console]: =\n",
            "R[write to console]: =\n",
            "R[write to console]: =\n",
            "R[write to console]: =\n",
            "R[write to console]: =\n",
            "R[write to console]: =\n",
            "R[write to console]: =\n",
            "R[write to console]: =\n",
            "R[write to console]: =\n",
            "R[write to console]: =\n",
            "R[write to console]: =\n",
            "R[write to console]: =\n",
            "R[write to console]: =\n",
            "R[write to console]: =\n",
            "R[write to console]: =\n",
            "R[write to console]: =\n",
            "R[write to console]: =\n",
            "R[write to console]: =\n",
            "R[write to console]: =\n",
            "R[write to console]: =\n",
            "R[write to console]: =\n",
            "R[write to console]: =\n",
            "R[write to console]: =\n",
            "R[write to console]: =\n",
            "R[write to console]: =\n",
            "R[write to console]: =\n",
            "R[write to console]: =\n",
            "R[write to console]: =\n",
            "R[write to console]: =\n",
            "R[write to console]: =\n",
            "R[write to console]: =\n",
            "R[write to console]: =\n",
            "R[write to console]: =\n",
            "R[write to console]: =\n",
            "R[write to console]: =\n",
            "R[write to console]: =\n",
            "R[write to console]: =\n",
            "R[write to console]: =\n",
            "R[write to console]: =\n",
            "R[write to console]: =\n",
            "R[write to console]: =\n",
            "R[write to console]: =\n",
            "R[write to console]: =\n",
            "R[write to console]: =\n",
            "R[write to console]: =\n",
            "R[write to console]: \n",
            "\n",
            "R[write to console]: downloaded 36 KB\n",
            "\n",
            "\n",
            "R[write to console]: \n",
            "\n",
            "R[write to console]: \n",
            "R[write to console]: The downloaded source packages are in\n",
            "\t‘/tmp/RtmphIck99/downloaded_packages’\n",
            "R[write to console]: \n",
            "R[write to console]: \n",
            "\n"
          ],
          "name": "stderr"
        }
      ]
    },
    {
      "cell_type": "markdown",
      "metadata": {
        "id": "HfN-6Y1RpfB1",
        "colab_type": "text"
      },
      "source": [
        "###**Carregando os Dados**\n",
        "-  Esse dataset contém as avaliações de 6 filmes dadas por 6 usuários diferentes. \n",
        "-  A escala de avaliação vai de 0 a 5\n",
        "-  Nem todos os usuários deram a avaliação a todos os filmes"
      ]
    },
    {
      "cell_type": "markdown",
      "metadata": {
        "id": "h8i2-w26pe-o",
        "colab_type": "text"
      },
      "source": [
        ""
      ]
    },
    {
      "cell_type": "code",
      "metadata": {
        "id": "Gqb6eHnhoWeF",
        "colab_type": "code",
        "colab": {}
      },
      "source": [
        "%%R\n",
        "ratings = read.csv(\"movie_ratings.csv\")"
      ],
      "execution_count": 7,
      "outputs": []
    },
    {
      "cell_type": "code",
      "metadata": {
        "id": "szA-fdmOoWbN",
        "colab_type": "code",
        "colab": {
          "base_uri": "https://localhost:8080/",
          "height": 34
        },
        "outputId": "9b21d6d1-7e9c-48ba-f9a0-cf87e751a2fd"
      },
      "source": [
        "%%R\n",
        "dim(ratings)"
      ],
      "execution_count": 8,
      "outputs": [
        {
          "output_type": "stream",
          "text": [
            "[1] 31  3\n"
          ],
          "name": "stdout"
        }
      ]
    },
    {
      "cell_type": "code",
      "metadata": {
        "id": "7hBiRkYtoWYd",
        "colab_type": "code",
        "colab": {
          "base_uri": "https://localhost:8080/",
          "height": 87
        },
        "outputId": "798e99c5-4746-4248-f31a-fc0df1a6d2a8"
      },
      "source": [
        "%%R\n",
        "str(ratings)"
      ],
      "execution_count": 9,
      "outputs": [
        {
          "output_type": "stream",
          "text": [
            "'data.frame':\t31 obs. of  3 variables:\n",
            " $ critic: Factor w/ 6 levels \"Garrincha\",\"Pele Silva\",..: 2 2 2 2 2 5 5 5 5 5 ...\n",
            " $ title : Factor w/ 6 levels \"Just My Luck\",..: 2 3 6 4 5 2 3 1 4 6 ...\n",
            " $ rating: num  3 4 3.5 5 3 3 4 2 3 2 ...\n"
          ],
          "name": "stdout"
        }
      ]
    },
    {
      "cell_type": "code",
      "metadata": {
        "id": "BhjEON-wqB-X",
        "colab_type": "code",
        "colab": {
          "base_uri": "https://localhost:8080/",
          "height": 52
        },
        "outputId": "7438edd2-38c9-4e5e-f950-9ab1bb5a5329"
      },
      "source": [
        "%%R\n",
        "# Levels mostra as categorias disponíveis nessa variável do tipo fator\n",
        "levels(ratings$critic)"
      ],
      "execution_count": 10,
      "outputs": [
        {
          "output_type": "stream",
          "text": [
            "[1] \"Garrincha\"       \"Pele Silva\"      \"Romario Moreira\" \"Ronaldo Tavares\"\n",
            "[5] \"Zico Gomes\"      \"Zinedine Zidane\"\n"
          ],
          "name": "stdout"
        }
      ]
    },
    {
      "cell_type": "code",
      "metadata": {
        "id": "dt7JzYoYqBsX",
        "colab_type": "code",
        "colab": {
          "base_uri": "https://localhost:8080/",
          "height": 52
        },
        "outputId": "b86e3674-b76e-4b29-f8f9-fcc802ac15c5"
      },
      "source": [
        "%%R\n",
        "levels(ratings$title)"
      ],
      "execution_count": 11,
      "outputs": [
        {
          "output_type": "stream",
          "text": [
            "[1] \"Just My Luck\"       \"Lady in the Water\"  \"Snakes on a Plane\" \n",
            "[4] \"Superman Returns\"   \"The Night Listener\" \"You Me and Dupree\" \n"
          ],
          "name": "stdout"
        }
      ]
    },
    {
      "cell_type": "code",
      "metadata": {
        "id": "vegZVIG9qBll",
        "colab_type": "code",
        "colab": {
          "base_uri": "https://localhost:8080/",
          "height": 34
        },
        "outputId": "c71b50d9-2d0e-444f-ea45-5ee616ab8bbe"
      },
      "source": [
        "%%R\n",
        "#View(ratings)"
      ],
      "execution_count": 12,
      "outputs": [
        {
          "output_type": "stream",
          "text": [
            "NULL\n"
          ],
          "name": "stdout"
        }
      ]
    },
    {
      "cell_type": "markdown",
      "metadata": {
        "id": "h3-wYHBwcYP4",
        "colab_type": "text"
      },
      "source": [
        "##**Formatando e processando os dados**\n",
        "Necessário converter os dados em um formato de matriz, sendo:\n",
        "- Usuário (critic) como colunas\n",
        "- Files (title) como linhas\n",
        "- Avaliaçãoes (ratings) como valores\n"
      ]
    },
    {
      "cell_type": "code",
      "metadata": {
        "id": "ulRkIkfXcuHI",
        "colab_type": "code",
        "colab": {
          "base_uri": "https://localhost:8080/",
          "height": 265
        },
        "outputId": "fa52f5e3-1473-4737-c5a2-4d33b7112a16"
      },
      "source": [
        "%%R\n",
        "# Função acast do pacote reshape2: transforma um conjunto de dados em umaa matriz\n",
        "movie_ratings = as.data.frame(acast(ratings, title~critic, value.var = \"rating\"))\n",
        "movie_ratings"
      ],
      "execution_count": 13,
      "outputs": [
        {
          "output_type": "stream",
          "text": [
            "                   Garrincha Pele Silva Romario Moreira Ronaldo Tavares\n",
            "Just My Luck              NA         NA             3.0             3.0\n",
            "Lady in the Water         NA        3.0              NA             2.5\n",
            "Snakes on a Plane        4.5        4.0             3.5             3.5\n",
            "Superman Returns         4.0        5.0             4.0             3.5\n",
            "The Night Listener        NA        3.0             4.5             3.0\n",
            "You Me and Dupree        1.0        3.5             2.5             2.5\n",
            "                   Zico Gomes Zinedine Zidane\n",
            "Just My Luck                2             1.5\n",
            "Lady in the Water           3             3.0\n",
            "Snakes on a Plane           4             3.5\n",
            "Superman Returns            3             5.0\n",
            "The Night Listener          3             3.0\n",
            "You Me and Dupree           2             3.5\n"
          ],
          "name": "stdout"
        }
      ]
    },
    {
      "cell_type": "code",
      "metadata": {
        "id": "OlVELNAkct5a",
        "colab_type": "code",
        "colab": {}
      },
      "source": [
        ""
      ],
      "execution_count": 13,
      "outputs": []
    },
    {
      "cell_type": "markdown",
      "metadata": {
        "id": "40eVj1O8qoLC",
        "colab_type": "text"
      },
      "source": [
        "Podemos perceber que o usuário Garrincha ainda não avaliou filmes, pois provavelmente ele ainda não assistiu esses filmes. \n",
        "\n",
        "Nosso sistema de recomendação deve recomendar filmes para usuários como Garrincha, com base em usuários similares\n",
        "\n"
      ]
    },
    {
      "cell_type": "markdown",
      "metadata": {
        "id": "dkqiTwn4q1nX",
        "colab_type": "text"
      },
      "source": [
        "---\n",
        "##**Calculando a Similaridade**\n",
        "Podemos usar medidas de distância como:\n",
        "\n",
        "- distância euclidiana\n",
        "- distância cosine \n",
        "- coeficiente de Pearson para correlação\n",
        "\n",
        "O parâmetro \"complete.obs\" considera todas as observações no dataset"
      ]
    },
    {
      "cell_type": "code",
      "metadata": {
        "id": "4R9MUeh3rHy7",
        "colab_type": "code",
        "colab": {
          "base_uri": "https://localhost:8080/",
          "height": 265
        },
        "outputId": "5698ee6b-765b-49c9-9a05-8fc1d83b7dfb"
      },
      "source": [
        "%%R\n",
        "?cor\n",
        "sim_users = cor(movie_ratings[,1:6], use = \"complete.obs\")\n",
        "#View(sim_users)\n",
        "head(sim_users)"
      ],
      "execution_count": 14,
      "outputs": [
        {
          "output_type": "stream",
          "text": [
            "                Garrincha Pele Silva Romario Moreira Ronaldo Tavares Zico Gomes\n",
            "Garrincha       1.0000000  0.6628490       0.8934051       0.9912407  0.9244735\n",
            "Pele Silva      0.6628490  1.0000000       0.9285714       0.7559289  0.3273268\n",
            "Romario Moreira 0.8934051  0.9285714       1.0000000       0.9449112  0.6546537\n",
            "Ronaldo Tavares 0.9912407  0.7559289       0.9449112       1.0000000  0.8660254\n",
            "Zico Gomes      0.9244735  0.3273268       0.6546537       0.8660254  1.0000000\n",
            "Zinedine Zidane 0.3812464  0.9449112       0.7559289       0.5000000  0.0000000\n",
            "                Zinedine Zidane\n",
            "Garrincha             0.3812464\n",
            "Pele Silva            0.9449112\n",
            "Romario Moreira       0.7559289\n",
            "Ronaldo Tavares       0.5000000\n",
            "Zico Gomes            0.0000000\n",
            "Zinedine Zidane       1.0000000\n"
          ],
          "name": "stdout"
        }
      ]
    },
    {
      "cell_type": "code",
      "metadata": {
        "id": "PqhasBqMrdA1",
        "colab_type": "code",
        "colab": {
          "base_uri": "https://localhost:8080/",
          "height": 87
        },
        "outputId": "f19365b0-db40-44a6-b742-d9a2209db25e"
      },
      "source": [
        "%%R\n",
        "# Verificando a similaridade de Garrincha em relação a todos os outros usuários \n",
        "sim_users[,1]"
      ],
      "execution_count": 15,
      "outputs": [
        {
          "output_type": "stream",
          "text": [
            "      Garrincha      Pele Silva Romario Moreira Ronaldo Tavares      Zico Gomes \n",
            "      1.0000000       0.6628490       0.8934051       0.9912407       0.9244735 \n",
            "Zinedine Zidane \n",
            "      0.3812464 \n"
          ],
          "name": "stdout"
        }
      ]
    },
    {
      "cell_type": "code",
      "metadata": {
        "id": "3rh41m_Yrf6I",
        "colab_type": "code",
        "colab": {}
      },
      "source": [
        "%%R\n",
        "# Prevendo valores desconhecidos (filmes que poderão ser recomendados)\n",
        "# Separando filmes ainda não avaliados\n",
        "?setDT\n",
        "rating_critic  = setDT(movie_ratings[colnames(movie_ratings)[1]],keep.rownames = TRUE)[]\n",
        "names(rating_critic) = c('title','rating')"
      ],
      "execution_count": 16,
      "outputs": []
    },
    {
      "cell_type": "code",
      "metadata": {
        "id": "Jo2uVuAQrl2-",
        "colab_type": "code",
        "colab": {
          "base_uri": "https://localhost:8080/",
          "height": 230
        },
        "outputId": "dcae5fd8-21ca-4736-878f-e1e82d92c8a2"
      },
      "source": [
        "%%R\n",
        "# Isolando filmes ainda não avaliados\n",
        "titles_na_critic = rating_critic$title[is.na(rating_critic$rating)]\n",
        "ratings_t = ratings[ratings$title %in% titles_na_critic,]\n",
        "View(ratings_t)"
      ],
      "execution_count": 17,
      "outputs": [
        {
          "output_type": "stream",
          "text": [
            "R[write to console]: Error in .External2(C_dataviewer, x, title) : unable to start data viewer\n",
            "Calls: <Anonymous> -> <Anonymous> -> withVisible -> View\n",
            "\n",
            "R[write to console]: In addition: \n",
            "R[write to console]: Warning message:\n",
            "\n",
            "R[write to console]: In View(ratings_t) :\n",
            "R[write to console]:  unable to open display\n",
            "\n"
          ],
          "name": "stderr"
        },
        {
          "output_type": "stream",
          "text": [
            "\n",
            "Error in .External2(C_dataviewer, x, title) : unable to start data viewer\n",
            "Calls: <Anonymous> -> <Anonymous> -> withVisible -> View\n"
          ],
          "name": "stdout"
        }
      ]
    },
    {
      "cell_type": "code",
      "metadata": {
        "id": "S4vWNDNtrn2T",
        "colab_type": "code",
        "colab": {
          "base_uri": "https://localhost:8080/",
          "height": 230
        },
        "outputId": "92a420db-e0da-4c4d-de23-048e70c85a60"
      },
      "source": [
        "%%R\n",
        "# Adicionando valores de similaridade para cada usuÃ¡rio como uma nova variável\n",
        "x = (setDT(data.frame(sim_users[,6]),keep.rownames = TRUE)[])\n",
        "names(x) = c('critic','similarity')\n",
        "ratings_t =  merge(x = ratings_t, y = x, by = \"critic\", all.x = TRUE)\n",
        "View(ratings_t)"
      ],
      "execution_count": 18,
      "outputs": [
        {
          "output_type": "stream",
          "text": [
            "R[write to console]: Error in .External2(C_dataviewer, x, title) : unable to start data viewer\n",
            "Calls: <Anonymous> -> <Anonymous> -> withVisible -> View\n",
            "\n",
            "R[write to console]: In addition: \n",
            "R[write to console]: Warning message:\n",
            "\n",
            "R[write to console]: In View(ratings_t) :\n",
            "R[write to console]:  unable to open display\n",
            "\n"
          ],
          "name": "stderr"
        },
        {
          "output_type": "stream",
          "text": [
            "\n",
            "Error in .External2(C_dataviewer, x, title) : unable to start data viewer\n",
            "Calls: <Anonymous> -> <Anonymous> -> withVisible -> View\n"
          ],
          "name": "stdout"
        }
      ]
    },
    {
      "cell_type": "code",
      "metadata": {
        "id": "9GeoawyxrrGL",
        "colab_type": "code",
        "colab": {
          "base_uri": "https://localhost:8080/",
          "height": 230
        },
        "outputId": "dfe75369-dfe6-4985-dd3f-d903f5d63d28"
      },
      "source": [
        "%%R\n",
        "# Multiplicando ratings e valores de similaridade\n",
        "ratings_t$sim_rating = ratings_t$rating * ratings_t$similarity\n",
        "View(ratings_t)"
      ],
      "execution_count": 19,
      "outputs": [
        {
          "output_type": "stream",
          "text": [
            "R[write to console]: Error in .External2(C_dataviewer, x, title) : unable to start data viewer\n",
            "Calls: <Anonymous> -> <Anonymous> -> withVisible -> View\n",
            "\n",
            "R[write to console]: In addition: \n",
            "R[write to console]: Warning message:\n",
            "\n",
            "R[write to console]: In View(ratings_t) :\n",
            "R[write to console]:  unable to open display\n",
            "\n"
          ],
          "name": "stderr"
        },
        {
          "output_type": "stream",
          "text": [
            "\n",
            "Error in .External2(C_dataviewer, x, title) : unable to start data viewer\n",
            "Calls: <Anonymous> -> <Anonymous> -> withVisible -> View\n"
          ],
          "name": "stdout"
        }
      ]
    },
    {
      "cell_type": "code",
      "metadata": {
        "id": "l-ZpThA9rto3",
        "colab_type": "code",
        "colab": {
          "base_uri": "https://localhost:8080/",
          "height": 158
        },
        "outputId": "4ae16509-2586-4c96-871e-36edc7f71c49"
      },
      "source": [
        "%%R\n",
        "# Prevendo títulos ainda não avaliados\n",
        "result = ratings_t %>% group_by(title) %>% summarise(sum(sim_rating)/sum(similarity))\n",
        "result"
      ],
      "execution_count": 20,
      "outputs": [
        {
          "output_type": "stream",
          "text": [
            "R[write to console]: `summarise()` ungrouping output (override with `.groups` argument)\n",
            "\n"
          ],
          "name": "stderr"
        },
        {
          "output_type": "stream",
          "text": [
            "# A tibble: 3 x 2\n",
            "  title              `sum(sim_rating)/sum(similarity)`\n",
            "  <fct>                                          <dbl>\n",
            "1 Just My Luck                                    2.34\n",
            "2 Lady in the Water                               2.90\n",
            "3 The Night Listener                              3.35\n"
          ],
          "name": "stdout"
        }
      ]
    },
    {
      "cell_type": "code",
      "metadata": {
        "id": "xKNNNvuRrv7t",
        "colab_type": "code",
        "colab": {
          "base_uri": "https://localhost:8080/",
          "height": 34
        },
        "outputId": "7c0bc09a-d87b-432c-e336-7ebedbb3a30b"
      },
      "source": [
        "%%R\n",
        "# Mas qual dos 3 filmes recomendar primeiro? \n",
        "# Aquele com score maior que a média de ratings do usuário Garrincha\n",
        "mean(rating_critic $ rating, na.rm = T)"
      ],
      "execution_count": 21,
      "outputs": [
        {
          "output_type": "stream",
          "text": [
            "[1] 3.166667\n"
          ],
          "name": "stdout"
        }
      ]
    },
    {
      "cell_type": "code",
      "metadata": {
        "id": "DvUUDvk_ryTE",
        "colab_type": "code",
        "colab": {}
      },
      "source": [
        "%%R\n",
        "# Função para sistema de recomendação (une os itens realizados nos comandos anteriores) \n",
        "generateRecommendations <- function(userId){\n",
        "  rating_critic  = setDT(movie_ratings[colnames(movie_ratings)[userId]],keep.rownames = TRUE)[]\n",
        "  names(rating_critic) = c('title','rating')\n",
        "  titles_na_critic = rating_critic$title[is.na(rating_critic$rating)]\n",
        "  ratings_t =ratings[ratings$title %in% titles_na_critic,]\n",
        "  x = (setDT(data.frame(sim_users[,userId]),keep.rownames = TRUE)[])\n",
        "  names(x) = c('critic','similarity')\n",
        "  ratings_t =  merge(x = ratings_t, y = x, by = \"critic\", all.x = TRUE)\n",
        "  ratings_t$sim_rating = ratings_t$rating*ratings_t$similarity\n",
        "  result = ratings_t %>% group_by(title) %>% summarise(sum(sim_rating)/sum(similarity))\n",
        "  return(result)\n",
        "}"
      ],
      "execution_count": 26,
      "outputs": []
    },
    {
      "cell_type": "code",
      "metadata": {
        "id": "urGxyoCrr1K0",
        "colab_type": "code",
        "colab": {
          "base_uri": "https://localhost:8080/",
          "height": 194
        },
        "outputId": "81c91df1-e8c5-41b5-cd9c-c1e0549edabc"
      },
      "source": [
        "%%R\n",
        "# Gerando recomendações\n",
        "generateRecommendations(1)\n",
        "generateRecommendations(2)\n",
        "generateRecommendations(3)\n",
        "generateRecommendations(5)\n"
      ],
      "execution_count": 27,
      "outputs": [
        {
          "output_type": "stream",
          "text": [
            "R[write to console]: `summarise()` ungrouping output (override with `.groups` argument)\n",
            "\n",
            "R[write to console]: `summarise()` ungrouping output (override with `.groups` argument)\n",
            "\n",
            "R[write to console]: `summarise()` ungrouping output (override with `.groups` argument)\n",
            "\n",
            "R[write to console]: `summarise()` ungrouping output (override with `.groups` argument)\n",
            "\n"
          ],
          "name": "stderr"
        },
        {
          "output_type": "stream",
          "text": [
            "# A tibble: 0 x 2\n",
            "# … with 2 variables: title <fct>, `sum(sim_rating)/sum(similarity)` <dbl>\n"
          ],
          "name": "stdout"
        }
      ]
    }
  ]
}