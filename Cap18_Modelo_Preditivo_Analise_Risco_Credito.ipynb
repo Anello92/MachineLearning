{
  "nbformat": 4,
  "nbformat_minor": 0,
  "metadata": {
    "colab": {
      "name": "Cap18-Modelo-Preditivo-Analise-Risco-Credito.ipynb",
      "provenance": [],
      "collapsed_sections": [
        "3ijj22N6Ox5e",
        "2dT3WITmPAID",
        "AZooof-dQtXY",
        "kYS0dvbWReE6"
      ]
    },
    "kernelspec": {
      "name": "python3",
      "display_name": "Python 3"
    }
  },
  "cells": [
    {
      "cell_type": "code",
      "metadata": {
        "id": "EPBp_y6uE-uf",
        "colab_type": "code",
        "colab": {}
      },
      "source": [
        "# Activate R magic\n",
        "%load_ext rpy2.ipython"
      ],
      "execution_count": 0,
      "outputs": []
    },
    {
      "cell_type": "code",
      "metadata": {
        "id": "fq1yFP_1L7DD",
        "colab_type": "code",
        "colab": {}
      },
      "source": [
        "# Problemas com acentuação, consultar este link:\n",
        "# https://support.rstudio.com/hc/en-us/articles/200532197-Character-Encoding"
      ],
      "execution_count": 0,
      "outputs": []
    },
    {
      "cell_type": "code",
      "metadata": {
        "id": "9uZ5OizZLzRO",
        "colab_type": "code",
        "colab": {}
      },
      "source": [
        "# Importar imagens\n",
        "from google.colab import files\n",
        "from IPython.display import Image"
      ],
      "execution_count": 0,
      "outputs": []
    },
    {
      "cell_type": "code",
      "metadata": {
        "id": "nDNj5d8kNKJD",
        "colab_type": "code",
        "colab": {}
      },
      "source": [
        "# Configurar o diretório de trabalho\n",
        "setwd(\"~/Dropbox/DSA/BigDataAnalytics-R-Azure/Projetos/Mini-Projeto04\")\n",
        "getwd()"
      ],
      "execution_count": 0,
      "outputs": []
    },
    {
      "cell_type": "markdown",
      "metadata": {
        "id": "YKxJBWzBL66W",
        "colab_type": "text"
      },
      "source": [
        "**Modelo Preditivo para Análise de Risco de Crédito**"
      ]
    },
    {
      "cell_type": "markdown",
      "metadata": {
        "id": "V0PkNtHIN_7H",
        "colab_type": "text"
      },
      "source": [
        "## 1 - Carregar o dataset com **Dados Históricos** em um dataframe"
      ]
    },
    {
      "cell_type": "code",
      "metadata": {
        "id": "_pLSVA4eNhc-",
        "colab_type": "code",
        "outputId": "44fa88da-9d0a-4294-84b3-2f9d2eab1d68",
        "colab": {
          "base_uri": "https://localhost:8080/",
          "height": 184
        }
      },
      "source": [
        "%%R\n",
        "#.1\n",
        "credit.df <- read.csv(\"credit_dataset.csv\", header = TRUE, sep = \",\")\n",
        "head(credit.df, 1)"
      ],
      "execution_count": 79,
      "outputs": [
        {
          "output_type": "stream",
          "text": [
            "  credit.rating account.balance credit.duration.months\n",
            "1             1               1                     18\n",
            "  previous.credit.payment.status credit.purpose credit.amount savings\n",
            "1                              3              2          1049       1\n",
            "  employment.duration installment.rate marital.status guarantor\n",
            "1                   1                4              1         1\n",
            "  residence.duration current.assets age other.credits apartment.type\n",
            "1                  4              2  21             2              1\n",
            "  bank.credits occupation dependents telephone foreign.worker\n",
            "1            1          3          1         1              1\n"
          ],
          "name": "stdout"
        }
      ]
    },
    {
      "cell_type": "markdown",
      "metadata": {
        "id": "TkqdI2FkOEMi",
        "colab_type": "text"
      },
      "source": [
        "## 2 - Converter variáveis para tipo Fator (Categórica) "
      ]
    },
    {
      "cell_type": "code",
      "metadata": {
        "id": "sd4DMy1HNhZ-",
        "colab_type": "code",
        "colab": {}
      },
      "source": [
        "%%R\n",
        "#. 2 - Função para converter variáveis para o tipo fator (categórica)\n",
        "to.factors <- function(df, variables){\n",
        "  for (variable in variables){\n",
        "    df[[variable]] <- as.factor(df[[variable]])\n",
        "  }\n",
        "  return(df)\n",
        "}"
      ],
      "execution_count": 0,
      "outputs": []
    },
    {
      "cell_type": "markdown",
      "metadata": {
        "id": "JKyta1OcOYou",
        "colab_type": "text"
      },
      "source": [
        "## 3 - Normalizar dados de diferentes escalas\n",
        "\n",
        "Ajustar Escalas e aplicar Normalização para que todos os dados estejam dendo de uma Distribuição Normal"
      ]
    },
    {
      "cell_type": "code",
      "metadata": {
        "id": "9S7GuhCNNhW1",
        "colab_type": "code",
        "colab": {}
      },
      "source": [
        "%%R\n",
        "#. 3 - Função equalizar valores na mesma escala de unidade - Normalização\n",
        "scale.features <- function(df, variables){\n",
        "  for (variable in variables){\n",
        "    df[[variable]] <- scale(df[[variable]], center=T, scale=T)\n",
        "  }\n",
        "  return(df)\n",
        "}"
      ],
      "execution_count": 0,
      "outputs": []
    },
    {
      "cell_type": "markdown",
      "metadata": {
        "id": "iWJ9I1V0kVkU",
        "colab_type": "text"
      },
      "source": [
        "## Vetor Numérico"
      ]
    },
    {
      "cell_type": "code",
      "metadata": {
        "id": "CPTiCrz7Ol-c",
        "colab_type": "code",
        "colab": {}
      },
      "source": [
        "%%R\n",
        "#. 4 - Criando vetor de valores numéricos \"numeric.vars\"\n",
        "numeric.vars <- c(\"credit.duration.months\", \"age\", \"credit.amount\")"
      ],
      "execution_count": 0,
      "outputs": []
    },
    {
      "cell_type": "markdown",
      "metadata": {
        "id": "YlCL48GkkdTk",
        "colab_type": "text"
      },
      "source": [
        "## Equalizar Escala Numérica"
      ]
    },
    {
      "cell_type": "code",
      "metadata": {
        "id": "8pzS_LMSaVAf",
        "colab_type": "code",
        "outputId": "ad04cd6c-94d9-4691-a27d-2a32f87b395c",
        "colab": {
          "base_uri": "https://localhost:8080/",
          "height": 351
        }
      },
      "source": [
        "%%R\n",
        "#. 5- Aplicando escala ao vetor numérico \"numeric.vars\"\n",
        "credit.df <- scale.features(credit.df, numeric.vars)\n",
        "head(credit.df, 3)"
      ],
      "execution_count": 26,
      "outputs": [
        {
          "output_type": "stream",
          "text": [
            "  credit.rating account.balance credit.duration.months\n",
            "1             1               1             -0.2407368\n",
            "2             1               1             -0.9870788\n",
            "3             1               2             -0.7382981\n",
            "  previous.credit.payment.status credit.purpose credit.amount savings\n",
            "1                              3              2    -0.7872630       1\n",
            "2                              3              4    -0.1673006       1\n",
            "3                              2              4    -0.8609500       2\n",
            "  employment.duration installment.rate marital.status guarantor\n",
            "1                   1                4              1         1\n",
            "2                   2                2              3         1\n",
            "3                   3                2              1         1\n",
            "  residence.duration current.assets         age other.credits apartment.type\n",
            "1                  4              2 -1.28093214             2              1\n",
            "2                  2              1  0.04034293             2              1\n",
            "3                  4              1 -1.10476213             2              1\n",
            "  bank.credits occupation dependents telephone foreign.worker\n",
            "1            1          3          1         1              1\n",
            "2            2          3          2         1              1\n",
            "3            1          2          1         1              1\n"
          ],
          "name": "stdout"
        }
      ]
    },
    {
      "cell_type": "markdown",
      "metadata": {
        "id": "pTaZjTzWkR9-",
        "colab_type": "text"
      },
      "source": [
        "##Vetor Categórico"
      ]
    },
    {
      "cell_type": "code",
      "metadata": {
        "id": "syKtMlgpOo-N",
        "colab_type": "code",
        "colab": {}
      },
      "source": [
        "%%R\n",
        "#. 6 - Criando vetor de valores categóricos \"categorical.vars\"\n",
        "categorical.vars <- c('credit.rating', 'account.balance', 'previous.credit.payment.status',\n",
        "                      'credit.purpose', 'savings', 'employment.duration', 'installment.rate',\n",
        "                      'marital.status', 'guarantor', 'residence.duration', 'current.assets',\n",
        "                      'other.credits', 'apartment.type', 'bank.credits', 'occupation', \n",
        "                      'dependents', 'telephone', 'foreign.worker')"
      ],
      "execution_count": 0,
      "outputs": []
    },
    {
      "cell_type": "markdown",
      "metadata": {
        "id": "cHJp0k1CklfI",
        "colab_type": "text"
      },
      "source": [
        "## Fatorar Categorias"
      ]
    },
    {
      "cell_type": "code",
      "metadata": {
        "id": "jY6trYA3Oo6j",
        "colab_type": "code",
        "colab": {
          "base_uri": "https://localhost:8080/",
          "height": 351
        },
        "outputId": "dc6ce167-84cd-4a94-a414-d80c9b6de155"
      },
      "source": [
        "%%R\n",
        "#. 7 - Aplicando to.factors às variáveis categoricas para tipo fator\n",
        "credit.df <- to.factors(df = credit.df, variables = categorical.vars)\n",
        "head(credit.df,3)"
      ],
      "execution_count": 28,
      "outputs": [
        {
          "output_type": "stream",
          "text": [
            "  credit.rating account.balance credit.duration.months\n",
            "1             1               1             -0.2407368\n",
            "2             1               1             -0.9870788\n",
            "3             1               2             -0.7382981\n",
            "  previous.credit.payment.status credit.purpose credit.amount savings\n",
            "1                              3              2    -0.7872630       1\n",
            "2                              3              4    -0.1673006       1\n",
            "3                              2              4    -0.8609500       2\n",
            "  employment.duration installment.rate marital.status guarantor\n",
            "1                   1                4              1         1\n",
            "2                   2                2              3         1\n",
            "3                   3                2              1         1\n",
            "  residence.duration current.assets         age other.credits apartment.type\n",
            "1                  4              2 -1.28093214             2              1\n",
            "2                  2              1  0.04034293             2              1\n",
            "3                  4              1 -1.10476213             2              1\n",
            "  bank.credits occupation dependents telephone foreign.worker\n",
            "1            1          3          1         1              1\n",
            "2            2          3          2         1              1\n",
            "3            1          2          1         1              1\n"
          ],
          "name": "stdout"
        }
      ]
    },
    {
      "cell_type": "markdown",
      "metadata": {
        "id": "3ijj22N6Ox5e",
        "colab_type": "text"
      },
      "source": [
        "##Divisão:\n",
        "\n",
        "  Dados de Treino para Treinar Modelo\n",
        "\n",
        "  Dados de Teste para Avaliar Perfomance"
      ]
    },
    {
      "cell_type": "code",
      "metadata": {
        "id": "dMKGxFFtOo3r",
        "colab_type": "code",
        "colab": {}
      },
      "source": [
        "%%R\n",
        "#. 6 - Dividindo os dados em treino e teste - 60:40 ratio\n",
        "# Cria índice e depois usa o índice para fazer a divisão dentro do conjunto\n",
        "indexes <- sample(1:nrow(credit.df), size = 0.6 * nrow(credit.df))\n",
        "# Dados de Treino\n",
        "train.data <- credit.df[indexes,]\n",
        "# Dados de Teste\n",
        "test.data <- credit.df[-indexes,]"
      ],
      "execution_count": 0,
      "outputs": []
    },
    {
      "cell_type": "markdown",
      "metadata": {
        "id": "2dT3WITmPAID",
        "colab_type": "text"
      },
      "source": [
        "## Selecionar Atributos - Feature Selection "
      ]
    },
    {
      "cell_type": "code",
      "metadata": {
        "id": "W44YgWQdPD_E",
        "colab_type": "code",
        "colab": {}
      },
      "source": [
        "%%R\n",
        "#. 7 - Feature Selection\n",
        "install.packages(\"caret\")\n",
        "install.packageS(\"randomForest\")\n",
        "library(caret) \n",
        "library(randomForest) "
      ],
      "execution_count": 0,
      "outputs": []
    },
    {
      "cell_type": "code",
      "metadata": {
        "id": "vcNPgp36sQDC",
        "colab_type": "code",
        "colab": {}
      },
      "source": [
        "%%R\n",
        "install.packages(\"e1071\")\n",
        "library(\"e1071\")"
      ],
      "execution_count": 0,
      "outputs": []
    },
    {
      "cell_type": "markdown",
      "metadata": {
        "id": "hXCYvEubmF0f",
        "colab_type": "text"
      },
      "source": [
        "## Criar Função feature.selection() para Seleção de Variáveis\n",
        "\n",
        "Algumas Variáveis são irrelevantes para a construção do Modelo "
      ]
    },
    {
      "cell_type": "code",
      "metadata": {
        "id": "wUImm9WrPD76",
        "colab_type": "code",
        "colab": {}
      },
      "source": [
        "%%R\n",
        "#. 8 - Função para seleção de variáveis\n",
        "run.feature.selection <- function(num.iters=20, feature.vars, class.var){\n",
        "  set.seed(10)\n",
        "  variable.sizes <- 1:10\n",
        "  control <- rfeControl(functions = rfFuncs, method = \"cv\", \n",
        "                        verbose = FALSE, returnResamp = \"all\", \n",
        "                        number = num.iters)\n",
        "  results.rfe <- rfe(x = feature.vars, y = class.var, \n",
        "                     sizes = variable.sizes, \n",
        "                     rfeControl = control)\n",
        "  return(results.rfe)\n",
        "}"
      ],
      "execution_count": 0,
      "outputs": []
    },
    {
      "cell_type": "markdown",
      "metadata": {
        "id": "-S2D29drmlZW",
        "colab_type": "text"
      },
      "source": [
        "## Detectando Variáveis mais Relevantes"
      ]
    },
    {
      "cell_type": "code",
      "metadata": {
        "id": "95g5oj06PD5R",
        "colab_type": "code",
        "colab": {}
      },
      "source": [
        "%%R\n",
        "#. 9 - Aplicando a função de seleção de variáveis\n",
        "rfe.results <- run.feature.selection(feature.vars = train.data[,-1], \n",
        "                                     class.var = train.data[,1])\n"
      ],
      "execution_count": 0,
      "outputs": []
    },
    {
      "cell_type": "markdown",
      "metadata": {
        "id": "rZAontS-pyS_",
        "colab_type": "text"
      },
      "source": [
        "## Imprimir resultado da lista com variáveis mais relevantes\n",
        "\n",
        "- account.balance\n",
        "- credit.duration.months\n",
        "- previus.credit.payment.status\n",
        "- credi.amount"
      ]
    },
    {
      "cell_type": "code",
      "metadata": {
        "id": "E_vO3EeyPiEh",
        "colab_type": "code",
        "colab": {}
      },
      "source": [
        "%%R\n",
        "#. 10 -  Visualizando os resultados\n",
        "rfe.results\n",
        "varImp((rfe.results))"
      ],
      "execution_count": 0,
      "outputs": []
    },
    {
      "cell_type": "markdown",
      "metadata": {
        "id": "AZooof-dQtXY",
        "colab_type": "text"
      },
      "source": [
        "## Criar e Avaliar Modelo"
      ]
    },
    {
      "cell_type": "code",
      "metadata": {
        "id": "m_roaX44Qh1H",
        "colab_type": "code",
        "colab": {}
      },
      "source": [
        "%%R\n",
        "# Criando e Avaliando o Modelo\n",
        "install.packages(\"caret\")\n",
        "install.packages(\"ROCR\")\n",
        "library(caret) \n",
        "library(ROCR) \n",
        "\n",
        "# Biblioteca de utilitários para construção de gráficos\n",
        "source(\"plot_utils.R\") "
      ],
      "execution_count": 0,
      "outputs": []
    },
    {
      "cell_type": "code",
      "metadata": {
        "id": "fdwVhyPLQhxC",
        "colab_type": "code",
        "colab": {}
      },
      "source": [
        "%%R\n",
        "## separate feature and class variables\n",
        "test.feature.vars <- test.data[,-1]\n",
        "test.class.var <- test.data[,1]"
      ],
      "execution_count": 0,
      "outputs": []
    },
    {
      "cell_type": "code",
      "metadata": {
        "id": "i8oRtbwJQhuP",
        "colab_type": "code",
        "colab": {}
      },
      "source": [
        "%%R\n",
        "# Construindo um modelo de regressão logística\n",
        "formula.init <- \"credit.rating ~ .\"\n",
        "formula.init <- as.formula(formula.init)\n",
        "lr.model <- glm(formula = formula.init, data = train.data, family = \"binomial\")"
      ],
      "execution_count": 0,
      "outputs": []
    },
    {
      "cell_type": "code",
      "metadata": {
        "id": "aZCGoDB4QhrZ",
        "colab_type": "code",
        "colab": {
          "base_uri": "https://localhost:8080/",
          "height": 1000
        },
        "outputId": "be6bb4e4-35eb-4eb5-a2fd-448e2b9c85cb"
      },
      "source": [
        "%%R\n",
        "# Visualizando o modelo\n",
        "summary(lr.model)"
      ],
      "execution_count": 60,
      "outputs": [
        {
          "output_type": "stream",
          "text": [
            "\n",
            "Call:\n",
            "glm(formula = formula.init, family = \"binomial\", data = train.data)\n",
            "\n",
            "Deviance Residuals: \n",
            "    Min       1Q   Median       3Q      Max  \n",
            "-2.6933  -0.6446   0.3699   0.6991   2.0383  \n",
            "\n",
            "Coefficients:\n",
            "                                Estimate Std. Error z value Pr(>|z|)    \n",
            "(Intercept)                      1.31399    1.23154   1.067 0.285993    \n",
            "account.balance2                 0.37114    0.28951   1.282 0.199846    \n",
            "account.balance3                 1.32184    0.28564   4.628 3.70e-06 ***\n",
            "credit.duration.months          -0.47646    0.15769  -3.021 0.002516 ** \n",
            "previous.credit.payment.status2  0.99637    0.40422   2.465 0.013704 *  \n",
            "previous.credit.payment.status3  1.77394    0.43640   4.065 4.81e-05 ***\n",
            "credit.purpose2                 -1.51441    0.51528  -2.939 0.003293 ** \n",
            "credit.purpose3                 -1.61017    0.48580  -3.314 0.000918 ***\n",
            "credit.purpose4                 -2.02375    0.48065  -4.210 2.55e-05 ***\n",
            "credit.amount                   -0.26410    0.17890  -1.476 0.139874    \n",
            "savings2                         0.17838    0.36317   0.491 0.623308    \n",
            "savings3                         0.83861    0.44178   1.898 0.057666 .  \n",
            "savings4                         0.85506    0.34745   2.461 0.013856 *  \n",
            "employment.duration2             0.51695    0.30960   1.670 0.094967 .  \n",
            "employment.duration3             0.59900    0.37701   1.589 0.112105    \n",
            "employment.duration4             0.33959    0.34747   0.977 0.328401    \n",
            "installment.rate2               -0.23668    0.42485  -0.557 0.577459    \n",
            "installment.rate3               -0.78748    0.45147  -1.744 0.081113 .  \n",
            "installment.rate4               -0.81092    0.38986  -2.080 0.037523 *  \n",
            "marital.status3                  0.85732    0.27002   3.175 0.001498 ** \n",
            "marital.status4                  0.14499    0.42657   0.340 0.733924    \n",
            "guarantor2                       0.78962    0.41977   1.881 0.059963 .  \n",
            "residence.duration2             -0.14711    0.39117  -0.376 0.706864    \n",
            "residence.duration3             -0.19226    0.42584  -0.451 0.651649    \n",
            "residence.duration4             -0.20200    0.38346  -0.527 0.598347    \n",
            "current.assets2                 -0.06956    0.33977  -0.205 0.837777    \n",
            "current.assets3                 -0.19371    0.31351  -0.618 0.536660    \n",
            "current.assets4                 -1.27815    0.56900  -2.246 0.024685 *  \n",
            "age                              0.19557    0.14314   1.366 0.171844    \n",
            "other.credits2                   0.45704    0.28991   1.577 0.114906    \n",
            "apartment.type2                  0.40669    0.32061   1.269 0.204613    \n",
            "apartment.type3                  0.93543    0.65375   1.431 0.152470    \n",
            "bank.credits2                   -0.48271    0.30778  -1.568 0.116803    \n",
            "occupation2                     -1.27599    1.08479  -1.176 0.239491    \n",
            "occupation3                     -1.27230    1.06560  -1.194 0.232486    \n",
            "occupation4                     -1.69196    1.10223  -1.535 0.124776    \n",
            "dependents2                     -0.63078    0.34272  -1.841 0.065692 .  \n",
            "telephone2                       0.37886    0.26626   1.423 0.154773    \n",
            "foreign.worker2                  2.16651    1.07677   2.012 0.044216 *  \n",
            "---\n",
            "Signif. codes:  0 ‘***’ 0.001 ‘**’ 0.01 ‘*’ 0.05 ‘.’ 0.1 ‘ ’ 1\n",
            "\n",
            "(Dispersion parameter for binomial family taken to be 1)\n",
            "\n",
            "    Null deviance: 726.13  on 599  degrees of freedom\n",
            "Residual deviance: 521.39  on 561  degrees of freedom\n",
            "AIC: 599.39\n",
            "\n",
            "Number of Fisher Scoring iterations: 6\n",
            "\n"
          ],
          "name": "stdout"
        }
      ]
    },
    {
      "cell_type": "code",
      "metadata": {
        "id": "42I2HOE2Qhn0",
        "colab_type": "code",
        "colab": {}
      },
      "source": [
        "%%R\n",
        "# Testando o modelo nos dados de teste\n",
        "lr.predictions <- predict(lr.model, test.data, type=\"response\")\n",
        "lr.predictions <- round(lr.predictions)"
      ],
      "execution_count": 0,
      "outputs": []
    },
    {
      "cell_type": "code",
      "metadata": {
        "id": "MkxYo7dxREkt",
        "colab_type": "code",
        "colab": {
          "base_uri": "https://localhost:8080/",
          "height": 468
        },
        "outputId": "a21c48f7-7e61-4236-a59f-dbdeecbe1d92"
      },
      "source": [
        "%%R\n",
        "# Avaliando o modelo\n",
        "confusionMatrix(table(data = lr.predictions, reference = test.class.var), positive = '1')"
      ],
      "execution_count": 71,
      "outputs": [
        {
          "output_type": "stream",
          "text": [
            "Confusion Matrix and Statistics\n",
            "\n",
            "    reference\n",
            "data   0   1\n",
            "   0  55  38\n",
            "   1  69 238\n",
            "                                          \n",
            "               Accuracy : 0.7325          \n",
            "                 95% CI : (0.6863, 0.7753)\n",
            "    No Information Rate : 0.69            \n",
            "    P-Value [Acc > NIR] : 0.035911        \n",
            "                                          \n",
            "                  Kappa : 0.3285          \n",
            "                                          \n",
            " Mcnemar's Test P-Value : 0.003729        \n",
            "                                          \n",
            "            Sensitivity : 0.8623          \n",
            "            Specificity : 0.4435          \n",
            "         Pos Pred Value : 0.7752          \n",
            "         Neg Pred Value : 0.5914          \n",
            "             Prevalence : 0.6900          \n",
            "         Detection Rate : 0.5950          \n",
            "   Detection Prevalence : 0.7675          \n",
            "      Balanced Accuracy : 0.6529          \n",
            "                                          \n",
            "       'Positive' Class : 1               \n",
            "                                          \n"
          ],
          "name": "stdout"
        }
      ]
    },
    {
      "cell_type": "code",
      "metadata": {
        "id": "0CkdoJwSREhR",
        "colab_type": "code",
        "colab": {
          "base_uri": "https://localhost:8080/",
          "height": 497
        },
        "outputId": "66639357-dbf6-4732-c967-91b0004c0bd9"
      },
      "source": [
        "%%R\n",
        "## Feature selection\n",
        "formula <- \"credit.rating ~ .\"\n",
        "formula <- as.formula(formula)\n",
        "control <- trainControl(method = \"repeatedcv\", number = 10, repeats = 2)\n",
        "model <- train(formula, data = train.data, method = \"glm\", trControl = control)\n",
        "importance <- varImp(model, scale = FALSE)\n",
        "plot(importance)"
      ],
      "execution_count": 72,
      "outputs": [
        {
          "output_type": "display_data",
          "data": {
            "image/png": "[encoded data removed]"
          },
          "metadata": {
            "tags": []
          }
        }
      ]
    },
    {
      "cell_type": "code",
      "metadata": {
        "id": "X_Ug3ogJREeb",
        "colab_type": "code",
        "colab": {}
      },
      "source": [
        "%%R\n",
        "# Construindo o modelo com as variáveis selecionadas\n",
        "formula.new <- \"credit.rating ~ account.balance + credit.purpose + previous.credit.payment.status + savings + credit.duration.months\"\n",
        "formula.new <- as.formula(formula.new)\n",
        "lr.model.new <- glm(formula = formula.new, data = train.data, family = \"binomial\")"
      ],
      "execution_count": 0,
      "outputs": []
    },
    {
      "cell_type": "code",
      "metadata": {
        "id": "Xdytm1eAREav",
        "colab_type": "code",
        "colab": {
          "base_uri": "https://localhost:8080/",
          "height": 569
        },
        "outputId": "051174e0-17b6-4103-94dd-87492d9e6413"
      },
      "source": [
        "%%R\n",
        "# Visualizando o modelo\n",
        "summary(lr.model.new)"
      ],
      "execution_count": 74,
      "outputs": [
        {
          "output_type": "stream",
          "text": [
            "\n",
            "Call:\n",
            "glm(formula = formula.new, family = \"binomial\", data = train.data)\n",
            "\n",
            "Deviance Residuals: \n",
            "    Min       1Q   Median       3Q      Max  \n",
            "-2.5009  -0.7745   0.4837   0.7453   2.2698  \n",
            "\n",
            "Coefficients:\n",
            "                                 Estimate Std. Error z value Pr(>|z|)    \n",
            "(Intercept)                     -0.069028   0.482401  -0.143 0.886216    \n",
            "account.balance2                 0.329514   0.256490   1.285 0.198896    \n",
            "account.balance3                 1.267096   0.257166   4.927 8.34e-07 ***\n",
            "credit.purpose2                 -1.135233   0.445262  -2.550 0.010785 *  \n",
            "credit.purpose3                 -1.100991   0.411032  -2.679 0.007393 ** \n",
            "credit.purpose4                 -1.368591   0.408406  -3.351 0.000805 ***\n",
            "previous.credit.payment.status2  1.233122   0.340048   3.626 0.000287 ***\n",
            "previous.credit.payment.status3  1.788379   0.361516   4.947 7.54e-07 ***\n",
            "savings2                         0.007881   0.326259   0.024 0.980730    \n",
            "savings3                         0.738078   0.414814   1.779 0.075191 .  \n",
            "savings4                         0.836261   0.313166   2.670 0.007577 ** \n",
            "credit.duration.months          -0.621518   0.112970  -5.502 3.76e-08 ***\n",
            "---\n",
            "Signif. codes:  0 ‘***’ 0.001 ‘**’ 0.01 ‘*’ 0.05 ‘.’ 0.1 ‘ ’ 1\n",
            "\n",
            "(Dispersion parameter for binomial family taken to be 1)\n",
            "\n",
            "    Null deviance: 726.13  on 599  degrees of freedom\n",
            "Residual deviance: 584.20  on 588  degrees of freedom\n",
            "AIC: 608.2\n",
            "\n",
            "Number of Fisher Scoring iterations: 5\n",
            "\n"
          ],
          "name": "stdout"
        }
      ]
    },
    {
      "cell_type": "code",
      "metadata": {
        "id": "Ero-9KHQRLl-",
        "colab_type": "code",
        "colab": {}
      },
      "source": [
        "%%R\n",
        "# Testando o modelo nos dados de teste\n",
        "lr.predictions.new <- predict(lr.model.new, test.data, type = \"response\") \n",
        "lr.predictions.new <- round(lr.predictions.new)"
      ],
      "execution_count": 0,
      "outputs": []
    },
    {
      "cell_type": "code",
      "metadata": {
        "id": "Cu75IiWBRLjk",
        "colab_type": "code",
        "colab": {
          "base_uri": "https://localhost:8080/",
          "height": 468
        },
        "outputId": "eae91f97-d2c3-4d85-9b61-320662d06f49"
      },
      "source": [
        "%%R\n",
        "# Avaliando o modelo\n",
        "confusionMatrix(table(data = lr.predictions.new, reference = test.class.var), positive = '1')"
      ],
      "execution_count": 76,
      "outputs": [
        {
          "output_type": "stream",
          "text": [
            "Confusion Matrix and Statistics\n",
            "\n",
            "    reference\n",
            "data   0   1\n",
            "   0  43  35\n",
            "   1  81 241\n",
            "                                         \n",
            "               Accuracy : 0.71           \n",
            "                 95% CI : (0.6628, 0.754)\n",
            "    No Information Rate : 0.69           \n",
            "    P-Value [Acc > NIR] : 0.2094         \n",
            "                                         \n",
            "                  Kappa : 0.245          \n",
            "                                         \n",
            " Mcnemar's Test P-Value : 2.939e-05      \n",
            "                                         \n",
            "            Sensitivity : 0.8732         \n",
            "            Specificity : 0.3468         \n",
            "         Pos Pred Value : 0.7484         \n",
            "         Neg Pred Value : 0.5513         \n",
            "             Prevalence : 0.6900         \n",
            "         Detection Rate : 0.6025         \n",
            "   Detection Prevalence : 0.8050         \n",
            "      Balanced Accuracy : 0.6100         \n",
            "                                         \n",
            "       'Positive' Class : 1              \n",
            "                                         \n"
          ],
          "name": "stdout"
        }
      ]
    },
    {
      "cell_type": "markdown",
      "metadata": {
        "id": "kYS0dvbWReE6",
        "colab_type": "text"
      },
      "source": [
        "## Avaliando a Performance do Modelo"
      ]
    },
    {
      "cell_type": "markdown",
      "metadata": {
        "id": "XA84xgyvuHjJ",
        "colab_type": "text"
      },
      "source": [
        "## Curva ROC\n",
        "\n",
        "A linha vermelha que tudo que estiver abaixo dela tem previsão ruim. Descartada\n",
        "\n",
        "Acima da linha e mais à esquerda, maior acurácia. "
      ]
    },
    {
      "cell_type": "code",
      "metadata": {
        "id": "KaAosPh3RLgd",
        "colab_type": "code",
        "colab": {
          "base_uri": "https://localhost:8080/",
          "height": 497
        },
        "outputId": "cc9a71a3-54d2-44c9-9845-e2d7c83fc246"
      },
      "source": [
        "%%R\n",
        "# Criando curvas ROC\n",
        "lr.model.best <- lr.model\n",
        "lr.prediction.values <- predict(lr.model.best, test.feature.vars, type = \"response\")\n",
        "predictions <- prediction(lr.prediction.values, test.class.var)\n",
        "par(mfrow = c(1,2))\n",
        "plot.roc.curve(predictions, title.text = \"Curva ROC\")\n",
        "plot.pr.curve(predictions, title.text = \"Curva Precision/Recall\")"
      ],
      "execution_count": 77,
      "outputs": [
        {
          "output_type": "display_data",
          "data": {
            "image/png": "[encoded data removed]"
          },
          "metadata": {
            "tags": []
          }
        }
      ]
    }
  ]
}