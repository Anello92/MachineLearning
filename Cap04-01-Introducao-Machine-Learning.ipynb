{
  "nbformat": 4,
  "nbformat_minor": 0,
  "metadata": {
    "colab": {
      "name": "Machine_Learning.ipynb",
      "provenance": []
    },
    "kernelspec": {
      "name": "python3",
      "display_name": "Python 3"
    }
  },
  "cells": [
    {
      "cell_type": "markdown",
      "metadata": {
        "id": "MuyV5vWUWihP",
        "colab_type": "text"
      },
      "source": [
        "# **Módulos**\n",
        "\n",
        "1.   Introdução\n",
        "2.   Algoritmos de Machine Learning\n",
        "3.   Como funciona aprendizagem de máquina\n",
        "4.   Regressão\n",
        "\n",
        "Aprendizagem supervisionada\n",
        "5.   Classificação com kNN\n",
        "6.   Classfiicação com Decision Trees e Random Forest\n",
        "7.   Classificação com Naives Bayes\n",
        "8.   Support Vecotr Machines \n",
        "\n",
        "Aprendizagem não-supervisionada\n",
        "9.   Clusterização com K-Means\n",
        "\n",
        "10.  Processamento de Linguagem Natural\n",
        "11.  Redes Neurais\n",
        "12.  Deep Learning\n",
        "13.  Sistemas de Recomendação\n",
        "14.  Auto ML \n",
        "\n",
        "\n",
        "\n",
        "\n",
        "\n"
      ]
    },
    {
      "cell_type": "code",
      "metadata": {
        "id": "MhS8B8CFXRhh",
        "colab_type": "code",
        "colab": {}
      },
      "source": [
        ""
      ],
      "execution_count": 0,
      "outputs": []
    }
  ]
}