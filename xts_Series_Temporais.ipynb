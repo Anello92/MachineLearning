{
  "nbformat": 4,
  "nbformat_minor": 0,
  "metadata": {
    "colab": {
      "name": "xts_Series_Temporais",
      "provenance": []
    },
    "kernelspec": {
      "name": "python3",
      "display_name": "Python 3"
    }
  },
  "cells": [
    {
      "cell_type": "code",
      "metadata": {
        "id": "n5EVriLzDEkd",
        "colab_type": "code",
        "colab": {
          "base_uri": "https://localhost:8080/",
          "height": 50
        },
        "outputId": "33ca0cdc-9363-42ee-d9ff-2ece977a9a5d"
      },
      "source": [
        "# activate R magic\n",
        "%load_ext rpy2.ipython"
      ],
      "execution_count": 21,
      "outputs": [
        {
          "output_type": "stream",
          "text": [
            "The rpy2.ipython extension is already loaded. To reload it, use:\n",
            "  %reload_ext rpy2.ipython\n"
          ],
          "name": "stdout"
        }
      ]
    },
    {
      "cell_type": "markdown",
      "metadata": {
        "id": "SMbFdDzy8dzw",
        "colab_type": "text"
      },
      "source": [
        "#**Análise de Séries Temporais com xts**\n",
        "\n",
        "xts - eXtensible Time Series\n",
        "\n",
        "- Indexação por datas para retornar dados"
      ]
    },
    {
      "cell_type": "markdown",
      "metadata": {
        "id": "g4ZhJlGB8nCX",
        "colab_type": "text"
      },
      "source": [
        "Fornece um tratamento uniforme das **diferentes classes de dados baseadas no zoo**, maximizando a preservação da informação em formato nativo e permitindo a **personalização** do nível de usuário, ao mesmo tempo em que simplifica a interoperabilidade entre classes\n"
      ]
    },
    {
      "cell_type": "markdown",
      "metadata": {
        "id": "XKqP2WdW8xao",
        "colab_type": "text"
      },
      "source": [
        "##**Pacote xts**\n",
        "\n",
        "A série de dados retornada pelo pacote **{quantmod}** vem na forma de um objeto xts\n",
        "\n",
        "Também precisamos carregar mais um pacote: **{moments}**\n",
        "\n",
        "O pacote **{moments}** calcula skewness (assimetria) e kurtosis (curtose) para analisar a distribuição dos dados."
      ]
    },
    {
      "cell_type": "code",
      "metadata": {
        "id": "zvpBlcNe8bzf",
        "colab_type": "code",
        "colab": {}
      },
      "source": [
        "%%R\n",
        "install.packages(\"moments\")\n",
        "install.packages(\"quantmod\")\n",
        "library(quantmod)\n",
        "library(xts)\n",
        "library(moments)  "
      ],
      "execution_count": null,
      "outputs": []
    },
    {
      "cell_type": "code",
      "metadata": {
        "id": "Jj-bHday8bwM",
        "colab_type": "code",
        "colab": {
          "base_uri": "https://localhost:8080/",
          "height": 33
        },
        "outputId": "edcbce5f-49de-4ffc-b4de-86c2ec56611c"
      },
      "source": [
        "%%R\n",
        "# Vamos fazer o download dos valores do índice S&P dos últimos 10 anos\n",
        "# https://www.google.com/finance?cid=700145\n",
        "\n",
        "### TROCANDO google PELO yahoo. GOOGLE ESTÁ COM ERRO 403 (FORBIDDEN)\n",
        "getSymbols(\"SPY\", src = \"yahoo\", from = \"2007-01-01\", auto.assign = T)"
      ],
      "execution_count": 32,
      "outputs": [
        {
          "output_type": "stream",
          "text": [
            "[1] \"SPY\"\n"
          ],
          "name": "stdout"
        }
      ]
    },
    {
      "cell_type": "code",
      "metadata": {
        "id": "KTO4mq-L8btK",
        "colab_type": "code",
        "colab": {
          "base_uri": "https://localhost:8080/",
          "height": 33
        },
        "outputId": "9f0c0aea-f5d3-4493-950d-2e63265c314e"
      },
      "source": [
        "%%R\n",
        "is.xts(SPY) "
      ],
      "execution_count": 33,
      "outputs": [
        {
          "output_type": "stream",
          "text": [
            "[1] TRUE\n"
          ],
          "name": "stdout"
        }
      ]
    },
    {
      "cell_type": "code",
      "metadata": {
        "id": "mJmNELWv8bqN",
        "colab_type": "code",
        "colab": {
          "base_uri": "https://localhost:8080/",
          "height": 134
        },
        "outputId": "51055972-7265-4b87-972e-434c37a62c66"
      },
      "source": [
        "%%R\n",
        "head(SPY)"
      ],
      "execution_count": 34,
      "outputs": [
        {
          "output_type": "stream",
          "text": [
            "           SPY.Open SPY.High SPY.Low SPY.Close SPY.Volume SPY.Adjusted\n",
            "2007-01-03   142.25   142.86  140.57    141.37   94807600     107.3601\n",
            "2007-01-04   141.23   142.05  140.61    141.67   69620600     107.5880\n",
            "2007-01-05   141.33   141.40  140.38    140.54   76645300     106.7298\n",
            "2007-01-08   140.82   141.41  140.25    141.19   71655000     107.2235\n",
            "2007-01-09   141.31   141.60  140.40    141.07   75680100     107.1323\n",
            "2007-01-10   140.58   141.57  140.30    141.54   72428000     107.4893\n"
          ],
          "name": "stdout"
        }
      ]
    },
    {
      "cell_type": "code",
      "metadata": {
        "id": "4qyqqGfj8bnj",
        "colab_type": "code",
        "colab": {
          "base_uri": "https://localhost:8080/",
          "height": 134
        },
        "outputId": "b35c6d34-964d-4c19-9f35-a81fd694725b"
      },
      "source": [
        "%%R\n",
        "tail(SPY)"
      ],
      "execution_count": 35,
      "outputs": [
        {
          "output_type": "stream",
          "text": [
            "           SPY.Open SPY.High SPY.Low SPY.Close SPY.Volume SPY.Adjusted\n",
            "2020-06-15   298.02   308.28  296.74    307.05  135782700     305.7047\n",
            "2020-06-16   315.48   315.64  307.67    312.96  137627500     311.5888\n",
            "2020-06-17   314.07   314.39  310.86    311.66   82954600     310.2945\n",
            "2020-06-18   310.01   312.30  309.51    311.78   80828700     310.4140\n",
            "2020-06-19   314.17   314.38  306.53    308.64  135549600     308.6400\n",
            "2020-06-22   307.99   311.05  306.75    310.62   74144300     310.6200\n"
          ],
          "name": "stdout"
        }
      ]
    },
    {
      "cell_type": "markdown",
      "metadata": {
        "id": "GfE3wWAf9l8k",
        "colab_type": "text"
      },
      "source": [
        "O objeto xts se parece com um dataframe, em que **o índice é uma data**\n",
        "\n",
        "Para análise usaremos apenas os valores de fechamento"
      ]
    },
    {
      "cell_type": "markdown",
      "metadata": {
        "id": "cTjQKl96_u2f",
        "colab_type": "text"
      },
      "source": [
        "##**Subset de Fechamento da cotação**"
      ]
    },
    {
      "cell_type": "code",
      "metadata": {
        "id": "XXf3B-JN8bk5",
        "colab_type": "code",
        "colab": {
          "base_uri": "https://localhost:8080/",
          "height": 33
        },
        "outputId": "8b643832-673a-4fad-950f-ee5eaa6cdf57"
      },
      "source": [
        "%%R\n",
        "SPY.Close <- SPY[, \"SPY.Close\"]\n",
        "is.xts(SPY.Close)"
      ],
      "execution_count": 36,
      "outputs": [
        {
          "output_type": "stream",
          "text": [
            "[1] TRUE\n"
          ],
          "name": "stdout"
        }
      ]
    },
    {
      "cell_type": "code",
      "metadata": {
        "id": "KXbNedeo_qxg",
        "colab_type": "code",
        "colab": {
          "base_uri": "https://localhost:8080/",
          "height": 134
        },
        "outputId": "32729090-e386-47be-c01c-c60f9d3c6029"
      },
      "source": [
        "%%R\n",
        "head(SPY.Close)"
      ],
      "execution_count": 37,
      "outputs": [
        {
          "output_type": "stream",
          "text": [
            "           SPY.Close\n",
            "2007-01-03    141.37\n",
            "2007-01-04    141.67\n",
            "2007-01-05    140.54\n",
            "2007-01-08    141.19\n",
            "2007-01-09    141.07\n",
            "2007-01-10    141.54\n"
          ],
          "name": "stdout"
        }
      ]
    },
    {
      "cell_type": "markdown",
      "metadata": {
        "id": "cjXntIob94ro",
        "colab_type": "text"
      },
      "source": [
        "Se o xts se comporta como um dataframe, por que devo usá-lo em séries temporais?\n",
        "\n",
        "- xts fornece os dados já com **índice de data**, o que permite diversas operações, sem a necessidade de conversões adicionais"
      ]
    },
    {
      "cell_type": "code",
      "metadata": {
        "id": "L780yW7k-Ff_",
        "colab_type": "code",
        "colab": {
          "base_uri": "https://localhost:8080/",
          "height": 134
        },
        "outputId": "9bb4c840-0e49-46ea-929c-14d7029ab631"
      },
      "source": [
        "%%R\n",
        "x1 <- SPY['2015-01/2016-12']\n",
        "head(x1)"
      ],
      "execution_count": 38,
      "outputs": [
        {
          "output_type": "stream",
          "text": [
            "           SPY.Open SPY.High SPY.Low SPY.Close SPY.Volume SPY.Adjusted\n",
            "2015-01-02   206.38   206.88  204.18    205.43  121465900     184.2602\n",
            "2015-01-05   204.17   204.37  201.35    201.72  169632600     180.9325\n",
            "2015-01-06   202.09   202.72  198.86    199.82  209151400     179.2284\n",
            "2015-01-07   201.42   202.72  200.88    202.31  125346700     181.4617\n",
            "2015-01-08   204.01   206.16  203.99    205.90  147217800     184.6818\n",
            "2015-01-09   206.40   206.42  203.51    204.25  158567300     183.2018\n"
          ],
          "name": "stdout"
        }
      ]
    },
    {
      "cell_type": "code",
      "metadata": {
        "id": "usLbqyTW-Fcv",
        "colab_type": "code",
        "colab": {
          "base_uri": "https://localhost:8080/",
          "height": 134
        },
        "outputId": "e18f986b-53cd-469c-d83a-8511c9ea20e6"
      },
      "source": [
        "%%R\n",
        "x2 <- SPY['/2016-09']\n",
        "head(x2)"
      ],
      "execution_count": 39,
      "outputs": [
        {
          "output_type": "stream",
          "text": [
            "           SPY.Open SPY.High SPY.Low SPY.Close SPY.Volume SPY.Adjusted\n",
            "2007-01-03   142.25   142.86  140.57    141.37   94807600     107.3601\n",
            "2007-01-04   141.23   142.05  140.61    141.67   69620600     107.5880\n",
            "2007-01-05   141.33   141.40  140.38    140.54   76645300     106.7298\n",
            "2007-01-08   140.82   141.41  140.25    141.19   71655000     107.2235\n",
            "2007-01-09   141.31   141.60  140.40    141.07   75680100     107.1323\n",
            "2007-01-10   140.58   141.57  140.30    141.54   72428000     107.4893\n"
          ],
          "name": "stdout"
        }
      ]
    },
    {
      "cell_type": "code",
      "metadata": {
        "id": "Z1WBU--a-FaT",
        "colab_type": "code",
        "colab": {
          "base_uri": "https://localhost:8080/",
          "height": 134
        },
        "outputId": "6c1e68b0-2426-4946-bbcc-408484a4a308"
      },
      "source": [
        "%%R\n",
        "tail(x2)"
      ],
      "execution_count": 40,
      "outputs": [
        {
          "output_type": "stream",
          "text": [
            "           SPY.Open SPY.High SPY.Low SPY.Close SPY.Volume SPY.Adjusted\n",
            "2016-09-23   216.72   216.88  215.88    215.99   73630900     200.7923\n",
            "2016-09-26   215.02   215.23  214.01    214.24   89827300     199.1655\n",
            "2016-09-27   214.05   215.68  213.62    215.57   78494800     200.4019\n",
            "2016-09-28   215.83   216.82  214.71    216.64   87411000     201.3966\n",
            "2016-09-29   216.40   216.87  214.04    214.68  128070600     199.5745\n",
            "2016-09-30   215.65   217.12  215.36    216.30  117202900     201.0805\n"
          ],
          "name": "stdout"
        }
      ]
    },
    {
      "cell_type": "code",
      "metadata": {
        "id": "aMowmBcY-NJQ",
        "colab_type": "code",
        "colab": {
          "base_uri": "https://localhost:8080/",
          "height": 134
        },
        "outputId": "493349d7-17fe-4a92-f1ca-563b2fac5a83"
      },
      "source": [
        "%%R\n",
        "x3 <- SPY['2016']\n",
        "tail(x3)"
      ],
      "execution_count": 41,
      "outputs": [
        {
          "output_type": "stream",
          "text": [
            "           SPY.Open SPY.High SPY.Low SPY.Close SPY.Volume SPY.Adjusted\n",
            "2016-12-22   225.60   225.74  224.92    225.38   56219100     210.7566\n",
            "2016-12-23   225.43   225.72  225.21    225.71   36697800     211.0652\n",
            "2016-12-27   226.02   226.73  226.00    226.27   42672500     211.5888\n",
            "2016-12-28   226.57   226.59  224.27    224.40   64095000     209.8401\n",
            "2016-12-29   224.48   224.89  223.84    224.35   48696100     209.7934\n",
            "2016-12-30   224.73   224.83  222.73    223.53  108998300     209.0266\n"
          ],
          "name": "stdout"
        }
      ]
    },
    {
      "cell_type": "code",
      "metadata": {
        "id": "8kUYT1QF-NFz",
        "colab_type": "code",
        "colab": {
          "base_uri": "https://localhost:8080/",
          "height": 134
        },
        "outputId": "92c14bac-be89-48b5-c574-0d376eb602cc"
      },
      "source": [
        "%%R\n",
        "x4 <- SPY['2016-12']\n",
        "tail(x4)"
      ],
      "execution_count": 42,
      "outputs": [
        {
          "output_type": "stream",
          "text": [
            "           SPY.Open SPY.High SPY.Low SPY.Close SPY.Volume SPY.Adjusted\n",
            "2016-12-22   225.60   225.74  224.92    225.38   56219100     210.7566\n",
            "2016-12-23   225.43   225.72  225.21    225.71   36697800     211.0652\n",
            "2016-12-27   226.02   226.73  226.00    226.27   42672500     211.5888\n",
            "2016-12-28   226.57   226.59  224.27    224.40   64095000     209.8401\n",
            "2016-12-29   224.48   224.89  223.84    224.35   48696100     209.7934\n",
            "2016-12-30   224.73   224.83  222.73    223.53  108998300     209.0266\n"
          ],
          "name": "stdout"
        }
      ]
    },
    {
      "cell_type": "code",
      "metadata": {
        "id": "nNFiGXZl-NC5",
        "colab_type": "code",
        "colab": {
          "base_uri": "https://localhost:8080/",
          "height": 251
        },
        "outputId": "e8cd5584-6bf1-4449-e6e5-bc87bcbab125"
      },
      "source": [
        "%%R\n",
        "x5 <- to.period(SPY['2015'], 'months')\n",
        "tail(x5)"
      ],
      "execution_count": 43,
      "outputs": [
        {
          "output_type": "stream",
          "text": [
            "           SPY[\"2015\"].Open SPY[\"2015\"].High SPY[\"2015\"].Low SPY[\"2015\"].Close\n",
            "2015-07-31           207.73           213.18          204.11            210.50\n",
            "2015-08-31           210.46           211.31          182.40            197.67\n",
            "2015-09-30           193.12           202.89          186.93            191.63\n",
            "2015-10-30           192.08           209.44          189.12            207.93\n",
            "2015-11-30           208.32           211.66          202.18            208.69\n",
            "2015-12-31           209.44           211.00          199.83            203.87\n",
            "           SPY[\"2015\"].Volume SPY[\"2015\"].Adjusted\n",
            "2015-07-31         2452758000             190.5731\n",
            "2015-08-31         3734926900             178.9576\n",
            "2015-09-30         3279512900             174.3913\n",
            "2015-10-30         2536184400             189.2250\n",
            "2015-11-30         1924512800             189.9166\n",
            "2015-12-31         2924882300             186.6344\n"
          ],
          "name": "stdout"
        }
      ]
    },
    {
      "cell_type": "code",
      "metadata": {
        "id": "USLHn_j_-Y2J",
        "colab_type": "code",
        "colab": {
          "base_uri": "https://localhost:8080/",
          "height": 184
        },
        "outputId": "aebc00b1-04b6-4683-ff57-6aab4062b287"
      },
      "source": [
        "%%R\n",
        "x6 <- to.period(SPY['2015'], 'quarters') #trimestres\n",
        "tail(x6)"
      ],
      "execution_count": 44,
      "outputs": [
        {
          "output_type": "stream",
          "text": [
            "           SPY[\"2015\"].Open SPY[\"2015\"].High SPY[\"2015\"].Low SPY[\"2015\"].Close\n",
            "2015-03-31           206.38           212.24          197.86            206.43\n",
            "2015-06-30           206.39           213.78          204.51            205.85\n",
            "2015-09-30           207.73           213.18          182.40            191.63\n",
            "2015-12-31           192.08           211.66          189.12            203.87\n",
            "           SPY[\"2015\"].Volume SPY[\"2015\"].Adjusted\n",
            "2015-03-31         7835067100             185.9837\n",
            "2015-06-30         6464447700             186.3633\n",
            "2015-09-30         9467197800             174.3913\n",
            "2015-12-31         7385579500             186.6344\n"
          ],
          "name": "stdout"
        }
      ]
    },
    {
      "cell_type": "code",
      "metadata": {
        "id": "JnPZJKqK-Yyx",
        "colab_type": "code",
        "colab": {
          "base_uri": "https://localhost:8080/",
          "height": 251
        },
        "outputId": "49b86f61-e676-4037-98e4-e87abd61e9ce"
      },
      "source": [
        "%%R\n",
        "x7 <- to.monthly(SPY['2016'])\n",
        "head(x7)"
      ],
      "execution_count": 47,
      "outputs": [
        {
          "output_type": "stream",
          "text": [
            "         SPY[\"2016\"].Open SPY[\"2016\"].High SPY[\"2016\"].Low SPY[\"2016\"].Close\n",
            "Jan 2016           200.49           201.90          181.02            193.72\n",
            "Feb 2016           192.53           196.68          181.09            193.56\n",
            "Mar 2016           195.01           206.87          194.45            205.52\n",
            "Apr 2016           204.35           210.92          203.09            206.33\n",
            "May 2016           206.92           210.69          202.78            209.84\n",
            "Jun 2016           209.12           212.52          198.65            209.48\n",
            "         SPY[\"2016\"].Volume SPY[\"2016\"].Adjusted\n",
            "Jan 2016         3712950900             177.3425\n",
            "Feb 2016         2920730800             177.1960\n",
            "Mar 2016         2323306500             189.1153\n",
            "Apr 2016         1910635600             189.8607\n",
            "May 2016         1828530900             193.0905\n",
            "Jun 2016         2612406900             193.7616\n"
          ],
          "name": "stdout"
        }
      ]
    },
    {
      "cell_type": "code",
      "metadata": {
        "id": "oHRqgYdl-f0s",
        "colab_type": "code",
        "colab": {
          "base_uri": "https://localhost:8080/",
          "height": 184
        },
        "outputId": "7d2e8e8e-72a7-4fe5-dbcf-b73f4e8fbfd1"
      },
      "source": [
        "%%R\n",
        "x8 <- to.quarterly(SPY['2016'])\n",
        "head(x8)"
      ],
      "execution_count": 45,
      "outputs": [
        {
          "output_type": "stream",
          "text": [
            "        SPY[\"2016\"].Open SPY[\"2016\"].High SPY[\"2016\"].Low SPY[\"2016\"].Close\n",
            "2016 Q1           200.49           206.87          181.02            205.52\n",
            "2016 Q2           204.35           212.52          198.65            209.48\n",
            "2016 Q3           209.48           219.60          207.06            216.30\n",
            "2016 Q4           215.82           228.34          208.38            223.53\n",
            "        SPY[\"2016\"].Volume SPY[\"2016\"].Adjusted\n",
            "2016 Q1         8956988200             189.1153\n",
            "2016 Q2         6351573400             193.7616\n",
            "2016 Q3         5460549900             201.0805\n",
            "2016 Q4         5621422000             209.0266\n"
          ],
          "name": "stdout"
        }
      ]
    },
    {
      "cell_type": "code",
      "metadata": {
        "id": "6XTf5YpV-jix",
        "colab_type": "code",
        "colab": {
          "base_uri": "https://localhost:8080/",
          "height": 134
        },
        "outputId": "0147d7a5-cfe5-404d-fb19-75a62c43001f"
      },
      "source": [
        "%%R\n",
        "# Extraindo os dados apenas do fechamento\n",
        "head(SPY.Close)\n"
      ],
      "execution_count": 48,
      "outputs": [
        {
          "output_type": "stream",
          "text": [
            "           SPY.Close\n",
            "2007-01-03    141.37\n",
            "2007-01-04    141.67\n",
            "2007-01-05    140.54\n",
            "2007-01-08    141.19\n",
            "2007-01-09    141.07\n",
            "2007-01-10    141.54\n"
          ],
          "name": "stdout"
        }
      ]
    },
    {
      "cell_type": "code",
      "metadata": {
        "id": "DBvdMDwGAq4T",
        "colab_type": "code",
        "colab": {
          "base_uri": "https://localhost:8080/",
          "height": 134
        },
        "outputId": "a0138bd3-2423-4651-84ad-7adf2feb57af"
      },
      "source": [
        "%%R\n",
        "close1 <- SPY.Close['2015-01/2016-12']\n",
        "head(close1)"
      ],
      "execution_count": 50,
      "outputs": [
        {
          "output_type": "stream",
          "text": [
            "           SPY.Close\n",
            "2015-01-02    205.43\n",
            "2015-01-05    201.72\n",
            "2015-01-06    199.82\n",
            "2015-01-07    202.31\n",
            "2015-01-08    205.90\n",
            "2015-01-09    204.25\n"
          ],
          "name": "stdout"
        }
      ]
    },
    {
      "cell_type": "code",
      "metadata": {
        "id": "aKe4cEo3Azj4",
        "colab_type": "code",
        "colab": {
          "base_uri": "https://localhost:8080/",
          "height": 134
        },
        "outputId": "cb2a0f8a-8d54-4a6b-c7f4-e28f8e08fdd1"
      },
      "source": [
        "%%R\n",
        "close2 <- SPY.Close['/2015-07']\n",
        "head(close2)"
      ],
      "execution_count": 51,
      "outputs": [
        {
          "output_type": "stream",
          "text": [
            "           SPY.Close\n",
            "2007-01-03    141.37\n",
            "2007-01-04    141.67\n",
            "2007-01-05    140.54\n",
            "2007-01-08    141.19\n",
            "2007-01-09    141.07\n",
            "2007-01-10    141.54\n"
          ],
          "name": "stdout"
        }
      ]
    },
    {
      "cell_type": "code",
      "metadata": {
        "id": "kAWvalaHA7xi",
        "colab_type": "code",
        "colab": {
          "base_uri": "https://localhost:8080/",
          "height": 134
        },
        "outputId": "0448bc34-117c-4087-ab69-78e4703d8b0d"
      },
      "source": [
        "%%R\n",
        "close3 <- SPY.Close['2016']\n",
        "head(close3)"
      ],
      "execution_count": 53,
      "outputs": [
        {
          "output_type": "stream",
          "text": [
            "           SPY.Close\n",
            "2016-01-04    201.02\n",
            "2016-01-05    201.36\n",
            "2016-01-06    198.82\n",
            "2016-01-07    194.05\n",
            "2016-01-08    191.92\n",
            "2016-01-11    192.11\n"
          ],
          "name": "stdout"
        }
      ]
    },
    {
      "cell_type": "code",
      "metadata": {
        "id": "vclONB91BCnS",
        "colab_type": "code",
        "colab": {
          "base_uri": "https://localhost:8080/",
          "height": 134
        },
        "outputId": "001abfcd-7daf-46c7-c369-db844d5ee349"
      },
      "source": [
        "%%R\n",
        "close4 <- SPY.Close['2016-12']\n",
        "head(close4)"
      ],
      "execution_count": 54,
      "outputs": [
        {
          "output_type": "stream",
          "text": [
            "           SPY.Close\n",
            "2016-12-01    219.57\n",
            "2016-12-02    219.68\n",
            "2016-12-05    221.00\n",
            "2016-12-06    221.70\n",
            "2016-12-07    224.60\n",
            "2016-12-08    225.15\n"
          ],
          "name": "stdout"
        }
      ]
    },
    {
      "cell_type": "code",
      "metadata": {
        "id": "IvkA4xg8-jf6",
        "colab_type": "code",
        "colab": {
          "base_uri": "https://localhost:8080/",
          "height": 497
        },
        "outputId": "8ad862ab-d155-4d75-a579-9699402c620d"
      },
      "source": [
        "%%R\n",
        "# Plot\n",
        "plot(SPY.Close, main = \"Preços de Fechamento Diário para o Índice SP 500 (SPY)\",\n",
        "     col = \"red\",xlab = \"Data\", ylab = \"Preço\", major.ticks = 'years',\n",
        "     minor.ticks = FALSE)"
      ],
      "execution_count": 57,
      "outputs": [
        {
          "output_type": "display_data",
          "data": {
            "image/png": "[encoded data removed]"
          },
          "metadata": {
            "tags": []
          }
        }
      ]
    },
    {
      "cell_type": "code",
      "metadata": {
        "id": "9NsP_wRm-rfJ",
        "colab_type": "code",
        "colab": {}
      },
      "source": [
        "%%R\n",
        "# Log returns\n",
        "SPY.ret <- diff(log(SPY.Close), lag = 1)\n",
        "SPY.ret <- SPY.ret[-1]"
      ],
      "execution_count": 58,
      "outputs": []
    },
    {
      "cell_type": "code",
      "metadata": {
        "id": "hmagVVIm-rbm",
        "colab_type": "code",
        "colab": {
          "base_uri": "https://localhost:8080/",
          "height": 497
        },
        "outputId": "96faaa99-3724-44b9-ebf5-675544b2fd61"
      },
      "source": [
        "%%R\n",
        "# Plot\n",
        "plot(SPY.ret, main = \"Preços de Fechamento Diário para o Índice SP 500 (SPY)\",\n",
        "     col = \"red\", xlab = \"Data\", ylab = \"Retorno\", major.ticks = 'years',\n",
        "     minor.ticks = FALSE)"
      ],
      "execution_count": 60,
      "outputs": [
        {
          "output_type": "display_data",
          "data": {
            "image/png": "[encoded data removed]"
          },
          "metadata": {
            "tags": []
          }
        }
      ]
    },
    {
      "cell_type": "code",
      "metadata": {
        "id": "l53kYlRI8bh3",
        "colab_type": "code",
        "colab": {
          "base_uri": "https://localhost:8080/",
          "height": 50
        },
        "outputId": "e25d875b-ee4c-4ac9-f926-760f445fec8d"
      },
      "source": [
        "%%R\n",
        "# Estatísticas da Série Temporal\n",
        "\n",
        "# Vetor c/ nomes das estatísticas\n",
        "statNames <- c(\"media\", \"desvio padrao\", \"assimetria\", \"curtose\")\n",
        "# Vetor executando os cálculos\n",
        "SPY.stats <- c(mean(SPY.ret), sd(SPY.ret), skewness(SPY.ret), kurtosis(SPY.ret))\n",
        "# Nomear vetor\n",
        "names(SPY.stats) <- statNames\n",
        "# Show\n",
        "SPY.stats"
      ],
      "execution_count": 61,
      "outputs": [
        {
          "output_type": "stream",
          "text": [
            "        media desvio padrao    assimetria       curtose \n",
            " 0.0002322094  0.0131124460 -0.3621326957 17.4733954309 \n"
          ],
          "name": "stdout"
        }
      ]
    }
  ]
}