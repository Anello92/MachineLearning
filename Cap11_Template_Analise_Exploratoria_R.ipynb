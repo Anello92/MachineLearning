{
  "nbformat": 4,
  "nbformat_minor": 0,
  "metadata": {
    "colab": {
      "name": "Cap11-Template-Analise-Exploratoria-R.ipynb",
      "provenance": []
    },
    "kernelspec": {
      "name": "python3",
      "display_name": "Python 3"
    },
    "accelerator": "GPU"
  },
  "cells": [
    {
      "cell_type": "code",
      "metadata": {
        "id": "gxZZGPB8SvQW",
        "colab_type": "code",
        "outputId": "71bec234-045b-4136-ffed-5174b561c79c",
        "colab": {
          "base_uri": "https://localhost:8080/",
          "height": 107
        }
      },
      "source": [
        "# activate R magic\n",
        "%load_ext rpy2.ipython"
      ],
      "execution_count": 4,
      "outputs": [
        {
          "output_type": "stream",
          "text": [
            "/usr/local/lib/python3.6/dist-packages/rpy2/robjects/pandas2ri.py:14: FutureWarning: pandas.core.index is deprecated and will be removed in a future version.  The public classes are available in the top-level namespace.\n",
            "  from pandas.core.index import Index as PandasIndex\n",
            "/usr/local/lib/python3.6/dist-packages/rpy2/robjects/pandas2ri.py:34: UserWarning: pandas >= 1.0 is not supported.\n",
            "  warnings.warn('pandas >= 1.0 is not supported.')\n"
          ],
          "name": "stderr"
        }
      ]
    },
    {
      "cell_type": "markdown",
      "metadata": {
        "id": "ZrDS7k5mT1HI",
        "colab_type": "text"
      },
      "source": [
        "#**Análise Exploratória de Dados**"
      ]
    },
    {
      "cell_type": "code",
      "metadata": {
        "id": "nyjo0z0RT9RD",
        "colab_type": "code",
        "colab": {}
      },
      "source": [
        "%%R\n",
        "# Carregando o pacote readr\n",
        "install.packages(\"readr\")\n",
        "library(\"readr\")\n",
        "\n",
        "# Carregando o dataset\n",
        "carros <- read_csv(\"carros-usados.csv\")\n",
        "\n",
        "# Resumo dos dados\n",
        "str(carros)\n"
      ],
      "execution_count": 0,
      "outputs": []
    },
    {
      "cell_type": "markdown",
      "metadata": {
        "id": "wzxWRX6mVPD2",
        "colab_type": "text"
      },
      "source": [
        "##**Análise Exploratória de Dados - Variáveis Numéricas**"
      ]
    },
    {
      "cell_type": "code",
      "metadata": {
        "id": "QMXyqh7IVL-q",
        "colab_type": "code",
        "outputId": "f7a6c73f-555d-4495-ff03-0e39aa7dad18",
        "colab": {
          "base_uri": "https://localhost:8080/",
          "height": 35
        }
      },
      "source": [
        "%%R#Calcular a média de preço \n",
        "mean(carros$preco)"
      ],
      "execution_count": 0,
      "outputs": [
        {
          "output_type": "stream",
          "text": [
            "[1] 12961.93\n"
          ],
          "name": "stdout"
        }
      ]
    },
    {
      "cell_type": "code",
      "metadata": {
        "id": "PzGABs3mVY5b",
        "colab_type": "code",
        "outputId": "1230ed74-a70a-45d3-b4b5-0fc1cc9e486b",
        "colab": {
          "base_uri": "https://localhost:8080/",
          "height": 35
        }
      },
      "source": [
        "%%R#Caclular a mediana de preço, não está numa distribuição normal de acordo à média\n",
        "median(carros$preco)"
      ],
      "execution_count": 0,
      "outputs": [
        {
          "output_type": "stream",
          "text": [
            "[1] 13591.5\n"
          ],
          "name": "stdout"
        }
      ]
    },
    {
      "cell_type": "code",
      "metadata": {
        "id": "hwG16-7vVY2a",
        "colab_type": "code",
        "outputId": "8e7e63ca-1d55-43ca-b096-929631109485",
        "colab": {
          "base_uri": "https://localhost:8080/",
          "height": 52
        }
      },
      "source": [
        "%%R#Calcular quartis\n",
        "quantile(carros$preco)"
      ],
      "execution_count": 0,
      "outputs": [
        {
          "output_type": "stream",
          "text": [
            "     0%     25%     50%     75%    100% \n",
            " 3800.0 10995.0 13591.5 14904.5 21992.0 \n"
          ],
          "name": "stdout"
        }
      ]
    },
    {
      "cell_type": "code",
      "metadata": {
        "id": "thXYT8grVYzi",
        "colab_type": "code",
        "outputId": "10da0d76-9a4a-4fc7-b757-b9b802660d11",
        "colab": {
          "base_uri": "https://localhost:8080/",
          "height": 52
        }
      },
      "source": [
        "%%R#Calcular percentis\n",
        "quantile(carros$preco, probs = c(0.01, 0.99))"
      ],
      "execution_count": 0,
      "outputs": [
        {
          "output_type": "stream",
          "text": [
            "      1%      99% \n",
            " 5428.69 20505.00 \n"
          ],
          "name": "stdout"
        }
      ]
    },
    {
      "cell_type": "code",
      "metadata": {
        "id": "ohcbnRAkVYwn",
        "colab_type": "code",
        "outputId": "053a4d39-dcee-4956-d86c-9e817f74e71c",
        "colab": {
          "base_uri": "https://localhost:8080/",
          "height": 52
        }
      },
      "source": [
        "%%R#Calcular percentis específicos\n",
        "quantile(carros$preco, seq( from = 0, to = 1, by = 0.20))"
      ],
      "execution_count": 0,
      "outputs": [
        {
          "output_type": "stream",
          "text": [
            "     0%     20%     40%     60%     80%    100% \n",
            " 3800.0 10759.4 12993.8 13992.0 14999.0 21992.0 \n"
          ],
          "name": "stdout"
        }
      ]
    },
    {
      "cell_type": "code",
      "metadata": {
        "id": "EGs-7nB1VYta",
        "colab_type": "code",
        "outputId": "a02a9652-be61-4d68-a2af-900379312506",
        "colab": {
          "base_uri": "https://localhost:8080/",
          "height": 35
        }
      },
      "source": [
        "%%R#Diferença interquartil, diferença entre Q3 e Q1\n",
        "IQR(carros$preco) "
      ],
      "execution_count": 0,
      "outputs": [
        {
          "output_type": "stream",
          "text": [
            "[1] 3909.5\n"
          ],
          "name": "stdout"
        }
      ]
    },
    {
      "cell_type": "code",
      "metadata": {
        "id": "T9ieuPY2Vfpj",
        "colab_type": "code",
        "outputId": "9ee30c22-c9c9-4898-913a-abed6fa73d02",
        "colab": {
          "base_uri": "https://localhost:8080/",
          "height": 35
        }
      },
      "source": [
        "%%R#Visualizar valor mínimo e valor máximo \n",
        "range(carros$preco)"
      ],
      "execution_count": 0,
      "outputs": [
        {
          "output_type": "stream",
          "text": [
            "[1]  3800 21992\n"
          ],
          "name": "stdout"
        }
      ]
    },
    {
      "cell_type": "code",
      "metadata": {
        "id": "ux2K1zOyVgn7",
        "colab_type": "code",
        "colab": {
          "base_uri": "https://localhost:8080/",
          "height": 34
        },
        "outputId": "03224186-14eb-43fa-f59c-eb988a82e67f"
      },
      "source": [
        "%%R#Diferença entre o valor mínimo e o valor máximo\n",
        "diff(range(carros$preco))"
      ],
      "execution_count": 8,
      "outputs": [
        {
          "output_type": "stream",
          "text": [
            "[1] 18192\n"
          ],
          "name": "stdout"
        }
      ]
    },
    {
      "cell_type": "markdown",
      "metadata": {
        "id": "7kW-wLUBV_jC",
        "colab_type": "text"
      },
      "source": [
        "##**Boxplot** - Análise Univariada\n",
        "\n",
        "Leitura de Baixo para Cima - Q1, Q2 (Mediana) e Q3"
      ]
    },
    {
      "cell_type": "code",
      "metadata": {
        "id": "TPVmTAXJWBoi",
        "colab_type": "code",
        "outputId": "c76a6403-19f7-430c-a523-24a3f669b754",
        "colab": {
          "base_uri": "https://localhost:8080/",
          "height": 497
        }
      },
      "source": [
        "%%R\n",
        "boxplot(carros$preco, main = \"Boxplot para os Preços de Carros Usados\", ylab = \"Preço (R$)\")"
      ],
      "execution_count": 0,
      "outputs": [
        {
          "output_type": "display_data",
          "data": {
            "image/png": "[encoded data removed]"
          },
          "metadata": {
            "tags": []
          }
        }
      ]
    },
    {
      "cell_type": "code",
      "metadata": {
        "id": "hwdVE28iWD1U",
        "colab_type": "code",
        "outputId": "30bdb32d-dcc9-4fa6-eb9e-6ac191c805b7",
        "colab": {
          "base_uri": "https://localhost:8080/",
          "height": 497
        }
      },
      "source": [
        "%%R\n",
        "boxplot(carros$kilometragem, main = \"Boxplot para a Km de Carros Usados\", ylab = \"Kilometragem (R$)\")"
      ],
      "execution_count": 0,
      "outputs": [
        {
          "output_type": "display_data",
          "data": {
            "image/png": "[encoded data removed]"
          },
          "metadata": {
            "tags": []
          }
        }
      ]
    },
    {
      "cell_type": "markdown",
      "metadata": {
        "id": "ybAiLr4oWNnv",
        "colab_type": "text"
      },
      "source": [
        "##**Histograma** - Análise Univariada"
      ]
    },
    {
      "cell_type": "code",
      "metadata": {
        "id": "-FRw01TtWnRA",
        "colab_type": "code",
        "outputId": "0c64900a-0f6f-4465-c59b-e506ce4d538f",
        "colab": {
          "base_uri": "https://localhost:8080/",
          "height": 497
        }
      },
      "source": [
        "# Indicam a frequência de valores dentro de cada bin (classe de valores)\n",
        "%%R\n",
        "hist(carros$preco, main = \"Histograma para os Preços Carros Usados\", xlab = \"Preço (R$)\")"
      ],
      "execution_count": 0,
      "outputs": [
        {
          "output_type": "display_data",
          "data": {
            "image/png": "[encoded data removed]"
          },
          "metadata": {
            "tags": []
          }
        }
      ]
    },
    {
      "cell_type": "code",
      "metadata": {
        "id": "1k5SjI-wWqhh",
        "colab_type": "code",
        "outputId": "15582355-19ef-49a1-b015-3a1da142f77e",
        "colab": {
          "base_uri": "https://localhost:8080/",
          "height": 497
        }
      },
      "source": [
        "%%R\n",
        "hist(carros$kilometragem, main = \"Histograma para a Km de Carros Usados\", ylab = \"Kilometragem (R$)\")"
      ],
      "execution_count": 0,
      "outputs": [
        {
          "output_type": "display_data",
          "data": {
            "image/png": "[encoded data removed]"
          },
          "metadata": {
            "tags": []
          }
        }
      ]
    },
    {
      "cell_type": "code",
      "metadata": {
        "id": "zMPPO5WyWqcz",
        "colab_type": "code",
        "outputId": "6b7e8635-9dfa-4317-c3e7-33810d0ee35d",
        "colab": {
          "base_uri": "https://localhost:8080/",
          "height": 497
        }
      },
      "source": [
        "%%R\n",
        "hist(carros$kilometragem, main = \"Histograma para a Km de Carros Usados\", breaks = 5, ylab = \"Kilometragem (R$)\")"
      ],
      "execution_count": 0,
      "outputs": [
        {
          "output_type": "display_data",
          "data": {
            "image/png": "[encoded data removed]"
          },
          "metadata": {
            "tags": []
          }
        }
      ]
    },
    {
      "cell_type": "markdown",
      "metadata": {
        "id": "sufjskBAWw0O",
        "colab_type": "text"
      },
      "source": [
        "#**Scatterplot** - Análise Multivariada\n",
        "\n",
        "### Relação entre a variável preço e a a variável km rodados\n",
        "\n",
        "Observando o gráfico temos que a medida que aumenta a kilometragem, o preço diminui."
      ]
    },
    {
      "cell_type": "code",
      "metadata": {
        "id": "iL6ngaPvW1bD",
        "colab_type": "code",
        "outputId": "b13454ee-d2e5-4845-92e4-c2d848498bb8",
        "colab": {
          "base_uri": "https://localhost:8080/",
          "height": 497
        }
      },
      "source": [
        "# Usando o preço como variável dependente (y)\n",
        "%%R\n",
        "plot(x = carros$kilometragem, y = carros$preco,\n",
        "     main = \"Scatterplot - Preço x Km\",\n",
        "     xlab = \"Kilometragem\",\n",
        "     ylab = \"Preço (R$)\")"
      ],
      "execution_count": 0,
      "outputs": [
        {
          "output_type": "display_data",
          "data": {
            "image/png": "[encoded data removed]"
          },
          "metadata": {
            "tags": []
          }
        }
      ]
    },
    {
      "cell_type": "markdown",
      "metadata": {
        "id": "ZoL8_ysxWwyt",
        "colab_type": "text"
      },
      "source": [
        "##**Medidas de Dispersão**\n",
        "\n",
        "### Valores altos indicam dados muito espalhados com relação a média.\n",
        "\n",
        "### A média é a métrica inicial. Em torno da média teremos a distribuição dos dados e dependendo da distribuição destes, poderá afetar o modelo de Machine Learning. \n",
        "\n",
        "\n"
      ]
    },
    {
      "cell_type": "code",
      "metadata": {
        "id": "AKFz1XamXLVi",
        "colab_type": "code",
        "outputId": "a193f4eb-07c1-42eb-caf8-21e3b6fc0ef5",
        "colab": {
          "base_uri": "https://localhost:8080/",
          "height": 34
        }
      },
      "source": [
        "# Números maiores indicam que os dados estão espalhados mais amplamente em torno da média. \n",
        "%%R# Variância da variável preço\n",
        "var(carros$preco)"
      ],
      "execution_count": 9,
      "outputs": [
        {
          "output_type": "stream",
          "text": [
            "[1] 9749892\n"
          ],
          "name": "stdout"
        }
      ]
    },
    {
      "cell_type": "code",
      "metadata": {
        "id": "lNU3SfKZXXbY",
        "colab_type": "code",
        "outputId": "1b5628b8-776b-4e63-fbdb-c4272c2029ae",
        "colab": {
          "base_uri": "https://localhost:8080/",
          "height": 35
        }
      },
      "source": [
        "%% # Desvio-Padrão indica, em média, a quantidade de cada valor diferente da média.\n",
        "sd(carros$preco)"
      ],
      "execution_count": 0,
      "outputs": [
        {
          "output_type": "stream",
          "text": [
            "[1] 3122.482\n"
          ],
          "name": "stdout"
        }
      ]
    },
    {
      "cell_type": "code",
      "metadata": {
        "id": "wuM7FhLhXXYb",
        "colab_type": "code",
        "outputId": "f4fc0f7e-97dc-442f-e4a1-96e37bcabdb4",
        "colab": {
          "base_uri": "https://localhost:8080/",
          "height": 35
        }
      },
      "source": [
        "%%R# Variância da variável kilometragem         \n",
        "var(carros$kilometragem)"
      ],
      "execution_count": 0,
      "outputs": [
        {
          "output_type": "stream",
          "text": [
            "[1] 728033954\n"
          ],
          "name": "stdout"
        }
      ]
    },
    {
      "cell_type": "code",
      "metadata": {
        "id": "_8XKcob8XXUI",
        "colab_type": "code",
        "outputId": "b7ab06b4-d705-428b-d5f5-c41d117a1535",
        "colab": {
          "base_uri": "https://localhost:8080/",
          "height": 34
        }
      },
      "source": [
        "%%R# Desvio-Padrão da variável kilometragem\n",
        "sd(carros$kilometragem)"
      ],
      "execution_count": 0,
      "outputs": [
        {
          "output_type": "stream",
          "text": [
            "[1] 26982.1\n"
          ],
          "name": "stdout"
        }
      ]
    },
    {
      "cell_type": "markdown",
      "metadata": {
        "id": "slZ7TC_Euno8",
        "colab_type": "text"
      },
      "source": [
        "---"
      ]
    },
    {
      "cell_type": "markdown",
      "metadata": {
        "id": "9CX9frktX8fX",
        "colab_type": "text"
      },
      "source": [
        "##**Análise Exploratória de Dados - Variáveis Categóricas**\n",
        "\n",
        "---\n",
        "\n"
      ]
    },
    {
      "cell_type": "code",
      "metadata": {
        "id": "J5NilCFpvGqY",
        "colab_type": "code",
        "colab": {
          "base_uri": "https://localhost:8080/",
          "height": 301
        },
        "outputId": "3ed8c72e-1fc1-4e0b-a000-dc0906876598"
      },
      "source": [
        "%%R\n",
        "str(carros)"
      ],
      "execution_count": 10,
      "outputs": [
        {
          "output_type": "stream",
          "text": [
            "tibble [150 × 6] (S3: spec_tbl_df/tbl_df/tbl/data.frame)\n",
            " $ ano         : num [1:150] 2011 2011 2011 2011 2012 ...\n",
            " $ modelo      : chr [1:150] \"SEL\" \"SEL\" \"SEL\" \"SEL\" ...\n",
            " $ preco       : num [1:150] 21992 20995 19995 17809 17500 ...\n",
            " $ kilometragem: num [1:150] 7413 10926 7351 11613 8367 ...\n",
            " $ cor         : chr [1:150] \"Bege\" \"Cinza\" \"Prata\" \"Cinza\" ...\n",
            " $ transmissao : chr [1:150] \"AUTO\" \"AUTO\" \"AUTO\" \"AUTO\" ...\n",
            " - attr(*, \"spec\")=\n",
            "  .. cols(\n",
            "  ..   ano = col_double(),\n",
            "  ..   modelo = col_character(),\n",
            "  ..   preco = col_double(),\n",
            "  ..   kilometragem = col_double(),\n",
            "  ..   cor = col_character(),\n",
            "  ..   transmissao = col_character()\n",
            "  .. )\n"
          ],
          "name": "stdout"
        }
      ]
    },
    {
      "cell_type": "markdown",
      "metadata": {
        "id": "B7U3ui-fv7c-",
        "colab_type": "text"
      },
      "source": [
        "###**Table de contingência**"
      ]
    },
    {
      "cell_type": "code",
      "metadata": {
        "id": "0zJeMTBWYqqE",
        "colab_type": "code",
        "colab": {
          "base_uri": "https://localhost:8080/",
          "height": 105
        },
        "outputId": "5af2262e-588e-4b71-92b1-9cd9f04a004c"
      },
      "source": [
        "%%R#Contou quantas vezes cada linha aparece com a respectiva cor, na coluna cor.\n",
        "table(carros$cor"
      ],
      "execution_count": 16,
      "outputs": [
        {
          "output_type": "stream",
          "text": [
            "\n",
            "    Azul     Bege   Branco    Cinza     Gold    Prata    Preto    Verde \n",
            "      17        3       16       16        1       32       35        5 \n",
            "Vermelho \n",
            "      25 \n"
          ],
          "name": "stdout"
        }
      ]
    },
    {
      "cell_type": "markdown",
      "metadata": {
        "id": "E2y-IiOvwENV",
        "colab_type": "text"
      },
      "source": [
        "###**Contingência de modelos**"
      ]
    },
    {
      "cell_type": "code",
      "metadata": {
        "id": "KjJ9PCVVYqlq",
        "colab_type": "code",
        "colab": {
          "base_uri": "https://localhost:8080/",
          "height": 70
        },
        "outputId": "46a50521-0090-4dbb-d167-11a48e9fc327"
      },
      "source": [
        "%%R\n",
        "table(carros$modelo)"
      ],
      "execution_count": 15,
      "outputs": [
        {
          "output_type": "stream",
          "text": [
            "\n",
            " SE SEL SES \n",
            " 78  23  49 \n"
          ],
          "name": "stdout"
        }
      ]
    },
    {
      "cell_type": "markdown",
      "metadata": {
        "id": "0TUWc4cMYy7F",
        "colab_type": "text"
      },
      "source": [
        "##**Calculando a proporção de cada categoria**"
      ]
    },
    {
      "cell_type": "code",
      "metadata": {
        "id": "tEZlQu9bY5rT",
        "colab_type": "code",
        "colab": {
          "base_uri": "https://localhost:8080/",
          "height": 70
        },
        "outputId": "a19ede99-1969-4e6e-d3cb-a2d13f1c752c"
      },
      "source": [
        "%%R #calculando a tabela de contigência modelo e colocando no objeto de \"contingência modelo\"\n",
        "model_table <- table(carros$modelo)\n",
        "model_table"
      ],
      "execution_count": 19,
      "outputs": [
        {
          "output_type": "stream",
          "text": [
            "\n",
            " SE SEL SES \n",
            " 78  23  49 \n"
          ],
          "name": "stdout"
        }
      ]
    },
    {
      "cell_type": "code",
      "metadata": {
        "id": "h4DW7I6PZCUs",
        "colab_type": "code",
        "colab": {
          "base_uri": "https://localhost:8080/",
          "height": 70
        },
        "outputId": "caf2853b-17a3-4edd-f949-8092da945109"
      },
      "source": [
        "%%R #esta função calcula a proporção de cata categoria dentro da tabela de contingência\n",
        "prop.table(model_table)"
      ],
      "execution_count": 20,
      "outputs": [
        {
          "output_type": "stream",
          "text": [
            "\n",
            "       SE       SEL       SES \n",
            "0.5200000 0.1533333 0.3266667 \n"
          ],
          "name": "stdout"
        }
      ]
    },
    {
      "cell_type": "markdown",
      "metadata": {
        "id": "UxatcCXhZFBb",
        "colab_type": "text"
      },
      "source": [
        "##**Arredondando os valores**"
      ]
    },
    {
      "cell_type": "code",
      "metadata": {
        "id": "AInDmfnWZHMH",
        "colab_type": "code",
        "colab": {}
      },
      "source": [
        "%%R\n",
        "model_table <- table(carros$modelo)"
      ],
      "execution_count": 0,
      "outputs": []
    },
    {
      "cell_type": "code",
      "metadata": {
        "id": "mOa4TWIdZH1z",
        "colab_type": "code",
        "colab": {
          "base_uri": "https://localhost:8080/",
          "height": 70
        },
        "outputId": "9bec27e3-9d07-4313-ea70-7dd38295e7b7"
      },
      "source": [
        "%%R \n",
        "model_table <- prop.table(model_table) * 100\n",
        "model_table"
      ],
      "execution_count": 23,
      "outputs": [
        {
          "output_type": "stream",
          "text": [
            "\n",
            "      SE      SEL      SES \n",
            "52.00000 15.33333 32.66667 \n"
          ],
          "name": "stdout"
        }
      ]
    },
    {
      "cell_type": "code",
      "metadata": {
        "id": "vFsMjsy_ZRRn",
        "colab_type": "code",
        "colab": {
          "base_uri": "https://localhost:8080/",
          "height": 70
        },
        "outputId": "53a39399-3e64-4a56-9185-260c44049393"
      },
      "source": [
        "%%R #arredondando para número de digitos depois da vírgula\n",
        "round(model_table, digits = 1)"
      ],
      "execution_count": 24,
      "outputs": [
        {
          "output_type": "stream",
          "text": [
            "\n",
            "  SE  SEL  SES \n",
            "52.0 15.3 32.7 \n"
          ],
          "name": "stdout"
        }
      ]
    },
    {
      "cell_type": "markdown",
      "metadata": {
        "id": "rSu-rAcGZ1_b",
        "colab_type": "text"
      },
      "source": [
        "##**Criando uma nova variável indicando cores conservadoras**\n",
        "#### (que as pessoas compram com mais frequência)"
      ]
    },
    {
      "cell_type": "code",
      "metadata": {
        "id": "i0FydiEYZ5yU",
        "colab_type": "code",
        "colab": {
          "base_uri": "https://localhost:8080/",
          "height": 176
        },
        "outputId": "7ccd57a5-33ba-42bf-8bce-f3c28783b9c6"
      },
      "source": [
        "%%R\n",
        "head(carros)"
      ],
      "execution_count": 25,
      "outputs": [
        {
          "output_type": "stream",
          "text": [
            "# A tibble: 6 x 6\n",
            "    ano modelo preco kilometragem cor    transmissao\n",
            "  <dbl> <chr>  <dbl>        <dbl> <chr>  <chr>      \n",
            "1  2011 SEL    21992         7413 Bege   AUTO       \n",
            "2  2011 SEL    20995        10926 Cinza  AUTO       \n",
            "3  2011 SEL    19995         7351 Prata  AUTO       \n",
            "4  2011 SEL    17809        11613 Cinza  AUTO       \n",
            "5  2012 SE     17500         8367 Branco AUTO       \n",
            "6  2010 SEL    17495        25125 Prata  AUTO       \n"
          ],
          "name": "stdout"
        }
      ]
    },
    {
      "cell_type": "code",
      "metadata": {
        "id": "cWRlEMd_aBUJ",
        "colab_type": "code",
        "colab": {}
      },
      "source": [
        "%%R #criada uma nova coluna chamada convserv dentro do dataset\n",
        "carros$conserv <- carros$cor %in% c(\"Preto\", \"Cinza\", \"Prata\", \"Branco\")"
      ],
      "execution_count": 0,
      "outputs": []
    },
    {
      "cell_type": "code",
      "metadata": {
        "id": "jca9MGEGaDlr",
        "colab_type": "code",
        "colab": {
          "base_uri": "https://localhost:8080/",
          "height": 176
        },
        "outputId": "327af6e4-c479-40ac-a89e-545fa4cfc08d"
      },
      "source": [
        "%%R\n",
        "head(carros)"
      ],
      "execution_count": 29,
      "outputs": [
        {
          "output_type": "stream",
          "text": [
            "# A tibble: 6 x 7\n",
            "    ano modelo preco kilometragem cor    transmissao conserv\n",
            "  <dbl> <chr>  <dbl>        <dbl> <chr>  <chr>       <lgl>  \n",
            "1  2011 SEL    21992         7413 Bege   AUTO        FALSE  \n",
            "2  2011 SEL    20995        10926 Cinza  AUTO        TRUE   \n",
            "3  2011 SEL    19995         7351 Prata  AUTO        TRUE   \n",
            "4  2011 SEL    17809        11613 Cinza  AUTO        TRUE   \n",
            "5  2012 SE     17500         8367 Branco AUTO        TRUE   \n",
            "6  2010 SEL    17495        25125 Prata  AUTO        TRUE   \n"
          ],
          "name": "stdout"
        }
      ]
    },
    {
      "cell_type": "markdown",
      "metadata": {
        "id": "rPd3V-K1aFf8",
        "colab_type": "text"
      },
      "source": [
        "##**Checando a variável**"
      ]
    },
    {
      "cell_type": "code",
      "metadata": {
        "id": "j2jhOpbgzlnw",
        "colab_type": "code",
        "colab": {
          "base_uri": "https://localhost:8080/",
          "height": 70
        },
        "outputId": "0b7205ef-3e2d-4517-e0de-f09d32eb6b9b"
      },
      "source": [
        "%%R #O table aplicado a carros$conserv retra a preferência por si\n",
        "table(carros$conserv)"
      ],
      "execution_count": 32,
      "outputs": [
        {
          "output_type": "stream",
          "text": [
            "\n",
            "FALSE  TRUE \n",
            "   51    99 \n"
          ],
          "name": "stdout"
        }
      ]
    },
    {
      "cell_type": "markdown",
      "metadata": {
        "id": "L5zg8ecGzmBe",
        "colab_type": "text"
      },
      "source": [
        "---"
      ]
    },
    {
      "cell_type": "markdown",
      "metadata": {
        "id": "tjLk1Aqv1MMO",
        "colab_type": "text"
      },
      "source": [
        "##**CrossTable** {gmodels}\n",
        "\n",
        "### Tabulação Cruzada e Relacionamento de Variáveis Categóricas\n",
        "\n",
        "### Exibir frequências e frequências relativas de observações\n",
        "\n",
        "\n"
      ]
    },
    {
      "cell_type": "code",
      "metadata": {
        "id": "98Mz0VbCaNfy",
        "colab_type": "code",
        "colab": {}
      },
      "source": [
        "%%R\n",
        "install.packages(\"gmodels\")\n",
        "library(gmodels)"
      ],
      "execution_count": 0,
      "outputs": []
    },
    {
      "cell_type": "code",
      "metadata": {
        "id": "lZuL_JvN1CqQ",
        "colab_type": "code",
        "colab": {
          "base_uri": "https://localhost:8080/",
          "height": 746
        },
        "outputId": "cea32818-39e8-4e09-df23-fb0557b35859"
      },
      "source": [
        "%%R\n",
        "CrossTable(x = carros$modelo, y = carros$conserv) \n",
        "#Tabulação dos três modelos em relação às cores não conservadores (FALSE) e conservadoras (TRUE)"
      ],
      "execution_count": 35,
      "outputs": [
        {
          "output_type": "stream",
          "text": [
            "\n",
            " \n",
            "   Cell Contents\n",
            "|-------------------------|\n",
            "|                       N |\n",
            "| Chi-square contribution |\n",
            "|           N / Row Total |\n",
            "|           N / Col Total |\n",
            "|         N / Table Total |\n",
            "|-------------------------|\n",
            "\n",
            " \n",
            "Total Observations in Table:  150 \n",
            "\n",
            " \n",
            "              | carros$conserv \n",
            "carros$modelo |     FALSE |      TRUE | Row Total | \n",
            "--------------|-----------|-----------|-----------|\n",
            "           SE |        27 |        51 |        78 | \n",
            "              |     0.009 |     0.004 |           | \n",
            "              |     0.346 |     0.654 |     0.520 | \n",
            "              |     0.529 |     0.515 |           | \n",
            "              |     0.180 |     0.340 |           | \n",
            "--------------|-----------|-----------|-----------|\n",
            "          SEL |         7 |        16 |        23 | \n",
            "              |     0.086 |     0.044 |           | \n",
            "              |     0.304 |     0.696 |     0.153 | \n",
            "              |     0.137 |     0.162 |           | \n",
            "              |     0.047 |     0.107 |           | \n",
            "--------------|-----------|-----------|-----------|\n",
            "          SES |        17 |        32 |        49 | \n",
            "              |     0.007 |     0.004 |           | \n",
            "              |     0.347 |     0.653 |     0.327 | \n",
            "              |     0.333 |     0.323 |           | \n",
            "              |     0.113 |     0.213 |           | \n",
            "--------------|-----------|-----------|-----------|\n",
            " Column Total |        51 |        99 |       150 | \n",
            "              |     0.340 |     0.660 |           | \n",
            "--------------|-----------|-----------|-----------|\n",
            "\n",
            " \n"
          ],
          "name": "stdout"
        }
      ]
    },
    {
      "cell_type": "markdown",
      "metadata": {
        "id": "Xu6voIeebKGJ",
        "colab_type": "text"
      },
      "source": [
        "##**Teste Qui-Quadrado χ2**- Teste de hipóteses\n",
        "\n",
        "Quando quisermos realizar um teste de hipóteses considerando variáveis qualitativas, o teste Qui-Quadrado pode ser uma opção.\n",
        "\n",
        "É um teste que não depende de parâmetros populacionais, como média e variância.\n",
        "\n",
        "Quando observamos um dataset não podemos inferir se temos associação entre duas variáveis a menos que façamos os testes, seja testes entre variáveis numéricas ou categóricas."
      ]
    },
    {
      "cell_type": "code",
      "metadata": {
        "id": "C1FgD2jTbfBj",
        "colab_type": "code",
        "colab": {}
      },
      "source": [
        "# Qui Quadrado, simbolizado por χ2 é um teste de \n",
        "# hipóteses que se destina a encontrar um valor da \n",
        "# dispersão para duas variáveis nominais, avaliando a \n",
        "# associação existente entre variáveis qualitativas.\n",
        "\n",
        "# É um teste não paramétrico, ou seja, não depende dos \n",
        "# parâmetros populacionais, como média e variância.\n",
        "\n",
        "# O princípio básico deste método é comparar proporções, \n",
        "# isto é, as possíveis divergências entre as frequências \n",
        "# observadas e esperadas para um certo evento.\n",
        "\n",
        "# Evidentemente, pode-se dizer que dois grupos se \n",
        "# comportam de forma semelhante se as diferenças entre \n",
        "# as frequências observadas e as esperadas em cada \n",
        "# categoria forem muito pequenas, próximas a zero.\n",
        "\n",
        "# Ou seja, Se a probabilidade é muito baixa, ele fornece \n",
        "# fortes evidências de que as duas variáveis estão \n",
        "# associadas."
      ],
      "execution_count": 0,
      "outputs": []
    },
    {
      "cell_type": "code",
      "metadata": {
        "id": "OdmXOpYCbg2t",
        "colab_type": "code",
        "colab": {
          "base_uri": "https://localhost:8080/",
          "height": 906
        },
        "outputId": "0533e61c-cd6e-4331-f0fb-654de1daa307"
      },
      "source": [
        "%%R #Cross table  com variáveis categóricas de modelo e cor conservadora\n",
        "CrossTable(x = carros$modelo, y = carros$conserv, chisq = TRUE) #Habilitando Teste Qui-Quadrado\n"
      ],
      "execution_count": 36,
      "outputs": [
        {
          "output_type": "stream",
          "text": [
            "\n",
            " \n",
            "   Cell Contents\n",
            "|-------------------------|\n",
            "|                       N |\n",
            "| Chi-square contribution |\n",
            "|           N / Row Total |\n",
            "|           N / Col Total |\n",
            "|         N / Table Total |\n",
            "|-------------------------|\n",
            "\n",
            " \n",
            "Total Observations in Table:  150 \n",
            "\n",
            " \n",
            "              | carros$conserv \n",
            "carros$modelo |     FALSE |      TRUE | Row Total | \n",
            "--------------|-----------|-----------|-----------|\n",
            "           SE |        27 |        51 |        78 | \n",
            "              |     0.009 |     0.004 |           | \n",
            "              |     0.346 |     0.654 |     0.520 | \n",
            "              |     0.529 |     0.515 |           | \n",
            "              |     0.180 |     0.340 |           | \n",
            "--------------|-----------|-----------|-----------|\n",
            "          SEL |         7 |        16 |        23 | \n",
            "              |     0.086 |     0.044 |           | \n",
            "              |     0.304 |     0.696 |     0.153 | \n",
            "              |     0.137 |     0.162 |           | \n",
            "              |     0.047 |     0.107 |           | \n",
            "--------------|-----------|-----------|-----------|\n",
            "          SES |        17 |        32 |        49 | \n",
            "              |     0.007 |     0.004 |           | \n",
            "              |     0.347 |     0.653 |     0.327 | \n",
            "              |     0.333 |     0.323 |           | \n",
            "              |     0.113 |     0.213 |           | \n",
            "--------------|-----------|-----------|-----------|\n",
            " Column Total |        51 |        99 |       150 | \n",
            "              |     0.340 |     0.660 |           | \n",
            "--------------|-----------|-----------|-----------|\n",
            "\n",
            " \n",
            "Statistics for All Table Factors\n",
            "\n",
            "\n",
            "Pearson's Chi-squared test \n",
            "------------------------------------------------------------\n",
            "Chi^2 =  0.1539564     d.f. =  2     p =  0.92591 \n",
            "\n",
            "\n",
            " \n"
          ],
          "name": "stdout"
        }
      ]
    },
    {
      "cell_type": "code",
      "metadata": {
        "id": "B8BvkIAs_0l4",
        "colab_type": "code",
        "colab": {}
      },
      "source": [
        "# abaixo da tabela temos os d.f que são os graus de liberdade\n",
        "# abaixo da tabela temos o valor-p muito grande"
      ],
      "execution_count": 0,
      "outputs": []
    },
    {
      "cell_type": "markdown",
      "metadata": {
        "id": "eSNqk9PiALbB",
        "colab_type": "text"
      },
      "source": [
        "#**chisq.test()**"
      ]
    },
    {
      "cell_type": "code",
      "metadata": {
        "id": "debIt5bRbjDQ",
        "colab_type": "code",
        "colab": {
          "base_uri": "https://localhost:8080/",
          "height": 124
        },
        "outputId": "f76ea2a6-9a7f-4ebb-c4c0-bb6a1b9bf78d"
      },
      "source": [
        "%%R #Outra forma de aplicar o Qui-Quadrado é com a função chisq.test()\n",
        "chisq.test(x = carros$modelo, y = carros$conserv)\n"
      ],
      "execution_count": 37,
      "outputs": [
        {
          "output_type": "stream",
          "text": [
            "\n",
            "\tPearson's Chi-squared test\n",
            "\n",
            "data:  carros$modelo and carros$conserv\n",
            "X-squared = 0.15396, df = 2, p-value = 0.9259\n",
            "\n"
          ],
          "name": "stdout"
        }
      ]
    },
    {
      "cell_type": "markdown",
      "metadata": {
        "id": "A83jAM04AQkz",
        "colab_type": "text"
      },
      "source": [
        "##**Trabalhamos com 2 hipóteses** - Aplicar contradições e validar a verdadeira\n",
        "\n",
        "Quando definimos um teste de hipótese normalmente estamos olhando para problemas de negócio. Mas também podemos usá-lo para validar as nossas variáveis, as informações do próprio dataset. Ou seja, se duas variáveis tem relação entre si. "
      ]
    },
    {
      "cell_type": "markdown",
      "metadata": {
        "id": "YtwDjITVAcpS",
        "colab_type": "text"
      },
      "source": [
        "###**Hipótese nula**"
      ]
    },
    {
      "cell_type": "code",
      "metadata": {
        "id": "Y1_Ctv4xbk0C",
        "colab_type": "code",
        "colab": {}
      },
      "source": [
        "# Hipótese nula: As frequências observadas não são diferentes das frequências esperadas.\n",
        "# Não existe diferença entre as frequências (contagens) dos grupos.\n",
        "# Portanto, não há associação entre os grupos\n"
      ],
      "execution_count": 0,
      "outputs": []
    },
    {
      "cell_type": "markdown",
      "metadata": {
        "id": "ik_DupmKAf8U",
        "colab_type": "text"
      },
      "source": [
        "###**Hipótese alternativa** "
      ]
    },
    {
      "cell_type": "code",
      "metadata": {
        "id": "WZJ-ZZ5_bmdA",
        "colab_type": "code",
        "colab": {}
      },
      "source": [
        "# Hipótese alternativa: As frequências observadas são diferentes das frequências esperadas, \n",
        "# portanto existe diferença entre as frequências.\n",
        "# Portanto, há associação entre os grupos.\n",
        "\n",
        "# Neste caso o valor do chi = 0.15\n",
        "# Graus de liberdade (df) = 2\n",
        "# Indicando que não há associação entre os grupos\n",
        "# O valor alto do p-value confirma esta conclusão"
      ],
      "execution_count": 0,
      "outputs": []
    }
  ]
}