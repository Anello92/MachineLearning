{
  "nbformat": 4,
  "nbformat_minor": 0,
  "metadata": {
    "colab": {
      "name": "Fraud_Analytics_2_Amostragem.ipynb",
      "provenance": []
    },
    "kernelspec": {
      "name": "python3",
      "display_name": "Python 3"
    }
  },
  "cells": [
    {
      "cell_type": "markdown",
      "metadata": {
        "id": "gFTYDLb-Gp8y",
        "colab_type": "text"
      },
      "source": [
        "#**Fraud Analytics - Separação dos Dados em diferentes amostras**"
      ]
    },
    {
      "cell_type": "code",
      "metadata": {
        "id": "n5EVriLzDEkd",
        "colab_type": "code",
        "colab": {}
      },
      "source": [
        "# activate R magic\n",
        "%load_ext rpy2.ipython"
      ],
      "execution_count": null,
      "outputs": []
    },
    {
      "cell_type": "markdown",
      "metadata": {
        "id": "Iqu5KVXHG-pY",
        "colab_type": "text"
      },
      "source": [
        "##**Carregar dados**"
      ]
    },
    {
      "cell_type": "code",
      "metadata": {
        "id": "GKHxlVDAG8cM",
        "colab_type": "code",
        "colab": {}
      },
      "source": [
        "%%R\n",
        "dados = read.csv(\"dataset_source.csv\")\n",
        "dim(dados)\n",
        "# View(dados)"
      ],
      "execution_count": null,
      "outputs": []
    },
    {
      "cell_type": "code",
      "metadata": {
        "id": "dor-TUrHG8Y6",
        "colab_type": "code",
        "colab": {}
      },
      "source": [
        "%%R\n",
        "str(dados)"
      ],
      "execution_count": null,
      "outputs": []
    },
    {
      "cell_type": "markdown",
      "metadata": {
        "id": "VZ5cKVZ1HStl",
        "colab_type": "text"
      },
      "source": [
        "##**Split de dados**"
      ]
    },
    {
      "cell_type": "code",
      "metadata": {
        "id": "x72p_x_TG8WI",
        "colab_type": "code",
        "colab": {}
      },
      "source": [
        "%%R\n",
        "?floor"
      ],
      "execution_count": null,
      "outputs": []
    },
    {
      "cell_type": "code",
      "metadata": {
        "id": "4yVQTSKIG8F3",
        "colab_type": "code",
        "colab": {}
      },
      "source": [
        "%%R\n",
        "amostra = floor(nrow(dados) 0.8) # 80% p/ treino e 20% p/ teste"
      ],
      "execution_count": null,
      "outputs": []
    },
    {
      "cell_type": "code",
      "metadata": {
        "id": "jW3TsYJBHmoT",
        "colab_type": "code",
        "colab": {}
      },
      "source": [
        "%%R\n",
        "dados = dados[sample(nrow(dados)),] # Amostragem"
      ],
      "execution_count": null,
      "outputs": []
    },
    {
      "cell_type": "markdown",
      "metadata": {
        "id": "AZydazNiIBRZ",
        "colab_type": "text"
      },
      "source": [
        "##**Dataset de Treino**"
      ]
    },
    {
      "cell_type": "code",
      "metadata": {
        "id": "fCVXY6fOHs6E",
        "colab_type": "code",
        "colab": {}
      },
      "source": [
        "%%R\n",
        "treino = dados[1:amostra, ] # dataset de Treino"
      ],
      "execution_count": null,
      "outputs": []
    },
    {
      "cell_type": "markdown",
      "metadata": {
        "id": "vHrOOnDiIE3F",
        "colab_type": "text"
      },
      "source": [
        "##**Dataset de Teste**"
      ]
    },
    {
      "cell_type": "code",
      "metadata": {
        "id": "BAPQDM-qHfbp",
        "colab_type": "code",
        "colab": {}
      },
      "source": [
        "%%R \n",
        "teste = dados[(amostra+1):nrow(dados), ] # dataset de Teste"
      ],
      "execution_count": null,
      "outputs": []
    },
    {
      "cell_type": "code",
      "metadata": {
        "id": "hgCGbpCxG8Ca",
        "colab_type": "code",
        "colab": {}
      },
      "source": [
        "%%R\n",
        "dim(treino)"
      ],
      "execution_count": null,
      "outputs": []
    },
    {
      "cell_type": "code",
      "metadata": {
        "id": "emnE_mELH6yf",
        "colab_type": "code",
        "colab": {}
      },
      "source": [
        "%%R\n",
        "dim(teste)"
      ],
      "execution_count": null,
      "outputs": []
    },
    {
      "cell_type": "markdown",
      "metadata": {
        "id": "nwlbRP84INVC",
        "colab_type": "text"
      },
      "source": [
        "##**Carregando dados de Treino**"
      ]
    },
    {
      "cell_type": "code",
      "metadata": {
        "id": "LgtDQOjpITjj",
        "colab_type": "code",
        "colab": {}
      },
      "source": [
        "treino = read.csv(\"dados_treino.csv\", header = T)\n",
        "treino$label = as.factor(treino$label)\n",
        "summary(treino$label)"
      ],
      "execution_count": null,
      "outputs": []
    },
    {
      "cell_type": "markdown",
      "metadata": {
        "id": "MPUWth1tIVgK",
        "colab_type": "text"
      },
      "source": [
        "##**Carregando dados de Teste e de Validação**\n"
      ]
    },
    {
      "cell_type": "code",
      "metadata": {
        "id": "FIjb2KOkIdAH",
        "colab_type": "code",
        "colab": {}
      },
      "source": [
        "%%R\n",
        "teste = read.csv(\"dados_teste.csv\")\n",
        "validate = read.csv(\"dados_validate.csv\")"
      ],
      "execution_count": null,
      "outputs": []
    },
    {
      "cell_type": "code",
      "metadata": {
        "id": "_cv7-ZPsIgqh",
        "colab_type": "code",
        "colab": {}
      },
      "source": [
        "# Carregando as amostras - Gerando escala nos dados\n",
        "# N = 1, 2, 3, 7\n",
        "# card_scale_trans_N    = (90 / N x número de transações nos últimos N dias no cartão / número de transações nos últimos 90 dias no cartão)\n",
        "# card_scale_amount_N   = (90 / N x valor total de transações nos últimos N dias no cartão / número de transações nos últimos 90 dias no cartão)\n",
        "# merch_scale_trans_N   = (90 / N x número de transações nos últimos N dias no comerciante / número de transações nos últimos 90 dias no comerciante)\n",
        "# merch_scale_amnount_N = (90 / N x valor total de transações nos últimos N dias no comerciante / quantidade total de transações nos últimos 90 dias no comerciante)\n",
        "# card_scale_dup_N      = (100 x número de transações de mesma quantidade nos últimos N dias com cartão / número de transações nos últimos N dias no cartão)\n",
        "# card_scale_dup_N      = (100 x número de transações de mesma quantidade nos últimos N dias no comerciante / número de transações nos últimos N dias no comerciante)\n",
        "# card_scale_state_N    = (100 x número de transações no dia anterior com o mesmo estado / número de transações no dia anterior no cartão)"
      ],
      "execution_count": null,
      "outputs": []
    },
    {
      "cell_type": "markdown",
      "metadata": {
        "id": "6omqLt2MIiNQ",
        "colab_type": "text"
      },
      "source": [
        "##**Gerando amostras**"
      ]
    },
    {
      "cell_type": "code",
      "metadata": {
        "id": "uOOaElkFIno5",
        "colab_type": "code",
        "colab": {}
      },
      "source": [
        "# Gerando amostras\n",
        "amostra1 = read.csv(\"amostra_1.csv\")\n",
        "#View(amostra1)\n",
        "amostra3 = read.csv(\"amostra_3.csv\")\n",
        "#View(amostra3)\n",
        "amostra5 = read.csv(\"amostra_5.csv\")\n",
        "#View(amostra5)\n",
        "amostra7 = read.csv(\"amostra_7.csv\")\n",
        "#View(amostra7)\n",
        "amostra10 = read.csv(\"amostra_10.csv\")\n",
        "#View(amostra10)"
      ],
      "execution_count": null,
      "outputs": []
    },
    {
      "cell_type": "code",
      "metadata": {
        "id": "tZLzxLAmI_ct",
        "colab_type": "code",
        "colab": {}
      },
      "source": [
        "%%R\n",
        "treino$label    = as.factor(treino$label)\n",
        "teste$label     = as.factor(teste$label)\n",
        "validate$label  = as.factor(validate$label)\n",
        "amostra1$label  = as.factor(amostra1$label)\n",
        "amostra3$label  = as.factor(amostra3$label)\n",
        "amostra5$label  = as.factor(amostra5$label)\n",
        "amostra7$label  = as.factor(amostra7$label)\n",
        "amostra10$label = as.factor(amostra10$label)"
      ],
      "execution_count": null,
      "outputs": []
    },
    {
      "cell_type": "markdown",
      "metadata": {
        "id": "gxyMxYwQJB3u",
        "colab_type": "text"
      },
      "source": [
        "##**As razões entre não-fraude são:\n",
        "\n",
        "- 1/1\n",
        "- 3/1\n",
        "- 5/1\n",
        "- 7/1\n",
        "- 10/1"
      ]
    },
    {
      "cell_type": "code",
      "metadata": {
        "id": "RbJJPVQoJOCF",
        "colab_type": "code",
        "colab": {}
      },
      "source": [
        "%%R\n",
        "summary(treino$label)"
      ],
      "execution_count": null,
      "outputs": []
    },
    {
      "cell_type": "code",
      "metadata": {
        "id": "ihXXAMqUJN8s",
        "colab_type": "code",
        "colab": {}
      },
      "source": [
        "%%R\n",
        "summary(teste$label)"
      ],
      "execution_count": null,
      "outputs": []
    },
    {
      "cell_type": "code",
      "metadata": {
        "id": "0TnuBcgUJN5V",
        "colab_type": "code",
        "colab": {}
      },
      "source": [
        "%%R\n",
        "summary(amostra1$label)"
      ],
      "execution_count": null,
      "outputs": []
    },
    {
      "cell_type": "code",
      "metadata": {
        "id": "agacsGrbJN2r",
        "colab_type": "code",
        "colab": {}
      },
      "source": [
        "%%R\n",
        "summary(amostra3$label)"
      ],
      "execution_count": null,
      "outputs": []
    },
    {
      "cell_type": "code",
      "metadata": {
        "id": "mwY9wHa5JN0G",
        "colab_type": "code",
        "colab": {}
      },
      "source": [
        "%%R\n",
        "summary(amostra5%label)"
      ],
      "execution_count": null,
      "outputs": []
    },
    {
      "cell_type": "code",
      "metadata": {
        "id": "IoIJ2JYOJchN",
        "colab_type": "code",
        "colab": {}
      },
      "source": [
        "%%R\n",
        "summary(amostra7$label)"
      ],
      "execution_count": null,
      "outputs": []
    },
    {
      "cell_type": "code",
      "metadata": {
        "id": "ar8vA9W7Jfp-",
        "colab_type": "code",
        "colab": {}
      },
      "source": [
        "%%R\n",
        "summary(amostra10$label)"
      ],
      "execution_count": null,
      "outputs": []
    }
  ]
}