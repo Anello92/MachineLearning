{
  "nbformat": 4,
  "nbformat_minor": 0,
  "metadata": {
    "colab": {
      "name": "Fraud_Analytics_4_Redes_Neurais.ipynb",
      "provenance": []
    },
    "kernelspec": {
      "name": "python3",
      "display_name": "Python 3"
    }
  },
  "cells": [
    {
      "cell_type": "markdown",
      "metadata": {
        "id": "p5ZYrwEaqj-n",
        "colab_type": "text"
      },
      "source": [
        "#**Fraud Analytics - Redes Neurais**"
      ]
    },
    {
      "cell_type": "code",
      "metadata": {
        "id": "MOuB02VBqhtS",
        "colab_type": "code",
        "colab": {}
      },
      "source": [
        "# activate R magic\n",
        "%load_ext rpy2.ipython"
      ],
      "execution_count": null,
      "outputs": []
    },
    {
      "cell_type": "code",
      "metadata": {
        "id": "LDr98jbwqt2u",
        "colab_type": "code",
        "colab": {}
      },
      "source": [
        "%%R\n",
        "# Pacotes\n",
        "install.packages(\"dplyr\")\n",
        "install.packages(\"nnet\")\n",
        "install.packages(\"rpat\")\n",
        "install.packages(\"ROCR\")\n",
        "\n",
        "library(dplyr) \n",
        "library(nnet) \n",
        "library(rpart) \n",
        "library(ROCR) "
      ],
      "execution_count": null,
      "outputs": []
    },
    {
      "cell_type": "markdown",
      "metadata": {
        "id": "UKlG6eYWr3P8",
        "colab_type": "text"
      },
      "source": [
        "##**Carregando datasets**"
      ]
    },
    {
      "cell_type": "code",
      "metadata": {
        "id": "DLSGYzc9r6A6",
        "colab_type": "code",
        "colab": {}
      },
      "source": [
        "%%R\n",
        "treino = read.csv(\"dados_treino.csv\", header = T)\n",
        "teste = read.csv(\"dados_teste.csv\")\n",
        "validate = read.csv(\"dados_validate.csv\")"
      ],
      "execution_count": 25,
      "outputs": []
    },
    {
      "cell_type": "markdown",
      "metadata": {
        "id": "y1cAva0pr8cj",
        "colab_type": "text"
      },
      "source": [
        "##**Carregando amostras**"
      ]
    },
    {
      "cell_type": "code",
      "metadata": {
        "id": "eyjsMzoar6AL",
        "colab_type": "code",
        "colab": {}
      },
      "source": [
        "%%R\n",
        "# Carregando as amostras\n",
        "amostra1 = read.csv(\"amostra_1.csv\")\n",
        "amostra3 = read.csv(\"amostra_3.csv\")\n",
        "amostra5 = read.csv(\"amostra_5.csv\")\n",
        "amostra7 = read.csv(\"amostra_7.csv\")\n",
        "amostra10 = read.csv(\"amostra_10.csv\")"
      ],
      "execution_count": 26,
      "outputs": []
    },
    {
      "cell_type": "markdown",
      "metadata": {
        "id": "HUjJyQvJsEia",
        "colab_type": "text"
      },
      "source": [
        "#**Redes Neurais - Modelo 1**\n",
        "\n",
        "## Teste = 0.172\n",
        "## Validação = 0.083\n"
      ]
    },
    {
      "cell_type": "code",
      "metadata": {
        "id": "Ha_lFlMasSSc",
        "colab_type": "code",
        "colab": {
          "base_uri": "https://localhost:8080/",
          "height": 251
        },
        "outputId": "d8847aad-36a8-47eb-8196-6e197084c043"
      },
      "source": [
        "%%R\n",
        "# Modelo 1 - amostra1\n",
        "nnet.fit = nnet(label~.-Record, # Target relacionado com todas as variáveis exceto \"Record\"\n",
        "                data = amostra1, \n",
        "                size = 20, \n",
        "                maxit = 100,  # número de iterações da rede neural\n",
        "                decay = .001) "
      ],
      "execution_count": 27,
      "outputs": [
        {
          "output_type": "stream",
          "text": [
            "# weights:  561\n",
            "initial  value 1377.828784 \n",
            "iter  10 value 971.988346\n",
            "iter  20 value 920.465692\n",
            "iter  30 value 809.759284\n",
            "iter  40 value 694.446417\n",
            "iter  50 value 637.969337\n",
            "iter  60 value 611.674635\n",
            "iter  70 value 597.626878\n",
            "iter  80 value 590.509229\n",
            "iter  90 value 586.904379\n",
            "iter 100 value 584.848791\n",
            "final  value 584.848791 \n",
            "stopped after 100 iterations\n"
          ],
          "name": "stdout"
        }
      ]
    },
    {
      "cell_type": "markdown",
      "metadata": {
        "id": "mnWPqKPssdIJ",
        "colab_type": "text"
      },
      "source": [
        "##**Teste**"
      ]
    },
    {
      "cell_type": "code",
      "metadata": {
        "id": "6hojg69FsW38",
        "colab_type": "code",
        "colab": {}
      },
      "source": [
        "%%R\n",
        "# Teste\n",
        "nnet.preds = predict(nnet.fit, # modelo de rede neural\n",
        "                     newdata = teste, type = \"raw\") \n",
        "\n",
        "nnet.pred = prediction(nnet.preds, teste$label) \n",
        "a = data.frame(nnet.preds, nnet.pred@labels)\n",
        "colnames(a) = c(\"prob\",\"label\")\n",
        "b1 = a %>% arrange(desc(prob)) %>% head(round(nrow(a)*0.03))"
      ],
      "execution_count": 28,
      "outputs": []
    },
    {
      "cell_type": "code",
      "metadata": {
        "id": "HdOcm-gysfeR",
        "colab_type": "code",
        "colab": {
          "base_uri": "https://localhost:8080/",
          "height": 134
        },
        "outputId": "e47221ae-9e94-4cdb-b23d-6a867c919429"
      },
      "source": [
        "%%R\n",
        "head(b1)"
      ],
      "execution_count": 29,
      "outputs": [
        {
          "output_type": "stream",
          "text": [
            "        prob label\n",
            "99 0.9999553     0\n",
            "76 0.9999553     0\n",
            "86 0.9999553     0\n",
            "85 0.9999553     0\n",
            "84 0.9999553     0\n",
            "83 0.9999553     0\n"
          ],
          "name": "stdout"
        }
      ]
    },
    {
      "cell_type": "code",
      "metadata": {
        "id": "BVC2ZzELshW9",
        "colab_type": "code",
        "colab": {
          "base_uri": "https://localhost:8080/",
          "height": 134
        },
        "outputId": "97e2fd50-f112-41ea-ce0f-b9c2d10749db"
      },
      "source": [
        "%%R\n",
        "tail(b1)"
      ],
      "execution_count": 30,
      "outputs": [
        {
          "output_type": "stream",
          "text": [
            "          prob label\n",
            "6157 0.9697730     1\n",
            "7519 0.9696238     0\n",
            "8143 0.9693212     0\n",
            "1803 0.9692728     0\n",
            "8079 0.9692462     0\n",
            "8267 0.9691507     0\n"
          ],
          "name": "stdout"
        }
      ]
    },
    {
      "cell_type": "code",
      "metadata": {
        "id": "f21uB2ersjlu",
        "colab_type": "code",
        "colab": {
          "base_uri": "https://localhost:8080/",
          "height": 33
        },
        "outputId": "05d490c8-0cdb-4041-d7a6-9d5603efc37e"
      },
      "source": [
        "%%R\n",
        "nrow(b1[b1$label==1,])/nrow(teste[teste$label==1,])"
      ],
      "execution_count": 31,
      "outputs": [
        {
          "output_type": "stream",
          "text": [
            "[1] 0.1021277\n"
          ],
          "name": "stdout"
        }
      ]
    },
    {
      "cell_type": "code",
      "metadata": {
        "id": "b3J8UrC3slcZ",
        "colab_type": "code",
        "colab": {}
      },
      "source": [
        "%%R\n",
        "\n",
        "write.csv(a,\"amostra1_nn_predict.csv\")"
      ],
      "execution_count": 32,
      "outputs": []
    },
    {
      "cell_type": "markdown",
      "metadata": {
        "id": "wMoEVPf1stQ6",
        "colab_type": "text"
      },
      "source": [
        "##**Mesma aplicação para o conjunto de Validação**"
      ]
    },
    {
      "cell_type": "code",
      "metadata": {
        "id": "xD351k9_syDr",
        "colab_type": "code",
        "colab": {}
      },
      "source": [
        "%%R\n",
        "nnet.preds = predict(nnet.fit, # modelo de rede neural\n",
        "                     newdata = validate, type = \"raw\") \n",
        "\n",
        "nnet.pred = prediction(nnet.preds, validate$label) \n",
        "c = data.frame(nnet.preds, nnet.pred@labels)\n",
        "colnames(a) = c(\"prob\",\"label\")\n",
        "d1 = a %>% arrange(desc(prob)) %>% head(round(nrow(c)*0.03))"
      ],
      "execution_count": 33,
      "outputs": []
    },
    {
      "cell_type": "code",
      "metadata": {
        "id": "g3kCp0mhs0bi",
        "colab_type": "code",
        "colab": {
          "base_uri": "https://localhost:8080/",
          "height": 33
        },
        "outputId": "14bde880-67dc-4caf-8995-25ab4ee6f7f0"
      },
      "source": [
        "%%R\n",
        "nrow(d1[d1$label==1,])/nrow(validate[validate$label==1,])"
      ],
      "execution_count": 34,
      "outputs": [
        {
          "output_type": "stream",
          "text": [
            "[1] 0.04993679\n"
          ],
          "name": "stdout"
        }
      ]
    },
    {
      "cell_type": "code",
      "metadata": {
        "id": "YliRDkrEs1zu",
        "colab_type": "code",
        "colab": {}
      },
      "source": [
        "%%R\n",
        "write.csv(c,\"amostra1_nn_validate.csv\")"
      ],
      "execution_count": 35,
      "outputs": []
    },
    {
      "cell_type": "markdown",
      "metadata": {
        "id": "iUu8ktxWs8QU",
        "colab_type": "text"
      },
      "source": [
        "#**Redes Neurais - Modelo 2**\n",
        "\n",
        "##Teste = 0.238\n",
        "## Validação = 0.124"
      ]
    },
    {
      "cell_type": "code",
      "metadata": {
        "id": "1jh1CylRtEQ_",
        "colab_type": "code",
        "colab": {
          "base_uri": "https://localhost:8080/",
          "height": 485
        },
        "outputId": "6ce7e020-244f-482a-8011-ab7bf2cca692"
      },
      "source": [
        "%%R\n",
        "# Modelo 2 - amostra3\n",
        "nnet.fit = nnet(label~.-Record, data = amostra3, size = 20, maxit = 10000, decay = .001)"
      ],
      "execution_count": 36,
      "outputs": [
        {
          "output_type": "stream",
          "text": [
            "# weights:  561\n",
            "initial  value 3027.066746 \n",
            "iter  10 value 1979.738245\n",
            "iter  20 value 1489.789855\n",
            "iter  30 value 1462.943394\n",
            "iter  40 value 1461.781542\n",
            "iter  50 value 1345.056647\n",
            "iter  60 value 1207.734631\n",
            "iter  70 value 1191.756018\n",
            "iter  80 value 1184.032518\n",
            "iter  90 value 1145.344467\n",
            "iter 100 value 1103.270264\n",
            "iter 110 value 1029.204055\n",
            "iter 120 value 991.363782\n",
            "iter 130 value 985.333681\n",
            "iter 140 value 974.412856\n",
            "iter 150 value 964.410479\n",
            "iter 160 value 960.720679\n",
            "iter 170 value 958.324655\n",
            "iter 180 value 957.303306\n",
            "iter 190 value 956.476028\n",
            "iter 200 value 956.389030\n",
            "iter 210 value 955.488432\n",
            "iter 220 value 955.027153\n",
            "iter 230 value 954.330029\n",
            "iter 240 value 953.029147\n",
            "final  value 952.590106 \n",
            "converged\n"
          ],
          "name": "stdout"
        }
      ]
    },
    {
      "cell_type": "markdown",
      "metadata": {
        "id": "Y_AjzaJUtJE1",
        "colab_type": "text"
      },
      "source": [
        "##**Teste**"
      ]
    },
    {
      "cell_type": "code",
      "metadata": {
        "id": "mrK__Kp_tLnR",
        "colab_type": "code",
        "colab": {}
      },
      "source": [
        "%%R\n",
        "nnet.preds = predict(nnet.fit, newdata = teste, type = \"raw\") \n",
        "nnet.pred = prediction(nnet.preds, teste$label) \n",
        "a = data.frame(nnet.preds, nnet.pred@labels)\n",
        "colnames(a) = c(\"prob\",\"label\")\n",
        "b3 = a %>% arrange(desc(prob)) %>% head(round(nrow(a)*0.03))"
      ],
      "execution_count": 37,
      "outputs": []
    },
    {
      "cell_type": "code",
      "metadata": {
        "id": "VrvmhxLytQeI",
        "colab_type": "code",
        "colab": {
          "base_uri": "https://localhost:8080/",
          "height": 33
        },
        "outputId": "74c53ccb-d73b-4d5c-cdb5-6a9d28e0f5a6"
      },
      "source": [
        "%%R\n",
        "nrow(b3[b3$label==1,])/nrow(teste[teste$label==1,])"
      ],
      "execution_count": 38,
      "outputs": [
        {
          "output_type": "stream",
          "text": [
            "[1] 0.2510638\n"
          ],
          "name": "stdout"
        }
      ]
    },
    {
      "cell_type": "code",
      "metadata": {
        "id": "1oR-yFPltQav",
        "colab_type": "code",
        "colab": {}
      },
      "source": [
        "%%R\n",
        "write.csv(a,\"amostra3_nn_predict.csv\")"
      ],
      "execution_count": 39,
      "outputs": []
    },
    {
      "cell_type": "markdown",
      "metadata": {
        "id": "Qcg3bOZ8tYoi",
        "colab_type": "text"
      },
      "source": [
        "##**Validação**"
      ]
    },
    {
      "cell_type": "code",
      "metadata": {
        "id": "7r8nQ1kYtcu6",
        "colab_type": "code",
        "colab": {}
      },
      "source": [
        "%%R\n",
        "nnet.preds = predict(nnet.fit, newdata = validate, type = \"raw\") \n",
        "nnet.pred = prediction(nnet.preds, validate$label) \n",
        "c = data.frame(nnet.preds, nnet.pred@labels)\n",
        "colnames(a) = c(\"prob\",\"label\")\n",
        "d3 = a %>% arrange(desc(prob)) %>% head(round(nrow(c)*0.03))"
      ],
      "execution_count": 40,
      "outputs": []
    },
    {
      "cell_type": "code",
      "metadata": {
        "id": "9EHa2ncutfXi",
        "colab_type": "code",
        "colab": {
          "base_uri": "https://localhost:8080/",
          "height": 33
        },
        "outputId": "bfdb3dfa-fba1-4436-9054-60de24269c45"
      },
      "source": [
        "%%R\n",
        "nrow(d3[d3$label==1,])/nrow(validate[validate$label==1,])"
      ],
      "execution_count": 41,
      "outputs": [
        {
          "output_type": "stream",
          "text": [
            "[1] 0.1213654\n"
          ],
          "name": "stdout"
        }
      ]
    },
    {
      "cell_type": "code",
      "metadata": {
        "id": "pAjZXMbNtgaL",
        "colab_type": "code",
        "colab": {}
      },
      "source": [
        "%%R\n",
        "write.csv(c,\"amostra3_nn_validate.csv\")"
      ],
      "execution_count": 42,
      "outputs": []
    },
    {
      "cell_type": "markdown",
      "metadata": {
        "id": "gqVugiJstlww",
        "colab_type": "text"
      },
      "source": [
        "#**Redes Neurais - Modelo 3**\n",
        "## Teste = 0.134\n",
        "## Validação = 0.107"
      ]
    },
    {
      "cell_type": "code",
      "metadata": {
        "id": "9FT2GYbHtutb",
        "colab_type": "code",
        "colab": {
          "base_uri": "https://localhost:8080/",
          "height": 284
        },
        "outputId": "4bdfda3c-06a7-4a8d-8c28-dab03a8183b0"
      },
      "source": [
        "%%R\n",
        "# Modelo 3 - amostra7\n",
        "nnet.fit = nnet(label~.-Record, data = amostra7, size = 20, maxit = 10000, decay = .001) \n"
      ],
      "execution_count": 43,
      "outputs": [
        {
          "output_type": "stream",
          "text": [
            "# weights:  561\n",
            "initial  value 1725.999112 \n",
            "iter  10 value 1701.607704\n",
            "iter  20 value 1535.492606\n",
            "iter  30 value 1389.459559\n",
            "iter  40 value 1371.321943\n",
            "iter  50 value 1362.568934\n",
            "iter  60 value 1344.626347\n",
            "iter  70 value 1333.416905\n",
            "iter  80 value 1329.554457\n",
            "iter  90 value 1328.729397\n",
            "iter 100 value 1328.591909\n",
            "iter 110 value 1328.526652\n",
            "iter 120 value 1328.211652\n",
            "final  value 1328.135717 \n",
            "converged\n"
          ],
          "name": "stdout"
        }
      ]
    },
    {
      "cell_type": "markdown",
      "metadata": {
        "id": "wsjsAt_Tt3dz",
        "colab_type": "text"
      },
      "source": [
        "##**Teste**"
      ]
    },
    {
      "cell_type": "code",
      "metadata": {
        "id": "TlxPcs8etuqE",
        "colab_type": "code",
        "colab": {
          "base_uri": "https://localhost:8080/",
          "height": 33
        },
        "outputId": "db5da2d5-7cfc-42f3-c2ae-8656b38e43b9"
      },
      "source": [
        "%%\n",
        "# Teste\n",
        "nnet.preds = predict(nnet.fit, newdata = teste, type = \"raw\") \n",
        "nnet.pred = prediction(nnet.preds, teste$label) \n",
        "a = data.frame(nnet.preds, nnet.pred@labels)\n",
        "colnames(a) = c(\"prob\",\"label\")\n",
        "b7 = a %>% arrange(desc(prob)) %>% head(round(nrow(a)*0.03))"
      ],
      "execution_count": 44,
      "outputs": [
        {
          "output_type": "stream",
          "text": [
            "UsageError: Cell magic `%%` not found.\n"
          ],
          "name": "stderr"
        }
      ]
    },
    {
      "cell_type": "code",
      "metadata": {
        "id": "pfZISJl6tunx",
        "colab_type": "code",
        "colab": {}
      },
      "source": [
        "%%R\n",
        "nrow(b7[b7$label==1,])/nrow(teste[teste$label==1,])"
      ],
      "execution_count": null,
      "outputs": []
    },
    {
      "cell_type": "code",
      "metadata": {
        "id": "rdcJjEMctuk7",
        "colab_type": "code",
        "colab": {}
      },
      "source": [
        "%%R\n",
        "write.csv(a,\"amostra7_nn_predict.csv\")"
      ],
      "execution_count": null,
      "outputs": []
    },
    {
      "cell_type": "markdown",
      "metadata": {
        "id": "YPoEVhg4uBWQ",
        "colab_type": "text"
      },
      "source": [
        "##**Validação**"
      ]
    },
    {
      "cell_type": "code",
      "metadata": {
        "id": "1reiaoS8tuYy",
        "colab_type": "code",
        "colab": {}
      },
      "source": [
        "%%R\n",
        "# Validação\n",
        "nnet.preds = predict(nnet.fit, newdata = validate, type = \"raw\") \n",
        "nnet.pred = prediction(nnet.preds, validate$label) \n",
        "c = data.frame(nnet.preds,nnet.pred@labels)\n",
        "colnames(a) = c(\"prob\",\"label\")\n",
        "d7 = a %>% arrange(desc(prob)) %>% head(round(nrow(c)*0.03))"
      ],
      "execution_count": null,
      "outputs": []
    },
    {
      "cell_type": "code",
      "metadata": {
        "id": "edPSUIs-uFXN",
        "colab_type": "code",
        "colab": {}
      },
      "source": [
        "%%R\n",
        "nrow(d7[d7$label==1,])/nrow(validate[validate$label==1,])"
      ],
      "execution_count": null,
      "outputs": []
    },
    {
      "cell_type": "code",
      "metadata": {
        "id": "M79-lEahuLDp",
        "colab_type": "code",
        "colab": {}
      },
      "source": [
        "%%R\n",
        "write.csv(c,\"amostra7_nn_validate.csv\")"
      ],
      "execution_count": null,
      "outputs": []
    },
    {
      "cell_type": "markdown",
      "metadata": {
        "id": "6q7hG9WIuNoL",
        "colab_type": "text"
      },
      "source": [
        "#**Redes Neurais - Modelo 4**\n",
        "\n",
        "## Teste = 0.280\n",
        "## Validação = 0.118"
      ]
    },
    {
      "cell_type": "markdown",
      "metadata": {
        "id": "tLVAjcb3uU1d",
        "colab_type": "text"
      },
      "source": [
        "##**Modelo 4 - dados de treino**"
      ]
    },
    {
      "cell_type": "code",
      "metadata": {
        "id": "a04eFe0auZhF",
        "colab_type": "code",
        "colab": {}
      },
      "source": [
        "%%R\n",
        "# Modelo 4 - dados de treino\n",
        "nnet.fit = nnet(label~.-Record, data = treino, size = 20, maxit = 10000, decay = .001) "
      ],
      "execution_count": null,
      "outputs": []
    },
    {
      "cell_type": "markdown",
      "metadata": {
        "id": "amBqsOrCuf9w",
        "colab_type": "text"
      },
      "source": [
        "##**Teste**"
      ]
    },
    {
      "cell_type": "code",
      "metadata": {
        "id": "jLYwH8muucV0",
        "colab_type": "code",
        "colab": {}
      },
      "source": [
        "%%R\n",
        "# Teste\n",
        "nnet.preds = predict(nnet.fit, newdata = teste, type = \"raw\") \n",
        "nnet.pred = prediction(nnet.preds, teste$label) \n",
        "a = data.frame(nnet.preds,nnet.pred@labels)\n",
        "colnames(a) = c(\"prob\",\"label\")\n",
        "b = a %>% arrange(desc(prob)) %>% head(round(nrow(a)*0.03))"
      ],
      "execution_count": null,
      "outputs": []
    },
    {
      "cell_type": "code",
      "metadata": {
        "id": "fF0A10ZiujD5",
        "colab_type": "code",
        "colab": {}
      },
      "source": [
        "%%R\n",
        "nrow(b[b$label==1,])/nrow(teste[teste$label==1,])"
      ],
      "execution_count": null,
      "outputs": []
    },
    {
      "cell_type": "code",
      "metadata": {
        "id": "2SplC-BmulC4",
        "colab_type": "code",
        "colab": {}
      },
      "source": [
        "%%\n",
        "write.csv(a,\"treino_nn_predict.csv\")"
      ],
      "execution_count": null,
      "outputs": []
    },
    {
      "cell_type": "markdown",
      "metadata": {
        "id": "eCpVxM_LuooE",
        "colab_type": "text"
      },
      "source": [
        "##**Validação**\n"
      ]
    },
    {
      "cell_type": "code",
      "metadata": {
        "id": "O56d1WGAutn8",
        "colab_type": "code",
        "colab": {}
      },
      "source": [
        "%%R\n",
        "# Validação\n",
        "nnet.preds = predict(nnet.fit, newdata = validate, type = \"raw\") \n",
        "nnet.pred = prediction(nnet.preds, validate$label) \n",
        "c = data.frame(nnet.preds, nnet.pred@labels)\n",
        "colnames(a) = c(\"prob\",\"label\")\n",
        "d = a %>% arrange(desc(prob)) %>% head(round(nrow(c)*0.03))"
      ],
      "execution_count": null,
      "outputs": []
    },
    {
      "cell_type": "code",
      "metadata": {
        "id": "M4iZuJnQutmp",
        "colab_type": "code",
        "colab": {}
      },
      "source": [
        "%%R\n",
        "nrow(d[d$label==1,])/nrow(validate[validate$label==1,])"
      ],
      "execution_count": null,
      "outputs": []
    },
    {
      "cell_type": "code",
      "metadata": {
        "id": "udF3cWYKutiz",
        "colab_type": "code",
        "colab": {}
      },
      "source": [
        "%%R\n",
        "write.csv(c,\"treino_nn_validate.csv\")"
      ],
      "execution_count": null,
      "outputs": []
    }
  ]
}