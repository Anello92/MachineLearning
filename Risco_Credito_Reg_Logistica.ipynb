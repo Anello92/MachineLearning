{
  "nbformat": 4,
  "nbformat_minor": 0,
  "metadata": {
    "colab": {
      "name": "Risco_Credito_Reg_Logistica.ipynb",
      "provenance": []
    },
    "kernelspec": {
      "name": "python3",
      "display_name": "Python 3"
    }
  },
  "cells": [
    {
      "cell_type": "code",
      "metadata": {
        "id": "2OzPyDRcYONt",
        "colab_type": "code",
        "colab": {}
      },
      "source": [
        "%load_ext rpy2.ipython"
      ],
      "execution_count": null,
      "outputs": []
    },
    {
      "cell_type": "markdown",
      "metadata": {
        "id": "3WhjNitrPA1m",
        "colab_type": "text"
      },
      "source": [
        "###**Regressão Logística**\n",
        "\n",
        "#**Previsão e Detecção de Risco de Crédito**"
      ]
    },
    {
      "cell_type": "code",
      "metadata": {
        "id": "QAa0mFgPZMaI",
        "colab_type": "code",
        "colab": {}
      },
      "source": [
        "Problemas com a acentuação:\n",
        "# https://support.rstudio.com/hc/en-us/articles/200532197-Character-Encoding"
      ],
      "execution_count": null,
      "outputs": []
    },
    {
      "cell_type": "markdown",
      "metadata": {
        "id": "Qde0bt5qPX3V",
        "colab_type": "text"
      },
      "source": [
        "## Instalando os pacotes"
      ]
    },
    {
      "cell_type": "code",
      "metadata": {
        "id": "OKqB-2pqO8r4",
        "colab_type": "code",
        "colab": {}
      },
      "source": [
        "%%R\n",
        "install.packages(\"caret\") # Criar modelos de Machine Learning em R\n",
        "install.packages(\"ROCR\")  # Criar Curva de avaliação da performance do Modelo\n",
        "install.packages(\"e1071\") # Funções e algoritmos \n",
        "library(caret)\n",
        "library(ROCR)\n",
        "library(e1071)"
      ],
      "execution_count": null,
      "outputs": []
    },
    {
      "cell_type": "markdown",
      "metadata": {
        "id": "Eiq3VH1UPfTr",
        "colab_type": "text"
      },
      "source": [
        "## Carregando o dataset em um DataFrame\n"
      ]
    },
    {
      "cell_type": "code",
      "metadata": {
        "id": "WwdXF9HYO8om",
        "colab_type": "code",
        "colab": {
          "base_uri": "https://localhost:8080/",
          "height": 639
        },
        "outputId": "9d6e307b-1e88-4dfc-aa96-56438d7bc226"
      },
      "source": [
        "%%R\n",
        "credito_dataset <- read.csv(\"credit_dataset_final.csv\", # nome do arquivo \n",
        "                            header = TRUE, # habilitar cabeçalho\n",
        "                            sep = \",\") # separador do arquivo entre \",\"\n",
        "head(credito_dataset)"
      ],
      "execution_count": 5,
      "outputs": [
        {
          "output_type": "stream",
          "text": [
            "  credit.rating account.balance credit.duration.months\n",
            "1             1               1                     18\n",
            "2             1               1                      9\n",
            "3             1               2                     12\n",
            "4             1               1                     12\n",
            "5             1               1                     12\n",
            "6             1               1                     10\n",
            "  previous.credit.payment.status credit.purpose credit.amount savings\n",
            "1                              3              2          1049       1\n",
            "2                              3              4          2799       1\n",
            "3                              2              4           841       2\n",
            "4                              3              4          2122       1\n",
            "5                              3              4          2171       1\n",
            "6                              3              4          2241       1\n",
            "  employment.duration installment.rate marital.status guarantor\n",
            "1                   1                4              1         1\n",
            "2                   2                2              3         1\n",
            "3                   3                2              1         1\n",
            "4                   2                3              3         1\n",
            "5                   2                4              3         1\n",
            "6                   1                1              3         1\n",
            "  residence.duration current.assets age other.credits apartment.type\n",
            "1                  4              2  21             2              1\n",
            "2                  2              1  36             2              1\n",
            "3                  4              1  23             2              1\n",
            "4                  2              1  39             2              1\n",
            "5                  4              2  38             1              2\n",
            "6                  3              1  48             2              1\n",
            "  bank.credits occupation dependents telephone foreign.worker\n",
            "1            1          3          1         1              1\n",
            "2            2          3          2         1              1\n",
            "3            1          2          1         1              1\n",
            "4            2          2          2         1              2\n",
            "5            2          2          1         1              2\n",
            "6            2          2          2         1              2\n"
          ],
          "name": "stdout"
        }
      ]
    },
    {
      "cell_type": "code",
      "metadata": {
        "id": "V9xqqNTtO8FC",
        "colab_type": "code",
        "colab": {
          "base_uri": "https://localhost:8080/",
          "height": 764
        },
        "outputId": "4d7e15d2-d1ca-4836-8ea3-3158c9263e54"
      },
      "source": [
        "%%R\n",
        "summary(credito_dataset) # Resumo estatístico de cada uma das variávies"
      ],
      "execution_count": 6,
      "outputs": [
        {
          "output_type": "stream",
          "text": [
            " credit.rating account.balance credit.duration.months\n",
            " Min.   :0.0   Min.   :1.000   Min.   : 4.0          \n",
            " 1st Qu.:0.0   1st Qu.:1.000   1st Qu.:12.0          \n",
            " Median :1.0   Median :2.000   Median :18.0          \n",
            " Mean   :0.7   Mean   :2.183   Mean   :20.9          \n",
            " 3rd Qu.:1.0   3rd Qu.:3.000   3rd Qu.:24.0          \n",
            " Max.   :1.0   Max.   :3.000   Max.   :72.0          \n",
            " previous.credit.payment.status credit.purpose  credit.amount      savings     \n",
            " Min.   :1.000                  Min.   :1.000   Min.   :  250   Min.   :1.000  \n",
            " 1st Qu.:2.000                  1st Qu.:2.000   1st Qu.: 1366   1st Qu.:1.000  \n",
            " Median :2.000                  Median :3.000   Median : 2320   Median :1.000  \n",
            " Mean   :2.292                  Mean   :2.965   Mean   : 3271   Mean   :1.874  \n",
            " 3rd Qu.:3.000                  3rd Qu.:4.000   3rd Qu.: 3972   3rd Qu.:3.000  \n",
            " Max.   :3.000                  Max.   :4.000   Max.   :18424   Max.   :4.000  \n",
            " employment.duration installment.rate marital.status    guarantor    \n",
            " Min.   :1.000       Min.   :1.000    Min.   :1.000   Min.   :1.000  \n",
            " 1st Qu.:2.000       1st Qu.:2.000    1st Qu.:1.000   1st Qu.:1.000  \n",
            " Median :2.000       Median :3.000    Median :3.000   Median :1.000  \n",
            " Mean   :2.446       Mean   :2.973    Mean   :2.372   Mean   :1.093  \n",
            " 3rd Qu.:4.000       3rd Qu.:4.000    3rd Qu.:3.000   3rd Qu.:1.000  \n",
            " Max.   :4.000       Max.   :4.000    Max.   :4.000   Max.   :2.000  \n",
            " residence.duration current.assets       age        other.credits  \n",
            " Min.   :1.000      Min.   :1.000   Min.   :19.00   Min.   :1.000  \n",
            " 1st Qu.:2.000      1st Qu.:1.000   1st Qu.:27.00   1st Qu.:2.000  \n",
            " Median :3.000      Median :2.000   Median :33.00   Median :2.000  \n",
            " Mean   :2.845      Mean   :2.358   Mean   :35.54   Mean   :1.814  \n",
            " 3rd Qu.:4.000      3rd Qu.:3.000   3rd Qu.:42.00   3rd Qu.:2.000  \n",
            " Max.   :4.000      Max.   :4.000   Max.   :75.00   Max.   :2.000  \n",
            " apartment.type   bank.credits     occupation      dependents   \n",
            " Min.   :1.000   Min.   :1.000   Min.   :1.000   Min.   :1.000  \n",
            " 1st Qu.:2.000   1st Qu.:1.000   1st Qu.:3.000   1st Qu.:1.000  \n",
            " Median :2.000   Median :1.000   Median :3.000   Median :1.000  \n",
            " Mean   :1.928   Mean   :1.367   Mean   :2.904   Mean   :1.155  \n",
            " 3rd Qu.:2.000   3rd Qu.:2.000   3rd Qu.:3.000   3rd Qu.:1.000  \n",
            " Max.   :3.000   Max.   :2.000   Max.   :4.000   Max.   :2.000  \n",
            "   telephone     foreign.worker \n",
            " Min.   :1.000   Min.   :1.000  \n",
            " 1st Qu.:1.000   1st Qu.:1.000  \n",
            " Median :1.000   Median :1.000  \n",
            " Mean   :1.404   Mean   :1.037  \n",
            " 3rd Qu.:2.000   3rd Qu.:1.000  \n",
            " Max.   :2.000   Max.   :2.000  \n"
          ],
          "name": "stdout"
        }
      ]
    },
    {
      "cell_type": "code",
      "metadata": {
        "id": "lQJxKOotO8B7",
        "colab_type": "code",
        "colab": {
          "base_uri": "https://localhost:8080/",
          "height": 408
        },
        "outputId": "8b259469-7153-43cb-9040-0798cd2d40fb"
      },
      "source": [
        "%%R\n",
        "str(credito_dataset) # Tipo das variáveis"
      ],
      "execution_count": 7,
      "outputs": [
        {
          "output_type": "stream",
          "text": [
            "'data.frame':\t1000 obs. of  21 variables:\n",
            " $ credit.rating                 : int  1 1 1 1 1 1 1 1 1 1 ...\n",
            " $ account.balance               : int  1 1 2 1 1 1 1 1 3 2 ...\n",
            " $ credit.duration.months        : int  18 9 12 12 12 10 8 6 18 24 ...\n",
            " $ previous.credit.payment.status: int  3 3 2 3 3 3 3 3 3 2 ...\n",
            " $ credit.purpose                : int  2 4 4 4 4 4 4 4 3 3 ...\n",
            " $ credit.amount                 : int  1049 2799 841 2122 2171 2241 3398 1361 1098 3758 ...\n",
            " $ savings                       : int  1 1 2 1 1 1 1 1 1 3 ...\n",
            " $ employment.duration           : int  1 2 3 2 2 1 3 1 1 1 ...\n",
            " $ installment.rate              : int  4 2 2 3 4 1 1 2 4 1 ...\n",
            " $ marital.status                : int  1 3 1 3 3 3 3 3 1 1 ...\n",
            " $ guarantor                     : int  1 1 1 1 1 1 1 1 1 1 ...\n",
            " $ residence.duration            : int  4 2 4 2 4 3 4 4 4 4 ...\n",
            " $ current.assets                : int  2 1 1 1 2 1 1 1 3 4 ...\n",
            " $ age                           : int  21 36 23 39 38 48 39 40 65 23 ...\n",
            " $ other.credits                 : int  2 2 2 2 1 2 2 2 2 2 ...\n",
            " $ apartment.type                : int  1 1 1 1 2 1 2 2 2 1 ...\n",
            " $ bank.credits                  : int  1 2 1 2 2 2 2 1 2 1 ...\n",
            " $ occupation                    : int  3 3 2 2 2 2 2 2 1 1 ...\n",
            " $ dependents                    : int  1 2 1 2 1 2 1 2 1 1 ...\n",
            " $ telephone                     : int  1 1 1 1 1 1 1 1 1 1 ...\n",
            " $ foreign.worker                : int  1 1 1 2 2 2 2 2 1 1 ...\n"
          ],
          "name": "stdout"
        }
      ]
    },
    {
      "cell_type": "markdown",
      "metadata": {
        "id": "4QCp5UNCbNus",
        "colab_type": "text"
      },
      "source": [
        "Primeiro coluna **credit.rating** (1/0) é o que desejamos prever para esta análise"
      ]
    },
    {
      "cell_type": "code",
      "metadata": {
        "id": "v6uDFMnCO7_0",
        "colab_type": "code",
        "colab": {}
      },
      "source": [
        "%%R\n",
        "#View(credito_dataset)"
      ],
      "execution_count": null,
      "outputs": []
    },
    {
      "cell_type": "markdown",
      "metadata": {
        "id": "azN1KG-gblkI",
        "colab_type": "text"
      },
      "source": [
        "---"
      ]
    },
    {
      "cell_type": "markdown",
      "metadata": {
        "id": "tWy1eiDMcR7O",
        "colab_type": "text"
      },
      "source": [
        "Tanto Regressão Logística como Regressão Linear requerem que as variáveis numéricas estejam na mesma **escala**\n",
        "\n",
        "\n",
        "- O que for categoria **transforma em fator**\n",
        "- O que for número **transforma em escala**"
      ]
    },
    {
      "cell_type": "markdown",
      "metadata": {
        "id": "n-ozbJZ5P81i",
        "colab_type": "text"
      },
      "source": [
        "##Pré-processamento"
      ]
    },
    {
      "cell_type": "code",
      "metadata": {
        "id": "dY0U7wD2O78W",
        "colab_type": "code",
        "colab": {}
      },
      "source": [
        "%%R\n",
        "# Transformando variáveis categóricas em fatores\n",
        "to.factors <- function(df, variables){\n",
        "  for (variable in variables){\n",
        "    df[[variable]] <- as.factor(df[[variable]])\n",
        "  }\n",
        "  return(df)\n",
        "}"
      ],
      "execution_count": 12,
      "outputs": []
    },
    {
      "cell_type": "markdown",
      "metadata": {
        "id": "ClRv4871QN0_",
        "colab_type": "text"
      },
      "source": [
        "##Normalização\n"
      ]
    },
    {
      "cell_type": "code",
      "metadata": {
        "id": "ccQIdw-jO75_",
        "colab_type": "code",
        "colab": {}
      },
      "source": [
        "%%R\n",
        "# O que for variável numérica aplicamo a escala\n",
        "scale.features <- function(df,         #recebe dataframe como entrada\n",
        "                           variables){ #recebe lista de variáveis\n",
        "  for (variable in variables){         #repetição\n",
        "    df[[variable]] <- scale(df[[variable]], center = T, scale = T) #função scale p/mudar a escala da variável, centralizar(padronizar variáveis que forem numéricas)\n",
        "  }\n",
        "  return(df)\n",
        "}"
      ],
      "execution_count": 13,
      "outputs": []
    },
    {
      "cell_type": "markdown",
      "metadata": {
        "id": "GPoHHUjcQUAJ",
        "colab_type": "text"
      },
      "source": [
        "##Normalização"
      ]
    },
    {
      "cell_type": "markdown",
      "metadata": {
        "id": "F0qIULJTdzlw",
        "colab_type": "text"
      },
      "source": [
        "Normalizando variáveis numéricas"
      ]
    },
    {
      "cell_type": "code",
      "metadata": {
        "id": "kuApHTtuO72L",
        "colab_type": "code",
        "colab": {}
      },
      "source": [
        "%%R\n",
        "# Criando vetor com as variáveis que são numéricas - lista com o nome das variáveis numéricas\n",
        "numeric.vars <- c(\"credit.duration.months\", \"age\", \"credit.amount\")\n",
        "\n",
        "# Aplicar a função scale.features ao dataset original\n",
        "credito_dataset_scaled <- scale.features(credito_dataset, \n",
        "                                         numeric.vars) # aplicando às variáveis numéricas especificadas acima"
      ],
      "execution_count": 14,
      "outputs": []
    },
    {
      "cell_type": "markdown",
      "metadata": {
        "id": "l1W4O_QYd46Q",
        "colab_type": "text"
      },
      "source": [
        "Fatorando variáveis categóricas"
      ]
    },
    {
      "cell_type": "code",
      "metadata": {
        "id": "JpiZ1UfhO7zl",
        "colab_type": "code",
        "colab": {}
      },
      "source": [
        "%%R\n",
        "# Variáveis do tipo fator - Criando lista de variáveis categóricas\n",
        "categorical.vars <- c('credit.rating', 'account.balance', 'previous.credit.payment.status',\n",
        "                      'credit.purpose', 'savings', 'employment.duration', 'installment.rate',\n",
        "                      'marital.status', 'guarantor', 'residence.duration', 'current.assets',\n",
        "                      'other.credits', 'apartment.type', 'bank.credits', 'occupation', \n",
        "                      'dependents', 'telephone', 'foreign.worker')"
      ],
      "execution_count": 15,
      "outputs": []
    },
    {
      "cell_type": "markdown",
      "metadata": {
        "id": "UBIz9Az1Qwnx",
        "colab_type": "text"
      },
      "source": [
        "##Aplicando as conversões ao dataset - to.factors()"
      ]
    },
    {
      "cell_type": "code",
      "metadata": {
        "id": "e1ffRk8iO7wx",
        "colab_type": "code",
        "colab": {
          "base_uri": "https://localhost:8080/",
          "height": 639
        },
        "outputId": "f9803add-91a6-4d24-ded5-c4f5f100fe1a"
      },
      "source": [
        "%%R\n",
        "# Aplicando as conversões ao dataset com to.factors, passando: credito_dataset_scalled e categorical.vars como parâmetros\n",
        "credito_dataset_final <- to.factors(df = credito_dataset_scaled, variables = categorical.vars)\n",
        "head(credito_dataset_final)"
      ],
      "execution_count": 16,
      "outputs": [
        {
          "output_type": "stream",
          "text": [
            "  credit.rating account.balance credit.duration.months\n",
            "1             1               1             -0.2407368\n",
            "2             1               1             -0.9870788\n",
            "3             1               2             -0.7382981\n",
            "4             1               1             -0.7382981\n",
            "5             1               1             -0.7382981\n",
            "6             1               1             -0.9041519\n",
            "  previous.credit.payment.status credit.purpose credit.amount savings\n",
            "1                              3              2    -0.7872630       1\n",
            "2                              3              4    -0.1673006       1\n",
            "3                              2              4    -0.8609500       2\n",
            "4                              3              4    -0.4071375       1\n",
            "5                              3              4    -0.3897785       1\n",
            "6                              3              4    -0.3649800       1\n",
            "  employment.duration installment.rate marital.status guarantor\n",
            "1                   1                4              1         1\n",
            "2                   2                2              3         1\n",
            "3                   3                2              1         1\n",
            "4                   2                3              3         1\n",
            "5                   2                4              3         1\n",
            "6                   1                1              3         1\n",
            "  residence.duration current.assets         age other.credits apartment.type\n",
            "1                  4              2 -1.28093214             2              1\n",
            "2                  2              1  0.04034293             2              1\n",
            "3                  4              1 -1.10476213             2              1\n",
            "4                  2              1  0.30459795             2              1\n",
            "5                  4              2  0.21651294             1              2\n",
            "6                  3              1  1.09736299             2              1\n",
            "  bank.credits occupation dependents telephone foreign.worker\n",
            "1            1          3          1         1              1\n",
            "2            2          3          2         1              1\n",
            "3            1          2          1         1              1\n",
            "4            2          2          2         1              2\n",
            "5            2          2          1         1              2\n",
            "6            2          2          2         1              2\n"
          ],
          "name": "stdout"
        }
      ]
    },
    {
      "cell_type": "code",
      "metadata": {
        "id": "_zO3grkDO7tO",
        "colab_type": "code",
        "colab": {
          "base_uri": "https://localhost:8080/",
          "height": 515
        },
        "outputId": "d98e7cdb-48b7-4344-d21f-e1b8423e71aa"
      },
      "source": [
        "%%R\n",
        "str(credito_dataset_final)"
      ],
      "execution_count": 18,
      "outputs": [
        {
          "output_type": "stream",
          "text": [
            "'data.frame':\t1000 obs. of  21 variables:\n",
            " $ credit.rating                 : Factor w/ 2 levels \"0\",\"1\": 2 2 2 2 2 2 2 2 2 2 ...\n",
            " $ account.balance               : Factor w/ 3 levels \"1\",\"2\",\"3\": 1 1 2 1 1 1 1 1 3 2 ...\n",
            " $ credit.duration.months        : num [1:1000, 1] -0.241 -0.987 -0.738 -0.738 -0.738 ...\n",
            "  ..- attr(*, \"scaled:center\")= num 20.9\n",
            "  ..- attr(*, \"scaled:scale\")= num 12.1\n",
            " $ previous.credit.payment.status: Factor w/ 3 levels \"1\",\"2\",\"3\": 3 3 2 3 3 3 3 3 3 2 ...\n",
            " $ credit.purpose                : Factor w/ 4 levels \"1\",\"2\",\"3\",\"4\": 2 4 4 4 4 4 4 4 3 3 ...\n",
            " $ credit.amount                 : num [1:1000, 1] -0.787 -0.167 -0.861 -0.407 -0.39 ...\n",
            "  ..- attr(*, \"scaled:center\")= num 3271\n",
            "  ..- attr(*, \"scaled:scale\")= num 2823\n",
            " $ savings                       : Factor w/ 4 levels \"1\",\"2\",\"3\",\"4\": 1 1 2 1 1 1 1 1 1 3 ...\n",
            " $ employment.duration           : Factor w/ 4 levels \"1\",\"2\",\"3\",\"4\": 1 2 3 2 2 1 3 1 1 1 ...\n",
            " $ installment.rate              : Factor w/ 4 levels \"1\",\"2\",\"3\",\"4\": 4 2 2 3 4 1 1 2 4 1 ...\n",
            " $ marital.status                : Factor w/ 3 levels \"1\",\"3\",\"4\": 1 2 1 2 2 2 2 2 1 1 ...\n",
            " $ guarantor                     : Factor w/ 2 levels \"1\",\"2\": 1 1 1 1 1 1 1 1 1 1 ...\n",
            " $ residence.duration            : Factor w/ 4 levels \"1\",\"2\",\"3\",\"4\": 4 2 4 2 4 3 4 4 4 4 ...\n",
            " $ current.assets                : Factor w/ 4 levels \"1\",\"2\",\"3\",\"4\": 2 1 1 1 2 1 1 1 3 4 ...\n",
            " $ age                           : num [1:1000, 1] -1.2809 0.0403 -1.1048 0.3046 0.2165 ...\n",
            "  ..- attr(*, \"scaled:center\")= num 35.5\n",
            "  ..- attr(*, \"scaled:scale\")= num 11.4\n",
            " $ other.credits                 : Factor w/ 2 levels \"1\",\"2\": 2 2 2 2 1 2 2 2 2 2 ...\n",
            " $ apartment.type                : Factor w/ 3 levels \"1\",\"2\",\"3\": 1 1 1 1 2 1 2 2 2 1 ...\n",
            " $ bank.credits                  : Factor w/ 2 levels \"1\",\"2\": 1 2 1 2 2 2 2 1 2 1 ...\n",
            " $ occupation                    : Factor w/ 4 levels \"1\",\"2\",\"3\",\"4\": 3 3 2 2 2 2 2 2 1 1 ...\n",
            " $ dependents                    : Factor w/ 2 levels \"1\",\"2\": 1 2 1 2 1 2 1 2 1 1 ...\n",
            " $ telephone                     : Factor w/ 2 levels \"1\",\"2\": 1 1 1 1 1 1 1 1 1 1 ...\n",
            " $ foreign.worker                : Factor w/ 2 levels \"1\",\"2\": 1 1 1 2 2 2 2 2 1 1 ...\n"
          ],
          "name": "stdout"
        }
      ]
    },
    {
      "cell_type": "code",
      "metadata": {
        "id": "zJoZZ53QQ3CT",
        "colab_type": "code",
        "colab": {}
      },
      "source": [
        "%%R\n",
        "#View(credito_dataset_final)"
      ],
      "execution_count": null,
      "outputs": []
    },
    {
      "cell_type": "markdown",
      "metadata": {
        "id": "cVk5rGhNRM5Y",
        "colab_type": "text"
      },
      "source": [
        "##Dividindo dados de Treino e dados Teste"
      ]
    },
    {
      "cell_type": "code",
      "metadata": {
        "id": "F9vCqu3eQ_45",
        "colab_type": "code",
        "colab": {}
      },
      "source": [
        "%%R\n",
        "# Preparando os dados de treino e de teste\n",
        "indexes <- sample(1:nrow(credito_dataset_final), # contar um número de linhas e extrair uma amostra com 0.6 p/ Dados Treino de tamanho do credito_dataset_final\n",
        "                  size = 0.6 * nrow(credito_dataset_final))\n",
        "\n",
        "train.data <- credito_dataset_final[indexes,] # Dados Treino - retornar todas as linhas que tenham valor de índice = objeto \"indexes\", todas as colunas\n",
        "test.data <- credito_dataset_final[-indexes,] # Dados Teste  - retornar tudo que não tenha/seja \"indexes\" "
      ],
      "execution_count": 19,
      "outputs": []
    },
    {
      "cell_type": "code",
      "metadata": {
        "id": "OseuhRPvQ_1X",
        "colab_type": "code",
        "colab": {
          "base_uri": "https://localhost:8080/",
          "height": 408
        },
        "outputId": "695929e3-2927-4047-b61b-bb047a9b6a92"
      },
      "source": [
        "%%R \n",
        "str(train.data)"
      ],
      "execution_count": 28,
      "outputs": [
        {
          "output_type": "stream",
          "text": [
            "'data.frame':\t600 obs. of  21 variables:\n",
            " $ credit.rating                 : Factor w/ 2 levels \"0\",\"1\": 1 2 1 2 2 2 1 2 2 2 ...\n",
            " $ account.balance               : Factor w/ 3 levels \"1\",\"2\",\"3\": 1 3 1 3 2 2 1 2 3 3 ...\n",
            " $ credit.duration.months        : num [1:600, 1] 1.252 -0.904 -1.236 -1.153 0.754 ...\n",
            " $ previous.credit.payment.status: Factor w/ 3 levels \"1\",\"2\",\"3\": 2 3 1 3 2 2 2 2 2 1 ...\n",
            " $ credit.purpose                : Factor w/ 4 levels \"1\",\"2\",\"3\",\"4\": 4 4 3 3 2 3 3 3 3 2 ...\n",
            " $ credit.amount                 : num [1:600, 1] 2.125 -0.723 -0.734 -0.859 0.199 ...\n",
            " $ savings                       : Factor w/ 4 levels \"1\",\"2\",\"3\",\"4\": 1 1 1 4 1 1 1 3 1 1 ...\n",
            " $ employment.duration           : Factor w/ 4 levels \"1\",\"2\",\"3\",\"4\": 3 4 4 4 1 2 2 2 1 4 ...\n",
            " $ installment.rate              : Factor w/ 4 levels \"1\",\"2\",\"3\",\"4\": 2 3 4 3 2 2 2 4 1 2 ...\n",
            " $ marital.status                : Factor w/ 3 levels \"1\",\"3\",\"4\": 2 2 1 2 3 2 1 1 1 2 ...\n",
            " $ guarantor                     : Factor w/ 2 levels \"1\",\"2\": 1 1 1 1 1 1 1 1 1 1 ...\n",
            " $ residence.duration            : Factor w/ 4 levels \"1\",\"2\",\"3\",\"4\": 1 4 4 4 1 2 2 3 2 4 ...\n",
            " $ current.assets                : Factor w/ 4 levels \"1\",\"2\",\"3\",\"4\": 3 1 4 4 2 1 1 1 4 2 ...\n",
            " $ age                           : num [1:600, 1] -1.0167 -0.312 -0.0477 0.0403 -1.1928 ...\n",
            " $ other.credits                 : Factor w/ 2 levels \"1\",\"2\": 2 2 2 2 2 2 2 2 2 2 ...\n",
            " $ apartment.type                : Factor w/ 3 levels \"1\",\"2\",\"3\": 2 2 3 3 2 2 2 2 2 2 ...\n",
            " $ bank.credits                  : Factor w/ 2 levels \"1\",\"2\": 1 2 1 1 1 1 1 1 1 2 ...\n",
            " $ occupation                    : Factor w/ 4 levels \"1\",\"2\",\"3\",\"4\": 3 2 3 3 3 2 3 2 3 3 ...\n",
            " $ dependents                    : Factor w/ 2 levels \"1\",\"2\": 1 2 1 1 1 2 1 1 1 1 ...\n",
            " $ telephone                     : Factor w/ 2 levels \"1\",\"2\": 2 1 1 1 1 1 1 1 1 1 ...\n",
            " $ foreign.worker                : Factor w/ 2 levels \"1\",\"2\": 1 2 1 1 1 1 1 1 1 1 ...\n"
          ],
          "name": "stdout"
        }
      ]
    },
    {
      "cell_type": "code",
      "metadata": {
        "id": "FVsVYfXOQ_xn",
        "colab_type": "code",
        "colab": {
          "base_uri": "https://localhost:8080/",
          "height": 408
        },
        "outputId": "a111bed6-9057-4116-a4e8-2584cae1c2a1"
      },
      "source": [
        "%%R\n",
        "str(test.data)"
      ],
      "execution_count": 29,
      "outputs": [
        {
          "output_type": "stream",
          "text": [
            "'data.frame':\t400 obs. of  21 variables:\n",
            " $ credit.rating                 : Factor w/ 2 levels \"0\",\"1\": 2 2 2 2 2 2 2 2 2 2 ...\n",
            " $ account.balance               : Factor w/ 3 levels \"1\",\"2\",\"3\": 1 2 1 1 1 2 2 1 3 1 ...\n",
            " $ credit.duration.months        : num [1:400, 1] -1.07 0.257 0.754 -0.241 -1.236 ...\n",
            " $ previous.credit.payment.status: Factor w/ 3 levels \"1\",\"2\",\"3\": 3 2 3 2 2 2 3 3 3 2 ...\n",
            " $ credit.purpose                : Factor w/ 4 levels \"1\",\"2\",\"3\",\"4\": 4 3 1 3 3 3 4 4 3 4 ...\n",
            " $ credit.amount                 : num [1:400, 1] 0.0449 0.1724 1.0329 -0.473 -0.2211 ...\n",
            " $ savings                       : Factor w/ 4 levels \"1\",\"2\",\"3\",\"4\": 1 3 2 4 3 3 1 4 1 1 ...\n",
            " $ employment.duration           : Factor w/ 4 levels \"1\",\"2\",\"3\",\"4\": 3 1 3 3 2 1 1 1 4 1 ...\n",
            " $ installment.rate              : Factor w/ 4 levels \"1\",\"2\",\"3\",\"4\": 1 1 1 2 2 1 1 1 4 2 ...\n",
            " $ marital.status                : Factor w/ 3 levels \"1\",\"3\",\"4\": 2 1 3 3 2 3 2 2 2 2 ...\n",
            " $ guarantor                     : Factor w/ 2 levels \"1\",\"2\": 1 1 1 1 1 1 1 1 1 1 ...\n",
            " $ residence.duration            : Factor w/ 4 levels \"1\",\"2\",\"3\",\"4\": 4 4 4 4 3 3 3 3 4 3 ...\n",
            " $ current.assets                : Factor w/ 4 levels \"1\",\"2\",\"3\",\"4\": 1 4 3 3 1 1 1 1 2 1 ...\n",
            " $ age                           : num [1:400, 1] 0.305 -1.105 -1.017 -1.105 0.745 ...\n",
            " $ other.credits                 : Factor w/ 2 levels \"1\",\"2\": 2 2 2 2 2 2 1 2 2 2 ...\n",
            " $ apartment.type                : Factor w/ 3 levels \"1\",\"2\",\"3\": 2 1 1 1 1 1 2 2 2 2 ...\n",
            " $ bank.credits                  : Factor w/ 2 levels \"1\",\"2\": 2 1 2 2 1 1 2 2 1 1 ...\n",
            " $ occupation                    : Factor w/ 4 levels \"1\",\"2\",\"3\",\"4\": 2 1 3 2 3 3 2 2 3 3 ...\n",
            " $ dependents                    : Factor w/ 2 levels \"1\",\"2\": 1 1 1 1 2 1 2 2 1 1 ...\n",
            " $ telephone                     : Factor w/ 2 levels \"1\",\"2\": 1 1 1 1 1 1 1 1 1 1 ...\n",
            " $ foreign.worker                : Factor w/ 2 levels \"1\",\"2\": 2 1 1 1 1 1 1 1 1 1 ...\n"
          ],
          "name": "stdout"
        }
      ]
    },
    {
      "cell_type": "markdown",
      "metadata": {
        "id": "o1fGOD31RTjn",
        "colab_type": "text"
      },
      "source": [
        "##Separando os atributos e as classes - Separar variáveis explanatórias de variável alvo\n"
      ]
    },
    {
      "cell_type": "code",
      "metadata": {
        "id": "rUdq_gGTRmtQ",
        "colab_type": "code",
        "colab": {}
      },
      "source": [
        "%%R\n",
        "test.feature.vars <- test.data[,-1] # Variável Explanatória: Retornar todas as linhas e todas as colunas exceto a primeira\n",
        "test.class.var <- test.data[,1]     # Variável Resposta:     Retornar todas as linhas e apenas a primeira coluna\n"
      ],
      "execution_count": 32,
      "outputs": []
    },
    {
      "cell_type": "code",
      "metadata": {
        "id": "0AYiCY_wiIM9",
        "colab_type": "code",
        "colab": {
          "base_uri": "https://localhost:8080/",
          "height": 390
        },
        "outputId": "bbde3348-45f8-469e-ff89-1ba65ee0cafa"
      },
      "source": [
        "%%R\n",
        "str(test.feature.vars)"
      ],
      "execution_count": 34,
      "outputs": [
        {
          "output_type": "stream",
          "text": [
            "'data.frame':\t400 obs. of  20 variables:\n",
            " $ account.balance               : Factor w/ 3 levels \"1\",\"2\",\"3\": 1 2 1 1 1 2 2 1 3 1 ...\n",
            " $ credit.duration.months        : num [1:400, 1] -1.07 0.257 0.754 -0.241 -1.236 ...\n",
            " $ previous.credit.payment.status: Factor w/ 3 levels \"1\",\"2\",\"3\": 3 2 3 2 2 2 3 3 3 2 ...\n",
            " $ credit.purpose                : Factor w/ 4 levels \"1\",\"2\",\"3\",\"4\": 4 3 1 3 3 3 4 4 3 4 ...\n",
            " $ credit.amount                 : num [1:400, 1] 0.0449 0.1724 1.0329 -0.473 -0.2211 ...\n",
            " $ savings                       : Factor w/ 4 levels \"1\",\"2\",\"3\",\"4\": 1 3 2 4 3 3 1 4 1 1 ...\n",
            " $ employment.duration           : Factor w/ 4 levels \"1\",\"2\",\"3\",\"4\": 3 1 3 3 2 1 1 1 4 1 ...\n",
            " $ installment.rate              : Factor w/ 4 levels \"1\",\"2\",\"3\",\"4\": 1 1 1 2 2 1 1 1 4 2 ...\n",
            " $ marital.status                : Factor w/ 3 levels \"1\",\"3\",\"4\": 2 1 3 3 2 3 2 2 2 2 ...\n",
            " $ guarantor                     : Factor w/ 2 levels \"1\",\"2\": 1 1 1 1 1 1 1 1 1 1 ...\n",
            " $ residence.duration            : Factor w/ 4 levels \"1\",\"2\",\"3\",\"4\": 4 4 4 4 3 3 3 3 4 3 ...\n",
            " $ current.assets                : Factor w/ 4 levels \"1\",\"2\",\"3\",\"4\": 1 4 3 3 1 1 1 1 2 1 ...\n",
            " $ age                           : num [1:400, 1] 0.305 -1.105 -1.017 -1.105 0.745 ...\n",
            " $ other.credits                 : Factor w/ 2 levels \"1\",\"2\": 2 2 2 2 2 2 1 2 2 2 ...\n",
            " $ apartment.type                : Factor w/ 3 levels \"1\",\"2\",\"3\": 2 1 1 1 1 1 2 2 2 2 ...\n",
            " $ bank.credits                  : Factor w/ 2 levels \"1\",\"2\": 2 1 2 2 1 1 2 2 1 1 ...\n",
            " $ occupation                    : Factor w/ 4 levels \"1\",\"2\",\"3\",\"4\": 2 1 3 2 3 3 2 2 3 3 ...\n",
            " $ dependents                    : Factor w/ 2 levels \"1\",\"2\": 1 1 1 1 2 1 2 2 1 1 ...\n",
            " $ telephone                     : Factor w/ 2 levels \"1\",\"2\": 1 1 1 1 1 1 1 1 1 1 ...\n",
            " $ foreign.worker                : Factor w/ 2 levels \"1\",\"2\": 2 1 1 1 1 1 1 1 1 1 ...\n"
          ],
          "name": "stdout"
        }
      ]
    },
    {
      "cell_type": "code",
      "metadata": {
        "id": "2XEJLisYiIA3",
        "colab_type": "code",
        "colab": {
          "base_uri": "https://localhost:8080/",
          "height": 35
        },
        "outputId": "8f7bc3e1-581f-46a5-ce78-5012deed17ca"
      },
      "source": [
        "%%R \n",
        "str(test.class.var) # Resposta"
      ],
      "execution_count": 35,
      "outputs": [
        {
          "output_type": "stream",
          "text": [
            " Factor w/ 2 levels \"0\",\"1\": 2 2 2 2 2 2 2 2 2 2 ...\n"
          ],
          "name": "stdout"
        }
      ]
    },
    {
      "cell_type": "markdown",
      "metadata": {
        "id": "_C392MqJpYId",
        "colab_type": "text"
      },
      "source": [
        "---"
      ]
    },
    {
      "cell_type": "markdown",
      "metadata": {
        "id": "drRBSLaQR4PL",
        "colab_type": "text"
      },
      "source": [
        "##Construindo Modelo de Regressão Logística\n"
      ]
    },
    {
      "cell_type": "code",
      "metadata": {
        "id": "0nkPBeSfR_Tk",
        "colab_type": "code",
        "colab": {}
      },
      "source": [
        "%%R\n",
        "formula.init <- \"credit.rating ~ .\"       # criar uma string de fórmula : resposta ~ demais variáveis explanatórias\n",
        "formula.init <- as.formula(formula.init)  # definir como fórmula o parâmetro string formula.init"
      ],
      "execution_count": 36,
      "outputs": []
    },
    {
      "cell_type": "markdown",
      "metadata": {
        "id": "JpbvCdtrqFd3",
        "colab_type": "text"
      },
      "source": [
        "## Criar o modelo de Regressão Logística"
      ]
    },
    {
      "cell_type": "code",
      "metadata": {
        "id": "xfSKhdz7qIrC",
        "colab_type": "code",
        "colab": {}
      },
      "source": [
        "%%R\n",
        "# help(glm)\n",
        "modelo_v1 <- glm(formula = formula.init, # passar a formula definida como parâmetro\n",
        "                 data = train.data,      # indicar os dados de treino \n",
        "                 family = \"binomial\")    # indicar a família, na prática é uma classificação binária 1/0"
      ],
      "execution_count": 37,
      "outputs": []
    },
    {
      "cell_type": "markdown",
      "metadata": {
        "id": "9RXUYe2cSWaf",
        "colab_type": "text"
      },
      "source": [
        "##Visualizando os detalhes do modelo"
      ]
    },
    {
      "cell_type": "code",
      "metadata": {
        "id": "QNX14GDFSZQx",
        "colab_type": "code",
        "colab": {
          "base_uri": "https://localhost:8080/",
          "height": 1000
        },
        "outputId": "c9536095-ee19-40d6-cc72-333b63a09321"
      },
      "source": [
        "%%R\n",
        "summary(modelo_v1) # summary retorna o resumo total do modelo\n",
        "\n",
        "# primeiro temos o intercepto\n",
        "# posteriormente o nome de cada variável que são so demais coeficientes\n",
        "# temos o valor estimado, o Erro Padrão, valor-z e valor-p\n",
        "# de acordo com valor-p conseguimos identificar se a variável ajuda ou não a explicar a variabilidade de variável resposta\n",
        "# os asteriscos indicam o quão relevante ou significante cada variável é p/ o modelo"
      ],
      "execution_count": 38,
      "outputs": [
        {
          "output_type": "stream",
          "text": [
            "\n",
            "Call:\n",
            "glm(formula = formula.init, family = \"binomial\", data = train.data)\n",
            "\n",
            "Deviance Residuals: \n",
            "    Min       1Q   Median       3Q      Max  \n",
            "-2.4918  -0.6999   0.3708   0.7196   2.4332  \n",
            "\n",
            "Coefficients:\n",
            "                                Estimate Std. Error z value Pr(>|z|)    \n",
            "(Intercept)                      -0.9040     1.0037  -0.901 0.367778    \n",
            "account.balance2                  0.5468     0.2837   1.927 0.053944 .  \n",
            "account.balance3                  1.7089     0.2811   6.079 1.21e-09 ***\n",
            "credit.duration.months           -0.2987     0.1435  -2.082 0.037323 *  \n",
            "previous.credit.payment.status2   0.6284     0.4140   1.518 0.129038    \n",
            "previous.credit.payment.status3   1.5279     0.4332   3.527 0.000421 ***\n",
            "credit.purpose2                  -0.3859     0.4855  -0.795 0.426713    \n",
            "credit.purpose3                  -0.8470     0.4613  -1.836 0.066358 .  \n",
            "credit.purpose4                  -1.2487     0.4459  -2.800 0.005103 ** \n",
            "credit.amount                    -0.3621     0.1658  -2.184 0.028986 *  \n",
            "savings2                          0.6723     0.3820   1.760 0.078408 .  \n",
            "savings3                          1.0284     0.4384   2.346 0.018974 *  \n",
            "savings4                          1.1268     0.3522   3.199 0.001377 ** \n",
            "employment.duration2              0.3845     0.3124   1.230 0.218516    \n",
            "employment.duration3              0.6368     0.3743   1.701 0.088853 .  \n",
            "employment.duration4              0.1866     0.3578   0.521 0.602077    \n",
            "installment.rate2                -0.3761     0.3904  -0.963 0.335365    \n",
            "installment.rate3                -0.4757     0.4361  -1.091 0.275347    \n",
            "installment.rate4                -0.9587     0.3836  -2.499 0.012440 *  \n",
            "marital.status3                   0.7477     0.2611   2.864 0.004184 ** \n",
            "marital.status4                   0.2522     0.4332   0.582 0.560333    \n",
            "guarantor2                        0.2484     0.4215   0.589 0.555649    \n",
            "residence.duration2              -0.5547     0.3863  -1.436 0.151030    \n",
            "residence.duration3              -0.3566     0.4388  -0.813 0.416469    \n",
            "residence.duration4              -0.1243     0.3983  -0.312 0.754990    \n",
            "current.assets2                  -0.1682     0.3246  -0.518 0.604307    \n",
            "current.assets3                  -0.2195     0.3130  -0.701 0.482992    \n",
            "current.assets4                  -0.5679     0.5262  -1.079 0.280429    \n",
            "age                               0.1192     0.1411   0.845 0.398139    \n",
            "other.credits2                    0.1887     0.2933   0.643 0.519973    \n",
            "apartment.type2                   0.4478     0.3161   1.417 0.156568    \n",
            "apartment.type3                   0.3755     0.6127   0.613 0.539973    \n",
            "bank.credits2                    -0.5271     0.3032  -1.739 0.082076 .  \n",
            "occupation2                       0.3356     0.7714   0.435 0.663476    \n",
            "occupation3                       0.6797     0.7506   0.905 0.365209    \n",
            "occupation4                       0.5947     0.7967   0.746 0.455417    \n",
            "dependents2                      -0.2126     0.3230  -0.658 0.510409    \n",
            "telephone2                        0.1285     0.2616   0.491 0.623249    \n",
            "foreign.worker2                   1.5294     0.7703   1.985 0.047106 *  \n",
            "---\n",
            "Signif. codes:  0 ‘***’ 0.001 ‘**’ 0.01 ‘*’ 0.05 ‘.’ 0.1 ‘ ’ 1\n",
            "\n",
            "(Dispersion parameter for binomial family taken to be 1)\n",
            "\n",
            "    Null deviance: 734.72  on 599  degrees of freedom\n",
            "Residual deviance: 537.88  on 561  degrees of freedom\n",
            "AIC: 615.88\n",
            "\n",
            "Number of Fisher Scoring iterations: 5\n",
            "\n"
          ],
          "name": "stdout"
        }
      ]
    },
    {
      "cell_type": "markdown",
      "metadata": {
        "id": "mU7dS1CiV0FI",
        "colab_type": "text"
      },
      "source": [
        "## Fazendo previsões e analisando o resultado com Dados de Teste\n"
      ]
    },
    {
      "cell_type": "code",
      "metadata": {
        "id": "6XpkKWMPrxvB",
        "colab_type": "code",
        "colab": {}
      },
      "source": [
        "# View(test.data)"
      ],
      "execution_count": null,
      "outputs": []
    },
    {
      "cell_type": "markdown",
      "metadata": {
        "id": "WMnEqssqr53p",
        "colab_type": "text"
      },
      "source": [
        "Nos Dados de Teste nós temos a variável resposta, visto que queremos comparar o resultado do modelo. Queremos comparar as previsões em teste com os valores observados p/ calcular a taxa de erros e avaliar a performance do modelo. \n",
        "\n",
        "Por isso temos a variável resposta também nos dados de teste."
      ]
    },
    {
      "cell_type": "code",
      "metadata": {
        "id": "gtFDxTooV5nD",
        "colab_type": "code",
        "colab": {}
      },
      "source": [
        "%%R\n",
        "previsoes <- predict(modelo_v1, # Chamar a função predict e passar o modelo como parâmetro\n",
        "                     test.data, # Passar os Dados de Teste\n",
        "                     type = \"response\") # Ajustar como \"response\", a variável resposta que é o que desejamos com resultado\n",
        "\n",
        "previsoes <- round(previsoes)  \n",
        "#View(previsoes)"
      ],
      "execution_count": 41,
      "outputs": []
    },
    {
      "cell_type": "markdown",
      "metadata": {
        "id": "_cEhHx4YsqJE",
        "colab_type": "text"
      },
      "source": [
        "Quando as previsões são criadas, os valores são retornados como probabilidade. Se quisermos o retorno como (0/1) aplicamos o **round()**"
      ]
    },
    {
      "cell_type": "code",
      "metadata": {
        "id": "iRBL79pttGtG",
        "colab_type": "code",
        "colab": {
          "base_uri": "https://localhost:8080/",
          "height": 906
        },
        "outputId": "8954d3f7-4180-4279-8dbb-2c652923329c"
      },
      "source": [
        "%%R\n",
        "print(previsoes)"
      ],
      "execution_count": 43,
      "outputs": [
        {
          "output_type": "stream",
          "text": [
            "   7   10   12   15   16   18   22   25   31   35   37   42   43   45   46   48 \n",
            "   1    0    1    1    1    1    1    1    1    1    1    0    1    1    0    1 \n",
            "  49   52   55   56   65   68   70   77   80   82   85   87   97  106  107  113 \n",
            "   1    1    1    1    0    1    1    1    1    1    1    1    1    1    1    1 \n",
            " 116  117  120  121  123  125  127  129  131  134  135  138  143  144  145  146 \n",
            "   0    1    1    0    0    1    1    1    1    1    1    1    1    1    1    1 \n",
            " 147  151  154  156  157  158  159  161  163  168  170  172  174  175  179  183 \n",
            "   1    1    1    1    0    1    0    1    1    1    1    0    1    1    1    0 \n",
            " 184  186  190  192  202  205  206  210  215  217  218  219  221  224  225  226 \n",
            "   1    1    1    1    1    1    1    1    1    1    1    0    0    1    1    1 \n",
            " 229  231  233  238  242  247  251  252  255  258  259  262  265  268  273  274 \n",
            "   1    1    1    0    0    1    1    1    1    1    1    1    1    1    1    1 \n",
            " 279  282  283  284  285  286  290  303  304  307  311  313  317  319  323  324 \n",
            "   0    1    1    1    0    1    1    1    1    1    1    1    1    1    1    1 \n",
            " 325  326  327  329  332  333  337  338  341  342  343  346  347  352  353  357 \n",
            "   1    1    1    1    1    1    1    1    1    1    1    1    1    1    0    1 \n",
            " 359  361  362  363  368  369  372  373  374  377  378  379  380  384  385  388 \n",
            "   1    1    0    1    1    0    1    1    0    0    1    1    1    0    1    1 \n",
            " 389  392  394  395  396  399  400  401  405  407  411  414  419  423  425  426 \n",
            "   1    1    1    1    1    1    1    0    1    1    1    1    1    1    1    1 \n",
            " 427  431  432  434  438  440  443  448  452  453  454  456  459  461  462  463 \n",
            "   1    1    1    1    1    0    1    1    1    0    0    1    1    1    1    1 \n",
            " 466  470  471  475  476  481  486  489  490  491  495  497  499  500  501  502 \n",
            "   1    1    1    1    0    1    1    1    1    1    1    1    1    1    1    1 \n",
            " 503  504  506  511  515  516  518  522  526  527  528  533  534  535  538  542 \n",
            "   1    1    1    1    1    1    1    0    1    0    1    1    1    0    1    1 \n",
            " 544  547  552  553  556  557  559  561  562  563  564  565  566  569  571  573 \n",
            "   1    1    1    1    1    0    1    1    1    0    1    1    1    1    1    1 \n",
            " 575  576  579  581  582  583  586  589  590  592  595  596  598  602  603  604 \n",
            "   1    0    1    0    1    1    1    1    1    1    0    1    1    1    1    1 \n",
            " 605  610  611  614  616  617  620  623  624  630  631  635  637  639  640  641 \n",
            "   0    1    0    0    0    0    1    1    1    0    0    0    1    1    1    1 \n",
            " 644  657  664  665  668  669  671  672  673  676  680  681  682  683  688  689 \n",
            "   0    1    1    1    1    1    1    0    0    1    1    1    1    1    0    1 \n",
            " 691  692  694  695  696  698  700  705  709  711  712  713  714  716  717  719 \n",
            "   1    0    1    1    1    1    1    1    0    1    0    1    1    0    0    1 \n",
            " 722  725  726  732  734  736  737  740  741  742  743  747  749  751  756  764 \n",
            "   1    1    1    1    0    1    1    1    1    1    1    1    1    1    0    0 \n",
            " 769  772  773  777  780  781  782  784  785  788  790  792  793  797  799  800 \n",
            "   1    0    0    1    1    1    1    0    0    1    1    1    0    1    0    1 \n",
            " 804  805  807  808  818  819  820  821  822  823  828  829  830  831  832  834 \n",
            "   1    1    0    0    1    1    1    0    0    0    1    1    0    0    1    1 \n",
            " 840  843  847  849  850  853  856  857  858  862  863  866  871  873  874  880 \n",
            "   1    1    1    1    1    0    0    0    0    0    1    1    1    1    1    0 \n",
            " 883  886  889  891  894  895  897  899  903  904  914  915  917  921  922  923 \n",
            "   0    0    0    0    0    1    1    0    0    1    0    0    1    1    0    0 \n",
            " 925  926  927  928  933  936  938  942  944  948  957  958  959  960  961  963 \n",
            "   1    1    0    0    1    1    1    0    1    1    0    1    0    0    1    0 \n",
            " 966  967  968  970  971  973  975  981  983  990  992  996  997  998  999 1000 \n",
            "   0    1    0    0    0    1    0    1    1    0    0    0    1    1    1    1 \n"
          ],
          "name": "stdout"
        }
      ]
    },
    {
      "cell_type": "markdown",
      "metadata": {
        "id": "0qzSfzd9V8u8",
        "colab_type": "text"
      },
      "source": [
        "##Confusion Matrix - Automatizar o processo de comparação\n",
        "\n",
        "Mostra o nível de performance alcançado pelo modelo"
      ]
    },
    {
      "cell_type": "code",
      "metadata": {
        "id": "nB7HVDNsWAOn",
        "colab_type": "code",
        "colab": {
          "base_uri": "https://localhost:8080/",
          "height": 497
        },
        "outputId": "6d682edd-0281-4723-b20f-c61dd34faf0b"
      },
      "source": [
        "%%R\n",
        "confusionMatrix(table(data = previsoes, # previsões que foram calculadas logo antes pelo modelo\n",
        "                      reference = test.class.var),  # utilizar a classe de teste como valores observados\n",
        "                      positive = '1')\n",
        "\n",
        "# Os dados tinham como label o valor 0 e o modelo previu 0 - 59 vezes ~ modelo acertou\n",
        "# Os dados tinham como label o valor 0 e o modelo previu 1 - 43 vezes ~ modelo errou\n",
        "# Os dados tinham como label o valor 1 e o modelo previu 0 - 61 vezes ~ modelo errou\n",
        "# Os dados tinham como label o valor 1 e o modelo previu 1 - 238 vezes ~ modelo acertou\n",
        "\n",
        "# A acurácia deste modelo está em 74% para este conjunto de dados"
      ],
      "execution_count": 45,
      "outputs": [
        {
          "output_type": "stream",
          "text": [
            "Confusion Matrix and Statistics\n",
            "\n",
            "    reference\n",
            "data   0   1\n",
            "   0  58  43\n",
            "   1  61 238\n",
            "                                          \n",
            "               Accuracy : 0.74            \n",
            "                 95% CI : (0.6941, 0.7823)\n",
            "    No Information Rate : 0.7025          \n",
            "    P-Value [Acc > NIR] : 0.05501         \n",
            "                                          \n",
            "                  Kappa : 0.3496          \n",
            "                                          \n",
            " Mcnemar's Test P-Value : 0.09552         \n",
            "                                          \n",
            "            Sensitivity : 0.8470          \n",
            "            Specificity : 0.4874          \n",
            "         Pos Pred Value : 0.7960          \n",
            "         Neg Pred Value : 0.5743          \n",
            "             Prevalence : 0.7025          \n",
            "         Detection Rate : 0.5950          \n",
            "   Detection Prevalence : 0.7475          \n",
            "      Balanced Accuracy : 0.6672          \n",
            "                                          \n",
            "       'Positive' Class : 1               \n",
            "                                          \n"
          ],
          "name": "stdout"
        }
      ]
    },
    {
      "cell_type": "markdown",
      "metadata": {
        "id": "2qtsMMLLupZB",
        "colab_type": "text"
      },
      "source": [
        "Dificilmente a 1a versão do modelo será a ideal"
      ]
    },
    {
      "cell_type": "markdown",
      "metadata": {
        "id": "P0jW46rjWB_R",
        "colab_type": "text"
      },
      "source": [
        "## Feature Selection - Idenfiticar as variáveis mais relevantes \n",
        "\n",
        "Será que precisamos de todas as variáveis explanatória para criar o modelo de regressão logística?"
      ]
    },
    {
      "cell_type": "code",
      "metadata": {
        "id": "zWxqz_2ZWE4x",
        "colab_type": "code",
        "colab": {}
      },
      "source": [
        "%%R\n",
        "\n",
        "formula <- \"credit.rating ~ .\" # Primeiro vamos criar uma fórmula utilizando y e todas as demais variáveis explanatórias\n",
        "\n",
        "formula <- as.formula(formula) # Converter em fórmular\n",
        "\n",
        "control <- trainControl(method = \"repeatedcv\", number = 10, repeats = 2) # função trainControl() {caret}\n",
        "# A função criará um método p/ o modelo ser repetido diversas vezes, inclusive utilizando cross validation\n",
        "# Repetiremos o processo inúmeras vezes e ao final seremos capazes de extrair as variáveis mais relevantes\n",
        "\n",
        "model <- train(formula, # função  train() {caret}, passando a fórmula como parâmetro\n",
        "               data = train.data, # repassando os dados de TREINO\n",
        "               method = \"glm\",    # método glm para Regressão Logística\n",
        "               trControl = control) # qual será o procedimento de controle\n",
        "\n",
        "# Uma vez com o modelo acima executado, podemos aplicar a função VarImp p/ extrair a importância das variáveis\n",
        "# varImp coletará a importância de cada uma das variáveis\n",
        "importance <- varImp(model, # passar o modelo\n",
        "                     scale = FALSE) "
      ],
      "execution_count": 46,
      "outputs": []
    },
    {
      "cell_type": "code",
      "metadata": {
        "id": "eb9ZQF8LWPmS",
        "colab_type": "code",
        "colab": {
          "base_uri": "https://localhost:8080/",
          "height": 497
        },
        "outputId": "08a9cb12-1033-47e0-832c-b320fe3500d2"
      },
      "source": [
        "%%R\n",
        "plot(importance)"
      ],
      "execution_count": 47,
      "outputs": [
        {
          "output_type": "display_data",
          "data": {
            "image/png": "[encoded data removed]"
          },
          "metadata": {
            "tags": []
          }
        }
      ]
    },
    {
      "cell_type": "markdown",
      "metadata": {
        "id": "kCSbLJ91WLJ5",
        "colab_type": "text"
      },
      "source": [
        "##Construindo um novo modelo com as variáveis selecionadas"
      ]
    },
    {
      "cell_type": "code",
      "metadata": {
        "id": "yBW7yxhlWVfS",
        "colab_type": "code",
        "colab": {}
      },
      "source": [
        "%%R\n",
        "# colocar na nova fórmula apenas as principais variáveis retornadas por varImp\n",
        "formula.new <- \"credit.rating ~ account.balance + credit.purpose + previous.credit.payment.status + savings + credit.duration.months\"\n",
        "formula.new <- as.formula(formula.new) # aplicamos à função fórmula\n",
        "\n",
        "modelo_v2 <- glm(formula = formula.new, # Criando a segunda versão do modelo\n",
        "                 data = train.data,     # Dados de Treino\n",
        "                 family = \"binomial\")   # Classificação binária para Regressão Logística"
      ],
      "execution_count": 49,
      "outputs": []
    },
    {
      "cell_type": "markdown",
      "metadata": {
        "id": "T3HlijbvWehU",
        "colab_type": "text"
      },
      "source": [
        "##Visualizando novo modelo"
      ]
    },
    {
      "cell_type": "code",
      "metadata": {
        "id": "E0bMKo0_Wc0l",
        "colab_type": "code",
        "colab": {
          "base_uri": "https://localhost:8080/",
          "height": 604
        },
        "outputId": "22358cf2-9b15-495a-b567-58db386c9d89"
      },
      "source": [
        "%%R\n",
        "summary(modelo_v2)"
      ],
      "execution_count": 50,
      "outputs": [
        {
          "output_type": "stream",
          "text": [
            "\n",
            "Call:\n",
            "glm(formula = formula.new, family = \"binomial\", data = train.data)\n",
            "\n",
            "Deviance Residuals: \n",
            "    Min       1Q   Median       3Q      Max  \n",
            "-2.5662  -0.8389   0.4508   0.7357   1.8526  \n",
            "\n",
            "Coefficients:\n",
            "                                Estimate Std. Error z value Pr(>|z|)    \n",
            "(Intercept)                      -0.6605     0.5008  -1.319  0.18722    \n",
            "account.balance2                  0.5406     0.2541   2.128  0.03335 *  \n",
            "account.balance3                  1.6651     0.2608   6.385 1.71e-10 ***\n",
            "credit.purpose2                  -0.2246     0.4366  -0.514  0.60693    \n",
            "credit.purpose3                  -0.6162     0.4024  -1.531  0.12570    \n",
            "credit.purpose4                  -0.9632     0.3987  -2.416  0.01571 *  \n",
            "previous.credit.payment.status2   0.8632     0.3595   2.401  0.01634 *  \n",
            "previous.credit.payment.status3   1.4777     0.3714   3.979 6.93e-05 ***\n",
            "savings2                          0.6331     0.3572   1.772  0.07632 .  \n",
            "savings3                          1.1523     0.4186   2.753  0.00590 ** \n",
            "savings4                          1.0378     0.3157   3.288  0.00101 ** \n",
            "credit.duration.months           -0.4752     0.1059  -4.486 7.26e-06 ***\n",
            "---\n",
            "Signif. codes:  0 ‘***’ 0.001 ‘**’ 0.01 ‘*’ 0.05 ‘.’ 0.1 ‘ ’ 1\n",
            "\n",
            "(Dispersion parameter for binomial family taken to be 1)\n",
            "\n",
            "    Null deviance: 734.72  on 599  degrees of freedom\n",
            "Residual deviance: 582.22  on 588  degrees of freedom\n",
            "AIC: 606.22\n",
            "\n",
            "Number of Fisher Scoring iterations: 5\n",
            "\n"
          ],
          "name": "stdout"
        }
      ]
    },
    {
      "cell_type": "markdown",
      "metadata": {
        "id": "RbVQr4AdWiSb",
        "colab_type": "text"
      },
      "source": [
        "##Prevendo e Avaliando o Modelo "
      ]
    },
    {
      "cell_type": "code",
      "metadata": {
        "id": "_kMA6J0IWxHB",
        "colab_type": "code",
        "colab": {}
      },
      "source": [
        "%%R\n",
        "previsoes_new <- predict(modelo_v2, test.data, type = \"response\") \n",
        "previsoes_new <- round(previsoes_new)"
      ],
      "execution_count": 75,
      "outputs": []
    },
    {
      "cell_type": "markdown",
      "metadata": {
        "id": "--EqklzfWy8z",
        "colab_type": "text"
      },
      "source": [
        "##Confusion Matrix - Avaliar perfomance do modelo após a construção de cada versão\n",
        "\n"
      ]
    },
    {
      "cell_type": "markdown",
      "metadata": {
        "id": "PXsBPEPwyG7l",
        "colab_type": "text"
      },
      "source": [
        "Tecnicamente temos quase a mesma Acurácia do primeiro modelo \n",
        "\n",
        "O fato de termos uma acurácia menor, não significa que seja um problema. Talvez a verão 1 do modelo com acurácia um pouco maior fosse um modelo mais tendencioso. \n",
        "\n",
        "Essa nova versão tem menos variáveis, portanto é um modelo menos complexo que, talvez, seja mais generalizável. \n"
      ]
    },
    {
      "cell_type": "code",
      "metadata": {
        "id": "YtuI0dHHW20k",
        "colab_type": "code",
        "colab": {
          "base_uri": "https://localhost:8080/",
          "height": 497
        },
        "outputId": "0ef4db54-fd26-4a64-ee66-d02d9c4b6df1"
      },
      "source": [
        "%%R\n",
        "confusionMatrix(table(data = previsoes_new, reference = test.class.var), positive = '1')"
      ],
      "execution_count": 52,
      "outputs": [
        {
          "output_type": "stream",
          "text": [
            "Confusion Matrix and Statistics\n",
            "\n",
            "    reference\n",
            "data   0   1\n",
            "   0  50  37\n",
            "   1  69 244\n",
            "                                          \n",
            "               Accuracy : 0.735           \n",
            "                 95% CI : (0.6889, 0.7776)\n",
            "    No Information Rate : 0.7025          \n",
            "    P-Value [Acc > NIR] : 0.084705        \n",
            "                                          \n",
            "                  Kappa : 0.3127          \n",
            "                                          \n",
            " Mcnemar's Test P-Value : 0.002604        \n",
            "                                          \n",
            "            Sensitivity : 0.8683          \n",
            "            Specificity : 0.4202          \n",
            "         Pos Pred Value : 0.7796          \n",
            "         Neg Pred Value : 0.5747          \n",
            "             Prevalence : 0.7025          \n",
            "         Detection Rate : 0.6100          \n",
            "   Detection Prevalence : 0.7825          \n",
            "      Balanced Accuracy : 0.6442          \n",
            "                                          \n",
            "       'Positive' Class : 1               \n",
            "                                          \n"
          ],
          "name": "stdout"
        }
      ]
    },
    {
      "cell_type": "markdown",
      "metadata": {
        "id": "XH9D2mq_y3s2",
        "colab_type": "text"
      },
      "source": [
        "---"
      ]
    },
    {
      "cell_type": "markdown",
      "metadata": {
        "id": "cm50Tc-szL9z",
        "colab_type": "text"
      },
      "source": [
        "Quando chegarmos numa versão que seja próxima do que considerarmos ideal, podemos fazer a avaliação de performance do modelo usando, por exemplo, uma curva ROC. \n",
        "\n",
        "A curva ROC ajuda a compreender de maneira mais visual se o modelo tem ou não uma boa performance. "
      ]
    },
    {
      "cell_type": "markdown",
      "metadata": {
        "id": "28nvPfIAW6LU",
        "colab_type": "text"
      },
      "source": [
        "##Avaliando Performance do Modelo - c/ Dados de Teste\n",
        "\n",
        "### Plot do modelo com melhor Acurácia"
      ]
    },
    {
      "cell_type": "code",
      "metadata": {
        "id": "1Zrdh8DVW_ZI",
        "colab_type": "code",
        "colab": {}
      },
      "source": [
        "%%R\n",
        "modelo_final <- modelo_v2 # determinamos que este será o modelo final \n",
        "\n",
        "previsoes <- predict(modelo_final,  # função predict() com o modelo final\n",
        "                     test.feature.vars, # atributos nos Dados de Teste (novos dados)\n",
        "                     type = \"response\")  # queremos a variável resposta\n",
        "\n",
        "# agora temos a avaliação, a diferença entre as previsões do modelo e os valores observados em Teste\n",
        "# prediction() faz exatamente esse cálculo da diferença do previsto e observado\n",
        "avaliacao <- prediction(previsoes, \n",
        "                               test.class.var)"
      ],
      "execution_count": 53,
      "outputs": []
    },
    {
      "cell_type": "markdown",
      "metadata": {
        "id": "mbBQ7rIJXLNY",
        "colab_type": "text"
      },
      "source": [
        "## Função Plot ROC"
      ]
    },
    {
      "cell_type": "code",
      "metadata": {
        "id": "sNCDyAqJXOqT",
        "colab_type": "code",
        "colab": {}
      },
      "source": [
        "%%R\n",
        "# Função para Plot ROC \n",
        "plot.roc.curve <- function(predictions, title.text){\n",
        "  perf <- performance(avaliacao, \"tpr\", \"fpr\")\n",
        "  plot(perf,col = \"black\",lty = 1, lwd = 2,\n",
        "       main = title.text, cex.main = 0.6, cex.lab = 0.8,xaxs = \"i\", yaxs = \"i\")\n",
        "  abline(0,1, col = \"red\")\n",
        "  auc <- performance(avaliacao, \"auc\")\n",
        "  auc <- unlist(slot(auc, \"y.values\"))\n",
        "  auc <- round(auc,2)\n",
        "  legend(0.4,0.4,legend = c(paste0(\"AUC: \",auc)), cex = 0.6, bty = \"n\", box.col = \"white\")  \n",
        "}"
      ],
      "execution_count": 54,
      "outputs": []
    },
    {
      "cell_type": "code",
      "metadata": {
        "id": "hjJVBaKzXS22",
        "colab_type": "code",
        "colab": {
          "base_uri": "https://localhost:8080/",
          "height": 497
        },
        "outputId": "ce40d7e0-25d3-41c0-b5f0-35ecf6d0cbe3"
      },
      "source": [
        "%%R\n",
        "# Plot\n",
        "par(mfrow = c(1, 1)) # definir área de plotagem\n",
        "\n",
        "# executar a função roc\n",
        "plot.roc.curve(avaliacao, title.text = \"Curva ROC\")\n",
        "\n",
        "# Primeiramente temos a relação entre a taxa de falso positivo no eixo X\n",
        "# Taxa de verdadeiro positivo no eixo Y\n",
        "# A linha vermelha é uma linha de corte que representa 50% de precisão \n",
        "# Se a linha ROC estive abaixo da linha vermelha, o modelo é horrível\n",
        "# A meta é manter ROCa acima da linha vermelha e mais próximo possível de 1.0, próximo a 100%\n",
        "\n",
        "# ROC é uma maneira visual de avaliar a performance do modelo\n",
        "# Excelente forma de documentar nosso trabalho, de forma visual"
      ],
      "execution_count": 60,
      "outputs": [
        {
          "output_type": "display_data",
          "data": {
            "image/png": "[encoded data removed]"
          },
          "metadata": {
            "tags": []
          }
        }
      ]
    },
    {
      "cell_type": "markdown",
      "metadata": {
        "id": "InKpAl_K1pdl",
        "colab_type": "text"
      },
      "source": [
        "---"
      ]
    },
    {
      "cell_type": "markdown",
      "metadata": {
        "id": "C7SH1wMjXV8o",
        "colab_type": "text"
      },
      "source": [
        "##Fazendo previsões em novos dados\n",
        "\n",
        "### Novos dados\n",
        "\n",
        "Primeiro coletamos os dados, realizamos o pré-processamento, dividimos em dados de Treino e Teste. Dados de treino treinamos o modelo, dados de teste p/ avaliar a perfomance do modelo. \n",
        "\n",
        "Uma vez alcançada a performance ideal esperada, podemos colocá-lo p/ trabalhar. A partir desse modelo acaba o trablaho do cientista de dados. \n",
        "\n",
        "Neste momento inicia o trabalho do engenheiro de Machine Learning ou do engenheiro de dados. Não cabe ao cientista de dados colocar o modelo p/ fazer previsões. "
      ]
    },
    {
      "cell_type": "code",
      "metadata": {
        "id": "fpozof5cXcX6",
        "colab_type": "code",
        "colab": {}
      },
      "source": [
        "%%R\n",
        "# O modelo agora precisa receber dados de novos/futuros clientes\n",
        "# Temos as 5 variáveis explanatórias usadas p/ treinar e criar o modelo\n",
        "\n",
        "\n",
        "# Temos agora dados de 3 novos clientes, as informações dos clientes estão alocadas nos vetores\n",
        "account.balance <- c(1, 3, 3, 2)\n",
        "\n",
        "credit.purpose <- c(4, 2, 3, 2)\n",
        "\n",
        "previous.credit.payment.status <- c(3, 3, 2, 2)\n",
        "\n",
        "savings <- c(2, 3, 2, 3)\n",
        "\n",
        "credit.duration.months <- c(15, 12, 8, 6)"
      ],
      "execution_count": 88,
      "outputs": []
    },
    {
      "cell_type": "markdown",
      "metadata": {
        "id": "3nWIJCdbXiul",
        "colab_type": "text"
      },
      "source": [
        "##Criar DataFrame com os vetores dos novos clientes\n",
        "\n",
        "O modelo recebe o objeto DataFrame p/ rodar"
      ]
    },
    {
      "cell_type": "code",
      "metadata": {
        "id": "wnqaZBnpXkpt",
        "colab_type": "code",
        "colab": {
          "base_uri": "https://localhost:8080/",
          "height": 195
        },
        "outputId": "5d8ddcf3-9c8e-4715-8b23-b4bdea3b5ccf"
      },
      "source": [
        "%%R\n",
        "novo_dataset <- data.frame(account.balance, \n",
        "                           credit.purpose, \n",
        "                           previous.credit.payment.status, \n",
        "                           savings, \n",
        "                          credit.duration.months)\n",
        "\n",
        "head(novo_dataset)"
      ],
      "execution_count": 89,
      "outputs": [
        {
          "output_type": "stream",
          "text": [
            "  account.balance credit.purpose previous.credit.payment.status savings\n",
            "1               1              4                              3       2\n",
            "2               3              2                              3       3\n",
            "3               3              3                              2       2\n",
            "4               2              2                              2       3\n",
            "  credit.duration.months\n",
            "1                     15\n",
            "2                     12\n",
            "3                      8\n",
            "4                      6\n"
          ],
          "name": "stdout"
        }
      ]
    },
    {
      "cell_type": "code",
      "metadata": {
        "id": "BoHzvDH-3UDZ",
        "colab_type": "code",
        "colab": {
          "base_uri": "https://localhost:8080/",
          "height": 35
        },
        "outputId": "7e6c21a6-e69d-47f1-c4bd-82792165eceb"
      },
      "source": [
        "%%R\n",
        "class(novo_dataset)"
      ],
      "execution_count": 79,
      "outputs": [
        {
          "output_type": "stream",
          "text": [
            "[1] \"data.frame\"\n"
          ],
          "name": "stdout"
        }
      ]
    },
    {
      "cell_type": "code",
      "metadata": {
        "id": "UqwPZ4TkXp1Q",
        "colab_type": "code",
        "colab": {
          "base_uri": "https://localhost:8080/",
          "height": 35
        },
        "outputId": "2972a59a-1d45-41da-c8c7-88f587e9c53b"
      },
      "source": [
        "%%R\n",
        "#View(novo_dataset)"
      ],
      "execution_count": 80,
      "outputs": [
        {
          "output_type": "stream",
          "text": [
            "NULL\n"
          ],
          "name": "stdout"
        }
      ]
    },
    {
      "cell_type": "markdown",
      "metadata": {
        "id": "DHNbdb3n3qZQ",
        "colab_type": "text"
      },
      "source": [
        "##Pré-processamento é necessário também p/ novas previsões"
      ]
    },
    {
      "cell_type": "markdown",
      "metadata": {
        "id": "BzfjRpBTXstE",
        "colab_type": "text"
      },
      "source": [
        "## Separar variáveis explanatórias numéricas e categóricas"
      ]
    },
    {
      "cell_type": "code",
      "metadata": {
        "id": "jJpQ2WkFX1Qo",
        "colab_type": "code",
        "colab": {}
      },
      "source": [
        "%%R\n",
        "# variável numérica\n",
        "new.numeric.vars <- c(\"credit.duration.months\") \n",
        "\n",
        "# variáveis categóricas\n",
        "new.categorical.vars <- c('account.balance', 'previous.credit.payment.status', \n",
        "                          'credit.purpose', 'savings')"
      ],
      "execution_count": 90,
      "outputs": []
    },
    {
      "cell_type": "markdown",
      "metadata": {
        "id": "ygdc6KmeX47_",
        "colab_type": "text"
      },
      "source": [
        "## Aplicando transformações![texto alternativo](https://)"
      ]
    },
    {
      "cell_type": "code",
      "metadata": {
        "id": "k0PBrx4PX7v1",
        "colab_type": "code",
        "colab": {
          "base_uri": "https://localhost:8080/",
          "height": 124
        },
        "outputId": "937483e3-5b85-43fd-8622-0819791b7122"
      },
      "source": [
        "%%R\n",
        "# transformar variáveis categóricas em fator \n",
        "novo_dataset_final <- to.factors(df = novo_dataset, variables = new.categorical.vars)\n",
        "str(novo_dataset_final)"
      ],
      "execution_count": 91,
      "outputs": [
        {
          "output_type": "stream",
          "text": [
            "'data.frame':\t4 obs. of  5 variables:\n",
            " $ account.balance               : Factor w/ 3 levels \"1\",\"2\",\"3\": 1 3 3 2\n",
            " $ credit.purpose                : Factor w/ 3 levels \"2\",\"3\",\"4\": 3 1 2 1\n",
            " $ previous.credit.payment.status: Factor w/ 2 levels \"2\",\"3\": 2 2 1 1\n",
            " $ savings                       : Factor w/ 2 levels \"2\",\"3\": 1 2 1 2\n",
            " $ credit.duration.months        : num  15 12 8 6\n"
          ],
          "name": "stdout"
        }
      ]
    },
    {
      "cell_type": "code",
      "metadata": {
        "id": "jusjTX0v4gNv",
        "colab_type": "code",
        "colab": {
          "base_uri": "https://localhost:8080/",
          "height": 159
        },
        "outputId": "7a99fb5f-66a6-4e3f-f11d-d9bed243d457"
      },
      "source": [
        "%%R\n",
        "# transformar variáveis numéricas em escala\n",
        "novo_dataset_final <- scale.features(novo_dataset_final, new.numeric.vars)\n",
        "str(novo_dataset_final)"
      ],
      "execution_count": 92,
      "outputs": [
        {
          "output_type": "stream",
          "text": [
            "'data.frame':\t4 obs. of  5 variables:\n",
            " $ account.balance               : Factor w/ 3 levels \"1\",\"2\",\"3\": 1 3 3 2\n",
            " $ credit.purpose                : Factor w/ 3 levels \"2\",\"3\",\"4\": 3 1 2 1\n",
            " $ previous.credit.payment.status: Factor w/ 2 levels \"2\",\"3\": 2 2 1 1\n",
            " $ savings                       : Factor w/ 2 levels \"2\",\"3\": 1 2 1 2\n",
            " $ credit.duration.months        : num [1:4, 1] 1.178 0.434 -0.558 -1.054\n",
            "  ..- attr(*, \"scaled:center\")= num 10.2\n",
            "  ..- attr(*, \"scaled:scale\")= num 4.03\n"
          ],
          "name": "stdout"
        }
      ]
    },
    {
      "cell_type": "code",
      "metadata": {
        "id": "rEhtlekIYBfn",
        "colab_type": "code",
        "colab": {}
      },
      "source": [
        "%%R\n",
        "#View(novo_dataset_final)"
      ],
      "execution_count": null,
      "outputs": []
    },
    {
      "cell_type": "code",
      "metadata": {
        "id": "R5WP18QP4xSy",
        "colab_type": "code",
        "colab": {
          "base_uri": "https://localhost:8080/",
          "height": 195
        },
        "outputId": "5e2e3ef3-0a98-4690-deed-b16da764b000"
      },
      "source": [
        "%%R\n",
        "head(novo_dataset_final)\n",
        "# valores negativos não têm problema, é puramente uma escala"
      ],
      "execution_count": 93,
      "outputs": [
        {
          "output_type": "stream",
          "text": [
            "  account.balance credit.purpose previous.credit.payment.status savings\n",
            "1               1              4                              3       2\n",
            "2               3              2                              3       3\n",
            "3               3              3                              2       2\n",
            "4               2              2                              2       3\n",
            "  credit.duration.months\n",
            "1              1.1783300\n",
            "2              0.4341216\n",
            "3             -0.5581563\n",
            "4             -1.0542952\n"
          ],
          "name": "stdout"
        }
      ]
    },
    {
      "cell_type": "markdown",
      "metadata": {
        "id": "Ch_xuathYFYX",
        "colab_type": "text"
      },
      "source": [
        "##Previsões"
      ]
    },
    {
      "cell_type": "code",
      "metadata": {
        "id": "Gxhf7reFYH8u",
        "colab_type": "code",
        "colab": {
          "base_uri": "https://localhost:8080/",
          "height": 52
        },
        "outputId": "bce3860f-8a70-48b2-8d84-4f2832c4f4b5"
      },
      "source": [
        "%%R\n",
        "previsoes_novo_cliente <- predict(modelo_final, newdata = novo_dataset_final, type = \"response\")\n",
        "round(previsoes_novo_cliente)"
      ],
      "execution_count": 96,
      "outputs": [
        {
          "output_type": "stream",
          "text": [
            "1 2 3 4 \n",
            "0 1 1 1 \n"
          ],
          "name": "stdout"
        }
      ]
    },
    {
      "cell_type": "markdown",
      "metadata": {
        "id": "sMed6TAK6L8y",
        "colab_type": "text"
      },
      "source": [
        "O cliente 1, não pode receber Crédito, já os demais passaram na análise."
      ]
    }
  ]
}