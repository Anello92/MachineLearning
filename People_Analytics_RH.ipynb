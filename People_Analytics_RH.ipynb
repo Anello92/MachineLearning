{
  "nbformat": 4,
  "nbformat_minor": 0,
  "metadata": {
    "colab": {
      "name": "People-Analytics-RH.ipynb",
      "provenance": []
    },
    "kernelspec": {
      "name": "python3",
      "display_name": "Python 3"
    },
    "accelerator": "GPU"
  },
  "cells": [
    {
      "cell_type": "code",
      "metadata": {
        "id": "2h-2I4CviFCR",
        "colab_type": "code",
        "colab": {
          "base_uri": "https://localhost:8080/",
          "height": 54
        },
        "outputId": "866e9b92-b036-47e6-f8ae-b0fe96e8633d"
      },
      "source": [
        "# activate R magic\n",
        "%load_ext rpy2.ipython"
      ],
      "execution_count": 26,
      "outputs": [
        {
          "output_type": "stream",
          "text": [
            "The rpy2.ipython extension is already loaded. To reload it, use:\n",
            "  %reload_ext rpy2.ipython\n"
          ],
          "name": "stdout"
        }
      ]
    },
    {
      "cell_type": "markdown",
      "metadata": {
        "id": "bim5PJCQGmOo",
        "colab_type": "text"
      },
      "source": [
        "##**Problema de Negócio: As causas que fazem os funcionários deixarem seus empregos.**\n",
        "\n",
        "A rotatividade é um problema extremamente comum dentro de qualquer empresa, principalmente as que têm problemas internos de **gestão de pessoas**. É importante que o RH saiba identificar as **causas que fazem os funcionários deixarem seus empregos** muito  que deixem seus postos, de modo que desenvolvam políticas de retenção, adequar sua forma de gestão, treinar os líderes de modo mais profissional.\n"
      ]
    },
    {
      "cell_type": "markdown",
      "metadata": {
        "id": "NA0Pxl7lFYe5",
        "colab_type": "text"
      },
      "source": [
        "\"Existe uma pressuposição muito comum de que pessoas que estão \"fora\" do mercado há algum tempo não seriam bons candidatos para uma vaga. Entretanto, pesquisas e análises não comprovam essa hipótese, ou seja, não existe nenhuma relação com o fato do profissional estar afastado com o seu **desempenho**, uma pressuposição que não é confirmada ao utilizar **Análise de dados**.\"\n",
        "\n",
        "Uma vez que utilizamos People Analytics devemos lutar contra pressuposições fortemente estabelecidas pelas equipes de RH. Temos dados em abundância e ferramentas analíticas que nos permitem realizar análises cada vez com maior precisão. Utilizaremos a **Linguagem R**."
      ]
    },
    {
      "cell_type": "markdown",
      "metadata": {
        "id": "GGQTjPamHozj",
        "colab_type": "text"
      },
      "source": [
        "**Referências:**\n",
        "\n",
        "**The GeeksArrive In HR: People Analytics Is Here**\n",
        "[link](https://http://www.forbes.com/sites/joshbersin/2015/02/01/geeks-arrive-in-hr-people-analytics-is-here/#6bdcc3607db3)\n",
        "\n",
        "\n",
        "**People analytics reveals three things HR may be getting wrong**\n",
        "[link](http://www.mckinsey.com/business-functions/organization/our-insights/people-analytics-reveals-three-things-hr-may-be-getting-wrong)\n",
        "\n"
      ]
    },
    {
      "cell_type": "markdown",
      "metadata": {
        "id": "tmMmLWuKH0zq",
        "colab_type": "text"
      },
      "source": [
        "---"
      ]
    },
    {
      "cell_type": "markdown",
      "metadata": {
        "id": "R-9ibhKHWx-T",
        "colab_type": "text"
      },
      "source": [
        "#**RH Analytics em R** - People Analytics, Ben Waber\n",
        "\n",
        "Quais comportamentos no colocal de trabalho tornam as pessoas mais eficientes, felizes, criativas. "
      ]
    },
    {
      "cell_type": "markdown",
      "metadata": {
        "id": "qOYAfcasW1X9",
        "colab_type": "text"
      },
      "source": [
        "###Investigar as causas que fazem os funcionários deixarem seus empregos:\n",
        "\n",
        "#### 1- Quais são os aspectos mais importantes e que são decisivos para os colaboradores deixarem seus empregos?\n",
        "####  2- Qual a melhor forma de fazer estas previsões: regressão logística ou árvore de decisão?\n"
      ]
    },
    {
      "cell_type": "code",
      "metadata": {
        "id": "o5Zx5BvXXTNF",
        "colab_type": "code",
        "colab": {
          "base_uri": "https://localhost:8080/",
          "height": 1000
        },
        "outputId": "797b8dd4-f7b4-4f5b-8814-ee232df34497"
      },
      "source": [
        "%%R\n",
        "# Preparando os Dados\n",
        "install.packages(\"ggplot2\")\n",
        "install.packages(\"scales\")\n",
        "install.packages(\"gmodels\")\n",
        "install.packages(\"rpart\")\n",
        "install.packages(\"ROCR\")\n",
        "install.packages(\"corrplot\")\n",
        "\n",
        "library(ggplot2)\n",
        "library(scales)\n",
        "library(gmodels) \n",
        "library(rpart)\n",
        "library(ROCR)\n",
        "library(corrplot)"
      ],
      "execution_count": 27,
      "outputs": [
        {
          "output_type": "stream",
          "text": [
            "R[write to console]: Installing package into ‘/usr/local/lib/R/site-library’\n",
            "(as ‘lib’ is unspecified)\n",
            "\n",
            "R[write to console]: trying URL 'https://cran.rstudio.com/src/contrib/ggplot2_3.3.2.tar.gz'\n",
            "\n",
            "R[write to console]: Content type 'application/x-gzip'\n",
            "R[write to console]:  length 3054431 bytes (2.9 MB)\n",
            "\n",
            "R[write to console]: =\n",
            "R[write to console]: =\n",
            "R[write to console]: =\n",
            "R[write to console]: =\n",
            "R[write to console]: =\n",
            "R[write to console]: =\n",
            "R[write to console]: =\n",
            "R[write to console]: =\n",
            "R[write to console]: =\n",
            "R[write to console]: =\n",
            "R[write to console]: =\n",
            "R[write to console]: =\n",
            "R[write to console]: =\n",
            "R[write to console]: =\n",
            "R[write to console]: =\n",
            "R[write to console]: =\n",
            "R[write to console]: =\n",
            "R[write to console]: =\n",
            "R[write to console]: =\n",
            "R[write to console]: =\n",
            "R[write to console]: =\n",
            "R[write to console]: =\n",
            "R[write to console]: =\n",
            "R[write to console]: =\n",
            "R[write to console]: =\n",
            "R[write to console]: =\n",
            "R[write to console]: =\n",
            "R[write to console]: =\n",
            "R[write to console]: =\n",
            "R[write to console]: =\n",
            "R[write to console]: =\n",
            "R[write to console]: =\n",
            "R[write to console]: =\n",
            "R[write to console]: =\n",
            "R[write to console]: =\n",
            "R[write to console]: =\n",
            "R[write to console]: =\n",
            "R[write to console]: =\n",
            "R[write to console]: =\n",
            "R[write to console]: =\n",
            "R[write to console]: =\n",
            "R[write to console]: =\n",
            "R[write to console]: =\n",
            "R[write to console]: =\n",
            "R[write to console]: =\n",
            "R[write to console]: =\n",
            "R[write to console]: =\n",
            "R[write to console]: =\n",
            "R[write to console]: =\n",
            "R[write to console]: =\n",
            "R[write to console]: \n",
            "\n",
            "R[write to console]: downloaded 2.9 MB\n",
            "\n",
            "\n",
            "R[write to console]: \n",
            "\n",
            "R[write to console]: \n",
            "R[write to console]: The downloaded source packages are in\n",
            "\t‘/tmp/RtmpzkTGht/downloaded_packages’\n",
            "R[write to console]: \n",
            "R[write to console]: \n",
            "\n",
            "R[write to console]: Installing package into ‘/usr/local/lib/R/site-library’\n",
            "(as ‘lib’ is unspecified)\n",
            "\n",
            "R[write to console]: trying URL 'https://cran.rstudio.com/src/contrib/scales_1.1.1.tar.gz'\n",
            "\n",
            "R[write to console]: Content type 'application/x-gzip'\n",
            "R[write to console]:  length 515201 bytes (503 KB)\n",
            "\n",
            "R[write to console]: =\n",
            "R[write to console]: =\n",
            "R[write to console]: =\n",
            "R[write to console]: =\n",
            "R[write to console]: =\n",
            "R[write to console]: =\n",
            "R[write to console]: =\n",
            "R[write to console]: =\n",
            "R[write to console]: =\n",
            "R[write to console]: =\n",
            "R[write to console]: =\n",
            "R[write to console]: =\n",
            "R[write to console]: =\n",
            "R[write to console]: =\n",
            "R[write to console]: =\n",
            "R[write to console]: =\n",
            "R[write to console]: =\n",
            "R[write to console]: =\n",
            "R[write to console]: =\n",
            "R[write to console]: =\n",
            "R[write to console]: =\n",
            "R[write to console]: =\n",
            "R[write to console]: =\n",
            "R[write to console]: =\n",
            "R[write to console]: =\n",
            "R[write to console]: =\n",
            "R[write to console]: =\n",
            "R[write to console]: =\n",
            "R[write to console]: =\n",
            "R[write to console]: =\n",
            "R[write to console]: =\n",
            "R[write to console]: =\n",
            "R[write to console]: =\n",
            "R[write to console]: =\n",
            "R[write to console]: =\n",
            "R[write to console]: =\n",
            "R[write to console]: =\n",
            "R[write to console]: =\n",
            "R[write to console]: =\n",
            "R[write to console]: =\n",
            "R[write to console]: =\n",
            "R[write to console]: =\n",
            "R[write to console]: =\n",
            "R[write to console]: =\n",
            "R[write to console]: =\n",
            "R[write to console]: =\n",
            "R[write to console]: =\n",
            "R[write to console]: =\n",
            "R[write to console]: =\n",
            "R[write to console]: =\n",
            "R[write to console]: \n",
            "\n",
            "R[write to console]: downloaded 503 KB\n",
            "\n",
            "\n",
            "R[write to console]: \n",
            "\n",
            "R[write to console]: \n",
            "R[write to console]: The downloaded source packages are in\n",
            "\t‘/tmp/RtmpzkTGht/downloaded_packages’\n",
            "R[write to console]: \n",
            "R[write to console]: \n",
            "\n",
            "R[write to console]: Installing package into ‘/usr/local/lib/R/site-library’\n",
            "(as ‘lib’ is unspecified)\n",
            "\n",
            "R[write to console]: trying URL 'https://cran.rstudio.com/src/contrib/gmodels_2.18.1.tar.gz'\n",
            "\n",
            "R[write to console]: Content type 'application/x-gzip'\n",
            "R[write to console]:  length 33783 bytes (32 KB)\n",
            "\n",
            "R[write to console]: =\n",
            "R[write to console]: =\n",
            "R[write to console]: =\n",
            "R[write to console]: =\n",
            "R[write to console]: =\n",
            "R[write to console]: =\n",
            "R[write to console]: =\n",
            "R[write to console]: =\n",
            "R[write to console]: =\n",
            "R[write to console]: =\n",
            "R[write to console]: =\n",
            "R[write to console]: =\n",
            "R[write to console]: =\n",
            "R[write to console]: =\n",
            "R[write to console]: =\n",
            "R[write to console]: =\n",
            "R[write to console]: =\n",
            "R[write to console]: =\n",
            "R[write to console]: =\n",
            "R[write to console]: =\n",
            "R[write to console]: =\n",
            "R[write to console]: =\n",
            "R[write to console]: =\n",
            "R[write to console]: =\n",
            "R[write to console]: =\n",
            "R[write to console]: =\n",
            "R[write to console]: =\n",
            "R[write to console]: =\n",
            "R[write to console]: =\n",
            "R[write to console]: =\n",
            "R[write to console]: =\n",
            "R[write to console]: =\n",
            "R[write to console]: =\n",
            "R[write to console]: =\n",
            "R[write to console]: =\n",
            "R[write to console]: =\n",
            "R[write to console]: =\n",
            "R[write to console]: =\n",
            "R[write to console]: =\n",
            "R[write to console]: =\n",
            "R[write to console]: =\n",
            "R[write to console]: =\n",
            "R[write to console]: =\n",
            "R[write to console]: =\n",
            "R[write to console]: =\n",
            "R[write to console]: =\n",
            "R[write to console]: =\n",
            "R[write to console]: =\n",
            "R[write to console]: =\n",
            "R[write to console]: =\n",
            "R[write to console]: \n",
            "\n",
            "R[write to console]: downloaded 32 KB\n",
            "\n",
            "\n",
            "R[write to console]: \n",
            "\n",
            "R[write to console]: \n",
            "R[write to console]: The downloaded source packages are in\n",
            "\t‘/tmp/RtmpzkTGht/downloaded_packages’\n",
            "R[write to console]: \n",
            "R[write to console]: \n",
            "\n",
            "R[write to console]: Installing package into ‘/usr/local/lib/R/site-library’\n",
            "(as ‘lib’ is unspecified)\n",
            "\n",
            "R[write to console]: trying URL 'https://cran.rstudio.com/src/contrib/rpart_4.1-15.tar.gz'\n",
            "\n",
            "R[write to console]: Content type 'application/x-gzip'\n",
            "R[write to console]:  length 639286 bytes (624 KB)\n",
            "\n",
            "R[write to console]: =\n",
            "R[write to console]: =\n",
            "R[write to console]: =\n",
            "R[write to console]: =\n",
            "R[write to console]: =\n",
            "R[write to console]: =\n",
            "R[write to console]: =\n",
            "R[write to console]: =\n",
            "R[write to console]: =\n",
            "R[write to console]: =\n",
            "R[write to console]: =\n",
            "R[write to console]: =\n",
            "R[write to console]: =\n",
            "R[write to console]: =\n",
            "R[write to console]: =\n",
            "R[write to console]: =\n",
            "R[write to console]: =\n",
            "R[write to console]: =\n",
            "R[write to console]: =\n",
            "R[write to console]: =\n",
            "R[write to console]: =\n",
            "R[write to console]: =\n",
            "R[write to console]: =\n",
            "R[write to console]: =\n",
            "R[write to console]: =\n",
            "R[write to console]: =\n",
            "R[write to console]: =\n",
            "R[write to console]: =\n",
            "R[write to console]: =\n",
            "R[write to console]: =\n",
            "R[write to console]: =\n",
            "R[write to console]: =\n",
            "R[write to console]: =\n",
            "R[write to console]: =\n",
            "R[write to console]: =\n",
            "R[write to console]: =\n",
            "R[write to console]: =\n",
            "R[write to console]: =\n",
            "R[write to console]: =\n",
            "R[write to console]: =\n",
            "R[write to console]: =\n",
            "R[write to console]: =\n",
            "R[write to console]: =\n",
            "R[write to console]: =\n",
            "R[write to console]: =\n",
            "R[write to console]: =\n",
            "R[write to console]: =\n",
            "R[write to console]: =\n",
            "R[write to console]: =\n",
            "R[write to console]: =\n",
            "R[write to console]: \n",
            "\n",
            "R[write to console]: downloaded 624 KB\n",
            "\n",
            "\n",
            "R[write to console]: \n",
            "\n",
            "R[write to console]: \n",
            "R[write to console]: The downloaded source packages are in\n",
            "\t‘/tmp/RtmpzkTGht/downloaded_packages’\n",
            "R[write to console]: \n",
            "R[write to console]: \n",
            "\n",
            "R[write to console]: Installing package into ‘/usr/local/lib/R/site-library’\n",
            "(as ‘lib’ is unspecified)\n",
            "\n",
            "R[write to console]: trying URL 'https://cran.rstudio.com/src/contrib/ROCR_1.0-11.tar.gz'\n",
            "\n",
            "R[write to console]: Content type 'application/x-gzip'\n",
            "R[write to console]:  length 271680 bytes (265 KB)\n",
            "\n",
            "R[write to console]: =\n",
            "R[write to console]: =\n",
            "R[write to console]: =\n",
            "R[write to console]: =\n",
            "R[write to console]: =\n",
            "R[write to console]: =\n",
            "R[write to console]: =\n",
            "R[write to console]: =\n",
            "R[write to console]: =\n",
            "R[write to console]: =\n",
            "R[write to console]: =\n",
            "R[write to console]: =\n",
            "R[write to console]: =\n",
            "R[write to console]: =\n",
            "R[write to console]: =\n",
            "R[write to console]: =\n",
            "R[write to console]: =\n",
            "R[write to console]: =\n",
            "R[write to console]: =\n",
            "R[write to console]: =\n",
            "R[write to console]: =\n",
            "R[write to console]: =\n",
            "R[write to console]: =\n",
            "R[write to console]: =\n",
            "R[write to console]: =\n",
            "R[write to console]: =\n",
            "R[write to console]: =\n",
            "R[write to console]: =\n",
            "R[write to console]: =\n",
            "R[write to console]: =\n",
            "R[write to console]: =\n",
            "R[write to console]: =\n",
            "R[write to console]: =\n",
            "R[write to console]: =\n",
            "R[write to console]: =\n",
            "R[write to console]: =\n",
            "R[write to console]: =\n",
            "R[write to console]: =\n",
            "R[write to console]: =\n",
            "R[write to console]: =\n",
            "R[write to console]: =\n",
            "R[write to console]: =\n",
            "R[write to console]: =\n",
            "R[write to console]: =\n",
            "R[write to console]: =\n",
            "R[write to console]: =\n",
            "R[write to console]: =\n",
            "R[write to console]: =\n",
            "R[write to console]: =\n",
            "R[write to console]: =\n",
            "R[write to console]: \n",
            "\n",
            "R[write to console]: downloaded 265 KB\n",
            "\n",
            "\n",
            "R[write to console]: \n",
            "\n",
            "R[write to console]: \n",
            "R[write to console]: The downloaded source packages are in\n",
            "\t‘/tmp/RtmpzkTGht/downloaded_packages’\n",
            "R[write to console]: \n",
            "R[write to console]: \n",
            "\n",
            "R[write to console]: Installing package into ‘/usr/local/lib/R/site-library’\n",
            "(as ‘lib’ is unspecified)\n",
            "\n",
            "R[write to console]: trying URL 'https://cran.rstudio.com/src/contrib/corrplot_0.84.tar.gz'\n",
            "\n",
            "R[write to console]: Content type 'application/x-gzip'\n",
            "R[write to console]:  length 5385275 bytes (5.1 MB)\n",
            "\n",
            "R[write to console]: =\n",
            "R[write to console]: =\n",
            "R[write to console]: =\n",
            "R[write to console]: =\n",
            "R[write to console]: =\n",
            "R[write to console]: =\n",
            "R[write to console]: =\n",
            "R[write to console]: =\n",
            "R[write to console]: =\n",
            "R[write to console]: =\n",
            "R[write to console]: =\n",
            "R[write to console]: =\n",
            "R[write to console]: =\n",
            "R[write to console]: =\n",
            "R[write to console]: =\n",
            "R[write to console]: =\n",
            "R[write to console]: =\n",
            "R[write to console]: =\n",
            "R[write to console]: =\n",
            "R[write to console]: =\n",
            "R[write to console]: =\n",
            "R[write to console]: =\n",
            "R[write to console]: =\n",
            "R[write to console]: =\n",
            "R[write to console]: =\n",
            "R[write to console]: =\n",
            "R[write to console]: =\n",
            "R[write to console]: =\n",
            "R[write to console]: =\n",
            "R[write to console]: =\n",
            "R[write to console]: =\n",
            "R[write to console]: =\n",
            "R[write to console]: =\n",
            "R[write to console]: =\n",
            "R[write to console]: =\n",
            "R[write to console]: =\n",
            "R[write to console]: =\n",
            "R[write to console]: =\n",
            "R[write to console]: =\n",
            "R[write to console]: =\n",
            "R[write to console]: =\n",
            "R[write to console]: =\n",
            "R[write to console]: =\n",
            "R[write to console]: =\n",
            "R[write to console]: =\n",
            "R[write to console]: =\n",
            "R[write to console]: =\n",
            "R[write to console]: =\n",
            "R[write to console]: =\n",
            "R[write to console]: =\n",
            "R[write to console]: \n",
            "\n",
            "R[write to console]: downloaded 5.1 MB\n",
            "\n",
            "\n",
            "R[write to console]: \n",
            "\n",
            "R[write to console]: \n",
            "R[write to console]: The downloaded source packages are in\n",
            "\t‘/tmp/RtmpzkTGht/downloaded_packages’\n",
            "R[write to console]: \n",
            "R[write to console]: \n",
            "\n"
          ],
          "name": "stderr"
        }
      ]
    },
    {
      "cell_type": "markdown",
      "metadata": {
        "id": "9EXgzD1GqwZ0",
        "colab_type": "text"
      },
      "source": [
        "read.csv()"
      ]
    },
    {
      "cell_type": "code",
      "metadata": {
        "id": "gOl5zq3OYCOy",
        "colab_type": "code",
        "colab": {}
      },
      "source": [
        "%%R\n",
        "# Carregando os dados\n",
        "hr = read.csv(\"dados_func.csv\")"
      ],
      "execution_count": 28,
      "outputs": []
    },
    {
      "cell_type": "markdown",
      "metadata": {
        "id": "Cx_psEIaquTP",
        "colab_type": "text"
      },
      "source": [
        "dim()"
      ]
    },
    {
      "cell_type": "code",
      "metadata": {
        "id": "So7J9JmgYXbO",
        "colab_type": "code",
        "colab": {
          "base_uri": "https://localhost:8080/",
          "height": 35
        },
        "outputId": "a6dc2154-f76e-42fd-8965-25d142d2ec4a"
      },
      "source": [
        "%%R\n",
        "dim(hr)"
      ],
      "execution_count": 29,
      "outputs": [
        {
          "output_type": "stream",
          "text": [
            "[1] 14999    10\n"
          ],
          "name": "stdout"
        }
      ]
    },
    {
      "cell_type": "markdown",
      "metadata": {
        "id": "IHX-Esp5qrvW",
        "colab_type": "text"
      },
      "source": [
        "View()"
      ]
    },
    {
      "cell_type": "code",
      "metadata": {
        "id": "VhRgqTBYYXaM",
        "colab_type": "code",
        "colab": {
          "base_uri": "https://localhost:8080/",
          "height": 35
        },
        "outputId": "3b3fc06c-7855-469e-e0a6-780c66c62154"
      },
      "source": [
        "%%R\n",
        "# View(hr)"
      ],
      "execution_count": 30,
      "outputs": [
        {
          "output_type": "stream",
          "text": [
            "NULL\n"
          ],
          "name": "stdout"
        }
      ]
    },
    {
      "cell_type": "markdown",
      "metadata": {
        "id": "kZPN4omLq0ui",
        "colab_type": "text"
      },
      "source": [
        "attach()"
      ]
    },
    {
      "cell_type": "code",
      "metadata": {
        "id": "idMXl12PYXX5",
        "colab_type": "code",
        "colab": {
          "base_uri": "https://localhost:8080/",
          "height": 145
        },
        "outputId": "2a9189f2-d574-41d8-ea76-07e91ef0971e"
      },
      "source": [
        "%%R\n",
        "attach(hr) # Anexar o hr à análise"
      ],
      "execution_count": 31,
      "outputs": [
        {
          "output_type": "stream",
          "text": [
            "R[write to console]: The following objects are masked from hr (pos = 3):\n",
            "\n",
            "    acidente_trabalho, area, deixou_empresa, horas_medias_por_mes,\n",
            "    nivel_satisfacao, numero_projetos, salario, tempo_empresa,\n",
            "    ultima_avaliacao, ultima_promocao_5anos\n",
            "\n",
            "\n"
          ],
          "name": "stderr"
        }
      ]
    },
    {
      "cell_type": "markdown",
      "metadata": {
        "id": "iMjP6b5PrCmf",
        "colab_type": "text"
      },
      "source": [
        "---"
      ]
    },
    {
      "cell_type": "markdown",
      "metadata": {
        "id": "DfjNFAX8q9UV",
        "colab_type": "text"
      },
      "source": [
        "##**Variável Target:** deixou_empresa"
      ]
    },
    {
      "cell_type": "markdown",
      "metadata": {
        "id": "LhQtIeM1q3x_",
        "colab_type": "text"
      },
      "source": [
        "sumarry()"
      ]
    },
    {
      "cell_type": "code",
      "metadata": {
        "id": "lHP7iqpXYXXR",
        "colab_type": "code",
        "colab": {
          "base_uri": "https://localhost:8080/",
          "height": 454
        },
        "outputId": "4319fac1-141e-4d7a-8f01-d5f67195be9a"
      },
      "source": [
        "%%R\n",
        "summary(hr)"
      ],
      "execution_count": 32,
      "outputs": [
        {
          "output_type": "stream",
          "text": [
            " nivel_satisfacao ultima_avaliacao numero_projetos horas_medias_por_mes\n",
            " Min.   :0.0900   Min.   :0.3600   Min.   :2.000   Min.   : 96.0       \n",
            " 1st Qu.:0.4400   1st Qu.:0.5600   1st Qu.:3.000   1st Qu.:156.0       \n",
            " Median :0.6400   Median :0.7200   Median :4.000   Median :200.0       \n",
            " Mean   :0.6128   Mean   :0.7161   Mean   :3.803   Mean   :201.1       \n",
            " 3rd Qu.:0.8200   3rd Qu.:0.8700   3rd Qu.:5.000   3rd Qu.:245.0       \n",
            " Max.   :1.0000   Max.   :1.0000   Max.   :7.000   Max.   :310.0       \n",
            "                                                                       \n",
            " tempo_empresa    acidente_trabalho deixou_empresa   ultima_promocao_5anos\n",
            " Min.   : 2.000   Min.   :0.0000    Min.   :0.0000   Min.   :0.00000      \n",
            " 1st Qu.: 3.000   1st Qu.:0.0000    1st Qu.:0.0000   1st Qu.:0.00000      \n",
            " Median : 3.000   Median :0.0000    Median :0.0000   Median :0.00000      \n",
            " Mean   : 3.498   Mean   :0.1446    Mean   :0.2381   Mean   :0.02127      \n",
            " 3rd Qu.: 4.000   3rd Qu.:0.0000    3rd Qu.:0.0000   3rd Qu.:0.00000      \n",
            " Max.   :10.000   Max.   :1.0000    Max.   :1.0000   Max.   :1.00000      \n",
            "                                                                          \n",
            "          area        salario    \n",
            " sales      :4140   high  :1237  \n",
            " technical  :2720   low   :7316  \n",
            " support    :2229   medium:6446  \n",
            " IT         :1227                \n",
            " product_mng: 902                \n",
            " marketing  : 858                \n",
            " (Other)    :2923                \n"
          ],
          "name": "stdout"
        }
      ]
    },
    {
      "cell_type": "markdown",
      "metadata": {
        "id": "XB_eMGEzrDab",
        "colab_type": "text"
      },
      "source": [
        "---"
      ]
    },
    {
      "cell_type": "markdown",
      "metadata": {
        "id": "qnoNGIwfrpwD",
        "colab_type": "text"
      },
      "source": [
        "##**Função verifica os valores missing e sua proporção em relação ao dataset**"
      ]
    },
    {
      "cell_type": "code",
      "metadata": {
        "id": "uiw58djeYXUv",
        "colab_type": "code",
        "colab": {}
      },
      "source": [
        "%%R\n",
        "# Function para verificar valores missing e proporção de valores missing\n",
        "propmiss <- function(dataframe) {\n",
        "  m <- sapply(dataframe, function(x) {\n",
        "    data.frame(\n",
        "      nmiss = sum(is.na(x)),  \n",
        "      n=length(x),\n",
        "      propmiss = sum(is.na(x))/length(x) \n",
        "    )\n",
        "  })\n",
        "  d <- data.frame(t(m))\n",
        "  d <- sapply(d, unlist)\n",
        "  d <- as.data.frame(d)\n",
        "  d$variable <- row.names(d)\n",
        "  row.names(d) <- NULL\n",
        "  d <- cbind(d[ncol(d)],d[-ncol(d)])\n",
        "  return(d[order(d$propmiss), ])\n",
        "}\n"
      ],
      "execution_count": 33,
      "outputs": []
    },
    {
      "cell_type": "code",
      "metadata": {
        "id": "CQMGRlHHr3eM",
        "colab_type": "code",
        "colab": {
          "base_uri": "https://localhost:8080/",
          "height": 217
        },
        "outputId": "69341856-7dc3-4750-8700-a3e91c2ae337"
      },
      "source": [
        "%%R\n",
        "# Aplicando a função ao dataset\n",
        "propmiss(hr)"
      ],
      "execution_count": 34,
      "outputs": [
        {
          "output_type": "stream",
          "text": [
            "                variable nmiss     n propmiss\n",
            "1       nivel_satisfacao     0 14999        0\n",
            "2       ultima_avaliacao     0 14999        0\n",
            "3        numero_projetos     0 14999        0\n",
            "4   horas_medias_por_mes     0 14999        0\n",
            "5          tempo_empresa     0 14999        0\n",
            "6      acidente_trabalho     0 14999        0\n",
            "7         deixou_empresa     0 14999        0\n",
            "8  ultima_promocao_5anos     0 14999        0\n",
            "9                   area     0 14999        0\n",
            "10               salario     0 14999        0\n"
          ],
          "name": "stdout"
        }
      ]
    },
    {
      "cell_type": "markdown",
      "metadata": {
        "id": "44VcxoavYyaw",
        "colab_type": "text"
      },
      "source": [
        "\n",
        "\n",
        "##**Análise Exploratória** - Compreendendo os Dados"
      ]
    },
    {
      "cell_type": "code",
      "metadata": {
        "id": "cJ6elyW_YXTz",
        "colab_type": "code",
        "colab": {
          "base_uri": "https://localhost:8080/",
          "height": 217
        },
        "outputId": "2a1c2bda-8763-4b47-aae4-eda9c8c0b338"
      },
      "source": [
        "%%R\n",
        "str(hr) # Visualizamos todas as nossas variáveis\n",
        "# Duas variáveis do tipo fator classificadas automaticamente"
      ],
      "execution_count": 35,
      "outputs": [
        {
          "output_type": "stream",
          "text": [
            "'data.frame':\t14999 obs. of  10 variables:\n",
            " $ nivel_satisfacao     : num  0.38 0.8 0.11 0.72 0.37 0.41 0.1 0.92 0.89 0.42 ...\n",
            " $ ultima_avaliacao     : num  0.53 0.86 0.88 0.87 0.52 0.5 0.77 0.85 1 0.53 ...\n",
            " $ numero_projetos      : int  2 5 7 5 2 2 6 5 5 2 ...\n",
            " $ horas_medias_por_mes : int  157 262 272 223 159 153 247 259 224 142 ...\n",
            " $ tempo_empresa        : int  3 6 4 5 3 3 4 5 5 3 ...\n",
            " $ acidente_trabalho    : int  0 0 0 0 0 0 0 0 0 0 ...\n",
            " $ deixou_empresa       : int  1 1 1 1 1 1 1 1 1 1 ...\n",
            " $ ultima_promocao_5anos: int  0 0 0 0 0 0 0 0 0 0 ...\n",
            " $ area                 : Factor w/ 10 levels \"accounting\",\"hr\",..: 8 8 8 8 8 8 8 8 8 8 ...\n",
            " $ salario              : Factor w/ 3 levels \"high\",\"low\",\"medium\": 2 3 3 2 2 2 2 2 2 2 ...\n"
          ],
          "name": "stdout"
        }
      ]
    },
    {
      "cell_type": "markdown",
      "metadata": {
        "id": "8BSfp_xywrlA",
        "colab_type": "text"
      },
      "source": [
        "##Primeira tarefa: **Construir uma tabela de Frequência da Variável Target** *y*"
      ]
    },
    {
      "cell_type": "code",
      "metadata": {
        "id": "tZWTcktxY4Iy",
        "colab_type": "code",
        "colab": {
          "base_uri": "https://localhost:8080/",
          "height": 72
        },
        "outputId": "ab3bdec9-90f0-4c82-aa6b-e85cb59f847b"
      },
      "source": [
        "%%R\n",
        "# Frequência da Variável target y (deixou_empresa), o que queremos prever\n",
        "\n",
        "cbind( Freq = table(deixou_empresa),\n",
        "       Cumul = cumsum(table(deixou_empresa)),\n",
        "       relative = round((prop.table(table(deixou_empresa))*100),2))\n",
        "\n"
      ],
      "execution_count": 36,
      "outputs": [
        {
          "output_type": "stream",
          "text": [
            "   Freq Cumul relative\n",
            "0 11428 11428    76.19\n",
            "1  3571 14999    23.81\n"
          ],
          "name": "stdout"
        }
      ]
    },
    {
      "cell_type": "markdown",
      "metadata": {
        "id": "o6kov_s9xFZV",
        "colab_type": "text"
      },
      "source": [
        "- **76%** dos funcionários do conjunto **ainda trabalham** na empresa\n",
        "- **24%** dos funcionários do conjunto **já saiu** da empresa\n"
      ]
    },
    {
      "cell_type": "code",
      "metadata": {
        "id": "C_avPHt6Y4FB",
        "colab_type": "code",
        "colab": {
          "base_uri": "https://localhost:8080/",
          "height": 497
        },
        "outputId": "f8639b2c-0f8c-46a9-cf59-f1e6b8c38e87"
      },
      "source": [
        "%%R\n",
        "# Pie Chart para a variável target\n",
        "slices <- c(76, 24)\n",
        "lbls <- c(\"0 - Ainda trabalhando na empresa (76%)\", \"1 - Deixaram a empresa (24%)\")\n",
        "pie(slices, labels = lbls, main = \"Pie Chart para a variável target\", col = c(\"green\", \"red\"))"
      ],
      "execution_count": 37,
      "outputs": [
        {
          "output_type": "display_data",
          "data": {
            "image/png": "[encoded data removed]"
          },
          "metadata": {
            "tags": []
          }
        }
      ]
    },
    {
      "cell_type": "markdown",
      "metadata": {
        "id": "RR5cSOnq15Vu",
        "colab_type": "text"
      },
      "source": [
        "##**Tabela de Frequência de acordo com os acidentes de trabalho**"
      ]
    },
    {
      "cell_type": "code",
      "metadata": {
        "id": "zeLG235SY4CK",
        "colab_type": "code",
        "colab": {
          "base_uri": "https://localhost:8080/",
          "height": 72
        },
        "outputId": "ce47f1e5-4b8d-46cc-be67-d0a876fda85c"
      },
      "source": [
        "%%R\n",
        "# Frequência de acidentes de trabalho\n",
        "cbind( Freq = table(acidente_trabalho),\n",
        "       Cumul = cumsum(table(acidente_trabalho)),\n",
        "       relative = round((prop.table(table(acidente_trabalho))*100),2))"
      ],
      "execution_count": 38,
      "outputs": [
        {
          "output_type": "stream",
          "text": [
            "   Freq Cumul relative\n",
            "0 12830 12830    85.54\n",
            "1  2169 14999    14.46\n"
          ],
          "name": "stdout"
        }
      ]
    },
    {
      "cell_type": "markdown",
      "metadata": {
        "id": "FNGRNyjH3IvU",
        "colab_type": "text"
      },
      "source": [
        "##**Tabela de Frequência de Promoção nos últimos 5 anos** \n",
        "### Apenas 2% dos funcionários receberam promoção nos últimos 5 anos!"
      ]
    },
    {
      "cell_type": "code",
      "metadata": {
        "id": "XlxrWzMtZC-Q",
        "colab_type": "code",
        "colab": {
          "base_uri": "https://localhost:8080/",
          "height": 72
        },
        "outputId": "f7ab16ec-0e07-493a-e0fd-2b45a4d114e7"
      },
      "source": [
        "%%R\n",
        "# Frequência de promoção nos últimos 5 anos\n",
        "cbind( Freq = table(ultima_promocao_5anos),\n",
        "       Cumul = cumsum(table(ultima_promocao_5anos)),\n",
        "       relative = round((prop.table(table(ultima_promocao_5anos))*100),2))"
      ],
      "execution_count": 39,
      "outputs": [
        {
          "output_type": "stream",
          "text": [
            "   Freq Cumul relative\n",
            "0 14680 14680    97.87\n",
            "1   319 14999     2.13\n"
          ],
          "name": "stdout"
        }
      ]
    },
    {
      "cell_type": "markdown",
      "metadata": {
        "id": "ufhIJRbR4UTb",
        "colab_type": "text"
      },
      "source": [
        "##**Total de Colaboradores por Departamento**"
      ]
    },
    {
      "cell_type": "code",
      "metadata": {
        "id": "oyOBwC4cZC7P",
        "colab_type": "code",
        "colab": {
          "base_uri": "https://localhost:8080/",
          "height": 497
        },
        "outputId": "ce30e31a-ec19-4109-82e2-af0b63819ca8"
      },
      "source": [
        "%%R\n",
        "# Distribuição colaboradores por departamento\n",
        "vec_dept <- as.vector(area)\n",
        "unique(vec_dept)\n",
        "vec_dept <- factor(vec_dept)\n",
        "qplot(vec_dept, xlab = \"Departamento\", ylab = \"Total Colaboradores\") + ggtitle(\"Distribuição por Departamentos\")"
      ],
      "execution_count": 40,
      "outputs": [
        {
          "output_type": "display_data",
          "data": {
            "image/png": "[encoded data removed]"
          },
          "metadata": {
            "tags": []
          }
        }
      ]
    },
    {
      "cell_type": "markdown",
      "metadata": {
        "id": "ZZX1xm8z4whA",
        "colab_type": "text"
      },
      "source": [
        "##**Faixa salarial**"
      ]
    },
    {
      "cell_type": "code",
      "metadata": {
        "id": "4QVo_aVBZKQ8",
        "colab_type": "code",
        "colab": {
          "base_uri": "https://localhost:8080/",
          "height": 497
        },
        "outputId": "52c726bf-eaff-41c3-8802-20fac1ebeeb3"
      },
      "source": [
        "%%R\n",
        "# Distribuição colaboradores por salário\n",
        "vec_salary <- as.vector(salario)\n",
        "unique(vec_salary)\n",
        "vec_salary <- factor(vec_salary)\n",
        "qplot(vec_salary, xlab = \"Salário\", ylab = \"Total Colaboradores\") + ggtitle(\"Distribuição por Salários\")"
      ],
      "execution_count": 41,
      "outputs": [
        {
          "output_type": "display_data",
          "data": {
            "image/png": "[encoded data removed]"
          },
          "metadata": {
            "tags": []
          }
        }
      ]
    },
    {
      "cell_type": "markdown",
      "metadata": {
        "id": "n1icDTMo5Zm7",
        "colab_type": "text"
      },
      "source": [
        "##**Nível de Satisfação**"
      ]
    },
    {
      "cell_type": "code",
      "metadata": {
        "id": "CAMNzJ4tZKN5",
        "colab_type": "code",
        "colab": {
          "base_uri": "https://localhost:8080/",
          "height": 497
        },
        "outputId": "f7d79df9-8858-420f-f6ae-ded8a580c0e4"
      },
      "source": [
        "%%R\n",
        "# Analisando o nível de satisfação \n",
        "hist(nivel_satisfacao, freq = F, main = \"Histograma do Nível de Satisfação\")\n",
        "lines(density(nivel_satisfacao))"
      ],
      "execution_count": 42,
      "outputs": [
        {
          "output_type": "display_data",
          "data": {
            "image/png": "[encoded data removed]"
          },
          "metadata": {
            "tags": []
          }
        }
      ]
    },
    {
      "cell_type": "markdown",
      "metadata": {
        "id": "NXOD7siN5c-3",
        "colab_type": "text"
      },
      "source": [
        "##**Avaliação colaboradores**"
      ]
    },
    {
      "cell_type": "code",
      "metadata": {
        "id": "iyrReEvpZKKc",
        "colab_type": "code",
        "colab": {
          "base_uri": "https://localhost:8080/",
          "height": 497
        },
        "outputId": "8f4e57cb-c272-404b-b7b9-472030151ff6"
      },
      "source": [
        "%%R\n",
        "# Analisando a última avaliação do colaborador\n",
        "hist(ultima_avaliacao, freq = F, main = \"Histograma da Última Avaliação\")\n",
        "lines(density(ultima_avaliacao))"
      ],
      "execution_count": 43,
      "outputs": [
        {
          "output_type": "display_data",
          "data": {
            "image/png": "[encoded data removed]"
          },
          "metadata": {
            "tags": []
          }
        }
      ]
    },
    {
      "cell_type": "markdown",
      "metadata": {
        "id": "ooB3mOxb5kCF",
        "colab_type": "text"
      },
      "source": [
        "##**Número de projetos por colaborador**"
      ]
    },
    {
      "cell_type": "code",
      "metadata": {
        "id": "n2g5gFFWZXcd",
        "colab_type": "code",
        "colab": {
          "base_uri": "https://localhost:8080/",
          "height": 497
        },
        "outputId": "ba726eb8-fb30-46df-f6c8-be322572992c"
      },
      "source": [
        "%%R\n",
        "# Analisando o número de projetos - poucos colaboradores com mais de 6 projetos\n",
        "hist(numero_projetos, ylim = c(0,0.8), freq = F, main = \"Histograma do Número de Projetos\")\n",
        "lines(density(numero_projetos))"
      ],
      "execution_count": 44,
      "outputs": [
        {
          "output_type": "display_data",
          "data": {
            "image/png": "[encoded data removed]"
          },
          "metadata": {
            "tags": []
          }
        }
      ]
    },
    {
      "cell_type": "markdown",
      "metadata": {
        "id": "Pp_KRN_H5-Xw",
        "colab_type": "text"
      },
      "source": [
        "##**Número médio de horas trabalhadas por mês**"
      ]
    },
    {
      "cell_type": "code",
      "metadata": {
        "id": "tUTmBjCiZXbr",
        "colab_type": "code",
        "colab": {
          "base_uri": "https://localhost:8080/",
          "height": 497
        },
        "outputId": "77d3c406-6df4-4166-eafb-0449c4f25e58"
      },
      "source": [
        "%%R\n",
        "# Analisando o número médio de horas \n",
        "hist(horas_medias_por_mes, freq = F, main = \"Histograma da Média de Horas Trabalhadas por Mês\")\n",
        "lines(density(horas_medias_por_mes))"
      ],
      "execution_count": 45,
      "outputs": [
        {
          "output_type": "display_data",
          "data": {
            "image/png": "[encoded data removed]"
          },
          "metadata": {
            "tags": []
          }
        }
      ]
    },
    {
      "cell_type": "markdown",
      "metadata": {
        "id": "jJoVEi7o6F8g",
        "colab_type": "text"
      },
      "source": [
        "##**Tempo trabalhado na empresa**\n",
        "### A partir do 4° ano as pessoas começa a deixar a empresa"
      ]
    },
    {
      "cell_type": "code",
      "metadata": {
        "id": "nLGW1oFcZXaH",
        "colab_type": "code",
        "colab": {
          "base_uri": "https://localhost:8080/",
          "height": 497
        },
        "outputId": "63ad275f-318d-4fb3-eece-f1be050edf49"
      },
      "source": [
        "%%R\n",
        "# Tempo de trabalho na empresa\n",
        "hist(hr$tempo_empresa,  ylim = c(0,1.2), freq = F, main = \"Histograma do Tempo Trabalhado na Empresa\")\n",
        "lines(density(tempo_empresa))"
      ],
      "execution_count": 46,
      "outputs": [
        {
          "output_type": "display_data",
          "data": {
            "image/png": "[encoded data removed]"
          },
          "metadata": {
            "tags": []
          }
        }
      ]
    },
    {
      "cell_type": "code",
      "metadata": {
        "id": "x-8WNceaZXYb",
        "colab_type": "code",
        "colab": {
          "base_uri": "https://localhost:8080/",
          "height": 563
        },
        "outputId": "a7ee8886-d76e-4138-ab15-db739968e39e"
      },
      "source": [
        "%%R\n",
        "# Calculando a correlação entre cada variável\n",
        "cor(hr[sapply(hr, is.numeric)])"
      ],
      "execution_count": 75,
      "outputs": [
        {
          "output_type": "stream",
          "text": [
            "                      nivel_satisfacao ultima_avaliacao numero_projetos\n",
            "nivel_satisfacao            1.00000000      0.105021214    -0.142969586\n",
            "ultima_avaliacao            0.10502121      1.000000000     0.349332589\n",
            "numero_projetos            -0.14296959      0.349332589     1.000000000\n",
            "horas_medias_por_mes       -0.02004811      0.339741800     0.417210634\n",
            "tempo_empresa              -0.10086607      0.131590722     0.196785891\n",
            "acidente_trabalho           0.05869724     -0.007104289    -0.004740548\n",
            "deixou_empresa             -0.38837498      0.006567120     0.023787185\n",
            "ultima_promocao_5anos       0.02560519     -0.008683768    -0.006063958\n",
            "area_grupo                  0.01863120      0.004651652     0.013831759\n",
            "                      horas_medias_por_mes tempo_empresa acidente_trabalho\n",
            "nivel_satisfacao              -0.020048113  -0.100866073       0.058697241\n",
            "ultima_avaliacao               0.339741800   0.131590722      -0.007104289\n",
            "numero_projetos                0.417210634   0.196785891      -0.004740548\n",
            "horas_medias_por_mes           1.000000000   0.127754910      -0.010142888\n",
            "tempo_empresa                  0.127754910   1.000000000       0.002120418\n",
            "acidente_trabalho             -0.010142888   0.002120418       1.000000000\n",
            "deixou_empresa                 0.071287179   0.144822175      -0.154621634\n",
            "ultima_promocao_5anos         -0.003544414   0.067432925       0.039245435\n",
            "area_grupo                     0.001174442   0.058609143       0.022289218\n",
            "                      deixou_empresa ultima_promocao_5anos   area_grupo\n",
            "nivel_satisfacao         -0.38837498           0.025605186  0.018631198\n",
            "ultima_avaliacao          0.00656712          -0.008683768  0.004651652\n",
            "numero_projetos           0.02378719          -0.006063958  0.013831759\n",
            "horas_medias_por_mes      0.07128718          -0.003544414  0.001174442\n",
            "tempo_empresa             0.14482217           0.067432925  0.058609143\n",
            "acidente_trabalho        -0.15462163           0.039245435  0.022289218\n",
            "deixou_empresa            1.00000000          -0.061788107 -0.071557624\n",
            "ultima_promocao_5anos    -0.06178811           1.000000000  0.074249669\n",
            "area_grupo               -0.07155762           0.074249669  1.000000000\n"
          ],
          "name": "stdout"
        }
      ]
    },
    {
      "cell_type": "markdown",
      "metadata": {
        "id": "cKLaVxJH6SmZ",
        "colab_type": "text"
      },
      "source": [
        "#**Calculando Correlação entre Variáveis**"
      ]
    },
    {
      "cell_type": "code",
      "metadata": {
        "id": "Dhs-ONrlZXV4",
        "colab_type": "code",
        "colab": {
          "base_uri": "https://localhost:8080/",
          "height": 497
        },
        "outputId": "b37a98fd-31d6-4d31-f0c1-e3ed752285c3"
      },
      "source": [
        "%%R\n",
        "# Calculando a correlação - Existe uma alta correlação Negativa \"nivel_satisfacao\" vs \"deixou_empresa\"\n",
        "par(mar=c(4,3,2,2))\n",
        "par(oma=c(1,1,2,2))\n",
        "corrplot(cor(hr[,c(1,2,3,4,5,6,7,8)]), type = \"lower\", tl.col = \"black\", method = \"ellipse\")"
      ],
      "execution_count": 76,
      "outputs": [
        {
          "output_type": "display_data",
          "data": {
            "image/png": "[encoded data removed]"
          },
          "metadata": {
            "tags": []
          }
        }
      ]
    },
    {
      "cell_type": "markdown",
      "metadata": {
        "id": "VqFT7gc6ZpdT",
        "colab_type": "text"
      },
      "source": [
        "#**Nível de satisfação tem a maior correlação negativa com a variável target.**\n"
      ]
    },
    {
      "cell_type": "markdown",
      "metadata": {
        "id": "44U5MwiJ6scr",
        "colab_type": "text"
      },
      "source": [
        "---"
      ]
    },
    {
      "cell_type": "markdown",
      "metadata": {
        "id": "mMLq0CvuZzdl",
        "colab_type": "text"
      },
      "source": [
        "# Análise bivariada"
      ]
    },
    {
      "cell_type": "markdown",
      "metadata": {
        "id": "x5uh00X57OvF",
        "colab_type": "text"
      },
      "source": [
        "##**Correlação entre Saída da Empresa *vs* Acidente de Trabalho**\n",
        "Funcionários acidentados deixam a empresa com maior frequência"
      ]
    },
    {
      "cell_type": "code",
      "metadata": {
        "id": "HAJvr8XYZXTk",
        "colab_type": "code",
        "colab": {
          "base_uri": "https://localhost:8080/",
          "height": 497
        },
        "outputId": "79b02d44-f262-42cc-d5de-8cbd2ac9101e"
      },
      "source": [
        "%%R\n",
        "# Saída da empresa x Acidente de trabalho - Barplot\n",
        "t <- table(deixou_empresa, hr$acidente_trabalho)\n",
        "barplot(prop.table(t,2), legend = paste(unique(deixou_empresa)),\n",
        "        ylab = \"Probabilidade Acumulada\", xlab = \"Acidente de Trabalho\")"
      ],
      "execution_count": 49,
      "outputs": [
        {
          "output_type": "display_data",
          "data": {
            "image/png": "[encoded data removed]"
          },
          "metadata": {
            "tags": []
          }
        }
      ]
    },
    {
      "cell_type": "markdown",
      "metadata": {
        "id": "6Cl_bEib8Mcm",
        "colab_type": "text"
      },
      "source": [
        "##**Crosstable** - Saída empresa *vs* Acidente de Trabalho"
      ]
    },
    {
      "cell_type": "code",
      "metadata": {
        "id": "W6m6SM73ZXSz",
        "colab_type": "code",
        "colab": {
          "base_uri": "https://localhost:8080/",
          "height": 526
        },
        "outputId": "d30f2d99-377a-40ad-cf22-a932706c4527"
      },
      "source": [
        "%%R\n",
        "# Cross Table\n",
        "# Saída da empresa x Acidente de trabalho - Crosstable\n",
        "CrossTable(deixou_empresa, hr$acidente_trabalho, prop.r = TRUE, prop.c = FALSE,\n",
        "           prop.t = TRUE, prop.chisq = FALSE)\n"
      ],
      "execution_count": 50,
      "outputs": [
        {
          "output_type": "stream",
          "text": [
            "\n",
            " \n",
            "   Cell Contents\n",
            "|-------------------------|\n",
            "|                       N |\n",
            "|           N / Row Total |\n",
            "|         N / Table Total |\n",
            "|-------------------------|\n",
            "\n",
            " \n",
            "Total Observations in Table:  14999 \n",
            "\n",
            " \n",
            "               | hr$acidente_trabalho \n",
            "deixou_empresa |         0 |         1 | Row Total | \n",
            "---------------|-----------|-----------|-----------|\n",
            "             0 |      9428 |      2000 |     11428 | \n",
            "               |     0.825 |     0.175 |     0.762 | \n",
            "               |     0.629 |     0.133 |           | \n",
            "---------------|-----------|-----------|-----------|\n",
            "             1 |      3402 |       169 |      3571 | \n",
            "               |     0.953 |     0.047 |     0.238 | \n",
            "               |     0.227 |     0.011 |           | \n",
            "---------------|-----------|-----------|-----------|\n",
            "  Column Total |     12830 |      2169 |     14999 | \n",
            "---------------|-----------|-----------|-----------|\n",
            "\n",
            " \n"
          ],
          "name": "stdout"
        }
      ]
    },
    {
      "cell_type": "markdown",
      "metadata": {
        "id": "zg9iDpy18XRB",
        "colab_type": "text"
      },
      "source": [
        "##**Crosstable** - Saída empresa *vs* Promoção nos últimos 5 anos"
      ]
    },
    {
      "cell_type": "code",
      "metadata": {
        "id": "mUmfcif2ZXQ9",
        "colab_type": "code",
        "colab": {
          "base_uri": "https://localhost:8080/",
          "height": 526
        },
        "outputId": "5ae9a681-4b94-4ba4-866d-f7a7296447f4"
      },
      "source": [
        "%%R\n",
        "# Saída da empresa x Promoção nos últimos 5 anos - Crosstable\n",
        "CrossTable(deixou_empresa, ultima_promocao_5anos, prop.r = TRUE, prop.c = FALSE,\n",
        "           prop.t = TRUE, prop.chisq = FALSE)\n"
      ],
      "execution_count": 51,
      "outputs": [
        {
          "output_type": "stream",
          "text": [
            "\n",
            " \n",
            "   Cell Contents\n",
            "|-------------------------|\n",
            "|                       N |\n",
            "|           N / Row Total |\n",
            "|         N / Table Total |\n",
            "|-------------------------|\n",
            "\n",
            " \n",
            "Total Observations in Table:  14999 \n",
            "\n",
            " \n",
            "               | ultima_promocao_5anos \n",
            "deixou_empresa |         0 |         1 | Row Total | \n",
            "---------------|-----------|-----------|-----------|\n",
            "             0 |     11128 |       300 |     11428 | \n",
            "               |     0.974 |     0.026 |     0.762 | \n",
            "               |     0.742 |     0.020 |           | \n",
            "---------------|-----------|-----------|-----------|\n",
            "             1 |      3552 |        19 |      3571 | \n",
            "               |     0.995 |     0.005 |     0.238 | \n",
            "               |     0.237 |     0.001 |           | \n",
            "---------------|-----------|-----------|-----------|\n",
            "  Column Total |     14680 |       319 |     14999 | \n",
            "---------------|-----------|-----------|-----------|\n",
            "\n",
            " \n"
          ],
          "name": "stdout"
        }
      ]
    },
    {
      "cell_type": "markdown",
      "metadata": {
        "id": "q2X4Lqr8_Klh",
        "colab_type": "text"
      },
      "source": [
        "##**Combinar variáveis com aggregate( )**\n",
        "###RH é a área que mais deixou a a empresa"
      ]
    },
    {
      "cell_type": "code",
      "metadata": {
        "id": "d2H19UBdZ-hY",
        "colab_type": "code",
        "colab": {
          "base_uri": "https://localhost:8080/",
          "height": 217
        },
        "outputId": "0fd88785-9a37-4e75-d041-5c6c4a858386"
      },
      "source": [
        "%%R\n",
        "# Saída da empresa x Area - Aggregate\n",
        "aggregate(deixou_empresa ~ area, FUN = mean)"
      ],
      "execution_count": 52,
      "outputs": [
        {
          "output_type": "stream",
          "text": [
            "          area deixou_empresa\n",
            "1   accounting      0.2659713\n",
            "2           hr      0.2909337\n",
            "3           IT      0.2224939\n",
            "4   management      0.1444444\n",
            "5    marketing      0.2365967\n",
            "6  product_mng      0.2195122\n",
            "7        RandD      0.1537484\n",
            "8        sales      0.2449275\n",
            "9      support      0.2489906\n",
            "10   technical      0.2562500\n"
          ],
          "name": "stdout"
        }
      ]
    },
    {
      "cell_type": "markdown",
      "metadata": {
        "id": "DG_jFZOPAA3p",
        "colab_type": "text"
      },
      "source": [
        "##**Salários baixos convertem em maior número de demissões**"
      ]
    },
    {
      "cell_type": "code",
      "metadata": {
        "id": "m0QvnvYl_wfl",
        "colab_type": "code",
        "colab": {
          "base_uri": "https://localhost:8080/",
          "height": 90
        },
        "outputId": "d5502753-14c0-48ad-c5dd-39ea6d144a29"
      },
      "source": [
        "%%R\n",
        "aggregate(deixou_empresa ~ salario, FUN = mean)"
      ],
      "execution_count": 77,
      "outputs": [
        {
          "output_type": "stream",
          "text": [
            "  salario deixou_empresa\n",
            "1    high     0.06628941\n",
            "2     low     0.29688354\n",
            "3  medium     0.20431275\n"
          ],
          "name": "stdout"
        }
      ]
    },
    {
      "cell_type": "markdown",
      "metadata": {
        "id": "YrLTd3QbaDAT",
        "colab_type": "text"
      },
      "source": [
        "- Pessoas que não tiveram uma promoção nos últimos 5 anos deixaram mais do que aqueles que tiveram."
      ]
    },
    {
      "cell_type": "markdown",
      "metadata": {
        "id": "MfmR-OVGaCzv",
        "colab_type": "text"
      },
      "source": [
        "- Pessoas da área de Gestão têm a média mais baixa de saída da empresa e pessoas de RH a média mais alta."
      ]
    },
    {
      "cell_type": "markdown",
      "metadata": {
        "id": "fYEaK6GFaCyV",
        "colab_type": "text"
      },
      "source": [
        "- Pessoas com Salário baixo têm maior média de saída da empresa em comparação com outras categorias.\n"
      ]
    },
    {
      "cell_type": "markdown",
      "metadata": {
        "id": "MksWbGNtAzQc",
        "colab_type": "text"
      },
      "source": [
        "---"
      ]
    },
    {
      "cell_type": "markdown",
      "metadata": {
        "id": "U-uyrcyHaUUA",
        "colab_type": "text"
      },
      "source": [
        "##**Transformação de Dados**"
      ]
    },
    {
      "cell_type": "markdown",
      "metadata": {
        "id": "n1pcIR_EAsIq",
        "colab_type": "text"
      },
      "source": [
        "##**Agrupar departamentos com áreas similares**"
      ]
    },
    {
      "cell_type": "code",
      "metadata": {
        "id": "YehZnZykaYLI",
        "colab_type": "code",
        "colab": {}
      },
      "source": [
        "%%R\n",
        "# Categorizando a variável area de acordo com a taxa média de saída da empresa e criando grupos de áreas\n",
        "group1 <- c('hr')\n",
        "group2 <- c('accounting','sales','support','technical')\n",
        "group3 <- c('marketing', 'IT','product_mng')\n",
        "group4 <- c('management','RandD')\n"
      ],
      "execution_count": 53,
      "outputs": []
    },
    {
      "cell_type": "markdown",
      "metadata": {
        "id": "LZgf0-8dA3Ig",
        "colab_type": "text"
      },
      "source": [
        "if para classificar devidamente os grupos"
      ]
    },
    {
      "cell_type": "code",
      "metadata": {
        "id": "5dpaHslPaaJn",
        "colab_type": "code",
        "colab": {}
      },
      "source": [
        "%%R\n",
        "hr$area_grupo <- ifelse(area %in% group1, 1,\n",
        "                       ifelse(area %in% group2, 2,\n",
        "                              ifelse(area %in% group3, 3,4)))"
      ],
      "execution_count": 54,
      "outputs": []
    },
    {
      "cell_type": "markdown",
      "metadata": {
        "id": "sPL1DICaA9pz",
        "colab_type": "text"
      },
      "source": [
        "aggregate para analisar a demissão de acordo com o grupo de áreas ao qual pertence\n",
        "\n",
        "##**O grupo com maior número de demissões é o Grupo 1**"
      ]
    },
    {
      "cell_type": "code",
      "metadata": {
        "id": "So8yjuS4aaHo",
        "colab_type": "code",
        "colab": {
          "base_uri": "https://localhost:8080/",
          "height": 108
        },
        "outputId": "62ac64a7-b3f1-4475-9d3a-591522c07368"
      },
      "source": [
        "%%R\n",
        "aggregate(deixou_empresa ~ hr$area_grupo, FUN = mean)"
      ],
      "execution_count": 55,
      "outputs": [
        {
          "output_type": "stream",
          "text": [
            "  hr$area_grupo deixou_empresa\n",
            "1             1      0.2909337\n",
            "2             2      0.2506088\n",
            "3             3      0.2256445\n",
            "4             4      0.1496119\n"
          ],
          "name": "stdout"
        }
      ]
    },
    {
      "cell_type": "markdown",
      "metadata": {
        "id": "PHHp3N7NBfSK",
        "colab_type": "text"
      },
      "source": [
        "---"
      ]
    },
    {
      "cell_type": "markdown",
      "metadata": {
        "id": "kgas0Qn-BgBT",
        "colab_type": "text"
      },
      "source": [
        "##**Dividindo os dados de Treino e Teste**"
      ]
    },
    {
      "cell_type": "code",
      "metadata": {
        "id": "S9L4eeJsakO_",
        "colab_type": "code",
        "colab": {}
      },
      "source": [
        "%%R\n",
        "# Dividindo 70% para treino e 30% para teste\n",
        "hr_train <- sample(nrow(hr), floor(nrow(hr)*0.7))\n",
        "train <- hr[hr_train,]\n",
        "test <- hr[-hr_train,]\n"
      ],
      "execution_count": 78,
      "outputs": []
    },
    {
      "cell_type": "markdown",
      "metadata": {
        "id": "9Tg2jadfBViG",
        "colab_type": "text"
      },
      "source": [
        "#<blue>**Modelo Preditivo </blue>**"
      ]
    },
    {
      "cell_type": "markdown",
      "metadata": {
        "id": "ggwX0viwarD1",
        "colab_type": "text"
      },
      "source": [
        "##**Regressão Logística**"
      ]
    },
    {
      "cell_type": "markdown",
      "metadata": {
        "id": "4RZlCzpwB3E3",
        "colab_type": "text"
      },
      "source": [
        "###**Modelo Linear Generalizado - GLM**"
      ]
    },
    {
      "cell_type": "code",
      "metadata": {
        "id": "PnY5nr-5aqX9",
        "colab_type": "code",
        "colab": {}
      },
      "source": [
        "%%R\n",
        "# Testando todas as variáveis\n",
        "names(hr)\n",
        "model <- glm(formula = (deixou_empresa) ~  nivel_satisfacao\n",
        "             + ultima_avaliacao\n",
        "             + numero_projetos\n",
        "             + horas_medias_por_mes\n",
        "             + tempo_empresa\n",
        "             + acidente_trabalho\n",
        "             + ultima_promocao_5anos\n",
        "             + area\n",
        "             + salario,\n",
        "             family = binomial(logit), # regressão logística\n",
        "             data = train) # conjunto de dados de TREINO acima"
      ],
      "execution_count": 79,
      "outputs": []
    },
    {
      "cell_type": "markdown",
      "metadata": {
        "id": "SgDt6aywCU8c",
        "colab_type": "text"
      },
      "source": [
        "##**Número de relevância da variável na última coluna**\n",
        "- nivel_satisfacao\n",
        "- ultima_avaliacao\n",
        "- numero_projetos\n",
        "- horas_medias_por_mes\n",
        "- tempo_empresa\n",
        "- acidente_trabalho\n",
        "- ultima_promocao_5anos\n",
        "- salariolow\n",
        "- salariomedium"
      ]
    },
    {
      "cell_type": "code",
      "metadata": {
        "id": "DqcUXAI-az3y",
        "colab_type": "code",
        "colab": {
          "base_uri": "https://localhost:8080/",
          "height": 799
        },
        "outputId": "58b4726d-6009-410f-88fa-00968101e8b4"
      },
      "source": [
        "%%R\n",
        "summary(model)"
      ],
      "execution_count": 80,
      "outputs": [
        {
          "output_type": "stream",
          "text": [
            "\n",
            "Call:\n",
            "glm(formula = (deixou_empresa) ~ nivel_satisfacao + ultima_avaliacao + \n",
            "    numero_projetos + horas_medias_por_mes + tempo_empresa + \n",
            "    acidente_trabalho + ultima_promocao_5anos + area + salario, \n",
            "    family = binomial(logit), data = train)\n",
            "\n",
            "Deviance Residuals: \n",
            "    Min       1Q   Median       3Q      Max  \n",
            "-2.1921  -0.6599  -0.4015  -0.1197   3.0922  \n",
            "\n",
            "Coefficients:\n",
            "                        Estimate Std. Error z value Pr(>|z|)    \n",
            "(Intercept)           -1.6517677  0.2329999  -7.089 1.35e-12 ***\n",
            "nivel_satisfacao      -4.1197436  0.1178068 -34.970  < 2e-16 ***\n",
            "ultima_avaliacao       0.9042849  0.1782874   5.072 3.94e-07 ***\n",
            "numero_projetos       -0.3074209  0.0255463 -12.034  < 2e-16 ***\n",
            "horas_medias_por_mes   0.0044452  0.0006166   7.210 5.61e-13 ***\n",
            "tempo_empresa          0.2633074  0.0185944  14.161  < 2e-16 ***\n",
            "acidente_trabalho     -1.5193812  0.1051285 -14.453  < 2e-16 ***\n",
            "ultima_promocao_5anos -1.5411094  0.3089065  -4.989 6.07e-07 ***\n",
            "areahr                 0.1644849  0.1620927   1.015  0.31022    \n",
            "areaIT                -0.2068839  0.1482290  -1.396  0.16280    \n",
            "areamanagement        -0.4988573  0.1945119  -2.565  0.01033 *  \n",
            "areamarketing         -0.0173623  0.1593772  -0.109  0.91325    \n",
            "areaproduct_mng       -0.0530144  0.1551137  -0.342  0.73252    \n",
            "areaRandD             -0.4698361  0.1727603  -2.720  0.00654 ** \n",
            "areasales              0.0029721  0.1239722   0.024  0.98087    \n",
            "areasupport            0.0638583  0.1326189   0.482  0.63015    \n",
            "areatechnical          0.1163806  0.1290261   0.902  0.36706    \n",
            "salariolow             1.9675447  0.1526312  12.891  < 2e-16 ***\n",
            "salariomedium          1.3830973  0.1536912   8.999  < 2e-16 ***\n",
            "---\n",
            "Signif. codes:  0 ‘***’ 0.001 ‘**’ 0.01 ‘*’ 0.05 ‘.’ 0.1 ‘ ’ 1\n",
            "\n",
            "(Dispersion parameter for binomial family taken to be 1)\n",
            "\n",
            "    Null deviance: 11481.4  on 10498  degrees of freedom\n",
            "Residual deviance:  8963.2  on 10480  degrees of freedom\n",
            "AIC: 9001.2\n",
            "\n",
            "Number of Fisher Scoring iterations: 5\n",
            "\n"
          ],
          "name": "stdout"
        }
      ]
    },
    {
      "cell_type": "markdown",
      "metadata": {
        "id": "ShFWrCv1Cy68",
        "colab_type": "text"
      },
      "source": [
        "##**Função anova e teste qui² ajudam a melhor definir quais variáveis mais relevantes**\n"
      ]
    },
    {
      "cell_type": "markdown",
      "metadata": {
        "id": "0Lbb_s7ma4FD",
        "colab_type": "text"
      },
      "source": [
        "Todas as variáveis se mostram relevantes, sendo respectivamente os principais fatores para deixar a empresa:\n",
        "- nível de satisfação\n",
        "- acidente de trabalho\n",
        "- salário\n"
      ]
    },
    {
      "cell_type": "code",
      "metadata": {
        "id": "PaalasUdaz1G",
        "colab_type": "code",
        "colab": {
          "base_uri": "https://localhost:8080/",
          "height": 417
        },
        "outputId": "58192768-96d4-42ec-e0ef-0b98f8423168"
      },
      "source": [
        "%%R\n",
        "anova(model, test = \"Chisq\")"
      ],
      "execution_count": 59,
      "outputs": [
        {
          "output_type": "stream",
          "text": [
            "Analysis of Deviance Table\n",
            "\n",
            "Model: binomial, link: logit\n",
            "\n",
            "Response: (deixou_empresa)\n",
            "\n",
            "Terms added sequentially (first to last)\n",
            "\n",
            "\n",
            "                      Df Deviance Resid. Df Resid. Dev  Pr(>Chi)    \n",
            "NULL                                  10498    11481.4              \n",
            "nivel_satisfacao       1  1549.18     10497     9932.2 < 2.2e-16 ***\n",
            "ultima_avaliacao       1    24.71     10496     9907.5 6.681e-07 ***\n",
            "numero_projetos        1    74.73     10495     9832.8 < 2.2e-16 ***\n",
            "horas_medias_por_mes   1    60.56     10494     9772.3 7.124e-15 ***\n",
            "tempo_empresa          1   122.58     10493     9649.7 < 2.2e-16 ***\n",
            "acidente_trabalho      1   271.73     10492     9377.9 < 2.2e-16 ***\n",
            "ultima_promocao_5anos  1    58.93     10491     9319.0 1.630e-14 ***\n",
            "area                   9    60.94     10482     9258.1 8.832e-10 ***\n",
            "salario                2   294.85     10480     8963.2 < 2.2e-16 ***\n",
            "---\n",
            "Signif. codes:  0 ‘***’ 0.001 ‘**’ 0.01 ‘*’ 0.05 ‘.’ 0.1 ‘ ’ 1\n"
          ],
          "name": "stdout"
        }
      ]
    },
    {
      "cell_type": "markdown",
      "metadata": {
        "id": "xOEp1KGcD2yA",
        "colab_type": "text"
      },
      "source": [
        "##**Previsões com dados de Teste**"
      ]
    },
    {
      "cell_type": "code",
      "metadata": {
        "id": "VLIkBXnRa90b",
        "colab_type": "code",
        "colab": {}
      },
      "source": [
        "%%R\n",
        "# Previsões\n",
        "p <- predict(model, test, type = \"response\")\n",
        "pr <- prediction(p, test$deixou_empresa)\n"
      ],
      "execution_count": 60,
      "outputs": []
    },
    {
      "cell_type": "code",
      "metadata": {
        "id": "7vYFJSa6bB7W",
        "colab_type": "code",
        "colab": {
          "base_uri": "https://localhost:8080/",
          "height": 497
        },
        "outputId": "f6f318c6-d3cd-43ef-ef94-a6657ca1b247"
      },
      "source": [
        "%%R\n",
        "# Calculando a taxa de verdadeiro positivo e falso positivo\n",
        "prf <- performance(pr, measure = \"tpr\", x.measure = \"fpr\")\n",
        "plot(prf)"
      ],
      "execution_count": 61,
      "outputs": [
        {
          "output_type": "display_data",
          "data": {
            "image/png": "[encoded data removed]"
          },
          "metadata": {
            "tags": []
          }
        }
      ]
    },
    {
      "cell_type": "markdown",
      "metadata": {
        "id": "rH26xS6gED4p",
        "colab_type": "text"
      },
      "source": [
        "##**Nível de precisão de 0.82**"
      ]
    },
    {
      "cell_type": "code",
      "metadata": {
        "id": "l2gtaqxMbDva",
        "colab_type": "code",
        "colab": {
          "base_uri": "https://localhost:8080/",
          "height": 35
        },
        "outputId": "c449de29-6258-4062-fd1a-e0d4591f9b3a"
      },
      "source": [
        "%%R\n",
        "# Area Under the Curve\n",
        "auc <- performance(pr, measure = \"auc\")\n",
        "auc <- auc@y.values[[1]]\n",
        "auc"
      ],
      "execution_count": 62,
      "outputs": [
        {
          "output_type": "stream",
          "text": [
            "[1] 0.8224268\n"
          ],
          "name": "stdout"
        }
      ]
    },
    {
      "cell_type": "markdown",
      "metadata": {
        "id": "kGdIhX7JEJjy",
        "colab_type": "text"
      },
      "source": [
        "---"
      ]
    },
    {
      "cell_type": "markdown",
      "metadata": {
        "id": "2XXRyv_ebGJV",
        "colab_type": "text"
      },
      "source": [
        "##**Árvore de Decisão**"
      ]
    },
    {
      "cell_type": "markdown",
      "metadata": {
        "id": "j1lOTsNYEgHR",
        "colab_type": "text"
      },
      "source": [
        "Usando a função **rpart** com as mesmas variáveis da regressão logística"
      ]
    },
    {
      "cell_type": "code",
      "metadata": {
        "id": "ARaatawBbIw2",
        "colab_type": "code",
        "colab": {}
      },
      "source": [
        "%%R  \n",
        "# Usando a mesma combinação de variáveis\n",
        "tree1 <- rpart(formula = (deixou_empresa) ~  nivel_satisfacao\n",
        "               + ultima_avaliacao\n",
        "               + numero_projetos\n",
        "               + horas_medias_por_mes\n",
        "               + tempo_empresa\n",
        "               + acidente_trabalho\n",
        "               + ultima_promocao_5anos\n",
        "               + area\n",
        "               + salario,\n",
        "               data = train,\n",
        "               method = \"class\")\n",
        "tree1"
      ],
      "execution_count": null,
      "outputs": []
    },
    {
      "cell_type": "code",
      "metadata": {
        "id": "ulyVh3qUbIvv",
        "colab_type": "code",
        "colab": {
          "base_uri": "https://localhost:8080/",
          "height": 934
        },
        "outputId": "c72e0d41-7645-433f-b545-90214f84479e"
      },
      "source": [
        "%%R\n",
        "# Plot\n",
        "plot(tree1, uniform = TRUE, main = \"Classification Tree\")\n",
        "text(tree1, use.n = TRUE, all = TRUE, cex = .8)\n",
        "printcp(tree1)"
      ],
      "execution_count": 64,
      "outputs": [
        {
          "output_type": "stream",
          "text": [
            "\n",
            "Classification tree:\n",
            "rpart(formula = (deixou_empresa) ~ nivel_satisfacao + ultima_avaliacao + \n",
            "    numero_projetos + horas_medias_por_mes + tempo_empresa + \n",
            "    acidente_trabalho + ultima_promocao_5anos + area + salario, \n",
            "    data = train, method = \"class\")\n",
            "\n",
            "Variables actually used in tree construction:\n",
            "[1] horas_medias_por_mes nivel_satisfacao     numero_projetos     \n",
            "[4] tempo_empresa        ultima_avaliacao    \n",
            "\n",
            "Root node error: 2481/10499 = 0.23631\n",
            "\n",
            "n= 10499 \n",
            "\n",
            "        CP nsplit rel error  xerror      xstd\n",
            "1 0.237001      0   1.00000 1.00000 0.0175447\n",
            "2 0.187021      1   0.76300 0.76300 0.0158772\n",
            "3 0.076784      3   0.38896 0.38896 0.0119316\n",
            "4 0.052801      5   0.23539 0.23539 0.0094657\n",
            "5 0.029827      6   0.18259 0.18259 0.0083916\n",
            "6 0.016929      7   0.15276 0.15276 0.0077039\n",
            "7 0.010883      8   0.13583 0.13744 0.0073212\n",
            "8 0.010000      9   0.12495 0.13341 0.0072166\n"
          ],
          "name": "stdout"
        },
        {
          "output_type": "display_data",
          "data": {
            "image/png": "[encoded data removed]"
          },
          "metadata": {
            "tags": []
          }
        }
      ]
    },
    {
      "cell_type": "markdown",
      "metadata": {
        "id": "haa3P-FhEwxs",
        "colab_type": "text"
      },
      "source": [
        "####Plotagem da árvore de decisão que nos leva identificar quais são os aspectos mais relevantes a deixar a empresa"
      ]
    },
    {
      "cell_type": "code",
      "metadata": {
        "id": "uW1ei4RQbRuM",
        "colab_type": "code",
        "colab": {
          "base_uri": "https://localhost:8080/",
          "height": 35
        },
        "outputId": "5224e20f-6af7-4c69-d918-3f242793e1a8"
      },
      "source": [
        "%%R\n",
        "# Determinar Erros da Árvore\n",
        "tree1$cptable[which.min(tree1$cptable[,\"xerror\"]),\"CP\"]"
      ],
      "execution_count": 65,
      "outputs": [
        {
          "output_type": "stream",
          "text": [
            "[1] 0.01\n"
          ],
          "name": "stdout"
        }
      ]
    },
    {
      "cell_type": "markdown",
      "metadata": {
        "id": "CR57-VQhE8RK",
        "colab_type": "text"
      },
      "source": [
        "####Determinar os Erros da árvore para identificar a necessidade de Prune da árvore - Reduzir nodes"
      ]
    },
    {
      "cell_type": "code",
      "metadata": {
        "id": "PzleMCYjbTSN",
        "colab_type": "code",
        "colab": {
          "base_uri": "https://localhost:8080/",
          "height": 497
        },
        "outputId": "11bb8755-7ac8-4d5c-ba0a-9bf03a390d2d"
      },
      "source": [
        "%%R\n",
        "plotcp(tree1)"
      ],
      "execution_count": 66,
      "outputs": [
        {
          "output_type": "display_data",
          "data": {
            "image/png": "[encoded data removed]"
          },
          "metadata": {
            "tags": []
          }
        }
      ]
    },
    {
      "cell_type": "markdown",
      "metadata": {
        "id": "9lq61dzLbXVo",
        "colab_type": "text"
      },
      "source": [
        "Não será necessário fazer o prune da árvore\n",
        "\n"
      ]
    },
    {
      "cell_type": "markdown",
      "metadata": {
        "id": "En2ZOqJHFl1V",
        "colab_type": "text"
      },
      "source": [
        "---"
      ]
    },
    {
      "cell_type": "markdown",
      "metadata": {
        "id": "5c8rqpKkFnq1",
        "colab_type": "text"
      },
      "source": [
        "## Calcular Confusion Matrix com Dados de Treino"
      ]
    },
    {
      "cell_type": "code",
      "metadata": {
        "id": "lDpRIQB6bbLF",
        "colab_type": "code",
        "colab": {
          "base_uri": "https://localhost:8080/",
          "height": 90
        },
        "outputId": "3cdd71eb-3bf5-4989-e712-8c4142e7f837"
      },
      "source": [
        "%%R\n",
        "# Confusion Matrix - Dados de Treino\n",
        "conf_matrix_tree <- table(train$deixou_empresa, predict(tree1, type = \"class\"))\n",
        "rownames(conf_matrix_tree) <- paste(\"Actual\", rownames(conf_matrix_tree), sep = \":\")\n",
        "colnames(conf_matrix_tree) <- paste(\"Pred\", colnames(conf_matrix_tree), sep = \":\")\n",
        "print(conf_matrix_tree)\n",
        "\n",
        "# quando o valor era 0, o modelo previu 7928 * 0 e 90 * 1\n",
        "# quando o valor era 1, o modelo previu 220  * 0 e 2261 * 1\n",
        "# quando"
      ],
      "execution_count": 67,
      "outputs": [
        {
          "output_type": "stream",
          "text": [
            "          \n",
            "           Pred:0 Pred:1\n",
            "  Actual:0   7928     90\n",
            "  Actual:1    220   2261\n"
          ],
          "name": "stdout"
        }
      ]
    },
    {
      "cell_type": "code",
      "metadata": {
        "id": "F6l7PdPybh3M",
        "colab_type": "code",
        "colab": {}
      },
      "source": [
        "%%R\n",
        "# Dados de Teste\n",
        "test_tree = predict(tree1, test, type = \"prob\")"
      ],
      "execution_count": 68,
      "outputs": []
    },
    {
      "cell_type": "code",
      "metadata": {
        "id": "7fzezbXYbbHm",
        "colab_type": "code",
        "colab": {}
      },
      "source": [
        "%%R\n",
        "# Armazenando o score de performance do modelo\n",
        "pred_tree <-prediction(test_tree[,2], test$deixou_empresa)"
      ],
      "execution_count": 69,
      "outputs": []
    },
    {
      "cell_type": "code",
      "metadata": {
        "id": "l6_YJV2zblAq",
        "colab_type": "code",
        "colab": {
          "base_uri": "https://localhost:8080/",
          "height": 54
        },
        "outputId": "b6f61a40-6b04-4dfa-fbc9-fc5e4c65e12c"
      },
      "source": [
        "%%R\n",
        "#  Area under the Curve\n",
        "perf_tree <- performance(pred_tree,\"auc\")\n",
        "perf_tree"
      ],
      "execution_count": 70,
      "outputs": [
        {
          "output_type": "stream",
          "text": [
            "A performance instance\n",
            "  'Area under the ROC curve'\n"
          ],
          "name": "stdout"
        }
      ]
    },
    {
      "cell_type": "code",
      "metadata": {
        "id": "Pal22C_Qbk9L",
        "colab_type": "code",
        "colab": {}
      },
      "source": [
        "%%R\n",
        "# Calculando a taxa de verdadeiro positivo e falso positivo\n",
        "perf_tree <- performance(pred_tree, \"tpr\", \"fpr\")"
      ],
      "execution_count": 71,
      "outputs": []
    },
    {
      "cell_type": "code",
      "metadata": {
        "id": "4nrtQZIrbk5_",
        "colab_type": "code",
        "colab": {
          "base_uri": "https://localhost:8080/",
          "height": 497
        },
        "outputId": "80fa325c-6c30-44de-98d9-1712880f85e8"
      },
      "source": [
        "%%R\n",
        "# Plotando Curva agora com Árvores de Decisão\n",
        "plot(perf_tree,  lwd = 1.5)"
      ],
      "execution_count": 72,
      "outputs": [
        {
          "output_type": "display_data",
          "data": {
            "image/png": "[encoded data removed]"
          },
          "metadata": {
            "tags": []
          }
        }
      ]
    },
    {
      "cell_type": "markdown",
      "metadata": {
        "id": "zPTqT05lb1Co",
        "colab_type": "text"
      },
      "source": [
        "##**Conclusão**"
      ]
    },
    {
      "cell_type": "markdown",
      "metadata": {
        "id": "qHtJg9iMb50z",
        "colab_type": "text"
      },
      "source": [
        "## 1- Quais são os aspectos mais importantes e que são decisivos para os colaboradores deixarem seus empregos?\n",
        "\n",
        "De acordo com a Regressão logístisca são: nível de satisfação, acidente de trabalho e salário como os aspectos mais relevantes.\n",
        "\n",
        "A árvore de decisão, os mais importantes são o nível de satisfação, o tempo gasto na empresa e número de projetos realizados."
      ]
    },
    {
      "cell_type": "markdown",
      "metadata": {
        "id": "QDqbIN9rb5zB",
        "colab_type": "text"
      },
      "source": [
        "## 2- Qual a melhor forma de fazer estas previsões: regressão logística ou árvore de decisão?\n",
        "\n",
        "Para esse conjunto de dados, a árvore de decisão obteve um melhor desempenho no conjunto de dados de teste. Podemos observar isso pelas curvas ROC abaixo.\n"
      ]
    },
    {
      "cell_type": "code",
      "metadata": {
        "id": "N2rTt_VXb3Yp",
        "colab_type": "code",
        "colab": {
          "base_uri": "https://localhost:8080/",
          "height": 497
        },
        "outputId": "9097cf90-cd8e-4b0f-aaa2-c9f74773c6d0"
      },
      "source": [
        "%%R\n",
        "plot(prf)\n",
        "title(\"Curva ROC - Regressão Logística\")"
      ],
      "execution_count": 73,
      "outputs": [
        {
          "output_type": "display_data",
          "data": {
            "image/png": "[encoded data removed]"
          },
          "metadata": {
            "tags": []
          }
        }
      ]
    },
    {
      "cell_type": "code",
      "metadata": {
        "id": "8TIiYexub3Xk",
        "colab_type": "code",
        "colab": {
          "base_uri": "https://localhost:8080/",
          "height": 497
        },
        "outputId": "62bad287-2448-415a-ccca-ed4adb468ca9"
      },
      "source": [
        "%%R\n",
        "plot(perf_tree,  lwd = 1.5)\n",
        "title(\"Curva ROC - Decision Tree\")"
      ],
      "execution_count": 74,
      "outputs": [
        {
          "output_type": "display_data",
          "data": {
            "image/png": "[encoded data removed]"
          },
          "metadata": {
            "tags": []
          }
        }
      ]
    }
  ]
}