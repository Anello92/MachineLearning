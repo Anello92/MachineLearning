{
  "nbformat": 4,
  "nbformat_minor": 0,
  "metadata": {
    "colab": {
      "name": "Cap13-Exercicios-Modelos.ipynb",
      "provenance": [],
      "collapsed_sections": []
    },
    "kernelspec": {
      "name": "python3",
      "display_name": "Python 3"
    }
  },
  "cells": [
    {
      "cell_type": "code",
      "metadata": {
        "id": "yO73hXnRLNyF",
        "colab_type": "code",
        "colab": {
          "base_uri": "https://localhost:8080/",
          "height": 52
        },
        "outputId": "763391d8-32fb-41bf-ad9b-a566eedd0e17"
      },
      "source": [
        "# activate R magic\n",
        "%load_ext rpy2.ipython"
      ],
      "execution_count": 40,
      "outputs": [
        {
          "output_type": "stream",
          "text": [
            "The rpy2.ipython extension is already loaded. To reload it, use:\n",
            "  %reload_ext rpy2.ipython\n"
          ],
          "name": "stdout"
        }
      ]
    },
    {
      "cell_type": "markdown",
      "metadata": {
        "id": "6j00MqcRSnjc",
        "colab_type": "text"
      },
      "source": [
        "#**Problema de Classificação** - Naive Bayes"
      ]
    },
    {
      "cell_type": "markdown",
      "metadata": {
        "id": "Pq8Wjhh1LFqy",
        "colab_type": "text"
      },
      "source": [
        "## Prever os votos em Republicanos e Democratas (Utilizar Variável Class)"
      ]
    },
    {
      "cell_type": "code",
      "metadata": {
        "id": "72G35rlFLmEF",
        "colab_type": "code",
        "colab": {}
      },
      "source": [
        "%%R\n",
        "# Import\n",
        "install.packages(\"mlbench\")\n",
        "library(mlbench)\n",
        "\n",
        "# Carregando o dataset\n",
        "#?HouseVotes84\n",
        "data(\"HouseVotes84\")"
      ],
      "execution_count": 0,
      "outputs": []
    },
    {
      "cell_type": "markdown",
      "metadata": {
        "id": "xBj8GgOJL7Bz",
        "colab_type": "text"
      },
      "source": [
        "## Análise Exploratória de Dados"
      ]
    },
    {
      "cell_type": "code",
      "metadata": {
        "id": "8EuZhtjxLmBF",
        "colab_type": "code",
        "colab": {
          "base_uri": "https://localhost:8080/",
          "height": 497
        },
        "outputId": "418da330-4010-4654-f63a-a16cdc9233cf"
      },
      "source": [
        "%%R\n",
        "plot(as.factor(HouseVotes84[,2]))\n",
        "title(main = \"Votes cast for issue\", xlab = \"vote\", ylab = \"# reps\")"
      ],
      "execution_count": 42,
      "outputs": [
        {
          "output_type": "display_data",
          "data": {
            "image/png": "[encoded data removed]"
          },
          "metadata": {
            "tags": []
          }
        }
      ]
    },
    {
      "cell_type": "code",
      "metadata": {
        "id": "oPzRl9I3Ll92",
        "colab_type": "code",
        "colab": {
          "base_uri": "https://localhost:8080/",
          "height": 497
        },
        "outputId": "a6bf48fc-3e53-4026-ed61-2ef0a6a24f2d"
      },
      "source": [
        "%%R\n",
        "plot(as.factor(HouseVotes84[HouseVotes84$Class == 'republican', 2]))\n",
        "title(main = \"Republican votes cast for issue 1\", xlab = \"vote\", ylab = \"# reps\")"
      ],
      "execution_count": 43,
      "outputs": [
        {
          "output_type": "display_data",
          "data": {
            "image/png": "[encoded data removed]"
          },
          "metadata": {
            "tags": []
          }
        }
      ]
    },
    {
      "cell_type": "code",
      "metadata": {
        "id": "dB0EDOgQLl6d",
        "colab_type": "code",
        "colab": {
          "base_uri": "https://localhost:8080/",
          "height": 497
        },
        "outputId": "2c096d29-a452-48f1-80fc-c539b2e5fd7c"
      },
      "source": [
        "%%R\n",
        "plot(as.factor(HouseVotes84[HouseVotes84$Class == 'democrat',2]))\n",
        "title(main = \"Democrat votes cast for issue 1\", xlab = \"vote\", ylab = \"# reps\")"
      ],
      "execution_count": 44,
      "outputs": [
        {
          "output_type": "display_data",
          "data": {
            "image/png": "[encoded data removed]"
          },
          "metadata": {
            "tags": []
          }
        }
      ]
    },
    {
      "cell_type": "markdown",
      "metadata": {
        "id": "aL1zOPBOMIkG",
        "colab_type": "text"
      },
      "source": [
        "#Funções usadas para Imputation"
      ]
    },
    {
      "cell_type": "markdown",
      "metadata": {
        "id": "s5MjWSEsMS_p",
        "colab_type": "text"
      },
      "source": [
        "## Função que retorna o numeros de NA's por voto e classe (democrat or republican)\n"
      ]
    },
    {
      "cell_type": "code",
      "metadata": {
        "id": "rxXzUO4yMnvO",
        "colab_type": "code",
        "colab": {}
      },
      "source": [
        "%%R\n",
        "na_by_col_class <- function (col,cls){return(sum(is.na(HouseVotes84[,col]) & HouseVotes84$Class==cls))}"
      ],
      "execution_count": 0,
      "outputs": []
    },
    {
      "cell_type": "markdown",
      "metadata": {
        "id": "9gUtberrT4s1",
        "colab_type": "text"
      },
      "source": [
        "## Função para retoranar a soma entre os dados de democratas quanto de republicanos"
      ]
    },
    {
      "cell_type": "code",
      "metadata": {
        "id": "gYTU40aAMr1Z",
        "colab_type": "code",
        "colab": {}
      },
      "source": [
        "%%R\n",
        "p_y_col_class <- function(col,cls){\n",
        "  sum_y <- sum(HouseVotes84[,col] == 'y' & HouseVotes84$Class == cls, na.rm = TRUE)\n",
        "  sum_n <- sum(HouseVotes84[,col] == 'n' & HouseVotes84$Class == cls, na.rm = TRUE)\n",
        "  return(sum_y/(sum_y+sum_n))}"
      ],
      "execution_count": 0,
      "outputs": []
    },
    {
      "cell_type": "markdown",
      "metadata": {
        "id": "fkTh-iV4UJEq",
        "colab_type": "text"
      },
      "source": [
        "## Testando a função"
      ]
    },
    {
      "cell_type": "code",
      "metadata": {
        "id": "9m5OX9qmULTh",
        "colab_type": "code",
        "colab": {
          "base_uri": "https://localhost:8080/",
          "height": 35
        },
        "outputId": "da993329-2311-4163-e110-64c4bb474bbf"
      },
      "source": [
        "%%R\n",
        "p_y_col_class(2,'democrat')"
      ],
      "execution_count": 47,
      "outputs": [
        {
          "output_type": "stream",
          "text": [
            "[1] 0.6046512\n"
          ],
          "name": "stdout"
        }
      ]
    },
    {
      "cell_type": "code",
      "metadata": {
        "id": "yGc7DQQnULP5",
        "colab_type": "code",
        "colab": {
          "base_uri": "https://localhost:8080/",
          "height": 35
        },
        "outputId": "638d5adc-024e-4357-aa60-96868aae1bc7"
      },
      "source": [
        "%%R\n",
        "p_y_col_class(2,'republican')"
      ],
      "execution_count": 48,
      "outputs": [
        {
          "output_type": "stream",
          "text": [
            "[1] 0.1878788\n"
          ],
          "name": "stdout"
        }
      ]
    },
    {
      "cell_type": "code",
      "metadata": {
        "id": "Cka-uQHcULMQ",
        "colab_type": "code",
        "colab": {
          "base_uri": "https://localhost:8080/",
          "height": 35
        },
        "outputId": "761afd21-e264-4453-8fbf-6b381462c759"
      },
      "source": [
        "%%R\n",
        "na_by_col_class(2,'democrat')"
      ],
      "execution_count": 49,
      "outputs": [
        {
          "output_type": "stream",
          "text": [
            "[1] 9\n"
          ],
          "name": "stdout"
        }
      ]
    },
    {
      "cell_type": "code",
      "metadata": {
        "id": "Ryrooj3YMukc",
        "colab_type": "code",
        "colab": {
          "base_uri": "https://localhost:8080/",
          "height": 35
        },
        "outputId": "e3df90c9-e62a-438d-b4a5-18c2d45c66e4"
      },
      "source": [
        "%%R\n",
        "na_by_col_class(2,'republican')"
      ],
      "execution_count": 50,
      "outputs": [
        {
          "output_type": "stream",
          "text": [
            "[1] 3\n"
          ],
          "name": "stdout"
        }
      ]
    },
    {
      "cell_type": "markdown",
      "metadata": {
        "id": "c7A2ArrsUc0s",
        "colab_type": "text"
      },
      "source": [
        "## Aplicar conceito de Imputação - Técnica de substituição de NAs"
      ]
    },
    {
      "cell_type": "code",
      "metadata": {
        "id": "AZXdlHiCMxHg",
        "colab_type": "code",
        "colab": {}
      },
      "source": [
        "%%R\n",
        "for (i in 2:ncol(HouseVotes84)) {\n",
        "  if(sum(is.na(HouseVotes84[,i])>0)) { #verificando se temos ou não valores missing\n",
        "    c1 <- which(is.na(HouseVotes84[,i]) & HouseVotes84$Class == 'democrat',arr.ind = TRUE)   #missing de democratas\n",
        "    c2 <- which(is.na(HouseVotes84[,i]) & HouseVotes84$Class == 'republican',arr.ind = TRUE) #missing de republicanos\n",
        "    HouseVotes84[c1,i] <- ifelse(runif(na_by_col_class(i,'democrat'))<p_y_col_class(i,'democrat'),'y','n') # aplicando função de remoção de missing para C1\n",
        "    HouseVotes84[c2,i] <- ifelse(runif(na_by_col_class(i,'republican'))<p_y_col_class(i,'republican'),'y','n')} # aplicando função de remoção de missing para C2\n",
        "}"
      ],
      "execution_count": 0,
      "outputs": []
    },
    {
      "cell_type": "markdown",
      "metadata": {
        "id": "7slgig_5Wv9e",
        "colab_type": "text"
      },
      "source": [
        "---"
      ]
    },
    {
      "cell_type": "markdown",
      "metadata": {
        "id": "0eQrEAP4VMPF",
        "colab_type": "text"
      },
      "source": [
        "## Concluida essa etapa de Pré-Processamento de dados, iniciar a **Construção do Modelo**"
      ]
    },
    {
      "cell_type": "markdown",
      "metadata": {
        "id": "1P_tgSB2WU9v",
        "colab_type": "text"
      },
      "source": [
        "##**Fazer a divisão entre Dados de Treino e Dados de Teste**"
      ]
    },
    {
      "cell_type": "code",
      "metadata": {
        "id": "K46xiA0UMzHp",
        "colab_type": "code",
        "colab": {}
      },
      "source": [
        "%%R\n",
        "HouseVotes84[,\"train\"] <- ifelse(runif(nrow(HouseVotes84)) < 0.80,1,0) #.80 como índice de separação "
      ],
      "execution_count": 0,
      "outputs": []
    },
    {
      "cell_type": "markdown",
      "metadata": {
        "id": "_28kY8-qWp6z",
        "colab_type": "text"
      },
      "source": [
        "## Criar Index para fazer a divisão entre os Dados"
      ]
    },
    {
      "cell_type": "code",
      "metadata": {
        "id": "bFFQBcB0Wo6i",
        "colab_type": "code",
        "colab": {}
      },
      "source": [
        "%%R\n",
        "trainColNum <- grep(\"train\",names(HouseVotes84)) "
      ],
      "execution_count": 0,
      "outputs": []
    },
    {
      "cell_type": "markdown",
      "metadata": {
        "id": "F7gRylcBWd2U",
        "colab_type": "text"
      },
      "source": [
        "##Divisão com **Index** criado \n"
      ]
    },
    {
      "cell_type": "code",
      "metadata": {
        "id": "Lkdsy-EpM095",
        "colab_type": "code",
        "colab": {}
      },
      "source": [
        "%%R\n",
        "# Gerando os dados de treino e de teste a partir da coluna de treino\n",
        "trainHouseVotes84 <- HouseVotes84[HouseVotes84$train == 1, -trainColNum] #dados Treino 1\n",
        "testHouseVotes84 <- HouseVotes84[HouseVotes84$train == 0, -trainColNum]  #dados Teste 0"
      ],
      "execution_count": 0,
      "outputs": []
    },
    {
      "cell_type": "markdown",
      "metadata": {
        "id": "aSMvYh6IXIyR",
        "colab_type": "text"
      },
      "source": [
        "---"
      ]
    },
    {
      "cell_type": "markdown",
      "metadata": {
        "id": "VVKgWWIgXESI",
        "colab_type": "text"
      },
      "source": [
        "# Invocar Método **NaiveBayes** - Algoritmo Probabilístico"
      ]
    },
    {
      "cell_type": "code",
      "metadata": {
        "id": "jYSNunHUM2JE",
        "colab_type": "code",
        "colab": {}
      },
      "source": [
        "%%R\n",
        "install.packages(\"e1071\") #pacote para NaiveBayes\n",
        "library(e1071)"
      ],
      "execution_count": 0,
      "outputs": []
    },
    {
      "cell_type": "markdown",
      "metadata": {
        "id": "rqcKg4PmM3xW",
        "colab_type": "text"
      },
      "source": [
        "#**Criando Modelo NaiveBayes**"
      ]
    },
    {
      "cell_type": "code",
      "metadata": {
        "id": "4B7vPTwnM-j0",
        "colab_type": "code",
        "colab": {}
      },
      "source": [
        "%%R\n",
        "# Treinar o modelo\n",
        "#?naiveBayes\n",
        "nb_model <- naiveBayes(Class ~ ., data = trainHouseVotes84)"
      ],
      "execution_count": 0,
      "outputs": []
    },
    {
      "cell_type": "code",
      "metadata": {
        "id": "I43lPfaiNJBd",
        "colab_type": "code",
        "colab": {
          "base_uri": "https://localhost:8080/",
          "height": 1000
        },
        "outputId": "1d8b50d7-9f05-4ff7-a318-8a8a87f5d6dc"
      },
      "source": [
        "%%R\n",
        "# Visualizar o resultado\n",
        "nb_model"
      ],
      "execution_count": 57,
      "outputs": [
        {
          "output_type": "stream",
          "text": [
            "\n",
            "Naive Bayes Classifier for Discrete Predictors\n",
            "\n",
            "Call:\n",
            "naiveBayes.default(x = X, y = Y, laplace = laplace)\n",
            "\n",
            "A-priori probabilities:\n",
            "Y\n",
            "  democrat republican \n",
            " 0.6111111  0.3888889 \n",
            "\n",
            "Conditional probabilities:\n",
            "            V1\n",
            "Y                    n         y\n",
            "  democrat   0.4066986 0.5933014\n",
            "  republican 0.8195489 0.1804511\n",
            "\n",
            "            V2\n",
            "Y                    n         y\n",
            "  democrat   0.4928230 0.5071770\n",
            "  republican 0.5037594 0.4962406\n",
            "\n",
            "            V3\n",
            "Y                    n         y\n",
            "  democrat   0.1196172 0.8803828\n",
            "  republican 0.8571429 0.1428571\n",
            "\n",
            "            V4\n",
            "Y                     n          y\n",
            "  democrat   0.94736842 0.05263158\n",
            "  republican 0.01503759 0.98496241\n",
            "\n",
            "            V5\n",
            "Y                     n          y\n",
            "  democrat   0.78947368 0.21052632\n",
            "  republican 0.03759398 0.96240602\n",
            "\n",
            "            V6\n",
            "Y                     n          y\n",
            "  democrat   0.50717703 0.49282297\n",
            "  republican 0.09022556 0.90977444\n",
            "\n",
            "            V7\n",
            "Y                    n         y\n",
            "  democrat   0.2440191 0.7559809\n",
            "  republican 0.7518797 0.2481203\n",
            "\n",
            "            V8\n",
            "Y                    n         y\n",
            "  democrat   0.1674641 0.8325359\n",
            "  republican 0.8496241 0.1503759\n",
            "\n",
            "            V9\n",
            "Y                    n         y\n",
            "  democrat   0.2296651 0.7703349\n",
            "  republican 0.8796992 0.1203008\n",
            "\n",
            "            V10\n",
            "Y                    n         y\n",
            "  democrat   0.5454545 0.4545455\n",
            "  republican 0.4285714 0.5714286\n",
            "\n",
            "            V11\n",
            "Y                    n         y\n",
            "  democrat   0.4976077 0.5023923\n",
            "  republican 0.8571429 0.1428571\n",
            "\n",
            "            V12\n",
            "Y                    n         y\n",
            "  democrat   0.8421053 0.1578947\n",
            "  republican 0.1203008 0.8796992\n",
            "\n",
            "            V13\n",
            "Y                    n         y\n",
            "  democrat   0.7129187 0.2870813\n",
            "  republican 0.1353383 0.8646617\n",
            "\n",
            "            V14\n",
            "Y                     n          y\n",
            "  democrat   0.64593301 0.35406699\n",
            "  republican 0.01503759 0.98496241\n",
            "\n",
            "            V15\n",
            "Y                     n          y\n",
            "  democrat   0.37799043 0.62200957\n",
            "  republican 0.90977444 0.09022556\n",
            "\n",
            "            V16\n",
            "Y                    n         y\n",
            "  democrat   0.0861244 0.9138756\n",
            "  republican 0.3383459 0.6616541\n",
            "\n"
          ],
          "name": "stdout"
        }
      ]
    },
    {
      "cell_type": "code",
      "metadata": {
        "id": "fOCFJwPQNK_d",
        "colab_type": "code",
        "colab": {
          "base_uri": "https://localhost:8080/",
          "height": 124
        },
        "outputId": "9f5065da-6050-4ca4-b592-1f1d1a508bf0"
      },
      "source": [
        "%%R\n",
        "summary(nb_model)"
      ],
      "execution_count": 58,
      "outputs": [
        {
          "output_type": "stream",
          "text": [
            "          Length Class  Mode     \n",
            "apriori    2     table  numeric  \n",
            "tables    16     -none- list     \n",
            "levels     2     -none- character\n",
            "isnumeric 16     -none- logical  \n",
            "call       4     -none- call     \n"
          ],
          "name": "stdout"
        }
      ]
    },
    {
      "cell_type": "code",
      "metadata": {
        "id": "jDu9ugMdNK7Q",
        "colab_type": "code",
        "colab": {}
      },
      "source": [
        "%%R\n",
        "str(nb_model)"
      ],
      "execution_count": 0,
      "outputs": []
    },
    {
      "cell_type": "markdown",
      "metadata": {
        "id": "UjXKovv0YGem",
        "colab_type": "text"
      },
      "source": [
        "## Realizar as Previsões com Dados de Teste"
      ]
    },
    {
      "cell_type": "code",
      "metadata": {
        "id": "q0E1gEA2NK3z",
        "colab_type": "code",
        "colab": {}
      },
      "source": [
        "%%R\n",
        "# Fazer as Previsões\n",
        "nb_test_predict <- predict(nb_model, testHouseVotes84[,-1]) # predict(modelo, dados de teste)"
      ],
      "execution_count": 0,
      "outputs": []
    },
    {
      "cell_type": "markdown",
      "metadata": {
        "id": "8RX4QzOqYaB_",
        "colab_type": "text"
      },
      "source": [
        "## Criar Matriz de confusão - Tabela de Comparação (Previsão x Acerto)"
      ]
    },
    {
      "cell_type": "code",
      "metadata": {
        "id": "eHerLSVMNK0Q",
        "colab_type": "code",
        "colab": {
          "base_uri": "https://localhost:8080/",
          "height": 88
        },
        "outputId": "8e9466aa-f6d0-4c9c-ad3c-cf000e275848"
      },
      "source": [
        "%%R\n",
        "# Criar Confusion matrix\n",
        "table(pred = nb_test_predict, true = testHouseVotes84$Class) "
      ],
      "execution_count": 87,
      "outputs": [
        {
          "output_type": "stream",
          "text": [
            "            true\n",
            "pred         democrat republican\n",
            "  democrat         54          3\n",
            "  republican        4         32\n"
          ],
          "name": "stdout"
        }
      ]
    },
    {
      "cell_type": "code",
      "metadata": {
        "id": "iEl9v4l2NaD1",
        "colab_type": "code",
        "colab": {
          "base_uri": "https://localhost:8080/",
          "height": 35
        },
        "outputId": "9e20758c-87c9-4071-c466-11e831c37c89"
      },
      "source": [
        "%%R\n",
        "# Média - percentual de acerto do modelo\n",
        "mean(nb_test_predict == testHouseVotes84$Class)"
      ],
      "execution_count": 88,
      "outputs": [
        {
          "output_type": "stream",
          "text": [
            "[1] 0.9247312\n"
          ],
          "name": "stdout"
        }
      ]
    },
    {
      "cell_type": "markdown",
      "metadata": {
        "id": "Hp3DzKP8buPQ",
        "colab_type": "text"
      },
      "source": [
        "#**Programação**\n",
        "## Função para executar o registrar todos os resultados do modelo - Bônus"
      ]
    },
    {
      "cell_type": "code",
      "metadata": {
        "id": "tEAdKOypNaAg",
        "colab_type": "code",
        "colab": {}
      },
      "source": [
        "%%R\n",
        "# Função para executar o registrar todos os resultados do modelo\n",
        "nb_multiple_runs <- function(train_fraction, n) {\n",
        "  fraction_correct <- rep(NA,n)\n",
        "  for (i in 1:n) {\n",
        "    HouseVotes84[,\"train\"] <- ifelse(runif(nrow(HouseVotes84))<train_fraction,1,0)\n",
        "    trainColNum <- grep(\"train\", names(HouseVotes84))\n",
        "    trainHouseVotes84 <- HouseVotes84[HouseVotes84$train == 1,-trainColNum]\n",
        "    testHouseVotes84 <- HouseVotes84[HouseVotes84$train == 0,-trainColNum]\n",
        "    nb_model <- naiveBayes(Class ~ ., data = trainHouseVotes84)\n",
        "    nb_test_predict <- predict(nb_model, testHouseVotes84[,-1])\n",
        "    fraction_correct[i] <- mean(nb_test_predict == testHouseVotes84$Class)\n",
        "  }\n",
        "  return(fraction_correct)\n",
        "}"
      ],
      "execution_count": 0,
      "outputs": []
    },
    {
      "cell_type": "markdown",
      "metadata": {
        "id": "TWdYNlY5b9XO",
        "colab_type": "text"
      },
      "source": [
        "## Podemos executar o Modelo diversas vezes e comparar seus resultados"
      ]
    },
    {
      "cell_type": "code",
      "metadata": {
        "id": "PtFYfmo7NZ9s",
        "colab_type": "code",
        "colab": {
          "base_uri": "https://localhost:8080/",
          "height": 70
        },
        "outputId": "88b21310-658a-4cfc-edc3-f858e195e3ed"
      },
      "source": [
        "%%R\n",
        "# Executando o modelo 20 vezes\n",
        "fraction_correct_predictions <- nb_multiple_runs(0.8, 20)\n",
        "fraction_correct_predictions"
      ],
      "execution_count": 90,
      "outputs": [
        {
          "output_type": "stream",
          "text": [
            " [1] 0.8988764 0.9340659 0.9325843 0.9204545 0.9111111 0.8989899 0.9382716\n",
            " [8] 0.9036145 0.9318182 0.9270833 0.9354839 0.9506173 0.8965517 0.8958333\n",
            "[15] 0.9438202 0.9146341 0.9278351 0.8961039 0.9183673 0.8684211\n"
          ],
          "name": "stdout"
        }
      ]
    },
    {
      "cell_type": "code",
      "metadata": {
        "id": "OeACZFM1NZ63",
        "colab_type": "code",
        "colab": {
          "base_uri": "https://localhost:8080/",
          "height": 52
        },
        "outputId": "703f51be-f7dc-4af6-f177-c71c4a1d20d0"
      },
      "source": [
        "%%R\n",
        "# Resumo dos resultados\n",
        "summary(fraction_correct_predictions)"
      ],
      "execution_count": 91,
      "outputs": [
        {
          "output_type": "stream",
          "text": [
            "   Min. 1st Qu.  Median    Mean 3rd Qu.    Max. \n",
            " 0.8684  0.8990  0.9194  0.9172  0.9330  0.9506 \n"
          ],
          "name": "stdout"
        }
      ]
    },
    {
      "cell_type": "code",
      "metadata": {
        "id": "rOvtOoz5NZ4X",
        "colab_type": "code",
        "colab": {
          "base_uri": "https://localhost:8080/",
          "height": 35
        },
        "outputId": "1d0b13ab-e181-47d8-fb61-d788bcc5efb4"
      },
      "source": [
        "%%R\n",
        "# Desvio padrão\n",
        "sd(fraction_correct_predictions)"
      ],
      "execution_count": 92,
      "outputs": [
        {
          "output_type": "stream",
          "text": [
            "[1] 0.02072898\n"
          ],
          "name": "stdout"
        }
      ]
    },
    {
      "cell_type": "markdown",
      "metadata": {
        "id": "2A2mttVjcezH",
        "colab_type": "text"
      },
      "source": [
        "## NaiveBayes trabalha com aleatoriadade, a teoria das probabilidades. Ao executar 20 vezes, temos chance de pegar modelos ainda mais precisos, assim como modelos inferiores. \n",
        "\n",
        "## Uma boa prática é fazer várias execuções e depois pegar o modelo com melhor nível de performance. Neste caso todas as versões ficaram entre 0.88 e 0.95\n"
      ]
    },
    {
      "cell_type": "code",
      "metadata": {
        "id": "Qn-PUfdiNpyH",
        "colab_type": "code",
        "colab": {}
      },
      "source": [
        "# Os resultados das execuções estão bem próximos, entre 0.86 e 0.95, \n",
        "# com um desvio padrão de 0.02.\n",
        "# O Naive Bayes fez um bom trabalho com este conjunto de dados"
      ],
      "execution_count": 0,
      "outputs": []
    },
    {
      "cell_type": "markdown",
      "metadata": {
        "id": "ax8V_F_GOHv5",
        "colab_type": "text"
      },
      "source": [
        "---"
      ]
    },
    {
      "cell_type": "markdown",
      "metadata": {
        "id": "rfu0GuI8ONCy",
        "colab_type": "text"
      },
      "source": [
        "# Titanic -  prever uma classificação (sobreviventes e não sobreviventes)\n"
      ]
    },
    {
      "cell_type": "code",
      "metadata": {
        "id": "3Ikeb5CiOIKy",
        "colab_type": "code",
        "colab": {
          "base_uri": "https://localhost:8080/",
          "height": 390
        },
        "outputId": "40d2d901-8f45-4d85-b10a-f8d0908c09ba"
      },
      "source": [
        "%%R\n",
        "# Comecamos carregando o dataset de dados_treino\n",
        "dados_treino <- read.csv('titanic-train.csv')\n",
        "head(dados_treino)"
      ],
      "execution_count": 76,
      "outputs": [
        {
          "output_type": "stream",
          "text": [
            "  PassengerId Survived Pclass\n",
            "1           1        0      3\n",
            "2           2        1      1\n",
            "3           3        1      3\n",
            "4           4        1      1\n",
            "5           5        0      3\n",
            "6           6        0      3\n",
            "                                                 Name    Sex Age SibSp Parch\n",
            "1                             Braund, Mr. Owen Harris   male  22     1     0\n",
            "2 Cumings, Mrs. John Bradley (Florence Briggs Thayer) female  38     1     0\n",
            "3                              Heikkinen, Miss. Laina female  26     0     0\n",
            "4        Futrelle, Mrs. Jacques Heath (Lily May Peel) female  35     1     0\n",
            "5                            Allen, Mr. William Henry   male  35     0     0\n",
            "6                                    Moran, Mr. James   male  NA     0     0\n",
            "            Ticket    Fare Cabin Embarked\n",
            "1        A/5 21171  7.2500              S\n",
            "2         PC 17599 71.2833   C85        C\n",
            "3 STON/O2. 3101282  7.9250              S\n",
            "4           113803 53.1000  C123        S\n",
            "5           373450  8.0500              S\n",
            "6           330877  8.4583              Q\n"
          ],
          "name": "stdout"
        }
      ]
    },
    {
      "cell_type": "markdown",
      "metadata": {
        "id": "8pIeDUT_OmyM",
        "colab_type": "text"
      },
      "source": [
        "## Análise Exploratória de Dados\n",
        "\n",
        "### Vamos usar o pacote Amelia e suas funções para definir o volume de dados Missing\n"
      ]
    },
    {
      "cell_type": "code",
      "metadata": {
        "id": "KFF0mcFEOqnx",
        "colab_type": "code",
        "colab": {}
      },
      "source": [
        "%%R\n",
        "install.packages(\"Amelia\")\n",
        "library(Amelia)"
      ],
      "execution_count": 0,
      "outputs": []
    },
    {
      "cell_type": "markdown",
      "metadata": {
        "id": "p55d10VmgTtV",
        "colab_type": "text"
      },
      "source": [
        "## Função para Mapeamento de valores Missing"
      ]
    },
    {
      "cell_type": "code",
      "metadata": {
        "id": "U7TX1fbbO4pV",
        "colab_type": "code",
        "colab": {
          "base_uri": "https://localhost:8080/",
          "height": 497
        },
        "outputId": "dd941639-52e2-462f-df8d-d458e6687e12"
      },
      "source": [
        "%%R\n",
        "#?missmap \n",
        "missmap(dados_treino, #dataset\n",
        "        main = \"Titanic Training Data - Mapa de Dados Missing\", #título\n",
        "        col = c(\"yellow\", \"black\"), #cores\n",
        "        legend = FALSE) #desabilitar legenda"
      ],
      "execution_count": 77,
      "outputs": [
        {
          "output_type": "display_data",
          "data": {
            "image/png": "[encoded data removed]"
          },
          "metadata": {
            "tags": []
          }
        }
      ]
    },
    {
      "cell_type": "markdown",
      "metadata": {
        "id": "HzWjvv1Lgm9U",
        "colab_type": "text"
      },
      "source": [
        "\n",
        "Valores missing em Age"
      ]
    },
    {
      "cell_type": "markdown",
      "metadata": {
        "id": "TNOTFvKlO-re",
        "colab_type": "text"
      },
      "source": [
        "## Visualizando Dados"
      ]
    },
    {
      "cell_type": "code",
      "metadata": {
        "id": "1Xim2WZ-O-CA",
        "colab_type": "code",
        "colab": {
          "base_uri": "https://localhost:8080/",
          "height": 497
        },
        "outputId": "e00ff750-9850-453a-e018-a073107047da"
      },
      "source": [
        "%%R \n",
        "library(ggplot2) # 0 não sobreviveu, 1 sobreviveu\n",
        "ggplot(dados_treino,aes(Survived)) + geom_bar()"
      ],
      "execution_count": 78,
      "outputs": [
        {
          "output_type": "display_data",
          "data": {
            "image/png": "[encoded data removed]"
          },
          "metadata": {
            "tags": []
          }
        }
      ]
    },
    {
      "cell_type": "code",
      "metadata": {
        "id": "R_Jk0Ku8PDPx",
        "colab_type": "code",
        "colab": {
          "base_uri": "https://localhost:8080/",
          "height": 497
        },
        "outputId": "7e1d42a5-af5c-4f2d-80cb-bb33034896c0"
      },
      "source": [
        "%%R \n",
        "# pclass indica a classe do passageiro\n",
        "ggplot(dados_treino,aes(Pclass)) + geom_bar(aes(fill = factor(Pclass)), alpha = 0.5)"
      ],
      "execution_count": 79,
      "outputs": [
        {
          "output_type": "display_data",
          "data": {
            "image/png": "[encoded data removed]"
          },
          "metadata": {
            "tags": []
          }
        }
      ]
    },
    {
      "cell_type": "code",
      "metadata": {
        "id": "ySwb9adCPDMA",
        "colab_type": "code",
        "colab": {
          "base_uri": "https://localhost:8080/",
          "height": 497
        },
        "outputId": "1f1dcb10-d392-40bd-b52b-aa9f930a0b2f"
      },
      "source": [
        "%%R\n",
        "ggplot(dados_treino,aes(Sex)) + geom_bar(aes(fill = factor(Sex)), alpha = 0.5)"
      ],
      "execution_count": 80,
      "outputs": [
        {
          "output_type": "display_data",
          "data": {
            "image/png": "[encoded data removed]"
          },
          "metadata": {
            "tags": []
          }
        }
      ]
    },
    {
      "cell_type": "code",
      "metadata": {
        "id": "7cJ7BXqXPDFn",
        "colab_type": "code",
        "colab": {
          "base_uri": "https://localhost:8080/",
          "height": 497
        },
        "outputId": "9ae7227a-0373-4ec1-a2d1-5511861fa35d"
      },
      "source": [
        "%%R\n",
        "# faixa de idade\n",
        "ggplot(dados_treino,aes(Age)) + geom_histogram(fill = 'blue', bins = 20, alpha = 0.5)"
      ],
      "execution_count": 81,
      "outputs": [
        {
          "output_type": "display_data",
          "data": {
            "image/png": "[encoded data removed]"
          },
          "metadata": {
            "tags": []
          }
        }
      ]
    },
    {
      "cell_type": "code",
      "metadata": {
        "id": "1VSlSAtjPDCU",
        "colab_type": "code",
        "colab": {
          "base_uri": "https://localhost:8080/",
          "height": 497
        },
        "outputId": "979f88f5-13f5-4e1b-8d9e-a4735d486981"
      },
      "source": [
        "%%R\n",
        "# distribuição de outra variável\n",
        "ggplot(dados_treino,aes(SibSp)) + geom_bar(fill = 'red', alpha = 0.5)"
      ],
      "execution_count": 82,
      "outputs": [
        {
          "output_type": "display_data",
          "data": {
            "image/png": "[encoded data removed]"
          },
          "metadata": {
            "tags": []
          }
        }
      ]
    },
    {
      "cell_type": "code",
      "metadata": {
        "id": "1v1cEK1lPE2v",
        "colab_type": "code",
        "colab": {
          "base_uri": "https://localhost:8080/",
          "height": 532
        },
        "outputId": "ef9e0f40-f6bd-4ae9-b3a4-132dab9bce1e"
      },
      "source": [
        "%%R\n",
        "# preço do ticket para o navio\n",
        "ggplot(dados_treino,aes(Fare)) + geom_histogram(fill = 'green', color = 'black', alpha = 0.5)"
      ],
      "execution_count": 83,
      "outputs": [
        {
          "output_type": "stream",
          "text": [
            "R[write to console]: `stat_bin()` using `bins = 30`. Pick better value with `binwidth`.\n",
            "\n"
          ],
          "name": "stderr"
        },
        {
          "output_type": "display_data",
          "data": {
            "image/png": "[encoded data removed]"
          },
          "metadata": {
            "tags": []
          }
        }
      ]
    },
    {
      "cell_type": "markdown",
      "metadata": {
        "id": "3nyqI9LnPZF_",
        "colab_type": "text"
      },
      "source": [
        "## Pré Processamento - Limpando dados\n",
        "- Para tratar os dados missing, usaremos o recurso de imputation.\n",
        "- Essa técnica visa substituir os valores missing por outros valores a média da variável ou **outra** qualquer"
      ]
    },
    {
      "cell_type": "code",
      "metadata": {
        "id": "xytu4O4KPE0C",
        "colab_type": "code",
        "colab": {
          "base_uri": "https://localhost:8080/",
          "height": 497
        },
        "outputId": "84920c6e-e6d8-43bc-8777-11bbeb5ea9f3"
      },
      "source": [
        "%%R\n",
        "# Por exemplo, vamos verificar as idades por classe de passageiro (baixa, média, alta):\n",
        "pl <- ggplot(dados_treino, aes(Pclass,Age)) + geom_boxplot(aes(group = Pclass, fill = factor(Pclass), alpha = 0.4)) \n",
        "pl + scale_y_continuous(breaks = seq(min(0), max(80), by = 2))"
      ],
      "execution_count": 85,
      "outputs": [
        {
          "output_type": "display_data",
          "data": {
            "image/png": "[encoded data removed]"
          },
          "metadata": {
            "tags": []
          }
        }
      ]
    },
    {
      "cell_type": "markdown",
      "metadata": {
        "id": "nCCYofkVP3sQ",
        "colab_type": "text"
      },
      "source": [
        ""
      ]
    },
    {
      "cell_type": "markdown",
      "metadata": {
        "id": "YozrDJJVhm2Q",
        "colab_type": "text"
      },
      "source": [
        "## Imputation para \"Age\" \n",
        "\n",
        "Vimos que os passageiros mais ricos, nas classes mais altas, tendem a ser mais velhos. \n",
        "\n",
        "Usaremos esta média para imputar as idades Missing"
      ]
    },
    {
      "cell_type": "code",
      "metadata": {
        "id": "fzFQ7mSjPExS",
        "colab_type": "code",
        "colab": {}
      },
      "source": [
        "%%R\n",
        "impute_age <- function(age, class){ #parâmetro age e class\n",
        "  out <- age #colocar a varíavel idade em out\n",
        "  #iniciando verificação\n",
        "  for (i in 1:length(age)){ #variável i(contador), até o comprimento da variável idade\n",
        "    \n",
        "    if (is.na(age[i])){         # se valores forem .na\n",
        "      \n",
        "      if (class[i] == 1){       # e classe igual a 1\n",
        "        out[i] <- 37            # imputar valor 37\n",
        "        \n",
        "\n",
        "      }else if (class[i] == 2){ # se classe 2\n",
        "        out[i] <- 29            # imputar 29\n",
        "        \n",
        "      }else{\n",
        "        out[i] <- 24            # caso contrário 24\n",
        "      }\n",
        "    }else{\n",
        "      out[i]<-age[i]          \n",
        "    }\n",
        "  }\n",
        "  return(out)\n",
        "}\n"
      ],
      "execution_count": 0,
      "outputs": []
    },
    {
      "cell_type": "markdown",
      "metadata": {
        "id": "g1h4fFEzkQYb",
        "colab_type": "text"
      },
      "source": [
        "## Ajustando valores NA com a saída do Loop anterior"
      ]
    },
    {
      "cell_type": "code",
      "metadata": {
        "id": "6P3cBMhlkJr1",
        "colab_type": "code",
        "colab": {}
      },
      "source": [
        "%%R\n",
        "# os valores imputados são a média de idade para cada classe\n",
        "fixed.ages <- impute_age(dados_treino$Age, dados_treino$Pclass)\n",
        "dados_treino$Age <- fixed.ages"
      ],
      "execution_count": 0,
      "outputs": []
    },
    {
      "cell_type": "markdown",
      "metadata": {
        "id": "M3QPCfztQACr",
        "colab_type": "text"
      },
      "source": [
        "## Visualizando mapa de valores missing (não existem mais dados missing)"
      ]
    },
    {
      "cell_type": "code",
      "metadata": {
        "id": "OOOIitq8PEt5",
        "colab_type": "code",
        "colab": {
          "base_uri": "https://localhost:8080/",
          "height": 497
        },
        "outputId": "83e6e917-6137-458e-c679-6033a4998396"
      },
      "source": [
        "%%R\n",
        "missmap(dados_treino, \n",
        "        main = \"Titanic Training Data - Mapa de Dados Missing\", \n",
        "        col = c(\"yellow\", \"black\"), \n",
        "        legend = FALSE)\n"
      ],
      "execution_count": 96,
      "outputs": [
        {
          "output_type": "display_data",
          "data": {
            "image/png": "[encoded data removed]"
          },
          "metadata": {
            "tags": []
          }
        }
      ]
    },
    {
      "cell_type": "markdown",
      "metadata": {
        "id": "pXJcG86kQVEE",
        "colab_type": "text"
      },
      "source": [
        "## Construindo Modelo"
      ]
    },
    {
      "cell_type": "markdown",
      "metadata": {
        "id": "PU-gEKL5QlnH",
        "colab_type": "text"
      },
      "source": [
        "##Limpando dados"
      ]
    },
    {
      "cell_type": "code",
      "metadata": {
        "id": "uO-Buk3nQXNQ",
        "colab_type": "code",
        "colab": {
          "base_uri": "https://localhost:8080/",
          "height": 268
        },
        "outputId": "f3129de0-1f60-4c9f-a19b-298c458f25fa"
      },
      "source": [
        "%%R\n",
        "str(dados_treino)"
      ],
      "execution_count": 97,
      "outputs": [
        {
          "output_type": "stream",
          "text": [
            "'data.frame':\t891 obs. of  12 variables:\n",
            " $ PassengerId: int  1 2 3 4 5 6 7 8 9 10 ...\n",
            " $ Survived   : int  0 1 1 1 0 0 0 0 1 1 ...\n",
            " $ Pclass     : int  3 1 3 1 3 3 1 3 3 2 ...\n",
            " $ Name       : Factor w/ 891 levels \"Abbing, Mr. Anthony\",..: 109 191 358 277 16 559 520 629 417 581 ...\n",
            " $ Sex        : Factor w/ 2 levels \"female\",\"male\": 2 1 1 1 2 2 2 2 1 1 ...\n",
            " $ Age        : num  22 38 26 35 35 24 54 2 27 14 ...\n",
            " $ SibSp      : int  1 1 0 1 0 0 0 3 0 1 ...\n",
            " $ Parch      : int  0 0 0 0 0 0 0 1 2 0 ...\n",
            " $ Ticket     : Factor w/ 681 levels \"110152\",\"110413\",..: 524 597 670 50 473 276 86 396 345 133 ...\n",
            " $ Fare       : num  7.25 71.28 7.92 53.1 8.05 ...\n",
            " $ Cabin      : Factor w/ 148 levels \"\",\"A10\",\"A14\",..: 1 83 1 57 1 1 131 1 1 1 ...\n",
            " $ Embarked   : Factor w/ 4 levels \"\",\"C\",\"Q\",\"S\": 4 2 4 4 4 3 4 4 4 2 ...\n"
          ],
          "name": "stdout"
        }
      ]
    },
    {
      "cell_type": "code",
      "metadata": {
        "id": "FnumBVR0QZin",
        "colab_type": "code",
        "colab": {
          "base_uri": "https://localhost:8080/",
          "height": 230
        },
        "outputId": "24791e89-9db3-4031-9035-af1fc6df829b"
      },
      "source": [
        "%%R\n",
        "head(dados_treino, 3)"
      ],
      "execution_count": 98,
      "outputs": [
        {
          "output_type": "stream",
          "text": [
            "  PassengerId Survived Pclass\n",
            "1           1        0      3\n",
            "2           2        1      1\n",
            "3           3        1      3\n",
            "                                                 Name    Sex Age SibSp Parch\n",
            "1                             Braund, Mr. Owen Harris   male  22     1     0\n",
            "2 Cumings, Mrs. John Bradley (Florence Briggs Thayer) female  38     1     0\n",
            "3                              Heikkinen, Miss. Laina female  26     0     0\n",
            "            Ticket    Fare Cabin Embarked\n",
            "1        A/5 21171  7.2500              S\n",
            "2         PC 17599 71.2833   C85        C\n",
            "3 STON/O2. 3101282  7.9250              S\n"
          ],
          "name": "stdout"
        }
      ]
    },
    {
      "cell_type": "code",
      "metadata": {
        "id": "QIbfTFTPQZfd",
        "colab_type": "code",
        "colab": {}
      },
      "source": [
        "%%R\n",
        "library(dplyr)"
      ],
      "execution_count": 0,
      "outputs": []
    },
    {
      "cell_type": "markdown",
      "metadata": {
        "id": "0qgA5vcNkmVA",
        "colab_type": "text"
      },
      "source": [
        "Função para buscar do dasaset Treino todas as variáveis, exceto :\n",
        "\n",
        "PassengerId, name, Ticket e Cabin\n",
        "\n",
        "## Instrução select {dplyr}"
      ]
    },
    {
      "cell_type": "code",
      "metadata": {
        "id": "GehoIA93QZbS",
        "colab_type": "code",
        "colab": {}
      },
      "source": [
        "%%R\n",
        "dados_treino <- select(dados_treino, -PassengerId, -Name, -Ticket, -Cabin)\n",
        "# removemos quatro variáveis que não desejamos usar"
      ],
      "execution_count": 0,
      "outputs": []
    },
    {
      "cell_type": "code",
      "metadata": {
        "id": "w6TenDY8QZXg",
        "colab_type": "code",
        "colab": {
          "base_uri": "https://localhost:8080/",
          "height": 88
        },
        "outputId": "6ff26829-ce4b-433e-ae17-948e21258a02"
      },
      "source": [
        "%%R\n",
        "head(dados_treino, 3)"
      ],
      "execution_count": 101,
      "outputs": [
        {
          "output_type": "stream",
          "text": [
            "  Survived Pclass    Sex Age SibSp Parch    Fare Embarked\n",
            "1        0      3   male  22     1     0  7.2500        S\n",
            "2        1      1 female  38     1     0 71.2833        C\n",
            "3        1      3 female  26     0     0  7.9250        S\n"
          ],
          "name": "stdout"
        }
      ]
    },
    {
      "cell_type": "code",
      "metadata": {
        "id": "5sgkHReWQZWS",
        "colab_type": "code",
        "colab": {
          "base_uri": "https://localhost:8080/",
          "height": 177
        },
        "outputId": "b4006dc9-b167-4285-d26e-da4a42d38888"
      },
      "source": [
        "%%R\n",
        "str(dados_treino)"
      ],
      "execution_count": 102,
      "outputs": [
        {
          "output_type": "stream",
          "text": [
            "'data.frame':\t891 obs. of  8 variables:\n",
            " $ Survived: int  0 1 1 1 0 0 0 0 1 1 ...\n",
            " $ Pclass  : int  3 1 3 1 3 3 1 3 3 2 ...\n",
            " $ Sex     : Factor w/ 2 levels \"female\",\"male\": 2 1 1 1 2 2 2 2 1 1 ...\n",
            " $ Age     : num  22 38 26 35 35 24 54 2 27 14 ...\n",
            " $ SibSp   : int  1 1 0 1 0 0 0 3 0 1 ...\n",
            " $ Parch   : int  0 0 0 0 0 0 0 1 2 0 ...\n",
            " $ Fare    : num  7.25 71.28 7.92 53.1 8.05 ...\n",
            " $ Embarked: Factor w/ 4 levels \"\",\"C\",\"Q\",\"S\": 4 2 4 4 4 3 4 4 4 2 ...\n"
          ],
          "name": "stdout"
        }
      ]
    },
    {
      "cell_type": "markdown",
      "metadata": {
        "id": "-vQPhaQTQ5sG",
        "colab_type": "text"
      },
      "source": [
        "## Treinar modelo com regressão logística e realizar Previsões"
      ]
    },
    {
      "cell_type": "code",
      "metadata": {
        "id": "NY1-56DJQZT8",
        "colab_type": "code",
        "colab": {}
      },
      "source": [
        "%%R \n",
        "#função glm para regressão logística - Classificação\n",
        "log.model <- glm(formula = Survived ~ . , family = binomial(link = 'logit'), data = dados_treino)"
      ],
      "execution_count": 0,
      "outputs": []
    },
    {
      "cell_type": "code",
      "metadata": {
        "id": "Qp0kucg2REwk",
        "colab_type": "code",
        "colab": {
          "base_uri": "https://localhost:8080/",
          "height": 586
        },
        "outputId": "5d973653-54e1-4167-fa89-06bc30633c3d"
      },
      "source": [
        "%%R\n",
        "# Podemos ver que as variáveis Sex, Age e Pclass sao as variaveis mais significantes\n",
        "summary(log.model)"
      ],
      "execution_count": 104,
      "outputs": [
        {
          "output_type": "stream",
          "text": [
            "\n",
            "Call:\n",
            "glm(formula = Survived ~ ., family = binomial(link = \"logit\"), \n",
            "    data = dados_treino)\n",
            "\n",
            "Deviance Residuals: \n",
            "    Min       1Q   Median       3Q      Max  \n",
            "-2.7042  -0.5827  -0.4091   0.6155   2.4857  \n",
            "\n",
            "Coefficients:\n",
            "              Estimate Std. Error z value Pr(>|z|)    \n",
            "(Intercept)  17.834756 608.512907   0.029    0.977    \n",
            "Pclass       -1.180084   0.149468  -7.895 2.90e-15 ***\n",
            "Sexmale      -2.726743   0.201674 -13.521  < 2e-16 ***\n",
            "Age          -0.043023   0.008183  -5.258 1.46e-07 ***\n",
            "SibSp        -0.339563   0.109873  -3.091    0.002 ** \n",
            "Parch        -0.087203   0.119571  -0.729    0.466    \n",
            "Fare          0.001743   0.002370   0.735    0.462    \n",
            "EmbarkedC   -12.298188 608.512689  -0.020    0.984    \n",
            "EmbarkedQ   -12.416528 608.512744  -0.020    0.984    \n",
            "EmbarkedS   -12.688564 608.512673  -0.021    0.983    \n",
            "---\n",
            "Signif. codes:  0 ‘***’ 0.001 ‘**’ 0.01 ‘*’ 0.05 ‘.’ 0.1 ‘ ’ 1\n",
            "\n",
            "(Dispersion parameter for binomial family taken to be 1)\n",
            "\n",
            "    Null deviance: 1186.66  on 890  degrees of freedom\n",
            "Residual deviance:  781.74  on 881  degrees of freedom\n",
            "AIC: 801.74\n",
            "\n",
            "Number of Fisher Scoring iterations: 13\n",
            "\n"
          ],
          "name": "stdout"
        }
      ]
    },
    {
      "cell_type": "markdown",
      "metadata": {
        "id": "Fofv7PCrRPRE",
        "colab_type": "text"
      },
      "source": [
        "## Previsões em Dados de Teste"
      ]
    },
    {
      "cell_type": "code",
      "metadata": {
        "id": "T1Bnb16BREtk",
        "colab_type": "code",
        "colab": {}
      },
      "source": [
        "%%R\n",
        "install.packages(\"caTools\")\n",
        "library(caTools)"
      ],
      "execution_count": 0,
      "outputs": []
    },
    {
      "cell_type": "markdown",
      "metadata": {
        "id": "kDXeTVviRT3W",
        "colab_type": "text"
      },
      "source": [
        "## Split de Dados para criar variável de Indexação "
      ]
    },
    {
      "cell_type": "code",
      "metadata": {
        "id": "2d13ph1bRErf",
        "colab_type": "code",
        "colab": {}
      },
      "source": [
        "%%R\n",
        "split = sample.split(dados_treino$Survived, SplitRatio = 0.70)"
      ],
      "execution_count": 0,
      "outputs": []
    },
    {
      "cell_type": "markdown",
      "metadata": {
        "id": "PeHxyITLRZNh",
        "colab_type": "text"
      },
      "source": [
        "## Divisão dos Datasets de treino e de teste"
      ]
    },
    {
      "cell_type": "code",
      "metadata": {
        "id": "-fztBNf-REoF",
        "colab_type": "code",
        "colab": {}
      },
      "source": [
        "%%R\n",
        "dados_treino_final = subset(dados_treino, split == TRUE)\n",
        "dados_teste_final = subset(dados_treino, split == FALSE)"
      ],
      "execution_count": 0,
      "outputs": []
    },
    {
      "cell_type": "markdown",
      "metadata": {
        "id": "mWvZCio5RvzX",
        "colab_type": "text"
      },
      "source": [
        "## Gerar Modelo com verão final do dataset"
      ]
    },
    {
      "cell_type": "code",
      "metadata": {
        "id": "R1HKs7QiREmG",
        "colab_type": "code",
        "colab": {}
      },
      "source": [
        "%%R \n",
        "# criar versão do modelo\n",
        "final.log.model <- glm(formula = Survived ~ . , family = binomial(link='logit'), data = dados_treino_final)"
      ],
      "execution_count": 0,
      "outputs": []
    },
    {
      "cell_type": "markdown",
      "metadata": {
        "id": "EBcfzUCxR5H-",
        "colab_type": "text"
      },
      "source": [
        "##**Resumir o Modelo**"
      ]
    },
    {
      "cell_type": "code",
      "metadata": {
        "id": "YSAup42zREi2",
        "colab_type": "code",
        "colab": {
          "base_uri": "https://localhost:8080/",
          "height": 586
        },
        "outputId": "36fefc2c-adbd-430e-c249-b6512284ed1c"
      },
      "source": [
        "%%R\n",
        "summary(final.log.model)"
      ],
      "execution_count": 117,
      "outputs": [
        {
          "output_type": "stream",
          "text": [
            "\n",
            "Call:\n",
            "glm(formula = Survived ~ ., family = binomial(link = \"logit\"), \n",
            "    data = dados_treino_final)\n",
            "\n",
            "Deviance Residuals: \n",
            "    Min       1Q   Median       3Q      Max  \n",
            "-2.5520  -0.6367  -0.4132   0.6417   2.4228  \n",
            "\n",
            "Coefficients:\n",
            "              Estimate Std. Error z value Pr(>|z|)    \n",
            "(Intercept)  17.453726 612.926160   0.028 0.977282    \n",
            "Pclass       -1.136836   0.171943  -6.612  3.8e-11 ***\n",
            "Sexmale      -2.683597   0.240155 -11.174  < 2e-16 ***\n",
            "Age          -0.035578   0.009486  -3.751 0.000176 ***\n",
            "SibSp        -0.325675   0.128451  -2.535 0.011232 *  \n",
            "Parch        -0.104001   0.131918  -0.788 0.430480    \n",
            "Fare          0.001002   0.002462   0.407 0.684060    \n",
            "EmbarkedC   -12.083569 612.925905  -0.020 0.984271    \n",
            "EmbarkedQ   -12.657372 612.925977  -0.021 0.983524    \n",
            "EmbarkedS   -12.646979 612.925877  -0.021 0.983538    \n",
            "---\n",
            "Signif. codes:  0 ‘***’ 0.001 ‘**’ 0.01 ‘*’ 0.05 ‘.’ 0.1 ‘ ’ 1\n",
            "\n",
            "(Dispersion parameter for binomial family taken to be 1)\n",
            "\n",
            "    Null deviance: 829.6  on 622  degrees of freedom\n",
            "Residual deviance: 558.8  on 613  degrees of freedom\n",
            "AIC: 578.8\n",
            "\n",
            "Number of Fisher Scoring iterations: 13\n",
            "\n"
          ],
          "name": "stdout"
        }
      ]
    },
    {
      "cell_type": "markdown",
      "metadata": {
        "id": "43NvyTUMR9Gl",
        "colab_type": "text"
      },
      "source": [
        "## Prever Acurácia com predict()"
      ]
    },
    {
      "cell_type": "code",
      "metadata": {
        "id": "r1mqVULVREgZ",
        "colab_type": "code",
        "colab": {}
      },
      "source": [
        "%%R\n",
        "fitted.probabilities <- predict(final.log.model, newdata = dados_teste_final, type = 'response')"
      ],
      "execution_count": 0,
      "outputs": []
    },
    {
      "cell_type": "markdown",
      "metadata": {
        "id": "uwytshTNSDfc",
        "colab_type": "text"
      },
      "source": [
        "## Calcular Valores"
      ]
    },
    {
      "cell_type": "code",
      "metadata": {
        "id": "RDBcLlXNREd9",
        "colab_type": "code",
        "colab": {}
      },
      "source": [
        "%%R \n",
        "fitted.results <- ifelse(fitted.probabilities > 0.5, 1, 0)"
      ],
      "execution_count": 0,
      "outputs": []
    },
    {
      "cell_type": "markdown",
      "metadata": {
        "id": "RmJuJV0zmRww",
        "colab_type": "text"
      },
      "source": [
        "## Verificar Acurácia"
      ]
    },
    {
      "cell_type": "code",
      "metadata": {
        "id": "XmIlmML9REbA",
        "colab_type": "code",
        "colab": {
          "base_uri": "https://localhost:8080/",
          "height": 35
        },
        "outputId": "fcf895b5-9840-421c-b918-26d7f5eefd8a"
      },
      "source": [
        "%%R\n",
        "# Conseguimos quase 80% de acurácia\n",
        "misClasificError <- mean(fitted.results != dados_teste_final$Survived)\n",
        "print(paste('Acuracia', 1-misClasificError))\n"
      ],
      "execution_count": 120,
      "outputs": [
        {
          "output_type": "stream",
          "text": [
            "[1] \"Acuracia 0.813432835820896\"\n"
          ],
          "name": "stdout"
        }
      ]
    },
    {
      "cell_type": "markdown",
      "metadata": {
        "id": "WCmvDHOfSPS6",
        "colab_type": "text"
      },
      "source": [
        "## Criando a Matriz de Confusão"
      ]
    },
    {
      "cell_type": "code",
      "metadata": {
        "id": "72nr-UXbREVA",
        "colab_type": "code",
        "colab": {
          "base_uri": "https://localhost:8080/",
          "height": 88
        },
        "outputId": "0a3ad6e0-627f-4b64-c75c-89e1552c9967"
      },
      "source": [
        "%%R\n",
        "table(dados_teste_final$Survived, fitted.probabilities > 0.5)"
      ],
      "execution_count": 121,
      "outputs": [
        {
          "output_type": "stream",
          "text": [
            "   \n",
            "    FALSE TRUE\n",
            "  0   144   21\n",
            "  1    29   74\n"
          ],
          "name": "stdout"
        }
      ]
    }
  ]
}