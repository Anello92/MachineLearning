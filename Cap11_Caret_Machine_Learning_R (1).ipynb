{
  "nbformat": 4,
  "nbformat_minor": 0,
  "metadata": {
    "colab": {
      "name": "Cap11-Caret-Machine-Learning-R.ipynb",
      "provenance": []
    },
    "kernelspec": {
      "name": "python3",
      "display_name": "Python 3"
    }
  },
  "cells": [
    {
      "cell_type": "code",
      "metadata": {
        "id": "lf4c1Yh04Lsi",
        "colab_type": "code",
        "colab": {}
      },
      "source": [
        "# activate R magic\n",
        "%load_ext rpy2.ipython"
      ],
      "execution_count": 0,
      "outputs": []
    },
    {
      "cell_type": "markdown",
      "metadata": {
        "id": "OD1v6Uot4aoP",
        "colab_type": "text"
      },
      "source": [
        "##**Pacote Caret** - Criando Modelos de Machine Learning em R"
      ]
    },
    {
      "cell_type": "code",
      "metadata": {
        "id": "a-LBiVnK4fcW",
        "colab_type": "code",
        "colab": {}
      },
      "source": [
        "%%R\n",
        "# Instalando os pacotes\n",
        "install.packages(\"caret\")\n",
        "install.packages(\"randomForest\")\n",
        "\n",
        "# Carregando os pacotes\n",
        "library(caret)\n",
        "library(randomForest)\n",
        "library(datasets)\n",
        "data()"
      ],
      "execution_count": 0,
      "outputs": []
    },
    {
      "cell_type": "code",
      "metadata": {
        "id": "szNRXfVHAqpZ",
        "colab_type": "code",
        "colab": {}
      },
      "source": [
        "%%R\n",
        "  data()"
      ],
      "execution_count": 0,
      "outputs": []
    },
    {
      "cell_type": "code",
      "metadata": {
        "id": "Eg5dWaqZ4fZj",
        "colab_type": "code",
        "outputId": "b33440c0-bb05-41b5-e36e-3a73091b7d4b",
        "colab": {
          "base_uri": "https://localhost:8080/",
          "height": 141
        }
      },
      "source": [
        "%%R\n",
        "# Usando o dataset mtcars\n",
        "head(mtcars)"
      ],
      "execution_count": 0,
      "outputs": [
        {
          "output_type": "stream",
          "text": [
            "                   mpg cyl disp  hp drat    wt  qsec vs am gear carb\n",
            "Mazda RX4         21.0   6  160 110 3.90 2.620 16.46  0  1    4    4\n",
            "Mazda RX4 Wag     21.0   6  160 110 3.90 2.875 17.02  0  1    4    4\n",
            "Datsun 710        22.8   4  108  93 3.85 2.320 18.61  1  1    4    1\n",
            "Hornet 4 Drive    21.4   6  258 110 3.08 3.215 19.44  1  0    3    1\n",
            "Hornet Sportabout 18.7   8  360 175 3.15 3.440 17.02  0  0    3    2\n",
            "Valiant           18.1   6  225 105 2.76 3.460 20.22  1  0    3    1\n"
          ],
          "name": "stdout"
        }
      ]
    },
    {
      "cell_type": "markdown",
      "metadata": {
        "id": "f8-W7bmuBBnf",
        "colab_type": "text"
      },
      "source": [
        "##**Etapa 1** - Divisão Dados de Treino e Dados de Teste\n",
        "\n",
        "\n",
        "\n",
        "\n"
      ]
    },
    {
      "cell_type": "code",
      "metadata": {
        "id": "KfEXOhLx4fWj",
        "colab_type": "code",
        "colab": {}
      },
      "source": [
        "%%R\n",
        "# Funcao do Caret para divisao dos dados\n",
        "#?createDataPartition - splitting data \n",
        "split <- createDataPartition(y = mtcars$mpg, p = 0.7, list = FALSE)\n",
        "# 1. Dataset$coluna\n",
        "# 2. Fator de divisão 70%\n",
        "# 3. list = False  \n",
        "\n",
        "# Cria uma espécie de índice chamado de \"split\""
      ],
      "execution_count": 0,
      "outputs": []
    },
    {
      "cell_type": "markdown",
      "metadata": {
        "id": "lzPrwefNBoVs",
        "colab_type": "text"
      },
      "source": [
        "## Usar o índice gerado no **DataPartion** para fazer a divisão "
      ]
    },
    {
      "cell_type": "code",
      "metadata": {
        "id": "Ko4XnSsC4fTc",
        "colab_type": "code",
        "colab": {}
      },
      "source": [
        "%%R\n",
        "# Criar dados de treino e de teste\n",
        "dados_treino <- mtcars[split,]\n",
        "dados_teste <- mtcars[-split,] # negativo indica tudo que \"sobrou\" de split e alocar nos dados de teste"
      ],
      "execution_count": 0,
      "outputs": []
    },
    {
      "cell_type": "markdown",
      "metadata": {
        "id": "0D5cGwy_CQCa",
        "colab_type": "text"
      },
      "source": [
        "##**Etapa 3** - Treinar o Modelo\n",
        "\n",
        "1.   função do pacote **generics**\n",
        "2.   função do pacote **caret**\n",
        "\n"
      ]
    },
    {
      "cell_type": "code",
      "metadata": {
        "id": "nJGidUhI4fQb",
        "colab_type": "code",
        "outputId": "d28b5b00-2590-47a3-9904-ec7ea5e48947",
        "colab": {
          "base_uri": "https://localhost:8080/",
          "height": 1000
        }
      },
      "source": [
        "%%R\n",
        "# Treinar modelo\n",
        "# ?train\n",
        "names(getModelInfo()) #getModelInfo para visualizar tudo que está disponível no pacote Caret"
      ],
      "execution_count": 0,
      "outputs": [
        {
          "output_type": "stream",
          "text": [
            "  [1] \"ada\"                 \"AdaBag\"              \"AdaBoost.M1\"        \n",
            "  [4] \"adaboost\"            \"amdai\"               \"ANFIS\"              \n",
            "  [7] \"avNNet\"              \"awnb\"                \"awtan\"              \n",
            " [10] \"bag\"                 \"bagEarth\"            \"bagEarthGCV\"        \n",
            " [13] \"bagFDA\"              \"bagFDAGCV\"           \"bam\"                \n",
            " [16] \"bartMachine\"         \"bayesglm\"            \"binda\"              \n",
            " [19] \"blackboost\"          \"blasso\"              \"blassoAveraged\"     \n",
            " [22] \"bridge\"              \"brnn\"                \"BstLm\"              \n",
            " [25] \"bstSm\"               \"bstTree\"             \"C5.0\"               \n",
            " [28] \"C5.0Cost\"            \"C5.0Rules\"           \"C5.0Tree\"           \n",
            " [31] \"cforest\"             \"chaid\"               \"CSimca\"             \n",
            " [34] \"ctree\"               \"ctree2\"              \"cubist\"             \n",
            " [37] \"dda\"                 \"deepboost\"           \"DENFIS\"             \n",
            " [40] \"dnn\"                 \"dwdLinear\"           \"dwdPoly\"            \n",
            " [43] \"dwdRadial\"           \"earth\"               \"elm\"                \n",
            " [46] \"enet\"                \"evtree\"              \"extraTrees\"         \n",
            " [49] \"fda\"                 \"FH.GBML\"             \"FIR.DM\"             \n",
            " [52] \"foba\"                \"FRBCS.CHI\"           \"FRBCS.W\"            \n",
            " [55] \"FS.HGD\"              \"gam\"                 \"gamboost\"           \n",
            " [58] \"gamLoess\"            \"gamSpline\"           \"gaussprLinear\"      \n",
            " [61] \"gaussprPoly\"         \"gaussprRadial\"       \"gbm_h2o\"            \n",
            " [64] \"gbm\"                 \"gcvEarth\"            \"GFS.FR.MOGUL\"       \n",
            " [67] \"GFS.LT.RS\"           \"GFS.THRIFT\"          \"glm.nb\"             \n",
            " [70] \"glm\"                 \"glmboost\"            \"glmnet_h2o\"         \n",
            " [73] \"glmnet\"              \"glmStepAIC\"          \"gpls\"               \n",
            " [76] \"hda\"                 \"hdda\"                \"hdrda\"              \n",
            " [79] \"HYFIS\"               \"icr\"                 \"J48\"                \n",
            " [82] \"JRip\"                \"kernelpls\"           \"kknn\"               \n",
            " [85] \"knn\"                 \"krlsPoly\"            \"krlsRadial\"         \n",
            " [88] \"lars\"                \"lars2\"               \"lasso\"              \n",
            " [91] \"lda\"                 \"lda2\"                \"leapBackward\"       \n",
            " [94] \"leapForward\"         \"leapSeq\"             \"Linda\"              \n",
            " [97] \"lm\"                  \"lmStepAIC\"           \"LMT\"                \n",
            "[100] \"loclda\"              \"logicBag\"            \"LogitBoost\"         \n",
            "[103] \"logreg\"              \"lssvmLinear\"         \"lssvmPoly\"          \n",
            "[106] \"lssvmRadial\"         \"lvq\"                 \"M5\"                 \n",
            "[109] \"M5Rules\"             \"manb\"                \"mda\"                \n",
            "[112] \"Mlda\"                \"mlp\"                 \"mlpKerasDecay\"      \n",
            "[115] \"mlpKerasDecayCost\"   \"mlpKerasDropout\"     \"mlpKerasDropoutCost\"\n",
            "[118] \"mlpML\"               \"mlpSGD\"              \"mlpWeightDecay\"     \n",
            "[121] \"mlpWeightDecayML\"    \"monmlp\"              \"msaenet\"            \n",
            "[124] \"multinom\"            \"mxnet\"               \"mxnetAdam\"          \n",
            "[127] \"naive_bayes\"         \"nb\"                  \"nbDiscrete\"         \n",
            "[130] \"nbSearch\"            \"neuralnet\"           \"nnet\"               \n",
            "[133] \"nnls\"                \"nodeHarvest\"         \"null\"               \n",
            "[136] \"OneR\"                \"ordinalNet\"          \"ordinalRF\"          \n",
            "[139] \"ORFlog\"              \"ORFpls\"              \"ORFridge\"           \n",
            "[142] \"ORFsvm\"              \"ownn\"                \"pam\"                \n",
            "[145] \"parRF\"               \"PART\"                \"partDSA\"            \n",
            "[148] \"pcaNNet\"             \"pcr\"                 \"pda\"                \n",
            "[151] \"pda2\"                \"penalized\"           \"PenalizedLDA\"       \n",
            "[154] \"plr\"                 \"pls\"                 \"plsRglm\"            \n",
            "[157] \"polr\"                \"ppr\"                 \"PRIM\"               \n",
            "[160] \"protoclass\"          \"qda\"                 \"QdaCov\"             \n",
            "[163] \"qrf\"                 \"qrnn\"                \"randomGLM\"          \n",
            "[166] \"ranger\"              \"rbf\"                 \"rbfDDA\"             \n",
            "[169] \"Rborist\"             \"rda\"                 \"regLogistic\"        \n",
            "[172] \"relaxo\"              \"rf\"                  \"rFerns\"             \n",
            "[175] \"RFlda\"               \"rfRules\"             \"ridge\"              \n",
            "[178] \"rlda\"                \"rlm\"                 \"rmda\"               \n",
            "[181] \"rocc\"                \"rotationForest\"      \"rotationForestCp\"   \n",
            "[184] \"rpart\"               \"rpart1SE\"            \"rpart2\"             \n",
            "[187] \"rpartCost\"           \"rpartScore\"          \"rqlasso\"            \n",
            "[190] \"rqnc\"                \"RRF\"                 \"RRFglobal\"          \n",
            "[193] \"rrlda\"               \"RSimca\"              \"rvmLinear\"          \n",
            "[196] \"rvmPoly\"             \"rvmRadial\"           \"SBC\"                \n",
            "[199] \"sda\"                 \"sdwd\"                \"simpls\"             \n",
            "[202] \"SLAVE\"               \"slda\"                \"smda\"               \n",
            "[205] \"snn\"                 \"sparseLDA\"           \"spikeslab\"          \n",
            "[208] \"spls\"                \"stepLDA\"             \"stepQDA\"            \n",
            "[211] \"superpc\"             \"svmBoundrangeString\" \"svmExpoString\"      \n",
            "[214] \"svmLinear\"           \"svmLinear2\"          \"svmLinear3\"         \n",
            "[217] \"svmLinearWeights\"    \"svmLinearWeights2\"   \"svmPoly\"            \n",
            "[220] \"svmRadial\"           \"svmRadialCost\"       \"svmRadialSigma\"     \n",
            "[223] \"svmRadialWeights\"    \"svmSpectrumString\"   \"tan\"                \n",
            "[226] \"tanSearch\"           \"treebag\"             \"vbmpRadial\"         \n",
            "[229] \"vglmAdjCat\"          \"vglmContRatio\"       \"vglmCumulative\"     \n",
            "[232] \"widekernelpls\"       \"WM\"                  \"wsrf\"               \n",
            "[235] \"xgbDART\"             \"xgbLinear\"           \"xgbTree\"            \n",
            "[238] \"xyf\"                \n"
          ],
          "name": "stdout"
        }
      ]
    },
    {
      "cell_type": "code",
      "metadata": {
        "id": "AjeCnf_n4fNE",
        "colab_type": "code",
        "colab": {}
      },
      "source": [
        "%%R\n",
        "?varImp"
      ],
      "execution_count": 0,
      "outputs": []
    },
    {
      "cell_type": "markdown",
      "metadata": {
        "id": "qKMQVO1NEA6S",
        "colab_type": "text"
      },
      "source": [
        "---"
      ]
    },
    {
      "cell_type": "markdown",
      "metadata": {
        "id": "SJgUC9bMEPeV",
        "colab_type": "text"
      },
      "source": [
        "##**Etapa 4** - Criar o Modelo"
      ]
    },
    {
      "cell_type": "code",
      "metadata": {
        "id": "4UM2AbqZEfJ6",
        "colab_type": "code",
        "colab": {}
      },
      "source": [
        "%%R\n",
        "# Criar uma versão de modelo com todas as variáveis, aplicando o método de modelo linear\n",
        "modelol_v1 <- train(mpg ~ ., data = dados_treino, method = \"lm\")"
      ],
      "execution_count": 0,
      "outputs": []
    },
    {
      "cell_type": "markdown",
      "metadata": {
        "id": "0_fbs1_bDhe3",
        "colab_type": "text"
      },
      "source": [
        "##Depois de criado o modelo, verificar quais as variáveis mais relevantes para treinar o modelo\n",
        "\n",
        "### varImp( ) {caret} calcula a importância da variável para modelos de Regressão e Classificação "
      ]
    },
    {
      "cell_type": "code",
      "metadata": {
        "id": "_AnIHlTF4fKU",
        "colab_type": "code",
        "outputId": "b4d0710c-6c94-47a8-e526-d1ce7e8390f1",
        "colab": {
          "base_uri": "https://localhost:8080/",
          "height": 247
        }
      },
      "source": [
        "%%R\n",
        "# Calcuar a importância das variáveis\n",
        "varImp(modelol_v1)\n",
        "\n",
        "# Variáveis mais relevantes\n",
        "# 1. wt\n",
        "# 2. hp\n",
        "# 3. am\n",
        "# 4. qsec\n",
        "# 5. disp"
      ],
      "execution_count": 0,
      "outputs": [
        {
          "output_type": "stream",
          "text": [
            "lm variable importance\n",
            "\n",
            "      Overall\n",
            "wt   100.0000\n",
            "hp    64.0209\n",
            "am    58.2232\n",
            "qsec  58.0689\n",
            "disp  52.7299\n",
            "drat   7.0167\n",
            "gear   5.8559\n",
            "vs     2.5640\n",
            "cyl    0.4579\n",
            "carb   0.0000\n"
          ],
          "name": "stdout"
        }
      ]
    },
    {
      "cell_type": "markdown",
      "metadata": {
        "id": "IBIGY4rLFlG5",
        "colab_type": "text"
      },
      "source": [
        "## Rodar Modelos com as principais variáveis selecionadas por varImp"
      ]
    },
    {
      "cell_type": "code",
      "metadata": {
        "id": "Z-Dj72u74fHC",
        "colab_type": "code",
        "colab": {}
      },
      "source": [
        "%%R\n",
        "# Modelo treinado com Algoritmo Modelo Linear \n",
        "modelol_v1 <- train(mpg ~ wt + hp + qsec + drat, data = dados_treino, method = \"lm\")"
      ],
      "execution_count": 0,
      "outputs": []
    },
    {
      "cell_type": "code",
      "metadata": {
        "id": "my1DDOB-49ZH",
        "colab_type": "code",
        "colab": {}
      },
      "source": [
        "%%R\n",
        "# Random treinado com Algoritmo Random Forest\n",
        "modelol_v2 <- train(mpg ~ wt + hp + qsec + drat, data = dados_treino, method = \"rf\")"
      ],
      "execution_count": 0,
      "outputs": []
    },
    {
      "cell_type": "markdown",
      "metadata": {
        "id": "l5NoAhndGf3o",
        "colab_type": "text"
      },
      "source": [
        "### Multiple R-squared: 0.8549"
      ]
    },
    {
      "cell_type": "code",
      "metadata": {
        "id": "1dupPf8P49Ty",
        "colab_type": "code",
        "outputId": "4d2bc9ae-51ec-4acc-c773-876295a66e31",
        "colab": {
          "base_uri": "https://localhost:8080/",
          "height": 407
        }
      },
      "source": [
        "%%R\n",
        "# Resumo do modelo LM\n",
        "summary(modelol_v1)"
      ],
      "execution_count": 0,
      "outputs": [
        {
          "output_type": "stream",
          "text": [
            "\n",
            "Call:\n",
            "lm(formula = .outcome ~ ., data = dat)\n",
            "\n",
            "Residuals:\n",
            "    Min      1Q  Median      3Q     Max \n",
            "-3.1367 -1.5674 -0.4359  0.7337  5.7474 \n",
            "\n",
            "Coefficients:\n",
            "            Estimate Std. Error t value Pr(>|t|)   \n",
            "(Intercept) 24.17495   12.03104   2.009  0.05892 . \n",
            "wt          -3.54763    1.16550  -3.044  0.00668 **\n",
            "hp          -0.02286    0.02319  -0.986  0.33661   \n",
            "qsec         0.34337    0.52721   0.651  0.52265   \n",
            "drat         1.21815    1.39554   0.873  0.39362   \n",
            "---\n",
            "Signif. codes:  0 ‘***’ 0.001 ‘**’ 0.01 ‘*’ 0.05 ‘.’ 0.1 ‘ ’ 1\n",
            "\n",
            "Residual standard error: 2.606 on 19 degrees of freedom\n",
            "Multiple R-squared:  0.8549,\tAdjusted R-squared:  0.8243 \n",
            "F-statistic: 27.98 on 4 and 19 DF,  p-value: 9.932e-08\n",
            "\n"
          ],
          "name": "stdout"
        }
      ]
    },
    {
      "cell_type": "markdown",
      "metadata": {
        "id": "ErICUbG4Gxjb",
        "colab_type": "text"
      },
      "source": [
        "## Multiple R-squared:"
      ]
    },
    {
      "cell_type": "code",
      "metadata": {
        "id": "I4keJuFy5g6u",
        "colab_type": "code",
        "outputId": "004ee15c-5b24-44aa-aa40-7bf8bc52adc2",
        "colab": {
          "base_uri": "https://localhost:8080/",
          "height": 426
        }
      },
      "source": [
        "%%R\n",
        "# Resumo do modelo RF\n",
        "summary(modelol_v2)"
      ],
      "execution_count": 0,
      "outputs": [
        {
          "output_type": "stream",
          "text": [
            "                Length Class      Mode     \n",
            "call              4    -none-     call     \n",
            "type              1    -none-     character\n",
            "predicted        24    -none-     numeric  \n",
            "mse             500    -none-     numeric  \n",
            "rsq             500    -none-     numeric  \n",
            "oob.times        24    -none-     numeric  \n",
            "importance        4    -none-     numeric  \n",
            "importanceSD      0    -none-     NULL     \n",
            "localImportance   0    -none-     NULL     \n",
            "proximity         0    -none-     NULL     \n",
            "ntree             1    -none-     numeric  \n",
            "mtry              1    -none-     numeric  \n",
            "forest           11    -none-     list     \n",
            "coefs             0    -none-     NULL     \n",
            "y                24    -none-     numeric  \n",
            "test              0    -none-     NULL     \n",
            "inbag             0    -none-     NULL     \n",
            "xNames            4    -none-     character\n",
            "problemType       1    -none-     character\n",
            "tuneValue         1    data.frame list     \n",
            "obsLevels         1    -none-     logical  \n",
            "param             0    -none-     list     \n"
          ],
          "name": "stdout"
        }
      ]
    },
    {
      "cell_type": "code",
      "metadata": {
        "id": "uEfu4JBs49Qt",
        "colab_type": "code",
        "colab": {}
      },
      "source": [
        "%%R\n",
        "# Ajustando o modelo\n",
        "# ?expand.grid {base} - similar a trainControl do {caret}\n",
        "# ?trainControl\n",
        "\n",
        "# utilizar o método cv de Cross Validation e criando 10 folders\n",
        "controle1 <- trainControl(method = \"cv\", number = 10)"
      ],
      "execution_count": 0,
      "outputs": []
    },
    {
      "cell_type": "code",
      "metadata": {
        "id": "VunkpSza49Nw",
        "colab_type": "code",
        "colab": {}
      },
      "source": [
        "%%R\n",
        "modelol_v3 <- train(mpg ~ wt + hp + qsec + drat, # variável alvo e preditoras selecionadas\n",
        "                    data = dados_treino,    # dataset de treino\n",
        "                    method = \"lm\",          # Método LM\n",
        "                    trControl = controle1,  # adicionando o parâmetro controle1 criado anteriormente \n",
        "                    metric = \"Rsquared\")    # aplicando a métrica \"Rsquared\"\n"
      ],
      "execution_count": 0,
      "outputs": []
    },
    {
      "cell_type": "code",
      "metadata": {
        "id": "0I87oo_H5Cqu",
        "colab_type": "code",
        "outputId": "0a326eb1-c540-4479-c5a9-96af364af26a",
        "colab": {
          "base_uri": "https://localhost:8080/",
          "height": 408
        }
      },
      "source": [
        "%%R\n",
        "# Resumo do modelo Multiple R-squared: 0.8549\n",
        "summary(modelol_v3)"
      ],
      "execution_count": 0,
      "outputs": [
        {
          "output_type": "stream",
          "text": [
            "\n",
            "Call:\n",
            "lm(formula = .outcome ~ ., data = dat)\n",
            "\n",
            "Residuals:\n",
            "    Min      1Q  Median      3Q     Max \n",
            "-3.1367 -1.5674 -0.4359  0.7337  5.7474 \n",
            "\n",
            "Coefficients:\n",
            "            Estimate Std. Error t value Pr(>|t|)   \n",
            "(Intercept) 24.17495   12.03104   2.009  0.05892 . \n",
            "wt          -3.54763    1.16550  -3.044  0.00668 **\n",
            "hp          -0.02286    0.02319  -0.986  0.33661   \n",
            "qsec         0.34337    0.52721   0.651  0.52265   \n",
            "drat         1.21815    1.39554   0.873  0.39362   \n",
            "---\n",
            "Signif. codes:  0 ‘***’ 0.001 ‘**’ 0.01 ‘*’ 0.05 ‘.’ 0.1 ‘ ’ 1\n",
            "\n",
            "Residual standard error: 2.606 on 19 degrees of freedom\n",
            "Multiple R-squared:  0.8549,\tAdjusted R-squared:  0.8243 \n",
            "F-statistic: 27.98 on 4 and 19 DF,  p-value: 9.932e-08\n",
            "\n"
          ],
          "name": "stdout"
        }
      ]
    },
    {
      "cell_type": "markdown",
      "metadata": {
        "id": "8nFhYn9aM8Jw",
        "colab_type": "text"
      },
      "source": [
        "## Erros de Previsão do Modelo"
      ]
    },
    {
      "cell_type": "code",
      "metadata": {
        "id": "Y5g40ZFM5CnH",
        "colab_type": "code",
        "outputId": "cfd424b4-34cf-4453-89b7-2a77b47eef61",
        "colab": {
          "base_uri": "https://localhost:8080/",
          "height": 230
        }
      },
      "source": [
        "%%R\n",
        "# Coletando os residuos, erros de previsão do modelo \n",
        "residuals <- resid(modelol_v3)\n",
        "residuals"
      ],
      "execution_count": 0,
      "outputs": [
        {
          "output_type": "stream",
          "text": [
            "      Mazda.RX4.Wag          Datsun.710      Hornet.4.Drive            Merc.230 \n",
            "        -1.05542070         -2.09810841          0.71869599         -0.66618708 \n",
            "           Merc.280           Merc.280C          Merc.450SE          Merc.450SL \n",
            "        -1.01765127         -2.62367522          1.06509822          0.69022881 \n",
            "        Merc.450SLC  Cadillac.Fleetwood Lincoln.Continental   Chrysler.Imperial \n",
            "        -1.36973890         -0.20569932          0.60990251          4.82978113 \n",
            "        Honda.Civic      Toyota.Corolla       Toyota.Corona    Dodge.Challenger \n",
            "         0.77866594          5.74741658         -3.09024351         -1.91241870 \n",
            "        AMC.Javelin          Camaro.Z28    Pontiac.Firebird           Fiat.X1.9 \n",
            "        -3.13669743         -1.48533328          3.06055777          0.03895885 \n",
            "      Porsche.914.2        Lotus.Europa      Ford.Pantera.L          Volvo.142E \n",
            "         0.36690327          3.78086309         -1.21224635         -1.81365199 \n"
          ],
          "name": "stdout"
        }
      ]
    },
    {
      "cell_type": "markdown",
      "metadata": {
        "id": "qWAhrJZ8NmVY",
        "colab_type": "text"
      },
      "source": [
        "## Calcular previsões"
      ]
    },
    {
      "cell_type": "code",
      "metadata": {
        "id": "5TE-rHBI5Cjt",
        "colab_type": "code",
        "outputId": "0d3bd96f-0897-4bf2-89b0-79cb9d962550",
        "colab": {
          "base_uri": "https://localhost:8080/",
          "height": 88
        }
      },
      "source": [
        "%%R\n",
        "# Previsoes\n",
        "?predict {stats}\n",
        "predictedValues <- predict(modelol_v1, dados_teste)\n",
        "predictedValues"
      ],
      "execution_count": 0,
      "outputs": [
        {
          "output_type": "stream",
          "text": [
            "        Mazda RX4 Hornet Sportabout           Valiant        Duster 360 \n",
            "         22.76778          17.65120          19.80448          15.25740 \n",
            "        Merc 240D          Fiat 128      Ferrari Dino     Maserati Bora \n",
            "         22.80285          26.51664          20.07872          13.17581 \n"
          ],
          "name": "stdout"
        }
      ]
    },
    {
      "cell_type": "code",
      "metadata": {
        "id": "yrRkosck9J_R",
        "colab_type": "code",
        "outputId": "0c279516-720b-4d75-db8c-4988cbc4174f",
        "colab": {
          "base_uri": "https://localhost:8080/",
          "height": 497
        }
      },
      "source": [
        "%%R\n",
        "plot(dados_teste$mpg) #plotar dados originais"
      ],
      "execution_count": 0,
      "outputs": [
        {
          "output_type": "display_data",
          "data": {
            "image/png": "[encoded data removed]"
          },
          "metadata": {
            "tags": []
          }
        }
      ]
    },
    {
      "cell_type": "code",
      "metadata": {
        "id": "v3apr-U7NxtG",
        "colab_type": "code",
        "outputId": "dae14fd4-98a7-4761-c6ce-c5b32d5b4e82",
        "colab": {
          "base_uri": "https://localhost:8080/",
          "height": 497
        }
      },
      "source": [
        "%%R\n",
        "   plot(predictedValues)  #plotar dados previstos"
      ],
      "execution_count": 0,
      "outputs": [
        {
          "output_type": "display_data",
          "data": {
            "image/png": "[encoded data removed]"
          },
          "metadata": {
            "tags": []
          }
        }
      ]
    },
    {
      "cell_type": "markdown",
      "metadata": {
        "id": "UW8G7X1IN_LR",
        "colab_type": "text"
      },
      "source": [
        "## Plot das variáveis mais importantes para esse modelo"
      ]
    },
    {
      "cell_type": "code",
      "metadata": {
        "id": "qZV2LuRk5Ccc",
        "colab_type": "code",
        "outputId": "1c306f6a-9c87-4191-c484-1d64a07c79d6",
        "colab": {
          "base_uri": "https://localhost:8080/",
          "height": 497
        }
      },
      "source": [
        "%%R\n",
        "# Plot das variáveis mais relevantes no modelo\n",
        "plot(varImp(modelol_v1))"
      ],
      "execution_count": 0,
      "outputs": [
        {
          "output_type": "display_data",
          "data": {
            "image/png": "[encoded data removed]"
          },
          "metadata": {
            "tags": []
          }
        }
      ]
    }
  ]
}