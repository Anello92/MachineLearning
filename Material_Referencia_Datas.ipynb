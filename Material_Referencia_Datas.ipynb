{
  "nbformat": 4,
  "nbformat_minor": 0,
  "metadata": {
    "colab": {
      "name": "Material-Referencia-Datas.ipynb",
      "provenance": [],
      "collapsed_sections": []
    },
    "kernelspec": {
      "name": "python3",
      "display_name": "Python 3"
    }
  },
  "cells": [
    {
      "cell_type": "code",
      "metadata": {
        "id": "2h-2I4CviFCR",
        "colab_type": "code",
        "colab": {
          "base_uri": "https://localhost:8080/",
          "height": 54
        },
        "outputId": "3c6d9f50-6206-494f-c1e2-6b6ab2c73724"
      },
      "source": [
        "# activate R magic\n",
        "%load_ext rpy2.ipython"
      ],
      "execution_count": 19,
      "outputs": [
        {
          "output_type": "stream",
          "text": [
            "The rpy2.ipython extension is already loaded. To reload it, use:\n",
            "  %reload_ext rpy2.ipython\n"
          ],
          "name": "stdout"
        }
      ]
    },
    {
      "cell_type": "markdown",
      "metadata": {
        "id": "ZPJs80DJyaeo",
        "colab_type": "text"
      },
      "source": [
        "##**Análise de Séries Temporais**\n",
        "\n",
        "### R possui diversos pacotes para criar, manipular e visualizar dados de séries temporais, essenciais quando se trabalha com **Financial Analytics**."
      ]
    },
    {
      "cell_type": "markdown",
      "metadata": {
        "id": "gJTQXjdLywxi",
        "colab_type": "text"
      },
      "source": [
        "##**Principais pacotes para análise de séries temporais em R**"
      ]
    },
    {
      "cell_type": "code",
      "metadata": {
        "id": "pfS2QZ0_ygHQ",
        "colab_type": "code",
        "colab": {}
      },
      "source": [
        "# Objetos em R p/ tratamento em Séries Temporais\n",
        "\n",
        "# Objeto fts (Pacote fts) \n",
        "# Objeto its (Pacote its)\n",
        "# Objeto irts (Pacote tseries)\n",
        "# Objeto timeSeries (Pacote timeSeries) \n",
        "# Objeto ti (Pacote tis)\n",
        "\n",
        "# Objetos ts (Pacote stats) pacote base\n",
        "# Objetos tms (Pacote stats) pacote base\n",
        "# Objeto zoo (Pacote zoo) \n",
        "# Objeto xts (Pacote xts) - muito bom para tratamento de series temporais, complemento do zoo\n",
        "# xts = eXtensible Time Series\n",
        "# Índice (dados do tipo data) + Matriz\n",
        "\n",
        "###############\n",
        "\n",
        "# Dados de séries temporais, são basicamente matrizes de dados, cujo índice é uma data.\n",
        "# Representamos esta data em R com diferentes objetos\n",
        "\n",
        "############### Diferentes formas de trabalhar com datas\n",
        "\n",
        "# Objeto chron (Pacote chron) - trabalhar com datas\n",
        "# Objeto Date (Pacote base) - trabalhar com datas\n",
        "\n",
        "# Objeto yearmon (Pacote zoo) \n",
        "# Objeto yearqtr (Pacote zoo)\n",
        "\n",
        "# Objeto POSIXct (Pacote base) \n",
        "# Objeto POSIXlt (Pacote base)\n",
        "\n",
        "# Objeto timeDate (Pacote timeDate)"
      ],
      "execution_count": 20,
      "outputs": []
    },
    {
      "cell_type": "markdown",
      "metadata": {
        "id": "s1opDN5czKmb",
        "colab_type": "text"
      },
      "source": [
        "##**Trabalhando com Datas em R**"
      ]
    },
    {
      "cell_type": "code",
      "metadata": {
        "id": "eWL3g5bCyaBO",
        "colab_type": "code",
        "colab": {
          "base_uri": "https://localhost:8080/",
          "height": 35
        },
        "outputId": "97bd22ed-b49e-4964-dc24-be29bf4b88bf"
      },
      "source": [
        "%%R\n",
        "# Datas em R são armazenados como número de dias a partir de 1/1/1970\n",
        "# Objetos do tipo Data são usados para representar datas e não horários dentro de uma data (ao longo do dia)\n",
        "my.date = as.Date(\"1992/1/31\")\n",
        "my.date"
      ],
      "execution_count": 21,
      "outputs": [
        {
          "output_type": "stream",
          "text": [
            "[1] \"1992-01-31\"\n"
          ],
          "name": "stdout"
        }
      ]
    },
    {
      "cell_type": "code",
      "metadata": {
        "id": "xeIm9OZyHVXN",
        "colab_type": "code",
        "colab": {
          "base_uri": "https://localhost:8080/",
          "height": 35
        },
        "outputId": "4817b8c8-8acb-4233-dc95-12674b2426a7"
      },
      "source": [
        "%%R\n",
        "class(my.date)"
      ],
      "execution_count": 22,
      "outputs": [
        {
          "output_type": "stream",
          "text": [
            "[1] \"Date\"\n"
          ],
          "name": "stdout"
        }
      ]
    },
    {
      "cell_type": "code",
      "metadata": {
        "id": "XsBAuhdJIN1R",
        "colab_type": "code",
        "colab": {
          "base_uri": "https://localhost:8080/",
          "height": 35
        },
        "outputId": "d6fb7d02-57f0-409b-ca65-f9aa38b73dff"
      },
      "source": [
        "%%R\n",
        "as.numeric(my.date) # Número de dias a partir de 1970"
      ],
      "execution_count": 23,
      "outputs": [
        {
          "output_type": "stream",
          "text": [
            "[1] 8065\n"
          ],
          "name": "stdout"
        }
      ]
    },
    {
      "cell_type": "markdown",
      "metadata": {
        "id": "_UEry2iJIskr",
        "colab_type": "text"
      },
      "source": [
        "##**Especificando o formato de entrada dos dados**\n",
        "\n",
        "###**Muito Importante**"
      ]
    },
    {
      "cell_type": "code",
      "metadata": {
        "id": "HkNJb9COHVVu",
        "colab_type": "code",
        "colab": {
          "base_uri": "https://localhost:8080/",
          "height": 35
        },
        "outputId": "4514b7c5-26bc-42c9-98b2-0f3163cc7850"
      },
      "source": [
        "%%R\n",
        "# Especificando o formato de entrada dos dados\n",
        "as.Date(\"1/1/1970\", format = \"%m/%d/%Y\")"
      ],
      "execution_count": 24,
      "outputs": [
        {
          "output_type": "stream",
          "text": [
            "[1] \"1970-01-01\"\n"
          ],
          "name": "stdout"
        }
      ]
    },
    {
      "cell_type": "code",
      "metadata": {
        "id": "kRxCR7EvJKxc",
        "colab_type": "code",
        "colab": {
          "base_uri": "https://localhost:8080/",
          "height": 35
        },
        "outputId": "e4759a83-4d5b-47a8-92f8-474b8f15104e"
      },
      "source": [
        "%%R\n",
        "as.Date(\"January 1, 1970\", format = \"%B %d, %Y\")"
      ],
      "execution_count": 25,
      "outputs": [
        {
          "output_type": "stream",
          "text": [
            "[1] \"1970-01-01\"\n"
          ],
          "name": "stdout"
        }
      ]
    },
    {
      "cell_type": "code",
      "metadata": {
        "id": "4VXbWbrPyZ_s",
        "colab_type": "code",
        "colab": {
          "base_uri": "https://localhost:8080/",
          "height": 35
        },
        "outputId": "b4b5c311-f26b-4ded-af41-839a03e8a2b0"
      },
      "source": [
        "%%R\n",
        "as.Date(\"01JAN70\", format = \"%d%b%y\") "
      ],
      "execution_count": 26,
      "outputs": [
        {
          "output_type": "stream",
          "text": [
            "[1] \"1970-01-01\"\n"
          ],
          "name": "stdout"
        }
      ]
    },
    {
      "cell_type": "markdown",
      "metadata": {
        "id": "0qxT-ly_JYn-",
        "colab_type": "text"
      },
      "source": [
        "---"
      ]
    },
    {
      "cell_type": "code",
      "metadata": {
        "id": "vD-2NtkTxrHT",
        "colab_type": "code",
        "colab": {
          "base_uri": "https://localhost:8080/",
          "height": 35
        },
        "outputId": "db98e6a1-1e4f-47c4-b10c-64be47d71f5d"
      },
      "source": [
        "%%R\n",
        "# Função format()\n",
        "format(my.date, \"%b %d, %Y\") "
      ],
      "execution_count": 27,
      "outputs": [
        {
          "output_type": "stream",
          "text": [
            "[1] \"Jan 31, 1992\"\n"
          ],
          "name": "stdout"
        }
      ]
    },
    {
      "cell_type": "code",
      "metadata": {
        "id": "K8uZGec0JmuK",
        "colab_type": "code",
        "colab": {
          "base_uri": "https://localhost:8080/",
          "height": 35
        },
        "outputId": "d9ba661f-e760-44a6-b196-a20542883410"
      },
      "source": [
        "%%R\n",
        "as.Date(\"Jan 1970\", format = \"%b %Y\") #formato errato "
      ],
      "execution_count": 28,
      "outputs": [
        {
          "output_type": "stream",
          "text": [
            "[1] NA\n"
          ],
          "name": "stdout"
        }
      ]
    },
    {
      "cell_type": "markdown",
      "metadata": {
        "id": "psKaKSRaLUru",
        "colab_type": "text"
      },
      "source": [
        "##**Conversão a partir do número de dias**"
      ]
    },
    {
      "cell_type": "code",
      "metadata": {
        "id": "0Lbh1P7wxrF4",
        "colab_type": "code",
        "colab": {
          "base_uri": "https://localhost:8080/",
          "height": 35
        },
        "outputId": "d6f9952e-c28e-45f0-de30-53b7ce71b535"
      },
      "source": [
        "%%R\n",
        "# Data considerando o número de dias\n",
        "as.Date(32500, origin = as.Date(\"1900-01-01\")) "
      ],
      "execution_count": 29,
      "outputs": [
        {
          "output_type": "stream",
          "text": [
            "[1] \"1988-12-25\"\n"
          ],
          "name": "stdout"
        }
      ]
    },
    {
      "cell_type": "code",
      "metadata": {
        "id": "ia-p9Dd3xrDY",
        "colab_type": "code",
        "colab": {
          "base_uri": "https://localhost:8080/",
          "height": 35
        },
        "outputId": "ce597f3e-4d2e-40cd-8fe5-73f84f033800"
      },
      "source": [
        "%%R\n",
        "# Extraindo um valor específico e transformando os dados\n",
        "myYear = format(my.date, \"%Y\")\n",
        "myYear"
      ],
      "execution_count": 30,
      "outputs": [
        {
          "output_type": "stream",
          "text": [
            "[1] \"1992\"\n"
          ],
          "name": "stdout"
        }
      ]
    },
    {
      "cell_type": "code",
      "metadata": {
        "id": "EOy46HLTMEPH",
        "colab_type": "code",
        "colab": {
          "base_uri": "https://localhost:8080/",
          "height": 35
        },
        "outputId": "33738e79-5799-4f0f-dcea-6565d3867e80"
      },
      "source": [
        "%%R\n",
        "class(myYear)"
      ],
      "execution_count": 31,
      "outputs": [
        {
          "output_type": "stream",
          "text": [
            "[1] \"character\"\n"
          ],
          "name": "stdout"
        }
      ]
    },
    {
      "cell_type": "code",
      "metadata": {
        "id": "zieexzRcMH35",
        "colab_type": "code",
        "colab": {
          "base_uri": "https://localhost:8080/",
          "height": 35
        },
        "outputId": "c5590290-d37f-4551-c588-7e4dcc2da63b"
      },
      "source": [
        "%%R\n",
        "as.numeric(myYear)"
      ],
      "execution_count": 32,
      "outputs": [
        {
          "output_type": "stream",
          "text": [
            "[1] 1992\n"
          ],
          "name": "stdout"
        }
      ]
    },
    {
      "cell_type": "code",
      "metadata": {
        "id": "Cx8RRtw-MHvF",
        "colab_type": "code",
        "colab": {
          "base_uri": "https://localhost:8080/",
          "height": 35
        },
        "outputId": "656d03db-8e9b-4101-bdea-80a2cd02bcc4"
      },
      "source": [
        "%%R\n",
        "as.numeric(format(my.date, \"%Y\")) "
      ],
      "execution_count": 33,
      "outputs": [
        {
          "output_type": "stream",
          "text": [
            "[1] 1992\n"
          ],
          "name": "stdout"
        }
      ]
    },
    {
      "cell_type": "code",
      "metadata": {
        "id": "WkGZLyCLMEBm",
        "colab_type": "code",
        "colab": {
          "base_uri": "https://localhost:8080/",
          "height": 35
        },
        "outputId": "7da74c25-1a5a-43a3-ca64-28f66cee3cef"
      },
      "source": [
        "%%R\n",
        "weekdays(my.date)"
      ],
      "execution_count": 34,
      "outputs": [
        {
          "output_type": "stream",
          "text": [
            "[1] \"Friday\"\n"
          ],
          "name": "stdout"
        }
      ]
    },
    {
      "cell_type": "code",
      "metadata": {
        "id": "eh-YaxRxMNqT",
        "colab_type": "code",
        "colab": {
          "base_uri": "https://localhost:8080/",
          "height": 35
        },
        "outputId": "edc865c2-2eeb-410b-a7b6-77acd5625bb2"
      },
      "source": [
        "%%R\n",
        "months(my.date)"
      ],
      "execution_count": 35,
      "outputs": [
        {
          "output_type": "stream",
          "text": [
            "[1] \"January\"\n"
          ],
          "name": "stdout"
        }
      ]
    },
    {
      "cell_type": "code",
      "metadata": {
        "id": "2SBnZYwOMNms",
        "colab_type": "code",
        "colab": {
          "base_uri": "https://localhost:8080/",
          "height": 35
        },
        "outputId": "04e217fa-28e9-44fc-b48d-284d0815f054"
      },
      "source": [
        "%%R\n",
        "quarters(my.date)"
      ],
      "execution_count": 36,
      "outputs": [
        {
          "output_type": "stream",
          "text": [
            "[1] \"Q1\"\n"
          ],
          "name": "stdout"
        }
      ]
    },
    {
      "cell_type": "markdown",
      "metadata": {
        "id": "fDm3dgoyMyFU",
        "colab_type": "text"
      },
      "source": [
        "##**Operações com datas**"
      ]
    },
    {
      "cell_type": "code",
      "metadata": {
        "id": "IcosVZIWMxhk",
        "colab_type": "code",
        "colab": {
          "base_uri": "https://localhost:8080/",
          "height": 35
        },
        "outputId": "9f1e1864-8be8-4888-ade6-181b22b54e36"
      },
      "source": [
        "%%R\n",
        "my.date"
      ],
      "execution_count": 60,
      "outputs": [
        {
          "output_type": "stream",
          "text": [
            "[1] \"1992-01-31\"\n"
          ],
          "name": "stdout"
        }
      ]
    },
    {
      "cell_type": "code",
      "metadata": {
        "id": "Ea99SkvHMxgK",
        "colab_type": "code",
        "colab": {
          "base_uri": "https://localhost:8080/",
          "height": 35
        },
        "outputId": "02d5272b-f931-4b2b-d28c-b6f96a2154e0"
      },
      "source": [
        "%%R\n",
        "my.date + 1"
      ],
      "execution_count": 61,
      "outputs": [
        {
          "output_type": "stream",
          "text": [
            "[1] \"1992-02-01\"\n"
          ],
          "name": "stdout"
        }
      ]
    },
    {
      "cell_type": "code",
      "metadata": {
        "id": "Kx0en9obxrAj",
        "colab_type": "code",
        "colab": {
          "base_uri": "https://localhost:8080/",
          "height": 35
        },
        "outputId": "4718ccd6-5b51-406a-e8a3-4dc23d976f3c"
      },
      "source": [
        "%%R\n",
        "my.date - 1\n"
      ],
      "execution_count": 62,
      "outputs": [
        {
          "output_type": "stream",
          "text": [
            "[1] \"1992-01-30\"\n"
          ],
          "name": "stdout"
        }
      ]
    },
    {
      "cell_type": "code",
      "metadata": {
        "id": "2qpeKeKeM7Vl",
        "colab_type": "code",
        "colab": {
          "base_uri": "https://localhost:8080/",
          "height": 35
        },
        "outputId": "859a2f02-4a53-4567-c22f-186e3dcad3d0"
      },
      "source": [
        "%%R\n",
        "my.date + 31"
      ],
      "execution_count": 63,
      "outputs": [
        {
          "output_type": "stream",
          "text": [
            "[1] \"1992-03-02\"\n"
          ],
          "name": "stdout"
        }
      ]
    },
    {
      "cell_type": "markdown",
      "metadata": {
        "id": "uzAaYhd5NC3U",
        "colab_type": "text"
      },
      "source": [
        "---"
      ]
    },
    {
      "cell_type": "markdown",
      "metadata": {
        "id": "Q_N0sw5ANEYF",
        "colab_type": "text"
      },
      "source": [
        "##**Operações Lógicas com Datas**"
      ]
    },
    {
      "cell_type": "code",
      "metadata": {
        "id": "yHZQaKItxq_5",
        "colab_type": "code",
        "colab": {
          "base_uri": "https://localhost:8080/",
          "height": 35
        },
        "outputId": "c9d0eb0c-6ae2-47a9-ddc5-2ed28e558d4c"
      },
      "source": [
        "%%R\n",
        "# Comparações Lógicas\n",
        "my.date\n"
      ],
      "execution_count": 38,
      "outputs": [
        {
          "output_type": "stream",
          "text": [
            "[1] FALSE\n"
          ],
          "name": "stdout"
        }
      ]
    },
    {
      "cell_type": "code",
      "metadata": {
        "id": "UGm9DuJ_NMnH",
        "colab_type": "code",
        "colab": {}
      },
      "source": [
        "%%R\n",
        "my.date1 = as.Date(\"1980-01-01\")"
      ],
      "execution_count": 64,
      "outputs": []
    },
    {
      "cell_type": "code",
      "metadata": {
        "id": "T_Dsq85jNMmN",
        "colab_type": "code",
        "colab": {
          "base_uri": "https://localhost:8080/",
          "height": 35
        },
        "outputId": "5cdba2d3-1085-4a7e-aeee-c19ed79e2ebf"
      },
      "source": [
        "%%R\n",
        "my.date1 > my.date "
      ],
      "execution_count": 65,
      "outputs": [
        {
          "output_type": "stream",
          "text": [
            "[1] FALSE\n"
          ],
          "name": "stdout"
        }
      ]
    },
    {
      "cell_type": "markdown",
      "metadata": {
        "id": "hidVzgBxNcm3",
        "colab_type": "text"
      },
      "source": [
        "##**Diferença entre datas**"
      ]
    },
    {
      "cell_type": "code",
      "metadata": {
        "id": "1kSCXDXBNfdt",
        "colab_type": "code",
        "colab": {
          "base_uri": "https://localhost:8080/",
          "height": 35
        },
        "outputId": "aba8b61e-9bf9-4c4f-ac1e-6e69da8ae84b"
      },
      "source": [
        "%%R\n",
        "# Diferença entre datas\n",
        "diff.date = my.date1 - my.date\n",
        "diff.date "
      ],
      "execution_count": 68,
      "outputs": [
        {
          "output_type": "stream",
          "text": [
            "Time difference of -4413 days\n"
          ],
          "name": "stdout"
        }
      ]
    },
    {
      "cell_type": "code",
      "metadata": {
        "id": "XRMEknI-xq9w",
        "colab_type": "code",
        "colab": {
          "base_uri": "https://localhost:8080/",
          "height": 35
        },
        "outputId": "1e3bfbe0-fb31-4598-9183-823f85f862e2"
      },
      "source": [
        "%%R\n",
        "class(diff.date)"
      ],
      "execution_count": 69,
      "outputs": [
        {
          "output_type": "stream",
          "text": [
            "[1] \"difftime\"\n"
          ],
          "name": "stdout"
        }
      ]
    },
    {
      "cell_type": "code",
      "metadata": {
        "id": "5kL0G76ON-Vp",
        "colab_type": "code",
        "colab": {
          "base_uri": "https://localhost:8080/",
          "height": 35
        },
        "outputId": "b0f6a84e-ac82-4fe1-dd69-41d70a98b26d"
      },
      "source": [
        "%%R\n",
        "as.numeric(diff.date)"
      ],
      "execution_count": 70,
      "outputs": [
        {
          "output_type": "stream",
          "text": [
            "[1] -4413\n"
          ],
          "name": "stdout"
        }
      ]
    },
    {
      "cell_type": "code",
      "metadata": {
        "id": "oH3VThETNnJU",
        "colab_type": "code",
        "colab": {
          "base_uri": "https://localhost:8080/",
          "height": 35
        },
        "outputId": "516fb40a-1c6b-49f6-d6db-470943b47846"
      },
      "source": [
        "%%R\n",
        "my.date + diff.date "
      ],
      "execution_count": 71,
      "outputs": [
        {
          "output_type": "stream",
          "text": [
            "[1] \"1980-01-01\"\n"
          ],
          "name": "stdout"
        }
      ]
    },
    {
      "cell_type": "markdown",
      "metadata": {
        "id": "1GZCuEkBOIBY",
        "colab_type": "text"
      },
      "source": [
        "##**Criando Sequências de Datas**"
      ]
    },
    {
      "cell_type": "code",
      "metadata": {
        "id": "1GI-_4Vjxq7L",
        "colab_type": "code",
        "colab": {
          "base_uri": "https://localhost:8080/",
          "height": 54
        },
        "outputId": "5d628929-ff16-4b5b-ddc1-1a4dd7330c14"
      },
      "source": [
        "%%R\n",
        "# Criando sequências de datas\n",
        "my.dates = seq(as.Date(\"2015/1/1\"), \n",
        "               as.Date(\"2016/12/31\"), \n",
        "               \"3 months\")\n",
        "head(my.dates)"
      ],
      "execution_count": 72,
      "outputs": [
        {
          "output_type": "stream",
          "text": [
            "[1] \"2015-01-01\" \"2015-04-01\" \"2015-07-01\" \"2015-10-01\" \"2016-01-01\"\n",
            "[6] \"2016-04-01\"\n"
          ],
          "name": "stdout"
        }
      ]
    },
    {
      "cell_type": "code",
      "metadata": {
        "id": "xgFf01q_Oim-",
        "colab_type": "code",
        "colab": {
          "base_uri": "https://localhost:8080/",
          "height": 54
        },
        "outputId": "514cff3c-c040-46cd-b3bc-e7eb55cdecd8"
      },
      "source": [
        "%%R\n",
        "tail(my.dates) "
      ],
      "execution_count": 73,
      "outputs": [
        {
          "output_type": "stream",
          "text": [
            "[1] \"2015-07-01\" \"2015-10-01\" \"2016-01-01\" \"2016-04-01\" \"2016-07-01\"\n",
            "[6] \"2016-10-01\"\n"
          ],
          "name": "stdout"
        }
      ]
    },
    {
      "cell_type": "markdown",
      "metadata": {
        "id": "GUfUC5BAOq7c",
        "colab_type": "text"
      },
      "source": [
        "##**Sequência de Datas**"
      ]
    },
    {
      "cell_type": "code",
      "metadata": {
        "id": "qf8EpixhOilr",
        "colab_type": "code",
        "colab": {
          "base_uri": "https://localhost:8080/",
          "height": 254
        },
        "outputId": "1044071d-a836-406a-dd88-df729cd28423"
      },
      "source": [
        "%%R\n",
        "# Sequências de datas\n",
        "my.dates = seq(from = as.Date(\"2015/1/1\"), \n",
        "               by = \"3 months\",\n",
        "               length.out = 61)\n",
        "my.dates"
      ],
      "execution_count": 74,
      "outputs": [
        {
          "output_type": "stream",
          "text": [
            " [1] \"2015-01-01\" \"2015-04-01\" \"2015-07-01\" \"2015-10-01\" \"2016-01-01\"\n",
            " [6] \"2016-04-01\" \"2016-07-01\" \"2016-10-01\" \"2017-01-01\" \"2017-04-01\"\n",
            "[11] \"2017-07-01\" \"2017-10-01\" \"2018-01-01\" \"2018-04-01\" \"2018-07-01\"\n",
            "[16] \"2018-10-01\" \"2019-01-01\" \"2019-04-01\" \"2019-07-01\" \"2019-10-01\"\n",
            "[21] \"2020-01-01\" \"2020-04-01\" \"2020-07-01\" \"2020-10-01\" \"2021-01-01\"\n",
            "[26] \"2021-04-01\" \"2021-07-01\" \"2021-10-01\" \"2022-01-01\" \"2022-04-01\"\n",
            "[31] \"2022-07-01\" \"2022-10-01\" \"2023-01-01\" \"2023-04-01\" \"2023-07-01\"\n",
            "[36] \"2023-10-01\" \"2024-01-01\" \"2024-04-01\" \"2024-07-01\" \"2024-10-01\"\n",
            "[41] \"2025-01-01\" \"2025-04-01\" \"2025-07-01\" \"2025-10-01\" \"2026-01-01\"\n",
            "[46] \"2026-04-01\" \"2026-07-01\" \"2026-10-01\" \"2027-01-01\" \"2027-04-01\"\n",
            "[51] \"2027-07-01\" \"2027-10-01\" \"2028-01-01\" \"2028-04-01\" \"2028-07-01\"\n",
            "[56] \"2028-10-01\" \"2029-01-01\" \"2029-04-01\" \"2029-07-01\" \"2029-10-01\"\n",
            "[61] \"2030-01-01\"\n"
          ],
          "name": "stdout"
        }
      ]
    },
    {
      "cell_type": "code",
      "metadata": {
        "id": "lw07wiokxq6I",
        "colab_type": "code",
        "colab": {}
      },
      "source": [
        "%%R\n",
        "# Plot de Objetos do Tipo Data\n",
        "rint = round(runif(500)*365)"
      ],
      "execution_count": 75,
      "outputs": []
    },
    {
      "cell_type": "code",
      "metadata": {
        "id": "KNbqFAKQPP_3",
        "colab_type": "code",
        "colab": {}
      },
      "source": [
        "%%R\n",
        "startDate = as.Date(\"2016-01-01\") # Data de Início"
      ],
      "execution_count": 76,
      "outputs": []
    },
    {
      "cell_type": "code",
      "metadata": {
        "id": "tmNtruHGPP_B",
        "colab_type": "code",
        "colab": {}
      },
      "source": [
        "%%R\n",
        "myDates = startDate + rint # Somar a distribuição de valores"
      ],
      "execution_count": 78,
      "outputs": []
    },
    {
      "cell_type": "code",
      "metadata": {
        "id": "neExfPrPPP9z",
        "colab_type": "code",
        "colab": {
          "base_uri": "https://localhost:8080/",
          "height": 54
        },
        "outputId": "0edce120-b53f-4117-e71e-2b7bcf15ecd3"
      },
      "source": [
        "%%R\n",
        "head(myDates)"
      ],
      "execution_count": 79,
      "outputs": [
        {
          "output_type": "stream",
          "text": [
            "[1] \"2016-03-16\" \"2016-04-20\" \"2016-01-05\" \"2016-11-20\" \"2016-08-16\"\n",
            "[6] \"2016-03-29\"\n"
          ],
          "name": "stdout"
        }
      ]
    },
    {
      "cell_type": "code",
      "metadata": {
        "id": "sMgNzoiGPP6q",
        "colab_type": "code",
        "colab": {
          "base_uri": "https://localhost:8080/",
          "height": 35
        },
        "outputId": "64150a12-9601-40ac-9db1-b07b0d02eee4"
      },
      "source": [
        "%%R\n",
        "class(myDates)"
      ],
      "execution_count": 80,
      "outputs": [
        {
          "output_type": "stream",
          "text": [
            "[1] \"Date\"\n"
          ],
          "name": "stdout"
        }
      ]
    },
    {
      "cell_type": "markdown",
      "metadata": {
        "id": "Dp7gabcnPzmR",
        "colab_type": "text"
      },
      "source": [
        "##**Visualizar Vetor de Datas**"
      ]
    },
    {
      "cell_type": "code",
      "metadata": {
        "id": "GWVRrJQNxq4L",
        "colab_type": "code",
        "colab": {
          "base_uri": "https://localhost:8080/",
          "height": 497
        },
        "outputId": "2bb079f3-3ed4-49a2-e2c2-fbd989aeb563"
      },
      "source": [
        "%%R\n",
        "# Histograma\n",
        "hist(myDates, breaks = \"months\", freq = TRUE, \n",
        "     main = \"Distribuição de Datas por Mês\", col = \"slateblue1\", xlab = \"\", format = \"%b %Y\", las = 2)"
      ],
      "execution_count": 81,
      "outputs": [
        {
          "output_type": "display_data",
          "data": {
            "image/png": "[encoded data removed]"
          },
          "metadata": {
            "tags": []
          }
        }
      ]
    },
    {
      "cell_type": "markdown",
      "metadata": {
        "id": "1O_By3IeP7nZ",
        "colab_type": "text"
      },
      "source": [
        "##**Objeto Posix**\n",
        "\n",
        "Classe 1:POSIXct representa datas no formato de tempo em número de **segundos** desde 01-01-1970 (semelhante ao objeto Date, mas com suporte aos tempos ao longo do dia)\n",
        "\n",
        "Classe 2: POSIXlt representa datas no formato de tempo com uma lista nomeada de segundos, minutos, horas, dias, meses e anos"
      ]
    },
    {
      "cell_type": "code",
      "metadata": {
        "id": "bgS4Mg-A1T07",
        "colab_type": "code",
        "colab": {}
      },
      "source": [
        "%%R\n",
        "# Objeto Posix mais indicado para manipular datas e horas\n",
        "myDateTimeStr = \"31-01-92 15:27:02\""
      ],
      "execution_count": 124,
      "outputs": []
    },
    {
      "cell_type": "code",
      "metadata": {
        "id": "mAFJwKd-RKMq",
        "colab_type": "code",
        "colab": {}
      },
      "source": [
        "%%R\n",
        "?POSIXct"
      ],
      "execution_count": null,
      "outputs": []
    },
    {
      "cell_type": "code",
      "metadata": {
        "id": "NaEtKJQA1Tzy",
        "colab_type": "code",
        "colab": {
          "base_uri": "https://localhost:8080/",
          "height": 163
        },
        "outputId": "b0271ebc-814f-48b8-fc6c-f8fa03123d41"
      },
      "source": [
        "%%R\n",
        "# Criando objetos POSIXct\n",
        "myPOSIXct = as.POSIXct(myDateTimeStr)\n",
        "myPOSIXct"
      ],
      "execution_count": 127,
      "outputs": [
        {
          "output_type": "stream",
          "text": [
            "R[write to console]: Error in as.POSIXlt.character(x, tz, ...) : \n",
            "  character string is not in a standard unambiguous format\n",
            "Calls: <Anonymous> ... as.POSIXct.default -> as.POSIXct -> as.POSIXlt -> as.POSIXlt.character\n",
            "\n"
          ],
          "name": "stderr"
        },
        {
          "output_type": "stream",
          "text": [
            "\n",
            "Error in as.POSIXlt.character(x, tz, ...) : \n",
            "  character string is not in a standard unambiguous format\n",
            "Calls: <Anonymous> ... as.POSIXct.default -> as.POSIXct -> as.POSIXlt -> as.POSIXlt.character\n"
          ],
          "name": "stdout"
        }
      ]
    },
    {
      "cell_type": "code",
      "metadata": {
        "id": "fybdnbcbQ8On",
        "colab_type": "code",
        "colab": {
          "base_uri": "https://localhost:8080/",
          "height": 35
        },
        "outputId": "520d5670-0db3-436a-9f11-51c87f4f4078"
      },
      "source": [
        "%%R\n",
        "class(myPOSIXct)"
      ],
      "execution_count": 90,
      "outputs": [
        {
          "output_type": "stream",
          "text": [
            "[1] \"POSIXct\" \"POSIXt\" \n"
          ],
          "name": "stdout"
        }
      ]
    },
    {
      "cell_type": "code",
      "metadata": {
        "id": "_zJj7ThMQ8CQ",
        "colab_type": "code",
        "colab": {
          "base_uri": "https://localhost:8080/",
          "height": 35
        },
        "outputId": "63116ae4-89c2-401c-d37a-de736003e85a"
      },
      "source": [
        "%%R\n",
        "as.numeric(myPOSIXct)"
      ],
      "execution_count": 91,
      "outputs": [
        {
          "output_type": "stream",
          "text": [
            "[1] 1481760000\n"
          ],
          "name": "stdout"
        }
      ]
    },
    {
      "cell_type": "markdown",
      "metadata": {
        "id": "kfU5qTWOSKV0",
        "colab_type": "text"
      },
      "source": [
        "##**Alterando Formato Padrão**"
      ]
    },
    {
      "cell_type": "code",
      "metadata": {
        "id": "b1Iwyy371Twg",
        "colab_type": "code",
        "colab": {
          "base_uri": "https://localhost:8080/",
          "height": 35
        },
        "outputId": "2699aea5-d386-4f06-ed22-3272aeb1327a"
      },
      "source": [
        "%%R\n",
        "# Alterando o formato padrão\n",
        "myDateTimeStr1 = \"31-01-1992 15:27:02\"\n",
        "myPOSIXct1 = as.POSIXct(myDateTimeStr1, format = \"%d-%m-%Y %H:%M:%S\")\n",
        "myPOSIXct1 "
      ],
      "execution_count": 93,
      "outputs": [
        {
          "output_type": "stream",
          "text": [
            "[1] \"1992-01-31 15:27:02 UTC\"\n"
          ],
          "name": "stdout"
        }
      ]
    },
    {
      "cell_type": "code",
      "metadata": {
        "id": "mXDWSeoT1Tv-",
        "colab_type": "code",
        "colab": {
          "base_uri": "https://localhost:8080/",
          "height": 35
        },
        "outputId": "035a50a9-bc01-45de-b65d-9a6e830d75f0"
      },
      "source": [
        "%%R\n",
        "# Criando objetos POSIXct a partir de dados numéricos\n",
        "myPOSIXct2 = as.POSIXct(0, origin = \"1992-01-31\")\n",
        "myPOSIXct2"
      ],
      "execution_count": 94,
      "outputs": [
        {
          "output_type": "stream",
          "text": [
            "[1] \"1992-01-31 UTC\"\n"
          ],
          "name": "stdout"
        }
      ]
    },
    {
      "cell_type": "code",
      "metadata": {
        "id": "_McMOtObSR6Z",
        "colab_type": "code",
        "colab": {
          "base_uri": "https://localhost:8080/",
          "height": 35
        },
        "outputId": "b4e78534-e0df-4a0d-d942-8c3754fc6b0e"
      },
      "source": [
        "%%R\n",
        "as.numeric(myPOSIXct2) "
      ],
      "execution_count": 95,
      "outputs": [
        {
          "output_type": "stream",
          "text": [
            "[1] 696816000\n"
          ],
          "name": "stdout"
        }
      ]
    },
    {
      "cell_type": "markdown",
      "metadata": {
        "id": "vP2smPPuUZok",
        "colab_type": "text"
      },
      "source": [
        "##**ISOdatetime** p/ fornecer separadamente os valores da data"
      ]
    },
    {
      "cell_type": "code",
      "metadata": {
        "id": "boe4OaZSSR3g",
        "colab_type": "code",
        "colab": {
          "base_uri": "https://localhost:8080/",
          "height": 35
        },
        "outputId": "971abe10-1fa7-4875-ec4d-7bff14e2b8e5"
      },
      "source": [
        "%%R\n",
        "myPOSIXct5 = ISOdatetime(year = 1992, month = 01, day = 31, hour = 15, min = 27, sec = 2, tz = \"\")\n",
        "myPOSIXct5"
      ],
      "execution_count": 121,
      "outputs": [
        {
          "output_type": "stream",
          "text": [
            "[1] \"1992-01-31 15:27:02 UTC\"\n"
          ],
          "name": "stdout"
        }
      ]
    },
    {
      "cell_type": "code",
      "metadata": {
        "colab_type": "code",
        "id": "t-bzbi1pSclw",
        "colab": {
          "base_uri": "https://localhost:8080/",
          "height": 35
        },
        "outputId": "aa5b5974-07cb-40c8-fb46-6cca077e53b4"
      },
      "source": [
        "%%R\n",
        "class(myPOSIXct5)"
      ],
      "execution_count": 102,
      "outputs": [
        {
          "output_type": "stream",
          "text": [
            "[1] \"POSIXct\" \"POSIXt\" \n"
          ],
          "name": "stdout"
        }
      ]
    },
    {
      "cell_type": "code",
      "metadata": {
        "id": "CxLiaHdXSR0G",
        "colab_type": "code",
        "colab": {
          "base_uri": "https://localhost:8080/",
          "height": 35
        },
        "outputId": "8635fda7-1115-4153-b0cc-7b0509e70e67"
      },
      "source": [
        "%%R\n",
        "myPOSIXct5"
      ],
      "execution_count": 103,
      "outputs": [
        {
          "output_type": "stream",
          "text": [
            "[1] \"1992-01-31 15:27:02 UTC\"\n"
          ],
          "name": "stdout"
        }
      ]
    },
    {
      "cell_type": "code",
      "metadata": {
        "id": "pIv1taQ-1Tu-",
        "colab_type": "code",
        "colab": {
          "base_uri": "https://localhost:8080/",
          "height": 35
        },
        "outputId": "5652272b-f692-4bb3-b9ed-aef20cde3ffa"
      },
      "source": [
        "%%R\n",
        "# Alterando o formato do output\n",
        "myPOSIXct"
      ],
      "execution_count": 47,
      "outputs": [
        {
          "output_type": "stream",
          "text": [
            "[1] 4\n"
          ],
          "name": "stdout"
        }
      ]
    },
    {
      "cell_type": "code",
      "metadata": {
        "id": "H4gYUJgoTGbJ",
        "colab_type": "code",
        "colab": {
          "base_uri": "https://localhost:8080/",
          "height": 35
        },
        "outputId": "09da2ff5-13a4-44b1-cf6c-865574844a7b"
      },
      "source": [
        "%%R\n",
        "format(myPOSIXct, format = \"%b %d, %Y\") "
      ],
      "execution_count": 109,
      "outputs": [
        {
          "output_type": "stream",
          "text": [
            "[1] \"Dec 15, 2016\"\n"
          ],
          "name": "stdout"
        }
      ]
    },
    {
      "cell_type": "code",
      "metadata": {
        "id": "f6E54AUyTGXW",
        "colab_type": "code",
        "colab": {
          "base_uri": "https://localhost:8080/",
          "height": 35
        },
        "outputId": "90e52966-66b8-40f1-d1b1-2602b07580d3"
      },
      "source": [
        "%%R\n",
        "format(myPOSIXct, format = \"%B\")"
      ],
      "execution_count": 110,
      "outputs": [
        {
          "output_type": "stream",
          "text": [
            "[1] \"December\"\n"
          ],
          "name": "stdout"
        }
      ]
    },
    {
      "cell_type": "code",
      "metadata": {
        "id": "hJ2VCH7OTKJT",
        "colab_type": "code",
        "colab": {
          "base_uri": "https://localhost:8080/",
          "height": 35
        },
        "outputId": "75898451-dc76-4af3-c1d8-2fc2509b88fc"
      },
      "source": [
        "%%R\n",
        "format(myPOSIXct, format = \"%Z\")"
      ],
      "execution_count": 111,
      "outputs": [
        {
          "output_type": "stream",
          "text": [
            "[1] \"UTC\"\n"
          ],
          "name": "stdout"
        }
      ]
    },
    {
      "cell_type": "code",
      "metadata": {
        "id": "-t0sSgHNTNeY",
        "colab_type": "code",
        "colab": {
          "base_uri": "https://localhost:8080/",
          "height": 35
        },
        "outputId": "699073f4-23d1-43e6-eebe-ca03fb8cb150"
      },
      "source": [
        "%%R\n",
        "as.numeric(format(myPOSIXct, format = \"%Y\"))"
      ],
      "execution_count": 112,
      "outputs": [
        {
          "output_type": "stream",
          "text": [
            "[1] 2016\n"
          ],
          "name": "stdout"
        }
      ]
    },
    {
      "cell_type": "code",
      "metadata": {
        "id": "l1RqFxl-TNbG",
        "colab_type": "code",
        "colab": {
          "base_uri": "https://localhost:8080/",
          "height": 35
        },
        "outputId": "007df39b-4b94-421f-f221-18afd4861345"
      },
      "source": [
        "%%R\n",
        "as.numeric(format(myPOSIXct, format = \"%S\")) "
      ],
      "execution_count": 113,
      "outputs": [
        {
          "output_type": "stream",
          "text": [
            "[1] 0\n"
          ],
          "name": "stdout"
        }
      ]
    },
    {
      "cell_type": "markdown",
      "metadata": {
        "id": "frJdDfWSUwzr",
        "colab_type": "text"
      },
      "source": [
        "##**POSIXlt**"
      ]
    },
    {
      "cell_type": "code",
      "metadata": {
        "id": "42hLdc7H1Tsu",
        "colab_type": "code",
        "colab": {
          "base_uri": "https://localhost:8080/",
          "height": 35
        },
        "outputId": "b14d4a8d-571b-46ef-98d6-11ca061efca5"
      },
      "source": [
        "%%R\n",
        "# Criando objetos POSIXlt\n",
        "myDateTimeStr\n"
      ],
      "execution_count": 122,
      "outputs": [
        {
          "output_type": "stream",
          "text": [
            "[1] \"31-01-92 15:27:02\"\n"
          ],
          "name": "stdout"
        }
      ]
    },
    {
      "cell_type": "code",
      "metadata": {
        "id": "WI6-wxR-Tl36",
        "colab_type": "code",
        "colab": {}
      },
      "source": [
        "%%R\n",
        "myPOSIXlt = as.POSIXlt(myDateTimeStr)\n",
        "myPOSIXlt"
      ],
      "execution_count": null,
      "outputs": []
    },
    {
      "cell_type": "code",
      "metadata": {
        "id": "wpAqNblkTn6U",
        "colab_type": "code",
        "colab": {
          "base_uri": "https://localhost:8080/",
          "height": 35
        },
        "outputId": "574e7016-d54d-42d4-c43c-c04a04f24e56"
      },
      "source": [
        "%%R\n",
        "class(myPOSIXlt)"
      ],
      "execution_count": 115,
      "outputs": [
        {
          "output_type": "stream",
          "text": [
            "[1] \"POSIXlt\" \"POSIXt\" \n"
          ],
          "name": "stdout"
        }
      ]
    },
    {
      "cell_type": "code",
      "metadata": {
        "id": "-qmN8LC81Tri",
        "colab_type": "code",
        "colab": {
          "base_uri": "https://localhost:8080/",
          "height": 35
        },
        "outputId": "910d3d9e-73c4-4970-cce7-11dd8373122b"
      },
      "source": [
        "%%R\n",
        "# Ajustando o formato de entrada\n",
        "myDateTimeStr1 = \"31-01-1992 15:27:02\"\n",
        "myPOSIXlt1 = as.POSIXlt(myDateTimeStr1, format = \"%d-%m-%Y %H:%M:%S\")\n",
        "names(unclass(myPOSIXlt)) "
      ],
      "execution_count": 119,
      "outputs": [
        {
          "output_type": "stream",
          "text": [
            "[1] \"sec\"   \"min\"   \"hour\"  \"mday\"  \"mon\"   \"year\"  \"wday\"  \"yday\"  \"isdst\"\n"
          ],
          "name": "stdout"
        }
      ]
    },
    {
      "cell_type": "code",
      "metadata": {
        "id": "HZT545yU1Tpc",
        "colab_type": "code",
        "colab": {}
      },
      "source": [
        "%%R\n",
        "# Extraindo valores específicos da data\n",
        "myPOSIXlt$sec\n",
        "myPOSIXlt$hour\n",
        "myPOSIXlt$mday\n",
        "myPOSIXlt$mon\n",
        "myPOSIXlt$year\n",
        "myPOSIXlt$wday \n",
        "myPOSIXlt$yday\n",
        "myPOSIXlt$isdst "
      ],
      "execution_count": null,
      "outputs": []
    },
    {
      "cell_type": "code",
      "metadata": {
        "id": "E3iwDBEeT5FT",
        "colab_type": "code",
        "colab": {
          "base_uri": "https://localhost:8080/",
          "height": 35
        },
        "outputId": "4e1b85a7-4466-47bd-99e9-03d19fcb8965"
      },
      "source": [
        "%%R\n",
        "myPOSIXlt$mday"
      ],
      "execution_count": 118,
      "outputs": [
        {
          "output_type": "stream",
          "text": [
            "[1] 15\n"
          ],
          "name": "stdout"
        }
      ]
    },
    {
      "cell_type": "code",
      "metadata": {
        "id": "-2Yl_lfdT0xX",
        "colab_type": "code",
        "colab": {
          "base_uri": "https://localhost:8080/",
          "height": 35
        },
        "outputId": "74962fa5-8b43-47fa-964b-3634af904824"
      },
      "source": [
        "%%R \n",
        "myPOSIXlt$sec"
      ],
      "execution_count": 117,
      "outputs": [
        {
          "output_type": "stream",
          "text": [
            "[1] 0\n"
          ],
          "name": "stdout"
        }
      ]
    },
    {
      "cell_type": "markdown",
      "metadata": {
        "id": "gpzu7wZ3UD1n",
        "colab_type": "text"
      },
      "source": [
        "##**Conversão**\n",
        "\n",
        "\n",
        "\n"
      ]
    },
    {
      "cell_type": "code",
      "metadata": {
        "id": "pmb1TNat1Tme",
        "colab_type": "code",
        "colab": {
          "base_uri": "https://localhost:8080/",
          "height": 35
        },
        "outputId": "1a12ab2d-888e-4b76-aada-ebbb4285debf"
      },
      "source": [
        "%%R\n",
        "myPOSIXct5"
      ],
      "execution_count": 128,
      "outputs": [
        {
          "output_type": "stream",
          "text": [
            "[1] \"1992-01-31 15:27:02 UTC\"\n"
          ],
          "name": "stdout"
        }
      ]
    },
    {
      "cell_type": "code",
      "metadata": {
        "id": "Di10eYPGVJ2e",
        "colab_type": "code",
        "colab": {
          "base_uri": "https://localhost:8080/",
          "height": 35
        },
        "outputId": "5b2be8de-f9a1-406e-9b1f-6cbc395e4ae9"
      },
      "source": [
        "%%R\n",
        "class(myPOSIXct5)\n"
      ],
      "execution_count": 140,
      "outputs": [
        {
          "output_type": "stream",
          "text": [
            "[1] \"POSIXct\" \"POSIXt\" \n"
          ],
          "name": "stdout"
        }
      ]
    },
    {
      "cell_type": "code",
      "metadata": {
        "id": "SsNPq7okVJye",
        "colab_type": "code",
        "colab": {}
      },
      "source": [
        "%%R\n",
        "myPOSIXlt = as.POSIXlt(myPOSIXct5)"
      ],
      "execution_count": 137,
      "outputs": []
    },
    {
      "cell_type": "code",
      "metadata": {
        "id": "mv_oseTIVOz5",
        "colab_type": "code",
        "colab": {}
      },
      "source": [
        "%%R\n",
        "class(myPOSIXlt5)"
      ],
      "execution_count": null,
      "outputs": []
    },
    {
      "cell_type": "code",
      "metadata": {
        "id": "eazSu2gUVQuN",
        "colab_type": "code",
        "colab": {}
      },
      "source": [
        "%%R\n",
        "as.POSIXlt5(myPOSIXct)$sec "
      ],
      "execution_count": null,
      "outputs": []
    },
    {
      "cell_type": "code",
      "metadata": {
        "id": "9Zx8VN2x1TlV",
        "colab_type": "code",
        "colab": {
          "base_uri": "https://localhost:8080/",
          "height": 35
        },
        "outputId": "2c03c813-0c5b-4282-e3b5-2dc74eabab51"
      },
      "source": [
        "%%R\n",
        "myPOSIXct\n",
        "myDate = as.Date(myPOSIXct)\n",
        "myDate\n",
        "class(myDate) "
      ],
      "execution_count": 52,
      "outputs": [
        {
          "output_type": "stream",
          "text": [
            "[1] \"Date\"\n"
          ],
          "name": "stdout"
        }
      ]
    },
    {
      "cell_type": "code",
      "metadata": {
        "id": "QdxcKQkw1TjN",
        "colab_type": "code",
        "colab": {
          "base_uri": "https://localhost:8080/",
          "height": 35
        },
        "outputId": "946527bc-2275-499c-c980-f2c434278242"
      },
      "source": [
        "%%R\n",
        "myPOSIXct = as.POSIXct(myDate, tz = \"GMT\")\n",
        "myPOSIXct\n",
        "myPOSIXlt = as.POSIXlt(myDate, tz = \"GMT\")\n",
        "myPOSIXlt\n",
        "myPOSIXct = as.POSIXct(myPOSIXlt)\n",
        "myPOSIXct"
      ],
      "execution_count": 53,
      "outputs": [
        {
          "output_type": "stream",
          "text": [
            "[1] \"2016-12-15 UTC\"\n"
          ],
          "name": "stdout"
        }
      ]
    },
    {
      "cell_type": "code",
      "metadata": {
        "id": "OnImN5m51TiR",
        "colab_type": "code",
        "colab": {
          "base_uri": "https://localhost:8080/",
          "height": 35
        },
        "outputId": "08f6288a-d261-4289-fb78-a321e3919de8"
      },
      "source": [
        "%%R\n",
        "HfDateTimeStr = \"2016-12-15 18:13:04.125\"\n",
        "HfPOSIXct = as.POSIXct(HfDateTimeStr)\n",
        "HfPOSIXct \n",
        "options(digits.secs = 3)\n",
        "HfPOSIXct "
      ],
      "execution_count": 54,
      "outputs": [
        {
          "output_type": "stream",
          "text": [
            "[1] \"2016-12-15 18:13:04.125 UTC\"\n"
          ],
          "name": "stdout"
        }
      ]
    },
    {
      "cell_type": "code",
      "metadata": {
        "id": "LEyNPhzI1TgC",
        "colab_type": "code",
        "colab": {
          "base_uri": "https://localhost:8080/",
          "height": 35
        },
        "outputId": "184fa5ba-d9a5-4692-c538-266a9683e4df"
      },
      "source": [
        "%%R\n",
        "# Manipulando POSIXct\n",
        "dt1 = as.POSIXct(\"2016-12-23 00:00:00\")\n",
        "dt2 = as.POSIXct(\"2016-12-23 05:00:00\")\n",
        "\n",
        "diffDateTime = dt2 - dt1\n",
        "class(diffDateTime)\n",
        "\n",
        "diffDateTime\n",
        "units(diffDateTime)\n",
        "as.numeric(diffDateTime)"
      ],
      "execution_count": 55,
      "outputs": [
        {
          "output_type": "stream",
          "text": [
            "[1] 5\n"
          ],
          "name": "stdout"
        }
      ]
    },
    {
      "cell_type": "code",
      "metadata": {
        "id": "grgRIsVQ1Tcl",
        "colab_type": "code",
        "colab": {
          "base_uri": "https://localhost:8080/",
          "height": 35
        },
        "outputId": "785a27e9-5f6d-4f06-f05c-5aacda29e8bf"
      },
      "source": [
        "%%R\n",
        "units(diffDateTime) = \"secs\"\n",
        "diffDateTime\n",
        "as.numeric(diffDateTime) "
      ],
      "execution_count": 56,
      "outputs": [
        {
          "output_type": "stream",
          "text": [
            "[1] 18000\n"
          ],
          "name": "stdout"
        }
      ]
    },
    {
      "cell_type": "code",
      "metadata": {
        "id": "9W7LG0fQ17z7",
        "colab_type": "code",
        "colab": {}
      },
      "source": [
        "%%R\n",
        "# Pacote lubridate\n",
        "install.packages(\"lubridate\")\n",
        "library(lubridate)"
      ],
      "execution_count": null,
      "outputs": []
    },
    {
      "cell_type": "code",
      "metadata": {
        "id": "HGjFt0zU17ws",
        "colab_type": "code",
        "colab": {
          "base_uri": "https://localhost:8080/",
          "height": 54
        },
        "outputId": "48762751-8fef-499f-b64e-c2f1a4b848de"
      },
      "source": [
        "%%R\n",
        "ymd(\"20161221\")\n",
        "ymd(\"2016 Dec 21\") \n",
        "\n",
        "ymd_hms(\"20161219101707\")\n",
        "ymd_hms(\"2016 Dec 19 10:17:07\")\n",
        "mdy(\"Dec 19, 2016\")\n",
        "mdy_hms(\"December 19, 2016 10:17:07\")\n",
        "dmy_hms(\"19-Dec, 2016 10:17:07\") \n",
        "\n",
        "ymd_hms(\"2016 Dec 19 10:17:07\", tz=\"\") \n",
        "\n",
        "ymd(20161219) \n",
        "\n",
        "myDateTime = ymd_hms(\"2016 Dec 19 10:17:07\")\n",
        "myDateTime \n",
        "year(myDateTime)\n",
        "month(myDateTime)\n",
        "week(myDateTime)\n",
        "yday(myDateTime)\n",
        "mday(myDateTime)\n",
        "wday(myDateTime)\n",
        "hour(myDateTime)\n",
        "minute(myDateTime)\n",
        "second(myDateTime)\n",
        "tz(myDateTime)\n",
        "wday(myDateTime, label=TRUE)\n",
        "month(myDateTime, label=TRUE) "
      ],
      "execution_count": 58,
      "outputs": [
        {
          "output_type": "stream",
          "text": [
            "[1] Dec\n",
            "12 Levels: Jan < Feb < Mar < Apr < May < Jun < Jul < Aug < Sep < ... < Dec\n"
          ],
          "name": "stdout"
        }
      ]
    },
    {
      "cell_type": "code",
      "metadata": {
        "id": "4Je_9R8Z17tt",
        "colab_type": "code",
        "colab": {
          "base_uri": "https://localhost:8080/",
          "height": 35
        },
        "outputId": "f80408b0-ae55-458d-d773-ea3fed781d3a"
      },
      "source": [
        "%%R\n",
        "# Atualizando uma data\n",
        "mday(myDateTime) = 20\n",
        "myDateTime \n",
        "\n",
        "update(myDateTime, year = 2016, month = 1, day = 1, hour = 5, min = 0, sec = 0) "
      ],
      "execution_count": 59,
      "outputs": [
        {
          "output_type": "stream",
          "text": [
            "[1] \"2016-01-01 05:00:00 UTC\"\n"
          ],
          "name": "stdout"
        }
      ]
    }
  ]
}