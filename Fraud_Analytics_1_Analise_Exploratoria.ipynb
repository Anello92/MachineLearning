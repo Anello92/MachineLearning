{
  "nbformat": 4,
  "nbformat_minor": 0,
  "metadata": {
    "colab": {
      "name": "Fraud_Analytics_1_Analise_Exploratoria.ipynb",
      "provenance": []
    },
    "kernelspec": {
      "name": "python3",
      "display_name": "Python 3"
    }
  },
  "cells": [
    {
      "cell_type": "code",
      "metadata": {
        "id": "n5EVriLzDEkd",
        "colab_type": "code",
        "colab": {}
      },
      "source": [
        "# activate R magic\n",
        "%load_ext rpy2.ipython"
      ],
      "execution_count": null,
      "outputs": []
    },
    {
      "cell_type": "markdown",
      "metadata": {
        "id": "GYaxMMHL6gfH",
        "colab_type": "text"
      },
      "source": [
        "#**Fraud Analytics - Análise Exploratória**"
      ]
    },
    {
      "cell_type": "code",
      "metadata": {
        "id": "jHt6MfC36mDl",
        "colab_type": "code",
        "colab": {}
      },
      "source": [
        "# Obs: Caso tenha problemas com a acentuação, consulte este link:\n",
        "# https://support.rstudio.com/hc/en-us/articles/200532197-Character-Encoding"
      ],
      "execution_count": null,
      "outputs": []
    },
    {
      "cell_type": "markdown",
      "metadata": {
        "id": "DWsEFkgb6gd_",
        "colab_type": "text"
      },
      "source": [
        "##**Carregando e visualizando os dados**"
      ]
    },
    {
      "cell_type": "code",
      "metadata": {
        "id": "_F3Idx-l6cqX",
        "colab_type": "code",
        "colab": {}
      },
      "source": [
        "%%R\n",
        "dados = read.csv(\"dataset_source.csv\")\n",
        "#View(dados)"
      ],
      "execution_count": 6,
      "outputs": []
    },
    {
      "cell_type": "code",
      "metadata": {
        "id": "UlqtTuHO6cnm",
        "colab_type": "code",
        "colab": {
          "base_uri": "https://localhost:8080/",
          "height": 126
        },
        "outputId": "bc511110-66e1-43e8-ae44-6ede43d31035"
      },
      "source": [
        "%%R\n",
        "head(dados, 2)"
      ],
      "execution_count": 9,
      "outputs": [
        {
          "output_type": "stream",
          "text": [
            "  Record    CARDNUM     DATE      MERCHNUM       MERCHDESCRIPTION MERCHSTATE\n",
            "1      1 5142152067 1/1/2010 5509010000000 FEDEX SHP 12/21/09 AB#         TN\n",
            "2      2 5142190439 1/1/2010 5509010000000 FEDEX SHP 12/23/09 AB#         TN\n",
            "  MERCHZIP TRANSTYPE AMOUNT Fraudlabel\n",
            "1    38118         P  3.67           0\n",
            "2    38118         P  3.62           0\n"
          ],
          "name": "stdout"
        }
      ]
    },
    {
      "cell_type": "code",
      "metadata": {
        "id": "k1CkE_Ee6clY",
        "colab_type": "code",
        "colab": {
          "base_uri": "https://localhost:8080/",
          "height": 126
        },
        "outputId": "3a68797d-35d5-4d54-f0e1-5de740e91e75"
      },
      "source": [
        "%%R\n",
        "tail(dados, 2)"
      ],
      "execution_count": 10,
      "outputs": [
        {
          "output_type": "stream",
          "text": [
            "      Record    CARDNUM       DATE      MERCHNUM        MERCHDESCRIPTION\n",
            "95270  95271 5142244619 12/31/2010 8834000000000                 BUY.COM\n",
            "95271  95272 5142122644 12/31/2010               RETAIL DEBIT ADJUSTMENT\n",
            "      MERCHSTATE MERCHZIP TRANSTYPE     AMOUNT Fraudlabel\n",
            "95270         CA    92656         P  2,202.03           0\n",
            "95271                  NA         P    340.79           0\n"
          ],
          "name": "stdout"
        }
      ]
    },
    {
      "cell_type": "code",
      "metadata": {
        "id": "k5cln4bZ6ckg",
        "colab_type": "code",
        "colab": {
          "base_uri": "https://localhost:8080/",
          "height": 217
        },
        "outputId": "bf798522-ad04-4a0a-f1ff-fe13083cfbb9"
      },
      "source": [
        "%%R\n",
        "str(dados)"
      ],
      "execution_count": 11,
      "outputs": [
        {
          "output_type": "stream",
          "text": [
            "'data.frame':\t95271 obs. of  10 variables:\n",
            " $ Record          : int  1 2 3 4 5 6 7 8 9 10 ...\n",
            " $ CARDNUM         : num  5.14e+09 5.14e+09 5.14e+09 5.14e+09 5.14e+09 ...\n",
            " $ DATE            : Factor w/ 365 levels \"1/1/2010\",\"1/10/2010\",..: 1 1 1 1 1 1 1 1 1 1 ...\n",
            " $ MERCHNUM        : Factor w/ 6625 levels \"\",\"0\",\"003100006NOT6\",..: 2703 2703 2703 2799 2703 2703 2703 2703 2703 2703 ...\n",
            " $ MERCHDESCRIPTION: Factor w/ 13122 levels \"(ISC)2 CERTIFICATION\",..: 4590 4594 4598 2416 4594 4594 4594 4592 4594 4592 ...\n",
            " $ MERCHSTATE      : Factor w/ 228 levels \"\",\"100\",\"107\",..: 219 219 219 186 219 219 219 219 219 219 ...\n",
            " $ MERCHZIP        : int  38118 38118 38118 60061 38118 38118 38118 38118 38118 38118 ...\n",
            " $ TRANSTYPE       : Factor w/ 4 levels \"A\",\"D\",\"P\",\"Y\": 3 3 3 3 3 3 3 3 3 3 ...\n",
            " $ AMOUNT          : Factor w/ 34037 levels \" 0.01 \",\" 0.02 \",..: 17215 17210 17210 19653 17210 17210 17210 17215 17210 17210 ...\n",
            " $ Fraudlabel      : int  0 0 0 0 0 0 0 0 0 0 ...\n"
          ],
          "name": "stdout"
        }
      ]
    },
    {
      "cell_type": "markdown",
      "metadata": {
        "id": "AB6_mW8r-YA0",
        "colab_type": "text"
      },
      "source": [
        "##**Convertendo a coluna AMOUNT de fator para numérico (double)**\n",
        "\n",
        "Montante"
      ]
    },
    {
      "cell_type": "code",
      "metadata": {
        "id": "Rj4TN5zi6ciB",
        "colab_type": "code",
        "colab": {
          "base_uri": "https://localhost:8080/",
          "height": 35
        },
        "outputId": "05957d78-81a8-494f-9bc1-7d2f85eb3fa0"
      },
      "source": [
        "%%R\n",
        "str(dados$AMOUNT)"
      ],
      "execution_count": 13,
      "outputs": [
        {
          "output_type": "stream",
          "text": [
            " Factor w/ 34037 levels \" 0.01 \",\" 0.02 \",..: 17215 17210 17210 19653 17210 17210 17210 17215 17210 17210 ...\n"
          ],
          "name": "stdout"
        }
      ]
    },
    {
      "cell_type": "code",
      "metadata": {
        "id": "36b6Fv6z6ce-",
        "colab_type": "code",
        "colab": {
          "base_uri": "https://localhost:8080/",
          "height": 35
        },
        "outputId": "c0fbe9d8-3f3f-401e-e448-45fd8b52fc5b"
      },
      "source": [
        "%%R\n",
        "any(is.na(dados$AMOUNT))\n",
        "# nenhum valor NA"
      ],
      "execution_count": 14,
      "outputs": [
        {
          "output_type": "stream",
          "text": [
            "[1] FALSE\n"
          ],
          "name": "stdout"
        }
      ]
    },
    {
      "cell_type": "code",
      "metadata": {
        "id": "d0d9tlkd6ccW",
        "colab_type": "code",
        "colab": {}
      },
      "source": [
        "%%R\n",
        "dados$AMOUNT <- as.double(dados$AMOUNT)\n",
        "# converter p/ double"
      ],
      "execution_count": 18,
      "outputs": []
    },
    {
      "cell_type": "code",
      "metadata": {
        "id": "XINtsFdM6cbn",
        "colab_type": "code",
        "colab": {}
      },
      "source": [
        "%%R\n",
        "dados$AMOUNT <- as.double(as.character(dados$AMOUNT))"
      ],
      "execution_count": 16,
      "outputs": []
    },
    {
      "cell_type": "code",
      "metadata": {
        "id": "xS2L50Zw-3IO",
        "colab_type": "code",
        "colab": {
          "base_uri": "https://localhost:8080/",
          "height": 35
        },
        "outputId": "1387534a-e289-4bc4-c115-77a2d58a6044"
      },
      "source": [
        "%%R\n",
        "str(dados$AMOUNT)\n",
        "# a variável passa a ser do tipo numérica"
      ],
      "execution_count": 17,
      "outputs": [
        {
          "output_type": "stream",
          "text": [
            " num [1:95271] 17215 17210 17210 19653 17210 ...\n"
          ],
          "name": "stdout"
        }
      ]
    },
    {
      "cell_type": "code",
      "metadata": {
        "id": "g_xfHaZk-6nz",
        "colab_type": "code",
        "colab": {
          "base_uri": "https://localhost:8080/",
          "height": 35
        },
        "outputId": "c0aa94b1-c072-4527-c8cb-307d9b22b870"
      },
      "source": [
        "%%R\n",
        "any(is.na(dados$AMOUNT))\n",
        "# não houve nenhuma perda de dados"
      ],
      "execution_count": 21,
      "outputs": [
        {
          "output_type": "stream",
          "text": [
            "[1] FALSE\n"
          ],
          "name": "stdout"
        }
      ]
    },
    {
      "cell_type": "markdown",
      "metadata": {
        "id": "WDv82CJ7_AsU",
        "colab_type": "text"
      },
      "source": [
        "##**Convertendo MERCHZIP de numérico para fator**\n",
        "\n",
        "Código postal do comerciante"
      ]
    },
    {
      "cell_type": "code",
      "metadata": {
        "id": "nlywMxLS_GBA",
        "colab_type": "code",
        "colab": {
          "base_uri": "https://localhost:8080/",
          "height": 35
        },
        "outputId": "4206f2de-83d8-4118-a1e5-6e2745a076f6"
      },
      "source": [
        "%%R\n",
        "str(dados$MERCHZIP)"
      ],
      "execution_count": 22,
      "outputs": [
        {
          "output_type": "stream",
          "text": [
            " int [1:95271] 38118 38118 38118 60061 38118 38118 38118 38118 38118 38118 ...\n"
          ],
          "name": "stdout"
        }
      ]
    },
    {
      "cell_type": "code",
      "metadata": {
        "id": "Xbsa2NUv_JQy",
        "colab_type": "code",
        "colab": {}
      },
      "source": [
        "%%R\n",
        "any(is.na(dados$MERCHZIP))"
      ],
      "execution_count": null,
      "outputs": []
    },
    {
      "cell_type": "code",
      "metadata": {
        "id": "DFis7Qto_NBa",
        "colab_type": "code",
        "colab": {}
      },
      "source": [
        "%%R\n",
        "dados$MERCHZIP <- as.factor(dados$MERCHZIP)"
      ],
      "execution_count": null,
      "outputs": []
    },
    {
      "cell_type": "code",
      "metadata": {
        "id": "ZhqIrFbC_UEl",
        "colab_type": "code",
        "colab": {}
      },
      "source": [
        "%%R\n",
        "str(dados$MERCHZIP)"
      ],
      "execution_count": null,
      "outputs": []
    },
    {
      "cell_type": "code",
      "metadata": {
        "id": "fUeGUlYo_ZyZ",
        "colab_type": "code",
        "colab": {}
      },
      "source": [
        "%%R\n",
        "any(is.na(dados$MERCHZIP))"
      ],
      "execution_count": null,
      "outputs": []
    },
    {
      "cell_type": "code",
      "metadata": {
        "id": "zD5BCZ7L_dTj",
        "colab_type": "code",
        "colab": {}
      },
      "source": [
        "%%\n",
        "str(dados)"
      ],
      "execution_count": null,
      "outputs": []
    },
    {
      "cell_type": "markdown",
      "metadata": {
        "id": "eFUgF8K8_vKL",
        "colab_type": "text"
      },
      "source": [
        "##**Explorando variáveis numéricas**\n"
      ]
    },
    {
      "cell_type": "code",
      "metadata": {
        "id": "jnqxkiXN_7vk",
        "colab_type": "code",
        "colab": {}
      },
      "source": [
        "%%R\n",
        "min(dados$AMOUNT)"
      ],
      "execution_count": null,
      "outputs": []
    },
    {
      "cell_type": "code",
      "metadata": {
        "id": "16y7_aka__Gs",
        "colab_type": "code",
        "colab": {}
      },
      "source": [
        "%%R\n",
        "max(dados$AMOUNT)"
      ],
      "execution_count": null,
      "outputs": []
    },
    {
      "cell_type": "code",
      "metadata": {
        "id": "zNiTZOsXABRP",
        "colab_type": "code",
        "colab": {}
      },
      "source": [
        "%%R\n",
        "mean(dados$AMOUNT)"
      ],
      "execution_count": null,
      "outputs": []
    },
    {
      "cell_type": "code",
      "metadata": {
        "id": "YVU14h30AEiY",
        "colab_type": "code",
        "colab": {}
      },
      "source": [
        "%%R\n",
        "median(dados$AMOUNT)"
      ],
      "execution_count": null,
      "outputs": []
    },
    {
      "cell_type": "code",
      "metadata": {
        "id": "L5oEY3FXAHIX",
        "colab_type": "code",
        "colab": {}
      },
      "source": [
        "%%R\n",
        "quantile(dados$AMOUNT)"
      ],
      "execution_count": null,
      "outputs": []
    },
    {
      "cell_type": "code",
      "metadata": {
        "id": "KR_wzAULAKOZ",
        "colab_type": "code",
        "colab": {}
      },
      "source": [
        "%%R\n",
        "range(dados$AMOUNT)"
      ],
      "execution_count": null,
      "outputs": []
    },
    {
      "cell_type": "markdown",
      "metadata": {
        "id": "PLPjv39oAP8K",
        "colab_type": "text"
      },
      "source": [
        "##**Medidas de Dispersão**\n",
        "\n",
        "Ao interpretar a variância, números maiores indicam que os dados estão espalhados mais amplamente em torno da média. \n",
        "\n",
        "O desvio padrão indica, em média, a quantidade de cada valor diferente da média."
      ]
    },
    {
      "cell_type": "code",
      "metadata": {
        "id": "fruBvXzSAPae",
        "colab_type": "code",
        "colab": {}
      },
      "source": [
        "%%R\n",
        "var(dados$AMOUNT)"
      ],
      "execution_count": null,
      "outputs": []
    },
    {
      "cell_type": "code",
      "metadata": {
        "id": "c3Fp-w8qAyb_",
        "colab_type": "code",
        "colab": {}
      },
      "source": [
        "%%R\n",
        "sd(dados$AMOUNT)"
      ],
      "execution_count": null,
      "outputs": []
    },
    {
      "cell_type": "markdown",
      "metadata": {
        "id": "YQ6cRPDmA1vb",
        "colab_type": "text"
      },
      "source": [
        "#**Plot**"
      ]
    },
    {
      "cell_type": "markdown",
      "metadata": {
        "id": "j-aFAt2lA9SV",
        "colab_type": "text"
      },
      "source": [
        "##**Boxplot** - Leitura de Baixo para Cima - Q1, Q2 (Mediana) e Q3\n"
      ]
    },
    {
      "cell_type": "code",
      "metadata": {
        "id": "FZncBH7XA8eM",
        "colab_type": "code",
        "colab": {}
      },
      "source": [
        "%%R\n",
        "boxplot (dados$AMOUNT, main = \"Boxplot para Quantidade Gasta no Cartão de Crédito\", ylab = \"Valor (USD$)\")"
      ],
      "execution_count": null,
      "outputs": []
    },
    {
      "cell_type": "markdown",
      "metadata": {
        "id": "6siWtki-BFm2",
        "colab_type": "text"
      },
      "source": [
        "##**Histograma** - Frequência de valores dentro de cada bin (classe de valores)"
      ]
    },
    {
      "cell_type": "code",
      "metadata": {
        "id": "RHTj2_dYBKkb",
        "colab_type": "code",
        "colab": {}
      },
      "source": [
        "%%R\n",
        "hist(dados$AMOUNT, main = \"Histograma para Quantidade Gasta no Cartão de Crédito\", xlab = \"Valor (USD$)\")"
      ],
      "execution_count": null,
      "outputs": []
    },
    {
      "cell_type": "markdown",
      "metadata": {
        "id": "qP_iZbm1BaJz",
        "colab_type": "text"
      },
      "source": [
        "##**Explorando variáveis categóricas**\n",
        "\n",
        "Criando tabelas de contingência - representam uma úniva variável categórica\n",
        "\n",
        "Lista as categorias das variáveis nominais"
      ]
    },
    {
      "cell_type": "code",
      "metadata": {
        "id": "KZrztkflBhZ_",
        "colab_type": "code",
        "colab": {}
      },
      "source": [
        "%%R\n",
        "str(dados)"
      ],
      "execution_count": null,
      "outputs": []
    },
    {
      "cell_type": "code",
      "metadata": {
        "id": "Kskyn7qJBhWx",
        "colab_type": "code",
        "colab": {}
      },
      "source": [
        "%%R\n",
        "table(dados$MERCHZIP)"
      ],
      "execution_count": null,
      "outputs": []
    },
    {
      "cell_type": "code",
      "metadata": {
        "id": "4itAK58YBhUR",
        "colab_type": "code",
        "colab": {}
      },
      "source": [
        "%%R\n",
        "model_table <- table(dados$MERCHZIP)"
      ],
      "execution_count": null,
      "outputs": []
    },
    {
      "cell_type": "code",
      "metadata": {
        "id": "ksAVOlt8B_30",
        "colab_type": "code",
        "colab": {}
      },
      "source": [
        "%%R\n",
        "prop.table(model_table)"
      ],
      "execution_count": null,
      "outputs": []
    },
    {
      "cell_type": "markdown",
      "metadata": {
        "id": "3tJlxKg5CE-9",
        "colab_type": "text"
      },
      "source": [
        "##**Arredondando valores**"
      ]
    },
    {
      "cell_type": "code",
      "metadata": {
        "id": "a86haJP-CKTj",
        "colab_type": "code",
        "colab": {}
      },
      "source": [
        "%%R\n",
        "model_table <- table(dados$MERCHZIP)"
      ],
      "execution_count": null,
      "outputs": []
    },
    {
      "cell_type": "code",
      "metadata": {
        "id": "2CDL51S1COGZ",
        "colab_type": "code",
        "colab": {}
      },
      "source": [
        "%%R\n",
        "model_table <- prop.table(model_table) * 100"
      ],
      "execution_count": null,
      "outputs": []
    },
    {
      "cell_type": "code",
      "metadata": {
        "id": "VCWUMlJTCS8o",
        "colab_type": "code",
        "colab": {}
      },
      "source": [
        "%%R\n",
        "round(model_table, digits = 1)"
      ],
      "execution_count": null,
      "outputs": []
    },
    {
      "cell_type": "markdown",
      "metadata": {
        "id": "pOZrwxaCCYVL",
        "colab_type": "text"
      },
      "source": [
        "#**Plot**"
      ]
    },
    {
      "cell_type": "code",
      "metadata": {
        "id": "clzmjf46CdKr",
        "colab_type": "code",
        "colab": {}
      },
      "source": [
        "%%\n",
        "str(dados$MERCHZIP)\n",
        "barplot(table(dados$MERCHZIP), col = \"black\", main = \"Número de Transações por Postal Code\")"
      ],
      "execution_count": null,
      "outputs": []
    },
    {
      "cell_type": "code",
      "metadata": {
        "id": "S9nhQJHLCdHU",
        "colab_type": "code",
        "colab": {}
      },
      "source": [
        "%%\n",
        "str(dados$DATE)\n",
        "barplot(table(dados$DATE), col = \"black\", main = \"Número de Transações por Dia\")"
      ],
      "execution_count": null,
      "outputs": []
    },
    {
      "cell_type": "code",
      "metadata": {
        "id": "qiquhffuCdEc",
        "colab_type": "code",
        "colab": {}
      },
      "source": [
        "%%\n",
        "str(dados$MERCHNUM)\n",
        "barplot(table(dados$MERCHNUM), col = \"black\", main = \"Número de Transações por Comerciante\")"
      ],
      "execution_count": null,
      "outputs": []
    },
    {
      "cell_type": "code",
      "metadata": {
        "id": "_qNfMmQvCy9H",
        "colab_type": "code",
        "colab": {}
      },
      "source": [
        "%%R\n",
        "str(dados$MERCHSTATE)\n",
        "barplot(table(dados$MERCHSTATE), col = \"black\", main = \"Número de Transações por Estado\")"
      ],
      "execution_count": null,
      "outputs": []
    },
    {
      "cell_type": "code",
      "metadata": {
        "id": "0vJq5UkuCy5v",
        "colab_type": "code",
        "colab": {}
      },
      "source": [
        "%%R\n",
        "str(dados$TRANSTYPE)\n",
        "barplot(table(dados$TRANSTYPE), col = \"black\", main = \"Número de Transações por Tipo de Transação\")"
      ],
      "execution_count": null,
      "outputs": []
    },
    {
      "cell_type": "markdown",
      "metadata": {
        "id": "azjJleExC36b",
        "colab_type": "text"
      },
      "source": [
        "#**Visualizando fraudes mensais**"
      ]
    },
    {
      "cell_type": "code",
      "metadata": {
        "id": "h18tA6d4C9QD",
        "colab_type": "code",
        "colab": {}
      },
      "source": [
        "\n",
        "install.packages(\"lubridate\")\n",
        "install.packages(\"dplyr\")\n",
        "install.packages(\"ggplot\")\n",
        "library(lubridate)\n",
        "library(dplyr)\n",
        "library(ggplot2)\n"
      ],
      "execution_count": null,
      "outputs": []
    },
    {
      "cell_type": "markdown",
      "metadata": {
        "id": "8CZXKtd1DOf_",
        "colab_type": "text"
      },
      "source": [
        "##**Extrair colunas específicas**"
      ]
    },
    {
      "cell_type": "code",
      "metadata": {
        "id": "Ys_CCr8XC9PI",
        "colab_type": "code",
        "colab": {}
      },
      "source": [
        "%%R\n",
        "# Extrai todas as linhas da coluna 1 a coluna 10 (no caso de haver mais colunas do que o necessário)\n",
        "dados = dados[,1:10]\n",
        "head(dados)"
      ],
      "execution_count": null,
      "outputs": []
    },
    {
      "cell_type": "markdown",
      "metadata": {
        "id": "emtRNMAzDZMT",
        "colab_type": "text"
      },
      "source": [
        "##**Extrair mês da data completa e repassar para nova coluna**"
      ]
    },
    {
      "cell_type": "code",
      "metadata": {
        "id": "t4uE_UccDkt-",
        "colab_type": "code",
        "colab": {}
      },
      "source": [
        "%%R\n",
        "dados$DATE = mdy(dados$DATE)"
      ],
      "execution_count": null,
      "outputs": []
    },
    {
      "cell_type": "code",
      "metadata": {
        "id": "_5KTKb9SDkuu",
        "colab_type": "code",
        "colab": {}
      },
      "source": [
        "%%R\n",
        "dados$month = month(dados$DATE)\n"
      ],
      "execution_count": null,
      "outputs": []
    },
    {
      "cell_type": "markdown",
      "metadata": {
        "id": "0mR3AUzjDpB5",
        "colab_type": "text"
      },
      "source": [
        "##**Sumarizar dados e gravar em novo DataFrame** - {dplyr}"
      ]
    },
    {
      "cell_type": "code",
      "metadata": {
        "id": "kkIQRuRtDktP",
        "colab_type": "code",
        "colab": {}
      },
      "source": [
        "%%R\n",
        "# Sumarizando os dados e gravando em um novo dataframe\n",
        "dados2 = dados %>%\n",
        "  group_by(month)%>%\n",
        "  summarise(fraud = sum(Fraudlabel))"
      ],
      "execution_count": null,
      "outputs": []
    },
    {
      "cell_type": "markdown",
      "metadata": {
        "id": "MmlxPVk1D0m8",
        "colab_type": "text"
      },
      "source": [
        "##**Converter coluna Mês p/ fator**"
      ]
    },
    {
      "cell_type": "code",
      "metadata": {
        "id": "wwiPqEwFDkoW",
        "colab_type": "code",
        "colab": {}
      },
      "source": [
        "%%R\n",
        "dados2$month = as.factor(dados2$month)"
      ],
      "execution_count": null,
      "outputs": []
    },
    {
      "cell_type": "code",
      "metadata": {
        "id": "nAV3sQa9DklH",
        "colab_type": "code",
        "colab": {}
      },
      "source": [
        "%%R\n",
        "# Plot\n",
        "ggplot(dados2,\n",
        "       aes(x = month, y = fraud))+\n",
        "  geom_bar(stat = \"identity\", \n",
        "           fill = \"blue\")"
      ],
      "execution_count": null,
      "outputs": []
    }
  ]
}