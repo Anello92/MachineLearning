{
  "nbformat": 4,
  "nbformat_minor": 0,
  "metadata": {
    "colab": {
      "name": "Cap08-Arvore_Decisao-Rpart.ipynb",
      "provenance": []
    },
    "kernelspec": {
      "name": "python3",
      "display_name": "Python 3"
    }
  },
  "cells": [
    {
      "cell_type": "code",
      "metadata": {
        "id": "b9k8mWm6acV_",
        "colab_type": "code",
        "colab": {
          "base_uri": "https://localhost:8080/",
          "height": 52
        },
        "outputId": "c6617cbd-d798-4383-85ad-b9024a178bc2"
      },
      "source": [
        "%load_ext rpy2.ipython"
      ],
      "execution_count": 2,
      "outputs": [
        {
          "output_type": "stream",
          "text": [
            "The rpy2.ipython extension is already loaded. To reload it, use:\n",
            "  %reload_ext rpy2.ipython\n"
          ],
          "name": "stdout"
        }
      ]
    },
    {
      "cell_type": "markdown",
      "metadata": {
        "id": "b8hI_1BFazDx",
        "colab_type": "text"
      },
      "source": [
        "#**Criando Árvore de Decisão com rpart**"
      ]
    },
    {
      "cell_type": "markdown",
      "metadata": {
        "id": "FXg5YhIBazCv",
        "colab_type": "text"
      },
      "source": [
        "##Criando DataFrame"
      ]
    },
    {
      "cell_type": "code",
      "metadata": {
        "id": "oUcgCfZsaZzR",
        "colab_type": "code",
        "colab": {
          "base_uri": "https://localhost:8080/",
          "height": 675
        },
        "outputId": "c3f60a84-d0e0-46cb-b949-018fefac8236"
      },
      "source": [
        "%%R\n",
        "?expand.grid # Create a data frame from all combinations of the supplied Vectors or Factors. {base}\n",
        "clima <- expand.grid(Tempo = c(\"Ensolarado\",\"Nublado\",\"Chuvoso\"), \n",
        "                     Temperatura = c(\"Quente\",\"Ameno\",\"Frio\"), \n",
        "                     Humidade = c(\"Alta\",\"Normal\"), \n",
        "                     Vento = c(\"Fraco\",\"Forte\"))\n",
        "print(clima)\n",
        "\n",
        "# Diversas combinações são realizadas"
      ],
      "execution_count": 5,
      "outputs": [
        {
          "output_type": "stream",
          "text": [
            "        Tempo Temperatura Humidade Vento\n",
            "1  Ensolarado      Quente     Alta Fraco\n",
            "2     Nublado      Quente     Alta Fraco\n",
            "3     Chuvoso      Quente     Alta Fraco\n",
            "4  Ensolarado       Ameno     Alta Fraco\n",
            "5     Nublado       Ameno     Alta Fraco\n",
            "6     Chuvoso       Ameno     Alta Fraco\n",
            "7  Ensolarado        Frio     Alta Fraco\n",
            "8     Nublado        Frio     Alta Fraco\n",
            "9     Chuvoso        Frio     Alta Fraco\n",
            "10 Ensolarado      Quente   Normal Fraco\n",
            "11    Nublado      Quente   Normal Fraco\n",
            "12    Chuvoso      Quente   Normal Fraco\n",
            "13 Ensolarado       Ameno   Normal Fraco\n",
            "14    Nublado       Ameno   Normal Fraco\n",
            "15    Chuvoso       Ameno   Normal Fraco\n",
            "16 Ensolarado        Frio   Normal Fraco\n",
            "17    Nublado        Frio   Normal Fraco\n",
            "18    Chuvoso        Frio   Normal Fraco\n",
            "19 Ensolarado      Quente     Alta Forte\n",
            "20    Nublado      Quente     Alta Forte\n",
            "21    Chuvoso      Quente     Alta Forte\n",
            "22 Ensolarado       Ameno     Alta Forte\n",
            "23    Nublado       Ameno     Alta Forte\n",
            "24    Chuvoso       Ameno     Alta Forte\n",
            "25 Ensolarado        Frio     Alta Forte\n",
            "26    Nublado        Frio     Alta Forte\n",
            "27    Chuvoso        Frio     Alta Forte\n",
            "28 Ensolarado      Quente   Normal Forte\n",
            "29    Nublado      Quente   Normal Forte\n",
            "30    Chuvoso      Quente   Normal Forte\n",
            "31 Ensolarado       Ameno   Normal Forte\n",
            "32    Nublado       Ameno   Normal Forte\n",
            "33    Chuvoso       Ameno   Normal Forte\n",
            "34 Ensolarado        Frio   Normal Forte\n",
            "35    Nublado        Frio   Normal Forte\n",
            "36    Chuvoso        Frio   Normal Forte\n"
          ],
          "name": "stdout"
        }
      ]
    },
    {
      "cell_type": "markdown",
      "metadata": {
        "id": "L9-SRIOocIvS",
        "colab_type": "text"
      },
      "source": [
        "##Visualizando DataFrame"
      ]
    },
    {
      "cell_type": "code",
      "metadata": {
        "id": "jr6qoLCEbQjF",
        "colab_type": "code",
        "colab": {}
      },
      "source": [
        "%%R\n",
        "#View(clima)"
      ],
      "execution_count": null,
      "outputs": []
    },
    {
      "cell_type": "markdown",
      "metadata": {
        "id": "ZRBXB8MMcOWU",
        "colab_type": "text"
      },
      "source": [
        "##Limitar as combinações passando Vetor para selecionar as linhas como índice"
      ]
    },
    {
      "cell_type": "code",
      "metadata": {
        "id": "WDx4EiFhbQf1",
        "colab_type": "code",
        "colab": {}
      },
      "source": [
        "%%R\n",
        "response <- c(1, 19, 4, 31, 16, 2, 11, 23, 35, 6, 24, 15, 18, 36) "
      ],
      "execution_count": 6,
      "outputs": []
    },
    {
      "cell_type": "markdown",
      "metadata": {
        "id": "3IFv2Upacjeo",
        "colab_type": "text"
      },
      "source": [
        "##Gerando um vetor do tipo fator para a Variável target"
      ]
    },
    {
      "cell_type": "code",
      "metadata": {
        "id": "eAEvUsTMbQc3",
        "colab_type": "code",
        "colab": {}
      },
      "source": [
        "%%R\n",
        "play <- as.factor(c(\"Não Jogar\", \"Não Jogar\", \"Não Jogar\", \"Jogar\", \"Jogar\", \"Jogar\", \"Jogar\", \"Jogar\", \"Jogar\", \"Jogar\", \"Não Jogar\", \"Jogar\", \"Jogar\", \"Não Jogar\")) "
      ],
      "execution_count": 8,
      "outputs": []
    },
    {
      "cell_type": "markdown",
      "metadata": {
        "id": "bwm4FgT-ctb9",
        "colab_type": "text"
      },
      "source": [
        "##Criando DataFrame final"
      ]
    },
    {
      "cell_type": "code",
      "metadata": {
        "id": "qtnEQNricvIi",
        "colab_type": "code",
        "colab": {}
      },
      "source": [
        "%%R\n",
        "# retornar todas as linhas que tenham como índice o vetor response e todas as colunas.\n",
        "tennis <- data.frame(clima[response,], play)\n",
        "# View(tennis)"
      ],
      "execution_count": 9,
      "outputs": []
    },
    {
      "cell_type": "markdown",
      "metadata": {
        "id": "ekOxazfzc3a5",
        "colab_type": "text"
      },
      "source": [
        "##Carregando pacote rpart"
      ]
    },
    {
      "cell_type": "code",
      "metadata": {
        "id": "ta-pY703c8hs",
        "colab_type": "code",
        "colab": {}
      },
      "source": [
        "%%R\n",
        "install.packages(\"rpart\")\n",
        "library(rpart) "
      ],
      "execution_count": null,
      "outputs": []
    },
    {
      "cell_type": "markdown",
      "metadata": {
        "id": "McikHb9gc-8X",
        "colab_type": "text"
      },
      "source": [
        "##Criando modelo"
      ]
    },
    {
      "cell_type": "code",
      "metadata": {
        "id": "e0cpP-A6dASm",
        "colab_type": "code",
        "colab": {}
      },
      "source": [
        "%%R\n",
        "# Criando o modelo\n",
        "?rpart\n",
        "?rpart.control\n",
        "tennis_tree <- rpart(play ~ ., \n",
        "                     data = tennis, \n",
        "                     method = \"class\", \n",
        "                     parms = list(split = \"information\"), \n",
        "                     control = rpart.control(minsplit = 1))"
      ],
      "execution_count": 11,
      "outputs": []
    },
    {
      "cell_type": "markdown",
      "metadata": {
        "id": "kslsRsjVdjMF",
        "colab_type": "text"
      },
      "source": [
        "##Visualizando ganho de informação para cada atributo"
      ]
    },
    {
      "cell_type": "code",
      "metadata": {
        "id": "rHo4YIMIdm_U",
        "colab_type": "code",
        "colab": {
          "base_uri": "https://localhost:8080/",
          "height": 337
        },
        "outputId": "1e32a184-a86b-4580-d1a6-d99256fe3258"
      },
      "source": [
        "%%R\n",
        "# Visualizando o ganho de informação para cada atributo\n",
        "tennis_tree "
      ],
      "execution_count": 12,
      "outputs": [
        {
          "output_type": "stream",
          "text": [
            "n= 14 \n",
            "\n",
            "node), split, n, loss, yval, (yprob)\n",
            "      * denotes terminal node\n",
            "\n",
            " 1) root 14 5 Jogar (0.6428571 0.3571429)  \n",
            "   2) Tempo=Nublado 4 0 Jogar (1.0000000 0.0000000) *\n",
            "   3) Tempo=Ensolarado,Chuvoso 10 5 Jogar (0.5000000 0.5000000)  \n",
            "     6) Humidade=Normal 5 1 Jogar (0.8000000 0.2000000)  \n",
            "      12) Vento=Fraco 3 0 Jogar (1.0000000 0.0000000) *\n",
            "      13) Vento=Forte 2 1 Jogar (0.5000000 0.5000000)  \n",
            "        26) Tempo=Ensolarado 1 0 Jogar (1.0000000 0.0000000) *\n",
            "        27) Tempo=Chuvoso 1 0 Não Jogar (0.0000000 1.0000000) *\n",
            "     7) Humidade=Alta 5 1 Não Jogar (0.2000000 0.8000000)  \n",
            "      14) Tempo=Chuvoso 2 1 Jogar (0.5000000 0.5000000)  \n",
            "        28) Vento=Fraco 1 0 Jogar (1.0000000 0.0000000) *\n",
            "        29) Vento=Forte 1 0 Não Jogar (0.0000000 1.0000000) *\n",
            "      15) Tempo=Ensolarado 3 0 Não Jogar (0.0000000 1.0000000) *\n"
          ],
          "name": "stdout"
        }
      ]
    },
    {
      "cell_type": "markdown",
      "metadata": {
        "id": "wHJEl2QRdpAR",
        "colab_type": "text"
      },
      "source": [
        "##Gerando o plot de tennis tree\n"
      ]
    },
    {
      "cell_type": "code",
      "metadata": {
        "id": "oZYiA9CTdqmw",
        "colab_type": "code",
        "colab": {}
      },
      "source": [
        "%%R\n",
        "install.packages(\"rpart.plot\")\n",
        "library(rpart.plot) "
      ],
      "execution_count": null,
      "outputs": []
    },
    {
      "cell_type": "markdown",
      "metadata": {
        "id": "pHRKfK3dduZ-",
        "colab_type": "text"
      },
      "source": [
        "##Plot\n",
        "\n"
      ]
    },
    {
      "cell_type": "code",
      "metadata": {
        "id": "om6KoIRHdyeB",
        "colab_type": "code",
        "colab": {
          "base_uri": "https://localhost:8080/",
          "height": 497
        },
        "outputId": "d6d2b8ae-f50d-4905-8f10-f04e2482c91b"
      },
      "source": [
        "%%R\n",
        "?prp\n",
        "prp(tennis_tree, type = 0, extra = 1, under = TRUE, compress = TRUE)"
      ],
      "execution_count": 14,
      "outputs": [
        {
          "output_type": "display_data",
          "data": {
            "image/png": "[encoded data removed]"
          },
          "metadata": {
            "tags": []
          }
        }
      ]
    },
    {
      "cell_type": "markdown",
      "metadata": {
        "id": "oGZRihCId2Da",
        "colab_type": "text"
      },
      "source": [
        "##Interpretando a Árvore de Decisão"
      ]
    },
    {
      "cell_type": "markdown",
      "metadata": {
        "id": "KyOPgsaBd2AE",
        "colab_type": "text"
      },
      "source": [
        " Para ler os nós da árvore, basta iniciar a partir do nó superior, que corresponde aos dados de treinamento original e, em seguida, começar a ler as regras. \n",
        " \n",
        " Cada nó tem duas derivações: O ramo esquerdo significa que a regra superior é verdadeira  e a direita significa que ela é falsa.\n",
        "\n",
        " À esquerda da primeira regra, você vê uma regra terminal importante (uma folha terminal), em um círculo, indicando um resultado positivo, Jogar, que você pode ler como jogar tênis = Verdadeiro.\n",
        " \n",
        " Os números sob a folha terminal mostram quatro exemplos afirmando que esta regra é \"yes\" e zero afirmando \"no\".\n",
        "\n",
        "Considerando o atributo \"Vento\" que pode ter os valores \"Fraco\" ou \"Forte\". Calcula-se então a entropia para cada um desses valores e depois a diferença entre a entropia do atributo vento e a soma das entropias de cada um dos valores associados ao atributo, multiplicado pela proporção de exemplos particionados de acordo com o valor (separados de um lado os exemplos com Vento = \"Fraco\" e do outro lado Vento = \"Forte\").\n",
        "\n",
        "Frequentemente, as regras de árvore de decisão não são imediatamente utilizáveis, e você precisa interpretá-las antes do uso. No entanto, eles são claramente inteligíveis (e muito melhor do que um coeficiente de vetores de valores).\n"
      ]
    },
    {
      "cell_type": "markdown",
      "metadata": {
        "id": "v4DjyJt0evum",
        "colab_type": "text"
      },
      "source": [
        "##Fazendo previsões com o modelo"
      ]
    },
    {
      "cell_type": "code",
      "metadata": {
        "id": "VSrKfWCke1r8",
        "colab_type": "code",
        "colab": {}
      },
      "source": [
        "%%R\n",
        "clima <- expand.grid(Tempo = c(\"Ensolarado\",\"Nublado\",\"Chuvoso\"), \n",
        "                           Temperatura = c(\"Quente\",\"Ameno\",\"Frio\"), \n",
        "                           Humidade = c(\"Alta\",\"Normal\"), \n",
        "                           Vento = c(\"Fraco\",\"Forte\")) "
      ],
      "execution_count": 15,
      "outputs": []
    },
    {
      "cell_type": "markdown",
      "metadata": {
        "id": "ZalNwhI0e5Me",
        "colab_type": "text"
      },
      "source": [
        "##Vetor para seleionar as linhas"
      ]
    },
    {
      "cell_type": "code",
      "metadata": {
        "id": "oMYlR_N-e4Sz",
        "colab_type": "code",
        "colab": {}
      },
      "source": [
        "%%R\n",
        "response <- c(2, 20, 3, 33, 17, 4, 5)"
      ],
      "execution_count": 16,
      "outputs": []
    },
    {
      "cell_type": "markdown",
      "metadata": {
        "id": "fOY98R8sfBAt",
        "colab_type": "text"
      },
      "source": [
        "##Novos dados"
      ]
    },
    {
      "cell_type": "code",
      "metadata": {
        "id": "sPTJElNafCla",
        "colab_type": "code",
        "colab": {}
      },
      "source": [
        "%%R\n",
        "novos_dados <- data.frame(clima[response,])\n",
        "#View(novos_dados)"
      ],
      "execution_count": 17,
      "outputs": []
    },
    {
      "cell_type": "markdown",
      "metadata": {
        "id": "azw3wx6nfFQy",
        "colab_type": "text"
      },
      "source": [
        "##Previsões"
      ]
    },
    {
      "cell_type": "code",
      "metadata": {
        "id": "8nzcauj1fHAP",
        "colab_type": "code",
        "colab": {
          "base_uri": "https://localhost:8080/",
          "height": 159
        },
        "outputId": "e8b33bb1-8d0f-40c8-91ef-e80c30fb24ef"
      },
      "source": [
        "%%R\n",
        "#?predict\n",
        "predict(tennis_tree, novos_dados)"
      ],
      "execution_count": 18,
      "outputs": [
        {
          "output_type": "stream",
          "text": [
            "   Jogar Não Jogar\n",
            "2      1         0\n",
            "20     1         0\n",
            "3      1         0\n",
            "33     0         1\n",
            "17     1         0\n",
            "4      0         1\n",
            "5      1         0\n"
          ],
          "name": "stdout"
        }
      ]
    }
  ]
}