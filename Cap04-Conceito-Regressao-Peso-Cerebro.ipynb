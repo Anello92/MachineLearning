{
 "cells": [
  {
   "cell_type": "markdown",
   "metadata": {},
   "source": [
    "# <font color='blue'>Machine Learning</font>\n",
    "\n",
    "# <font color='blue'>Capítulo 4 - Regressão</font>"
   ]
  },
  {
   "cell_type": "markdown",
   "metadata": {},
   "source": [
    "#### Exercício: \n",
    "\n",
    "Parte 1: Desenvolva o código necessário para a **fórmula básica da regressão linear simples, calculando os coeficientes.**\n",
    "\n",
    "Parte 2: Use o modelo para fazer previsões. **O modelo é o conjunto de coeficientes.** Primeiramente vamos calcular os coeficientes, depois usar os prórprios coeficientes para fazer previsões com o modelo."
   ]
  },
  {
   "cell_type": "markdown",
   "metadata": {},
   "source": [
    "O dataset abaixo contém dados sobre **medidas da cabeça de seres humanos e o peso do cérebro.** Seu trabalho é criar um **modelo de regressão linear simples** que receba uma medida como entrada e faça a **previsão do peso do cérebro!**"
   ]
  },
  {
   "cell_type": "code",
   "execution_count": 1,
   "metadata": {},
   "outputs": [],
   "source": [
    "# Imports\n",
    "import numpy as np # Ferramenta de Recursos Matemático em Python\n",
    "import pandas as pd # Pandas para importar o dataset"
   ]
  },
  {
   "cell_type": "code",
   "execution_count": 2,
   "metadata": {},
   "outputs": [
    {
     "data": {
      "text/html": [
       "<div>\n",
       "<style scoped>\n",
       "    .dataframe tbody tr th:only-of-type {\n",
       "        vertical-align: middle;\n",
       "    }\n",
       "\n",
       "    .dataframe tbody tr th {\n",
       "        vertical-align: top;\n",
       "    }\n",
       "\n",
       "    .dataframe thead th {\n",
       "        text-align: right;\n",
       "    }\n",
       "</style>\n",
       "<table border=\"1\" class=\"dataframe\">\n",
       "  <thead>\n",
       "    <tr style=\"text-align: right;\">\n",
       "      <th></th>\n",
       "      <th>Sexo</th>\n",
       "      <th>Grupo</th>\n",
       "      <th>Head Size</th>\n",
       "      <th>Brain Weight</th>\n",
       "    </tr>\n",
       "  </thead>\n",
       "  <tbody>\n",
       "    <tr>\n",
       "      <th>0</th>\n",
       "      <td>1</td>\n",
       "      <td>1</td>\n",
       "      <td>4512</td>\n",
       "      <td>1530</td>\n",
       "    </tr>\n",
       "    <tr>\n",
       "      <th>1</th>\n",
       "      <td>1</td>\n",
       "      <td>1</td>\n",
       "      <td>3738</td>\n",
       "      <td>1297</td>\n",
       "    </tr>\n",
       "    <tr>\n",
       "      <th>2</th>\n",
       "      <td>1</td>\n",
       "      <td>1</td>\n",
       "      <td>4261</td>\n",
       "      <td>1335</td>\n",
       "    </tr>\n",
       "    <tr>\n",
       "      <th>3</th>\n",
       "      <td>1</td>\n",
       "      <td>1</td>\n",
       "      <td>3777</td>\n",
       "      <td>1282</td>\n",
       "    </tr>\n",
       "    <tr>\n",
       "      <th>4</th>\n",
       "      <td>1</td>\n",
       "      <td>1</td>\n",
       "      <td>4177</td>\n",
       "      <td>1590</td>\n",
       "    </tr>\n",
       "  </tbody>\n",
       "</table>\n",
       "</div>"
      ],
      "text/plain": [
       "   Sexo  Grupo  Head Size  Brain Weight\n",
       "0     1      1       4512          1530\n",
       "1     1      1       3738          1297\n",
       "2     1      1       4261          1335\n",
       "3     1      1       3777          1282\n",
       "4     1      1       4177          1590"
      ]
     },
     "execution_count": 2,
     "metadata": {},
     "output_type": "execute_result"
    }
   ],
   "source": [
    "# Carregando os dados com Pandas\n",
    "data = pd.read_csv('dados/pesos2.csv')\n",
    "data.head()\n",
    "\n",
    "# Sexo e Grupo para esta análise são redundantes\n",
    "# O importante para analisar é a relação entre X e y"
   ]
  },
  {
   "cell_type": "markdown",
   "metadata": {},
   "source": [
    "## Definindo variáveis X e *y*"
   ]
  },
  {
   "cell_type": "code",
   "execution_count": 3,
   "metadata": {},
   "outputs": [],
   "source": [
    "# Definindo variáveis x e y\n",
    "X = data['Head Size'].values     # Tamanho da cabeça é variável X\n",
    "Y = data['Brain Weight'].values  # Peso do cérebro é variável y"
   ]
  },
  {
   "cell_type": "markdown",
   "metadata": {},
   "source": [
    "## Calculando Coeficientes"
   ]
  },
  {
   "cell_type": "code",
   "execution_count": 4,
   "metadata": {},
   "outputs": [
    {
     "name": "stdout",
     "output_type": "stream",
     "text": [
      "325.57342104944223 0.26342933948939945\n"
     ]
    }
   ],
   "source": [
    "# Calculando os Coeficientes\n",
    "\n",
    "# Média de x e y para aplicar à fórmula de cálculo do coeficientes\n",
    "mean_x = np.mean(X)\n",
    "mean_y = np.mean(Y)\n",
    "\n",
    "# Número total de valores, contagem de linhas com a função len()\n",
    "# X representa o conjunto de valores da variável Exploratória\n",
    "n = len(X)\n",
    "\n",
    "# Usando a fórmula para calcular a e b\n",
    "numer = 0 # iniciando Numerador em 0\n",
    "denom = 0 # iniciando Denominador em 0\n",
    "\n",
    "# Loop For para repetir uma operação várias vezes\n",
    "# Loop alimenta o Numerador e Denominador\n",
    "\n",
    "# MÉTODO DOS MÍNIMOS QUADRADOS\n",
    "for i in range(n): # repetir o loop o número \"n\" de vezes\n",
    "    numer += (X[i] - mean_x) * (Y[i] - mean_y)\n",
    "    denom += (X[i] - mean_x) ** 2\n",
    "    \n",
    "# Quando começamos a execução o valor da variável é 0\n",
    "# O cálculo é feito, e soma o resultado ao 0 inicial gravando na variável\n",
    "# O cálculo é a diferença de X e a média de X\n",
    "\n",
    "b = numer / denom\n",
    "a = mean_y - (b * mean_x)\n",
    "\n",
    "# Imprimindo os coeficientes\n",
    "print(a, b)"
   ]
  },
  {
   "cell_type": "code",
   "execution_count": 5,
   "metadata": {},
   "outputs": [
    {
     "name": "stdout",
     "output_type": "stream",
     "text": [
      "O peso do cérebro é: 1482.57\n"
     ]
    }
   ],
   "source": [
    "# Fazendo previsões com o Modelo\n",
    "\n",
    "# Fórmula\n",
    "# y = a + bx\n",
    "\n",
    "y = 325.57 + (0.26 * 4450)\n",
    "print(\"O peso do cérebro em gramas é:\", y)"
   ]
  }
 ],
 "metadata": {
  "kernelspec": {
   "display_name": "Python 3",
   "language": "python",
   "name": "python3"
  },
  "language_info": {
   "codemirror_mode": {
    "name": "ipython",
    "version": 3
   },
   "file_extension": ".py",
   "mimetype": "text/x-python",
   "name": "python",
   "nbconvert_exporter": "python",
   "pygments_lexer": "ipython3",
   "version": "3.7.6"
  }
 },
 "nbformat": 4,
 "nbformat_minor": 2
}
