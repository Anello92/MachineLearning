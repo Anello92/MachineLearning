{
  "nbformat": 4,
  "nbformat_minor": 0,
  "metadata": {
    "colab": {
      "name": "Cap02-Features-Engineering-Categorical-Variables.ipynb",
      "provenance": [],
      "collapsed_sections": [
        "3ijj22N6Ox5e",
        "2dT3WITmPAID",
        "AZooof-dQtXY",
        "kYS0dvbWReE6"
      ]
    },
    "kernelspec": {
      "name": "python3",
      "display_name": "Python 3"
    }
  },
  "cells": [
    {
      "cell_type": "code",
      "metadata": {
        "id": "EPBp_y6uE-uf",
        "colab_type": "code",
        "outputId": "fed15480-c993-4880-e1b0-775a75d67f90",
        "colab": {
          "base_uri": "https://localhost:8080/",
          "height": 50
        }
      },
      "source": [
        "# Activate R magic\n",
        "%load_ext rpy2.ipython"
      ],
      "execution_count": 6,
      "outputs": [
        {
          "output_type": "stream",
          "text": [
            "The rpy2.ipython extension is already loaded. To reload it, use:\n",
            "  %reload_ext rpy2.ipython\n"
          ],
          "name": "stdout"
        }
      ]
    },
    {
      "cell_type": "code",
      "metadata": {
        "id": "fq1yFP_1L7DD",
        "colab_type": "code",
        "colab": {}
      },
      "source": [
        "# Problemas com acentuação, consultar este link:\n",
        "# https://support.rstudio.com/hc/en-us/articles/200532197-Character-Encoding"
      ],
      "execution_count": 0,
      "outputs": []
    },
    {
      "cell_type": "code",
      "metadata": {
        "id": "9uZ5OizZLzRO",
        "colab_type": "code",
        "colab": {}
      },
      "source": [
        "# Importar imagens\n",
        "from google.colab import files\n",
        "from IPython.display import Image"
      ],
      "execution_count": 0,
      "outputs": []
    },
    {
      "cell_type": "code",
      "metadata": {
        "id": "nDNj5d8kNKJD",
        "colab_type": "code",
        "colab": {}
      },
      "source": [
        "# Configurar o diretório de trabalho\n",
        "setwd(\"~/Dropbox/DSA/BigDataAnalytics-R-Azure/Projetos/Mini-Projeto04\")\n",
        "getwd()"
      ],
      "execution_count": 0,
      "outputs": []
    },
    {
      "cell_type": "markdown",
      "metadata": {
        "id": "scbUepbyiJdW",
        "colab_type": "text"
      },
      "source": [
        "---"
      ]
    },
    {
      "cell_type": "markdown",
      "metadata": {
        "id": "YZlwrnF4MCe9",
        "colab_type": "text"
      },
      "source": [
        "##**Features Engineering com Variáveis Categóricas**\n"
      ]
    },
    {
      "cell_type": "markdown",
      "metadata": {
        "id": "h0cUsgKvMCct",
        "colab_type": "text"
      },
      "source": [
        " - Os modelos de aprendizado de máquina têm dificuldade em interpretar dados categóricos;\n",
        "\n",
        " - Contudo, a engenharia de recursos nos permite **re-contextualizar**, mudando apenas a **forma** de como a informação está sendo representada em um variável, ou seja, **re-contextualizar** nossos dados categóricos para melhorar o rigor de nossos modelos de Machine Learning;\n",
        "\n",
        " - O que queremos **na prática é encontar alternativas de representar a informação que está na Variável Categórica mas de forma Numérica** sem perder o teor e contenxto daquela informação. \n",
        " \n",
        " -  A engenharia de recursos também fornece camadas adicionais de **perspectiva** para a análise de dados.\n",
        "\n",
        " - Quando aplicamos a **Engenharia de Atributos** é uma forma também de olharmos os dados por ângulos diferentes, mesmo que decidamos talvez não usar a transformação. \n",
        " \n",
        " - A grande questão que as abordagens de engenharia de recursos resolvem é: como utilizar meus dados de maneiras interessantes e inteligentes para torná-los muito **mais úteis.**"
      ]
    },
    {
      "cell_type": "markdown",
      "metadata": {
        "id": "eLs3C8ugiHdy",
        "colab_type": "text"
      },
      "source": [
        "---"
      ]
    },
    {
      "cell_type": "markdown",
      "metadata": {
        "id": "6sdqQFtAMCaG",
        "colab_type": "text"
      },
      "source": [
        "## Engenharia de Recursos\n",
        "\n",
        "- A engenharia de recursos não trata de limpar dados, remover valores nulos ou outras tarefas semelhantes (isso é Data Wrangling).\n",
        "\n",
        "- No momentos que definimos o problema de negócio e coletamos os dados, começa o trabalho de Pré-Processamento, em geral começamos com limpeza e tratamento dos dados, isso é o Data Wrangling. Depois desssa etapa **aplicamos a Engenharia de Atributos**. \n",
        "\n",
        "- Por último fazemos a **seleção de variáveis** para escolher as melhores variáveis para treinar o modelo preditivo. \n",
        "\n",
        "1. Problema de Negócio\n",
        "2. Coleta de Dados\n",
        "3. Limpeza e Tratamento de Dados\n",
        "4. Engenharia de Atributos e Recontenxtualização de Dados\n",
        "5. Seleção de Variáveis redundantes\n",
        "\n",
        "- A engenharia de recursos tem a ver com a alteração de variáveis para melhorar a história que elas contam. "
      ]
    },
    {
      "cell_type": "markdown",
      "metadata": {
        "id": "Ty-77FodiFe1",
        "colab_type": "text"
      },
      "source": [
        "---"
      ]
    },
    {
      "cell_type": "markdown",
      "metadata": {
        "id": "pCOjckkXTAse",
        "colab_type": "text"
      },
      "source": [
        "## Dataset com Dados Bancários de usuários:\n",
        "\n",
        "Dataset: http://archive.ics.uci.edu/ml/machine-learning-databases/00222/bank.zip\n",
        "\n",
        "Repositório **UCI**"
      ]
    },
    {
      "cell_type": "code",
      "metadata": {
        "id": "K32AbHJGMCLT",
        "colab_type": "code",
        "colab": {
          "base_uri": "https://localhost:8080/",
          "height": 251
        },
        "outputId": "8abe1b2f-88af-44a9-df51-693c6f67d491"
      },
      "source": [
        "%%R\n",
        "# Carregando os dados\n",
        "dataset_bank <- read.table(\"bank-full.csv\", header = TRUE, sep = \";\")\n",
        "\n",
        "# View(dataset_bank)\n",
        "head(dataset_bank)"
      ],
      "execution_count": 10,
      "outputs": [
        {
          "output_type": "stream",
          "text": [
            "  age          job marital education default balance housing loan contact day\n",
            "1  58   management married  tertiary      no    2143     yes   no unknown   5\n",
            "2  44   technician  single secondary      no      29     yes   no unknown   5\n",
            "3  33 entrepreneur married secondary      no       2     yes  yes unknown   5\n",
            "4  47  blue-collar married   unknown      no    1506     yes   no unknown   5\n",
            "5  33      unknown  single   unknown      no       1      no   no unknown   5\n",
            "6  35   management married  tertiary      no     231     yes   no unknown   5\n",
            "  month duration campaign pdays previous poutcome  y\n",
            "1   may      261        1    -1        0  unknown no\n",
            "2   may      151        1    -1        0  unknown no\n",
            "3   may       76        1    -1        0  unknown no\n",
            "4   may       92        1    -1        0  unknown no\n",
            "5   may      198        1    -1        0  unknown no\n",
            "6   may      139        1    -1        0  unknown no\n"
          ],
          "name": "stdout"
        }
      ]
    },
    {
      "cell_type": "markdown",
      "metadata": {
        "id": "VQ4ZVAtzh3wU",
        "colab_type": "text"
      },
      "source": [
        "### O que podemos fazer para transformar as variáveis categóricas do dataset em numéricas sem perder o mesmo nível de informação?"
      ]
    },
    {
      "cell_type": "markdown",
      "metadata": {
        "id": "208vK6egiDor",
        "colab_type": "text"
      },
      "source": [
        "---"
      ]
    },
    {
      "cell_type": "markdown",
      "metadata": {
        "id": "oIFgQQnITYK7",
        "colab_type": "text"
      },
      "source": [
        "##**Criar nova coluna do zero ou Combinar duas colunas existentes**\n",
        "\n",
        "- Muitas vezes, quando usamos dados categóricos como preditores, podemos achar que alguns dos níveis dessa variável têm uma **ocorrência muito escassa** ou que os **níveis das variáveis são seriamente redundantes.**\n",
        "\n",
        "- Qualquer decisão tomada para começar a agrupar os níveis de variáveis deve ser estrategicamente orientada.\n",
        "\n",
        "- Um bom começo aqui para ambas as abordagens é a **função table() em R.**\n",
        "table(dataset_bank$job). Verificar a quantidade de elementos em cada um dos valores da coluna job.\n",
        "\n"
      ]
    },
    {
      "cell_type": "code",
      "metadata": {
        "id": "UTYJ2dXmjpMl",
        "colab_type": "code",
        "colab": {
          "base_uri": "https://localhost:8080/",
          "height": 134
        },
        "outputId": "855404fb-f0ec-4c02-e93f-df5ee30f9a16"
      },
      "source": [
        "%%R\n",
        "table(dataset_bank$job)"
      ],
      "execution_count": 11,
      "outputs": [
        {
          "output_type": "stream",
          "text": [
            "\n",
            "       admin.   blue-collar  entrepreneur     housemaid    management \n",
            "         5171          9732          1487          1240          9458 \n",
            "      retired self-employed      services       student    technician \n",
            "         2264          1579          4154           938          7597 \n",
            "   unemployed       unknown \n",
            "         1303           288 \n"
          ],
          "name": "stdout"
        }
      ]
    },
    {
      "cell_type": "markdown",
      "metadata": {
        "id": "FR5tJlosjnMg",
        "colab_type": "text"
      },
      "source": [
        "- A ideia seria identificar a ocorrência de um nível com poucos registros ou alternativamente compartimentos que parecem mais indicativos do que os dados estão tentando informar.\n",
        "\n",
        "- Às vezes, uma tabela é um pouco mais difícil de inferir; portanto, **jogar isso em um gráfico de barras pode ser mais fácil.**"
      ]
    },
    {
      "cell_type": "code",
      "metadata": {
        "id": "YtX0ljFgMCIV",
        "colab_type": "code",
        "colab": {}
      },
      "source": [
        "%%R\n",
        "install.packages(\"dplyr\")  # pacote muito útil para manipulação de dados\n",
        "install.packages(\"ggplot2\")\n",
        "library(dplyr)\n",
        "library(ggplot2)"
      ],
      "execution_count": 0,
      "outputs": []
    },
    {
      "cell_type": "markdown",
      "metadata": {
        "id": "GBF23qfxkcRc",
        "colab_type": "text"
      },
      "source": [
        "## Criar Gráfico retratando a quantidade por ocupação/job"
      ]
    },
    {
      "cell_type": "code",
      "metadata": {
        "id": "mOAXAo9jMCGV",
        "colab_type": "code",
        "colab": {
          "base_uri": "https://localhost:8080/",
          "height": 550
        },
        "outputId": "a4e0588e-7d99-462d-81b0-64aee2c20a84"
      },
      "source": [
        "%%R\n",
        "dataset_bank %>%                 # indicar dataset\n",
        "  group_by(job)%>%               # agrupar pela coluna\n",
        "  summarise(n = n())%>%          # sumarizar pela quantidade\n",
        "  ggplot(aes(x = job, y = n))+   # plotar\n",
        "  geom_bar(stat = \"identity\")+\n",
        "  theme(axis.text.x = element_text(angle = 90, hjust = 1))"
      ],
      "execution_count": 13,
      "outputs": [
        {
          "output_type": "stream",
          "text": [
            "R[write to console]: `summarise()` ungrouping output (override with `.groups` argument)\n",
            "\n"
          ],
          "name": "stderr"
        },
        {
          "output_type": "display_data",
          "data": {
            "image/png": "[encoded data removed]"
          },
          "metadata": {
            "tags": []
          }
        }
      ]
    },
    {
      "cell_type": "markdown",
      "metadata": {
        "id": "ip9MK6TlUj3j",
        "colab_type": "text"
      },
      "source": [
        " - Para esse estudo de caso, digamos que realmente queremos entender a profissão (job) de acordo com o uso da tecnologia em uma determinada função. \n",
        " \n",
        " - Nesse caso, começaríamos a **classificar cada uma das profissões em nível médio, alto e baixo em termos de uso de tecnologia.**\n",
        "\n",
        " - Uma função que podemos usar é a **mutate do dplyr** é muito útil quando você está **reatribuindo muitos níveis diferentes** de uma variável, em vez de usar alguma função ifelse aninhada. \n",
        "\n",
        "-  A função **mutate()** também é muito útil ao **converter variáveis numéricas em dados categóricos.**"
      ]
    },
    {
      "cell_type": "markdown",
      "metadata": {
        "id": "ozRNr3-IlDEQ",
        "colab_type": "text"
      },
      "source": [
        "## Queremos adicionar o nível requerido de informática por job\n",
        "\n",
        "Função case_when() - Quando Job for \"admin\", determinar nível \"medio\""
      ]
    },
    {
      "cell_type": "code",
      "metadata": {
        "id": "hO6plW13VSWj",
        "colab_type": "code",
        "colab": {
          "base_uri": "https://localhost:8080/",
          "height": 251
        },
        "outputId": "d0a53df8-395a-406c-a923-0b05b1a39e1a"
      },
      "source": [
        "%%R\n",
        "dataset_bank <- dataset_bank %>% # dataset\n",
        "  mutate(technology_use =        # mutate adicionando coluna technology_use\n",
        "           #de ~ para\n",
        "           case_when(job == 'admin' ~ \"medio\",\n",
        "                     job == 'blue-collar' ~ \"baixo\",\n",
        "                     job == 'entrepreneur' ~ \"alto\",\n",
        "                     job == 'housemaid' ~ \"baixo\",\n",
        "                     job == 'management' ~ \"medio\",\n",
        "                     job == 'retired' ~ \"baixo\",\n",
        "                     job == 'self-employed' ~ \"baixo\",\n",
        "                     job == 'services' ~ \"medio\",\n",
        "                     job == 'student' ~ \"alto\",\n",
        "                     job == 'technician' ~ \"alto\",\n",
        "                     job == 'unemployed' ~ \"baixo\",\n",
        "                     job == 'unknown' ~ \"baixo\"))\n",
        "\n",
        "head(dataset_bank)\n",
        "# View(dataset_bank)"
      ],
      "execution_count": 14,
      "outputs": [
        {
          "output_type": "stream",
          "text": [
            "  age          job marital education default balance housing loan contact day\n",
            "1  58   management married  tertiary      no    2143     yes   no unknown   5\n",
            "2  44   technician  single secondary      no      29     yes   no unknown   5\n",
            "3  33 entrepreneur married secondary      no       2     yes  yes unknown   5\n",
            "4  47  blue-collar married   unknown      no    1506     yes   no unknown   5\n",
            "5  33      unknown  single   unknown      no       1      no   no unknown   5\n",
            "6  35   management married  tertiary      no     231     yes   no unknown   5\n",
            "  month duration campaign pdays previous poutcome  y technology_use\n",
            "1   may      261        1    -1        0  unknown no          medio\n",
            "2   may      151        1    -1        0  unknown no           alto\n",
            "3   may       76        1    -1        0  unknown no           alto\n",
            "4   may       92        1    -1        0  unknown no          baixo\n",
            "5   may      198        1    -1        0  unknown no          baixo\n",
            "6   may      139        1    -1        0  unknown no          medio\n"
          ],
          "name": "stdout"
        }
      ]
    },
    {
      "cell_type": "markdown",
      "metadata": {
        "id": "hGFDE-qxVaOk",
        "colab_type": "text"
      },
      "source": [
        "- Como podemos ver acima, criamos um novo campo chamado technology_use e atribuímos a cada um valor de acordo com seu uso de tecnologia. \n",
        "\n",
        "- Poderiamos argumentar tarefas diferentes para cada uma delas, mas para este estudo de caso é suficiente.\n",
        "\n",
        "- Ao acrescentar uma variável podemos causar a incorrência de valores NA por não encontrar valores correspondentes.\n"
      ]
    },
    {
      "cell_type": "markdown",
      "metadata": {
        "id": "5rTKfu2vVyHg",
        "colab_type": "text"
      },
      "source": [
        "## Revisar novo campo **$technology_use** com as proporções de conhecimento em tecnologia"
      ]
    },
    {
      "cell_type": "code",
      "metadata": {
        "id": "jLI28bpWV5cx",
        "colab_type": "code",
        "colab": {
          "base_uri": "https://localhost:8080/",
          "height": 67
        },
        "outputId": "57eaa0be-1348-404b-ee58-8f7e6311e196"
      },
      "source": [
        "%%R\n",
        "# Agora vamos revisar rapidamente esse novo campo.\n",
        "table(dataset_bank$technology_use)"
      ],
      "execution_count": 15,
      "outputs": [
        {
          "output_type": "stream",
          "text": [
            "\n",
            " alto baixo medio \n",
            "10022 16406 13612 \n"
          ],
          "name": "stdout"
        }
      ]
    },
    {
      "cell_type": "markdown",
      "metadata": {
        "id": "JjRfhwHRV_If",
        "colab_type": "text"
      },
      "source": [
        "## Converter a percentual o table anterior\n",
        "rount(prop.table(table("
      ]
    },
    {
      "cell_type": "code",
      "metadata": {
        "id": "CT5NBmXBV5Zf",
        "colab_type": "code",
        "colab": {
          "base_uri": "https://localhost:8080/",
          "height": 67
        },
        "outputId": "0a123a06-8455-420c-f94d-c88b795d8222"
      },
      "source": [
        "%%R\n",
        "# Vamos colocar isso em percentual\n",
        "round(prop.table(table(dataset_bank$technology_use)),2)"
      ],
      "execution_count": 16,
      "outputs": [
        {
          "output_type": "stream",
          "text": [
            "\n",
            " alto baixo medio \n",
            " 0.25  0.41  0.34 \n"
          ],
          "name": "stdout"
        }
      ]
    },
    {
      "cell_type": "markdown",
      "metadata": {
        "id": "NhWY00OPoQY1",
        "colab_type": "text"
      },
      "source": [
        "---"
      ]
    },
    {
      "cell_type": "markdown",
      "metadata": {
        "id": "Uxe_0OLnXSU_",
        "colab_type": "text"
      },
      "source": [
        "## Variáveis Dummies - conversão/representação numérica de uma variável categórica. \n",
        "\n",
        "- Sempre que o valor padrão for sim, codificaremos para 1 e 0 caso contrário. \n",
        "\n",
        "- Para duas variáveis de nível mutuamente exclusivas, isso elimina a necessidade de uma coluna adicional, pois está implícito na primeira coluna.\n",
        "\n",
        "- A coluna default representa se um usuário passou ou não no cheque especial\n",
        "\n",
        "- Em vez de deixar os níveis da variável como \"sim\" e \"não\" codificaremos como uma **variável fictícia (dummy).**\n",
        "\n",
        "- As novas colunas são criadas com informações associadas às outras variáveis que já existem neste dataset."
      ]
    },
    {
      "cell_type": "markdown",
      "metadata": {
        "id": "iIwjSiStpFaQ",
        "colab_type": "text"
      },
      "source": [
        "### Representando \"default\" em valor Numérico na nova coluna \"defaulted\""
      ]
    },
    {
      "cell_type": "code",
      "metadata": {
        "id": "i4xV-qJyXwVh",
        "colab_type": "code",
        "colab": {
          "base_uri": "https://localhost:8080/",
          "height": 251
        },
        "outputId": "3ad2eed0-7d50-4f3f-fb70-f652652be15f"
      },
      "source": [
        "%%R\n",
        "dataset_bank <- dataset_bank %>%    \n",
        "  mutate(defaulted = ifelse(default  == \"yes\", 1, 0))\n",
        "                     # se o valor da coluna default for \"yes\", atribuir 1\n",
        "                     # caso contrário, atribuir 0 \n",
        "\n",
        "head(dataset_bank)\n",
        "#View(dataset_bank)"
      ],
      "execution_count": 17,
      "outputs": [
        {
          "output_type": "stream",
          "text": [
            "  age          job marital education default balance housing loan contact day\n",
            "1  58   management married  tertiary      no    2143     yes   no unknown   5\n",
            "2  44   technician  single secondary      no      29     yes   no unknown   5\n",
            "3  33 entrepreneur married secondary      no       2     yes  yes unknown   5\n",
            "4  47  blue-collar married   unknown      no    1506     yes   no unknown   5\n",
            "5  33      unknown  single   unknown      no       1      no   no unknown   5\n",
            "6  35   management married  tertiary      no     231     yes   no unknown   5\n",
            "  month duration campaign pdays previous poutcome  y technology_use defaulted\n",
            "1   may      261        1    -1        0  unknown no          medio         0\n",
            "2   may      151        1    -1        0  unknown no           alto         0\n",
            "3   may       76        1    -1        0  unknown no           alto         0\n",
            "4   may       92        1    -1        0  unknown no          baixo         0\n",
            "5   may      198        1    -1        0  unknown no          baixo         0\n",
            "6   may      139        1    -1        0  unknown no          medio         0\n"
          ],
          "name": "stdout"
        }
      ]
    },
    {
      "cell_type": "markdown",
      "metadata": {
        "id": "PEcK8weQppwA",
        "colab_type": "text"
      },
      "source": [
        "---"
      ]
    },
    {
      "cell_type": "markdown",
      "metadata": {
        "id": "RTGjwzePX4WA",
        "colab_type": "text"
      },
      "source": [
        "##**Codificação One-Hot Enconding** \n",
        "\n",
        "- Falamos sobre a criação de uma única coluna como uma variável dummy, mas devemos falar sobre a codificação one-hot. \n",
        "\n",
        "- Uma codificação One-Hot é efetivamente a mesma coisa que fizemos no item anterior, mas para variáveis de muitos níveis em que a coluna possui 0s em todas as linhas, exceto onde o valor corresponde à nova coluna, que seria 1.\n",
        "\n",
        "\n",
        "\n",
        "- **0000000001 - indica um valor**\n",
        "- **0000000010 - indica outro valor**\n"
      ]
    },
    {
      "cell_type": "code",
      "metadata": {
        "id": "PH2OdLiUYnVu",
        "colab_type": "code",
        "colab": {}
      },
      "source": [
        "%%R\n",
        "install.packages(\"caret\")\n",
        "library(caret)"
      ],
      "execution_count": 0,
      "outputs": []
    },
    {
      "cell_type": "markdown",
      "metadata": {
        "id": "BoUG1zMmssDb",
        "colab_type": "text"
      },
      "source": [
        "Como podemos converter a variável Color para seu correspondente numérico?\n",
        "\n",
        "Com um Vetor One-Hot podemos representarqualquer número de possibilidades para uma única variável. Assim convertemos a variável categórica para seu correspondente numérico.\n"
      ]
    },
    {
      "cell_type": "markdown",
      "metadata": {
        "id": "1Nsnq7NEt2yO",
        "colab_type": "text"
      },
      "source": [
        "dummyVars() - Cria um conjunto de variáveis Dummies que são os correspondente One-Hot enconding das variáveis categóricas. "
      ]
    },
    {
      "cell_type": "markdown",
      "metadata": {
        "id": "P0eLUu0XvIkv",
        "colab_type": "text"
      },
      "source": [
        "##Técnica para Conversão **dataset em Numérico**"
      ]
    },
    {
      "cell_type": "code",
      "metadata": {
        "id": "t2036izaYicd",
        "colab_type": "code",
        "colab": {
          "base_uri": "https://localhost:8080/",
          "height": 1000
        },
        "outputId": "e418b9c4-d686-4b43-cb31-8ff3c1b10667"
      },
      "source": [
        "%%R\n",
        "#?dummyVars\n",
        "dmy <- dummyVars(\" ~ .\", # todas as variáveis explanatórias do conjunto de dados\n",
        "                 data = dataset_bank) # conjunto de dados\n",
        "\n",
        "bank.dummies <- data.frame(predict(dmy, # aplicar a variável a um novo DataFrame\n",
        "                                   newdata = dataset_bank))\n",
        "\n",
        "head(bank.dummies)\n",
        "#View(bank.dummies)"
      ],
      "execution_count": 20,
      "outputs": [
        {
          "output_type": "stream",
          "text": [
            "  age job.admin. job.blue.collar job.entrepreneur job.housemaid job.management\n",
            "1  58          0               0                0             0              1\n",
            "2  44          0               0                0             0              0\n",
            "3  33          0               0                1             0              0\n",
            "4  47          0               1                0             0              0\n",
            "5  33          0               0                0             0              0\n",
            "6  35          0               0                0             0              1\n",
            "  job.retired job.self.employed job.services job.student job.technician\n",
            "1           0                 0            0           0              0\n",
            "2           0                 0            0           0              1\n",
            "3           0                 0            0           0              0\n",
            "4           0                 0            0           0              0\n",
            "5           0                 0            0           0              0\n",
            "6           0                 0            0           0              0\n",
            "  job.unemployed job.unknown marital.divorced marital.married marital.single\n",
            "1              0           0                0               1              0\n",
            "2              0           0                0               0              1\n",
            "3              0           0                0               1              0\n",
            "4              0           0                0               1              0\n",
            "5              0           1                0               0              1\n",
            "6              0           0                0               1              0\n",
            "  education.primary education.secondary education.tertiary education.unknown\n",
            "1                 0                   0                  1                 0\n",
            "2                 0                   1                  0                 0\n",
            "3                 0                   1                  0                 0\n",
            "4                 0                   0                  0                 1\n",
            "5                 0                   0                  0                 1\n",
            "6                 0                   0                  1                 0\n",
            "  default.no default.yes balance housing.no housing.yes loan.no loan.yes\n",
            "1          1           0    2143          0           1       1        0\n",
            "2          1           0      29          0           1       1        0\n",
            "3          1           0       2          0           1       0        1\n",
            "4          1           0    1506          0           1       1        0\n",
            "5          1           0       1          1           0       1        0\n",
            "6          1           0     231          0           1       1        0\n",
            "  contact.cellular contact.telephone contact.unknown day month.apr month.aug\n",
            "1                0                 0               1   5         0         0\n",
            "2                0                 0               1   5         0         0\n",
            "3                0                 0               1   5         0         0\n",
            "4                0                 0               1   5         0         0\n",
            "5                0                 0               1   5         0         0\n",
            "6                0                 0               1   5         0         0\n",
            "  month.dec month.feb month.jan month.jul month.jun month.mar month.may\n",
            "1         0         0         0         0         0         0         1\n",
            "2         0         0         0         0         0         0         1\n",
            "3         0         0         0         0         0         0         1\n",
            "4         0         0         0         0         0         0         1\n",
            "5         0         0         0         0         0         0         1\n",
            "6         0         0         0         0         0         0         1\n",
            "  month.nov month.oct month.sep duration campaign pdays previous\n",
            "1         0         0         0      261        1    -1        0\n",
            "2         0         0         0      151        1    -1        0\n",
            "3         0         0         0       76        1    -1        0\n",
            "4         0         0         0       92        1    -1        0\n",
            "5         0         0         0      198        1    -1        0\n",
            "6         0         0         0      139        1    -1        0\n",
            "  poutcome.failure poutcome.other poutcome.success poutcome.unknown y.no y.yes\n",
            "1                0              0                0                1    1     0\n",
            "2                0              0                0                1    1     0\n",
            "3                0              0                0                1    1     0\n",
            "4                0              0                0                1    1     0\n",
            "5                0              0                0                1    1     0\n",
            "6                0              0                0                1    1     0\n",
            "  technology_usealto technology_usebaixo technology_usemedio defaulted\n",
            "1                  0                   0                   1         0\n",
            "2                  1                   0                   0         0\n",
            "3                  1                   0                   0         0\n",
            "4                  0                   1                   0         0\n",
            "5                  0                   1                   0         0\n",
            "6                  0                   0                   1         0\n"
          ],
          "name": "stdout"
        }
      ]
    },
    {
      "cell_type": "markdown",
      "metadata": {
        "id": "bWy13qLjYzkO",
        "colab_type": "text"
      },
      "source": [
        "# Acima\n",
        "\n",
        "1. carregamos o pacote caret\n",
        "2. executamos a função dummyVars para todas as variáveis do dataset\n",
        "3. criamos um novo dataframe, com a conversão de todas as variáveis categóricas para numéricas. \n"
      ]
    },
    {
      "cell_type": "code",
      "metadata": {
        "id": "ySMrEMc0ZCiT",
        "colab_type": "code",
        "colab": {
          "base_uri": "https://localhost:8080/",
          "height": 987
        },
        "outputId": "5ccefd23-e8b2-4d6a-e816-5ea1e2eb741c"
      },
      "source": [
        "%%R\n",
        "str(bank.dummies)\n",
        "# View(dataset_bank)\n",
        "# View(bank.dummies)"
      ],
      "execution_count": 21,
      "outputs": [
        {
          "output_type": "stream",
          "text": [
            "'data.frame':\t45211 obs. of  57 variables:\n",
            " $ age                : num  58 44 33 47 33 35 28 42 58 43 ...\n",
            " $ job.admin.         : num  0 0 0 0 0 0 0 0 0 0 ...\n",
            " $ job.blue.collar    : num  0 0 0 1 0 0 0 0 0 0 ...\n",
            " $ job.entrepreneur   : num  0 0 1 0 0 0 0 1 0 0 ...\n",
            " $ job.housemaid      : num  0 0 0 0 0 0 0 0 0 0 ...\n",
            " $ job.management     : num  1 0 0 0 0 1 1 0 0 0 ...\n",
            " $ job.retired        : num  0 0 0 0 0 0 0 0 1 0 ...\n",
            " $ job.self.employed  : num  0 0 0 0 0 0 0 0 0 0 ...\n",
            " $ job.services       : num  0 0 0 0 0 0 0 0 0 0 ...\n",
            " $ job.student        : num  0 0 0 0 0 0 0 0 0 0 ...\n",
            " $ job.technician     : num  0 1 0 0 0 0 0 0 0 1 ...\n",
            " $ job.unemployed     : num  0 0 0 0 0 0 0 0 0 0 ...\n",
            " $ job.unknown        : num  0 0 0 0 1 0 0 0 0 0 ...\n",
            " $ marital.divorced   : num  0 0 0 0 0 0 0 1 0 0 ...\n",
            " $ marital.married    : num  1 0 1 1 0 1 0 0 1 0 ...\n",
            " $ marital.single     : num  0 1 0 0 1 0 1 0 0 1 ...\n",
            " $ education.primary  : num  0 0 0 0 0 0 0 0 1 0 ...\n",
            " $ education.secondary: num  0 1 1 0 0 0 0 0 0 1 ...\n",
            " $ education.tertiary : num  1 0 0 0 0 1 1 1 0 0 ...\n",
            " $ education.unknown  : num  0 0 0 1 1 0 0 0 0 0 ...\n",
            " $ default.no         : num  1 1 1 1 1 1 1 0 1 1 ...\n",
            " $ default.yes        : num  0 0 0 0 0 0 0 1 0 0 ...\n",
            " $ balance            : num  2143 29 2 1506 1 ...\n",
            " $ housing.no         : num  0 0 0 0 1 0 0 0 0 0 ...\n",
            " $ housing.yes        : num  1 1 1 1 0 1 1 1 1 1 ...\n",
            " $ loan.no            : num  1 1 0 1 1 1 0 1 1 1 ...\n",
            " $ loan.yes           : num  0 0 1 0 0 0 1 0 0 0 ...\n",
            " $ contact.cellular   : num  0 0 0 0 0 0 0 0 0 0 ...\n",
            " $ contact.telephone  : num  0 0 0 0 0 0 0 0 0 0 ...\n",
            " $ contact.unknown    : num  1 1 1 1 1 1 1 1 1 1 ...\n",
            " $ day                : num  5 5 5 5 5 5 5 5 5 5 ...\n",
            " $ month.apr          : num  0 0 0 0 0 0 0 0 0 0 ...\n",
            " $ month.aug          : num  0 0 0 0 0 0 0 0 0 0 ...\n",
            " $ month.dec          : num  0 0 0 0 0 0 0 0 0 0 ...\n",
            " $ month.feb          : num  0 0 0 0 0 0 0 0 0 0 ...\n",
            " $ month.jan          : num  0 0 0 0 0 0 0 0 0 0 ...\n",
            " $ month.jul          : num  0 0 0 0 0 0 0 0 0 0 ...\n",
            " $ month.jun          : num  0 0 0 0 0 0 0 0 0 0 ...\n",
            " $ month.mar          : num  0 0 0 0 0 0 0 0 0 0 ...\n",
            " $ month.may          : num  1 1 1 1 1 1 1 1 1 1 ...\n",
            " $ month.nov          : num  0 0 0 0 0 0 0 0 0 0 ...\n",
            " $ month.oct          : num  0 0 0 0 0 0 0 0 0 0 ...\n",
            " $ month.sep          : num  0 0 0 0 0 0 0 0 0 0 ...\n",
            " $ duration           : num  261 151 76 92 198 139 217 380 50 55 ...\n",
            " $ campaign           : num  1 1 1 1 1 1 1 1 1 1 ...\n",
            " $ pdays              : num  -1 -1 -1 -1 -1 -1 -1 -1 -1 -1 ...\n",
            " $ previous           : num  0 0 0 0 0 0 0 0 0 0 ...\n",
            " $ poutcome.failure   : num  0 0 0 0 0 0 0 0 0 0 ...\n",
            " $ poutcome.other     : num  0 0 0 0 0 0 0 0 0 0 ...\n",
            " $ poutcome.success   : num  0 0 0 0 0 0 0 0 0 0 ...\n",
            " $ poutcome.unknown   : num  1 1 1 1 1 1 1 1 1 1 ...\n",
            " $ y.no               : num  1 1 1 1 1 1 1 1 1 1 ...\n",
            " $ y.yes              : num  0 0 0 0 0 0 0 0 0 0 ...\n",
            " $ technology_usealto : num  0 1 1 0 0 0 0 1 0 1 ...\n",
            " $ technology_usebaixo: num  0 0 0 1 1 0 0 0 1 0 ...\n",
            " $ technology_usemedio: num  1 0 0 0 0 1 1 0 0 0 ...\n",
            " $ defaulted          : num  0 0 0 0 0 0 0 1 0 0 ...\n"
          ],
          "name": "stdout"
        }
      ]
    },
    {
      "cell_type": "markdown",
      "metadata": {
        "id": "YTgzfUG6ZQh4",
        "colab_type": "text"
      },
      "source": [
        "Não incluímos todas as colunas, podemos ver que isso deixou a coluna idade (age) no formato original.\n"
      ]
    },
    {
      "cell_type": "markdown",
      "metadata": {
        "id": "JXTYTgGbZa5L",
        "colab_type": "text"
      },
      "source": [
        "##**Combinando Recursos ou Cruzamento de Recursos**\n",
        "\n",
        "- O cruzamento de recursos é onde **combinamos diversas variáveis.**\n",
        "\n",
        "- Às vezes, a combinação de variáveis pode produzir um **desempenho preditivo** que executa o que eles poderiam fazer isoladamente.\n",
        "\n",
        "- Assim, podemos fazer um agrupamento por duas variáveis por exemplo, com a devida contagem abaixo:\n"
      ]
    },
    {
      "cell_type": "code",
      "metadata": {
        "id": "UPyplqx6Z_t0",
        "colab_type": "code",
        "colab": {
          "base_uri": "https://localhost:8080/",
          "height": 321
        },
        "outputId": "7a28ccf3-db79-42ce-93f5-d692b2b7d51a"
      },
      "source": [
        "%%R\n",
        "  dataset_bank %>%            #dataset\n",
        "  group_by(job, marital) %>%  #agrupar/combinar o dataset por ocupação e estado civil\n",
        "  summarise(n = n())          #sumarizar por total de ocorrência dessa COMBINAÇÂO"
      ],
      "execution_count": 22,
      "outputs": [
        {
          "output_type": "stream",
          "text": [
            "R[write to console]: `summarise()` regrouping output by 'job' (override with `.groups` argument)\n",
            "\n"
          ],
          "name": "stderr"
        },
        {
          "output_type": "stream",
          "text": [
            "# A tibble: 36 x 3\n",
            "# Groups:   job [12]\n",
            "   job          marital      n\n",
            "   <fct>        <fct>    <int>\n",
            " 1 admin.       divorced   750\n",
            " 2 admin.       married   2693\n",
            " 3 admin.       single    1728\n",
            " 4 blue-collar  divorced   750\n",
            " 5 blue-collar  married   6968\n",
            " 6 blue-collar  single    2014\n",
            " 7 entrepreneur divorced   179\n",
            " 8 entrepreneur married   1070\n",
            " 9 entrepreneur single     238\n",
            "10 housemaid    divorced   184\n",
            "# … with 26 more rows\n"
          ],
          "name": "stdout"
        }
      ]
    },
    {
      "cell_type": "code",
      "metadata": {
        "id": "GGJvkD_Vaax2",
        "colab_type": "code",
        "colab": {
          "base_uri": "https://localhost:8080/",
          "height": 550
        },
        "outputId": "1d0a3c87-446f-4122-de77-ba1197f343e5"
      },
      "source": [
        "%%R\n",
        "# Uma visualização da combinação de ocupação e estado civil\n",
        "dataset_bank %>% \n",
        "  group_by(job, marital) %>%\n",
        "  summarise(n = n()) %>%\n",
        "\n",
        "  ggplot(aes(x = job, y = n, fill = marital))+\n",
        "  geom_bar(stat = \"identity\", position = \"dodge\") +\n",
        "  theme(axis.text.x = element_text(angle = 90, hjust = 1))"
      ],
      "execution_count": 23,
      "outputs": [
        {
          "output_type": "stream",
          "text": [
            "R[write to console]: `summarise()` regrouping output by 'job' (override with `.groups` argument)\n",
            "\n"
          ],
          "name": "stderr"
        },
        {
          "output_type": "display_data",
          "data": {
            "image/png": "[encoded data removed]"
          },
          "metadata": {
            "tags": []
          }
        }
      ]
    },
    {
      "cell_type": "markdown",
      "metadata": {
        "id": "AnuVabwkwxE9",
        "colab_type": "text"
      },
      "source": [
        "O nosso trabalho agora é fazer a junção, criar novas variáveis do tipo dummy que representem a informação das combinações feitas acima. "
      ]
    },
    {
      "cell_type": "markdown",
      "metadata": {
        "id": "b348BroSxTRH",
        "colab_type": "text"
      },
      "source": [
        "##Representação numérica de Job *vs* Marital com dummyvars()"
      ]
    },
    {
      "cell_type": "code",
      "metadata": {
        "id": "LsjDLV0OalVG",
        "colab_type": "code",
        "colab": {}
      },
      "source": [
        "%%R\n",
        "# Uma avaliação que geralmente é muito mais fácil de interpretar\n",
        "\n",
        "# criar um novo conjunto de dados \"dmy\" com dummyvars\n",
        "\n",
        "dmy <- dummyVars( ~ job:marital, # diferente de antes, indicamos apenas as duas variáveis\n",
        "                 data = dataset_bank) # dataset"
      ],
      "execution_count": 0,
      "outputs": []
    },
    {
      "cell_type": "code",
      "metadata": {
        "id": "E1YHFh2uxoSE",
        "colab_type": "code",
        "colab": {
          "base_uri": "https://localhost:8080/",
          "height": 1000
        },
        "outputId": "1c6a32ee-2df8-4dfb-b19c-a7408f0efe19"
      },
      "source": [
        "%%R\n",
        "bank.cross <- predict(dmy, \n",
        "                      newdata = dataset_bank)\n",
        "\n",
        "# View(bank.cross)\n",
        "head(bank.cross)"
      ],
      "execution_count": 25,
      "outputs": [
        {
          "output_type": "stream",
          "text": [
            "  jobadmin.:maritaldivorced jobblue-collar:maritaldivorced\n",
            "1                         0                              0\n",
            "2                         0                              0\n",
            "3                         0                              0\n",
            "4                         0                              0\n",
            "5                         0                              0\n",
            "6                         0                              0\n",
            "  jobentrepreneur:maritaldivorced jobhousemaid:maritaldivorced\n",
            "1                               0                            0\n",
            "2                               0                            0\n",
            "3                               0                            0\n",
            "4                               0                            0\n",
            "5                               0                            0\n",
            "6                               0                            0\n",
            "  jobmanagement:maritaldivorced jobretired:maritaldivorced\n",
            "1                             0                          0\n",
            "2                             0                          0\n",
            "3                             0                          0\n",
            "4                             0                          0\n",
            "5                             0                          0\n",
            "6                             0                          0\n",
            "  jobself-employed:maritaldivorced jobservices:maritaldivorced\n",
            "1                                0                           0\n",
            "2                                0                           0\n",
            "3                                0                           0\n",
            "4                                0                           0\n",
            "5                                0                           0\n",
            "6                                0                           0\n",
            "  jobstudent:maritaldivorced jobtechnician:maritaldivorced\n",
            "1                          0                             0\n",
            "2                          0                             0\n",
            "3                          0                             0\n",
            "4                          0                             0\n",
            "5                          0                             0\n",
            "6                          0                             0\n",
            "  jobunemployed:maritaldivorced jobunknown:maritaldivorced\n",
            "1                             0                          0\n",
            "2                             0                          0\n",
            "3                             0                          0\n",
            "4                             0                          0\n",
            "5                             0                          0\n",
            "6                             0                          0\n",
            "  jobadmin.:maritalmarried jobblue-collar:maritalmarried\n",
            "1                        0                             0\n",
            "2                        0                             0\n",
            "3                        0                             0\n",
            "4                        0                             1\n",
            "5                        0                             0\n",
            "6                        0                             0\n",
            "  jobentrepreneur:maritalmarried jobhousemaid:maritalmarried\n",
            "1                              0                           0\n",
            "2                              0                           0\n",
            "3                              1                           0\n",
            "4                              0                           0\n",
            "5                              0                           0\n",
            "6                              0                           0\n",
            "  jobmanagement:maritalmarried jobretired:maritalmarried\n",
            "1                            1                         0\n",
            "2                            0                         0\n",
            "3                            0                         0\n",
            "4                            0                         0\n",
            "5                            0                         0\n",
            "6                            1                         0\n",
            "  jobself-employed:maritalmarried jobservices:maritalmarried\n",
            "1                               0                          0\n",
            "2                               0                          0\n",
            "3                               0                          0\n",
            "4                               0                          0\n",
            "5                               0                          0\n",
            "6                               0                          0\n",
            "  jobstudent:maritalmarried jobtechnician:maritalmarried\n",
            "1                         0                            0\n",
            "2                         0                            0\n",
            "3                         0                            0\n",
            "4                         0                            0\n",
            "5                         0                            0\n",
            "6                         0                            0\n",
            "  jobunemployed:maritalmarried jobunknown:maritalmarried\n",
            "1                            0                         0\n",
            "2                            0                         0\n",
            "3                            0                         0\n",
            "4                            0                         0\n",
            "5                            0                         0\n",
            "6                            0                         0\n",
            "  jobadmin.:maritalsingle jobblue-collar:maritalsingle\n",
            "1                       0                            0\n",
            "2                       0                            0\n",
            "3                       0                            0\n",
            "4                       0                            0\n",
            "5                       0                            0\n",
            "6                       0                            0\n",
            "  jobentrepreneur:maritalsingle jobhousemaid:maritalsingle\n",
            "1                             0                          0\n",
            "2                             0                          0\n",
            "3                             0                          0\n",
            "4                             0                          0\n",
            "5                             0                          0\n",
            "6                             0                          0\n",
            "  jobmanagement:maritalsingle jobretired:maritalsingle\n",
            "1                           0                        0\n",
            "2                           0                        0\n",
            "3                           0                        0\n",
            "4                           0                        0\n",
            "5                           0                        0\n",
            "6                           0                        0\n",
            "  jobself-employed:maritalsingle jobservices:maritalsingle\n",
            "1                              0                         0\n",
            "2                              0                         0\n",
            "3                              0                         0\n",
            "4                              0                         0\n",
            "5                              0                         0\n",
            "6                              0                         0\n",
            "  jobstudent:maritalsingle jobtechnician:maritalsingle\n",
            "1                        0                           0\n",
            "2                        0                           1\n",
            "3                        0                           0\n",
            "4                        0                           0\n",
            "5                        0                           0\n",
            "6                        0                           0\n",
            "  jobunemployed:maritalsingle jobunknown:maritalsingle\n",
            "1                           0                        0\n",
            "2                           0                        0\n",
            "3                           0                        0\n",
            "4                           0                        0\n",
            "5                           0                        1\n",
            "6                           0                        0\n"
          ],
          "name": "stdout"
        }
      ]
    },
    {
      "cell_type": "markdown",
      "metadata": {
        "id": "UOyO0qDQat7C",
        "colab_type": "text"
      },
      "source": [
        "- Devemos lembrar de que, ao combinar diversas variáveis, podemos ter alguns desses novos valores muito esparsos. \n",
        "\n",
        "- Revisar as saídas e se necessário aplicar alguma outra técnica mencionada anteriormente.\n",
        "\n"
      ]
    },
    {
      "cell_type": "markdown",
      "metadata": {
        "id": "2bZPfe5ha_SG",
        "colab_type": "text"
      },
      "source": [
        "##**Conclusão**"
      ]
    },
    {
      "cell_type": "markdown",
      "metadata": {
        "id": "-QFDUdzHbDZ4",
        "colab_type": "text"
      },
      "source": [
        "- Existem muitos métodos adicionais que podem ser usados para variáveis numéricas e combinações de numérico e categórico.\n",
        "\n",
        "- Podemos usar o **PCA**, entre outras formas, para **melhorar o poder preditivo das variáveis explicativas.**\n"
      ]
    }
  ]
}